{
 "cells": [
  {
   "attachments": {},
   "cell_type": "markdown",
   "metadata": {},
   "source": [
    "# **China Plotly Dash**\n",
    "\n",
    "---"
   ]
  },
  {
   "attachments": {},
   "cell_type": "markdown",
   "metadata": {},
   "source": [
    "# `01` Fetch Data"
   ]
  },
  {
   "attachments": {},
   "cell_type": "markdown",
   "metadata": {},
   "source": [
    "### `i` Import Necessary Libraries"
   ]
  },
  {
   "cell_type": "code",
   "execution_count": 2,
   "metadata": {},
   "outputs": [],
   "source": [
    "\n",
    "import requests # to make HTTP requests\n",
    "import json # to handle JSON files\n",
    "import pandas as pd # to handle dataframes\n",
    "import matplotlib.pyplot as plt # to make plots\n",
    "# fetch from http page\n",
    "import requests\n",
    "# plotly\n",
    "import plotly.graph_objects as go\n",
    "import plotly.express as px\n",
    "import plotly.io as pio\n",
    "# jupyter-dash\n",
    "from jupyter_dash import JupyterDash\n",
    "# html\n",
    "from dash import html\n",
    "\n",
    "\n",
    "\n"
   ]
  },
  {
   "attachments": {},
   "cell_type": "markdown",
   "metadata": {},
   "source": [
    "### `ii` Api Fetch "
   ]
  },
  {
   "cell_type": "code",
   "execution_count": 3,
   "metadata": {},
   "outputs": [],
   "source": [
    "\n",
    "popualtion = pd.read_csv(\"Data-2/china-population-2023-04-02.csv\")\n",
    "birth_rate = pd.read_csv(\"Data-2/birth_rate.csv\")\n",
    "death_rate = pd.read_csv(\"Data-2/death_rate.csv\")\n",
    "life_expectancy = pd.read_csv(\"Data-2/life_exp.csv\")\n",
    "density = pd.read_csv(\"Data-2/dentsity.csv\")\n"
   ]
  },
  {
   "attachments": {},
   "cell_type": "markdown",
   "metadata": {},
   "source": [
    "### `iii` EDA"
   ]
  },
  {
   "cell_type": "code",
   "execution_count": 4,
   "metadata": {},
   "outputs": [],
   "source": [
    "df_list = [popualtion, birth_rate, death_rate, life_expectancy, density]"
   ]
  },
  {
   "cell_type": "code",
   "execution_count": 5,
   "metadata": {},
   "outputs": [
    {
     "name": "stdout",
     "output_type": "stream",
     "text": [
      "Date range match\n"
     ]
    },
    {
     "data": {
      "text/plain": [
       "True"
      ]
     },
     "execution_count": 5,
     "metadata": {},
     "output_type": "execute_result"
    }
   ],
   "source": [
    "# check if data have same date range\n",
    "def check_date_range(list_of_df):\n",
    "    for i in range(len(list_of_df)):\n",
    "        for j in range(len(list_of_df)):\n",
    "            if list_of_df[i].columns[0] != list_of_df[j].columns[0]:\n",
    "                print(\"Date range not match\")\n",
    "                return False\n",
    "    print(\"Date range match\")\n",
    "    return True\n",
    "check_date_range([popualtion, birth_rate, death_rate, life_expectancy, density])"
   ]
  },
  {
   "cell_type": "code",
   "execution_count": 6,
   "metadata": {},
   "outputs": [
    {
     "name": "stdout",
     "output_type": "stream",
     "text": [
      "length of date is 151\n",
      "length of date is 151\n",
      "length of date is 151\n",
      "length of date is 151\n",
      "length of date is 151\n"
     ]
    }
   ],
   "source": [
    "#check  of if all data has same length\n",
    "def check_length(df_list):\n",
    "    for df in df_list:\n",
    "        print(\"length of \" + df.columns[0] + \" is \" + str(len(df)))\n",
    "\n",
    "check_length(df_list)        "
   ]
  },
  {
   "cell_type": "code",
   "execution_count": 7,
   "metadata": {},
   "outputs": [
    {
     "name": "stdout",
     "output_type": "stream",
     "text": [
      "Index(['date', ' Population', ' Annual Growth Rate'], dtype='object')\n",
      "\n",
      "Index(['date', ' Births per 1000 People', ' Annual % Change'], dtype='object')\n",
      "\n",
      "Index(['date', ' Deaths per 1000 People', ' Annual % Change'], dtype='object')\n",
      "\n",
      "Index(['date', ' Life Expectancy from Birth (Years)', ' Annual % Change'], dtype='object')\n",
      "\n",
      "Index(['date', ' Population per Square KM', ' Annual % Change'], dtype='object')\n",
      "\n"
     ]
    }
   ],
   "source": [
    "#print columns for all dataframes\n",
    "def print_columns(df_list):\n",
    "    for df in df_list:\n",
    "        print(df.columns)\n",
    "        print(\"\")\n",
    "        \n",
    "print_columns(df_list)   "
   ]
  },
  {
   "cell_type": "code",
   "execution_count": 8,
   "metadata": {},
   "outputs": [
    {
     "name": "stdout",
     "output_type": "stream",
     "text": [
      "Column name not found in  Population\n",
      "Column name changed to  Births per 1000 PeopleAnnual Change in  Births per 1000 People\n",
      "Column name changed to  Deaths per 1000 PeopleAnnual Change in  Deaths per 1000 People\n",
      "Column name changed to  Life Expectancy from Birth (Years)Annual Change in  Life Expectancy from Birth (Years)\n",
      "Column name changed to  Population per Square KMAnnual Change in  Population per Square KM\n"
     ]
    }
   ],
   "source": [
    "# we found every data has column named Annual % Change and we want to change the name of this column to the name of the dataframe\n",
    "def change_column_name(df_list):\n",
    "    for df in df_list:\n",
    "        if ' Annual % Change' in df.columns:\n",
    "            df.rename(columns={' Annual % Change': df.columns[1] + \" Annual Change\"}, inplace=True)\n",
    "            print(\"Column name changed to \" + df.columns[1] + \"Annual Change in \" + df.columns[1])\n",
    "        else:\n",
    "            print(\"Column name not found in \" + df.columns[1])    \n",
    "    return df_list\n",
    "\n",
    "df_list = change_column_name(df_list)\n",
    "        \n"
   ]
  },
  {
   "cell_type": "code",
   "execution_count": 9,
   "metadata": {},
   "outputs": [],
   "source": [
    "# merge dataframes\n",
    "def merge_df(df_list):\n",
    "    df = df_list[0]\n",
    "    for i in range(1, len(df_list)):\n",
    "        df = df.merge(df_list[i], on='date')\n",
    "    return df\n",
    "\n",
    "merged = merge_df(df_list)"
   ]
  },
  {
   "cell_type": "code",
   "execution_count": 10,
   "metadata": {},
   "outputs": [
    {
     "data": {
      "text/html": [
       "<div>\n",
       "<style scoped>\n",
       "    .dataframe tbody tr th:only-of-type {\n",
       "        vertical-align: middle;\n",
       "    }\n",
       "\n",
       "    .dataframe tbody tr th {\n",
       "        vertical-align: top;\n",
       "    }\n",
       "\n",
       "    .dataframe thead th {\n",
       "        text-align: right;\n",
       "    }\n",
       "</style>\n",
       "<table border=\"1\" class=\"dataframe\">\n",
       "  <thead>\n",
       "    <tr style=\"text-align: right;\">\n",
       "      <th></th>\n",
       "      <th>date</th>\n",
       "      <th>Population</th>\n",
       "      <th>Annual Growth Rate</th>\n",
       "      <th>Births per 1000 People</th>\n",
       "      <th>Births per 1000 People Annual Change</th>\n",
       "      <th>Deaths per 1000 People</th>\n",
       "      <th>Deaths per 1000 People Annual Change</th>\n",
       "      <th>Life Expectancy from Birth (Years)</th>\n",
       "      <th>Life Expectancy from Birth (Years) Annual Change</th>\n",
       "      <th>Population per Square KM</th>\n",
       "      <th>Population per Square KM Annual Change</th>\n",
       "    </tr>\n",
       "  </thead>\n",
       "  <tbody>\n",
       "    <tr>\n",
       "      <th>0</th>\n",
       "      <td>12/31/1950</td>\n",
       "      <td>543979233</td>\n",
       "      <td>NaN</td>\n",
       "      <td>46.133</td>\n",
       "      <td>NaN</td>\n",
       "      <td>23.366</td>\n",
       "      <td>NaN</td>\n",
       "      <td>43.446</td>\n",
       "      <td>NaN</td>\n",
       "      <td>56.664440</td>\n",
       "      <td>NaN</td>\n",
       "    </tr>\n",
       "    <tr>\n",
       "      <th>1</th>\n",
       "      <td>12/31/1951</td>\n",
       "      <td>553613988</td>\n",
       "      <td>1.77</td>\n",
       "      <td>44.921</td>\n",
       "      <td>-2.63</td>\n",
       "      <td>23.106</td>\n",
       "      <td>-1.11</td>\n",
       "      <td>43.574</td>\n",
       "      <td>0.29</td>\n",
       "      <td>57.668059</td>\n",
       "      <td>1.77</td>\n",
       "    </tr>\n",
       "    <tr>\n",
       "      <th>2</th>\n",
       "      <td>12/31/1952</td>\n",
       "      <td>564954522</td>\n",
       "      <td>2.05</td>\n",
       "      <td>43.710</td>\n",
       "      <td>-2.70</td>\n",
       "      <td>22.845</td>\n",
       "      <td>-1.13</td>\n",
       "      <td>43.702</td>\n",
       "      <td>0.29</td>\n",
       "      <td>58.849363</td>\n",
       "      <td>2.05</td>\n",
       "    </tr>\n",
       "    <tr>\n",
       "      <th>3</th>\n",
       "      <td>12/31/1953</td>\n",
       "      <td>577378682</td>\n",
       "      <td>2.20</td>\n",
       "      <td>42.498</td>\n",
       "      <td>-2.77</td>\n",
       "      <td>22.585</td>\n",
       "      <td>-1.14</td>\n",
       "      <td>43.830</td>\n",
       "      <td>0.29</td>\n",
       "      <td>60.143545</td>\n",
       "      <td>2.20</td>\n",
       "    </tr>\n",
       "    <tr>\n",
       "      <th>4</th>\n",
       "      <td>12/31/1954</td>\n",
       "      <td>589936004</td>\n",
       "      <td>2.17</td>\n",
       "      <td>41.286</td>\n",
       "      <td>-2.85</td>\n",
       "      <td>22.325</td>\n",
       "      <td>-1.15</td>\n",
       "      <td>43.958</td>\n",
       "      <td>0.29</td>\n",
       "      <td>61.451598</td>\n",
       "      <td>2.17</td>\n",
       "    </tr>\n",
       "  </tbody>\n",
       "</table>\n",
       "</div>"
      ],
      "text/plain": [
       "         date   Population   Annual Growth Rate   Births per 1000 People  \\\n",
       "0  12/31/1950    543979233                  NaN                   46.133   \n",
       "1  12/31/1951    553613988                 1.77                   44.921   \n",
       "2  12/31/1952    564954522                 2.05                   43.710   \n",
       "3  12/31/1953    577378682                 2.20                   42.498   \n",
       "4  12/31/1954    589936004                 2.17                   41.286   \n",
       "\n",
       "    Births per 1000 People Annual Change   Deaths per 1000 People  \\\n",
       "0                                    NaN                   23.366   \n",
       "1                                  -2.63                   23.106   \n",
       "2                                  -2.70                   22.845   \n",
       "3                                  -2.77                   22.585   \n",
       "4                                  -2.85                   22.325   \n",
       "\n",
       "    Deaths per 1000 People Annual Change   Life Expectancy from Birth (Years)  \\\n",
       "0                                    NaN                               43.446   \n",
       "1                                  -1.11                               43.574   \n",
       "2                                  -1.13                               43.702   \n",
       "3                                  -1.14                               43.830   \n",
       "4                                  -1.15                               43.958   \n",
       "\n",
       "    Life Expectancy from Birth (Years) Annual Change  \\\n",
       "0                                                NaN   \n",
       "1                                               0.29   \n",
       "2                                               0.29   \n",
       "3                                               0.29   \n",
       "4                                               0.29   \n",
       "\n",
       "    Population per Square KM   Population per Square KM Annual Change  \n",
       "0                  56.664440                                      NaN  \n",
       "1                  57.668059                                     1.77  \n",
       "2                  58.849363                                     2.05  \n",
       "3                  60.143545                                     2.20  \n",
       "4                  61.451598                                     2.17  "
      ]
     },
     "execution_count": 10,
     "metadata": {},
     "output_type": "execute_result"
    }
   ],
   "source": [
    "merged.head()"
   ]
  },
  {
   "cell_type": "code",
   "execution_count": 11,
   "metadata": {},
   "outputs": [],
   "source": [
    "# as we start from 1950 the change rate with NaN  ,so we fill them with 0\n",
    "merged.fillna(0, inplace=True)"
   ]
  },
  {
   "cell_type": "code",
   "execution_count": 12,
   "metadata": {},
   "outputs": [],
   "source": [
    "#save merged data to csv\n",
    "merged.to_csv(\"merged.csv\", index=False)"
   ]
  },
  {
   "cell_type": "code",
   "execution_count": 13,
   "metadata": {},
   "outputs": [
    {
     "data": {
      "text/html": [
       "<div>\n",
       "<style scoped>\n",
       "    .dataframe tbody tr th:only-of-type {\n",
       "        vertical-align: middle;\n",
       "    }\n",
       "\n",
       "    .dataframe tbody tr th {\n",
       "        vertical-align: top;\n",
       "    }\n",
       "\n",
       "    .dataframe thead th {\n",
       "        text-align: right;\n",
       "    }\n",
       "</style>\n",
       "<table border=\"1\" class=\"dataframe\">\n",
       "  <thead>\n",
       "    <tr style=\"text-align: right;\">\n",
       "      <th></th>\n",
       "      <th>date</th>\n",
       "      <th>Population</th>\n",
       "      <th>Annual Growth Rate</th>\n",
       "      <th>Births per 1000 People</th>\n",
       "      <th>Births per 1000 People Annual Change</th>\n",
       "      <th>Deaths per 1000 People</th>\n",
       "      <th>Deaths per 1000 People Annual Change</th>\n",
       "      <th>Life Expectancy from Birth (Years)</th>\n",
       "      <th>Life Expectancy from Birth (Years) Annual Change</th>\n",
       "      <th>Population per Square KM</th>\n",
       "      <th>Population per Square KM Annual Change</th>\n",
       "    </tr>\n",
       "  </thead>\n",
       "  <tbody>\n",
       "    <tr>\n",
       "      <th>0</th>\n",
       "      <td>12/31/1950</td>\n",
       "      <td>543979233</td>\n",
       "      <td>0.00</td>\n",
       "      <td>46.133</td>\n",
       "      <td>0.00</td>\n",
       "      <td>23.366</td>\n",
       "      <td>0.00</td>\n",
       "      <td>43.446</td>\n",
       "      <td>0.00</td>\n",
       "      <td>56.664440</td>\n",
       "      <td>0.00</td>\n",
       "    </tr>\n",
       "    <tr>\n",
       "      <th>1</th>\n",
       "      <td>12/31/1951</td>\n",
       "      <td>553613988</td>\n",
       "      <td>1.77</td>\n",
       "      <td>44.921</td>\n",
       "      <td>-2.63</td>\n",
       "      <td>23.106</td>\n",
       "      <td>-1.11</td>\n",
       "      <td>43.574</td>\n",
       "      <td>0.29</td>\n",
       "      <td>57.668059</td>\n",
       "      <td>1.77</td>\n",
       "    </tr>\n",
       "    <tr>\n",
       "      <th>2</th>\n",
       "      <td>12/31/1952</td>\n",
       "      <td>564954522</td>\n",
       "      <td>2.05</td>\n",
       "      <td>43.710</td>\n",
       "      <td>-2.70</td>\n",
       "      <td>22.845</td>\n",
       "      <td>-1.13</td>\n",
       "      <td>43.702</td>\n",
       "      <td>0.29</td>\n",
       "      <td>58.849363</td>\n",
       "      <td>2.05</td>\n",
       "    </tr>\n",
       "    <tr>\n",
       "      <th>3</th>\n",
       "      <td>12/31/1953</td>\n",
       "      <td>577378682</td>\n",
       "      <td>2.20</td>\n",
       "      <td>42.498</td>\n",
       "      <td>-2.77</td>\n",
       "      <td>22.585</td>\n",
       "      <td>-1.14</td>\n",
       "      <td>43.830</td>\n",
       "      <td>0.29</td>\n",
       "      <td>60.143545</td>\n",
       "      <td>2.20</td>\n",
       "    </tr>\n",
       "    <tr>\n",
       "      <th>4</th>\n",
       "      <td>12/31/1954</td>\n",
       "      <td>589936004</td>\n",
       "      <td>2.17</td>\n",
       "      <td>41.286</td>\n",
       "      <td>-2.85</td>\n",
       "      <td>22.325</td>\n",
       "      <td>-1.15</td>\n",
       "      <td>43.958</td>\n",
       "      <td>0.29</td>\n",
       "      <td>61.451598</td>\n",
       "      <td>2.17</td>\n",
       "    </tr>\n",
       "    <tr>\n",
       "      <th>...</th>\n",
       "      <td>...</td>\n",
       "      <td>...</td>\n",
       "      <td>...</td>\n",
       "      <td>...</td>\n",
       "      <td>...</td>\n",
       "      <td>...</td>\n",
       "      <td>...</td>\n",
       "      <td>...</td>\n",
       "      <td>...</td>\n",
       "      <td>...</td>\n",
       "      <td>...</td>\n",
       "    </tr>\n",
       "    <tr>\n",
       "      <th>146</th>\n",
       "      <td>12/31/2096</td>\n",
       "      <td>804153594</td>\n",
       "      <td>-1.18</td>\n",
       "      <td>8.864</td>\n",
       "      <td>-0.06</td>\n",
       "      <td>13.646</td>\n",
       "      <td>-0.20</td>\n",
       "      <td>87.398</td>\n",
       "      <td>0.12</td>\n",
       "      <td>83.765905</td>\n",
       "      <td>-1.18</td>\n",
       "    </tr>\n",
       "    <tr>\n",
       "      <th>147</th>\n",
       "      <td>12/31/2097</td>\n",
       "      <td>794673479</td>\n",
       "      <td>-1.18</td>\n",
       "      <td>8.858</td>\n",
       "      <td>-0.07</td>\n",
       "      <td>13.620</td>\n",
       "      <td>-0.19</td>\n",
       "      <td>87.504</td>\n",
       "      <td>0.12</td>\n",
       "      <td>82.778394</td>\n",
       "      <td>-1.18</td>\n",
       "    </tr>\n",
       "    <tr>\n",
       "      <th>148</th>\n",
       "      <td>12/31/2098</td>\n",
       "      <td>785270314</td>\n",
       "      <td>-1.18</td>\n",
       "      <td>8.853</td>\n",
       "      <td>-0.06</td>\n",
       "      <td>13.594</td>\n",
       "      <td>-0.19</td>\n",
       "      <td>87.610</td>\n",
       "      <td>0.12</td>\n",
       "      <td>81.798899</td>\n",
       "      <td>-1.18</td>\n",
       "    </tr>\n",
       "    <tr>\n",
       "      <th>149</th>\n",
       "      <td>12/31/2099</td>\n",
       "      <td>775944429</td>\n",
       "      <td>-1.19</td>\n",
       "      <td>8.848</td>\n",
       "      <td>-0.06</td>\n",
       "      <td>13.568</td>\n",
       "      <td>-0.19</td>\n",
       "      <td>87.716</td>\n",
       "      <td>0.12</td>\n",
       "      <td>80.827454</td>\n",
       "      <td>-1.19</td>\n",
       "    </tr>\n",
       "    <tr>\n",
       "      <th>150</th>\n",
       "      <td>12/31/2100</td>\n",
       "      <td>766673270</td>\n",
       "      <td>-1.19</td>\n",
       "      <td>8.842</td>\n",
       "      <td>-0.07</td>\n",
       "      <td>13.542</td>\n",
       "      <td>-0.19</td>\n",
       "      <td>87.822</td>\n",
       "      <td>0.12</td>\n",
       "      <td>79.861709</td>\n",
       "      <td>-1.19</td>\n",
       "    </tr>\n",
       "  </tbody>\n",
       "</table>\n",
       "<p>151 rows × 11 columns</p>\n",
       "</div>"
      ],
      "text/plain": [
       "           date   Population   Annual Growth Rate   Births per 1000 People  \\\n",
       "0    12/31/1950    543979233                 0.00                   46.133   \n",
       "1    12/31/1951    553613988                 1.77                   44.921   \n",
       "2    12/31/1952    564954522                 2.05                   43.710   \n",
       "3    12/31/1953    577378682                 2.20                   42.498   \n",
       "4    12/31/1954    589936004                 2.17                   41.286   \n",
       "..          ...          ...                  ...                      ...   \n",
       "146  12/31/2096    804153594                -1.18                    8.864   \n",
       "147  12/31/2097    794673479                -1.18                    8.858   \n",
       "148  12/31/2098    785270314                -1.18                    8.853   \n",
       "149  12/31/2099    775944429                -1.19                    8.848   \n",
       "150  12/31/2100    766673270                -1.19                    8.842   \n",
       "\n",
       "      Births per 1000 People Annual Change   Deaths per 1000 People  \\\n",
       "0                                     0.00                   23.366   \n",
       "1                                    -2.63                   23.106   \n",
       "2                                    -2.70                   22.845   \n",
       "3                                    -2.77                   22.585   \n",
       "4                                    -2.85                   22.325   \n",
       "..                                     ...                      ...   \n",
       "146                                  -0.06                   13.646   \n",
       "147                                  -0.07                   13.620   \n",
       "148                                  -0.06                   13.594   \n",
       "149                                  -0.06                   13.568   \n",
       "150                                  -0.07                   13.542   \n",
       "\n",
       "      Deaths per 1000 People Annual Change  \\\n",
       "0                                     0.00   \n",
       "1                                    -1.11   \n",
       "2                                    -1.13   \n",
       "3                                    -1.14   \n",
       "4                                    -1.15   \n",
       "..                                     ...   \n",
       "146                                  -0.20   \n",
       "147                                  -0.19   \n",
       "148                                  -0.19   \n",
       "149                                  -0.19   \n",
       "150                                  -0.19   \n",
       "\n",
       "      Life Expectancy from Birth (Years)  \\\n",
       "0                                 43.446   \n",
       "1                                 43.574   \n",
       "2                                 43.702   \n",
       "3                                 43.830   \n",
       "4                                 43.958   \n",
       "..                                   ...   \n",
       "146                               87.398   \n",
       "147                               87.504   \n",
       "148                               87.610   \n",
       "149                               87.716   \n",
       "150                               87.822   \n",
       "\n",
       "      Life Expectancy from Birth (Years) Annual Change  \\\n",
       "0                                                 0.00   \n",
       "1                                                 0.29   \n",
       "2                                                 0.29   \n",
       "3                                                 0.29   \n",
       "4                                                 0.29   \n",
       "..                                                 ...   \n",
       "146                                               0.12   \n",
       "147                                               0.12   \n",
       "148                                               0.12   \n",
       "149                                               0.12   \n",
       "150                                               0.12   \n",
       "\n",
       "      Population per Square KM   Population per Square KM Annual Change  \n",
       "0                    56.664440                                     0.00  \n",
       "1                    57.668059                                     1.77  \n",
       "2                    58.849363                                     2.05  \n",
       "3                    60.143545                                     2.20  \n",
       "4                    61.451598                                     2.17  \n",
       "..                         ...                                      ...  \n",
       "146                  83.765905                                    -1.18  \n",
       "147                  82.778394                                    -1.18  \n",
       "148                  81.798899                                    -1.18  \n",
       "149                  80.827454                                    -1.19  \n",
       "150                  79.861709                                    -1.19  \n",
       "\n",
       "[151 rows x 11 columns]"
      ]
     },
     "execution_count": 13,
     "metadata": {},
     "output_type": "execute_result"
    }
   ],
   "source": [
    "merged"
   ]
  },
  {
   "cell_type": "code",
   "execution_count": 14,
   "metadata": {},
   "outputs": [
    {
     "data": {
      "text/html": [
       "<div>\n",
       "<style scoped>\n",
       "    .dataframe tbody tr th:only-of-type {\n",
       "        vertical-align: middle;\n",
       "    }\n",
       "\n",
       "    .dataframe tbody tr th {\n",
       "        vertical-align: top;\n",
       "    }\n",
       "\n",
       "    .dataframe thead th {\n",
       "        text-align: right;\n",
       "    }\n",
       "</style>\n",
       "<table border=\"1\" class=\"dataframe\">\n",
       "  <thead>\n",
       "    <tr style=\"text-align: right;\">\n",
       "      <th></th>\n",
       "      <th>date</th>\n",
       "      <th>Population</th>\n",
       "      <th>Annual Growth Rate</th>\n",
       "      <th>Births per 1000 People</th>\n",
       "      <th>Births per 1000 People Annual Change</th>\n",
       "      <th>Deaths per 1000 People</th>\n",
       "      <th>Deaths per 1000 People Annual Change</th>\n",
       "      <th>Life Expectancy from Birth (Years)</th>\n",
       "      <th>Life Expectancy from Birth (Years) Annual Change</th>\n",
       "      <th>Population per Square KM</th>\n",
       "      <th>Population per Square KM Annual Change</th>\n",
       "    </tr>\n",
       "  </thead>\n",
       "  <tbody>\n",
       "    <tr>\n",
       "      <th>0</th>\n",
       "      <td>1950</td>\n",
       "      <td>543979233</td>\n",
       "      <td>0.00</td>\n",
       "      <td>46.133</td>\n",
       "      <td>0.00</td>\n",
       "      <td>23.366</td>\n",
       "      <td>0.00</td>\n",
       "      <td>43.446</td>\n",
       "      <td>0.00</td>\n",
       "      <td>56.664440</td>\n",
       "      <td>0.00</td>\n",
       "    </tr>\n",
       "    <tr>\n",
       "      <th>1</th>\n",
       "      <td>1951</td>\n",
       "      <td>553613988</td>\n",
       "      <td>1.77</td>\n",
       "      <td>44.921</td>\n",
       "      <td>-2.63</td>\n",
       "      <td>23.106</td>\n",
       "      <td>-1.11</td>\n",
       "      <td>43.574</td>\n",
       "      <td>0.29</td>\n",
       "      <td>57.668059</td>\n",
       "      <td>1.77</td>\n",
       "    </tr>\n",
       "    <tr>\n",
       "      <th>2</th>\n",
       "      <td>1952</td>\n",
       "      <td>564954522</td>\n",
       "      <td>2.05</td>\n",
       "      <td>43.710</td>\n",
       "      <td>-2.70</td>\n",
       "      <td>22.845</td>\n",
       "      <td>-1.13</td>\n",
       "      <td>43.702</td>\n",
       "      <td>0.29</td>\n",
       "      <td>58.849363</td>\n",
       "      <td>2.05</td>\n",
       "    </tr>\n",
       "    <tr>\n",
       "      <th>3</th>\n",
       "      <td>1953</td>\n",
       "      <td>577378682</td>\n",
       "      <td>2.20</td>\n",
       "      <td>42.498</td>\n",
       "      <td>-2.77</td>\n",
       "      <td>22.585</td>\n",
       "      <td>-1.14</td>\n",
       "      <td>43.830</td>\n",
       "      <td>0.29</td>\n",
       "      <td>60.143545</td>\n",
       "      <td>2.20</td>\n",
       "    </tr>\n",
       "    <tr>\n",
       "      <th>4</th>\n",
       "      <td>1954</td>\n",
       "      <td>589936004</td>\n",
       "      <td>2.17</td>\n",
       "      <td>41.286</td>\n",
       "      <td>-2.85</td>\n",
       "      <td>22.325</td>\n",
       "      <td>-1.15</td>\n",
       "      <td>43.958</td>\n",
       "      <td>0.29</td>\n",
       "      <td>61.451598</td>\n",
       "      <td>2.17</td>\n",
       "    </tr>\n",
       "  </tbody>\n",
       "</table>\n",
       "</div>"
      ],
      "text/plain": [
       "   date   Population   Annual Growth Rate   Births per 1000 People  \\\n",
       "0  1950    543979233                 0.00                   46.133   \n",
       "1  1951    553613988                 1.77                   44.921   \n",
       "2  1952    564954522                 2.05                   43.710   \n",
       "3  1953    577378682                 2.20                   42.498   \n",
       "4  1954    589936004                 2.17                   41.286   \n",
       "\n",
       "    Births per 1000 People Annual Change   Deaths per 1000 People  \\\n",
       "0                                   0.00                   23.366   \n",
       "1                                  -2.63                   23.106   \n",
       "2                                  -2.70                   22.845   \n",
       "3                                  -2.77                   22.585   \n",
       "4                                  -2.85                   22.325   \n",
       "\n",
       "    Deaths per 1000 People Annual Change   Life Expectancy from Birth (Years)  \\\n",
       "0                                   0.00                               43.446   \n",
       "1                                  -1.11                               43.574   \n",
       "2                                  -1.13                               43.702   \n",
       "3                                  -1.14                               43.830   \n",
       "4                                  -1.15                               43.958   \n",
       "\n",
       "    Life Expectancy from Birth (Years) Annual Change  \\\n",
       "0                                               0.00   \n",
       "1                                               0.29   \n",
       "2                                               0.29   \n",
       "3                                               0.29   \n",
       "4                                               0.29   \n",
       "\n",
       "    Population per Square KM   Population per Square KM Annual Change  \n",
       "0                  56.664440                                     0.00  \n",
       "1                  57.668059                                     1.77  \n",
       "2                  58.849363                                     2.05  \n",
       "3                  60.143545                                     2.20  \n",
       "4                  61.451598                                     2.17  "
      ]
     },
     "execution_count": 14,
     "metadata": {},
     "output_type": "execute_result"
    }
   ],
   "source": [
    "# convert date column to datetime and fromat from  12/31/2100\t to only year\n",
    "merged['date'] = pd.to_datetime(merged['date'])\n",
    "merged['date'] = merged['date'].dt.year\n",
    "merged.head()"
   ]
  },
  {
   "attachments": {},
   "cell_type": "markdown",
   "metadata": {},
   "source": [
    "### Amgad Data"
   ]
  },
  {
   "cell_type": "code",
   "execution_count": 15,
   "metadata": {},
   "outputs": [
    {
     "data": {
      "text/html": [
       "<div>\n",
       "<style scoped>\n",
       "    .dataframe tbody tr th:only-of-type {\n",
       "        vertical-align: middle;\n",
       "    }\n",
       "\n",
       "    .dataframe tbody tr th {\n",
       "        vertical-align: top;\n",
       "    }\n",
       "\n",
       "    .dataframe thead th {\n",
       "        text-align: right;\n",
       "    }\n",
       "</style>\n",
       "<table border=\"1\" class=\"dataframe\">\n",
       "  <thead>\n",
       "    <tr style=\"text-align: right;\">\n",
       "      <th></th>\n",
       "      <th>Year</th>\n",
       "      <th>Urban population (% of total population) [SP.URB.TOTL.IN.ZS]</th>\n",
       "      <th>Sex ratio at birth (male births per female births) [SP.POP.BRTH.MF]</th>\n",
       "      <th>Rural population (% of total population) [SP.RUR.TOTL.ZS]</th>\n",
       "      <th>Population, total [SP.POP.TOTL]</th>\n",
       "      <th>Population, male (% of total population) [SP.POP.TOTL.MA.ZS]</th>\n",
       "      <th>Population, female (% of total population) [SP.POP.TOTL.FE.ZS]</th>\n",
       "      <th>Population growth (annual %) [SP.POP.GROW]</th>\n",
       "      <th>Population ages 65 and above (% of total population) [SP.POP.65UP.TO.ZS]</th>\n",
       "      <th>Net migration [SM.POP.NETM]</th>\n",
       "      <th>Mortality rate, infant (per 1,000 live births) [SP.DYN.IMRT.IN]</th>\n",
       "      <th>Fertility rate, total (births per woman) [SP.DYN.TFRT.IN]</th>\n",
       "      <th>Death rate, crude (per 1,000 people) [SP.DYN.CDRT.IN]</th>\n",
       "      <th>Birth rate, crude (per 1,000 people) [SP.DYN.CBRT.IN]</th>\n",
       "      <th>Age dependency ratio (% of working-age population) [SP.POP.DPND]</th>\n",
       "    </tr>\n",
       "  </thead>\n",
       "  <tbody>\n",
       "    <tr>\n",
       "      <th>0</th>\n",
       "      <td>1969</td>\n",
       "      <td>17.528</td>\n",
       "      <td>1.063</td>\n",
       "      <td>82.472</td>\n",
       "      <td>796025000</td>\n",
       "      <td>50.959032</td>\n",
       "      <td>49.040968</td>\n",
       "      <td>2.74000210569558</td>\n",
       "      <td>3.687490</td>\n",
       "      <td>-72835</td>\n",
       "      <td>83.4</td>\n",
       "      <td>6.175</td>\n",
       "      <td>8.03</td>\n",
       "      <td>34.11</td>\n",
       "      <td>80.961979</td>\n",
       "    </tr>\n",
       "    <tr>\n",
       "      <th>1</th>\n",
       "      <td>1970</td>\n",
       "      <td>17.400</td>\n",
       "      <td>1.064</td>\n",
       "      <td>82.600</td>\n",
       "      <td>818315000</td>\n",
       "      <td>50.954552</td>\n",
       "      <td>49.045448</td>\n",
       "      <td>2.76167556645304</td>\n",
       "      <td>3.712521</td>\n",
       "      <td>-126514</td>\n",
       "      <td>79.7</td>\n",
       "      <td>6.085</td>\n",
       "      <td>7.6</td>\n",
       "      <td>33.43</td>\n",
       "      <td>80.524027</td>\n",
       "    </tr>\n",
       "    <tr>\n",
       "      <th>2</th>\n",
       "      <td>1971</td>\n",
       "      <td>17.292</td>\n",
       "      <td>1.064</td>\n",
       "      <td>82.708</td>\n",
       "      <td>841105000</td>\n",
       "      <td>50.952559</td>\n",
       "      <td>49.047441</td>\n",
       "      <td>2.74691554961857</td>\n",
       "      <td>3.743416</td>\n",
       "      <td>-180202</td>\n",
       "      <td>76</td>\n",
       "      <td>5.523</td>\n",
       "      <td>7.32</td>\n",
       "      <td>30.65</td>\n",
       "      <td>80.188208</td>\n",
       "    </tr>\n",
       "    <tr>\n",
       "      <th>3</th>\n",
       "      <td>1972</td>\n",
       "      <td>17.184</td>\n",
       "      <td>1.064</td>\n",
       "      <td>82.816</td>\n",
       "      <td>862030000</td>\n",
       "      <td>50.951571</td>\n",
       "      <td>49.048429</td>\n",
       "      <td>2.45735692952286</td>\n",
       "      <td>3.777798</td>\n",
       "      <td>-215730</td>\n",
       "      <td>72.5</td>\n",
       "      <td>5.112</td>\n",
       "      <td>7.61</td>\n",
       "      <td>29.77</td>\n",
       "      <td>79.481177</td>\n",
       "    </tr>\n",
       "    <tr>\n",
       "      <th>4</th>\n",
       "      <td>1973</td>\n",
       "      <td>17.184</td>\n",
       "      <td>1.064</td>\n",
       "      <td>82.816</td>\n",
       "      <td>881940000</td>\n",
       "      <td>50.950011</td>\n",
       "      <td>49.049989</td>\n",
       "      <td>2.28339536396383</td>\n",
       "      <td>3.821944</td>\n",
       "      <td>-215090</td>\n",
       "      <td>68.9</td>\n",
       "      <td>4.726</td>\n",
       "      <td>7.04</td>\n",
       "      <td>27.93</td>\n",
       "      <td>78.831239</td>\n",
       "    </tr>\n",
       "  </tbody>\n",
       "</table>\n",
       "</div>"
      ],
      "text/plain": [
       "   Year  Urban population (% of total population) [SP.URB.TOTL.IN.ZS]  \\\n",
       "0  1969                                             17.528              \n",
       "1  1970                                             17.400              \n",
       "2  1971                                             17.292              \n",
       "3  1972                                             17.184              \n",
       "4  1973                                             17.184              \n",
       "\n",
       "  Sex ratio at birth (male births per female births) [SP.POP.BRTH.MF]  \\\n",
       "0                                              1.063                    \n",
       "1                                              1.064                    \n",
       "2                                              1.064                    \n",
       "3                                              1.064                    \n",
       "4                                              1.064                    \n",
       "\n",
       "   Rural population (% of total population) [SP.RUR.TOTL.ZS]  \\\n",
       "0                                             82.472           \n",
       "1                                             82.600           \n",
       "2                                             82.708           \n",
       "3                                             82.816           \n",
       "4                                             82.816           \n",
       "\n",
       "   Population, total [SP.POP.TOTL]  \\\n",
       "0                        796025000   \n",
       "1                        818315000   \n",
       "2                        841105000   \n",
       "3                        862030000   \n",
       "4                        881940000   \n",
       "\n",
       "   Population, male (% of total population) [SP.POP.TOTL.MA.ZS]  \\\n",
       "0                                          50.959032              \n",
       "1                                          50.954552              \n",
       "2                                          50.952559              \n",
       "3                                          50.951571              \n",
       "4                                          50.950011              \n",
       "\n",
       "   Population, female (% of total population) [SP.POP.TOTL.FE.ZS]  \\\n",
       "0                                          49.040968                \n",
       "1                                          49.045448                \n",
       "2                                          49.047441                \n",
       "3                                          49.048429                \n",
       "4                                          49.049989                \n",
       "\n",
       "  Population growth (annual %) [SP.POP.GROW]  \\\n",
       "0                           2.74000210569558   \n",
       "1                           2.76167556645304   \n",
       "2                           2.74691554961857   \n",
       "3                           2.45735692952286   \n",
       "4                           2.28339536396383   \n",
       "\n",
       "   Population ages 65 and above (% of total population) [SP.POP.65UP.TO.ZS]  \\\n",
       "0                                           3.687490                          \n",
       "1                                           3.712521                          \n",
       "2                                           3.743416                          \n",
       "3                                           3.777798                          \n",
       "4                                           3.821944                          \n",
       "\n",
       "   Net migration [SM.POP.NETM]  \\\n",
       "0                       -72835   \n",
       "1                      -126514   \n",
       "2                      -180202   \n",
       "3                      -215730   \n",
       "4                      -215090   \n",
       "\n",
       "  Mortality rate, infant (per 1,000 live births) [SP.DYN.IMRT.IN]  \\\n",
       "0                                               83.4                \n",
       "1                                               79.7                \n",
       "2                                                 76                \n",
       "3                                               72.5                \n",
       "4                                               68.9                \n",
       "\n",
       "  Fertility rate, total (births per woman) [SP.DYN.TFRT.IN]  \\\n",
       "0                                              6.175          \n",
       "1                                              6.085          \n",
       "2                                              5.523          \n",
       "3                                              5.112          \n",
       "4                                              4.726          \n",
       "\n",
       "  Death rate, crude (per 1,000 people) [SP.DYN.CDRT.IN]  \\\n",
       "0                                               8.03      \n",
       "1                                                7.6      \n",
       "2                                               7.32      \n",
       "3                                               7.61      \n",
       "4                                               7.04      \n",
       "\n",
       "  Birth rate, crude (per 1,000 people) [SP.DYN.CBRT.IN]  \\\n",
       "0                                              34.11      \n",
       "1                                              33.43      \n",
       "2                                              30.65      \n",
       "3                                              29.77      \n",
       "4                                              27.93      \n",
       "\n",
       "   Age dependency ratio (% of working-age population) [SP.POP.DPND]  \n",
       "0                                          80.961979                 \n",
       "1                                          80.524027                 \n",
       "2                                          80.188208                 \n",
       "3                                          79.481177                 \n",
       "4                                          78.831239                 "
      ]
     },
     "execution_count": 15,
     "metadata": {},
     "output_type": "execute_result"
    }
   ],
   "source": [
    "df2 = pd.read_csv(\"Data-2/China demographics 1965-2050 (1).csv\")\n",
    "df2.head()"
   ]
  },
  {
   "cell_type": "code",
   "execution_count": 16,
   "metadata": {},
   "outputs": [
    {
     "data": {
      "text/plain": [
       "Index(['Year', 'Urban population (% of total population) [SP.URB.TOTL.IN.ZS]',\n",
       "       'Sex ratio at birth (male births per female births) [SP.POP.BRTH.MF]',\n",
       "       'Rural population (% of total population) [SP.RUR.TOTL.ZS]',\n",
       "       'Population, total [SP.POP.TOTL]',\n",
       "       'Population, male (% of total population) [SP.POP.TOTL.MA.ZS]',\n",
       "       'Population, female (% of total population) [SP.POP.TOTL.FE.ZS]',\n",
       "       'Population growth (annual %) [SP.POP.GROW]',\n",
       "       'Population ages 65 and above (% of total population) [SP.POP.65UP.TO.ZS]',\n",
       "       'Net migration [SM.POP.NETM]',\n",
       "       'Mortality rate, infant (per 1,000 live births) [SP.DYN.IMRT.IN]',\n",
       "       'Fertility rate, total (births per woman) [SP.DYN.TFRT.IN]',\n",
       "       'Death rate, crude (per 1,000 people) [SP.DYN.CDRT.IN]',\n",
       "       'Birth rate, crude (per 1,000 people) [SP.DYN.CBRT.IN]',\n",
       "       'Age dependency ratio (% of working-age population) [SP.POP.DPND]'],\n",
       "      dtype='object')"
      ]
     },
     "execution_count": 16,
     "metadata": {},
     "output_type": "execute_result"
    }
   ],
   "source": [
    "df2.columns # print columns"
   ]
  },
  {
   "cell_type": "code",
   "execution_count": 17,
   "metadata": {},
   "outputs": [
    {
     "name": "stdout",
     "output_type": "stream",
     "text": [
      "min year: 1969 max year: 2050\n"
     ]
    }
   ],
   "source": [
    "# range of years\n",
    "print(\"min year: \" + str(df2['Year'].min()), \"max year: \" + str(df2['Year'].max()))"
   ]
  },
  {
   "attachments": {},
   "cell_type": "markdown",
   "metadata": {},
   "source": [
    "### `Pyramid Data`"
   ]
  },
  {
   "cell_type": "code",
   "execution_count": 18,
   "metadata": {},
   "outputs": [],
   "source": [
    "pyramid_data =pd.read_excel(\"Data/china-population-pyramid-1960-2050.xls \", sheet_name=\"Data\") # sheet_name=\"Data\" to read only data"
   ]
  },
  {
   "cell_type": "code",
   "execution_count": 19,
   "metadata": {},
   "outputs": [
    {
     "data": {
      "text/html": [
       "<div>\n",
       "<style scoped>\n",
       "    .dataframe tbody tr th:only-of-type {\n",
       "        vertical-align: middle;\n",
       "    }\n",
       "\n",
       "    .dataframe tbody tr th {\n",
       "        vertical-align: top;\n",
       "    }\n",
       "\n",
       "    .dataframe thead th {\n",
       "        text-align: right;\n",
       "    }\n",
       "</style>\n",
       "<table border=\"1\" class=\"dataframe\">\n",
       "  <thead>\n",
       "    <tr style=\"text-align: right;\">\n",
       "      <th></th>\n",
       "      <th>Unnamed: 0</th>\n",
       "      <th>NaN</th>\n",
       "      <th>nan.1</th>\n",
       "      <th>nan.2</th>\n",
       "      <th>nan.3</th>\n",
       "      <th>nan.4</th>\n",
       "      <th>nan.5</th>\n",
       "      <th>nan.6</th>\n",
       "      <th>nan.7</th>\n",
       "      <th>nan.8</th>\n",
       "      <th>...</th>\n",
       "      <th>nan.32</th>\n",
       "      <th>nan.33</th>\n",
       "      <th>nan.34</th>\n",
       "      <th>nan.35</th>\n",
       "      <th>nan.36</th>\n",
       "      <th>nan.37</th>\n",
       "      <th>nan.38</th>\n",
       "      <th>nan.39</th>\n",
       "      <th>nan.40</th>\n",
       "      <th>nan.41</th>\n",
       "    </tr>\n",
       "  </thead>\n",
       "  <tbody>\n",
       "    <tr>\n",
       "      <th>0</th>\n",
       "      <td>NaN</td>\n",
       "      <td>0-4</td>\n",
       "      <td>5-9</td>\n",
       "      <td>10-14</td>\n",
       "      <td>15-19</td>\n",
       "      <td>20-24</td>\n",
       "      <td>25-29</td>\n",
       "      <td>30-34</td>\n",
       "      <td>35-39</td>\n",
       "      <td>40-44</td>\n",
       "      <td>...</td>\n",
       "      <td>55-59</td>\n",
       "      <td>60-64</td>\n",
       "      <td>65-69</td>\n",
       "      <td>70-74</td>\n",
       "      <td>75-79</td>\n",
       "      <td>80-84</td>\n",
       "      <td>85-89</td>\n",
       "      <td>90-94</td>\n",
       "      <td>95-99</td>\n",
       "      <td>100+</td>\n",
       "    </tr>\n",
       "    <tr>\n",
       "      <th>1</th>\n",
       "      <td>1960.0</td>\n",
       "      <td>47920315</td>\n",
       "      <td>46829753</td>\n",
       "      <td>33432080</td>\n",
       "      <td>25471658</td>\n",
       "      <td>24122343</td>\n",
       "      <td>23327941</td>\n",
       "      <td>20533620</td>\n",
       "      <td>18630935.5</td>\n",
       "      <td>16497774</td>\n",
       "      <td>...</td>\n",
       "      <td>10724846</td>\n",
       "      <td>7732748.5</td>\n",
       "      <td>5380578</td>\n",
       "      <td>3229643</td>\n",
       "      <td>1571773</td>\n",
       "      <td>557486</td>\n",
       "      <td>166261.5</td>\n",
       "      <td>30039</td>\n",
       "      <td>2309</td>\n",
       "      <td>29.5</td>\n",
       "    </tr>\n",
       "    <tr>\n",
       "      <th>2</th>\n",
       "      <td>1961.0</td>\n",
       "      <td>43854185</td>\n",
       "      <td>47677726</td>\n",
       "      <td>35825728</td>\n",
       "      <td>26076781.5</td>\n",
       "      <td>24016057.5</td>\n",
       "      <td>23698797.5</td>\n",
       "      <td>20836776.5</td>\n",
       "      <td>18794400</td>\n",
       "      <td>16628372</td>\n",
       "      <td>...</td>\n",
       "      <td>10761714</td>\n",
       "      <td>7718281.5</td>\n",
       "      <td>5340784</td>\n",
       "      <td>3111826.5</td>\n",
       "      <td>1493829.5</td>\n",
       "      <td>539886</td>\n",
       "      <td>150155</td>\n",
       "      <td>26290.5</td>\n",
       "      <td>1912.5</td>\n",
       "      <td>16.5</td>\n",
       "    </tr>\n",
       "    <tr>\n",
       "      <th>3</th>\n",
       "      <td>1962.0</td>\n",
       "      <td>42618084</td>\n",
       "      <td>48227487</td>\n",
       "      <td>38568543</td>\n",
       "      <td>27060995.5</td>\n",
       "      <td>24056249</td>\n",
       "      <td>23960210.5</td>\n",
       "      <td>21219384</td>\n",
       "      <td>19007207.5</td>\n",
       "      <td>16794522</td>\n",
       "      <td>...</td>\n",
       "      <td>10812142</td>\n",
       "      <td>7851263</td>\n",
       "      <td>5353814</td>\n",
       "      <td>3084425</td>\n",
       "      <td>1474477</td>\n",
       "      <td>540474</td>\n",
       "      <td>138849.5</td>\n",
       "      <td>23929.5</td>\n",
       "      <td>1612</td>\n",
       "      <td>10</td>\n",
       "    </tr>\n",
       "    <tr>\n",
       "      <th>4</th>\n",
       "      <td>1963.0</td>\n",
       "      <td>45892983.5</td>\n",
       "      <td>48233568</td>\n",
       "      <td>41316192</td>\n",
       "      <td>28554232.5</td>\n",
       "      <td>24141310</td>\n",
       "      <td>23937322.5</td>\n",
       "      <td>21672178</td>\n",
       "      <td>19363372</td>\n",
       "      <td>17074803.5</td>\n",
       "      <td>...</td>\n",
       "      <td>10874094.5</td>\n",
       "      <td>8075194</td>\n",
       "      <td>5383838.5</td>\n",
       "      <td>3117905</td>\n",
       "      <td>1491396.5</td>\n",
       "      <td>547760</td>\n",
       "      <td>130685.5</td>\n",
       "      <td>22378</td>\n",
       "      <td>1406</td>\n",
       "      <td>5</td>\n",
       "    </tr>\n",
       "  </tbody>\n",
       "</table>\n",
       "<p>5 rows × 43 columns</p>\n",
       "</div>"
      ],
      "text/plain": [
       "   Unnamed: 0         NaN     nan.1     nan.2       nan.3       nan.4  \\\n",
       "0         NaN         0-4       5-9     10-14       15-19       20-24   \n",
       "1      1960.0    47920315  46829753  33432080    25471658    24122343   \n",
       "2      1961.0    43854185  47677726  35825728  26076781.5  24016057.5   \n",
       "3      1962.0    42618084  48227487  38568543  27060995.5    24056249   \n",
       "4      1963.0  45892983.5  48233568  41316192  28554232.5    24141310   \n",
       "\n",
       "        nan.5       nan.6       nan.7       nan.8  ...      nan.32     nan.33  \\\n",
       "0       25-29       30-34       35-39       40-44  ...       55-59      60-64   \n",
       "1    23327941    20533620  18630935.5    16497774  ...    10724846  7732748.5   \n",
       "2  23698797.5  20836776.5    18794400    16628372  ...    10761714  7718281.5   \n",
       "3  23960210.5    21219384  19007207.5    16794522  ...    10812142    7851263   \n",
       "4  23937322.5    21672178    19363372  17074803.5  ...  10874094.5    8075194   \n",
       "\n",
       "      nan.34     nan.35     nan.36  nan.37    nan.38   nan.39  nan.40 nan.41  \n",
       "0      65-69      70-74      75-79   80-84     85-89    90-94   95-99   100+  \n",
       "1    5380578    3229643    1571773  557486  166261.5    30039    2309   29.5  \n",
       "2    5340784  3111826.5  1493829.5  539886    150155  26290.5  1912.5   16.5  \n",
       "3    5353814    3084425    1474477  540474  138849.5  23929.5    1612     10  \n",
       "4  5383838.5    3117905  1491396.5  547760  130685.5    22378    1406      5  \n",
       "\n",
       "[5 rows x 43 columns]"
      ]
     },
     "execution_count": 19,
     "metadata": {},
     "output_type": "execute_result"
    }
   ],
   "source": [
    "# Explore Pyramid data\n",
    "pyramid_data.head()"
   ]
  },
  {
   "cell_type": "code",
   "execution_count": 20,
   "metadata": {},
   "outputs": [],
   "source": [
    "# as we onte the first column row is name of the columns so we need to change it\n",
    "pyramid_data.columns = pyramid_data.iloc[0]"
   ]
  },
  {
   "cell_type": "code",
   "execution_count": 21,
   "metadata": {},
   "outputs": [],
   "source": [
    "# drop the first row after changing the columns name\n",
    "pyramid_data = pyramid_data.drop([0])"
   ]
  },
  {
   "cell_type": "code",
   "execution_count": 22,
   "metadata": {},
   "outputs": [],
   "source": [
    "# the frist column is nan so we need to fill it with Year\n",
    "pyramid_data.columns = pyramid_data.columns.fillna(\"Year\")\n"
   ]
  },
  {
   "cell_type": "code",
   "execution_count": 23,
   "metadata": {},
   "outputs": [
    {
     "data": {
      "text/html": [
       "<div>\n",
       "<style scoped>\n",
       "    .dataframe tbody tr th:only-of-type {\n",
       "        vertical-align: middle;\n",
       "    }\n",
       "\n",
       "    .dataframe tbody tr th {\n",
       "        vertical-align: top;\n",
       "    }\n",
       "\n",
       "    .dataframe thead th {\n",
       "        text-align: right;\n",
       "    }\n",
       "</style>\n",
       "<table border=\"1\" class=\"dataframe\">\n",
       "  <thead>\n",
       "    <tr style=\"text-align: right;\">\n",
       "      <th></th>\n",
       "      <th>Year</th>\n",
       "      <th>0-4</th>\n",
       "      <th>5-9</th>\n",
       "      <th>10-14</th>\n",
       "      <th>15-19</th>\n",
       "      <th>20-24</th>\n",
       "      <th>25-29</th>\n",
       "      <th>30-34</th>\n",
       "      <th>35-39</th>\n",
       "      <th>40-44</th>\n",
       "      <th>...</th>\n",
       "      <th>55-59</th>\n",
       "      <th>60-64</th>\n",
       "      <th>65-69</th>\n",
       "      <th>70-74</th>\n",
       "      <th>75-79</th>\n",
       "      <th>80-84</th>\n",
       "      <th>85-89</th>\n",
       "      <th>90-94</th>\n",
       "      <th>95-99</th>\n",
       "      <th>100+</th>\n",
       "    </tr>\n",
       "  </thead>\n",
       "  <tbody>\n",
       "    <tr>\n",
       "      <th>1</th>\n",
       "      <td>1960.0</td>\n",
       "      <td>47920315</td>\n",
       "      <td>46829753</td>\n",
       "      <td>33432080</td>\n",
       "      <td>25471658</td>\n",
       "      <td>24122343</td>\n",
       "      <td>23327941</td>\n",
       "      <td>20533620</td>\n",
       "      <td>18630935.5</td>\n",
       "      <td>16497774</td>\n",
       "      <td>...</td>\n",
       "      <td>10724846</td>\n",
       "      <td>7732748.5</td>\n",
       "      <td>5380578</td>\n",
       "      <td>3229643</td>\n",
       "      <td>1571773</td>\n",
       "      <td>557486</td>\n",
       "      <td>166261.5</td>\n",
       "      <td>30039</td>\n",
       "      <td>2309</td>\n",
       "      <td>29.5</td>\n",
       "    </tr>\n",
       "    <tr>\n",
       "      <th>2</th>\n",
       "      <td>1961.0</td>\n",
       "      <td>43854185</td>\n",
       "      <td>47677726</td>\n",
       "      <td>35825728</td>\n",
       "      <td>26076781.5</td>\n",
       "      <td>24016057.5</td>\n",
       "      <td>23698797.5</td>\n",
       "      <td>20836776.5</td>\n",
       "      <td>18794400</td>\n",
       "      <td>16628372</td>\n",
       "      <td>...</td>\n",
       "      <td>10761714</td>\n",
       "      <td>7718281.5</td>\n",
       "      <td>5340784</td>\n",
       "      <td>3111826.5</td>\n",
       "      <td>1493829.5</td>\n",
       "      <td>539886</td>\n",
       "      <td>150155</td>\n",
       "      <td>26290.5</td>\n",
       "      <td>1912.5</td>\n",
       "      <td>16.5</td>\n",
       "    </tr>\n",
       "    <tr>\n",
       "      <th>3</th>\n",
       "      <td>1962.0</td>\n",
       "      <td>42618084</td>\n",
       "      <td>48227487</td>\n",
       "      <td>38568543</td>\n",
       "      <td>27060995.5</td>\n",
       "      <td>24056249</td>\n",
       "      <td>23960210.5</td>\n",
       "      <td>21219384</td>\n",
       "      <td>19007207.5</td>\n",
       "      <td>16794522</td>\n",
       "      <td>...</td>\n",
       "      <td>10812142</td>\n",
       "      <td>7851263</td>\n",
       "      <td>5353814</td>\n",
       "      <td>3084425</td>\n",
       "      <td>1474477</td>\n",
       "      <td>540474</td>\n",
       "      <td>138849.5</td>\n",
       "      <td>23929.5</td>\n",
       "      <td>1612</td>\n",
       "      <td>10</td>\n",
       "    </tr>\n",
       "    <tr>\n",
       "      <th>4</th>\n",
       "      <td>1963.0</td>\n",
       "      <td>45892983.5</td>\n",
       "      <td>48233568</td>\n",
       "      <td>41316192</td>\n",
       "      <td>28554232.5</td>\n",
       "      <td>24141310</td>\n",
       "      <td>23937322.5</td>\n",
       "      <td>21672178</td>\n",
       "      <td>19363372</td>\n",
       "      <td>17074803.5</td>\n",
       "      <td>...</td>\n",
       "      <td>10874094.5</td>\n",
       "      <td>8075194</td>\n",
       "      <td>5383838.5</td>\n",
       "      <td>3117905</td>\n",
       "      <td>1491396.5</td>\n",
       "      <td>547760</td>\n",
       "      <td>130685.5</td>\n",
       "      <td>22378</td>\n",
       "      <td>1406</td>\n",
       "      <td>5</td>\n",
       "    </tr>\n",
       "    <tr>\n",
       "      <th>5</th>\n",
       "      <td>1964.0</td>\n",
       "      <td>51299213.5</td>\n",
       "      <td>46735446</td>\n",
       "      <td>43595994</td>\n",
       "      <td>30430756</td>\n",
       "      <td>24424064</td>\n",
       "      <td>23695036.5</td>\n",
       "      <td>22181661.5</td>\n",
       "      <td>19632192.5</td>\n",
       "      <td>17492035.5</td>\n",
       "      <td>...</td>\n",
       "      <td>10986288.5</td>\n",
       "      <td>8343232</td>\n",
       "      <td>5396712.5</td>\n",
       "      <td>3160661.5</td>\n",
       "      <td>1518130</td>\n",
       "      <td>548604</td>\n",
       "      <td>125479.5</td>\n",
       "      <td>20836.5</td>\n",
       "      <td>1243</td>\n",
       "      <td>3.5</td>\n",
       "    </tr>\n",
       "  </tbody>\n",
       "</table>\n",
       "<p>5 rows × 43 columns</p>\n",
       "</div>"
      ],
      "text/plain": [
       "0    Year         0-4       5-9     10-14       15-19       20-24       25-29  \\\n",
       "1  1960.0    47920315  46829753  33432080    25471658    24122343    23327941   \n",
       "2  1961.0    43854185  47677726  35825728  26076781.5  24016057.5  23698797.5   \n",
       "3  1962.0    42618084  48227487  38568543  27060995.5    24056249  23960210.5   \n",
       "4  1963.0  45892983.5  48233568  41316192  28554232.5    24141310  23937322.5   \n",
       "5  1964.0  51299213.5  46735446  43595994    30430756    24424064  23695036.5   \n",
       "\n",
       "0       30-34       35-39       40-44  ...       55-59      60-64      65-69  \\\n",
       "1    20533620  18630935.5    16497774  ...    10724846  7732748.5    5380578   \n",
       "2  20836776.5    18794400    16628372  ...    10761714  7718281.5    5340784   \n",
       "3    21219384  19007207.5    16794522  ...    10812142    7851263    5353814   \n",
       "4    21672178    19363372  17074803.5  ...  10874094.5    8075194  5383838.5   \n",
       "5  22181661.5  19632192.5  17492035.5  ...  10986288.5    8343232  5396712.5   \n",
       "\n",
       "0      70-74      75-79   80-84     85-89    90-94   95-99  100+  \n",
       "1    3229643    1571773  557486  166261.5    30039    2309  29.5  \n",
       "2  3111826.5  1493829.5  539886    150155  26290.5  1912.5  16.5  \n",
       "3    3084425    1474477  540474  138849.5  23929.5    1612    10  \n",
       "4    3117905  1491396.5  547760  130685.5    22378    1406     5  \n",
       "5  3160661.5    1518130  548604  125479.5  20836.5    1243   3.5  \n",
       "\n",
       "[5 rows x 43 columns]"
      ]
     },
     "execution_count": 23,
     "metadata": {},
     "output_type": "execute_result"
    }
   ],
   "source": [
    "pyramid_data.head() # explore data after changes"
   ]
  },
  {
   "cell_type": "code",
   "execution_count": 24,
   "metadata": {},
   "outputs": [
    {
     "data": {
      "text/plain": [
       "Index(['Year', '0-4', '5-9', '10-14', '15-19', '20-24', '25-29', '30-34',\n",
       "       '35-39', '40-44', '45-49', '50-54', '55-59', '60-64', '65-69', '70-74',\n",
       "       '75-79', '80-84', '85-89', '90-94', '95-99', '100+', '0-4', '5-9',\n",
       "       '10-14', '15-19', '20-24', '25-29', '30-34', '35-39', '40-44', '45-49',\n",
       "       '50-54', '55-59', '60-64', '65-69', '70-74', '75-79', '80-84', '85-89',\n",
       "       '90-94', '95-99', '100+'],\n",
       "      dtype='object', name=0)"
      ]
     },
     "execution_count": 24,
     "metadata": {},
     "output_type": "execute_result"
    }
   ],
   "source": [
    "pyramid_data.columns # print columns"
   ]
  },
  {
   "cell_type": "code",
   "execution_count": 25,
   "metadata": {},
   "outputs": [
    {
     "data": {
      "text/plain": [
       "Index(['0-4', '5-9', '10-14', '15-19', '20-24', '25-29', '30-34', '35-39',\n",
       "       '40-44', '45-49', '50-54', '55-59', '60-64', '65-69', '70-74', '75-79',\n",
       "       '80-84', '85-89', '90-94', '95-99', '100+'],\n",
       "      dtype='object', name=0)"
      ]
     },
     "execution_count": 25,
     "metadata": {},
     "output_type": "execute_result"
    }
   ],
   "source": [
    "pyramid_data.columns[1:22] #first group for men "
   ]
  },
  {
   "cell_type": "code",
   "execution_count": 26,
   "metadata": {},
   "outputs": [
    {
     "data": {
      "text/plain": [
       "Index(['0-4', '5-9', '10-14', '15-19', '20-24', '25-29', '30-34', '35-39',\n",
       "       '40-44', '45-49', '50-54', '55-59', '60-64', '65-69', '70-74', '75-79',\n",
       "       '80-84', '85-89', '90-94', '95-99', '100+'],\n",
       "      dtype='object', name=0)"
      ]
     },
     "execution_count": 26,
     "metadata": {},
     "output_type": "execute_result"
    }
   ],
   "source": [
    "pyramid_data.columns[22:44] #first group for women "
   ]
  },
  {
   "cell_type": "code",
   "execution_count": 27,
   "metadata": {},
   "outputs": [],
   "source": [
    "men_data = pyramid_data.iloc[:,1:22] # men data\n",
    "women_data = pyramid_data.iloc[:,22:] # women data\n"
   ]
  },
  {
   "cell_type": "code",
   "execution_count": 28,
   "metadata": {},
   "outputs": [
    {
     "data": {
      "text/html": [
       "<div>\n",
       "<style scoped>\n",
       "    .dataframe tbody tr th:only-of-type {\n",
       "        vertical-align: middle;\n",
       "    }\n",
       "\n",
       "    .dataframe tbody tr th {\n",
       "        vertical-align: top;\n",
       "    }\n",
       "\n",
       "    .dataframe thead th {\n",
       "        text-align: right;\n",
       "    }\n",
       "</style>\n",
       "<table border=\"1\" class=\"dataframe\">\n",
       "  <thead>\n",
       "    <tr style=\"text-align: right;\">\n",
       "      <th></th>\n",
       "      <th>Year</th>\n",
       "      <th>0-4</th>\n",
       "      <th>5-9</th>\n",
       "      <th>10-14</th>\n",
       "      <th>15-19</th>\n",
       "      <th>20-24</th>\n",
       "      <th>25-29</th>\n",
       "      <th>30-34</th>\n",
       "      <th>35-39</th>\n",
       "      <th>40-44</th>\n",
       "      <th>...</th>\n",
       "      <th>55-59</th>\n",
       "      <th>60-64</th>\n",
       "      <th>65-69</th>\n",
       "      <th>70-74</th>\n",
       "      <th>75-79</th>\n",
       "      <th>80-84</th>\n",
       "      <th>85-89</th>\n",
       "      <th>90-94</th>\n",
       "      <th>95-99</th>\n",
       "      <th>100+</th>\n",
       "    </tr>\n",
       "  </thead>\n",
       "  <tbody>\n",
       "    <tr>\n",
       "      <th>1</th>\n",
       "      <td>1960.0</td>\n",
       "      <td>47920315</td>\n",
       "      <td>46829753</td>\n",
       "      <td>33432080</td>\n",
       "      <td>25471658</td>\n",
       "      <td>24122343</td>\n",
       "      <td>23327941</td>\n",
       "      <td>20533620</td>\n",
       "      <td>18630935.5</td>\n",
       "      <td>16497774</td>\n",
       "      <td>...</td>\n",
       "      <td>10724846</td>\n",
       "      <td>7732748.5</td>\n",
       "      <td>5380578</td>\n",
       "      <td>3229643</td>\n",
       "      <td>1571773</td>\n",
       "      <td>557486</td>\n",
       "      <td>166261.5</td>\n",
       "      <td>30039</td>\n",
       "      <td>2309</td>\n",
       "      <td>29.5</td>\n",
       "    </tr>\n",
       "    <tr>\n",
       "      <th>2</th>\n",
       "      <td>1961.0</td>\n",
       "      <td>43854185</td>\n",
       "      <td>47677726</td>\n",
       "      <td>35825728</td>\n",
       "      <td>26076781.5</td>\n",
       "      <td>24016057.5</td>\n",
       "      <td>23698797.5</td>\n",
       "      <td>20836776.5</td>\n",
       "      <td>18794400</td>\n",
       "      <td>16628372</td>\n",
       "      <td>...</td>\n",
       "      <td>10761714</td>\n",
       "      <td>7718281.5</td>\n",
       "      <td>5340784</td>\n",
       "      <td>3111826.5</td>\n",
       "      <td>1493829.5</td>\n",
       "      <td>539886</td>\n",
       "      <td>150155</td>\n",
       "      <td>26290.5</td>\n",
       "      <td>1912.5</td>\n",
       "      <td>16.5</td>\n",
       "    </tr>\n",
       "    <tr>\n",
       "      <th>3</th>\n",
       "      <td>1962.0</td>\n",
       "      <td>42618084</td>\n",
       "      <td>48227487</td>\n",
       "      <td>38568543</td>\n",
       "      <td>27060995.5</td>\n",
       "      <td>24056249</td>\n",
       "      <td>23960210.5</td>\n",
       "      <td>21219384</td>\n",
       "      <td>19007207.5</td>\n",
       "      <td>16794522</td>\n",
       "      <td>...</td>\n",
       "      <td>10812142</td>\n",
       "      <td>7851263</td>\n",
       "      <td>5353814</td>\n",
       "      <td>3084425</td>\n",
       "      <td>1474477</td>\n",
       "      <td>540474</td>\n",
       "      <td>138849.5</td>\n",
       "      <td>23929.5</td>\n",
       "      <td>1612</td>\n",
       "      <td>10</td>\n",
       "    </tr>\n",
       "    <tr>\n",
       "      <th>4</th>\n",
       "      <td>1963.0</td>\n",
       "      <td>45892983.5</td>\n",
       "      <td>48233568</td>\n",
       "      <td>41316192</td>\n",
       "      <td>28554232.5</td>\n",
       "      <td>24141310</td>\n",
       "      <td>23937322.5</td>\n",
       "      <td>21672178</td>\n",
       "      <td>19363372</td>\n",
       "      <td>17074803.5</td>\n",
       "      <td>...</td>\n",
       "      <td>10874094.5</td>\n",
       "      <td>8075194</td>\n",
       "      <td>5383838.5</td>\n",
       "      <td>3117905</td>\n",
       "      <td>1491396.5</td>\n",
       "      <td>547760</td>\n",
       "      <td>130685.5</td>\n",
       "      <td>22378</td>\n",
       "      <td>1406</td>\n",
       "      <td>5</td>\n",
       "    </tr>\n",
       "    <tr>\n",
       "      <th>5</th>\n",
       "      <td>1964.0</td>\n",
       "      <td>51299213.5</td>\n",
       "      <td>46735446</td>\n",
       "      <td>43595994</td>\n",
       "      <td>30430756</td>\n",
       "      <td>24424064</td>\n",
       "      <td>23695036.5</td>\n",
       "      <td>22181661.5</td>\n",
       "      <td>19632192.5</td>\n",
       "      <td>17492035.5</td>\n",
       "      <td>...</td>\n",
       "      <td>10986288.5</td>\n",
       "      <td>8343232</td>\n",
       "      <td>5396712.5</td>\n",
       "      <td>3160661.5</td>\n",
       "      <td>1518130</td>\n",
       "      <td>548604</td>\n",
       "      <td>125479.5</td>\n",
       "      <td>20836.5</td>\n",
       "      <td>1243</td>\n",
       "      <td>3.5</td>\n",
       "    </tr>\n",
       "    <tr>\n",
       "      <th>...</th>\n",
       "      <td>...</td>\n",
       "      <td>...</td>\n",
       "      <td>...</td>\n",
       "      <td>...</td>\n",
       "      <td>...</td>\n",
       "      <td>...</td>\n",
       "      <td>...</td>\n",
       "      <td>...</td>\n",
       "      <td>...</td>\n",
       "      <td>...</td>\n",
       "      <td>...</td>\n",
       "      <td>...</td>\n",
       "      <td>...</td>\n",
       "      <td>...</td>\n",
       "      <td>...</td>\n",
       "      <td>...</td>\n",
       "      <td>...</td>\n",
       "      <td>...</td>\n",
       "      <td>...</td>\n",
       "      <td>...</td>\n",
       "      <td>...</td>\n",
       "    </tr>\n",
       "    <tr>\n",
       "      <th>87</th>\n",
       "      <td>2046.0</td>\n",
       "      <td>24886285.5</td>\n",
       "      <td>24672713</td>\n",
       "      <td>23906747</td>\n",
       "      <td>24009361.5</td>\n",
       "      <td>24688067.5</td>\n",
       "      <td>34491899.5</td>\n",
       "      <td>41216552</td>\n",
       "      <td>39028621.5</td>\n",
       "      <td>35678662</td>\n",
       "      <td>...</td>\n",
       "      <td>60609076</td>\n",
       "      <td>50611300.5</td>\n",
       "      <td>41575488.5</td>\n",
       "      <td>44470440</td>\n",
       "      <td>41820927.5</td>\n",
       "      <td>28599909</td>\n",
       "      <td>11141836.5</td>\n",
       "      <td>5215883.5</td>\n",
       "      <td>824204.5</td>\n",
       "      <td>41810</td>\n",
       "    </tr>\n",
       "    <tr>\n",
       "      <th>88</th>\n",
       "      <td>2047.0</td>\n",
       "      <td>24670788.5</td>\n",
       "      <td>24834136</td>\n",
       "      <td>23981892</td>\n",
       "      <td>23912899.5</td>\n",
       "      <td>24499517.5</td>\n",
       "      <td>31096746</td>\n",
       "      <td>41267756</td>\n",
       "      <td>39773244</td>\n",
       "      <td>36086272.5</td>\n",
       "      <td>...</td>\n",
       "      <td>58591508.5</td>\n",
       "      <td>52300110</td>\n",
       "      <td>43074212</td>\n",
       "      <td>42248528.5</td>\n",
       "      <td>42687484</td>\n",
       "      <td>30223013.5</td>\n",
       "      <td>11405663.5</td>\n",
       "      <td>5479257</td>\n",
       "      <td>931267.5</td>\n",
       "      <td>47610.5</td>\n",
       "    </tr>\n",
       "    <tr>\n",
       "      <th>89</th>\n",
       "      <td>2048.0</td>\n",
       "      <td>24362773.5</td>\n",
       "      <td>24936250</td>\n",
       "      <td>24106410</td>\n",
       "      <td>23851113</td>\n",
       "      <td>24319076.5</td>\n",
       "      <td>28278187</td>\n",
       "      <td>40583569.5</td>\n",
       "      <td>40428475.5</td>\n",
       "      <td>36744836.5</td>\n",
       "      <td>...</td>\n",
       "      <td>55929049</td>\n",
       "      <td>54246881</td>\n",
       "      <td>44658169</td>\n",
       "      <td>40049971.5</td>\n",
       "      <td>42926577.5</td>\n",
       "      <td>30754932</td>\n",
       "      <td>13075476.5</td>\n",
       "      <td>5674290.5</td>\n",
       "      <td>1039990</td>\n",
       "      <td>54261.5</td>\n",
       "    </tr>\n",
       "    <tr>\n",
       "      <th>90</th>\n",
       "      <td>2049.0</td>\n",
       "      <td>23947531.5</td>\n",
       "      <td>24979265</td>\n",
       "      <td>24275496</td>\n",
       "      <td>23811101.5</td>\n",
       "      <td>24142448.5</td>\n",
       "      <td>26284203.5</td>\n",
       "      <td>39140215</td>\n",
       "      <td>40792478</td>\n",
       "      <td>37547722.5</td>\n",
       "      <td>...</td>\n",
       "      <td>52988064.5</td>\n",
       "      <td>56437396</td>\n",
       "      <td>45673892</td>\n",
       "      <td>38517002</td>\n",
       "      <td>42290607</td>\n",
       "      <td>31466294.5</td>\n",
       "      <td>15222165.5</td>\n",
       "      <td>5596963.5</td>\n",
       "      <td>1135300</td>\n",
       "      <td>61656.5</td>\n",
       "    </tr>\n",
       "    <tr>\n",
       "      <th>91</th>\n",
       "      <td>2050.0</td>\n",
       "      <td>23431978</td>\n",
       "      <td>24957242</td>\n",
       "      <td>24461191.5</td>\n",
       "      <td>23801765</td>\n",
       "      <td>23982584</td>\n",
       "      <td>24988740.5</td>\n",
       "      <td>37119979.5</td>\n",
       "      <td>40942185.5</td>\n",
       "      <td>38288978</td>\n",
       "      <td>...</td>\n",
       "      <td>49339359</td>\n",
       "      <td>58534644</td>\n",
       "      <td>46828628.5</td>\n",
       "      <td>38081883.5</td>\n",
       "      <td>40915834</td>\n",
       "      <td>32462344.5</td>\n",
       "      <td>17169724.5</td>\n",
       "      <td>5372408</td>\n",
       "      <td>1235621.5</td>\n",
       "      <td>71292.5</td>\n",
       "    </tr>\n",
       "  </tbody>\n",
       "</table>\n",
       "<p>91 rows × 43 columns</p>\n",
       "</div>"
      ],
      "text/plain": [
       "0     Year         0-4       5-9       10-14       15-19       20-24  \\\n",
       "1   1960.0    47920315  46829753    33432080    25471658    24122343   \n",
       "2   1961.0    43854185  47677726    35825728  26076781.5  24016057.5   \n",
       "3   1962.0    42618084  48227487    38568543  27060995.5    24056249   \n",
       "4   1963.0  45892983.5  48233568    41316192  28554232.5    24141310   \n",
       "5   1964.0  51299213.5  46735446    43595994    30430756    24424064   \n",
       "..     ...         ...       ...         ...         ...         ...   \n",
       "87  2046.0  24886285.5  24672713    23906747  24009361.5  24688067.5   \n",
       "88  2047.0  24670788.5  24834136    23981892  23912899.5  24499517.5   \n",
       "89  2048.0  24362773.5  24936250    24106410    23851113  24319076.5   \n",
       "90  2049.0  23947531.5  24979265    24275496  23811101.5  24142448.5   \n",
       "91  2050.0    23431978  24957242  24461191.5    23801765    23982584   \n",
       "\n",
       "0        25-29       30-34       35-39       40-44  ...       55-59  \\\n",
       "1     23327941    20533620  18630935.5    16497774  ...    10724846   \n",
       "2   23698797.5  20836776.5    18794400    16628372  ...    10761714   \n",
       "3   23960210.5    21219384  19007207.5    16794522  ...    10812142   \n",
       "4   23937322.5    21672178    19363372  17074803.5  ...  10874094.5   \n",
       "5   23695036.5  22181661.5  19632192.5  17492035.5  ...  10986288.5   \n",
       "..         ...         ...         ...         ...  ...         ...   \n",
       "87  34491899.5    41216552  39028621.5    35678662  ...    60609076   \n",
       "88    31096746    41267756    39773244  36086272.5  ...  58591508.5   \n",
       "89    28278187  40583569.5  40428475.5  36744836.5  ...    55929049   \n",
       "90  26284203.5    39140215    40792478  37547722.5  ...  52988064.5   \n",
       "91  24988740.5  37119979.5  40942185.5    38288978  ...    49339359   \n",
       "\n",
       "0        60-64       65-69       70-74       75-79       80-84       85-89  \\\n",
       "1    7732748.5     5380578     3229643     1571773      557486    166261.5   \n",
       "2    7718281.5     5340784   3111826.5   1493829.5      539886      150155   \n",
       "3      7851263     5353814     3084425     1474477      540474    138849.5   \n",
       "4      8075194   5383838.5     3117905   1491396.5      547760    130685.5   \n",
       "5      8343232   5396712.5   3160661.5     1518130      548604    125479.5   \n",
       "..         ...         ...         ...         ...         ...         ...   \n",
       "87  50611300.5  41575488.5    44470440  41820927.5    28599909  11141836.5   \n",
       "88    52300110    43074212  42248528.5    42687484  30223013.5  11405663.5   \n",
       "89    54246881    44658169  40049971.5  42926577.5    30754932  13075476.5   \n",
       "90    56437396    45673892    38517002    42290607  31466294.5  15222165.5   \n",
       "91    58534644  46828628.5  38081883.5    40915834  32462344.5  17169724.5   \n",
       "\n",
       "0       90-94      95-99     100+  \n",
       "1       30039       2309     29.5  \n",
       "2     26290.5     1912.5     16.5  \n",
       "3     23929.5       1612       10  \n",
       "4       22378       1406        5  \n",
       "5     20836.5       1243      3.5  \n",
       "..        ...        ...      ...  \n",
       "87  5215883.5   824204.5    41810  \n",
       "88    5479257   931267.5  47610.5  \n",
       "89  5674290.5    1039990  54261.5  \n",
       "90  5596963.5    1135300  61656.5  \n",
       "91    5372408  1235621.5  71292.5  \n",
       "\n",
       "[91 rows x 43 columns]"
      ]
     },
     "execution_count": 28,
     "metadata": {},
     "output_type": "execute_result"
    }
   ],
   "source": [
    "pyramid_data"
   ]
  },
  {
   "cell_type": "code",
   "execution_count": 29,
   "metadata": {},
   "outputs": [
    {
     "name": "stdout",
     "output_type": "stream",
     "text": [
      "<class 'pandas.core.frame.DataFrame'>\n",
      "RangeIndex: 91 entries, 1 to 91\n",
      "Data columns (total 43 columns):\n",
      " #   Column  Non-Null Count  Dtype  \n",
      "---  ------  --------------  -----  \n",
      " 0   Year    91 non-null     float64\n",
      " 1   0-4     91 non-null     object \n",
      " 2   5-9     91 non-null     object \n",
      " 3   10-14   91 non-null     object \n",
      " 4   15-19   91 non-null     object \n",
      " 5   20-24   91 non-null     object \n",
      " 6   25-29   91 non-null     object \n",
      " 7   30-34   91 non-null     object \n",
      " 8   35-39   91 non-null     object \n",
      " 9   40-44   91 non-null     object \n",
      " 10  45-49   91 non-null     object \n",
      " 11  50-54   91 non-null     object \n",
      " 12  55-59   91 non-null     object \n",
      " 13  60-64   91 non-null     object \n",
      " 14  65-69   91 non-null     object \n",
      " 15  70-74   91 non-null     object \n",
      " 16  75-79   91 non-null     object \n",
      " 17  80-84   91 non-null     object \n",
      " 18  85-89   91 non-null     object \n",
      " 19  90-94   91 non-null     object \n",
      " 20  95-99   91 non-null     object \n",
      " 21  100+    91 non-null     object \n",
      " 22  0-4     91 non-null     object \n",
      " 23  5-9     91 non-null     object \n",
      " 24  10-14   91 non-null     object \n",
      " 25  15-19   91 non-null     object \n",
      " 26  20-24   91 non-null     object \n",
      " 27  25-29   91 non-null     object \n",
      " 28  30-34   91 non-null     object \n",
      " 29  35-39   91 non-null     object \n",
      " 30  40-44   91 non-null     object \n",
      " 31  45-49   91 non-null     object \n",
      " 32  50-54   91 non-null     object \n",
      " 33  55-59   91 non-null     object \n",
      " 34  60-64   91 non-null     object \n",
      " 35  65-69   91 non-null     object \n",
      " 36  70-74   91 non-null     object \n",
      " 37  75-79   91 non-null     object \n",
      " 38  80-84   91 non-null     object \n",
      " 39  85-89   91 non-null     object \n",
      " 40  90-94   91 non-null     object \n",
      " 41  95-99   91 non-null     object \n",
      " 42  100+    91 non-null     object \n",
      "dtypes: float64(1), object(42)\n",
      "memory usage: 30.7+ KB\n"
     ]
    }
   ],
   "source": [
    "# final we want to check that no data is missing and distribution of data\n",
    "pyramid_data.info()"
   ]
  },
  {
   "attachments": {},
   "cell_type": "markdown",
   "metadata": {},
   "source": [
    "### "
   ]
  },
  {
   "attachments": {},
   "cell_type": "markdown",
   "metadata": {},
   "source": [
    "### `iv` Implement Plotly  "
   ]
  },
  {
   "attachments": {},
   "cell_type": "markdown",
   "metadata": {},
   "source": [
    "`Figure of Popualtion` "
   ]
  },
  {
   "cell_type": "code",
   "execution_count": 30,
   "metadata": {},
   "outputs": [
    {
     "data": {
      "application/vnd.plotly.v1+json": {
       "config": {
        "plotlyServerURL": "https://plot.ly"
       },
       "data": [
        {
         "customdata": [
          [
           0
          ],
          [
           1.77
          ],
          [
           2.05
          ],
          [
           2.2
          ],
          [
           2.17
          ],
          [
           2.27
          ],
          [
           2.15
          ],
          [
           2.23
          ],
          [
           2.19
          ],
          [
           1.3
          ],
          [
           0.31
          ],
          [
           0.17
          ],
          [
           1.43
          ],
          [
           2.9
          ],
          [
           3.03
          ],
          [
           2.73
          ],
          [
           2.64
          ],
          [
           2.43
          ],
          [
           2.54
          ],
          [
           2.7
          ],
          [
           2.63
          ],
          [
           2.52
          ],
          [
           2.32
          ],
          [
           2.18
          ],
          [
           2.01
          ],
          [
           1.75
          ],
          [
           1.56
          ],
          [
           1.42
          ],
          [
           1.33
          ],
          [
           1.38
          ],
          [
           1.45
          ],
          [
           1.52
          ],
          [
           1.63
          ],
          [
           1.55
          ],
          [
           1.45
          ],
          [
           1.54
          ],
          [
           1.65
          ],
          [
           1.77
          ],
          [
           1.74
          ],
          [
           1.66
          ],
          [
           1.7
          ],
          [
           1.47
          ],
          [
           1.13
          ],
          [
           1.02
          ],
          [
           0.96
          ],
          [
           0.9
          ],
          [
           0.83
          ],
          [
           0.77
          ],
          [
           0.73
          ],
          [
           0.69
          ],
          [
           0.69
          ],
          [
           0.68
          ],
          [
           0.64
          ],
          [
           0.62
          ],
          [
           0.62
          ],
          [
           0.62
          ],
          [
           0.63
          ],
          [
           0.64
          ],
          [
           0.65
          ],
          [
           0.67
          ],
          [
           0.68
          ],
          [
           0.66
          ],
          [
           0.7
          ],
          [
           0.7
          ],
          [
           0.66
          ],
          [
           0.62
          ],
          [
           0.59
          ],
          [
           0.6
          ],
          [
           0.48
          ],
          [
           0.34
          ],
          [
           0.22
          ],
          [
           0.07
          ],
          [
           0
          ],
          [
           -0.02
          ],
          [
           -0.03
          ],
          [
           -0.06
          ],
          [
           -0.08
          ],
          [
           -0.1
          ],
          [
           -0.12
          ],
          [
           -0.15
          ],
          [
           -0.17
          ],
          [
           -0.19
          ],
          [
           -0.21
          ],
          [
           -0.23
          ],
          [
           -0.25
          ],
          [
           -0.27
          ],
          [
           -0.29
          ],
          [
           -0.3
          ],
          [
           -0.32
          ],
          [
           -0.33
          ],
          [
           -0.35
          ],
          [
           -0.37
          ],
          [
           -0.38
          ],
          [
           -0.4
          ],
          [
           -0.43
          ],
          [
           -0.45
          ],
          [
           -0.49
          ],
          [
           -0.52
          ],
          [
           -0.55
          ],
          [
           -0.59
          ],
          [
           -0.63
          ],
          [
           -0.68
          ],
          [
           -0.72
          ],
          [
           -0.76
          ],
          [
           -0.8
          ],
          [
           -0.84
          ],
          [
           -0.88
          ],
          [
           -0.92
          ],
          [
           -0.95
          ],
          [
           -0.97
          ],
          [
           -1
          ],
          [
           -1.01
          ],
          [
           -1.03
          ],
          [
           -1.04
          ],
          [
           -1.04
          ],
          [
           -1.05
          ],
          [
           -1.05
          ],
          [
           -1.05
          ],
          [
           -1.05
          ],
          [
           -1.05
          ],
          [
           -1.05
          ],
          [
           -1.05
          ],
          [
           -1.05
          ],
          [
           -1.06
          ],
          [
           -1.06
          ],
          [
           -1.07
          ],
          [
           -1.09
          ],
          [
           -1.1
          ],
          [
           -1.12
          ],
          [
           -1.13
          ],
          [
           -1.15
          ],
          [
           -1.16
          ],
          [
           -1.17
          ],
          [
           -1.18
          ],
          [
           -1.19
          ],
          [
           -1.2
          ],
          [
           -1.2
          ],
          [
           -1.2
          ],
          [
           -1.2
          ],
          [
           -1.19
          ],
          [
           -1.19
          ],
          [
           -1.18
          ],
          [
           -1.18
          ],
          [
           -1.17
          ],
          [
           -1.17
          ],
          [
           -1.17
          ],
          [
           -1.18
          ],
          [
           -1.18
          ],
          [
           -1.18
          ],
          [
           -1.19
          ],
          [
           -1.19
          ]
         ],
         "hovertemplate": "Year=%{x}<br>Population=%{y}<br> Annual Growth Rate=%{customdata[0]}<extra></extra>",
         "legendgroup": "",
         "line": {
          "color": "#636efa",
          "dash": "solid"
         },
         "marker": {
          "symbol": "circle"
         },
         "mode": "lines",
         "name": "",
         "orientation": "v",
         "showlegend": false,
         "type": "scatter",
         "x": [
          1950,
          1951,
          1952,
          1953,
          1954,
          1955,
          1956,
          1957,
          1958,
          1959,
          1960,
          1961,
          1962,
          1963,
          1964,
          1965,
          1966,
          1967,
          1968,
          1969,
          1970,
          1971,
          1972,
          1973,
          1974,
          1975,
          1976,
          1977,
          1978,
          1979,
          1980,
          1981,
          1982,
          1983,
          1984,
          1985,
          1986,
          1987,
          1988,
          1989,
          1990,
          1991,
          1992,
          1993,
          1994,
          1995,
          1996,
          1997,
          1998,
          1999,
          2000,
          2001,
          2002,
          2003,
          2004,
          2005,
          2006,
          2007,
          2008,
          2009,
          2010,
          2011,
          2012,
          2013,
          2014,
          2015,
          2016,
          2017,
          2018,
          2019,
          2020,
          2021,
          2022,
          2023,
          2024,
          2025,
          2026,
          2027,
          2028,
          2029,
          2030,
          2031,
          2032,
          2033,
          2034,
          2035,
          2036,
          2037,
          2038,
          2039,
          2040,
          2041,
          2042,
          2043,
          2044,
          2045,
          2046,
          2047,
          2048,
          2049,
          2050,
          2051,
          2052,
          2053,
          2054,
          2055,
          2056,
          2057,
          2058,
          2059,
          2060,
          2061,
          2062,
          2063,
          2064,
          2065,
          2066,
          2067,
          2068,
          2069,
          2070,
          2071,
          2072,
          2073,
          2074,
          2075,
          2076,
          2077,
          2078,
          2079,
          2080,
          2081,
          2082,
          2083,
          2084,
          2085,
          2086,
          2087,
          2088,
          2089,
          2090,
          2091,
          2092,
          2093,
          2094,
          2095,
          2096,
          2097,
          2098,
          2099,
          2100
         ],
         "xaxis": "x",
         "y": [
          543979233,
          553613988,
          564954522,
          577378682,
          589936004,
          603320147,
          616283022,
          630003025,
          643791581,
          652179194,
          654170692,
          655260380,
          664614650,
          683903557,
          704593772,
          723846349,
          742948541,
          761006260,
          780371956,
          801430976,
          822534450,
          843285424,
          862840403,
          881652080,
          899367640,
          915124661,
          929375924,
          942581333,
          955138943,
          968298969,
          982372466,
          997259502,
          1013483166,
          1029226907,
          1044172197,
          1060239979,
          1077770523,
          1096851843,
          1115889802,
          1134414723,
          1153704252,
          1170626171,
          1183813389,
          1195855558,
          1207286675,
          1218144426,
          1228298836,
          1237801448,
          1246836105,
          1255433236,
          1264099069,
          1272739582,
          1280926120,
          1288873367,
          1296816711,
          1304887562,
          1313086567,
          1321513224,
          1330167148,
          1339125595,
          1348191368,
          1357095481,
          1366560818,
          1376100308,
          1385189668,
          1393715448,
          1401889681,
          1410275957,
          1417069468,
          1421864031,
          1424929781,
          1425893465,
          1425887337,
          1425671352,
          1425178782,
          1424381924,
          1423255202,
          1421809059,
          1420045580,
          1417974640,
          1415605906,
          1412946005,
          1410012866,
          1406810379,
          1403314815,
          1399547500,
          1395546723,
          1391338420,
          1386952006,
          1382367124,
          1377556938,
          1372522398,
          1367267104,
          1361737252,
          1355912820,
          1349756901,
          1343210240,
          1336262908,
          1328873607,
          1321004205,
          1312636325,
          1303756600,
          1294381091,
          1284539877,
          1274244756,
          1263512555,
          1252371989,
          1240879992,
          1229126156,
          1217157937,
          1205020650,
          1192805228,
          1180553369,
          1168316258,
          1156145638,
          1144050917,
          1132053398,
          1120182122,
          1108424585,
          1096787141,
          1085287617,
          1073902382,
          1062612890,
          1051380906,
          1040194852,
          1029035605,
          1017860468,
          1006663149,
          995438005,
          984185394,
          972906892,
          961612985,
          950338414,
          939100122,
          927912386,
          916808802,
          905821025,
          894960252,
          884243881,
          873694710,
          863319535,
          853111777,
          843067032,
          833162188,
          823380978,
          813718728,
          804153594,
          794673479,
          785270314,
          775944429,
          766673270
         ],
         "yaxis": "y"
        }
       ],
       "layout": {
        "annotations": [
         {
          "showarrow": false,
          "text": "2023",
          "x": 2023,
          "xanchor": "left",
          "xref": "x",
          "y": 1,
          "yanchor": "top",
          "yref": "y domain"
         },
         {
          "showarrow": false,
          "text": "1950",
          "x": 1950,
          "xanchor": "left",
          "xref": "x",
          "y": 1,
          "yanchor": "top",
          "yref": "y domain"
         },
         {
          "font": {
           "size": 12
          },
          "showarrow": false,
          "text": "",
          "x": 1950,
          "xanchor": "left",
          "xref": "x",
          "y": 1,
          "yanchor": "top",
          "yref": "y domain"
         },
         {
          "showarrow": false,
          "text": "2023",
          "x": 2023,
          "xanchor": "left",
          "xref": "x",
          "y": 1,
          "yanchor": "top",
          "yref": "y domain"
         },
         {
          "font": {
           "size": 12
          },
          "showarrow": false,
          "text": "",
          "x": 2023,
          "xanchor": "left",
          "xref": "x",
          "y": 1,
          "yanchor": "top",
          "yref": "y domain"
         }
        ],
        "height": 500,
        "legend": {
         "tracegroupgap": 0
        },
        "shapes": [
         {
          "line": {
           "color": "red",
           "dash": "dash",
           "width": 3
          },
          "type": "line",
          "x0": 2023,
          "x1": 2023,
          "xref": "x",
          "y0": 0,
          "y1": 1,
          "yref": "y domain"
         },
         {
          "line": {
           "color": "red",
           "dash": "dash",
           "width": 3
          },
          "type": "line",
          "x0": 1950,
          "x1": 1950,
          "xref": "x",
          "y0": 0,
          "y1": 1,
          "yref": "y domain"
         },
         {
          "fillcolor": "red",
          "opacity": 0.05,
          "type": "rect",
          "x0": 1950,
          "x1": 2023,
          "xref": "x",
          "y0": 0,
          "y1": 1,
          "yref": "y domain"
         },
         {
          "line": {
           "color": "green",
           "dash": "dash",
           "width": 3
          },
          "type": "line",
          "x0": 2023,
          "x1": 2023,
          "xref": "x",
          "y0": 0,
          "y1": 1,
          "yref": "y domain"
         },
         {
          "fillcolor": "green",
          "opacity": 0.05,
          "type": "rect",
          "x0": 2023,
          "x1": 2100,
          "xref": "x",
          "y0": 0,
          "y1": 1,
          "yref": "y domain"
         }
        ],
        "template": {
         "data": {
          "bar": [
           {
            "error_x": {
             "color": "#f2f5fa"
            },
            "error_y": {
             "color": "#f2f5fa"
            },
            "marker": {
             "line": {
              "color": "rgb(17,17,17)",
              "width": 0.5
             },
             "pattern": {
              "fillmode": "overlay",
              "size": 10,
              "solidity": 0.2
             }
            },
            "type": "bar"
           }
          ],
          "barpolar": [
           {
            "marker": {
             "line": {
              "color": "rgb(17,17,17)",
              "width": 0.5
             },
             "pattern": {
              "fillmode": "overlay",
              "size": 10,
              "solidity": 0.2
             }
            },
            "type": "barpolar"
           }
          ],
          "carpet": [
           {
            "aaxis": {
             "endlinecolor": "#A2B1C6",
             "gridcolor": "#506784",
             "linecolor": "#506784",
             "minorgridcolor": "#506784",
             "startlinecolor": "#A2B1C6"
            },
            "baxis": {
             "endlinecolor": "#A2B1C6",
             "gridcolor": "#506784",
             "linecolor": "#506784",
             "minorgridcolor": "#506784",
             "startlinecolor": "#A2B1C6"
            },
            "type": "carpet"
           }
          ],
          "choropleth": [
           {
            "colorbar": {
             "outlinewidth": 0,
             "ticks": ""
            },
            "type": "choropleth"
           }
          ],
          "contour": [
           {
            "colorbar": {
             "outlinewidth": 0,
             "ticks": ""
            },
            "colorscale": [
             [
              0,
              "#0d0887"
             ],
             [
              0.1111111111111111,
              "#46039f"
             ],
             [
              0.2222222222222222,
              "#7201a8"
             ],
             [
              0.3333333333333333,
              "#9c179e"
             ],
             [
              0.4444444444444444,
              "#bd3786"
             ],
             [
              0.5555555555555556,
              "#d8576b"
             ],
             [
              0.6666666666666666,
              "#ed7953"
             ],
             [
              0.7777777777777778,
              "#fb9f3a"
             ],
             [
              0.8888888888888888,
              "#fdca26"
             ],
             [
              1,
              "#f0f921"
             ]
            ],
            "type": "contour"
           }
          ],
          "contourcarpet": [
           {
            "colorbar": {
             "outlinewidth": 0,
             "ticks": ""
            },
            "type": "contourcarpet"
           }
          ],
          "heatmap": [
           {
            "colorbar": {
             "outlinewidth": 0,
             "ticks": ""
            },
            "colorscale": [
             [
              0,
              "#0d0887"
             ],
             [
              0.1111111111111111,
              "#46039f"
             ],
             [
              0.2222222222222222,
              "#7201a8"
             ],
             [
              0.3333333333333333,
              "#9c179e"
             ],
             [
              0.4444444444444444,
              "#bd3786"
             ],
             [
              0.5555555555555556,
              "#d8576b"
             ],
             [
              0.6666666666666666,
              "#ed7953"
             ],
             [
              0.7777777777777778,
              "#fb9f3a"
             ],
             [
              0.8888888888888888,
              "#fdca26"
             ],
             [
              1,
              "#f0f921"
             ]
            ],
            "type": "heatmap"
           }
          ],
          "heatmapgl": [
           {
            "colorbar": {
             "outlinewidth": 0,
             "ticks": ""
            },
            "colorscale": [
             [
              0,
              "#0d0887"
             ],
             [
              0.1111111111111111,
              "#46039f"
             ],
             [
              0.2222222222222222,
              "#7201a8"
             ],
             [
              0.3333333333333333,
              "#9c179e"
             ],
             [
              0.4444444444444444,
              "#bd3786"
             ],
             [
              0.5555555555555556,
              "#d8576b"
             ],
             [
              0.6666666666666666,
              "#ed7953"
             ],
             [
              0.7777777777777778,
              "#fb9f3a"
             ],
             [
              0.8888888888888888,
              "#fdca26"
             ],
             [
              1,
              "#f0f921"
             ]
            ],
            "type": "heatmapgl"
           }
          ],
          "histogram": [
           {
            "marker": {
             "pattern": {
              "fillmode": "overlay",
              "size": 10,
              "solidity": 0.2
             }
            },
            "type": "histogram"
           }
          ],
          "histogram2d": [
           {
            "colorbar": {
             "outlinewidth": 0,
             "ticks": ""
            },
            "colorscale": [
             [
              0,
              "#0d0887"
             ],
             [
              0.1111111111111111,
              "#46039f"
             ],
             [
              0.2222222222222222,
              "#7201a8"
             ],
             [
              0.3333333333333333,
              "#9c179e"
             ],
             [
              0.4444444444444444,
              "#bd3786"
             ],
             [
              0.5555555555555556,
              "#d8576b"
             ],
             [
              0.6666666666666666,
              "#ed7953"
             ],
             [
              0.7777777777777778,
              "#fb9f3a"
             ],
             [
              0.8888888888888888,
              "#fdca26"
             ],
             [
              1,
              "#f0f921"
             ]
            ],
            "type": "histogram2d"
           }
          ],
          "histogram2dcontour": [
           {
            "colorbar": {
             "outlinewidth": 0,
             "ticks": ""
            },
            "colorscale": [
             [
              0,
              "#0d0887"
             ],
             [
              0.1111111111111111,
              "#46039f"
             ],
             [
              0.2222222222222222,
              "#7201a8"
             ],
             [
              0.3333333333333333,
              "#9c179e"
             ],
             [
              0.4444444444444444,
              "#bd3786"
             ],
             [
              0.5555555555555556,
              "#d8576b"
             ],
             [
              0.6666666666666666,
              "#ed7953"
             ],
             [
              0.7777777777777778,
              "#fb9f3a"
             ],
             [
              0.8888888888888888,
              "#fdca26"
             ],
             [
              1,
              "#f0f921"
             ]
            ],
            "type": "histogram2dcontour"
           }
          ],
          "mesh3d": [
           {
            "colorbar": {
             "outlinewidth": 0,
             "ticks": ""
            },
            "type": "mesh3d"
           }
          ],
          "parcoords": [
           {
            "line": {
             "colorbar": {
              "outlinewidth": 0,
              "ticks": ""
             }
            },
            "type": "parcoords"
           }
          ],
          "pie": [
           {
            "automargin": true,
            "type": "pie"
           }
          ],
          "scatter": [
           {
            "marker": {
             "line": {
              "color": "#283442"
             }
            },
            "type": "scatter"
           }
          ],
          "scatter3d": [
           {
            "line": {
             "colorbar": {
              "outlinewidth": 0,
              "ticks": ""
             }
            },
            "marker": {
             "colorbar": {
              "outlinewidth": 0,
              "ticks": ""
             }
            },
            "type": "scatter3d"
           }
          ],
          "scattercarpet": [
           {
            "marker": {
             "colorbar": {
              "outlinewidth": 0,
              "ticks": ""
             }
            },
            "type": "scattercarpet"
           }
          ],
          "scattergeo": [
           {
            "marker": {
             "colorbar": {
              "outlinewidth": 0,
              "ticks": ""
             }
            },
            "type": "scattergeo"
           }
          ],
          "scattergl": [
           {
            "marker": {
             "line": {
              "color": "#283442"
             }
            },
            "type": "scattergl"
           }
          ],
          "scattermapbox": [
           {
            "marker": {
             "colorbar": {
              "outlinewidth": 0,
              "ticks": ""
             }
            },
            "type": "scattermapbox"
           }
          ],
          "scatterpolar": [
           {
            "marker": {
             "colorbar": {
              "outlinewidth": 0,
              "ticks": ""
             }
            },
            "type": "scatterpolar"
           }
          ],
          "scatterpolargl": [
           {
            "marker": {
             "colorbar": {
              "outlinewidth": 0,
              "ticks": ""
             }
            },
            "type": "scatterpolargl"
           }
          ],
          "scatterternary": [
           {
            "marker": {
             "colorbar": {
              "outlinewidth": 0,
              "ticks": ""
             }
            },
            "type": "scatterternary"
           }
          ],
          "surface": [
           {
            "colorbar": {
             "outlinewidth": 0,
             "ticks": ""
            },
            "colorscale": [
             [
              0,
              "#0d0887"
             ],
             [
              0.1111111111111111,
              "#46039f"
             ],
             [
              0.2222222222222222,
              "#7201a8"
             ],
             [
              0.3333333333333333,
              "#9c179e"
             ],
             [
              0.4444444444444444,
              "#bd3786"
             ],
             [
              0.5555555555555556,
              "#d8576b"
             ],
             [
              0.6666666666666666,
              "#ed7953"
             ],
             [
              0.7777777777777778,
              "#fb9f3a"
             ],
             [
              0.8888888888888888,
              "#fdca26"
             ],
             [
              1,
              "#f0f921"
             ]
            ],
            "type": "surface"
           }
          ],
          "table": [
           {
            "cells": {
             "fill": {
              "color": "#506784"
             },
             "line": {
              "color": "rgb(17,17,17)"
             }
            },
            "header": {
             "fill": {
              "color": "#2a3f5f"
             },
             "line": {
              "color": "rgb(17,17,17)"
             }
            },
            "type": "table"
           }
          ]
         },
         "layout": {
          "annotationdefaults": {
           "arrowcolor": "#f2f5fa",
           "arrowhead": 0,
           "arrowwidth": 1
          },
          "autotypenumbers": "strict",
          "coloraxis": {
           "colorbar": {
            "outlinewidth": 0,
            "ticks": ""
           }
          },
          "colorscale": {
           "diverging": [
            [
             0,
             "#8e0152"
            ],
            [
             0.1,
             "#c51b7d"
            ],
            [
             0.2,
             "#de77ae"
            ],
            [
             0.3,
             "#f1b6da"
            ],
            [
             0.4,
             "#fde0ef"
            ],
            [
             0.5,
             "#f7f7f7"
            ],
            [
             0.6,
             "#e6f5d0"
            ],
            [
             0.7,
             "#b8e186"
            ],
            [
             0.8,
             "#7fbc41"
            ],
            [
             0.9,
             "#4d9221"
            ],
            [
             1,
             "#276419"
            ]
           ],
           "sequential": [
            [
             0,
             "#0d0887"
            ],
            [
             0.1111111111111111,
             "#46039f"
            ],
            [
             0.2222222222222222,
             "#7201a8"
            ],
            [
             0.3333333333333333,
             "#9c179e"
            ],
            [
             0.4444444444444444,
             "#bd3786"
            ],
            [
             0.5555555555555556,
             "#d8576b"
            ],
            [
             0.6666666666666666,
             "#ed7953"
            ],
            [
             0.7777777777777778,
             "#fb9f3a"
            ],
            [
             0.8888888888888888,
             "#fdca26"
            ],
            [
             1,
             "#f0f921"
            ]
           ],
           "sequentialminus": [
            [
             0,
             "#0d0887"
            ],
            [
             0.1111111111111111,
             "#46039f"
            ],
            [
             0.2222222222222222,
             "#7201a8"
            ],
            [
             0.3333333333333333,
             "#9c179e"
            ],
            [
             0.4444444444444444,
             "#bd3786"
            ],
            [
             0.5555555555555556,
             "#d8576b"
            ],
            [
             0.6666666666666666,
             "#ed7953"
            ],
            [
             0.7777777777777778,
             "#fb9f3a"
            ],
            [
             0.8888888888888888,
             "#fdca26"
            ],
            [
             1,
             "#f0f921"
            ]
           ]
          },
          "colorway": [
           "#636efa",
           "#EF553B",
           "#00cc96",
           "#ab63fa",
           "#FFA15A",
           "#19d3f3",
           "#FF6692",
           "#B6E880",
           "#FF97FF",
           "#FECB52"
          ],
          "font": {
           "color": "#f2f5fa"
          },
          "geo": {
           "bgcolor": "rgb(17,17,17)",
           "lakecolor": "rgb(17,17,17)",
           "landcolor": "rgb(17,17,17)",
           "showlakes": true,
           "showland": true,
           "subunitcolor": "#506784"
          },
          "hoverlabel": {
           "align": "left"
          },
          "hovermode": "closest",
          "mapbox": {
           "style": "dark"
          },
          "paper_bgcolor": "rgb(17,17,17)",
          "plot_bgcolor": "rgb(17,17,17)",
          "polar": {
           "angularaxis": {
            "gridcolor": "#506784",
            "linecolor": "#506784",
            "ticks": ""
           },
           "bgcolor": "rgb(17,17,17)",
           "radialaxis": {
            "gridcolor": "#506784",
            "linecolor": "#506784",
            "ticks": ""
           }
          },
          "scene": {
           "xaxis": {
            "backgroundcolor": "rgb(17,17,17)",
            "gridcolor": "#506784",
            "gridwidth": 2,
            "linecolor": "#506784",
            "showbackground": true,
            "ticks": "",
            "zerolinecolor": "#C8D4E3"
           },
           "yaxis": {
            "backgroundcolor": "rgb(17,17,17)",
            "gridcolor": "#506784",
            "gridwidth": 2,
            "linecolor": "#506784",
            "showbackground": true,
            "ticks": "",
            "zerolinecolor": "#C8D4E3"
           },
           "zaxis": {
            "backgroundcolor": "rgb(17,17,17)",
            "gridcolor": "#506784",
            "gridwidth": 2,
            "linecolor": "#506784",
            "showbackground": true,
            "ticks": "",
            "zerolinecolor": "#C8D4E3"
           }
          },
          "shapedefaults": {
           "line": {
            "color": "#f2f5fa"
           }
          },
          "sliderdefaults": {
           "bgcolor": "#C8D4E3",
           "bordercolor": "rgb(17,17,17)",
           "borderwidth": 1,
           "tickwidth": 0
          },
          "ternary": {
           "aaxis": {
            "gridcolor": "#506784",
            "linecolor": "#506784",
            "ticks": ""
           },
           "baxis": {
            "gridcolor": "#506784",
            "linecolor": "#506784",
            "ticks": ""
           },
           "bgcolor": "rgb(17,17,17)",
           "caxis": {
            "gridcolor": "#506784",
            "linecolor": "#506784",
            "ticks": ""
           }
          },
          "title": {
           "x": 0.05
          },
          "updatemenudefaults": {
           "bgcolor": "#506784",
           "borderwidth": 0
          },
          "xaxis": {
           "automargin": true,
           "gridcolor": "#283442",
           "linecolor": "#506784",
           "ticks": "",
           "title": {
            "standoff": 15
           },
           "zerolinecolor": "#283442",
           "zerolinewidth": 2
          },
          "yaxis": {
           "automargin": true,
           "gridcolor": "#283442",
           "linecolor": "#506784",
           "ticks": "",
           "title": {
            "standoff": 15
           },
           "zerolinecolor": "#283442",
           "zerolinewidth": 2
          }
         }
        },
        "title": {
         "text": "Total Population of China"
        },
        "width": 800,
        "xaxis": {
         "anchor": "y",
         "domain": [
          0,
          1
         ],
         "title": {
          "text": "Year"
         }
        },
        "yaxis": {
         "anchor": "x",
         "domain": [
          0,
          1
         ],
         "title": {
          "text": "Population"
         }
        }
       }
      }
     },
     "metadata": {},
     "output_type": "display_data"
    }
   ],
   "source": [
    "fig = px.line(merged, x=\"date\", y=\" Population\", title=\"Total Population of China\",\n",
    "        labels={\"date\": \"Year\", \" Population\": \"Population\"}, width=800, height=500, template=\"plotly_dark\"\n",
    "            ,#add annual change to hover data\n",
    "            hover_data={\" Annual Growth Rate\": True}, )\n",
    "\n",
    "fig.add_vline(x=2023, line_width=3, line_dash=\"dash\", line_color=\"red\",  annotation_text=\"2023\", annotation_position=\"top right\") \n",
    "#add historical data before 2023\n",
    "\n",
    "\n",
    "fig.add_vline(x=1950, line_width=3, line_dash=\"dash\", line_color=\"red\",  annotation_text=\"1950\", annotation_position=\"top right\")\n",
    "# the area between 1950 and 2023 is the historical data\n",
    "fig.add_vrect(x0=1950, x1=2023, fillcolor=\"red\", opacity=0.05, annotation_text=\"\", annotation_position=\"top left\", annotation_font_size=12)\n",
    "#add projection data after 2023\n",
    "fig.add_vline(x=2023, line_width=3, line_dash=\"dash\", line_color=\"green\",  annotation_text=\"2023\", annotation_position=\"top right\")\n",
    "# the area between 2023 and 2100 is the projection data\n",
    "fig.add_vrect(x0=2023, x1=2100, fillcolor=\"green\", opacity=0.05, annotation_text=\"\", annotation_position=\"top left\", annotation_font_size=12)\n",
    "\n",
    "\n",
    "\n",
    "\n",
    "\n",
    "\n",
    "\n",
    "            \n",
    "            "
   ]
  },
  {
   "cell_type": "markdown",
   "metadata": {},
   "source": [
    "`Birth Rate, Death Rate and Life Expectancy of China` "
   ]
  },
  {
   "cell_type": "code",
   "execution_count": 31,
   "metadata": {},
   "outputs": [
    {
     "data": {
      "application/vnd.plotly.v1+json": {
       "config": {
        "plotlyServerURL": "https://plot.ly"
       },
       "data": [
        {
         "hovertemplate": "date=%{x}<br> Births per 1000 People=%{y}<extra></extra>",
         "legendgroup": "",
         "line": {
          "color": "#636efa",
          "dash": "solid"
         },
         "marker": {
          "symbol": "circle"
         },
         "mode": "lines",
         "name": "",
         "orientation": "v",
         "showlegend": false,
         "type": "scatter",
         "x": [
          1950,
          1951,
          1952,
          1953,
          1954,
          1955,
          1956,
          1957,
          1958,
          1959,
          1960,
          1961,
          1962,
          1963,
          1964,
          1965,
          1966,
          1967,
          1968,
          1969,
          1970,
          1971,
          1972,
          1973,
          1974,
          1975,
          1976,
          1977,
          1978,
          1979,
          1980,
          1981,
          1982,
          1983,
          1984,
          1985,
          1986,
          1987,
          1988,
          1989,
          1990,
          1991,
          1992,
          1993,
          1994,
          1995,
          1996,
          1997,
          1998,
          1999,
          2000,
          2001,
          2002,
          2003,
          2004,
          2005,
          2006,
          2007,
          2008,
          2009,
          2010,
          2011,
          2012,
          2013,
          2014,
          2015,
          2016,
          2017,
          2018,
          2019,
          2020,
          2021,
          2022,
          2023,
          2024,
          2025,
          2026,
          2027,
          2028,
          2029,
          2030,
          2031,
          2032,
          2033,
          2034,
          2035,
          2036,
          2037,
          2038,
          2039,
          2040,
          2041,
          2042,
          2043,
          2044,
          2045,
          2046,
          2047,
          2048,
          2049,
          2050,
          2051,
          2052,
          2053,
          2054,
          2055,
          2056,
          2057,
          2058,
          2059,
          2060,
          2061,
          2062,
          2063,
          2064,
          2065,
          2066,
          2067,
          2068,
          2069,
          2070,
          2071,
          2072,
          2073,
          2074,
          2075,
          2076,
          2077,
          2078,
          2079,
          2080,
          2081,
          2082,
          2083,
          2084,
          2085,
          2086,
          2087,
          2088,
          2089,
          2090,
          2091,
          2092,
          2093,
          2094,
          2095,
          2096,
          2097,
          2098,
          2099,
          2100
         ],
         "xaxis": "x",
         "y": [
          46.133,
          44.921,
          43.71,
          42.498,
          41.286,
          40.075,
          38.863,
          37.652,
          36.44,
          37.034,
          37.629,
          38.223,
          38.818,
          39.412,
          39.427,
          39.442,
          39.458,
          39.473,
          39.488,
          37.976,
          36.463,
          34.951,
          33.438,
          31.926,
          30.039,
          28.152,
          26.265,
          24.378,
          22.491,
          22.231,
          21.972,
          21.712,
          21.453,
          21.193,
          21.908,
          22.623,
          23.339,
          24.054,
          24.769,
          23.299,
          21.829,
          20.359,
          18.889,
          17.419,
          16.85,
          16.28,
          15.711,
          15.141,
          14.572,
          14.274,
          13.976,
          13.679,
          13.381,
          13.083,
          13.028,
          12.973,
          12.917,
          12.862,
          12.807,
          12.787,
          12.767,
          12.748,
          12.728,
          12.708,
          12.552,
          12.397,
          12.241,
          12.086,
          11.93,
          11.673,
          11.416,
          11.159,
          10.902,
          10.645,
          10.478,
          10.31,
          10.143,
          9.975,
          9.808,
          9.738,
          9.669,
          9.599,
          9.53,
          9.46,
          9.436,
          9.411,
          9.387,
          9.362,
          9.338,
          9.332,
          9.327,
          9.321,
          9.316,
          9.31,
          9.284,
          9.258,
          9.231,
          9.205,
          9.179,
          9.15,
          9.12,
          9.091,
          9.061,
          9.032,
          9.009,
          8.986,
          8.962,
          8.939,
          8.916,
          8.906,
          8.897,
          8.887,
          8.878,
          8.868,
          8.873,
          8.879,
          8.884,
          8.89,
          8.895,
          8.904,
          8.913,
          8.921,
          8.93,
          8.939,
          8.947,
          8.954,
          8.962,
          8.969,
          8.977,
          8.975,
          8.973,
          8.972,
          8.97,
          8.968,
          8.959,
          8.951,
          8.942,
          8.934,
          8.925,
          8.916,
          8.907,
          8.898,
          8.889,
          8.88,
          8.875,
          8.869,
          8.864,
          8.858,
          8.853,
          8.848,
          8.842
         ],
         "yaxis": "y"
        },
        {
         "name": "Death Rate",
         "type": "scatter",
         "x": [
          1950,
          1951,
          1952,
          1953,
          1954,
          1955,
          1956,
          1957,
          1958,
          1959,
          1960,
          1961,
          1962,
          1963,
          1964,
          1965,
          1966,
          1967,
          1968,
          1969,
          1970,
          1971,
          1972,
          1973,
          1974,
          1975,
          1976,
          1977,
          1978,
          1979,
          1980,
          1981,
          1982,
          1983,
          1984,
          1985,
          1986,
          1987,
          1988,
          1989,
          1990,
          1991,
          1992,
          1993,
          1994,
          1995,
          1996,
          1997,
          1998,
          1999,
          2000,
          2001,
          2002,
          2003,
          2004,
          2005,
          2006,
          2007,
          2008,
          2009,
          2010,
          2011,
          2012,
          2013,
          2014,
          2015,
          2016,
          2017,
          2018,
          2019,
          2020,
          2021,
          2022,
          2023,
          2024,
          2025,
          2026,
          2027,
          2028,
          2029,
          2030,
          2031,
          2032,
          2033,
          2034,
          2035,
          2036,
          2037,
          2038,
          2039,
          2040,
          2041,
          2042,
          2043,
          2044,
          2045,
          2046,
          2047,
          2048,
          2049,
          2050,
          2051,
          2052,
          2053,
          2054,
          2055,
          2056,
          2057,
          2058,
          2059,
          2060,
          2061,
          2062,
          2063,
          2064,
          2065,
          2066,
          2067,
          2068,
          2069,
          2070,
          2071,
          2072,
          2073,
          2074,
          2075,
          2076,
          2077,
          2078,
          2079,
          2080,
          2081,
          2082,
          2083,
          2084,
          2085,
          2086,
          2087,
          2088,
          2089,
          2090,
          2091,
          2092,
          2093,
          2094,
          2095,
          2096,
          2097,
          2098,
          2099,
          2100
         ],
         "y": [
          23.366,
          23.106,
          22.845,
          22.585,
          22.325,
          22.064,
          21.804,
          21.543,
          21.283,
          21.157,
          21.031,
          20.905,
          20.779,
          20.653,
          19.082,
          17.511,
          15.941,
          14.37,
          12.799,
          12.075,
          11.351,
          10.626,
          9.902,
          9.178,
          8.772,
          8.366,
          7.959,
          7.553,
          7.147,
          7.039,
          6.93,
          6.822,
          6.713,
          6.605,
          6.625,
          6.645,
          6.664,
          6.684,
          6.704,
          6.702,
          6.7,
          6.699,
          6.697,
          6.695,
          6.69,
          6.685,
          6.68,
          6.675,
          6.67,
          6.665,
          6.66,
          6.655,
          6.65,
          6.645,
          6.686,
          6.727,
          6.767,
          6.808,
          6.849,
          6.88,
          6.911,
          6.941,
          6.972,
          7.003,
          7.027,
          7.05,
          7.074,
          7.097,
          7.121,
          7.261,
          7.402,
          7.542,
          7.683,
          7.823,
          7.996,
          8.168,
          8.341,
          8.513,
          8.686,
          8.887,
          9.088,
          9.29,
          9.491,
          9.692,
          9.91,
          10.127,
          10.345,
          10.562,
          10.78,
          10.991,
          11.202,
          11.412,
          11.623,
          11.834,
          12.019,
          12.205,
          12.39,
          12.576,
          12.761,
          12.917,
          13.074,
          13.23,
          13.387,
          13.543,
          13.654,
          13.765,
          13.877,
          13.988,
          14.099,
          14.155,
          14.21,
          14.266,
          14.321,
          14.377,
          14.398,
          14.42,
          14.441,
          14.463,
          14.484,
          14.502,
          14.52,
          14.537,
          14.555,
          14.573,
          14.588,
          14.603,
          14.619,
          14.634,
          14.649,
          14.626,
          14.604,
          14.581,
          14.559,
          14.536,
          14.462,
          14.389,
          14.315,
          14.242,
          14.168,
          14.079,
          13.991,
          13.902,
          13.814,
          13.725,
          13.699,
          13.673,
          13.646,
          13.62,
          13.594,
          13.568,
          13.542
         ]
        },
        {
         "name": "Life Expectancy",
         "type": "scatter",
         "x": [
          1950,
          1951,
          1952,
          1953,
          1954,
          1955,
          1956,
          1957,
          1958,
          1959,
          1960,
          1961,
          1962,
          1963,
          1964,
          1965,
          1966,
          1967,
          1968,
          1969,
          1970,
          1971,
          1972,
          1973,
          1974,
          1975,
          1976,
          1977,
          1978,
          1979,
          1980,
          1981,
          1982,
          1983,
          1984,
          1985,
          1986,
          1987,
          1988,
          1989,
          1990,
          1991,
          1992,
          1993,
          1994,
          1995,
          1996,
          1997,
          1998,
          1999,
          2000,
          2001,
          2002,
          2003,
          2004,
          2005,
          2006,
          2007,
          2008,
          2009,
          2010,
          2011,
          2012,
          2013,
          2014,
          2015,
          2016,
          2017,
          2018,
          2019,
          2020,
          2021,
          2022,
          2023,
          2024,
          2025,
          2026,
          2027,
          2028,
          2029,
          2030,
          2031,
          2032,
          2033,
          2034,
          2035,
          2036,
          2037,
          2038,
          2039,
          2040,
          2041,
          2042,
          2043,
          2044,
          2045,
          2046,
          2047,
          2048,
          2049,
          2050,
          2051,
          2052,
          2053,
          2054,
          2055,
          2056,
          2057,
          2058,
          2059,
          2060,
          2061,
          2062,
          2063,
          2064,
          2065,
          2066,
          2067,
          2068,
          2069,
          2070,
          2071,
          2072,
          2073,
          2074,
          2075,
          2076,
          2077,
          2078,
          2079,
          2080,
          2081,
          2082,
          2083,
          2084,
          2085,
          2086,
          2087,
          2088,
          2089,
          2090,
          2091,
          2092,
          2093,
          2094,
          2095,
          2096,
          2097,
          2098,
          2099,
          2100
         ],
         "y": [
          43.446,
          43.574,
          43.702,
          43.83,
          43.958,
          44.086,
          44.214,
          44.342,
          44.47,
          44.486,
          44.502,
          44.518,
          44.534,
          44.55,
          46.734,
          48.918,
          51.102,
          53.286,
          55.47,
          56.71,
          57.95,
          59.19,
          60.43,
          61.67,
          62.438,
          63.206,
          63.974,
          64.742,
          65.51,
          65.958,
          66.406,
          66.854,
          67.302,
          67.75,
          67.984,
          68.218,
          68.452,
          68.686,
          68.92,
          69.01,
          69.1,
          69.19,
          69.28,
          69.37,
          69.612,
          69.854,
          70.096,
          70.338,
          70.58,
          70.916,
          71.252,
          71.588,
          71.924,
          72.26,
          72.544,
          72.828,
          73.112,
          73.396,
          73.68,
          73.972,
          74.264,
          74.556,
          74.848,
          75.14,
          75.436,
          75.732,
          76.028,
          76.324,
          76.62,
          76.79,
          76.96,
          77.13,
          77.3,
          77.47,
          77.638,
          77.806,
          77.974,
          78.142,
          78.31,
          78.474,
          78.638,
          78.802,
          78.966,
          79.13,
          79.292,
          79.454,
          79.616,
          79.778,
          79.94,
          80.098,
          80.256,
          80.414,
          80.572,
          80.73,
          80.888,
          81.046,
          81.204,
          81.362,
          81.52,
          81.672,
          81.824,
          81.976,
          82.128,
          82.28,
          82.428,
          82.576,
          82.724,
          82.872,
          83.02,
          83.16,
          83.3,
          83.44,
          83.58,
          83.72,
          83.848,
          83.976,
          84.104,
          84.232,
          84.36,
          84.48,
          84.6,
          84.72,
          84.84,
          84.96,
          85.072,
          85.184,
          85.296,
          85.408,
          85.52,
          85.624,
          85.728,
          85.832,
          85.936,
          86.04,
          86.144,
          86.248,
          86.352,
          86.456,
          86.56,
          86.664,
          86.768,
          86.872,
          86.976,
          87.08,
          87.186,
          87.292,
          87.398,
          87.504,
          87.61,
          87.716,
          87.822
         ]
        },
        {
         "name": "Birth Rate",
         "type": "scatter",
         "x": [
          1950,
          1951,
          1952,
          1953,
          1954,
          1955,
          1956,
          1957,
          1958,
          1959,
          1960,
          1961,
          1962,
          1963,
          1964,
          1965,
          1966,
          1967,
          1968,
          1969,
          1970,
          1971,
          1972,
          1973,
          1974,
          1975,
          1976,
          1977,
          1978,
          1979,
          1980,
          1981,
          1982,
          1983,
          1984,
          1985,
          1986,
          1987,
          1988,
          1989,
          1990,
          1991,
          1992,
          1993,
          1994,
          1995,
          1996,
          1997,
          1998,
          1999,
          2000,
          2001,
          2002,
          2003,
          2004,
          2005,
          2006,
          2007,
          2008,
          2009,
          2010,
          2011,
          2012,
          2013,
          2014,
          2015,
          2016,
          2017,
          2018,
          2019,
          2020,
          2021,
          2022,
          2023,
          2024,
          2025,
          2026,
          2027,
          2028,
          2029,
          2030,
          2031,
          2032,
          2033,
          2034,
          2035,
          2036,
          2037,
          2038,
          2039,
          2040,
          2041,
          2042,
          2043,
          2044,
          2045,
          2046,
          2047,
          2048,
          2049,
          2050,
          2051,
          2052,
          2053,
          2054,
          2055,
          2056,
          2057,
          2058,
          2059,
          2060,
          2061,
          2062,
          2063,
          2064,
          2065,
          2066,
          2067,
          2068,
          2069,
          2070,
          2071,
          2072,
          2073,
          2074,
          2075,
          2076,
          2077,
          2078,
          2079,
          2080,
          2081,
          2082,
          2083,
          2084,
          2085,
          2086,
          2087,
          2088,
          2089,
          2090,
          2091,
          2092,
          2093,
          2094,
          2095,
          2096,
          2097,
          2098,
          2099,
          2100
         ],
         "y": [
          46.133,
          44.921,
          43.71,
          42.498,
          41.286,
          40.075,
          38.863,
          37.652,
          36.44,
          37.034,
          37.629,
          38.223,
          38.818,
          39.412,
          39.427,
          39.442,
          39.458,
          39.473,
          39.488,
          37.976,
          36.463,
          34.951,
          33.438,
          31.926,
          30.039,
          28.152,
          26.265,
          24.378,
          22.491,
          22.231,
          21.972,
          21.712,
          21.453,
          21.193,
          21.908,
          22.623,
          23.339,
          24.054,
          24.769,
          23.299,
          21.829,
          20.359,
          18.889,
          17.419,
          16.85,
          16.28,
          15.711,
          15.141,
          14.572,
          14.274,
          13.976,
          13.679,
          13.381,
          13.083,
          13.028,
          12.973,
          12.917,
          12.862,
          12.807,
          12.787,
          12.767,
          12.748,
          12.728,
          12.708,
          12.552,
          12.397,
          12.241,
          12.086,
          11.93,
          11.673,
          11.416,
          11.159,
          10.902,
          10.645,
          10.478,
          10.31,
          10.143,
          9.975,
          9.808,
          9.738,
          9.669,
          9.599,
          9.53,
          9.46,
          9.436,
          9.411,
          9.387,
          9.362,
          9.338,
          9.332,
          9.327,
          9.321,
          9.316,
          9.31,
          9.284,
          9.258,
          9.231,
          9.205,
          9.179,
          9.15,
          9.12,
          9.091,
          9.061,
          9.032,
          9.009,
          8.986,
          8.962,
          8.939,
          8.916,
          8.906,
          8.897,
          8.887,
          8.878,
          8.868,
          8.873,
          8.879,
          8.884,
          8.89,
          8.895,
          8.904,
          8.913,
          8.921,
          8.93,
          8.939,
          8.947,
          8.954,
          8.962,
          8.969,
          8.977,
          8.975,
          8.973,
          8.972,
          8.97,
          8.968,
          8.959,
          8.951,
          8.942,
          8.934,
          8.925,
          8.916,
          8.907,
          8.898,
          8.889,
          8.88,
          8.875,
          8.869,
          8.864,
          8.858,
          8.853,
          8.848,
          8.842
         ]
        }
       ],
       "layout": {
        "legend": {
         "tracegroupgap": 0
        },
        "margin": {
         "t": 60
        },
        "template": {
         "data": {
          "bar": [
           {
            "error_x": {
             "color": "#f2f5fa"
            },
            "error_y": {
             "color": "#f2f5fa"
            },
            "marker": {
             "line": {
              "color": "rgb(17,17,17)",
              "width": 0.5
             },
             "pattern": {
              "fillmode": "overlay",
              "size": 10,
              "solidity": 0.2
             }
            },
            "type": "bar"
           }
          ],
          "barpolar": [
           {
            "marker": {
             "line": {
              "color": "rgb(17,17,17)",
              "width": 0.5
             },
             "pattern": {
              "fillmode": "overlay",
              "size": 10,
              "solidity": 0.2
             }
            },
            "type": "barpolar"
           }
          ],
          "carpet": [
           {
            "aaxis": {
             "endlinecolor": "#A2B1C6",
             "gridcolor": "#506784",
             "linecolor": "#506784",
             "minorgridcolor": "#506784",
             "startlinecolor": "#A2B1C6"
            },
            "baxis": {
             "endlinecolor": "#A2B1C6",
             "gridcolor": "#506784",
             "linecolor": "#506784",
             "minorgridcolor": "#506784",
             "startlinecolor": "#A2B1C6"
            },
            "type": "carpet"
           }
          ],
          "choropleth": [
           {
            "colorbar": {
             "outlinewidth": 0,
             "ticks": ""
            },
            "type": "choropleth"
           }
          ],
          "contour": [
           {
            "colorbar": {
             "outlinewidth": 0,
             "ticks": ""
            },
            "colorscale": [
             [
              0,
              "#0d0887"
             ],
             [
              0.1111111111111111,
              "#46039f"
             ],
             [
              0.2222222222222222,
              "#7201a8"
             ],
             [
              0.3333333333333333,
              "#9c179e"
             ],
             [
              0.4444444444444444,
              "#bd3786"
             ],
             [
              0.5555555555555556,
              "#d8576b"
             ],
             [
              0.6666666666666666,
              "#ed7953"
             ],
             [
              0.7777777777777778,
              "#fb9f3a"
             ],
             [
              0.8888888888888888,
              "#fdca26"
             ],
             [
              1,
              "#f0f921"
             ]
            ],
            "type": "contour"
           }
          ],
          "contourcarpet": [
           {
            "colorbar": {
             "outlinewidth": 0,
             "ticks": ""
            },
            "type": "contourcarpet"
           }
          ],
          "heatmap": [
           {
            "colorbar": {
             "outlinewidth": 0,
             "ticks": ""
            },
            "colorscale": [
             [
              0,
              "#0d0887"
             ],
             [
              0.1111111111111111,
              "#46039f"
             ],
             [
              0.2222222222222222,
              "#7201a8"
             ],
             [
              0.3333333333333333,
              "#9c179e"
             ],
             [
              0.4444444444444444,
              "#bd3786"
             ],
             [
              0.5555555555555556,
              "#d8576b"
             ],
             [
              0.6666666666666666,
              "#ed7953"
             ],
             [
              0.7777777777777778,
              "#fb9f3a"
             ],
             [
              0.8888888888888888,
              "#fdca26"
             ],
             [
              1,
              "#f0f921"
             ]
            ],
            "type": "heatmap"
           }
          ],
          "heatmapgl": [
           {
            "colorbar": {
             "outlinewidth": 0,
             "ticks": ""
            },
            "colorscale": [
             [
              0,
              "#0d0887"
             ],
             [
              0.1111111111111111,
              "#46039f"
             ],
             [
              0.2222222222222222,
              "#7201a8"
             ],
             [
              0.3333333333333333,
              "#9c179e"
             ],
             [
              0.4444444444444444,
              "#bd3786"
             ],
             [
              0.5555555555555556,
              "#d8576b"
             ],
             [
              0.6666666666666666,
              "#ed7953"
             ],
             [
              0.7777777777777778,
              "#fb9f3a"
             ],
             [
              0.8888888888888888,
              "#fdca26"
             ],
             [
              1,
              "#f0f921"
             ]
            ],
            "type": "heatmapgl"
           }
          ],
          "histogram": [
           {
            "marker": {
             "pattern": {
              "fillmode": "overlay",
              "size": 10,
              "solidity": 0.2
             }
            },
            "type": "histogram"
           }
          ],
          "histogram2d": [
           {
            "colorbar": {
             "outlinewidth": 0,
             "ticks": ""
            },
            "colorscale": [
             [
              0,
              "#0d0887"
             ],
             [
              0.1111111111111111,
              "#46039f"
             ],
             [
              0.2222222222222222,
              "#7201a8"
             ],
             [
              0.3333333333333333,
              "#9c179e"
             ],
             [
              0.4444444444444444,
              "#bd3786"
             ],
             [
              0.5555555555555556,
              "#d8576b"
             ],
             [
              0.6666666666666666,
              "#ed7953"
             ],
             [
              0.7777777777777778,
              "#fb9f3a"
             ],
             [
              0.8888888888888888,
              "#fdca26"
             ],
             [
              1,
              "#f0f921"
             ]
            ],
            "type": "histogram2d"
           }
          ],
          "histogram2dcontour": [
           {
            "colorbar": {
             "outlinewidth": 0,
             "ticks": ""
            },
            "colorscale": [
             [
              0,
              "#0d0887"
             ],
             [
              0.1111111111111111,
              "#46039f"
             ],
             [
              0.2222222222222222,
              "#7201a8"
             ],
             [
              0.3333333333333333,
              "#9c179e"
             ],
             [
              0.4444444444444444,
              "#bd3786"
             ],
             [
              0.5555555555555556,
              "#d8576b"
             ],
             [
              0.6666666666666666,
              "#ed7953"
             ],
             [
              0.7777777777777778,
              "#fb9f3a"
             ],
             [
              0.8888888888888888,
              "#fdca26"
             ],
             [
              1,
              "#f0f921"
             ]
            ],
            "type": "histogram2dcontour"
           }
          ],
          "mesh3d": [
           {
            "colorbar": {
             "outlinewidth": 0,
             "ticks": ""
            },
            "type": "mesh3d"
           }
          ],
          "parcoords": [
           {
            "line": {
             "colorbar": {
              "outlinewidth": 0,
              "ticks": ""
             }
            },
            "type": "parcoords"
           }
          ],
          "pie": [
           {
            "automargin": true,
            "type": "pie"
           }
          ],
          "scatter": [
           {
            "marker": {
             "line": {
              "color": "#283442"
             }
            },
            "type": "scatter"
           }
          ],
          "scatter3d": [
           {
            "line": {
             "colorbar": {
              "outlinewidth": 0,
              "ticks": ""
             }
            },
            "marker": {
             "colorbar": {
              "outlinewidth": 0,
              "ticks": ""
             }
            },
            "type": "scatter3d"
           }
          ],
          "scattercarpet": [
           {
            "marker": {
             "colorbar": {
              "outlinewidth": 0,
              "ticks": ""
             }
            },
            "type": "scattercarpet"
           }
          ],
          "scattergeo": [
           {
            "marker": {
             "colorbar": {
              "outlinewidth": 0,
              "ticks": ""
             }
            },
            "type": "scattergeo"
           }
          ],
          "scattergl": [
           {
            "marker": {
             "line": {
              "color": "#283442"
             }
            },
            "type": "scattergl"
           }
          ],
          "scattermapbox": [
           {
            "marker": {
             "colorbar": {
              "outlinewidth": 0,
              "ticks": ""
             }
            },
            "type": "scattermapbox"
           }
          ],
          "scatterpolar": [
           {
            "marker": {
             "colorbar": {
              "outlinewidth": 0,
              "ticks": ""
             }
            },
            "type": "scatterpolar"
           }
          ],
          "scatterpolargl": [
           {
            "marker": {
             "colorbar": {
              "outlinewidth": 0,
              "ticks": ""
             }
            },
            "type": "scatterpolargl"
           }
          ],
          "scatterternary": [
           {
            "marker": {
             "colorbar": {
              "outlinewidth": 0,
              "ticks": ""
             }
            },
            "type": "scatterternary"
           }
          ],
          "surface": [
           {
            "colorbar": {
             "outlinewidth": 0,
             "ticks": ""
            },
            "colorscale": [
             [
              0,
              "#0d0887"
             ],
             [
              0.1111111111111111,
              "#46039f"
             ],
             [
              0.2222222222222222,
              "#7201a8"
             ],
             [
              0.3333333333333333,
              "#9c179e"
             ],
             [
              0.4444444444444444,
              "#bd3786"
             ],
             [
              0.5555555555555556,
              "#d8576b"
             ],
             [
              0.6666666666666666,
              "#ed7953"
             ],
             [
              0.7777777777777778,
              "#fb9f3a"
             ],
             [
              0.8888888888888888,
              "#fdca26"
             ],
             [
              1,
              "#f0f921"
             ]
            ],
            "type": "surface"
           }
          ],
          "table": [
           {
            "cells": {
             "fill": {
              "color": "#506784"
             },
             "line": {
              "color": "rgb(17,17,17)"
             }
            },
            "header": {
             "fill": {
              "color": "#2a3f5f"
             },
             "line": {
              "color": "rgb(17,17,17)"
             }
            },
            "type": "table"
           }
          ]
         },
         "layout": {
          "annotationdefaults": {
           "arrowcolor": "#f2f5fa",
           "arrowhead": 0,
           "arrowwidth": 1
          },
          "autotypenumbers": "strict",
          "coloraxis": {
           "colorbar": {
            "outlinewidth": 0,
            "ticks": ""
           }
          },
          "colorscale": {
           "diverging": [
            [
             0,
             "#8e0152"
            ],
            [
             0.1,
             "#c51b7d"
            ],
            [
             0.2,
             "#de77ae"
            ],
            [
             0.3,
             "#f1b6da"
            ],
            [
             0.4,
             "#fde0ef"
            ],
            [
             0.5,
             "#f7f7f7"
            ],
            [
             0.6,
             "#e6f5d0"
            ],
            [
             0.7,
             "#b8e186"
            ],
            [
             0.8,
             "#7fbc41"
            ],
            [
             0.9,
             "#4d9221"
            ],
            [
             1,
             "#276419"
            ]
           ],
           "sequential": [
            [
             0,
             "#0d0887"
            ],
            [
             0.1111111111111111,
             "#46039f"
            ],
            [
             0.2222222222222222,
             "#7201a8"
            ],
            [
             0.3333333333333333,
             "#9c179e"
            ],
            [
             0.4444444444444444,
             "#bd3786"
            ],
            [
             0.5555555555555556,
             "#d8576b"
            ],
            [
             0.6666666666666666,
             "#ed7953"
            ],
            [
             0.7777777777777778,
             "#fb9f3a"
            ],
            [
             0.8888888888888888,
             "#fdca26"
            ],
            [
             1,
             "#f0f921"
            ]
           ],
           "sequentialminus": [
            [
             0,
             "#0d0887"
            ],
            [
             0.1111111111111111,
             "#46039f"
            ],
            [
             0.2222222222222222,
             "#7201a8"
            ],
            [
             0.3333333333333333,
             "#9c179e"
            ],
            [
             0.4444444444444444,
             "#bd3786"
            ],
            [
             0.5555555555555556,
             "#d8576b"
            ],
            [
             0.6666666666666666,
             "#ed7953"
            ],
            [
             0.7777777777777778,
             "#fb9f3a"
            ],
            [
             0.8888888888888888,
             "#fdca26"
            ],
            [
             1,
             "#f0f921"
            ]
           ]
          },
          "colorway": [
           "#636efa",
           "#EF553B",
           "#00cc96",
           "#ab63fa",
           "#FFA15A",
           "#19d3f3",
           "#FF6692",
           "#B6E880",
           "#FF97FF",
           "#FECB52"
          ],
          "font": {
           "color": "#f2f5fa"
          },
          "geo": {
           "bgcolor": "rgb(17,17,17)",
           "lakecolor": "rgb(17,17,17)",
           "landcolor": "rgb(17,17,17)",
           "showlakes": true,
           "showland": true,
           "subunitcolor": "#506784"
          },
          "hoverlabel": {
           "align": "left"
          },
          "hovermode": "closest",
          "mapbox": {
           "style": "dark"
          },
          "paper_bgcolor": "rgb(17,17,17)",
          "plot_bgcolor": "rgb(17,17,17)",
          "polar": {
           "angularaxis": {
            "gridcolor": "#506784",
            "linecolor": "#506784",
            "ticks": ""
           },
           "bgcolor": "rgb(17,17,17)",
           "radialaxis": {
            "gridcolor": "#506784",
            "linecolor": "#506784",
            "ticks": ""
           }
          },
          "scene": {
           "xaxis": {
            "backgroundcolor": "rgb(17,17,17)",
            "gridcolor": "#506784",
            "gridwidth": 2,
            "linecolor": "#506784",
            "showbackground": true,
            "ticks": "",
            "zerolinecolor": "#C8D4E3"
           },
           "yaxis": {
            "backgroundcolor": "rgb(17,17,17)",
            "gridcolor": "#506784",
            "gridwidth": 2,
            "linecolor": "#506784",
            "showbackground": true,
            "ticks": "",
            "zerolinecolor": "#C8D4E3"
           },
           "zaxis": {
            "backgroundcolor": "rgb(17,17,17)",
            "gridcolor": "#506784",
            "gridwidth": 2,
            "linecolor": "#506784",
            "showbackground": true,
            "ticks": "",
            "zerolinecolor": "#C8D4E3"
           }
          },
          "shapedefaults": {
           "line": {
            "color": "#f2f5fa"
           }
          },
          "sliderdefaults": {
           "bgcolor": "#C8D4E3",
           "bordercolor": "rgb(17,17,17)",
           "borderwidth": 1,
           "tickwidth": 0
          },
          "ternary": {
           "aaxis": {
            "gridcolor": "#506784",
            "linecolor": "#506784",
            "ticks": ""
           },
           "baxis": {
            "gridcolor": "#506784",
            "linecolor": "#506784",
            "ticks": ""
           },
           "bgcolor": "rgb(17,17,17)",
           "caxis": {
            "gridcolor": "#506784",
            "linecolor": "#506784",
            "ticks": ""
           }
          },
          "title": {
           "x": 0.05
          },
          "updatemenudefaults": {
           "bgcolor": "#506784",
           "borderwidth": 0
          },
          "xaxis": {
           "automargin": true,
           "gridcolor": "#283442",
           "linecolor": "#506784",
           "ticks": "",
           "title": {
            "standoff": 15
           },
           "zerolinecolor": "#283442",
           "zerolinewidth": 2
          },
          "yaxis": {
           "automargin": true,
           "gridcolor": "#283442",
           "linecolor": "#506784",
           "ticks": "",
           "title": {
            "standoff": 15
           },
           "zerolinecolor": "#283442",
           "zerolinewidth": 2
          }
         }
        },
        "title": {
         "text": "Birth Rate, Death Rate and Life Expectancy of China"
        },
        "xaxis": {
         "anchor": "y",
         "domain": [
          0,
          1
         ],
         "title": {
          "text": "date"
         }
        },
        "yaxis": {
         "anchor": "x",
         "domain": [
          0,
          1
         ],
         "title": {
          "text": " Births per 1000 People"
         }
        }
       }
      }
     },
     "metadata": {},
     "output_type": "display_data"
    }
   ],
   "source": [
    "# birth  rate \n",
    "fig2 = px.line(merged, x=\"date\", y=\" Births per 1000 People\", title=\"\", template=\"plotly_dark\",)\n",
    "\n",
    "# add death rate to fig2\n",
    "fig2.add_scatter(x=merged['date'], y=merged[' Deaths per 1000 People'], name=\"Death Rate\")\n",
    "# add life expectancy to fig2\n",
    "fig2.add_scatter(x=merged['date'], y=merged[' Life Expectancy from Birth (Years)'], name=\"Life Expectancy\")\n",
    "\n",
    "#add title to fig2\n",
    "fig2.update_layout(  title=\"Birth Rate, Death Rate and Life Expectancy of China\"),\n",
    "# add  scatter to birth rate again to make it display on legend area with color blue\n",
    "fig2.add_scatter(x=merged['date'], y=merged[' Births per 1000 People'], name=\"Birth Rate\", )\n",
    "                   \n",
    "                  \n",
    "\n",
    "\n"
   ]
  },
  {
   "attachments": {},
   "cell_type": "markdown",
   "metadata": {},
   "source": [
    "`Figure of Dependancy Ratio` "
   ]
  },
  {
   "cell_type": "code",
   "execution_count": 32,
   "metadata": {},
   "outputs": [
    {
     "data": {
      "application/vnd.plotly.v1+json": {
       "config": {
        "plotlyServerURL": "https://plot.ly"
       },
       "data": [
        {
         "name": "Age dependency ratio (% of working-age population)",
         "opacity": 0.8,
         "type": "bar",
         "x": [
          1969,
          1970,
          1971,
          1972,
          1973,
          1974,
          1975,
          1976,
          1977,
          1978,
          1979,
          1980,
          1981,
          1982,
          1983,
          1984,
          1985,
          1986,
          1987,
          1988,
          1989,
          1990,
          1991,
          1992,
          1993,
          1994,
          1995,
          1996,
          1997,
          1998,
          1999,
          2000,
          2001,
          2002,
          2003,
          2004,
          2005,
          2006,
          2007,
          2008,
          2009,
          2010,
          2011,
          2012,
          2013,
          2014,
          2015,
          2016,
          2017,
          2018,
          2019,
          2020,
          2021,
          2022,
          2023,
          2024,
          2025,
          2026,
          2027,
          2028,
          2029,
          2030,
          2031,
          2032,
          2033,
          2034,
          2035,
          2036,
          2037,
          2038,
          2039,
          2040,
          2041,
          2042,
          2043,
          2044,
          2045,
          2046,
          2047,
          2048,
          2049,
          2050
         ],
         "y": [
          80.9619791271914,
          80.5240271796299,
          80.1882081317262,
          79.4811770762984,
          78.8312385191076,
          79.0641232036745,
          79.506480828519,
          79.7628158394681,
          78.4350114640648,
          74.7692925707561,
          71.0570895995254,
          68.1096356173386,
          65.5256072187202,
          63.5803391914063,
          61.3764071651005,
          58.8079459649387,
          56.5788832992884,
          54.793170472908,
          53.5856684511626,
          52.6423356421437,
          52.0063538968405,
          51.9303547350579,
          51.8628983790976,
          51.6033297841624,
          51.39483877595,
          51.009961977054,
          50.420393761166,
          49.6393573501919,
          48.5804023875333,
          47.6339316326495,
          46.8316074842524,
          45.8885561082242,
          44.7273941272428,
          43.2813845882223,
          41.8422264034976,
          40.4639037516393,
          39.0319887862999,
          38.0077592231463,
          37.513489367054,
          37.2240232164871,
          37.1039604967079,
          37.1198906844997,
          37.2742674248777,
          37.6567322848111,
          38.2125459020843,
          38.8773959996461,
          39.6192177194909,
          40.4578974621014,
          41.5448916778932,
          42.5935563885368,
          43.4383277533443,
          44.1407832417306,
          44.545904633681,
          44.8623992375397,
          45.0422201131202,
          44.7734089365568,
          44.2517656485834,
          43.6646754759866,
          43.4512128939936,
          44.0612197546375,
          44.8728569948637,
          45.5706604752385,
          46.2543039540862,
          46.7145374249764,
          47.5180247686605,
          48.8178165654191,
          50.3999011625207,
          52.2623654697623,
          54.116156474751,
          55.9067802660216,
          57.5667452669097,
          58.9551827933106,
          60.1186724743113,
          61.1136610822919,
          61.9995976572493,
          62.9819184689296,
          64.1192026627137,
          65.3963389556596,
          66.9103888721409,
          68.3338748880979,
          69.5969512730147,
          71.055869117001
         ]
        }
       ],
       "layout": {
        "template": {
         "data": {
          "bar": [
           {
            "error_x": {
             "color": "#f2f5fa"
            },
            "error_y": {
             "color": "#f2f5fa"
            },
            "marker": {
             "line": {
              "color": "rgb(17,17,17)",
              "width": 0.5
             },
             "pattern": {
              "fillmode": "overlay",
              "size": 10,
              "solidity": 0.2
             }
            },
            "type": "bar"
           }
          ],
          "barpolar": [
           {
            "marker": {
             "line": {
              "color": "rgb(17,17,17)",
              "width": 0.5
             },
             "pattern": {
              "fillmode": "overlay",
              "size": 10,
              "solidity": 0.2
             }
            },
            "type": "barpolar"
           }
          ],
          "carpet": [
           {
            "aaxis": {
             "endlinecolor": "#A2B1C6",
             "gridcolor": "#506784",
             "linecolor": "#506784",
             "minorgridcolor": "#506784",
             "startlinecolor": "#A2B1C6"
            },
            "baxis": {
             "endlinecolor": "#A2B1C6",
             "gridcolor": "#506784",
             "linecolor": "#506784",
             "minorgridcolor": "#506784",
             "startlinecolor": "#A2B1C6"
            },
            "type": "carpet"
           }
          ],
          "choropleth": [
           {
            "colorbar": {
             "outlinewidth": 0,
             "ticks": ""
            },
            "type": "choropleth"
           }
          ],
          "contour": [
           {
            "colorbar": {
             "outlinewidth": 0,
             "ticks": ""
            },
            "colorscale": [
             [
              0,
              "#0d0887"
             ],
             [
              0.1111111111111111,
              "#46039f"
             ],
             [
              0.2222222222222222,
              "#7201a8"
             ],
             [
              0.3333333333333333,
              "#9c179e"
             ],
             [
              0.4444444444444444,
              "#bd3786"
             ],
             [
              0.5555555555555556,
              "#d8576b"
             ],
             [
              0.6666666666666666,
              "#ed7953"
             ],
             [
              0.7777777777777778,
              "#fb9f3a"
             ],
             [
              0.8888888888888888,
              "#fdca26"
             ],
             [
              1,
              "#f0f921"
             ]
            ],
            "type": "contour"
           }
          ],
          "contourcarpet": [
           {
            "colorbar": {
             "outlinewidth": 0,
             "ticks": ""
            },
            "type": "contourcarpet"
           }
          ],
          "heatmap": [
           {
            "colorbar": {
             "outlinewidth": 0,
             "ticks": ""
            },
            "colorscale": [
             [
              0,
              "#0d0887"
             ],
             [
              0.1111111111111111,
              "#46039f"
             ],
             [
              0.2222222222222222,
              "#7201a8"
             ],
             [
              0.3333333333333333,
              "#9c179e"
             ],
             [
              0.4444444444444444,
              "#bd3786"
             ],
             [
              0.5555555555555556,
              "#d8576b"
             ],
             [
              0.6666666666666666,
              "#ed7953"
             ],
             [
              0.7777777777777778,
              "#fb9f3a"
             ],
             [
              0.8888888888888888,
              "#fdca26"
             ],
             [
              1,
              "#f0f921"
             ]
            ],
            "type": "heatmap"
           }
          ],
          "heatmapgl": [
           {
            "colorbar": {
             "outlinewidth": 0,
             "ticks": ""
            },
            "colorscale": [
             [
              0,
              "#0d0887"
             ],
             [
              0.1111111111111111,
              "#46039f"
             ],
             [
              0.2222222222222222,
              "#7201a8"
             ],
             [
              0.3333333333333333,
              "#9c179e"
             ],
             [
              0.4444444444444444,
              "#bd3786"
             ],
             [
              0.5555555555555556,
              "#d8576b"
             ],
             [
              0.6666666666666666,
              "#ed7953"
             ],
             [
              0.7777777777777778,
              "#fb9f3a"
             ],
             [
              0.8888888888888888,
              "#fdca26"
             ],
             [
              1,
              "#f0f921"
             ]
            ],
            "type": "heatmapgl"
           }
          ],
          "histogram": [
           {
            "marker": {
             "pattern": {
              "fillmode": "overlay",
              "size": 10,
              "solidity": 0.2
             }
            },
            "type": "histogram"
           }
          ],
          "histogram2d": [
           {
            "colorbar": {
             "outlinewidth": 0,
             "ticks": ""
            },
            "colorscale": [
             [
              0,
              "#0d0887"
             ],
             [
              0.1111111111111111,
              "#46039f"
             ],
             [
              0.2222222222222222,
              "#7201a8"
             ],
             [
              0.3333333333333333,
              "#9c179e"
             ],
             [
              0.4444444444444444,
              "#bd3786"
             ],
             [
              0.5555555555555556,
              "#d8576b"
             ],
             [
              0.6666666666666666,
              "#ed7953"
             ],
             [
              0.7777777777777778,
              "#fb9f3a"
             ],
             [
              0.8888888888888888,
              "#fdca26"
             ],
             [
              1,
              "#f0f921"
             ]
            ],
            "type": "histogram2d"
           }
          ],
          "histogram2dcontour": [
           {
            "colorbar": {
             "outlinewidth": 0,
             "ticks": ""
            },
            "colorscale": [
             [
              0,
              "#0d0887"
             ],
             [
              0.1111111111111111,
              "#46039f"
             ],
             [
              0.2222222222222222,
              "#7201a8"
             ],
             [
              0.3333333333333333,
              "#9c179e"
             ],
             [
              0.4444444444444444,
              "#bd3786"
             ],
             [
              0.5555555555555556,
              "#d8576b"
             ],
             [
              0.6666666666666666,
              "#ed7953"
             ],
             [
              0.7777777777777778,
              "#fb9f3a"
             ],
             [
              0.8888888888888888,
              "#fdca26"
             ],
             [
              1,
              "#f0f921"
             ]
            ],
            "type": "histogram2dcontour"
           }
          ],
          "mesh3d": [
           {
            "colorbar": {
             "outlinewidth": 0,
             "ticks": ""
            },
            "type": "mesh3d"
           }
          ],
          "parcoords": [
           {
            "line": {
             "colorbar": {
              "outlinewidth": 0,
              "ticks": ""
             }
            },
            "type": "parcoords"
           }
          ],
          "pie": [
           {
            "automargin": true,
            "type": "pie"
           }
          ],
          "scatter": [
           {
            "marker": {
             "line": {
              "color": "#283442"
             }
            },
            "type": "scatter"
           }
          ],
          "scatter3d": [
           {
            "line": {
             "colorbar": {
              "outlinewidth": 0,
              "ticks": ""
             }
            },
            "marker": {
             "colorbar": {
              "outlinewidth": 0,
              "ticks": ""
             }
            },
            "type": "scatter3d"
           }
          ],
          "scattercarpet": [
           {
            "marker": {
             "colorbar": {
              "outlinewidth": 0,
              "ticks": ""
             }
            },
            "type": "scattercarpet"
           }
          ],
          "scattergeo": [
           {
            "marker": {
             "colorbar": {
              "outlinewidth": 0,
              "ticks": ""
             }
            },
            "type": "scattergeo"
           }
          ],
          "scattergl": [
           {
            "marker": {
             "line": {
              "color": "#283442"
             }
            },
            "type": "scattergl"
           }
          ],
          "scattermapbox": [
           {
            "marker": {
             "colorbar": {
              "outlinewidth": 0,
              "ticks": ""
             }
            },
            "type": "scattermapbox"
           }
          ],
          "scatterpolar": [
           {
            "marker": {
             "colorbar": {
              "outlinewidth": 0,
              "ticks": ""
             }
            },
            "type": "scatterpolar"
           }
          ],
          "scatterpolargl": [
           {
            "marker": {
             "colorbar": {
              "outlinewidth": 0,
              "ticks": ""
             }
            },
            "type": "scatterpolargl"
           }
          ],
          "scatterternary": [
           {
            "marker": {
             "colorbar": {
              "outlinewidth": 0,
              "ticks": ""
             }
            },
            "type": "scatterternary"
           }
          ],
          "surface": [
           {
            "colorbar": {
             "outlinewidth": 0,
             "ticks": ""
            },
            "colorscale": [
             [
              0,
              "#0d0887"
             ],
             [
              0.1111111111111111,
              "#46039f"
             ],
             [
              0.2222222222222222,
              "#7201a8"
             ],
             [
              0.3333333333333333,
              "#9c179e"
             ],
             [
              0.4444444444444444,
              "#bd3786"
             ],
             [
              0.5555555555555556,
              "#d8576b"
             ],
             [
              0.6666666666666666,
              "#ed7953"
             ],
             [
              0.7777777777777778,
              "#fb9f3a"
             ],
             [
              0.8888888888888888,
              "#fdca26"
             ],
             [
              1,
              "#f0f921"
             ]
            ],
            "type": "surface"
           }
          ],
          "table": [
           {
            "cells": {
             "fill": {
              "color": "#506784"
             },
             "line": {
              "color": "rgb(17,17,17)"
             }
            },
            "header": {
             "fill": {
              "color": "#2a3f5f"
             },
             "line": {
              "color": "rgb(17,17,17)"
             }
            },
            "type": "table"
           }
          ]
         },
         "layout": {
          "annotationdefaults": {
           "arrowcolor": "#f2f5fa",
           "arrowhead": 0,
           "arrowwidth": 1
          },
          "autotypenumbers": "strict",
          "coloraxis": {
           "colorbar": {
            "outlinewidth": 0,
            "ticks": ""
           }
          },
          "colorscale": {
           "diverging": [
            [
             0,
             "#8e0152"
            ],
            [
             0.1,
             "#c51b7d"
            ],
            [
             0.2,
             "#de77ae"
            ],
            [
             0.3,
             "#f1b6da"
            ],
            [
             0.4,
             "#fde0ef"
            ],
            [
             0.5,
             "#f7f7f7"
            ],
            [
             0.6,
             "#e6f5d0"
            ],
            [
             0.7,
             "#b8e186"
            ],
            [
             0.8,
             "#7fbc41"
            ],
            [
             0.9,
             "#4d9221"
            ],
            [
             1,
             "#276419"
            ]
           ],
           "sequential": [
            [
             0,
             "#0d0887"
            ],
            [
             0.1111111111111111,
             "#46039f"
            ],
            [
             0.2222222222222222,
             "#7201a8"
            ],
            [
             0.3333333333333333,
             "#9c179e"
            ],
            [
             0.4444444444444444,
             "#bd3786"
            ],
            [
             0.5555555555555556,
             "#d8576b"
            ],
            [
             0.6666666666666666,
             "#ed7953"
            ],
            [
             0.7777777777777778,
             "#fb9f3a"
            ],
            [
             0.8888888888888888,
             "#fdca26"
            ],
            [
             1,
             "#f0f921"
            ]
           ],
           "sequentialminus": [
            [
             0,
             "#0d0887"
            ],
            [
             0.1111111111111111,
             "#46039f"
            ],
            [
             0.2222222222222222,
             "#7201a8"
            ],
            [
             0.3333333333333333,
             "#9c179e"
            ],
            [
             0.4444444444444444,
             "#bd3786"
            ],
            [
             0.5555555555555556,
             "#d8576b"
            ],
            [
             0.6666666666666666,
             "#ed7953"
            ],
            [
             0.7777777777777778,
             "#fb9f3a"
            ],
            [
             0.8888888888888888,
             "#fdca26"
            ],
            [
             1,
             "#f0f921"
            ]
           ]
          },
          "colorway": [
           "#636efa",
           "#EF553B",
           "#00cc96",
           "#ab63fa",
           "#FFA15A",
           "#19d3f3",
           "#FF6692",
           "#B6E880",
           "#FF97FF",
           "#FECB52"
          ],
          "font": {
           "color": "#f2f5fa"
          },
          "geo": {
           "bgcolor": "rgb(17,17,17)",
           "lakecolor": "rgb(17,17,17)",
           "landcolor": "rgb(17,17,17)",
           "showlakes": true,
           "showland": true,
           "subunitcolor": "#506784"
          },
          "hoverlabel": {
           "align": "left"
          },
          "hovermode": "closest",
          "mapbox": {
           "style": "dark"
          },
          "paper_bgcolor": "rgb(17,17,17)",
          "plot_bgcolor": "rgb(17,17,17)",
          "polar": {
           "angularaxis": {
            "gridcolor": "#506784",
            "linecolor": "#506784",
            "ticks": ""
           },
           "bgcolor": "rgb(17,17,17)",
           "radialaxis": {
            "gridcolor": "#506784",
            "linecolor": "#506784",
            "ticks": ""
           }
          },
          "scene": {
           "xaxis": {
            "backgroundcolor": "rgb(17,17,17)",
            "gridcolor": "#506784",
            "gridwidth": 2,
            "linecolor": "#506784",
            "showbackground": true,
            "ticks": "",
            "zerolinecolor": "#C8D4E3"
           },
           "yaxis": {
            "backgroundcolor": "rgb(17,17,17)",
            "gridcolor": "#506784",
            "gridwidth": 2,
            "linecolor": "#506784",
            "showbackground": true,
            "ticks": "",
            "zerolinecolor": "#C8D4E3"
           },
           "zaxis": {
            "backgroundcolor": "rgb(17,17,17)",
            "gridcolor": "#506784",
            "gridwidth": 2,
            "linecolor": "#506784",
            "showbackground": true,
            "ticks": "",
            "zerolinecolor": "#C8D4E3"
           }
          },
          "shapedefaults": {
           "line": {
            "color": "#f2f5fa"
           }
          },
          "sliderdefaults": {
           "bgcolor": "#C8D4E3",
           "bordercolor": "rgb(17,17,17)",
           "borderwidth": 1,
           "tickwidth": 0
          },
          "ternary": {
           "aaxis": {
            "gridcolor": "#506784",
            "linecolor": "#506784",
            "ticks": ""
           },
           "baxis": {
            "gridcolor": "#506784",
            "linecolor": "#506784",
            "ticks": ""
           },
           "bgcolor": "rgb(17,17,17)",
           "caxis": {
            "gridcolor": "#506784",
            "linecolor": "#506784",
            "ticks": ""
           }
          },
          "title": {
           "x": 0.05
          },
          "updatemenudefaults": {
           "bgcolor": "#506784",
           "borderwidth": 0
          },
          "xaxis": {
           "automargin": true,
           "gridcolor": "#283442",
           "linecolor": "#506784",
           "ticks": "",
           "title": {
            "standoff": 15
           },
           "zerolinecolor": "#283442",
           "zerolinewidth": 2
          },
          "yaxis": {
           "automargin": true,
           "gridcolor": "#283442",
           "linecolor": "#506784",
           "ticks": "",
           "title": {
            "standoff": 15
           },
           "zerolinecolor": "#283442",
           "zerolinewidth": 2
          }
         }
        },
        "title": {
         "text": "Working-Age Dependency Ratio"
        },
        "xaxis": {
         "title": {
          "text": "Year"
         }
        }
       }
      }
     },
     "metadata": {},
     "output_type": "display_data"
    }
   ],
   "source": [
    "# from amgad data\n",
    "fig3 = go.Figure( )\n",
    "fig3.add_trace(go.Bar(x=df2[\"Year\"], y=df2[\"Age dependency ratio (% of working-age population) [SP.POP.DPND]\"], name=\"Age dependency ratio (% of working-age population)\",\n",
    "                       opacity=0.8)  )\n",
    "fig3.update_layout(template='plotly_dark', title=\"Working-Age Dependency Ratio\", xaxis_title=\"Year\",\n",
    "                   )\n",
    "fig3.show()\n",
    "\n"
   ]
  },
  {
   "attachments": {},
   "cell_type": "markdown",
   "metadata": {},
   "source": [
    "`Figure of Density` "
   ]
  },
  {
   "cell_type": "code",
   "execution_count": 33,
   "metadata": {},
   "outputs": [
    {
     "data": {
      "application/vnd.plotly.v1+json": {
       "config": {
        "plotlyServerURL": "https://plot.ly"
       },
       "data": [
        {
         "hovertemplate": "date=%{x}<br> Population per Square KM=%{y}<extra></extra>",
         "legendgroup": "",
         "marker": {
          "color": "#636efa",
          "symbol": "circle"
         },
         "mode": "markers",
         "name": "",
         "orientation": "v",
         "showlegend": false,
         "type": "scatter",
         "x": [
          1950,
          1951,
          1952,
          1953,
          1954,
          1955,
          1956,
          1957,
          1958,
          1959,
          1960,
          1961,
          1962,
          1963,
          1964,
          1965,
          1966,
          1967,
          1968,
          1969,
          1970,
          1971,
          1972,
          1973,
          1974,
          1975,
          1976,
          1977,
          1978,
          1979,
          1980,
          1981,
          1982,
          1983,
          1984,
          1985,
          1986,
          1987,
          1988,
          1989,
          1990,
          1991,
          1992,
          1993,
          1994,
          1995,
          1996,
          1997,
          1998,
          1999,
          2000,
          2001,
          2002,
          2003,
          2004,
          2005,
          2006,
          2007,
          2008,
          2009,
          2010,
          2011,
          2012,
          2013,
          2014,
          2015,
          2016,
          2017,
          2018,
          2019,
          2020,
          2021,
          2022,
          2023,
          2024,
          2025,
          2026,
          2027,
          2028,
          2029,
          2030,
          2031,
          2032,
          2033,
          2034,
          2035,
          2036,
          2037,
          2038,
          2039,
          2040,
          2041,
          2042,
          2043,
          2044,
          2045,
          2046,
          2047,
          2048,
          2049,
          2050,
          2051,
          2052,
          2053,
          2054,
          2055,
          2056,
          2057,
          2058,
          2059,
          2060,
          2061,
          2062,
          2063,
          2064,
          2065,
          2066,
          2067,
          2068,
          2069,
          2070,
          2071,
          2072,
          2073,
          2074,
          2075,
          2076,
          2077,
          2078,
          2079,
          2080,
          2081,
          2082,
          2083,
          2084,
          2085,
          2086,
          2087,
          2088,
          2089,
          2090,
          2091,
          2092,
          2093,
          2094,
          2095,
          2096,
          2097,
          2098,
          2099,
          2100
         ],
         "xaxis": "x",
         "y": [
          56.6644397,
          57.6680589,
          58.8493632,
          60.143545,
          61.451598,
          62.8457779,
          64.1960759,
          65.6252413,
          67.0615476,
          67.9352563,
          68.1427038,
          68.2562128,
          69.2306148,
          71.2398737,
          73.395102,
          75.4005765,
          77.390386,
          79.2713962,
          81.288654,
          83.4822994,
          85.6805755,
          87.8421328,
          89.8791075,
          91.838655,
          93.6840238,
          95.3253783,
          96.8098832,
          98.1854451,
          99.493528,
          100.8643625,
          102.3303501,
          103.8810813,
          105.5710444,
          107.2110155,
          108.7678148,
          110.4415402,
          112.2676365,
          114.2552718,
          116.2383903,
          118.1680674,
          120.1773911,
          121.940089,
          123.313756,
          124.5681472,
          125.7588872,
          126.8899016,
          127.9476515,
          128.9375058,
          129.8786148,
          130.7741483,
          131.6768382,
          132.5768906,
          133.4296541,
          134.2574914,
          135.0849221,
          135.9256348,
          136.7796969,
          137.6574726,
          138.558922,
          139.4920926,
          140.4364428,
          141.3639536,
          142.3499251,
          143.3436208,
          144.2904281,
          145.1785292,
          146.0300108,
          146.9035803,
          147.6112369,
          148.1106699,
          148.4300185,
          148.5304022,
          148.5297638,
          148.5072654,
          148.4559561,
          148.3729502,
          148.2555834,
          148.1049437,
          147.9212482,
          147.7055255,
          147.4587827,
          147.1817099,
          146.876175,
          146.542583,
          146.1784621,
          145.7860339,
          145.3692868,
          144.9309224,
          144.4740048,
          143.9964134,
          143.4953529,
          142.9709223,
          142.4234964,
          141.8474708,
          141.2407599,
          140.599519,
          139.9175759,
          139.1938963,
          138.4241783,
          137.6044499,
          136.7327967,
          135.8078264,
          134.831212,
          133.8060867,
          132.7336794,
          131.6157431,
          130.4552688,
          129.2581871,
          128.0338305,
          126.7871425,
          125.5228432,
          124.2504048,
          122.9741709,
          121.6994733,
          120.4317018,
          119.1718365,
          117.9220963,
          116.6855064,
          115.4607644,
          114.248532,
          113.0506663,
          111.8647056,
          110.6887182,
          109.5187212,
          108.3535085,
          107.1910883,
          106.0270128,
          104.8606267,
          103.6913422,
          102.5191965,
          101.3443539,
          100.1679066,
          98.9934734,
          97.8228193,
          96.6574315,
          95.5008094,
          94.3562506,
          93.2249214,
          92.108634,
          91.0097632,
          89.9290171,
          88.8657101,
          87.8193837,
          86.7876303,
          85.7687554,
          84.7622721,
          83.7659051,
          82.7783943,
          81.798899,
          80.8274538,
          79.8617091
         ],
         "yaxis": "y"
        }
       ],
       "layout": {
        "legend": {
         "tracegroupgap": 0
        },
        "template": {
         "data": {
          "bar": [
           {
            "error_x": {
             "color": "#f2f5fa"
            },
            "error_y": {
             "color": "#f2f5fa"
            },
            "marker": {
             "line": {
              "color": "rgb(17,17,17)",
              "width": 0.5
             },
             "pattern": {
              "fillmode": "overlay",
              "size": 10,
              "solidity": 0.2
             }
            },
            "type": "bar"
           }
          ],
          "barpolar": [
           {
            "marker": {
             "line": {
              "color": "rgb(17,17,17)",
              "width": 0.5
             },
             "pattern": {
              "fillmode": "overlay",
              "size": 10,
              "solidity": 0.2
             }
            },
            "type": "barpolar"
           }
          ],
          "carpet": [
           {
            "aaxis": {
             "endlinecolor": "#A2B1C6",
             "gridcolor": "#506784",
             "linecolor": "#506784",
             "minorgridcolor": "#506784",
             "startlinecolor": "#A2B1C6"
            },
            "baxis": {
             "endlinecolor": "#A2B1C6",
             "gridcolor": "#506784",
             "linecolor": "#506784",
             "minorgridcolor": "#506784",
             "startlinecolor": "#A2B1C6"
            },
            "type": "carpet"
           }
          ],
          "choropleth": [
           {
            "colorbar": {
             "outlinewidth": 0,
             "ticks": ""
            },
            "type": "choropleth"
           }
          ],
          "contour": [
           {
            "colorbar": {
             "outlinewidth": 0,
             "ticks": ""
            },
            "colorscale": [
             [
              0,
              "#0d0887"
             ],
             [
              0.1111111111111111,
              "#46039f"
             ],
             [
              0.2222222222222222,
              "#7201a8"
             ],
             [
              0.3333333333333333,
              "#9c179e"
             ],
             [
              0.4444444444444444,
              "#bd3786"
             ],
             [
              0.5555555555555556,
              "#d8576b"
             ],
             [
              0.6666666666666666,
              "#ed7953"
             ],
             [
              0.7777777777777778,
              "#fb9f3a"
             ],
             [
              0.8888888888888888,
              "#fdca26"
             ],
             [
              1,
              "#f0f921"
             ]
            ],
            "type": "contour"
           }
          ],
          "contourcarpet": [
           {
            "colorbar": {
             "outlinewidth": 0,
             "ticks": ""
            },
            "type": "contourcarpet"
           }
          ],
          "heatmap": [
           {
            "colorbar": {
             "outlinewidth": 0,
             "ticks": ""
            },
            "colorscale": [
             [
              0,
              "#0d0887"
             ],
             [
              0.1111111111111111,
              "#46039f"
             ],
             [
              0.2222222222222222,
              "#7201a8"
             ],
             [
              0.3333333333333333,
              "#9c179e"
             ],
             [
              0.4444444444444444,
              "#bd3786"
             ],
             [
              0.5555555555555556,
              "#d8576b"
             ],
             [
              0.6666666666666666,
              "#ed7953"
             ],
             [
              0.7777777777777778,
              "#fb9f3a"
             ],
             [
              0.8888888888888888,
              "#fdca26"
             ],
             [
              1,
              "#f0f921"
             ]
            ],
            "type": "heatmap"
           }
          ],
          "heatmapgl": [
           {
            "colorbar": {
             "outlinewidth": 0,
             "ticks": ""
            },
            "colorscale": [
             [
              0,
              "#0d0887"
             ],
             [
              0.1111111111111111,
              "#46039f"
             ],
             [
              0.2222222222222222,
              "#7201a8"
             ],
             [
              0.3333333333333333,
              "#9c179e"
             ],
             [
              0.4444444444444444,
              "#bd3786"
             ],
             [
              0.5555555555555556,
              "#d8576b"
             ],
             [
              0.6666666666666666,
              "#ed7953"
             ],
             [
              0.7777777777777778,
              "#fb9f3a"
             ],
             [
              0.8888888888888888,
              "#fdca26"
             ],
             [
              1,
              "#f0f921"
             ]
            ],
            "type": "heatmapgl"
           }
          ],
          "histogram": [
           {
            "marker": {
             "pattern": {
              "fillmode": "overlay",
              "size": 10,
              "solidity": 0.2
             }
            },
            "type": "histogram"
           }
          ],
          "histogram2d": [
           {
            "colorbar": {
             "outlinewidth": 0,
             "ticks": ""
            },
            "colorscale": [
             [
              0,
              "#0d0887"
             ],
             [
              0.1111111111111111,
              "#46039f"
             ],
             [
              0.2222222222222222,
              "#7201a8"
             ],
             [
              0.3333333333333333,
              "#9c179e"
             ],
             [
              0.4444444444444444,
              "#bd3786"
             ],
             [
              0.5555555555555556,
              "#d8576b"
             ],
             [
              0.6666666666666666,
              "#ed7953"
             ],
             [
              0.7777777777777778,
              "#fb9f3a"
             ],
             [
              0.8888888888888888,
              "#fdca26"
             ],
             [
              1,
              "#f0f921"
             ]
            ],
            "type": "histogram2d"
           }
          ],
          "histogram2dcontour": [
           {
            "colorbar": {
             "outlinewidth": 0,
             "ticks": ""
            },
            "colorscale": [
             [
              0,
              "#0d0887"
             ],
             [
              0.1111111111111111,
              "#46039f"
             ],
             [
              0.2222222222222222,
              "#7201a8"
             ],
             [
              0.3333333333333333,
              "#9c179e"
             ],
             [
              0.4444444444444444,
              "#bd3786"
             ],
             [
              0.5555555555555556,
              "#d8576b"
             ],
             [
              0.6666666666666666,
              "#ed7953"
             ],
             [
              0.7777777777777778,
              "#fb9f3a"
             ],
             [
              0.8888888888888888,
              "#fdca26"
             ],
             [
              1,
              "#f0f921"
             ]
            ],
            "type": "histogram2dcontour"
           }
          ],
          "mesh3d": [
           {
            "colorbar": {
             "outlinewidth": 0,
             "ticks": ""
            },
            "type": "mesh3d"
           }
          ],
          "parcoords": [
           {
            "line": {
             "colorbar": {
              "outlinewidth": 0,
              "ticks": ""
             }
            },
            "type": "parcoords"
           }
          ],
          "pie": [
           {
            "automargin": true,
            "type": "pie"
           }
          ],
          "scatter": [
           {
            "marker": {
             "line": {
              "color": "#283442"
             }
            },
            "type": "scatter"
           }
          ],
          "scatter3d": [
           {
            "line": {
             "colorbar": {
              "outlinewidth": 0,
              "ticks": ""
             }
            },
            "marker": {
             "colorbar": {
              "outlinewidth": 0,
              "ticks": ""
             }
            },
            "type": "scatter3d"
           }
          ],
          "scattercarpet": [
           {
            "marker": {
             "colorbar": {
              "outlinewidth": 0,
              "ticks": ""
             }
            },
            "type": "scattercarpet"
           }
          ],
          "scattergeo": [
           {
            "marker": {
             "colorbar": {
              "outlinewidth": 0,
              "ticks": ""
             }
            },
            "type": "scattergeo"
           }
          ],
          "scattergl": [
           {
            "marker": {
             "line": {
              "color": "#283442"
             }
            },
            "type": "scattergl"
           }
          ],
          "scattermapbox": [
           {
            "marker": {
             "colorbar": {
              "outlinewidth": 0,
              "ticks": ""
             }
            },
            "type": "scattermapbox"
           }
          ],
          "scatterpolar": [
           {
            "marker": {
             "colorbar": {
              "outlinewidth": 0,
              "ticks": ""
             }
            },
            "type": "scatterpolar"
           }
          ],
          "scatterpolargl": [
           {
            "marker": {
             "colorbar": {
              "outlinewidth": 0,
              "ticks": ""
             }
            },
            "type": "scatterpolargl"
           }
          ],
          "scatterternary": [
           {
            "marker": {
             "colorbar": {
              "outlinewidth": 0,
              "ticks": ""
             }
            },
            "type": "scatterternary"
           }
          ],
          "surface": [
           {
            "colorbar": {
             "outlinewidth": 0,
             "ticks": ""
            },
            "colorscale": [
             [
              0,
              "#0d0887"
             ],
             [
              0.1111111111111111,
              "#46039f"
             ],
             [
              0.2222222222222222,
              "#7201a8"
             ],
             [
              0.3333333333333333,
              "#9c179e"
             ],
             [
              0.4444444444444444,
              "#bd3786"
             ],
             [
              0.5555555555555556,
              "#d8576b"
             ],
             [
              0.6666666666666666,
              "#ed7953"
             ],
             [
              0.7777777777777778,
              "#fb9f3a"
             ],
             [
              0.8888888888888888,
              "#fdca26"
             ],
             [
              1,
              "#f0f921"
             ]
            ],
            "type": "surface"
           }
          ],
          "table": [
           {
            "cells": {
             "fill": {
              "color": "#506784"
             },
             "line": {
              "color": "rgb(17,17,17)"
             }
            },
            "header": {
             "fill": {
              "color": "#2a3f5f"
             },
             "line": {
              "color": "rgb(17,17,17)"
             }
            },
            "type": "table"
           }
          ]
         },
         "layout": {
          "annotationdefaults": {
           "arrowcolor": "#f2f5fa",
           "arrowhead": 0,
           "arrowwidth": 1
          },
          "autotypenumbers": "strict",
          "coloraxis": {
           "colorbar": {
            "outlinewidth": 0,
            "ticks": ""
           }
          },
          "colorscale": {
           "diverging": [
            [
             0,
             "#8e0152"
            ],
            [
             0.1,
             "#c51b7d"
            ],
            [
             0.2,
             "#de77ae"
            ],
            [
             0.3,
             "#f1b6da"
            ],
            [
             0.4,
             "#fde0ef"
            ],
            [
             0.5,
             "#f7f7f7"
            ],
            [
             0.6,
             "#e6f5d0"
            ],
            [
             0.7,
             "#b8e186"
            ],
            [
             0.8,
             "#7fbc41"
            ],
            [
             0.9,
             "#4d9221"
            ],
            [
             1,
             "#276419"
            ]
           ],
           "sequential": [
            [
             0,
             "#0d0887"
            ],
            [
             0.1111111111111111,
             "#46039f"
            ],
            [
             0.2222222222222222,
             "#7201a8"
            ],
            [
             0.3333333333333333,
             "#9c179e"
            ],
            [
             0.4444444444444444,
             "#bd3786"
            ],
            [
             0.5555555555555556,
             "#d8576b"
            ],
            [
             0.6666666666666666,
             "#ed7953"
            ],
            [
             0.7777777777777778,
             "#fb9f3a"
            ],
            [
             0.8888888888888888,
             "#fdca26"
            ],
            [
             1,
             "#f0f921"
            ]
           ],
           "sequentialminus": [
            [
             0,
             "#0d0887"
            ],
            [
             0.1111111111111111,
             "#46039f"
            ],
            [
             0.2222222222222222,
             "#7201a8"
            ],
            [
             0.3333333333333333,
             "#9c179e"
            ],
            [
             0.4444444444444444,
             "#bd3786"
            ],
            [
             0.5555555555555556,
             "#d8576b"
            ],
            [
             0.6666666666666666,
             "#ed7953"
            ],
            [
             0.7777777777777778,
             "#fb9f3a"
            ],
            [
             0.8888888888888888,
             "#fdca26"
            ],
            [
             1,
             "#f0f921"
            ]
           ]
          },
          "colorway": [
           "#636efa",
           "#EF553B",
           "#00cc96",
           "#ab63fa",
           "#FFA15A",
           "#19d3f3",
           "#FF6692",
           "#B6E880",
           "#FF97FF",
           "#FECB52"
          ],
          "font": {
           "color": "#f2f5fa"
          },
          "geo": {
           "bgcolor": "rgb(17,17,17)",
           "lakecolor": "rgb(17,17,17)",
           "landcolor": "rgb(17,17,17)",
           "showlakes": true,
           "showland": true,
           "subunitcolor": "#506784"
          },
          "hoverlabel": {
           "align": "left"
          },
          "hovermode": "closest",
          "mapbox": {
           "style": "dark"
          },
          "paper_bgcolor": "rgb(17,17,17)",
          "plot_bgcolor": "rgb(17,17,17)",
          "polar": {
           "angularaxis": {
            "gridcolor": "#506784",
            "linecolor": "#506784",
            "ticks": ""
           },
           "bgcolor": "rgb(17,17,17)",
           "radialaxis": {
            "gridcolor": "#506784",
            "linecolor": "#506784",
            "ticks": ""
           }
          },
          "scene": {
           "xaxis": {
            "backgroundcolor": "rgb(17,17,17)",
            "gridcolor": "#506784",
            "gridwidth": 2,
            "linecolor": "#506784",
            "showbackground": true,
            "ticks": "",
            "zerolinecolor": "#C8D4E3"
           },
           "yaxis": {
            "backgroundcolor": "rgb(17,17,17)",
            "gridcolor": "#506784",
            "gridwidth": 2,
            "linecolor": "#506784",
            "showbackground": true,
            "ticks": "",
            "zerolinecolor": "#C8D4E3"
           },
           "zaxis": {
            "backgroundcolor": "rgb(17,17,17)",
            "gridcolor": "#506784",
            "gridwidth": 2,
            "linecolor": "#506784",
            "showbackground": true,
            "ticks": "",
            "zerolinecolor": "#C8D4E3"
           }
          },
          "shapedefaults": {
           "line": {
            "color": "#f2f5fa"
           }
          },
          "sliderdefaults": {
           "bgcolor": "#C8D4E3",
           "bordercolor": "rgb(17,17,17)",
           "borderwidth": 1,
           "tickwidth": 0
          },
          "ternary": {
           "aaxis": {
            "gridcolor": "#506784",
            "linecolor": "#506784",
            "ticks": ""
           },
           "baxis": {
            "gridcolor": "#506784",
            "linecolor": "#506784",
            "ticks": ""
           },
           "bgcolor": "rgb(17,17,17)",
           "caxis": {
            "gridcolor": "#506784",
            "linecolor": "#506784",
            "ticks": ""
           }
          },
          "title": {
           "x": 0.05
          },
          "updatemenudefaults": {
           "bgcolor": "#506784",
           "borderwidth": 0
          },
          "xaxis": {
           "automargin": true,
           "gridcolor": "#283442",
           "linecolor": "#506784",
           "ticks": "",
           "title": {
            "standoff": 15
           },
           "zerolinecolor": "#283442",
           "zerolinewidth": 2
          },
          "yaxis": {
           "automargin": true,
           "gridcolor": "#283442",
           "linecolor": "#506784",
           "ticks": "",
           "title": {
            "standoff": 15
           },
           "zerolinecolor": "#283442",
           "zerolinewidth": 2
          }
         }
        },
        "title": {
         "text": "Density Per KM of China"
        },
        "xaxis": {
         "anchor": "y",
         "domain": [
          0,
          1
         ],
         "title": {
          "text": "date"
         }
        },
        "yaxis": {
         "anchor": "x",
         "domain": [
          0,
          1
         ],
         "title": {
          "text": " Population per Square KM"
         }
        }
       }
      }
     },
     "metadata": {},
     "output_type": "display_data"
    }
   ],
   "source": [
    "# density\n",
    "fig4 = px.scatter(merged, x=\"date\", y=\" Population per Square KM\", title=\"Density Per KM of China\", template=\"plotly_dark\",)\n",
    "fig4.show()"
   ]
  },
  {
   "attachments": {},
   "cell_type": "markdown",
   "metadata": {},
   "source": [
    "`Figure of Urban vs Rural` "
   ]
  },
  {
   "cell_type": "code",
   "execution_count": 34,
   "metadata": {},
   "outputs": [
    {
     "data": {
      "application/vnd.plotly.v1+json": {
       "config": {
        "plotlyServerURL": "https://plot.ly"
       },
       "data": [
        {
         "alignmentgroup": "True",
         "hovertemplate": "Population Type=Urban population (% of total population) [SP.URB.TOTL.IN.ZS]<br>Year=%{x}<br>Population=%{y}<extra></extra>",
         "legendgroup": "Urban population (% of total population) [SP.URB.TOTL.IN.ZS]",
         "marker": {
          "color": "#636efa",
          "pattern": {
           "shape": ""
          }
         },
         "name": "Urban population (% of total population) [SP.URB.TOTL.IN.ZS]",
         "offsetgroup": "Urban population (% of total population) [SP.URB.TOTL.IN.ZS]",
         "orientation": "v",
         "showlegend": true,
         "textposition": "auto",
         "type": "bar",
         "x": [
          1969,
          1970,
          1971,
          1972,
          1973,
          1974,
          1975,
          1976,
          1977,
          1978,
          1979,
          1980,
          1981,
          1982,
          1983,
          1984,
          1985,
          1986,
          1987,
          1988,
          1989,
          1990,
          1991,
          1992,
          1993,
          1994,
          1995,
          1996,
          1997,
          1998,
          1999,
          2000,
          2001,
          2002,
          2003,
          2004,
          2005,
          2006,
          2007,
          2008,
          2009,
          2010,
          2011,
          2012,
          2013,
          2014,
          2015,
          2016,
          2017,
          2018,
          2019,
          2020,
          2021,
          2022,
          2023,
          2024,
          2025,
          2026,
          2027,
          2028,
          2029,
          2030,
          2031,
          2032,
          2033,
          2034,
          2035,
          2036,
          2037,
          2038,
          2039,
          2040,
          2041,
          2042,
          2043,
          2044,
          2045,
          2046,
          2047,
          2048,
          2049,
          2050
         ],
         "xaxis": "x",
         "y": [
          17.528,
          17.4,
          17.292,
          17.184,
          17.184,
          17.292,
          17.4,
          17.46,
          17.52,
          17.9,
          18.617,
          19.358,
          20.118,
          20.902,
          21.545,
          22.203,
          22.874,
          23.559,
          24.259,
          24.974,
          25.701,
          26.442,
          27.312,
          28.2,
          29.103,
          30.024,
          30.961,
          31.916,
          32.883,
          33.867,
          34.865,
          35.877,
          37.093,
          38.425,
          39.776,
          41.144,
          42.522,
          43.868,
          45.199,
          46.539,
          47.88,
          49.226,
          50.511,
          51.765,
          53.013,
          54.259,
          55.5,
          56.736,
          57.96,
          59.152,
          60.308,
          61.428,
          62.512,
          63.56,
          64.57,
          65.544,
          66.481,
          67.382,
          68.246,
          69.074,
          69.867,
          70.626,
          71.35,
          72.041,
          72.698,
          73.324,
          73.918,
          74.481,
          75.014,
          75.517,
          75.991,
          76.436,
          76.854,
          77.243,
          77.605,
          77.964,
          78.318,
          78.668,
          79.015,
          79.356,
          79.694,
          80.028
         ],
         "yaxis": "y"
        },
        {
         "alignmentgroup": "True",
         "hovertemplate": "Population Type=Rural population (% of total population) [SP.RUR.TOTL.ZS]<br>Year=%{x}<br>Population=%{y}<extra></extra>",
         "legendgroup": "Rural population (% of total population) [SP.RUR.TOTL.ZS]",
         "marker": {
          "color": "#EF553B",
          "pattern": {
           "shape": ""
          }
         },
         "name": "Rural population (% of total population) [SP.RUR.TOTL.ZS]",
         "offsetgroup": "Rural population (% of total population) [SP.RUR.TOTL.ZS]",
         "orientation": "v",
         "showlegend": true,
         "textposition": "auto",
         "type": "bar",
         "x": [
          1969,
          1970,
          1971,
          1972,
          1973,
          1974,
          1975,
          1976,
          1977,
          1978,
          1979,
          1980,
          1981,
          1982,
          1983,
          1984,
          1985,
          1986,
          1987,
          1988,
          1989,
          1990,
          1991,
          1992,
          1993,
          1994,
          1995,
          1996,
          1997,
          1998,
          1999,
          2000,
          2001,
          2002,
          2003,
          2004,
          2005,
          2006,
          2007,
          2008,
          2009,
          2010,
          2011,
          2012,
          2013,
          2014,
          2015,
          2016,
          2017,
          2018,
          2019,
          2020,
          2021,
          2022,
          2023,
          2024,
          2025,
          2026,
          2027,
          2028,
          2029,
          2030,
          2031,
          2032,
          2033,
          2034,
          2035,
          2036,
          2037,
          2038,
          2039,
          2040,
          2041,
          2042,
          2043,
          2044,
          2045,
          2046,
          2047,
          2048,
          2049,
          2050
         ],
         "xaxis": "x",
         "y": [
          82.472,
          82.6,
          82.708,
          82.816,
          82.816,
          82.708,
          82.6,
          82.54,
          82.48,
          82.1,
          81.383,
          80.642,
          79.882,
          79.098,
          78.455,
          77.797,
          77.126,
          76.441,
          75.741,
          75.026,
          74.299,
          73.558,
          72.688,
          71.8,
          70.897,
          69.976,
          69.039,
          68.084,
          67.117,
          66.133,
          65.135,
          64.123,
          62.907,
          61.575,
          60.224,
          58.856,
          57.478,
          56.132,
          54.801,
          53.461,
          52.12,
          50.774,
          49.489,
          48.235,
          46.987,
          45.741,
          44.5,
          43.264,
          42.04,
          40.848,
          39.692,
          38.572,
          37.488,
          36.44,
          35.43,
          34.456,
          33.519,
          32.618,
          31.754,
          30.926,
          30.133,
          29.374,
          28.65,
          27.959,
          27.302,
          26.676,
          26.082,
          25.519,
          24.986,
          24.483,
          24.009,
          23.564,
          23.146,
          22.757,
          22.395,
          22.036,
          21.682,
          21.332,
          20.985,
          20.644,
          20.306,
          19.972
         ],
         "yaxis": "y"
        }
       ],
       "layout": {
        "barmode": "stack",
        "legend": {
         "title": {
          "text": "Population Type"
         },
         "tracegroupgap": 0
        },
        "template": {
         "data": {
          "bar": [
           {
            "error_x": {
             "color": "#f2f5fa"
            },
            "error_y": {
             "color": "#f2f5fa"
            },
            "marker": {
             "line": {
              "color": "rgb(17,17,17)",
              "width": 0.5
             },
             "pattern": {
              "fillmode": "overlay",
              "size": 10,
              "solidity": 0.2
             }
            },
            "type": "bar"
           }
          ],
          "barpolar": [
           {
            "marker": {
             "line": {
              "color": "rgb(17,17,17)",
              "width": 0.5
             },
             "pattern": {
              "fillmode": "overlay",
              "size": 10,
              "solidity": 0.2
             }
            },
            "type": "barpolar"
           }
          ],
          "carpet": [
           {
            "aaxis": {
             "endlinecolor": "#A2B1C6",
             "gridcolor": "#506784",
             "linecolor": "#506784",
             "minorgridcolor": "#506784",
             "startlinecolor": "#A2B1C6"
            },
            "baxis": {
             "endlinecolor": "#A2B1C6",
             "gridcolor": "#506784",
             "linecolor": "#506784",
             "minorgridcolor": "#506784",
             "startlinecolor": "#A2B1C6"
            },
            "type": "carpet"
           }
          ],
          "choropleth": [
           {
            "colorbar": {
             "outlinewidth": 0,
             "ticks": ""
            },
            "type": "choropleth"
           }
          ],
          "contour": [
           {
            "colorbar": {
             "outlinewidth": 0,
             "ticks": ""
            },
            "colorscale": [
             [
              0,
              "#0d0887"
             ],
             [
              0.1111111111111111,
              "#46039f"
             ],
             [
              0.2222222222222222,
              "#7201a8"
             ],
             [
              0.3333333333333333,
              "#9c179e"
             ],
             [
              0.4444444444444444,
              "#bd3786"
             ],
             [
              0.5555555555555556,
              "#d8576b"
             ],
             [
              0.6666666666666666,
              "#ed7953"
             ],
             [
              0.7777777777777778,
              "#fb9f3a"
             ],
             [
              0.8888888888888888,
              "#fdca26"
             ],
             [
              1,
              "#f0f921"
             ]
            ],
            "type": "contour"
           }
          ],
          "contourcarpet": [
           {
            "colorbar": {
             "outlinewidth": 0,
             "ticks": ""
            },
            "type": "contourcarpet"
           }
          ],
          "heatmap": [
           {
            "colorbar": {
             "outlinewidth": 0,
             "ticks": ""
            },
            "colorscale": [
             [
              0,
              "#0d0887"
             ],
             [
              0.1111111111111111,
              "#46039f"
             ],
             [
              0.2222222222222222,
              "#7201a8"
             ],
             [
              0.3333333333333333,
              "#9c179e"
             ],
             [
              0.4444444444444444,
              "#bd3786"
             ],
             [
              0.5555555555555556,
              "#d8576b"
             ],
             [
              0.6666666666666666,
              "#ed7953"
             ],
             [
              0.7777777777777778,
              "#fb9f3a"
             ],
             [
              0.8888888888888888,
              "#fdca26"
             ],
             [
              1,
              "#f0f921"
             ]
            ],
            "type": "heatmap"
           }
          ],
          "heatmapgl": [
           {
            "colorbar": {
             "outlinewidth": 0,
             "ticks": ""
            },
            "colorscale": [
             [
              0,
              "#0d0887"
             ],
             [
              0.1111111111111111,
              "#46039f"
             ],
             [
              0.2222222222222222,
              "#7201a8"
             ],
             [
              0.3333333333333333,
              "#9c179e"
             ],
             [
              0.4444444444444444,
              "#bd3786"
             ],
             [
              0.5555555555555556,
              "#d8576b"
             ],
             [
              0.6666666666666666,
              "#ed7953"
             ],
             [
              0.7777777777777778,
              "#fb9f3a"
             ],
             [
              0.8888888888888888,
              "#fdca26"
             ],
             [
              1,
              "#f0f921"
             ]
            ],
            "type": "heatmapgl"
           }
          ],
          "histogram": [
           {
            "marker": {
             "pattern": {
              "fillmode": "overlay",
              "size": 10,
              "solidity": 0.2
             }
            },
            "type": "histogram"
           }
          ],
          "histogram2d": [
           {
            "colorbar": {
             "outlinewidth": 0,
             "ticks": ""
            },
            "colorscale": [
             [
              0,
              "#0d0887"
             ],
             [
              0.1111111111111111,
              "#46039f"
             ],
             [
              0.2222222222222222,
              "#7201a8"
             ],
             [
              0.3333333333333333,
              "#9c179e"
             ],
             [
              0.4444444444444444,
              "#bd3786"
             ],
             [
              0.5555555555555556,
              "#d8576b"
             ],
             [
              0.6666666666666666,
              "#ed7953"
             ],
             [
              0.7777777777777778,
              "#fb9f3a"
             ],
             [
              0.8888888888888888,
              "#fdca26"
             ],
             [
              1,
              "#f0f921"
             ]
            ],
            "type": "histogram2d"
           }
          ],
          "histogram2dcontour": [
           {
            "colorbar": {
             "outlinewidth": 0,
             "ticks": ""
            },
            "colorscale": [
             [
              0,
              "#0d0887"
             ],
             [
              0.1111111111111111,
              "#46039f"
             ],
             [
              0.2222222222222222,
              "#7201a8"
             ],
             [
              0.3333333333333333,
              "#9c179e"
             ],
             [
              0.4444444444444444,
              "#bd3786"
             ],
             [
              0.5555555555555556,
              "#d8576b"
             ],
             [
              0.6666666666666666,
              "#ed7953"
             ],
             [
              0.7777777777777778,
              "#fb9f3a"
             ],
             [
              0.8888888888888888,
              "#fdca26"
             ],
             [
              1,
              "#f0f921"
             ]
            ],
            "type": "histogram2dcontour"
           }
          ],
          "mesh3d": [
           {
            "colorbar": {
             "outlinewidth": 0,
             "ticks": ""
            },
            "type": "mesh3d"
           }
          ],
          "parcoords": [
           {
            "line": {
             "colorbar": {
              "outlinewidth": 0,
              "ticks": ""
             }
            },
            "type": "parcoords"
           }
          ],
          "pie": [
           {
            "automargin": true,
            "type": "pie"
           }
          ],
          "scatter": [
           {
            "marker": {
             "line": {
              "color": "#283442"
             }
            },
            "type": "scatter"
           }
          ],
          "scatter3d": [
           {
            "line": {
             "colorbar": {
              "outlinewidth": 0,
              "ticks": ""
             }
            },
            "marker": {
             "colorbar": {
              "outlinewidth": 0,
              "ticks": ""
             }
            },
            "type": "scatter3d"
           }
          ],
          "scattercarpet": [
           {
            "marker": {
             "colorbar": {
              "outlinewidth": 0,
              "ticks": ""
             }
            },
            "type": "scattercarpet"
           }
          ],
          "scattergeo": [
           {
            "marker": {
             "colorbar": {
              "outlinewidth": 0,
              "ticks": ""
             }
            },
            "type": "scattergeo"
           }
          ],
          "scattergl": [
           {
            "marker": {
             "line": {
              "color": "#283442"
             }
            },
            "type": "scattergl"
           }
          ],
          "scattermapbox": [
           {
            "marker": {
             "colorbar": {
              "outlinewidth": 0,
              "ticks": ""
             }
            },
            "type": "scattermapbox"
           }
          ],
          "scatterpolar": [
           {
            "marker": {
             "colorbar": {
              "outlinewidth": 0,
              "ticks": ""
             }
            },
            "type": "scatterpolar"
           }
          ],
          "scatterpolargl": [
           {
            "marker": {
             "colorbar": {
              "outlinewidth": 0,
              "ticks": ""
             }
            },
            "type": "scatterpolargl"
           }
          ],
          "scatterternary": [
           {
            "marker": {
             "colorbar": {
              "outlinewidth": 0,
              "ticks": ""
             }
            },
            "type": "scatterternary"
           }
          ],
          "surface": [
           {
            "colorbar": {
             "outlinewidth": 0,
             "ticks": ""
            },
            "colorscale": [
             [
              0,
              "#0d0887"
             ],
             [
              0.1111111111111111,
              "#46039f"
             ],
             [
              0.2222222222222222,
              "#7201a8"
             ],
             [
              0.3333333333333333,
              "#9c179e"
             ],
             [
              0.4444444444444444,
              "#bd3786"
             ],
             [
              0.5555555555555556,
              "#d8576b"
             ],
             [
              0.6666666666666666,
              "#ed7953"
             ],
             [
              0.7777777777777778,
              "#fb9f3a"
             ],
             [
              0.8888888888888888,
              "#fdca26"
             ],
             [
              1,
              "#f0f921"
             ]
            ],
            "type": "surface"
           }
          ],
          "table": [
           {
            "cells": {
             "fill": {
              "color": "#506784"
             },
             "line": {
              "color": "rgb(17,17,17)"
             }
            },
            "header": {
             "fill": {
              "color": "#2a3f5f"
             },
             "line": {
              "color": "rgb(17,17,17)"
             }
            },
            "type": "table"
           }
          ]
         },
         "layout": {
          "annotationdefaults": {
           "arrowcolor": "#f2f5fa",
           "arrowhead": 0,
           "arrowwidth": 1
          },
          "autotypenumbers": "strict",
          "coloraxis": {
           "colorbar": {
            "outlinewidth": 0,
            "ticks": ""
           }
          },
          "colorscale": {
           "diverging": [
            [
             0,
             "#8e0152"
            ],
            [
             0.1,
             "#c51b7d"
            ],
            [
             0.2,
             "#de77ae"
            ],
            [
             0.3,
             "#f1b6da"
            ],
            [
             0.4,
             "#fde0ef"
            ],
            [
             0.5,
             "#f7f7f7"
            ],
            [
             0.6,
             "#e6f5d0"
            ],
            [
             0.7,
             "#b8e186"
            ],
            [
             0.8,
             "#7fbc41"
            ],
            [
             0.9,
             "#4d9221"
            ],
            [
             1,
             "#276419"
            ]
           ],
           "sequential": [
            [
             0,
             "#0d0887"
            ],
            [
             0.1111111111111111,
             "#46039f"
            ],
            [
             0.2222222222222222,
             "#7201a8"
            ],
            [
             0.3333333333333333,
             "#9c179e"
            ],
            [
             0.4444444444444444,
             "#bd3786"
            ],
            [
             0.5555555555555556,
             "#d8576b"
            ],
            [
             0.6666666666666666,
             "#ed7953"
            ],
            [
             0.7777777777777778,
             "#fb9f3a"
            ],
            [
             0.8888888888888888,
             "#fdca26"
            ],
            [
             1,
             "#f0f921"
            ]
           ],
           "sequentialminus": [
            [
             0,
             "#0d0887"
            ],
            [
             0.1111111111111111,
             "#46039f"
            ],
            [
             0.2222222222222222,
             "#7201a8"
            ],
            [
             0.3333333333333333,
             "#9c179e"
            ],
            [
             0.4444444444444444,
             "#bd3786"
            ],
            [
             0.5555555555555556,
             "#d8576b"
            ],
            [
             0.6666666666666666,
             "#ed7953"
            ],
            [
             0.7777777777777778,
             "#fb9f3a"
            ],
            [
             0.8888888888888888,
             "#fdca26"
            ],
            [
             1,
             "#f0f921"
            ]
           ]
          },
          "colorway": [
           "#636efa",
           "#EF553B",
           "#00cc96",
           "#ab63fa",
           "#FFA15A",
           "#19d3f3",
           "#FF6692",
           "#B6E880",
           "#FF97FF",
           "#FECB52"
          ],
          "font": {
           "color": "#f2f5fa"
          },
          "geo": {
           "bgcolor": "rgb(17,17,17)",
           "lakecolor": "rgb(17,17,17)",
           "landcolor": "rgb(17,17,17)",
           "showlakes": true,
           "showland": true,
           "subunitcolor": "#506784"
          },
          "hoverlabel": {
           "align": "left"
          },
          "hovermode": "closest",
          "mapbox": {
           "style": "dark"
          },
          "paper_bgcolor": "rgb(17,17,17)",
          "plot_bgcolor": "rgb(17,17,17)",
          "polar": {
           "angularaxis": {
            "gridcolor": "#506784",
            "linecolor": "#506784",
            "ticks": ""
           },
           "bgcolor": "rgb(17,17,17)",
           "radialaxis": {
            "gridcolor": "#506784",
            "linecolor": "#506784",
            "ticks": ""
           }
          },
          "scene": {
           "xaxis": {
            "backgroundcolor": "rgb(17,17,17)",
            "gridcolor": "#506784",
            "gridwidth": 2,
            "linecolor": "#506784",
            "showbackground": true,
            "ticks": "",
            "zerolinecolor": "#C8D4E3"
           },
           "yaxis": {
            "backgroundcolor": "rgb(17,17,17)",
            "gridcolor": "#506784",
            "gridwidth": 2,
            "linecolor": "#506784",
            "showbackground": true,
            "ticks": "",
            "zerolinecolor": "#C8D4E3"
           },
           "zaxis": {
            "backgroundcolor": "rgb(17,17,17)",
            "gridcolor": "#506784",
            "gridwidth": 2,
            "linecolor": "#506784",
            "showbackground": true,
            "ticks": "",
            "zerolinecolor": "#C8D4E3"
           }
          },
          "shapedefaults": {
           "line": {
            "color": "#f2f5fa"
           }
          },
          "sliderdefaults": {
           "bgcolor": "#C8D4E3",
           "bordercolor": "rgb(17,17,17)",
           "borderwidth": 1,
           "tickwidth": 0
          },
          "ternary": {
           "aaxis": {
            "gridcolor": "#506784",
            "linecolor": "#506784",
            "ticks": ""
           },
           "baxis": {
            "gridcolor": "#506784",
            "linecolor": "#506784",
            "ticks": ""
           },
           "bgcolor": "rgb(17,17,17)",
           "caxis": {
            "gridcolor": "#506784",
            "linecolor": "#506784",
            "ticks": ""
           }
          },
          "title": {
           "x": 0.05
          },
          "updatemenudefaults": {
           "bgcolor": "#506784",
           "borderwidth": 0
          },
          "xaxis": {
           "automargin": true,
           "gridcolor": "#283442",
           "linecolor": "#506784",
           "ticks": "",
           "title": {
            "standoff": 15
           },
           "zerolinecolor": "#283442",
           "zerolinewidth": 2
          },
          "yaxis": {
           "automargin": true,
           "gridcolor": "#283442",
           "linecolor": "#506784",
           "ticks": "",
           "title": {
            "standoff": 15
           },
           "zerolinecolor": "#283442",
           "zerolinewidth": 2
          }
         }
        },
        "title": {
         "text": "Urban vs Rural Population of China"
        },
        "xaxis": {
         "anchor": "y",
         "domain": [
          0,
          1
         ],
         "title": {
          "text": "Year"
         }
        },
        "yaxis": {
         "anchor": "x",
         "domain": [
          0,
          1
         ],
         "title": {
          "text": "Population"
         }
        }
       }
      }
     },
     "metadata": {},
     "output_type": "display_data"
    }
   ],
   "source": [
    "#Urban vs Rural\n",
    "# h stack bar chart\n",
    "# Urabn vs Rural using df2 \n",
    "fig10 = px.bar(df2, x=\"Year\", y=['Urban population (% of total population) [SP.URB.TOTL.IN.ZS]',\n",
    "                                 'Rural population (% of total population) [SP.RUR.TOTL.ZS]'],\n",
    "               title=\"Urban vs Rural Population of China\", template=\"plotly_dark\",\n",
    "               labels={\"value\": \"Population\", \"variable\": \"Population Type\", \"Year\": \"Year\", \n",
    "                       \"Urban population (% of total population) [SP.URB.TOTL.IN.ZS]\": \"Urban Population\",\n",
    "                       \"Rural population (% of total population) [SP.RUR.TOTL.ZS]\": \"Rural Population\"})\n",
    "fig10.update_layout(barmode='stack' , xaxis_title=\"Year\", yaxis_title=\"Population\",\n",
    "                    #add legend title \n",
    "                    legend_title=\"Population Type\",)\n",
    "                  \n",
    "fig10.show()"
   ]
  },
  {
   "attachments": {},
   "cell_type": "markdown",
   "metadata": {},
   "source": [
    "`Pyramid Figure`"
   ]
  },
  {
   "cell_type": "code",
   "execution_count": 62,
   "metadata": {},
   "outputs": [
    {
     "data": {
      "application/vnd.plotly.v1+json": {
       "config": {
        "plotlyServerURL": "https://plot.ly"
       },
       "data": [
        {
         "hovertemplate": "%{y} %{x} <extra></extra>",
         "name": "Male",
         "orientation": "h",
         "type": "bar",
         "x": [
          -23431978,
          -24957242,
          -24461191.5,
          -23801765,
          -23982584,
          -24988740.5,
          -37119979.5,
          -40942185.5,
          -38288978,
          -35475910,
          -37040208,
          -44974571,
          -55898241,
          -47053926,
          -40310877.5,
          -46469843.5,
          -40603612,
          -24569597.5,
          -9946960,
          -3466802,
          -416737.5
         ],
         "y": [
          "0-4",
          "5-9",
          "10-14",
          "15-19",
          "20-24",
          "25-29",
          "30-34",
          "35-39",
          "40-44",
          "45-49",
          "50-54",
          "55-59",
          "60-64",
          "65-69",
          "70-74",
          "75-79",
          "80-84",
          "85-89",
          "90-94",
          "95-99",
          "100+"
         ]
        },
        {
         "hovertemplate": "%{y} %{x} <extra></extra>",
         "name": "Female",
         "orientation": "h",
         "type": "bar",
         "x": [
          24874124.5,
          26515770,
          26047059.5,
          25483829,
          26045831.5,
          27755602,
          42156672.5,
          47392190.5,
          44719629,
          41233818.5,
          42198127.5,
          49339359,
          58534644,
          46828628.5,
          38081883.5,
          40915834,
          32462344.5,
          17169724.5,
          5372408,
          1235621.5,
          71292.5
         ],
         "y": [
          "0-4",
          "5-9",
          "10-14",
          "15-19",
          "20-24",
          "25-29",
          "30-34",
          "35-39",
          "40-44",
          "45-49",
          "50-54",
          "55-59",
          "60-64",
          "65-69",
          "70-74",
          "75-79",
          "80-84",
          "85-89",
          "90-94",
          "95-99",
          "100+"
         ]
        }
       ],
       "layout": {
        "bargap": 0.1,
        "barmode": "relative",
        "height": 500,
        "margin": {
         "b": 50,
         "l": 100,
         "r": 100,
         "t": 50
        },
        "template": {
         "data": {
          "bar": [
           {
            "error_x": {
             "color": "#f2f5fa"
            },
            "error_y": {
             "color": "#f2f5fa"
            },
            "marker": {
             "line": {
              "color": "rgb(17,17,17)",
              "width": 0.5
             },
             "pattern": {
              "fillmode": "overlay",
              "size": 10,
              "solidity": 0.2
             }
            },
            "type": "bar"
           }
          ],
          "barpolar": [
           {
            "marker": {
             "line": {
              "color": "rgb(17,17,17)",
              "width": 0.5
             },
             "pattern": {
              "fillmode": "overlay",
              "size": 10,
              "solidity": 0.2
             }
            },
            "type": "barpolar"
           }
          ],
          "carpet": [
           {
            "aaxis": {
             "endlinecolor": "#A2B1C6",
             "gridcolor": "#506784",
             "linecolor": "#506784",
             "minorgridcolor": "#506784",
             "startlinecolor": "#A2B1C6"
            },
            "baxis": {
             "endlinecolor": "#A2B1C6",
             "gridcolor": "#506784",
             "linecolor": "#506784",
             "minorgridcolor": "#506784",
             "startlinecolor": "#A2B1C6"
            },
            "type": "carpet"
           }
          ],
          "choropleth": [
           {
            "colorbar": {
             "outlinewidth": 0,
             "ticks": ""
            },
            "type": "choropleth"
           }
          ],
          "contour": [
           {
            "colorbar": {
             "outlinewidth": 0,
             "ticks": ""
            },
            "colorscale": [
             [
              0,
              "#0d0887"
             ],
             [
              0.1111111111111111,
              "#46039f"
             ],
             [
              0.2222222222222222,
              "#7201a8"
             ],
             [
              0.3333333333333333,
              "#9c179e"
             ],
             [
              0.4444444444444444,
              "#bd3786"
             ],
             [
              0.5555555555555556,
              "#d8576b"
             ],
             [
              0.6666666666666666,
              "#ed7953"
             ],
             [
              0.7777777777777778,
              "#fb9f3a"
             ],
             [
              0.8888888888888888,
              "#fdca26"
             ],
             [
              1,
              "#f0f921"
             ]
            ],
            "type": "contour"
           }
          ],
          "contourcarpet": [
           {
            "colorbar": {
             "outlinewidth": 0,
             "ticks": ""
            },
            "type": "contourcarpet"
           }
          ],
          "heatmap": [
           {
            "colorbar": {
             "outlinewidth": 0,
             "ticks": ""
            },
            "colorscale": [
             [
              0,
              "#0d0887"
             ],
             [
              0.1111111111111111,
              "#46039f"
             ],
             [
              0.2222222222222222,
              "#7201a8"
             ],
             [
              0.3333333333333333,
              "#9c179e"
             ],
             [
              0.4444444444444444,
              "#bd3786"
             ],
             [
              0.5555555555555556,
              "#d8576b"
             ],
             [
              0.6666666666666666,
              "#ed7953"
             ],
             [
              0.7777777777777778,
              "#fb9f3a"
             ],
             [
              0.8888888888888888,
              "#fdca26"
             ],
             [
              1,
              "#f0f921"
             ]
            ],
            "type": "heatmap"
           }
          ],
          "heatmapgl": [
           {
            "colorbar": {
             "outlinewidth": 0,
             "ticks": ""
            },
            "colorscale": [
             [
              0,
              "#0d0887"
             ],
             [
              0.1111111111111111,
              "#46039f"
             ],
             [
              0.2222222222222222,
              "#7201a8"
             ],
             [
              0.3333333333333333,
              "#9c179e"
             ],
             [
              0.4444444444444444,
              "#bd3786"
             ],
             [
              0.5555555555555556,
              "#d8576b"
             ],
             [
              0.6666666666666666,
              "#ed7953"
             ],
             [
              0.7777777777777778,
              "#fb9f3a"
             ],
             [
              0.8888888888888888,
              "#fdca26"
             ],
             [
              1,
              "#f0f921"
             ]
            ],
            "type": "heatmapgl"
           }
          ],
          "histogram": [
           {
            "marker": {
             "pattern": {
              "fillmode": "overlay",
              "size": 10,
              "solidity": 0.2
             }
            },
            "type": "histogram"
           }
          ],
          "histogram2d": [
           {
            "colorbar": {
             "outlinewidth": 0,
             "ticks": ""
            },
            "colorscale": [
             [
              0,
              "#0d0887"
             ],
             [
              0.1111111111111111,
              "#46039f"
             ],
             [
              0.2222222222222222,
              "#7201a8"
             ],
             [
              0.3333333333333333,
              "#9c179e"
             ],
             [
              0.4444444444444444,
              "#bd3786"
             ],
             [
              0.5555555555555556,
              "#d8576b"
             ],
             [
              0.6666666666666666,
              "#ed7953"
             ],
             [
              0.7777777777777778,
              "#fb9f3a"
             ],
             [
              0.8888888888888888,
              "#fdca26"
             ],
             [
              1,
              "#f0f921"
             ]
            ],
            "type": "histogram2d"
           }
          ],
          "histogram2dcontour": [
           {
            "colorbar": {
             "outlinewidth": 0,
             "ticks": ""
            },
            "colorscale": [
             [
              0,
              "#0d0887"
             ],
             [
              0.1111111111111111,
              "#46039f"
             ],
             [
              0.2222222222222222,
              "#7201a8"
             ],
             [
              0.3333333333333333,
              "#9c179e"
             ],
             [
              0.4444444444444444,
              "#bd3786"
             ],
             [
              0.5555555555555556,
              "#d8576b"
             ],
             [
              0.6666666666666666,
              "#ed7953"
             ],
             [
              0.7777777777777778,
              "#fb9f3a"
             ],
             [
              0.8888888888888888,
              "#fdca26"
             ],
             [
              1,
              "#f0f921"
             ]
            ],
            "type": "histogram2dcontour"
           }
          ],
          "mesh3d": [
           {
            "colorbar": {
             "outlinewidth": 0,
             "ticks": ""
            },
            "type": "mesh3d"
           }
          ],
          "parcoords": [
           {
            "line": {
             "colorbar": {
              "outlinewidth": 0,
              "ticks": ""
             }
            },
            "type": "parcoords"
           }
          ],
          "pie": [
           {
            "automargin": true,
            "type": "pie"
           }
          ],
          "scatter": [
           {
            "marker": {
             "line": {
              "color": "#283442"
             }
            },
            "type": "scatter"
           }
          ],
          "scatter3d": [
           {
            "line": {
             "colorbar": {
              "outlinewidth": 0,
              "ticks": ""
             }
            },
            "marker": {
             "colorbar": {
              "outlinewidth": 0,
              "ticks": ""
             }
            },
            "type": "scatter3d"
           }
          ],
          "scattercarpet": [
           {
            "marker": {
             "colorbar": {
              "outlinewidth": 0,
              "ticks": ""
             }
            },
            "type": "scattercarpet"
           }
          ],
          "scattergeo": [
           {
            "marker": {
             "colorbar": {
              "outlinewidth": 0,
              "ticks": ""
             }
            },
            "type": "scattergeo"
           }
          ],
          "scattergl": [
           {
            "marker": {
             "line": {
              "color": "#283442"
             }
            },
            "type": "scattergl"
           }
          ],
          "scattermapbox": [
           {
            "marker": {
             "colorbar": {
              "outlinewidth": 0,
              "ticks": ""
             }
            },
            "type": "scattermapbox"
           }
          ],
          "scatterpolar": [
           {
            "marker": {
             "colorbar": {
              "outlinewidth": 0,
              "ticks": ""
             }
            },
            "type": "scatterpolar"
           }
          ],
          "scatterpolargl": [
           {
            "marker": {
             "colorbar": {
              "outlinewidth": 0,
              "ticks": ""
             }
            },
            "type": "scatterpolargl"
           }
          ],
          "scatterternary": [
           {
            "marker": {
             "colorbar": {
              "outlinewidth": 0,
              "ticks": ""
             }
            },
            "type": "scatterternary"
           }
          ],
          "surface": [
           {
            "colorbar": {
             "outlinewidth": 0,
             "ticks": ""
            },
            "colorscale": [
             [
              0,
              "#0d0887"
             ],
             [
              0.1111111111111111,
              "#46039f"
             ],
             [
              0.2222222222222222,
              "#7201a8"
             ],
             [
              0.3333333333333333,
              "#9c179e"
             ],
             [
              0.4444444444444444,
              "#bd3786"
             ],
             [
              0.5555555555555556,
              "#d8576b"
             ],
             [
              0.6666666666666666,
              "#ed7953"
             ],
             [
              0.7777777777777778,
              "#fb9f3a"
             ],
             [
              0.8888888888888888,
              "#fdca26"
             ],
             [
              1,
              "#f0f921"
             ]
            ],
            "type": "surface"
           }
          ],
          "table": [
           {
            "cells": {
             "fill": {
              "color": "#506784"
             },
             "line": {
              "color": "rgb(17,17,17)"
             }
            },
            "header": {
             "fill": {
              "color": "#2a3f5f"
             },
             "line": {
              "color": "rgb(17,17,17)"
             }
            },
            "type": "table"
           }
          ]
         },
         "layout": {
          "annotationdefaults": {
           "arrowcolor": "#f2f5fa",
           "arrowhead": 0,
           "arrowwidth": 1
          },
          "autotypenumbers": "strict",
          "coloraxis": {
           "colorbar": {
            "outlinewidth": 0,
            "ticks": ""
           }
          },
          "colorscale": {
           "diverging": [
            [
             0,
             "#8e0152"
            ],
            [
             0.1,
             "#c51b7d"
            ],
            [
             0.2,
             "#de77ae"
            ],
            [
             0.3,
             "#f1b6da"
            ],
            [
             0.4,
             "#fde0ef"
            ],
            [
             0.5,
             "#f7f7f7"
            ],
            [
             0.6,
             "#e6f5d0"
            ],
            [
             0.7,
             "#b8e186"
            ],
            [
             0.8,
             "#7fbc41"
            ],
            [
             0.9,
             "#4d9221"
            ],
            [
             1,
             "#276419"
            ]
           ],
           "sequential": [
            [
             0,
             "#0d0887"
            ],
            [
             0.1111111111111111,
             "#46039f"
            ],
            [
             0.2222222222222222,
             "#7201a8"
            ],
            [
             0.3333333333333333,
             "#9c179e"
            ],
            [
             0.4444444444444444,
             "#bd3786"
            ],
            [
             0.5555555555555556,
             "#d8576b"
            ],
            [
             0.6666666666666666,
             "#ed7953"
            ],
            [
             0.7777777777777778,
             "#fb9f3a"
            ],
            [
             0.8888888888888888,
             "#fdca26"
            ],
            [
             1,
             "#f0f921"
            ]
           ],
           "sequentialminus": [
            [
             0,
             "#0d0887"
            ],
            [
             0.1111111111111111,
             "#46039f"
            ],
            [
             0.2222222222222222,
             "#7201a8"
            ],
            [
             0.3333333333333333,
             "#9c179e"
            ],
            [
             0.4444444444444444,
             "#bd3786"
            ],
            [
             0.5555555555555556,
             "#d8576b"
            ],
            [
             0.6666666666666666,
             "#ed7953"
            ],
            [
             0.7777777777777778,
             "#fb9f3a"
            ],
            [
             0.8888888888888888,
             "#fdca26"
            ],
            [
             1,
             "#f0f921"
            ]
           ]
          },
          "colorway": [
           "#636efa",
           "#EF553B",
           "#00cc96",
           "#ab63fa",
           "#FFA15A",
           "#19d3f3",
           "#FF6692",
           "#B6E880",
           "#FF97FF",
           "#FECB52"
          ],
          "font": {
           "color": "#f2f5fa"
          },
          "geo": {
           "bgcolor": "rgb(17,17,17)",
           "lakecolor": "rgb(17,17,17)",
           "landcolor": "rgb(17,17,17)",
           "showlakes": true,
           "showland": true,
           "subunitcolor": "#506784"
          },
          "hoverlabel": {
           "align": "left"
          },
          "hovermode": "closest",
          "mapbox": {
           "style": "dark"
          },
          "paper_bgcolor": "rgb(17,17,17)",
          "plot_bgcolor": "rgb(17,17,17)",
          "polar": {
           "angularaxis": {
            "gridcolor": "#506784",
            "linecolor": "#506784",
            "ticks": ""
           },
           "bgcolor": "rgb(17,17,17)",
           "radialaxis": {
            "gridcolor": "#506784",
            "linecolor": "#506784",
            "ticks": ""
           }
          },
          "scene": {
           "xaxis": {
            "backgroundcolor": "rgb(17,17,17)",
            "gridcolor": "#506784",
            "gridwidth": 2,
            "linecolor": "#506784",
            "showbackground": true,
            "ticks": "",
            "zerolinecolor": "#C8D4E3"
           },
           "yaxis": {
            "backgroundcolor": "rgb(17,17,17)",
            "gridcolor": "#506784",
            "gridwidth": 2,
            "linecolor": "#506784",
            "showbackground": true,
            "ticks": "",
            "zerolinecolor": "#C8D4E3"
           },
           "zaxis": {
            "backgroundcolor": "rgb(17,17,17)",
            "gridcolor": "#506784",
            "gridwidth": 2,
            "linecolor": "#506784",
            "showbackground": true,
            "ticks": "",
            "zerolinecolor": "#C8D4E3"
           }
          },
          "shapedefaults": {
           "line": {
            "color": "#f2f5fa"
           }
          },
          "sliderdefaults": {
           "bgcolor": "#C8D4E3",
           "bordercolor": "rgb(17,17,17)",
           "borderwidth": 1,
           "tickwidth": 0
          },
          "ternary": {
           "aaxis": {
            "gridcolor": "#506784",
            "linecolor": "#506784",
            "ticks": ""
           },
           "baxis": {
            "gridcolor": "#506784",
            "linecolor": "#506784",
            "ticks": ""
           },
           "bgcolor": "rgb(17,17,17)",
           "caxis": {
            "gridcolor": "#506784",
            "linecolor": "#506784",
            "ticks": ""
           }
          },
          "title": {
           "x": 0.05
          },
          "updatemenudefaults": {
           "bgcolor": "#506784",
           "borderwidth": 0
          },
          "xaxis": {
           "automargin": true,
           "gridcolor": "#283442",
           "linecolor": "#506784",
           "ticks": "",
           "title": {
            "standoff": 15
           },
           "zerolinecolor": "#283442",
           "zerolinewidth": 2
          },
          "yaxis": {
           "automargin": true,
           "gridcolor": "#283442",
           "linecolor": "#506784",
           "ticks": "",
           "title": {
            "standoff": 15
           },
           "zerolinecolor": "#283442",
           "zerolinewidth": 2
          }
         }
        },
        "title": {
         "text": "Age Distribution in China in 2050 "
        },
        "width": 800,
        "xaxis": {
         "ticktext": [
          "60M",
          "40M",
          "20M",
          "0",
          "20M",
          "40M",
          "60M"
         ],
         "tickvals": [
          -60000000,
          -40000000,
          -20000000,
          0,
          20000000,
          40000000,
          60000000
         ]
        },
        "yaxis": {
         "title": {
          "text": "Age Group"
         }
        }
       }
      }
     },
     "metadata": {},
     "output_type": "display_data"
    }
   ],
   "source": [
    "trace_male = go.Bar(\n",
    "    x=-men_data.iloc[90] , \n",
    "    y=men_data.columns,\n",
    "    orientation='h',\n",
    "    name='Male',\n",
    "    marker=dict(),\n",
    "    #hover data\n",
    "    #make hover with positive value by adding - to x\n",
    "    hovertemplate='%{y} %{x} <extra></extra>',\n",
    "\n",
    "\n",
    "    \n",
    ")\n",
    "\n",
    "# Create the trace for the female data\n",
    "trace_female = go.Bar(\n",
    "    x=women_data.iloc[90],\n",
    "    y=women_data.columns,\n",
    "    orientation='h',\n",
    "    name='Female',\n",
    "    marker=dict(),\n",
    "    hovertemplate='%{y} %{x} <extra></extra>',\n",
    "   \n",
    "     \n",
    ")\n",
    "\n",
    "# Combine the traces into a single figure\n",
    "fig_py = go.Figure(data=[trace_male, trace_female])\n",
    "\n",
    "# Update the layout with chart titles and axis labels\n",
    "fig_py.update_layout(\n",
    "    title=f'Age Distribution in China in {pyramid_data.iloc[90,0].astype(int)} ',\n",
    "    xaxis_title='Population',\n",
    "    yaxis_title='Age Group',\n",
    "    barmode='relative',\n",
    "    bargap=.1,\n",
    "    width=800,\n",
    "    height=500,\n",
    "    margin=dict(l=100, r=100, t=50, b=50),\n",
    "    template=\"plotly_dark\", \n",
    "    xaxis=go.layout.XAxis( \n",
    "    tickvals=[-60000000, -40000000, -20000000, 0, 20000000, 40000000, 60000000],                      \n",
    "     ticktext=[\"60M\", \"40M\", \"20M\", \"0\", \"20M\",\n",
    "                                 \"40M\", '60M'],)\n",
    "        \n",
    ")\n",
    "\n",
    "\n",
    "\n",
    "fig_py.show()\n"
   ]
  },
  {
   "cell_type": "code",
   "execution_count": 36,
   "metadata": {},
   "outputs": [
    {
     "name": "stderr",
     "output_type": "stream",
     "text": [
      "C:\\Users\\start\\AppData\\Local\\Temp\\ipykernel_16916\\344036261.py:4: UserWarning:\n",
      "\n",
      "\n",
      "The dash_core_components package is deprecated. Please replace\n",
      "`import dash_core_components as dcc` with `from dash import dcc`\n",
      "\n"
     ]
    },
    {
     "name": "stdout",
     "output_type": "stream",
     "text": [
      "Dash app running on http://127.0.0.1:8050/\n"
     ]
    }
   ],
   "source": [
    "from dash.dependencies import Input, Output\n",
    "from dash.exceptions import PreventUpdate\n",
    "# dcc\n",
    "import dash_core_components as dcc\n",
    "\n",
    "# jupyter dash\n",
    "from jupyter_dash import JupyterDash\n",
    "\n",
    "\n",
    "app = JupyterDash(__name__)\n",
    " # call back to update fig_py when year is changed\n",
    "app.layout = html.Div([\n",
    "    html.H1(\"China Population Pyramid\", style={'text-align': 'center'}),\n",
    "    html.Div([\n",
    "        html.Div([\n",
    "            dcc.Graph(id='fig1', figure=fig_py),\n",
    "            # menu to select year\n",
    "\n",
    "\n",
    "            dcc.Dropdown(\n",
    "                id='year',\n",
    "                options=[{'label': i , 'value': i}\n",
    "                         for i in  pyramid_data.index],\n",
    "\n",
    "                style={'width': '100%'},\n",
    "\n",
    "            )\n",
    "\n",
    "\n",
    "        ])])]) \n",
    "\n",
    "@app.callback(\n",
    "    Output(component_id='fig1', component_property='figure'),\n",
    "    input=Input(component_id='year', component_property='value')\n",
    ")\n",
    "def update_figure(year):\n",
    "    if year == None:\n",
    "        raise PreventUpdate\n",
    "    else:\n",
    "        data = [\n",
    "            go.Bar(\n",
    "                x=-men_data.iloc[year],\n",
    "                y=men_data.columns,\n",
    "                orientation='h',\n",
    "                name='Male',\n",
    "                marker=dict()\n",
    "\n",
    "            ),\n",
    "            # Create the trace for the female data\n",
    "            go.Bar(\n",
    "                x=women_data.iloc[year],\n",
    "                y=women_data.columns,\n",
    "                orientation='h',\n",
    "                name='Female',\n",
    "                marker=dict(),\n",
    "\n",
    "            )]\n",
    "        \n",
    "      \n",
    "        fig_py = go.Figure(data=data, layout=go.Layout(\n",
    "            title='Age Distribution in China  ',\n",
    "            xaxis_title='Population',\n",
    "            yaxis_title='Age Group',\n",
    "            barmode='relative',\n",
    "            bargap=.1,\n",
    "            width=800,\n",
    "            height=500,\n",
    "            margin=dict(l=100, r=100, t=50, b=50),\n",
    "            template=\"plotly_dark\",\n",
    "        ))\n",
    "    return fig_py\n",
    "\n",
    "\n",
    "\n",
    "app.run_server()\n"
   ]
  },
  {
   "attachments": {},
   "cell_type": "markdown",
   "metadata": {},
   "source": [
    "`Banes`"
   ]
  },
  {
   "cell_type": "code",
   "execution_count": 37,
   "metadata": {},
   "outputs": [],
   "source": [
    "#BAN 1 : Total pop\n",
    "#Ratio from world pop\n",
    "\n",
    "#*********************\n",
    "\n",
    "#BAN 2 : GDP\n",
    "\n",
    "\n",
    "#*********************\n",
    "\n"
   ]
  },
  {
   "attachments": {},
   "cell_type": "markdown",
   "metadata": {},
   "source": [
    "# `Implemnent Dash`"
   ]
  },
  {
   "cell_type": "code",
   "execution_count": 38,
   "metadata": {},
   "outputs": [
    {
     "name": "stdout",
     "output_type": "stream",
     "text": [
      "Dash app running on http://127.0.0.1:8050/\n"
     ]
    }
   ],
   "source": [
    "#dash app\n",
    "dash_app = JupyterDash(__name__)\n",
    "dash_app.layout = html.Div([\n",
    "\n",
    "    \n",
    "    ])\n",
    "dash_app.run_server()\n"
   ]
  }
 ],
 "metadata": {
  "kernelspec": {
   "display_name": "base",
   "language": "python",
   "name": "python3"
  },
  "language_info": {
   "codemirror_mode": {
    "name": "ipython",
    "version": 3
   },
   "file_extension": ".py",
   "mimetype": "text/x-python",
   "name": "python",
   "nbconvert_exporter": "python",
   "pygments_lexer": "ipython3",
   "version": "3.8.8"
  },
  "orig_nbformat": 4
 },
 "nbformat": 4,
 "nbformat_minor": 2
}
