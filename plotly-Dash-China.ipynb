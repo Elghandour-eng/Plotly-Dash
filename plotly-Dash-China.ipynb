{
 "cells": [
  {
   "attachments": {},
   "cell_type": "markdown",
   "metadata": {},
   "source": [
    "# **China Plotly Dash**\n",
    "\n",
    "---"
   ]
  },
  {
   "attachments": {},
   "cell_type": "markdown",
   "metadata": {},
   "source": [
    "# `01` Fetch Data"
   ]
  },
  {
   "attachments": {},
   "cell_type": "markdown",
   "metadata": {},
   "source": [
    "### `i` Import Necessary Libraries"
   ]
  },
  {
   "cell_type": "code",
   "execution_count": 1,
   "metadata": {},
   "outputs": [],
   "source": [
    "\n",
    "import requests # to make HTTP requests\n",
    "import json # to handle JSON files\n",
    "import pandas as pd # to handle dataframes\n",
    "import matplotlib.pyplot as plt # to make plots\n",
    "# fetch from http page\n",
    "import requests\n",
    "# plotly\n",
    "import plotly.graph_objects as go\n",
    "import plotly.express as px\n",
    "import plotly.io as pio\n",
    "# jupyter-dash\n",
    "from jupyter_dash import JupyterDash\n",
    "# html\n",
    "from dash import html"
   ]
  },
  {
   "attachments": {},
   "cell_type": "markdown",
   "metadata": {},
   "source": [
    "### `ii` Api Fetch "
   ]
  },
  {
   "cell_type": "code",
   "execution_count": 2,
   "metadata": {},
   "outputs": [],
   "source": [
    "\n",
    "popualtion = pd.read_csv(\"Data-2/china-population-2023-04-02.csv\")\n",
    "birth_rate = pd.read_csv(\"Data-2/birth_rate.csv\")\n",
    "death_rate = pd.read_csv(\"Data-2/death_rate.csv\")\n",
    "life_expectancy = pd.read_csv(\"Data-2/life_exp.csv\")\n",
    "density = pd.read_csv(\"Data-2/dentsity.csv\") \n"
   ]
  },
  {
   "attachments": {},
   "cell_type": "markdown",
   "metadata": {},
   "source": [
    "### `iii` EDA"
   ]
  },
  {
   "cell_type": "code",
   "execution_count": 3,
   "metadata": {},
   "outputs": [],
   "source": [
    "df_list = [popualtion, birth_rate, death_rate, life_expectancy, density]"
   ]
  },
  {
   "cell_type": "code",
   "execution_count": 4,
   "metadata": {},
   "outputs": [
    {
     "name": "stdout",
     "output_type": "stream",
     "text": [
      "Date range match\n"
     ]
    },
    {
     "data": {
      "text/plain": [
       "True"
      ]
     },
     "execution_count": 4,
     "metadata": {},
     "output_type": "execute_result"
    }
   ],
   "source": [
    "# check if data have same date range\n",
    "def check_date_range(list_of_df):\n",
    "    for i in range(len(list_of_df)):\n",
    "        for j in range(len(list_of_df)):\n",
    "            if list_of_df[i].columns[0] != list_of_df[j].columns[0]:\n",
    "                print(\"Date range not match\")\n",
    "                return False\n",
    "    print(\"Date range match\")\n",
    "    return True\n",
    "check_date_range([popualtion, birth_rate, death_rate, life_expectancy, density])"
   ]
  },
  {
   "cell_type": "code",
   "execution_count": 5,
   "metadata": {},
   "outputs": [
    {
     "name": "stdout",
     "output_type": "stream",
     "text": [
      "length of date is 151\n",
      "length of date is 151\n",
      "length of date is 151\n",
      "length of date is 151\n",
      "length of date is 151\n"
     ]
    }
   ],
   "source": [
    "#check  of if all data has same length\n",
    "def check_length(df_list):\n",
    "    for df in df_list:\n",
    "        print(\"length of \" + df.columns[0] + \" is \" + str(len(df)))\n",
    "\n",
    "check_length(df_list)        "
   ]
  },
  {
   "cell_type": "code",
   "execution_count": 6,
   "metadata": {},
   "outputs": [
    {
     "name": "stdout",
     "output_type": "stream",
     "text": [
      "Index(['date', ' Population', ' Annual Growth Rate'], dtype='object')\n",
      "\n",
      "Index(['date', ' Births per 1000 People', ' Annual % Change'], dtype='object')\n",
      "\n",
      "Index(['date', ' Deaths per 1000 People', ' Annual % Change'], dtype='object')\n",
      "\n",
      "Index(['date', ' Life Expectancy from Birth (Years)', ' Annual % Change'], dtype='object')\n",
      "\n",
      "Index(['date', ' Population per Square KM', ' Annual % Change'], dtype='object')\n",
      "\n"
     ]
    }
   ],
   "source": [
    "#print columns for all dataframes\n",
    "def print_columns(df_list):\n",
    "    for df in df_list:\n",
    "        print(df.columns)\n",
    "        print(\"\")\n",
    "        \n",
    "print_columns(df_list)   "
   ]
  },
  {
   "cell_type": "code",
   "execution_count": 7,
   "metadata": {},
   "outputs": [
    {
     "name": "stdout",
     "output_type": "stream",
     "text": [
      "Column name not found in  Population\n",
      "Column name changed to  Births per 1000 PeopleAnnual Change in  Births per 1000 People\n",
      "Column name changed to  Deaths per 1000 PeopleAnnual Change in  Deaths per 1000 People\n",
      "Column name changed to  Life Expectancy from Birth (Years)Annual Change in  Life Expectancy from Birth (Years)\n",
      "Column name changed to  Population per Square KMAnnual Change in  Population per Square KM\n"
     ]
    }
   ],
   "source": [
    "# we found every data has column named Annual % Change and we want to change the name of this column to the name of the dataframe\n",
    "def change_column_name(df_list):\n",
    "    for df in df_list:\n",
    "        if ' Annual % Change' in df.columns:\n",
    "            df.rename(columns={' Annual % Change': df.columns[1] + \" Annual Change\"}, inplace=True)\n",
    "            print(\"Column name changed to \" + df.columns[1] + \"Annual Change in \" + df.columns[1])\n",
    "        else:\n",
    "            print(\"Column name not found in \" + df.columns[1])    \n",
    "    return df_list\n",
    "\n",
    "df_list = change_column_name(df_list)\n",
    "        \n"
   ]
  },
  {
   "cell_type": "code",
   "execution_count": 8,
   "metadata": {},
   "outputs": [],
   "source": [
    "# merge dataframes\n",
    "def merge_df(df_list):\n",
    "    df = df_list[0]\n",
    "    for i in range(1, len(df_list)):\n",
    "        df = df.merge(df_list[i], on='date')\n",
    "    return df\n",
    "\n",
    "merged = merge_df(df_list)"
   ]
  },
  {
   "cell_type": "code",
   "execution_count": 9,
   "metadata": {},
   "outputs": [
    {
     "data": {
      "text/html": [
       "<div>\n",
       "<style scoped>\n",
       "    .dataframe tbody tr th:only-of-type {\n",
       "        vertical-align: middle;\n",
       "    }\n",
       "\n",
       "    .dataframe tbody tr th {\n",
       "        vertical-align: top;\n",
       "    }\n",
       "\n",
       "    .dataframe thead th {\n",
       "        text-align: right;\n",
       "    }\n",
       "</style>\n",
       "<table border=\"1\" class=\"dataframe\">\n",
       "  <thead>\n",
       "    <tr style=\"text-align: right;\">\n",
       "      <th></th>\n",
       "      <th>date</th>\n",
       "      <th>Population</th>\n",
       "      <th>Annual Growth Rate</th>\n",
       "      <th>Births per 1000 People</th>\n",
       "      <th>Births per 1000 People Annual Change</th>\n",
       "      <th>Deaths per 1000 People</th>\n",
       "      <th>Deaths per 1000 People Annual Change</th>\n",
       "      <th>Life Expectancy from Birth (Years)</th>\n",
       "      <th>Life Expectancy from Birth (Years) Annual Change</th>\n",
       "      <th>Population per Square KM</th>\n",
       "      <th>Population per Square KM Annual Change</th>\n",
       "    </tr>\n",
       "  </thead>\n",
       "  <tbody>\n",
       "    <tr>\n",
       "      <th>0</th>\n",
       "      <td>12/31/1950</td>\n",
       "      <td>543979233</td>\n",
       "      <td>NaN</td>\n",
       "      <td>46.133</td>\n",
       "      <td>NaN</td>\n",
       "      <td>23.366</td>\n",
       "      <td>NaN</td>\n",
       "      <td>43.446</td>\n",
       "      <td>NaN</td>\n",
       "      <td>56.664440</td>\n",
       "      <td>NaN</td>\n",
       "    </tr>\n",
       "    <tr>\n",
       "      <th>1</th>\n",
       "      <td>12/31/1951</td>\n",
       "      <td>553613988</td>\n",
       "      <td>1.77</td>\n",
       "      <td>44.921</td>\n",
       "      <td>-2.63</td>\n",
       "      <td>23.106</td>\n",
       "      <td>-1.11</td>\n",
       "      <td>43.574</td>\n",
       "      <td>0.29</td>\n",
       "      <td>57.668059</td>\n",
       "      <td>1.77</td>\n",
       "    </tr>\n",
       "    <tr>\n",
       "      <th>2</th>\n",
       "      <td>12/31/1952</td>\n",
       "      <td>564954522</td>\n",
       "      <td>2.05</td>\n",
       "      <td>43.710</td>\n",
       "      <td>-2.70</td>\n",
       "      <td>22.845</td>\n",
       "      <td>-1.13</td>\n",
       "      <td>43.702</td>\n",
       "      <td>0.29</td>\n",
       "      <td>58.849363</td>\n",
       "      <td>2.05</td>\n",
       "    </tr>\n",
       "    <tr>\n",
       "      <th>3</th>\n",
       "      <td>12/31/1953</td>\n",
       "      <td>577378682</td>\n",
       "      <td>2.20</td>\n",
       "      <td>42.498</td>\n",
       "      <td>-2.77</td>\n",
       "      <td>22.585</td>\n",
       "      <td>-1.14</td>\n",
       "      <td>43.830</td>\n",
       "      <td>0.29</td>\n",
       "      <td>60.143545</td>\n",
       "      <td>2.20</td>\n",
       "    </tr>\n",
       "    <tr>\n",
       "      <th>4</th>\n",
       "      <td>12/31/1954</td>\n",
       "      <td>589936004</td>\n",
       "      <td>2.17</td>\n",
       "      <td>41.286</td>\n",
       "      <td>-2.85</td>\n",
       "      <td>22.325</td>\n",
       "      <td>-1.15</td>\n",
       "      <td>43.958</td>\n",
       "      <td>0.29</td>\n",
       "      <td>61.451598</td>\n",
       "      <td>2.17</td>\n",
       "    </tr>\n",
       "  </tbody>\n",
       "</table>\n",
       "</div>"
      ],
      "text/plain": [
       "         date   Population   Annual Growth Rate   Births per 1000 People  \\\n",
       "0  12/31/1950    543979233                  NaN                   46.133   \n",
       "1  12/31/1951    553613988                 1.77                   44.921   \n",
       "2  12/31/1952    564954522                 2.05                   43.710   \n",
       "3  12/31/1953    577378682                 2.20                   42.498   \n",
       "4  12/31/1954    589936004                 2.17                   41.286   \n",
       "\n",
       "    Births per 1000 People Annual Change   Deaths per 1000 People  \\\n",
       "0                                    NaN                   23.366   \n",
       "1                                  -2.63                   23.106   \n",
       "2                                  -2.70                   22.845   \n",
       "3                                  -2.77                   22.585   \n",
       "4                                  -2.85                   22.325   \n",
       "\n",
       "    Deaths per 1000 People Annual Change   Life Expectancy from Birth (Years)  \\\n",
       "0                                    NaN                               43.446   \n",
       "1                                  -1.11                               43.574   \n",
       "2                                  -1.13                               43.702   \n",
       "3                                  -1.14                               43.830   \n",
       "4                                  -1.15                               43.958   \n",
       "\n",
       "    Life Expectancy from Birth (Years) Annual Change  \\\n",
       "0                                                NaN   \n",
       "1                                               0.29   \n",
       "2                                               0.29   \n",
       "3                                               0.29   \n",
       "4                                               0.29   \n",
       "\n",
       "    Population per Square KM   Population per Square KM Annual Change  \n",
       "0                  56.664440                                      NaN  \n",
       "1                  57.668059                                     1.77  \n",
       "2                  58.849363                                     2.05  \n",
       "3                  60.143545                                     2.20  \n",
       "4                  61.451598                                     2.17  "
      ]
     },
     "execution_count": 9,
     "metadata": {},
     "output_type": "execute_result"
    }
   ],
   "source": [
    "merged.head()"
   ]
  },
  {
   "cell_type": "code",
   "execution_count": 10,
   "metadata": {},
   "outputs": [],
   "source": [
    "# as we start from 1950 the change rate with NaN  ,so we fill them with 0\n",
    "merged.fillna(0, inplace=True)"
   ]
  },
  {
   "cell_type": "code",
   "execution_count": 11,
   "metadata": {},
   "outputs": [],
   "source": [
    "#save merged data to csv\n",
    "merged.to_csv(\"merged.csv\", index=False)"
   ]
  },
  {
   "cell_type": "code",
   "execution_count": 12,
   "metadata": {},
   "outputs": [
    {
     "data": {
      "text/html": [
       "<div>\n",
       "<style scoped>\n",
       "    .dataframe tbody tr th:only-of-type {\n",
       "        vertical-align: middle;\n",
       "    }\n",
       "\n",
       "    .dataframe tbody tr th {\n",
       "        vertical-align: top;\n",
       "    }\n",
       "\n",
       "    .dataframe thead th {\n",
       "        text-align: right;\n",
       "    }\n",
       "</style>\n",
       "<table border=\"1\" class=\"dataframe\">\n",
       "  <thead>\n",
       "    <tr style=\"text-align: right;\">\n",
       "      <th></th>\n",
       "      <th>date</th>\n",
       "      <th>Population</th>\n",
       "      <th>Annual Growth Rate</th>\n",
       "      <th>Births per 1000 People</th>\n",
       "      <th>Births per 1000 People Annual Change</th>\n",
       "      <th>Deaths per 1000 People</th>\n",
       "      <th>Deaths per 1000 People Annual Change</th>\n",
       "      <th>Life Expectancy from Birth (Years)</th>\n",
       "      <th>Life Expectancy from Birth (Years) Annual Change</th>\n",
       "      <th>Population per Square KM</th>\n",
       "      <th>Population per Square KM Annual Change</th>\n",
       "    </tr>\n",
       "  </thead>\n",
       "  <tbody>\n",
       "    <tr>\n",
       "      <th>0</th>\n",
       "      <td>12/31/1950</td>\n",
       "      <td>543979233</td>\n",
       "      <td>0.00</td>\n",
       "      <td>46.133</td>\n",
       "      <td>0.00</td>\n",
       "      <td>23.366</td>\n",
       "      <td>0.00</td>\n",
       "      <td>43.446</td>\n",
       "      <td>0.00</td>\n",
       "      <td>56.664440</td>\n",
       "      <td>0.00</td>\n",
       "    </tr>\n",
       "    <tr>\n",
       "      <th>1</th>\n",
       "      <td>12/31/1951</td>\n",
       "      <td>553613988</td>\n",
       "      <td>1.77</td>\n",
       "      <td>44.921</td>\n",
       "      <td>-2.63</td>\n",
       "      <td>23.106</td>\n",
       "      <td>-1.11</td>\n",
       "      <td>43.574</td>\n",
       "      <td>0.29</td>\n",
       "      <td>57.668059</td>\n",
       "      <td>1.77</td>\n",
       "    </tr>\n",
       "    <tr>\n",
       "      <th>2</th>\n",
       "      <td>12/31/1952</td>\n",
       "      <td>564954522</td>\n",
       "      <td>2.05</td>\n",
       "      <td>43.710</td>\n",
       "      <td>-2.70</td>\n",
       "      <td>22.845</td>\n",
       "      <td>-1.13</td>\n",
       "      <td>43.702</td>\n",
       "      <td>0.29</td>\n",
       "      <td>58.849363</td>\n",
       "      <td>2.05</td>\n",
       "    </tr>\n",
       "    <tr>\n",
       "      <th>3</th>\n",
       "      <td>12/31/1953</td>\n",
       "      <td>577378682</td>\n",
       "      <td>2.20</td>\n",
       "      <td>42.498</td>\n",
       "      <td>-2.77</td>\n",
       "      <td>22.585</td>\n",
       "      <td>-1.14</td>\n",
       "      <td>43.830</td>\n",
       "      <td>0.29</td>\n",
       "      <td>60.143545</td>\n",
       "      <td>2.20</td>\n",
       "    </tr>\n",
       "    <tr>\n",
       "      <th>4</th>\n",
       "      <td>12/31/1954</td>\n",
       "      <td>589936004</td>\n",
       "      <td>2.17</td>\n",
       "      <td>41.286</td>\n",
       "      <td>-2.85</td>\n",
       "      <td>22.325</td>\n",
       "      <td>-1.15</td>\n",
       "      <td>43.958</td>\n",
       "      <td>0.29</td>\n",
       "      <td>61.451598</td>\n",
       "      <td>2.17</td>\n",
       "    </tr>\n",
       "    <tr>\n",
       "      <th>...</th>\n",
       "      <td>...</td>\n",
       "      <td>...</td>\n",
       "      <td>...</td>\n",
       "      <td>...</td>\n",
       "      <td>...</td>\n",
       "      <td>...</td>\n",
       "      <td>...</td>\n",
       "      <td>...</td>\n",
       "      <td>...</td>\n",
       "      <td>...</td>\n",
       "      <td>...</td>\n",
       "    </tr>\n",
       "    <tr>\n",
       "      <th>146</th>\n",
       "      <td>12/31/2096</td>\n",
       "      <td>804153594</td>\n",
       "      <td>-1.18</td>\n",
       "      <td>8.864</td>\n",
       "      <td>-0.06</td>\n",
       "      <td>13.646</td>\n",
       "      <td>-0.20</td>\n",
       "      <td>87.398</td>\n",
       "      <td>0.12</td>\n",
       "      <td>83.765905</td>\n",
       "      <td>-1.18</td>\n",
       "    </tr>\n",
       "    <tr>\n",
       "      <th>147</th>\n",
       "      <td>12/31/2097</td>\n",
       "      <td>794673479</td>\n",
       "      <td>-1.18</td>\n",
       "      <td>8.858</td>\n",
       "      <td>-0.07</td>\n",
       "      <td>13.620</td>\n",
       "      <td>-0.19</td>\n",
       "      <td>87.504</td>\n",
       "      <td>0.12</td>\n",
       "      <td>82.778394</td>\n",
       "      <td>-1.18</td>\n",
       "    </tr>\n",
       "    <tr>\n",
       "      <th>148</th>\n",
       "      <td>12/31/2098</td>\n",
       "      <td>785270314</td>\n",
       "      <td>-1.18</td>\n",
       "      <td>8.853</td>\n",
       "      <td>-0.06</td>\n",
       "      <td>13.594</td>\n",
       "      <td>-0.19</td>\n",
       "      <td>87.610</td>\n",
       "      <td>0.12</td>\n",
       "      <td>81.798899</td>\n",
       "      <td>-1.18</td>\n",
       "    </tr>\n",
       "    <tr>\n",
       "      <th>149</th>\n",
       "      <td>12/31/2099</td>\n",
       "      <td>775944429</td>\n",
       "      <td>-1.19</td>\n",
       "      <td>8.848</td>\n",
       "      <td>-0.06</td>\n",
       "      <td>13.568</td>\n",
       "      <td>-0.19</td>\n",
       "      <td>87.716</td>\n",
       "      <td>0.12</td>\n",
       "      <td>80.827454</td>\n",
       "      <td>-1.19</td>\n",
       "    </tr>\n",
       "    <tr>\n",
       "      <th>150</th>\n",
       "      <td>12/31/2100</td>\n",
       "      <td>766673270</td>\n",
       "      <td>-1.19</td>\n",
       "      <td>8.842</td>\n",
       "      <td>-0.07</td>\n",
       "      <td>13.542</td>\n",
       "      <td>-0.19</td>\n",
       "      <td>87.822</td>\n",
       "      <td>0.12</td>\n",
       "      <td>79.861709</td>\n",
       "      <td>-1.19</td>\n",
       "    </tr>\n",
       "  </tbody>\n",
       "</table>\n",
       "<p>151 rows × 11 columns</p>\n",
       "</div>"
      ],
      "text/plain": [
       "           date   Population   Annual Growth Rate   Births per 1000 People  \\\n",
       "0    12/31/1950    543979233                 0.00                   46.133   \n",
       "1    12/31/1951    553613988                 1.77                   44.921   \n",
       "2    12/31/1952    564954522                 2.05                   43.710   \n",
       "3    12/31/1953    577378682                 2.20                   42.498   \n",
       "4    12/31/1954    589936004                 2.17                   41.286   \n",
       "..          ...          ...                  ...                      ...   \n",
       "146  12/31/2096    804153594                -1.18                    8.864   \n",
       "147  12/31/2097    794673479                -1.18                    8.858   \n",
       "148  12/31/2098    785270314                -1.18                    8.853   \n",
       "149  12/31/2099    775944429                -1.19                    8.848   \n",
       "150  12/31/2100    766673270                -1.19                    8.842   \n",
       "\n",
       "      Births per 1000 People Annual Change   Deaths per 1000 People  \\\n",
       "0                                     0.00                   23.366   \n",
       "1                                    -2.63                   23.106   \n",
       "2                                    -2.70                   22.845   \n",
       "3                                    -2.77                   22.585   \n",
       "4                                    -2.85                   22.325   \n",
       "..                                     ...                      ...   \n",
       "146                                  -0.06                   13.646   \n",
       "147                                  -0.07                   13.620   \n",
       "148                                  -0.06                   13.594   \n",
       "149                                  -0.06                   13.568   \n",
       "150                                  -0.07                   13.542   \n",
       "\n",
       "      Deaths per 1000 People Annual Change  \\\n",
       "0                                     0.00   \n",
       "1                                    -1.11   \n",
       "2                                    -1.13   \n",
       "3                                    -1.14   \n",
       "4                                    -1.15   \n",
       "..                                     ...   \n",
       "146                                  -0.20   \n",
       "147                                  -0.19   \n",
       "148                                  -0.19   \n",
       "149                                  -0.19   \n",
       "150                                  -0.19   \n",
       "\n",
       "      Life Expectancy from Birth (Years)  \\\n",
       "0                                 43.446   \n",
       "1                                 43.574   \n",
       "2                                 43.702   \n",
       "3                                 43.830   \n",
       "4                                 43.958   \n",
       "..                                   ...   \n",
       "146                               87.398   \n",
       "147                               87.504   \n",
       "148                               87.610   \n",
       "149                               87.716   \n",
       "150                               87.822   \n",
       "\n",
       "      Life Expectancy from Birth (Years) Annual Change  \\\n",
       "0                                                 0.00   \n",
       "1                                                 0.29   \n",
       "2                                                 0.29   \n",
       "3                                                 0.29   \n",
       "4                                                 0.29   \n",
       "..                                                 ...   \n",
       "146                                               0.12   \n",
       "147                                               0.12   \n",
       "148                                               0.12   \n",
       "149                                               0.12   \n",
       "150                                               0.12   \n",
       "\n",
       "      Population per Square KM   Population per Square KM Annual Change  \n",
       "0                    56.664440                                     0.00  \n",
       "1                    57.668059                                     1.77  \n",
       "2                    58.849363                                     2.05  \n",
       "3                    60.143545                                     2.20  \n",
       "4                    61.451598                                     2.17  \n",
       "..                         ...                                      ...  \n",
       "146                  83.765905                                    -1.18  \n",
       "147                  82.778394                                    -1.18  \n",
       "148                  81.798899                                    -1.18  \n",
       "149                  80.827454                                    -1.19  \n",
       "150                  79.861709                                    -1.19  \n",
       "\n",
       "[151 rows x 11 columns]"
      ]
     },
     "execution_count": 12,
     "metadata": {},
     "output_type": "execute_result"
    }
   ],
   "source": [
    "merged"
   ]
  },
  {
   "cell_type": "code",
   "execution_count": 13,
   "metadata": {},
   "outputs": [
    {
     "data": {
      "text/html": [
       "<div>\n",
       "<style scoped>\n",
       "    .dataframe tbody tr th:only-of-type {\n",
       "        vertical-align: middle;\n",
       "    }\n",
       "\n",
       "    .dataframe tbody tr th {\n",
       "        vertical-align: top;\n",
       "    }\n",
       "\n",
       "    .dataframe thead th {\n",
       "        text-align: right;\n",
       "    }\n",
       "</style>\n",
       "<table border=\"1\" class=\"dataframe\">\n",
       "  <thead>\n",
       "    <tr style=\"text-align: right;\">\n",
       "      <th></th>\n",
       "      <th>date</th>\n",
       "      <th>Population</th>\n",
       "      <th>Annual Growth Rate</th>\n",
       "      <th>Births per 1000 People</th>\n",
       "      <th>Births per 1000 People Annual Change</th>\n",
       "      <th>Deaths per 1000 People</th>\n",
       "      <th>Deaths per 1000 People Annual Change</th>\n",
       "      <th>Life Expectancy from Birth (Years)</th>\n",
       "      <th>Life Expectancy from Birth (Years) Annual Change</th>\n",
       "      <th>Population per Square KM</th>\n",
       "      <th>Population per Square KM Annual Change</th>\n",
       "    </tr>\n",
       "  </thead>\n",
       "  <tbody>\n",
       "    <tr>\n",
       "      <th>0</th>\n",
       "      <td>1950</td>\n",
       "      <td>543979233</td>\n",
       "      <td>0.00</td>\n",
       "      <td>46.133</td>\n",
       "      <td>0.00</td>\n",
       "      <td>23.366</td>\n",
       "      <td>0.00</td>\n",
       "      <td>43.446</td>\n",
       "      <td>0.00</td>\n",
       "      <td>56.664440</td>\n",
       "      <td>0.00</td>\n",
       "    </tr>\n",
       "    <tr>\n",
       "      <th>1</th>\n",
       "      <td>1951</td>\n",
       "      <td>553613988</td>\n",
       "      <td>1.77</td>\n",
       "      <td>44.921</td>\n",
       "      <td>-2.63</td>\n",
       "      <td>23.106</td>\n",
       "      <td>-1.11</td>\n",
       "      <td>43.574</td>\n",
       "      <td>0.29</td>\n",
       "      <td>57.668059</td>\n",
       "      <td>1.77</td>\n",
       "    </tr>\n",
       "    <tr>\n",
       "      <th>2</th>\n",
       "      <td>1952</td>\n",
       "      <td>564954522</td>\n",
       "      <td>2.05</td>\n",
       "      <td>43.710</td>\n",
       "      <td>-2.70</td>\n",
       "      <td>22.845</td>\n",
       "      <td>-1.13</td>\n",
       "      <td>43.702</td>\n",
       "      <td>0.29</td>\n",
       "      <td>58.849363</td>\n",
       "      <td>2.05</td>\n",
       "    </tr>\n",
       "    <tr>\n",
       "      <th>3</th>\n",
       "      <td>1953</td>\n",
       "      <td>577378682</td>\n",
       "      <td>2.20</td>\n",
       "      <td>42.498</td>\n",
       "      <td>-2.77</td>\n",
       "      <td>22.585</td>\n",
       "      <td>-1.14</td>\n",
       "      <td>43.830</td>\n",
       "      <td>0.29</td>\n",
       "      <td>60.143545</td>\n",
       "      <td>2.20</td>\n",
       "    </tr>\n",
       "    <tr>\n",
       "      <th>4</th>\n",
       "      <td>1954</td>\n",
       "      <td>589936004</td>\n",
       "      <td>2.17</td>\n",
       "      <td>41.286</td>\n",
       "      <td>-2.85</td>\n",
       "      <td>22.325</td>\n",
       "      <td>-1.15</td>\n",
       "      <td>43.958</td>\n",
       "      <td>0.29</td>\n",
       "      <td>61.451598</td>\n",
       "      <td>2.17</td>\n",
       "    </tr>\n",
       "  </tbody>\n",
       "</table>\n",
       "</div>"
      ],
      "text/plain": [
       "   date   Population   Annual Growth Rate   Births per 1000 People  \\\n",
       "0  1950    543979233                 0.00                   46.133   \n",
       "1  1951    553613988                 1.77                   44.921   \n",
       "2  1952    564954522                 2.05                   43.710   \n",
       "3  1953    577378682                 2.20                   42.498   \n",
       "4  1954    589936004                 2.17                   41.286   \n",
       "\n",
       "    Births per 1000 People Annual Change   Deaths per 1000 People  \\\n",
       "0                                   0.00                   23.366   \n",
       "1                                  -2.63                   23.106   \n",
       "2                                  -2.70                   22.845   \n",
       "3                                  -2.77                   22.585   \n",
       "4                                  -2.85                   22.325   \n",
       "\n",
       "    Deaths per 1000 People Annual Change   Life Expectancy from Birth (Years)  \\\n",
       "0                                   0.00                               43.446   \n",
       "1                                  -1.11                               43.574   \n",
       "2                                  -1.13                               43.702   \n",
       "3                                  -1.14                               43.830   \n",
       "4                                  -1.15                               43.958   \n",
       "\n",
       "    Life Expectancy from Birth (Years) Annual Change  \\\n",
       "0                                               0.00   \n",
       "1                                               0.29   \n",
       "2                                               0.29   \n",
       "3                                               0.29   \n",
       "4                                               0.29   \n",
       "\n",
       "    Population per Square KM   Population per Square KM Annual Change  \n",
       "0                  56.664440                                     0.00  \n",
       "1                  57.668059                                     1.77  \n",
       "2                  58.849363                                     2.05  \n",
       "3                  60.143545                                     2.20  \n",
       "4                  61.451598                                     2.17  "
      ]
     },
     "execution_count": 13,
     "metadata": {},
     "output_type": "execute_result"
    }
   ],
   "source": [
    "# convert date column to datetime and fromat from  12/31/2100\t to only year\n",
    "merged['date'] = pd.to_datetime(merged['date'])\n",
    "merged['date'] = merged['date'].dt.year\n",
    "merged.head()"
   ]
  },
  {
   "cell_type": "code",
   "execution_count": 14,
   "metadata": {},
   "outputs": [],
   "source": [
    "# make merged between 1969 and 2050 to make all datasets have same range\n",
    "merged = merged[merged['date'] >= 1969]\n",
    "merged = merged[merged['date'] <= 2050]"
   ]
  },
  {
   "cell_type": "code",
   "execution_count": 15,
   "metadata": {},
   "outputs": [],
   "source": [
    "merged.reset_index(drop=True, inplace=True) # reset index"
   ]
  },
  {
   "attachments": {},
   "cell_type": "markdown",
   "metadata": {},
   "source": [
    "### Amgad Data"
   ]
  },
  {
   "cell_type": "code",
   "execution_count": 16,
   "metadata": {},
   "outputs": [
    {
     "data": {
      "text/html": [
       "<div>\n",
       "<style scoped>\n",
       "    .dataframe tbody tr th:only-of-type {\n",
       "        vertical-align: middle;\n",
       "    }\n",
       "\n",
       "    .dataframe tbody tr th {\n",
       "        vertical-align: top;\n",
       "    }\n",
       "\n",
       "    .dataframe thead th {\n",
       "        text-align: right;\n",
       "    }\n",
       "</style>\n",
       "<table border=\"1\" class=\"dataframe\">\n",
       "  <thead>\n",
       "    <tr style=\"text-align: right;\">\n",
       "      <th></th>\n",
       "      <th>Year</th>\n",
       "      <th>Urban population (% of total population) [SP.URB.TOTL.IN.ZS]</th>\n",
       "      <th>Sex ratio at birth (male births per female births) [SP.POP.BRTH.MF]</th>\n",
       "      <th>Rural population (% of total population) [SP.RUR.TOTL.ZS]</th>\n",
       "      <th>Population, total [SP.POP.TOTL]</th>\n",
       "      <th>Population, male (% of total population) [SP.POP.TOTL.MA.ZS]</th>\n",
       "      <th>Population, female (% of total population) [SP.POP.TOTL.FE.ZS]</th>\n",
       "      <th>Population growth (annual %) [SP.POP.GROW]</th>\n",
       "      <th>Population ages 65 and above (% of total population) [SP.POP.65UP.TO.ZS]</th>\n",
       "      <th>Net migration [SM.POP.NETM]</th>\n",
       "      <th>Mortality rate, infant (per 1,000 live births) [SP.DYN.IMRT.IN]</th>\n",
       "      <th>Fertility rate, total (births per woman) [SP.DYN.TFRT.IN]</th>\n",
       "      <th>Death rate, crude (per 1,000 people) [SP.DYN.CDRT.IN]</th>\n",
       "      <th>Birth rate, crude (per 1,000 people) [SP.DYN.CBRT.IN]</th>\n",
       "      <th>Age dependency ratio (% of working-age population) [SP.POP.DPND]</th>\n",
       "    </tr>\n",
       "  </thead>\n",
       "  <tbody>\n",
       "    <tr>\n",
       "      <th>0</th>\n",
       "      <td>1969</td>\n",
       "      <td>17.528</td>\n",
       "      <td>1.063</td>\n",
       "      <td>82.472</td>\n",
       "      <td>796025000</td>\n",
       "      <td>50.959032</td>\n",
       "      <td>49.040968</td>\n",
       "      <td>2.74000210569558</td>\n",
       "      <td>3.687490</td>\n",
       "      <td>-72835</td>\n",
       "      <td>83.4</td>\n",
       "      <td>6.175</td>\n",
       "      <td>8.03</td>\n",
       "      <td>34.11</td>\n",
       "      <td>80.961979</td>\n",
       "    </tr>\n",
       "    <tr>\n",
       "      <th>1</th>\n",
       "      <td>1970</td>\n",
       "      <td>17.400</td>\n",
       "      <td>1.064</td>\n",
       "      <td>82.600</td>\n",
       "      <td>818315000</td>\n",
       "      <td>50.954552</td>\n",
       "      <td>49.045448</td>\n",
       "      <td>2.76167556645304</td>\n",
       "      <td>3.712521</td>\n",
       "      <td>-126514</td>\n",
       "      <td>79.7</td>\n",
       "      <td>6.085</td>\n",
       "      <td>7.6</td>\n",
       "      <td>33.43</td>\n",
       "      <td>80.524027</td>\n",
       "    </tr>\n",
       "    <tr>\n",
       "      <th>2</th>\n",
       "      <td>1971</td>\n",
       "      <td>17.292</td>\n",
       "      <td>1.064</td>\n",
       "      <td>82.708</td>\n",
       "      <td>841105000</td>\n",
       "      <td>50.952559</td>\n",
       "      <td>49.047441</td>\n",
       "      <td>2.74691554961857</td>\n",
       "      <td>3.743416</td>\n",
       "      <td>-180202</td>\n",
       "      <td>76</td>\n",
       "      <td>5.523</td>\n",
       "      <td>7.32</td>\n",
       "      <td>30.65</td>\n",
       "      <td>80.188208</td>\n",
       "    </tr>\n",
       "    <tr>\n",
       "      <th>3</th>\n",
       "      <td>1972</td>\n",
       "      <td>17.184</td>\n",
       "      <td>1.064</td>\n",
       "      <td>82.816</td>\n",
       "      <td>862030000</td>\n",
       "      <td>50.951571</td>\n",
       "      <td>49.048429</td>\n",
       "      <td>2.45735692952286</td>\n",
       "      <td>3.777798</td>\n",
       "      <td>-215730</td>\n",
       "      <td>72.5</td>\n",
       "      <td>5.112</td>\n",
       "      <td>7.61</td>\n",
       "      <td>29.77</td>\n",
       "      <td>79.481177</td>\n",
       "    </tr>\n",
       "    <tr>\n",
       "      <th>4</th>\n",
       "      <td>1973</td>\n",
       "      <td>17.184</td>\n",
       "      <td>1.064</td>\n",
       "      <td>82.816</td>\n",
       "      <td>881940000</td>\n",
       "      <td>50.950011</td>\n",
       "      <td>49.049989</td>\n",
       "      <td>2.28339536396383</td>\n",
       "      <td>3.821944</td>\n",
       "      <td>-215090</td>\n",
       "      <td>68.9</td>\n",
       "      <td>4.726</td>\n",
       "      <td>7.04</td>\n",
       "      <td>27.93</td>\n",
       "      <td>78.831239</td>\n",
       "    </tr>\n",
       "  </tbody>\n",
       "</table>\n",
       "</div>"
      ],
      "text/plain": [
       "   Year  Urban population (% of total population) [SP.URB.TOTL.IN.ZS]  \\\n",
       "0  1969                                             17.528              \n",
       "1  1970                                             17.400              \n",
       "2  1971                                             17.292              \n",
       "3  1972                                             17.184              \n",
       "4  1973                                             17.184              \n",
       "\n",
       "  Sex ratio at birth (male births per female births) [SP.POP.BRTH.MF]  \\\n",
       "0                                              1.063                    \n",
       "1                                              1.064                    \n",
       "2                                              1.064                    \n",
       "3                                              1.064                    \n",
       "4                                              1.064                    \n",
       "\n",
       "   Rural population (% of total population) [SP.RUR.TOTL.ZS]  \\\n",
       "0                                             82.472           \n",
       "1                                             82.600           \n",
       "2                                             82.708           \n",
       "3                                             82.816           \n",
       "4                                             82.816           \n",
       "\n",
       "   Population, total [SP.POP.TOTL]  \\\n",
       "0                        796025000   \n",
       "1                        818315000   \n",
       "2                        841105000   \n",
       "3                        862030000   \n",
       "4                        881940000   \n",
       "\n",
       "   Population, male (% of total population) [SP.POP.TOTL.MA.ZS]  \\\n",
       "0                                          50.959032              \n",
       "1                                          50.954552              \n",
       "2                                          50.952559              \n",
       "3                                          50.951571              \n",
       "4                                          50.950011              \n",
       "\n",
       "   Population, female (% of total population) [SP.POP.TOTL.FE.ZS]  \\\n",
       "0                                          49.040968                \n",
       "1                                          49.045448                \n",
       "2                                          49.047441                \n",
       "3                                          49.048429                \n",
       "4                                          49.049989                \n",
       "\n",
       "  Population growth (annual %) [SP.POP.GROW]  \\\n",
       "0                           2.74000210569558   \n",
       "1                           2.76167556645304   \n",
       "2                           2.74691554961857   \n",
       "3                           2.45735692952286   \n",
       "4                           2.28339536396383   \n",
       "\n",
       "   Population ages 65 and above (% of total population) [SP.POP.65UP.TO.ZS]  \\\n",
       "0                                           3.687490                          \n",
       "1                                           3.712521                          \n",
       "2                                           3.743416                          \n",
       "3                                           3.777798                          \n",
       "4                                           3.821944                          \n",
       "\n",
       "   Net migration [SM.POP.NETM]  \\\n",
       "0                       -72835   \n",
       "1                      -126514   \n",
       "2                      -180202   \n",
       "3                      -215730   \n",
       "4                      -215090   \n",
       "\n",
       "  Mortality rate, infant (per 1,000 live births) [SP.DYN.IMRT.IN]  \\\n",
       "0                                               83.4                \n",
       "1                                               79.7                \n",
       "2                                                 76                \n",
       "3                                               72.5                \n",
       "4                                               68.9                \n",
       "\n",
       "  Fertility rate, total (births per woman) [SP.DYN.TFRT.IN]  \\\n",
       "0                                              6.175          \n",
       "1                                              6.085          \n",
       "2                                              5.523          \n",
       "3                                              5.112          \n",
       "4                                              4.726          \n",
       "\n",
       "  Death rate, crude (per 1,000 people) [SP.DYN.CDRT.IN]  \\\n",
       "0                                               8.03      \n",
       "1                                                7.6      \n",
       "2                                               7.32      \n",
       "3                                               7.61      \n",
       "4                                               7.04      \n",
       "\n",
       "  Birth rate, crude (per 1,000 people) [SP.DYN.CBRT.IN]  \\\n",
       "0                                              34.11      \n",
       "1                                              33.43      \n",
       "2                                              30.65      \n",
       "3                                              29.77      \n",
       "4                                              27.93      \n",
       "\n",
       "   Age dependency ratio (% of working-age population) [SP.POP.DPND]  \n",
       "0                                          80.961979                 \n",
       "1                                          80.524027                 \n",
       "2                                          80.188208                 \n",
       "3                                          79.481177                 \n",
       "4                                          78.831239                 "
      ]
     },
     "execution_count": 16,
     "metadata": {},
     "output_type": "execute_result"
    }
   ],
   "source": [
    "df2 = pd.read_csv(\"Data-2/China demographics 1965-2050 (1).csv\")\n",
    "df2.head()"
   ]
  },
  {
   "cell_type": "code",
   "execution_count": 17,
   "metadata": {},
   "outputs": [
    {
     "data": {
      "text/plain": [
       "Index(['Year', 'Urban population (% of total population) [SP.URB.TOTL.IN.ZS]',\n",
       "       'Sex ratio at birth (male births per female births) [SP.POP.BRTH.MF]',\n",
       "       'Rural population (% of total population) [SP.RUR.TOTL.ZS]',\n",
       "       'Population, total [SP.POP.TOTL]',\n",
       "       'Population, male (% of total population) [SP.POP.TOTL.MA.ZS]',\n",
       "       'Population, female (% of total population) [SP.POP.TOTL.FE.ZS]',\n",
       "       'Population growth (annual %) [SP.POP.GROW]',\n",
       "       'Population ages 65 and above (% of total population) [SP.POP.65UP.TO.ZS]',\n",
       "       'Net migration [SM.POP.NETM]',\n",
       "       'Mortality rate, infant (per 1,000 live births) [SP.DYN.IMRT.IN]',\n",
       "       'Fertility rate, total (births per woman) [SP.DYN.TFRT.IN]',\n",
       "       'Death rate, crude (per 1,000 people) [SP.DYN.CDRT.IN]',\n",
       "       'Birth rate, crude (per 1,000 people) [SP.DYN.CBRT.IN]',\n",
       "       'Age dependency ratio (% of working-age population) [SP.POP.DPND]'],\n",
       "      dtype='object')"
      ]
     },
     "execution_count": 17,
     "metadata": {},
     "output_type": "execute_result"
    }
   ],
   "source": [
    "df2.columns # print columns"
   ]
  },
  {
   "cell_type": "code",
   "execution_count": 18,
   "metadata": {},
   "outputs": [
    {
     "name": "stdout",
     "output_type": "stream",
     "text": [
      "min year: 1969 max year: 2050\n"
     ]
    }
   ],
   "source": [
    "# range of years\n",
    "print(\"min year: \" + str(df2['Year'].min()), \"max year: \" + str(df2['Year'].max()))"
   ]
  },
  {
   "attachments": {},
   "cell_type": "markdown",
   "metadata": {},
   "source": [
    "### `Pyramid Data`"
   ]
  },
  {
   "cell_type": "code",
   "execution_count": 19,
   "metadata": {},
   "outputs": [],
   "source": [
    "#pyramid_data =pd.read_excel(\"Data/china-population-pyramid-1960-2050.xls \", sheet_name=\"Data\") # sheet_name=\"Data\" to read only data\n",
    "pyramid_data = pd.read_csv(\"Data/china-population-pyramid-1960-2050.csv\",)"
   ]
  },
  {
   "cell_type": "code",
   "execution_count": 20,
   "metadata": {},
   "outputs": [
    {
     "data": {
      "text/html": [
       "<div>\n",
       "<style scoped>\n",
       "    .dataframe tbody tr th:only-of-type {\n",
       "        vertical-align: middle;\n",
       "    }\n",
       "\n",
       "    .dataframe tbody tr th {\n",
       "        vertical-align: top;\n",
       "    }\n",
       "\n",
       "    .dataframe thead th {\n",
       "        text-align: right;\n",
       "    }\n",
       "</style>\n",
       "<table border=\"1\" class=\"dataframe\">\n",
       "  <thead>\n",
       "    <tr style=\"text-align: right;\">\n",
       "      <th></th>\n",
       "      <th>Year</th>\n",
       "      <th>0-4Female</th>\n",
       "      <th>5-9Female</th>\n",
       "      <th>10-14Female</th>\n",
       "      <th>15-19Female</th>\n",
       "      <th>20-24Female</th>\n",
       "      <th>25-29Female</th>\n",
       "      <th>30-34Female</th>\n",
       "      <th>35-39Female</th>\n",
       "      <th>40-44Female</th>\n",
       "      <th>...</th>\n",
       "      <th>55-59Male</th>\n",
       "      <th>60-64Male</th>\n",
       "      <th>65-69Male</th>\n",
       "      <th>70-74Male</th>\n",
       "      <th>75-79Male</th>\n",
       "      <th>80-84Male</th>\n",
       "      <th>85-89Male</th>\n",
       "      <th>90-94Male</th>\n",
       "      <th>95-99Male</th>\n",
       "      <th>100+Male</th>\n",
       "    </tr>\n",
       "  </thead>\n",
       "  <tbody>\n",
       "    <tr>\n",
       "      <th>0</th>\n",
       "      <td>1960</td>\n",
       "      <td>47,920,315.00</td>\n",
       "      <td>46,829,753.00</td>\n",
       "      <td>33,432,080.00</td>\n",
       "      <td>25,471,658.00</td>\n",
       "      <td>24,122,343.00</td>\n",
       "      <td>23,327,941.00</td>\n",
       "      <td>20,533,620.00</td>\n",
       "      <td>18,630,935.50</td>\n",
       "      <td>16,497,774.00</td>\n",
       "      <td>...</td>\n",
       "      <td>10,724,846.00</td>\n",
       "      <td>7,732,748.50</td>\n",
       "      <td>5,380,578.00</td>\n",
       "      <td>3,229,643.00</td>\n",
       "      <td>1,571,773.00</td>\n",
       "      <td>557,486.00</td>\n",
       "      <td>166,261.50</td>\n",
       "      <td>30,039.00</td>\n",
       "      <td>2,309.00</td>\n",
       "      <td>29.50</td>\n",
       "    </tr>\n",
       "    <tr>\n",
       "      <th>1</th>\n",
       "      <td>1961</td>\n",
       "      <td>43,854,185.00</td>\n",
       "      <td>47,677,726.00</td>\n",
       "      <td>35,825,728.00</td>\n",
       "      <td>26,076,781.50</td>\n",
       "      <td>24,016,057.50</td>\n",
       "      <td>23,698,797.50</td>\n",
       "      <td>20,836,776.50</td>\n",
       "      <td>18,794,400.00</td>\n",
       "      <td>16,628,372.00</td>\n",
       "      <td>...</td>\n",
       "      <td>10,761,714.00</td>\n",
       "      <td>7,718,281.50</td>\n",
       "      <td>5,340,784.00</td>\n",
       "      <td>3,111,826.50</td>\n",
       "      <td>1,493,829.50</td>\n",
       "      <td>539,886.00</td>\n",
       "      <td>150,155.00</td>\n",
       "      <td>26,290.50</td>\n",
       "      <td>1,912.50</td>\n",
       "      <td>16.50</td>\n",
       "    </tr>\n",
       "    <tr>\n",
       "      <th>2</th>\n",
       "      <td>1962</td>\n",
       "      <td>42,618,084.00</td>\n",
       "      <td>48,227,487.00</td>\n",
       "      <td>38,568,543.00</td>\n",
       "      <td>27,060,995.50</td>\n",
       "      <td>24,056,249.00</td>\n",
       "      <td>23,960,210.50</td>\n",
       "      <td>21,219,384.00</td>\n",
       "      <td>19,007,207.50</td>\n",
       "      <td>16,794,522.00</td>\n",
       "      <td>...</td>\n",
       "      <td>10,812,142.00</td>\n",
       "      <td>7,851,263.00</td>\n",
       "      <td>5,353,814.00</td>\n",
       "      <td>3,084,425.00</td>\n",
       "      <td>1,474,477.00</td>\n",
       "      <td>540,474.00</td>\n",
       "      <td>138,849.50</td>\n",
       "      <td>23,929.50</td>\n",
       "      <td>1,612.00</td>\n",
       "      <td>10.00</td>\n",
       "    </tr>\n",
       "    <tr>\n",
       "      <th>3</th>\n",
       "      <td>1963</td>\n",
       "      <td>45,892,983.50</td>\n",
       "      <td>48,233,568.00</td>\n",
       "      <td>41,316,192.00</td>\n",
       "      <td>28,554,232.50</td>\n",
       "      <td>24,141,310.00</td>\n",
       "      <td>23,937,322.50</td>\n",
       "      <td>21,672,178.00</td>\n",
       "      <td>19,363,372.00</td>\n",
       "      <td>17,074,803.50</td>\n",
       "      <td>...</td>\n",
       "      <td>10,874,094.50</td>\n",
       "      <td>8,075,194.00</td>\n",
       "      <td>5,383,838.50</td>\n",
       "      <td>3,117,905.00</td>\n",
       "      <td>1,491,396.50</td>\n",
       "      <td>547,760.00</td>\n",
       "      <td>130,685.50</td>\n",
       "      <td>22,378.00</td>\n",
       "      <td>1,406.00</td>\n",
       "      <td>5.00</td>\n",
       "    </tr>\n",
       "    <tr>\n",
       "      <th>4</th>\n",
       "      <td>1964</td>\n",
       "      <td>51,299,213.50</td>\n",
       "      <td>46,735,446.00</td>\n",
       "      <td>43,595,994.00</td>\n",
       "      <td>30,430,756.00</td>\n",
       "      <td>24,424,064.00</td>\n",
       "      <td>23,695,036.50</td>\n",
       "      <td>22,181,661.50</td>\n",
       "      <td>19,632,192.50</td>\n",
       "      <td>17,492,035.50</td>\n",
       "      <td>...</td>\n",
       "      <td>10,986,288.50</td>\n",
       "      <td>8,343,232.00</td>\n",
       "      <td>5,396,712.50</td>\n",
       "      <td>3,160,661.50</td>\n",
       "      <td>1,518,130.00</td>\n",
       "      <td>548,604.00</td>\n",
       "      <td>125,479.50</td>\n",
       "      <td>20,836.50</td>\n",
       "      <td>1,243.00</td>\n",
       "      <td>3.50</td>\n",
       "    </tr>\n",
       "  </tbody>\n",
       "</table>\n",
       "<p>5 rows × 43 columns</p>\n",
       "</div>"
      ],
      "text/plain": [
       "   Year      0-4Female      5-9Female    10-14Female    15-19Female  \\\n",
       "0  1960  47,920,315.00  46,829,753.00  33,432,080.00  25,471,658.00   \n",
       "1  1961  43,854,185.00  47,677,726.00  35,825,728.00  26,076,781.50   \n",
       "2  1962  42,618,084.00  48,227,487.00  38,568,543.00  27,060,995.50   \n",
       "3  1963  45,892,983.50  48,233,568.00  41,316,192.00  28,554,232.50   \n",
       "4  1964  51,299,213.50  46,735,446.00  43,595,994.00  30,430,756.00   \n",
       "\n",
       "     20-24Female    25-29Female    30-34Female    35-39Female    40-44Female  \\\n",
       "0  24,122,343.00  23,327,941.00  20,533,620.00  18,630,935.50  16,497,774.00   \n",
       "1  24,016,057.50  23,698,797.50  20,836,776.50  18,794,400.00  16,628,372.00   \n",
       "2  24,056,249.00  23,960,210.50  21,219,384.00  19,007,207.50  16,794,522.00   \n",
       "3  24,141,310.00  23,937,322.50  21,672,178.00  19,363,372.00  17,074,803.50   \n",
       "4  24,424,064.00  23,695,036.50  22,181,661.50  19,632,192.50  17,492,035.50   \n",
       "\n",
       "   ...      55-59Male     60-64Male     65-69Male     70-74Male     75-79Male  \\\n",
       "0  ...  10,724,846.00  7,732,748.50  5,380,578.00  3,229,643.00  1,571,773.00   \n",
       "1  ...  10,761,714.00  7,718,281.50  5,340,784.00  3,111,826.50  1,493,829.50   \n",
       "2  ...  10,812,142.00  7,851,263.00  5,353,814.00  3,084,425.00  1,474,477.00   \n",
       "3  ...  10,874,094.50  8,075,194.00  5,383,838.50  3,117,905.00  1,491,396.50   \n",
       "4  ...  10,986,288.50  8,343,232.00  5,396,712.50  3,160,661.50  1,518,130.00   \n",
       "\n",
       "    80-84Male   85-89Male  90-94Male 95-99Male 100+Male  \n",
       "0  557,486.00  166,261.50  30,039.00  2,309.00    29.50  \n",
       "1  539,886.00  150,155.00  26,290.50  1,912.50    16.50  \n",
       "2  540,474.00  138,849.50  23,929.50  1,612.00    10.00  \n",
       "3  547,760.00  130,685.50  22,378.00  1,406.00     5.00  \n",
       "4  548,604.00  125,479.50  20,836.50  1,243.00     3.50  \n",
       "\n",
       "[5 rows x 43 columns]"
      ]
     },
     "execution_count": 20,
     "metadata": {},
     "output_type": "execute_result"
    }
   ],
   "source": [
    "# Explore Pyramid data\n",
    "pyramid_data.head()"
   ]
  },
  {
   "cell_type": "code",
   "execution_count": 21,
   "metadata": {},
   "outputs": [
    {
     "data": {
      "text/plain": [
       "Index(['Year', '0-4Female', '5-9Female', '10-14Female', '15-19Female',\n",
       "       '20-24Female', '25-29Female', '30-34Female', '35-39Female',\n",
       "       '40-44Female', '45-49Female', '50-54Female', '55-59Female',\n",
       "       '60-64Female', '65-69Female', '70-74Female', '75-79Female',\n",
       "       '80-84Female', '85-89Female', '90-94Female', '95-99Female',\n",
       "       '100+Female', '0-4Male', '5-9Male', '10-14Male', '15-19Male',\n",
       "       '20-24Male', '25-29Male', '30-34Male', '35-39Male', '40-44Male',\n",
       "       '45-49Male', '50-54Male', '55-59Male', '60-64Male', '65-69Male',\n",
       "       '70-74Male', '75-79Male', '80-84Male', '85-89Male', '90-94Male',\n",
       "       '95-99Male', '100+Male'],\n",
       "      dtype='object')"
      ]
     },
     "execution_count": 21,
     "metadata": {},
     "output_type": "execute_result"
    }
   ],
   "source": [
    "pyramid_data.columns # print columns\n"
   ]
  },
  {
   "cell_type": "code",
   "execution_count": 22,
   "metadata": {},
   "outputs": [
    {
     "data": {
      "text/plain": [
       "Index(['0-4Female', '5-9Female', '10-14Female', '15-19Female', '20-24Female',\n",
       "       '25-29Female', '30-34Female', '35-39Female', '40-44Female',\n",
       "       '45-49Female', '50-54Female', '55-59Female', '60-64Female',\n",
       "       '65-69Female', '70-74Female', '75-79Female', '80-84Female',\n",
       "       '85-89Female', '90-94Female', '95-99Female', '100+Female'],\n",
       "      dtype='object')"
      ]
     },
     "execution_count": 22,
     "metadata": {},
     "output_type": "execute_result"
    }
   ],
   "source": [
    "pyramid_data.columns[1:22] #first group for men "
   ]
  },
  {
   "cell_type": "code",
   "execution_count": 23,
   "metadata": {},
   "outputs": [
    {
     "data": {
      "text/plain": [
       "Index(['0-4Male', '5-9Male', '10-14Male', '15-19Male', '20-24Male',\n",
       "       '25-29Male', '30-34Male', '35-39Male', '40-44Male', '45-49Male',\n",
       "       '50-54Male', '55-59Male', '60-64Male', '65-69Male', '70-74Male',\n",
       "       '75-79Male', '80-84Male', '85-89Male', '90-94Male', '95-99Male',\n",
       "       '100+Male'],\n",
       "      dtype='object')"
      ]
     },
     "execution_count": 23,
     "metadata": {},
     "output_type": "execute_result"
    }
   ],
   "source": [
    "pyramid_data.columns[22:44] #first group for women "
   ]
  },
  {
   "cell_type": "code",
   "execution_count": 24,
   "metadata": {},
   "outputs": [],
   "source": [
    "men_data = pyramid_data.iloc[:,1:22] # men data\n",
    "women_data = pyramid_data.iloc[:,22:] # women data\n"
   ]
  },
  {
   "cell_type": "code",
   "execution_count": 25,
   "metadata": {},
   "outputs": [
    {
     "data": {
      "text/html": [
       "<div>\n",
       "<style scoped>\n",
       "    .dataframe tbody tr th:only-of-type {\n",
       "        vertical-align: middle;\n",
       "    }\n",
       "\n",
       "    .dataframe tbody tr th {\n",
       "        vertical-align: top;\n",
       "    }\n",
       "\n",
       "    .dataframe thead th {\n",
       "        text-align: right;\n",
       "    }\n",
       "</style>\n",
       "<table border=\"1\" class=\"dataframe\">\n",
       "  <thead>\n",
       "    <tr style=\"text-align: right;\">\n",
       "      <th></th>\n",
       "      <th>Year</th>\n",
       "      <th>0-4Female</th>\n",
       "      <th>5-9Female</th>\n",
       "      <th>10-14Female</th>\n",
       "      <th>15-19Female</th>\n",
       "      <th>20-24Female</th>\n",
       "      <th>25-29Female</th>\n",
       "      <th>30-34Female</th>\n",
       "      <th>35-39Female</th>\n",
       "      <th>40-44Female</th>\n",
       "      <th>...</th>\n",
       "      <th>55-59Male</th>\n",
       "      <th>60-64Male</th>\n",
       "      <th>65-69Male</th>\n",
       "      <th>70-74Male</th>\n",
       "      <th>75-79Male</th>\n",
       "      <th>80-84Male</th>\n",
       "      <th>85-89Male</th>\n",
       "      <th>90-94Male</th>\n",
       "      <th>95-99Male</th>\n",
       "      <th>100+Male</th>\n",
       "    </tr>\n",
       "  </thead>\n",
       "  <tbody>\n",
       "    <tr>\n",
       "      <th>0</th>\n",
       "      <td>1960</td>\n",
       "      <td>47,920,315.00</td>\n",
       "      <td>46,829,753.00</td>\n",
       "      <td>33,432,080.00</td>\n",
       "      <td>25,471,658.00</td>\n",
       "      <td>24,122,343.00</td>\n",
       "      <td>23,327,941.00</td>\n",
       "      <td>20,533,620.00</td>\n",
       "      <td>18,630,935.50</td>\n",
       "      <td>16,497,774.00</td>\n",
       "      <td>...</td>\n",
       "      <td>10,724,846.00</td>\n",
       "      <td>7,732,748.50</td>\n",
       "      <td>5,380,578.00</td>\n",
       "      <td>3,229,643.00</td>\n",
       "      <td>1,571,773.00</td>\n",
       "      <td>557,486.00</td>\n",
       "      <td>166,261.50</td>\n",
       "      <td>30,039.00</td>\n",
       "      <td>2,309.00</td>\n",
       "      <td>29.50</td>\n",
       "    </tr>\n",
       "    <tr>\n",
       "      <th>1</th>\n",
       "      <td>1961</td>\n",
       "      <td>43,854,185.00</td>\n",
       "      <td>47,677,726.00</td>\n",
       "      <td>35,825,728.00</td>\n",
       "      <td>26,076,781.50</td>\n",
       "      <td>24,016,057.50</td>\n",
       "      <td>23,698,797.50</td>\n",
       "      <td>20,836,776.50</td>\n",
       "      <td>18,794,400.00</td>\n",
       "      <td>16,628,372.00</td>\n",
       "      <td>...</td>\n",
       "      <td>10,761,714.00</td>\n",
       "      <td>7,718,281.50</td>\n",
       "      <td>5,340,784.00</td>\n",
       "      <td>3,111,826.50</td>\n",
       "      <td>1,493,829.50</td>\n",
       "      <td>539,886.00</td>\n",
       "      <td>150,155.00</td>\n",
       "      <td>26,290.50</td>\n",
       "      <td>1,912.50</td>\n",
       "      <td>16.50</td>\n",
       "    </tr>\n",
       "    <tr>\n",
       "      <th>2</th>\n",
       "      <td>1962</td>\n",
       "      <td>42,618,084.00</td>\n",
       "      <td>48,227,487.00</td>\n",
       "      <td>38,568,543.00</td>\n",
       "      <td>27,060,995.50</td>\n",
       "      <td>24,056,249.00</td>\n",
       "      <td>23,960,210.50</td>\n",
       "      <td>21,219,384.00</td>\n",
       "      <td>19,007,207.50</td>\n",
       "      <td>16,794,522.00</td>\n",
       "      <td>...</td>\n",
       "      <td>10,812,142.00</td>\n",
       "      <td>7,851,263.00</td>\n",
       "      <td>5,353,814.00</td>\n",
       "      <td>3,084,425.00</td>\n",
       "      <td>1,474,477.00</td>\n",
       "      <td>540,474.00</td>\n",
       "      <td>138,849.50</td>\n",
       "      <td>23,929.50</td>\n",
       "      <td>1,612.00</td>\n",
       "      <td>10.00</td>\n",
       "    </tr>\n",
       "    <tr>\n",
       "      <th>3</th>\n",
       "      <td>1963</td>\n",
       "      <td>45,892,983.50</td>\n",
       "      <td>48,233,568.00</td>\n",
       "      <td>41,316,192.00</td>\n",
       "      <td>28,554,232.50</td>\n",
       "      <td>24,141,310.00</td>\n",
       "      <td>23,937,322.50</td>\n",
       "      <td>21,672,178.00</td>\n",
       "      <td>19,363,372.00</td>\n",
       "      <td>17,074,803.50</td>\n",
       "      <td>...</td>\n",
       "      <td>10,874,094.50</td>\n",
       "      <td>8,075,194.00</td>\n",
       "      <td>5,383,838.50</td>\n",
       "      <td>3,117,905.00</td>\n",
       "      <td>1,491,396.50</td>\n",
       "      <td>547,760.00</td>\n",
       "      <td>130,685.50</td>\n",
       "      <td>22,378.00</td>\n",
       "      <td>1,406.00</td>\n",
       "      <td>5.00</td>\n",
       "    </tr>\n",
       "    <tr>\n",
       "      <th>4</th>\n",
       "      <td>1964</td>\n",
       "      <td>51,299,213.50</td>\n",
       "      <td>46,735,446.00</td>\n",
       "      <td>43,595,994.00</td>\n",
       "      <td>30,430,756.00</td>\n",
       "      <td>24,424,064.00</td>\n",
       "      <td>23,695,036.50</td>\n",
       "      <td>22,181,661.50</td>\n",
       "      <td>19,632,192.50</td>\n",
       "      <td>17,492,035.50</td>\n",
       "      <td>...</td>\n",
       "      <td>10,986,288.50</td>\n",
       "      <td>8,343,232.00</td>\n",
       "      <td>5,396,712.50</td>\n",
       "      <td>3,160,661.50</td>\n",
       "      <td>1,518,130.00</td>\n",
       "      <td>548,604.00</td>\n",
       "      <td>125,479.50</td>\n",
       "      <td>20,836.50</td>\n",
       "      <td>1,243.00</td>\n",
       "      <td>3.50</td>\n",
       "    </tr>\n",
       "    <tr>\n",
       "      <th>...</th>\n",
       "      <td>...</td>\n",
       "      <td>...</td>\n",
       "      <td>...</td>\n",
       "      <td>...</td>\n",
       "      <td>...</td>\n",
       "      <td>...</td>\n",
       "      <td>...</td>\n",
       "      <td>...</td>\n",
       "      <td>...</td>\n",
       "      <td>...</td>\n",
       "      <td>...</td>\n",
       "      <td>...</td>\n",
       "      <td>...</td>\n",
       "      <td>...</td>\n",
       "      <td>...</td>\n",
       "      <td>...</td>\n",
       "      <td>...</td>\n",
       "      <td>...</td>\n",
       "      <td>...</td>\n",
       "      <td>...</td>\n",
       "      <td>...</td>\n",
       "    </tr>\n",
       "    <tr>\n",
       "      <th>86</th>\n",
       "      <td>2046</td>\n",
       "      <td>24,886,285.50</td>\n",
       "      <td>24,672,713.00</td>\n",
       "      <td>23,906,747.00</td>\n",
       "      <td>24,009,361.50</td>\n",
       "      <td>24,688,067.50</td>\n",
       "      <td>34,491,899.50</td>\n",
       "      <td>41,216,552.00</td>\n",
       "      <td>39,028,621.50</td>\n",
       "      <td>35,678,662.00</td>\n",
       "      <td>...</td>\n",
       "      <td>60,609,076.00</td>\n",
       "      <td>50,611,300.50</td>\n",
       "      <td>41,575,488.50</td>\n",
       "      <td>44,470,440.00</td>\n",
       "      <td>41,820,927.50</td>\n",
       "      <td>28,599,909.00</td>\n",
       "      <td>11,141,836.50</td>\n",
       "      <td>5,215,883.50</td>\n",
       "      <td>824,204.50</td>\n",
       "      <td>41,810.00</td>\n",
       "    </tr>\n",
       "    <tr>\n",
       "      <th>87</th>\n",
       "      <td>2047</td>\n",
       "      <td>24,670,788.50</td>\n",
       "      <td>24,834,136.00</td>\n",
       "      <td>23,981,892.00</td>\n",
       "      <td>23,912,899.50</td>\n",
       "      <td>24,499,517.50</td>\n",
       "      <td>31,096,746.00</td>\n",
       "      <td>41,267,756.00</td>\n",
       "      <td>39,773,244.00</td>\n",
       "      <td>36,086,272.50</td>\n",
       "      <td>...</td>\n",
       "      <td>58,591,508.50</td>\n",
       "      <td>52,300,110.00</td>\n",
       "      <td>43,074,212.00</td>\n",
       "      <td>42,248,528.50</td>\n",
       "      <td>42,687,484.00</td>\n",
       "      <td>30,223,013.50</td>\n",
       "      <td>11,405,663.50</td>\n",
       "      <td>5,479,257.00</td>\n",
       "      <td>931,267.50</td>\n",
       "      <td>47,610.50</td>\n",
       "    </tr>\n",
       "    <tr>\n",
       "      <th>88</th>\n",
       "      <td>2048</td>\n",
       "      <td>24,362,773.50</td>\n",
       "      <td>24,936,250.00</td>\n",
       "      <td>24,106,410.00</td>\n",
       "      <td>23,851,113.00</td>\n",
       "      <td>24,319,076.50</td>\n",
       "      <td>28,278,187.00</td>\n",
       "      <td>40,583,569.50</td>\n",
       "      <td>40,428,475.50</td>\n",
       "      <td>36,744,836.50</td>\n",
       "      <td>...</td>\n",
       "      <td>55,929,049.00</td>\n",
       "      <td>54,246,881.00</td>\n",
       "      <td>44,658,169.00</td>\n",
       "      <td>40,049,971.50</td>\n",
       "      <td>42,926,577.50</td>\n",
       "      <td>30,754,932.00</td>\n",
       "      <td>13,075,476.50</td>\n",
       "      <td>5,674,290.50</td>\n",
       "      <td>1,039,990.00</td>\n",
       "      <td>54,261.50</td>\n",
       "    </tr>\n",
       "    <tr>\n",
       "      <th>89</th>\n",
       "      <td>2049</td>\n",
       "      <td>23,947,531.50</td>\n",
       "      <td>24,979,265.00</td>\n",
       "      <td>24,275,496.00</td>\n",
       "      <td>23,811,101.50</td>\n",
       "      <td>24,142,448.50</td>\n",
       "      <td>26,284,203.50</td>\n",
       "      <td>39,140,215.00</td>\n",
       "      <td>40,792,478.00</td>\n",
       "      <td>37,547,722.50</td>\n",
       "      <td>...</td>\n",
       "      <td>52,988,064.50</td>\n",
       "      <td>56,437,396.00</td>\n",
       "      <td>45,673,892.00</td>\n",
       "      <td>38,517,002.00</td>\n",
       "      <td>42,290,607.00</td>\n",
       "      <td>31,466,294.50</td>\n",
       "      <td>15,222,165.50</td>\n",
       "      <td>5,596,963.50</td>\n",
       "      <td>1,135,300.00</td>\n",
       "      <td>61,656.50</td>\n",
       "    </tr>\n",
       "    <tr>\n",
       "      <th>90</th>\n",
       "      <td>2050</td>\n",
       "      <td>23,431,978.00</td>\n",
       "      <td>24,957,242.00</td>\n",
       "      <td>24,461,191.50</td>\n",
       "      <td>23,801,765.00</td>\n",
       "      <td>23,982,584.00</td>\n",
       "      <td>24,988,740.50</td>\n",
       "      <td>37,119,979.50</td>\n",
       "      <td>40,942,185.50</td>\n",
       "      <td>38,288,978.00</td>\n",
       "      <td>...</td>\n",
       "      <td>49,339,359.00</td>\n",
       "      <td>58,534,644.00</td>\n",
       "      <td>46,828,628.50</td>\n",
       "      <td>38,081,883.50</td>\n",
       "      <td>40,915,834.00</td>\n",
       "      <td>32,462,344.50</td>\n",
       "      <td>17,169,724.50</td>\n",
       "      <td>5,372,408.00</td>\n",
       "      <td>1,235,621.50</td>\n",
       "      <td>71,292.50</td>\n",
       "    </tr>\n",
       "  </tbody>\n",
       "</table>\n",
       "<p>91 rows × 43 columns</p>\n",
       "</div>"
      ],
      "text/plain": [
       "    Year      0-4Female      5-9Female    10-14Female    15-19Female  \\\n",
       "0   1960  47,920,315.00  46,829,753.00  33,432,080.00  25,471,658.00   \n",
       "1   1961  43,854,185.00  47,677,726.00  35,825,728.00  26,076,781.50   \n",
       "2   1962  42,618,084.00  48,227,487.00  38,568,543.00  27,060,995.50   \n",
       "3   1963  45,892,983.50  48,233,568.00  41,316,192.00  28,554,232.50   \n",
       "4   1964  51,299,213.50  46,735,446.00  43,595,994.00  30,430,756.00   \n",
       "..   ...            ...            ...            ...            ...   \n",
       "86  2046  24,886,285.50  24,672,713.00  23,906,747.00  24,009,361.50   \n",
       "87  2047  24,670,788.50  24,834,136.00  23,981,892.00  23,912,899.50   \n",
       "88  2048  24,362,773.50  24,936,250.00  24,106,410.00  23,851,113.00   \n",
       "89  2049  23,947,531.50  24,979,265.00  24,275,496.00  23,811,101.50   \n",
       "90  2050  23,431,978.00  24,957,242.00  24,461,191.50  23,801,765.00   \n",
       "\n",
       "      20-24Female    25-29Female    30-34Female    35-39Female    40-44Female  \\\n",
       "0   24,122,343.00  23,327,941.00  20,533,620.00  18,630,935.50  16,497,774.00   \n",
       "1   24,016,057.50  23,698,797.50  20,836,776.50  18,794,400.00  16,628,372.00   \n",
       "2   24,056,249.00  23,960,210.50  21,219,384.00  19,007,207.50  16,794,522.00   \n",
       "3   24,141,310.00  23,937,322.50  21,672,178.00  19,363,372.00  17,074,803.50   \n",
       "4   24,424,064.00  23,695,036.50  22,181,661.50  19,632,192.50  17,492,035.50   \n",
       "..            ...            ...            ...            ...            ...   \n",
       "86  24,688,067.50  34,491,899.50  41,216,552.00  39,028,621.50  35,678,662.00   \n",
       "87  24,499,517.50  31,096,746.00  41,267,756.00  39,773,244.00  36,086,272.50   \n",
       "88  24,319,076.50  28,278,187.00  40,583,569.50  40,428,475.50  36,744,836.50   \n",
       "89  24,142,448.50  26,284,203.50  39,140,215.00  40,792,478.00  37,547,722.50   \n",
       "90  23,982,584.00  24,988,740.50  37,119,979.50  40,942,185.50  38,288,978.00   \n",
       "\n",
       "    ...      55-59Male      60-64Male      65-69Male      70-74Male  \\\n",
       "0   ...  10,724,846.00   7,732,748.50   5,380,578.00   3,229,643.00   \n",
       "1   ...  10,761,714.00   7,718,281.50   5,340,784.00   3,111,826.50   \n",
       "2   ...  10,812,142.00   7,851,263.00   5,353,814.00   3,084,425.00   \n",
       "3   ...  10,874,094.50   8,075,194.00   5,383,838.50   3,117,905.00   \n",
       "4   ...  10,986,288.50   8,343,232.00   5,396,712.50   3,160,661.50   \n",
       "..  ...            ...            ...            ...            ...   \n",
       "86  ...  60,609,076.00  50,611,300.50  41,575,488.50  44,470,440.00   \n",
       "87  ...  58,591,508.50  52,300,110.00  43,074,212.00  42,248,528.50   \n",
       "88  ...  55,929,049.00  54,246,881.00  44,658,169.00  40,049,971.50   \n",
       "89  ...  52,988,064.50  56,437,396.00  45,673,892.00  38,517,002.00   \n",
       "90  ...  49,339,359.00  58,534,644.00  46,828,628.50  38,081,883.50   \n",
       "\n",
       "        75-79Male      80-84Male      85-89Male     90-94Male     95-99Male  \\\n",
       "0    1,571,773.00     557,486.00     166,261.50     30,039.00      2,309.00   \n",
       "1    1,493,829.50     539,886.00     150,155.00     26,290.50      1,912.50   \n",
       "2    1,474,477.00     540,474.00     138,849.50     23,929.50      1,612.00   \n",
       "3    1,491,396.50     547,760.00     130,685.50     22,378.00      1,406.00   \n",
       "4    1,518,130.00     548,604.00     125,479.50     20,836.50      1,243.00   \n",
       "..            ...            ...            ...           ...           ...   \n",
       "86  41,820,927.50  28,599,909.00  11,141,836.50  5,215,883.50    824,204.50   \n",
       "87  42,687,484.00  30,223,013.50  11,405,663.50  5,479,257.00    931,267.50   \n",
       "88  42,926,577.50  30,754,932.00  13,075,476.50  5,674,290.50  1,039,990.00   \n",
       "89  42,290,607.00  31,466,294.50  15,222,165.50  5,596,963.50  1,135,300.00   \n",
       "90  40,915,834.00  32,462,344.50  17,169,724.50  5,372,408.00  1,235,621.50   \n",
       "\n",
       "     100+Male  \n",
       "0       29.50  \n",
       "1       16.50  \n",
       "2       10.00  \n",
       "3        5.00  \n",
       "4        3.50  \n",
       "..        ...  \n",
       "86  41,810.00  \n",
       "87  47,610.50  \n",
       "88  54,261.50  \n",
       "89  61,656.50  \n",
       "90  71,292.50  \n",
       "\n",
       "[91 rows x 43 columns]"
      ]
     },
     "execution_count": 25,
     "metadata": {},
     "output_type": "execute_result"
    }
   ],
   "source": [
    "pyramid_data"
   ]
  },
  {
   "cell_type": "code",
   "execution_count": 26,
   "metadata": {},
   "outputs": [],
   "source": [
    "# as values is 47,920,315.00 we need to remove the comma and the dot\n",
    "pyramid_data = pyramid_data.replace(',','', regex=True) #regex=True to replace all commas\n",
    "\n",
    "    "
   ]
  },
  {
   "cell_type": "code",
   "execution_count": 27,
   "metadata": {},
   "outputs": [],
   "source": [
    "#convert all values to float\n",
    "pyramid_data = pyramid_data.astype(float)"
   ]
  },
  {
   "cell_type": "code",
   "execution_count": 28,
   "metadata": {},
   "outputs": [],
   "source": [
    "#make pyramid data between 1969 and 2050 to make all datasets have same range\n",
    "pyramid_data = pyramid_data[pyramid_data['Year'] >= 1969]"
   ]
  },
  {
   "cell_type": "code",
   "execution_count": 29,
   "metadata": {},
   "outputs": [],
   "source": [
    "# reset index\n",
    "pyramid_data.reset_index(drop=True, inplace=True)"
   ]
  },
  {
   "cell_type": "code",
   "execution_count": 30,
   "metadata": {},
   "outputs": [
    {
     "name": "stdout",
     "output_type": "stream",
     "text": [
      "<class 'pandas.core.frame.DataFrame'>\n",
      "RangeIndex: 82 entries, 0 to 81\n",
      "Data columns (total 43 columns):\n",
      " #   Column       Non-Null Count  Dtype  \n",
      "---  ------       --------------  -----  \n",
      " 0   Year         82 non-null     float64\n",
      " 1   0-4Female    82 non-null     float64\n",
      " 2   5-9Female    82 non-null     float64\n",
      " 3   10-14Female  82 non-null     float64\n",
      " 4   15-19Female  82 non-null     float64\n",
      " 5   20-24Female  82 non-null     float64\n",
      " 6   25-29Female  82 non-null     float64\n",
      " 7   30-34Female  82 non-null     float64\n",
      " 8   35-39Female  82 non-null     float64\n",
      " 9   40-44Female  82 non-null     float64\n",
      " 10  45-49Female  82 non-null     float64\n",
      " 11  50-54Female  82 non-null     float64\n",
      " 12  55-59Female  82 non-null     float64\n",
      " 13  60-64Female  82 non-null     float64\n",
      " 14  65-69Female  82 non-null     float64\n",
      " 15  70-74Female  82 non-null     float64\n",
      " 16  75-79Female  82 non-null     float64\n",
      " 17  80-84Female  82 non-null     float64\n",
      " 18  85-89Female  82 non-null     float64\n",
      " 19  90-94Female  82 non-null     float64\n",
      " 20  95-99Female  82 non-null     float64\n",
      " 21  100+Female   82 non-null     float64\n",
      " 22  0-4Male      82 non-null     float64\n",
      " 23  5-9Male      82 non-null     float64\n",
      " 24  10-14Male    82 non-null     float64\n",
      " 25  15-19Male    82 non-null     float64\n",
      " 26  20-24Male    82 non-null     float64\n",
      " 27  25-29Male    82 non-null     float64\n",
      " 28  30-34Male    82 non-null     float64\n",
      " 29  35-39Male    82 non-null     float64\n",
      " 30  40-44Male    82 non-null     float64\n",
      " 31  45-49Male    82 non-null     float64\n",
      " 32  50-54Male    82 non-null     float64\n",
      " 33  55-59Male    82 non-null     float64\n",
      " 34  60-64Male    82 non-null     float64\n",
      " 35  65-69Male    82 non-null     float64\n",
      " 36  70-74Male    82 non-null     float64\n",
      " 37  75-79Male    82 non-null     float64\n",
      " 38  80-84Male    82 non-null     float64\n",
      " 39  85-89Male    82 non-null     float64\n",
      " 40  90-94Male    82 non-null     float64\n",
      " 41  95-99Male    82 non-null     float64\n",
      " 42  100+Male     82 non-null     float64\n",
      "dtypes: float64(43)\n",
      "memory usage: 27.7 KB\n"
     ]
    }
   ],
   "source": [
    "# final we want to check that no data is missing and distribution of data\n",
    "pyramid_data.info()"
   ]
  },
  {
   "attachments": {},
   "cell_type": "markdown",
   "metadata": {},
   "source": [
    "### "
   ]
  },
  {
   "attachments": {},
   "cell_type": "markdown",
   "metadata": {},
   "source": [
    "### `iv` Implement Plotly  "
   ]
  },
  {
   "attachments": {},
   "cell_type": "markdown",
   "metadata": {},
   "source": [
    "`Figure of Popualtion` "
   ]
  },
  {
   "cell_type": "code",
   "execution_count": 31,
   "metadata": {},
   "outputs": [
    {
     "data": {
      "text/plain": [
       "Index(['Year', 'Urban population (% of total population) [SP.URB.TOTL.IN.ZS]',\n",
       "       'Sex ratio at birth (male births per female births) [SP.POP.BRTH.MF]',\n",
       "       'Rural population (% of total population) [SP.RUR.TOTL.ZS]',\n",
       "       'Population, total [SP.POP.TOTL]',\n",
       "       'Population, male (% of total population) [SP.POP.TOTL.MA.ZS]',\n",
       "       'Population, female (% of total population) [SP.POP.TOTL.FE.ZS]',\n",
       "       'Population growth (annual %) [SP.POP.GROW]',\n",
       "       'Population ages 65 and above (% of total population) [SP.POP.65UP.TO.ZS]',\n",
       "       'Net migration [SM.POP.NETM]',\n",
       "       'Mortality rate, infant (per 1,000 live births) [SP.DYN.IMRT.IN]',\n",
       "       'Fertility rate, total (births per woman) [SP.DYN.TFRT.IN]',\n",
       "       'Death rate, crude (per 1,000 people) [SP.DYN.CDRT.IN]',\n",
       "       'Birth rate, crude (per 1,000 people) [SP.DYN.CBRT.IN]',\n",
       "       'Age dependency ratio (% of working-age population) [SP.POP.DPND]'],\n",
       "      dtype='object')"
      ]
     },
     "execution_count": 31,
     "metadata": {},
     "output_type": "execute_result"
    }
   ],
   "source": [
    "df2.columns"
   ]
  },
  {
   "cell_type": "code",
   "execution_count": 32,
   "metadata": {},
   "outputs": [
    {
     "data": {
      "text/plain": [
       "0     1969\n",
       "1     1970\n",
       "2     1971\n",
       "3     1972\n",
       "4     1973\n",
       "      ... \n",
       "77    2046\n",
       "78    2047\n",
       "79    2048\n",
       "80    2049\n",
       "81    2050\n",
       "Name: date, Length: 82, dtype: int64"
      ]
     },
     "execution_count": 32,
     "metadata": {},
     "output_type": "execute_result"
    }
   ],
   "source": [
    "merged[\"date\"]"
   ]
  },
  {
   "cell_type": "code",
   "execution_count": 33,
   "metadata": {},
   "outputs": [
    {
     "data": {
      "text/html": [
       "<div>\n",
       "<style scoped>\n",
       "    .dataframe tbody tr th:only-of-type {\n",
       "        vertical-align: middle;\n",
       "    }\n",
       "\n",
       "    .dataframe tbody tr th {\n",
       "        vertical-align: top;\n",
       "    }\n",
       "\n",
       "    .dataframe thead th {\n",
       "        text-align: right;\n",
       "    }\n",
       "</style>\n",
       "<table border=\"1\" class=\"dataframe\">\n",
       "  <thead>\n",
       "    <tr style=\"text-align: right;\">\n",
       "      <th></th>\n",
       "      <th>date</th>\n",
       "      <th>Population</th>\n",
       "      <th>Annual Growth Rate</th>\n",
       "      <th>Births per 1000 People</th>\n",
       "      <th>Births per 1000 People Annual Change</th>\n",
       "      <th>Deaths per 1000 People</th>\n",
       "      <th>Deaths per 1000 People Annual Change</th>\n",
       "      <th>Life Expectancy from Birth (Years)</th>\n",
       "      <th>Life Expectancy from Birth (Years) Annual Change</th>\n",
       "      <th>Population per Square KM</th>\n",
       "      <th>Population per Square KM Annual Change</th>\n",
       "    </tr>\n",
       "  </thead>\n",
       "  <tbody>\n",
       "    <tr>\n",
       "      <th>0</th>\n",
       "      <td>1969</td>\n",
       "      <td>801430976</td>\n",
       "      <td>2.70</td>\n",
       "      <td>37.976</td>\n",
       "      <td>-3.83</td>\n",
       "      <td>12.075</td>\n",
       "      <td>-5.66</td>\n",
       "      <td>56.710</td>\n",
       "      <td>2.24</td>\n",
       "      <td>83.482299</td>\n",
       "      <td>2.70</td>\n",
       "    </tr>\n",
       "    <tr>\n",
       "      <th>1</th>\n",
       "      <td>1970</td>\n",
       "      <td>822534450</td>\n",
       "      <td>2.63</td>\n",
       "      <td>36.463</td>\n",
       "      <td>-3.98</td>\n",
       "      <td>11.351</td>\n",
       "      <td>-6.00</td>\n",
       "      <td>57.950</td>\n",
       "      <td>2.19</td>\n",
       "      <td>85.680576</td>\n",
       "      <td>2.63</td>\n",
       "    </tr>\n",
       "    <tr>\n",
       "      <th>2</th>\n",
       "      <td>1971</td>\n",
       "      <td>843285424</td>\n",
       "      <td>2.52</td>\n",
       "      <td>34.951</td>\n",
       "      <td>-4.15</td>\n",
       "      <td>10.626</td>\n",
       "      <td>-6.39</td>\n",
       "      <td>59.190</td>\n",
       "      <td>2.14</td>\n",
       "      <td>87.842133</td>\n",
       "      <td>2.52</td>\n",
       "    </tr>\n",
       "    <tr>\n",
       "      <th>3</th>\n",
       "      <td>1972</td>\n",
       "      <td>862840403</td>\n",
       "      <td>2.32</td>\n",
       "      <td>33.438</td>\n",
       "      <td>-4.33</td>\n",
       "      <td>9.902</td>\n",
       "      <td>-6.81</td>\n",
       "      <td>60.430</td>\n",
       "      <td>2.09</td>\n",
       "      <td>89.879108</td>\n",
       "      <td>2.32</td>\n",
       "    </tr>\n",
       "    <tr>\n",
       "      <th>4</th>\n",
       "      <td>1973</td>\n",
       "      <td>881652080</td>\n",
       "      <td>2.18</td>\n",
       "      <td>31.926</td>\n",
       "      <td>-4.52</td>\n",
       "      <td>9.178</td>\n",
       "      <td>-7.31</td>\n",
       "      <td>61.670</td>\n",
       "      <td>2.05</td>\n",
       "      <td>91.838655</td>\n",
       "      <td>2.18</td>\n",
       "    </tr>\n",
       "    <tr>\n",
       "      <th>...</th>\n",
       "      <td>...</td>\n",
       "      <td>...</td>\n",
       "      <td>...</td>\n",
       "      <td>...</td>\n",
       "      <td>...</td>\n",
       "      <td>...</td>\n",
       "      <td>...</td>\n",
       "      <td>...</td>\n",
       "      <td>...</td>\n",
       "      <td>...</td>\n",
       "      <td>...</td>\n",
       "    </tr>\n",
       "    <tr>\n",
       "      <th>77</th>\n",
       "      <td>2046</td>\n",
       "      <td>1343210240</td>\n",
       "      <td>-0.49</td>\n",
       "      <td>9.231</td>\n",
       "      <td>-0.29</td>\n",
       "      <td>12.390</td>\n",
       "      <td>1.52</td>\n",
       "      <td>81.204</td>\n",
       "      <td>0.19</td>\n",
       "      <td>139.917576</td>\n",
       "      <td>-0.49</td>\n",
       "    </tr>\n",
       "    <tr>\n",
       "      <th>78</th>\n",
       "      <td>2047</td>\n",
       "      <td>1336262908</td>\n",
       "      <td>-0.52</td>\n",
       "      <td>9.205</td>\n",
       "      <td>-0.28</td>\n",
       "      <td>12.576</td>\n",
       "      <td>1.50</td>\n",
       "      <td>81.362</td>\n",
       "      <td>0.19</td>\n",
       "      <td>139.193896</td>\n",
       "      <td>-0.52</td>\n",
       "    </tr>\n",
       "    <tr>\n",
       "      <th>79</th>\n",
       "      <td>2048</td>\n",
       "      <td>1328873607</td>\n",
       "      <td>-0.55</td>\n",
       "      <td>9.179</td>\n",
       "      <td>-0.28</td>\n",
       "      <td>12.761</td>\n",
       "      <td>1.47</td>\n",
       "      <td>81.520</td>\n",
       "      <td>0.19</td>\n",
       "      <td>138.424178</td>\n",
       "      <td>-0.55</td>\n",
       "    </tr>\n",
       "    <tr>\n",
       "      <th>80</th>\n",
       "      <td>2049</td>\n",
       "      <td>1321004205</td>\n",
       "      <td>-0.59</td>\n",
       "      <td>9.150</td>\n",
       "      <td>-0.32</td>\n",
       "      <td>12.917</td>\n",
       "      <td>1.22</td>\n",
       "      <td>81.672</td>\n",
       "      <td>0.19</td>\n",
       "      <td>137.604450</td>\n",
       "      <td>-0.59</td>\n",
       "    </tr>\n",
       "    <tr>\n",
       "      <th>81</th>\n",
       "      <td>2050</td>\n",
       "      <td>1312636325</td>\n",
       "      <td>-0.63</td>\n",
       "      <td>9.120</td>\n",
       "      <td>-0.33</td>\n",
       "      <td>13.074</td>\n",
       "      <td>1.22</td>\n",
       "      <td>81.824</td>\n",
       "      <td>0.19</td>\n",
       "      <td>136.732797</td>\n",
       "      <td>-0.63</td>\n",
       "    </tr>\n",
       "  </tbody>\n",
       "</table>\n",
       "<p>82 rows × 11 columns</p>\n",
       "</div>"
      ],
      "text/plain": [
       "    date   Population   Annual Growth Rate   Births per 1000 People  \\\n",
       "0   1969    801430976                 2.70                   37.976   \n",
       "1   1970    822534450                 2.63                   36.463   \n",
       "2   1971    843285424                 2.52                   34.951   \n",
       "3   1972    862840403                 2.32                   33.438   \n",
       "4   1973    881652080                 2.18                   31.926   \n",
       "..   ...          ...                  ...                      ...   \n",
       "77  2046   1343210240                -0.49                    9.231   \n",
       "78  2047   1336262908                -0.52                    9.205   \n",
       "79  2048   1328873607                -0.55                    9.179   \n",
       "80  2049   1321004205                -0.59                    9.150   \n",
       "81  2050   1312636325                -0.63                    9.120   \n",
       "\n",
       "     Births per 1000 People Annual Change   Deaths per 1000 People  \\\n",
       "0                                   -3.83                   12.075   \n",
       "1                                   -3.98                   11.351   \n",
       "2                                   -4.15                   10.626   \n",
       "3                                   -4.33                    9.902   \n",
       "4                                   -4.52                    9.178   \n",
       "..                                    ...                      ...   \n",
       "77                                  -0.29                   12.390   \n",
       "78                                  -0.28                   12.576   \n",
       "79                                  -0.28                   12.761   \n",
       "80                                  -0.32                   12.917   \n",
       "81                                  -0.33                   13.074   \n",
       "\n",
       "     Deaths per 1000 People Annual Change  \\\n",
       "0                                   -5.66   \n",
       "1                                   -6.00   \n",
       "2                                   -6.39   \n",
       "3                                   -6.81   \n",
       "4                                   -7.31   \n",
       "..                                    ...   \n",
       "77                                   1.52   \n",
       "78                                   1.50   \n",
       "79                                   1.47   \n",
       "80                                   1.22   \n",
       "81                                   1.22   \n",
       "\n",
       "     Life Expectancy from Birth (Years)  \\\n",
       "0                                56.710   \n",
       "1                                57.950   \n",
       "2                                59.190   \n",
       "3                                60.430   \n",
       "4                                61.670   \n",
       "..                                  ...   \n",
       "77                               81.204   \n",
       "78                               81.362   \n",
       "79                               81.520   \n",
       "80                               81.672   \n",
       "81                               81.824   \n",
       "\n",
       "     Life Expectancy from Birth (Years) Annual Change  \\\n",
       "0                                                2.24   \n",
       "1                                                2.19   \n",
       "2                                                2.14   \n",
       "3                                                2.09   \n",
       "4                                                2.05   \n",
       "..                                                ...   \n",
       "77                                               0.19   \n",
       "78                                               0.19   \n",
       "79                                               0.19   \n",
       "80                                               0.19   \n",
       "81                                               0.19   \n",
       "\n",
       "     Population per Square KM   Population per Square KM Annual Change  \n",
       "0                   83.482299                                     2.70  \n",
       "1                   85.680576                                     2.63  \n",
       "2                   87.842133                                     2.52  \n",
       "3                   89.879108                                     2.32  \n",
       "4                   91.838655                                     2.18  \n",
       "..                        ...                                      ...  \n",
       "77                 139.917576                                    -0.49  \n",
       "78                 139.193896                                    -0.52  \n",
       "79                 138.424178                                    -0.55  \n",
       "80                 137.604450                                    -0.59  \n",
       "81                 136.732797                                    -0.63  \n",
       "\n",
       "[82 rows x 11 columns]"
      ]
     },
     "execution_count": 33,
     "metadata": {},
     "output_type": "execute_result"
    }
   ],
   "source": [
    "merged"
   ]
  },
  {
   "cell_type": "code",
   "execution_count": 34,
   "metadata": {},
   "outputs": [
    {
     "data": {
      "application/vnd.plotly.v1+json": {
       "config": {
        "plotlyServerURL": "https://plot.ly"
       },
       "data": [
        {
         "customdata": [
          [
           2.7
          ],
          [
           2.63
          ],
          [
           2.52
          ],
          [
           2.32
          ],
          [
           2.18
          ],
          [
           2.01
          ],
          [
           1.75
          ],
          [
           1.56
          ],
          [
           1.42
          ],
          [
           1.33
          ],
          [
           1.38
          ],
          [
           1.45
          ],
          [
           1.52
          ],
          [
           1.63
          ],
          [
           1.55
          ],
          [
           1.45
          ],
          [
           1.54
          ],
          [
           1.65
          ],
          [
           1.77
          ],
          [
           1.74
          ],
          [
           1.66
          ],
          [
           1.7
          ],
          [
           1.47
          ],
          [
           1.13
          ],
          [
           1.02
          ],
          [
           0.96
          ],
          [
           0.9
          ],
          [
           0.83
          ],
          [
           0.77
          ],
          [
           0.73
          ],
          [
           0.69
          ],
          [
           0.69
          ],
          [
           0.68
          ],
          [
           0.64
          ],
          [
           0.62
          ],
          [
           0.62
          ],
          [
           0.62
          ],
          [
           0.63
          ],
          [
           0.64
          ],
          [
           0.65
          ],
          [
           0.67
          ],
          [
           0.68
          ],
          [
           0.66
          ],
          [
           0.7
          ],
          [
           0.7
          ],
          [
           0.66
          ],
          [
           0.62
          ],
          [
           0.59
          ],
          [
           0.6
          ],
          [
           0.48
          ],
          [
           0.34
          ],
          [
           0.22
          ],
          [
           0.07
          ],
          [
           0
          ],
          [
           -0.02
          ],
          [
           -0.03
          ],
          [
           -0.06
          ],
          [
           -0.08
          ],
          [
           -0.1
          ],
          [
           -0.12
          ],
          [
           -0.15
          ],
          [
           -0.17
          ],
          [
           -0.19
          ],
          [
           -0.21
          ],
          [
           -0.23
          ],
          [
           -0.25
          ],
          [
           -0.27
          ],
          [
           -0.29
          ],
          [
           -0.3
          ],
          [
           -0.32
          ],
          [
           -0.33
          ],
          [
           -0.35
          ],
          [
           -0.37
          ],
          [
           -0.38
          ],
          [
           -0.4
          ],
          [
           -0.43
          ],
          [
           -0.45
          ],
          [
           -0.49
          ],
          [
           -0.52
          ],
          [
           -0.55
          ],
          [
           -0.59
          ],
          [
           -0.63
          ]
         ],
         "hovertemplate": "Year=%{x}<br>Population=%{y}<br> Annual Growth Rate=%{customdata[0]}<extra></extra>",
         "legendgroup": "",
         "line": {
          "color": "#636efa",
          "dash": "solid"
         },
         "marker": {
          "symbol": "circle"
         },
         "mode": "lines",
         "name": "",
         "orientation": "v",
         "showlegend": false,
         "type": "scatter",
         "x": [
          1969,
          1970,
          1971,
          1972,
          1973,
          1974,
          1975,
          1976,
          1977,
          1978,
          1979,
          1980,
          1981,
          1982,
          1983,
          1984,
          1985,
          1986,
          1987,
          1988,
          1989,
          1990,
          1991,
          1992,
          1993,
          1994,
          1995,
          1996,
          1997,
          1998,
          1999,
          2000,
          2001,
          2002,
          2003,
          2004,
          2005,
          2006,
          2007,
          2008,
          2009,
          2010,
          2011,
          2012,
          2013,
          2014,
          2015,
          2016,
          2017,
          2018,
          2019,
          2020,
          2021,
          2022,
          2023,
          2024,
          2025,
          2026,
          2027,
          2028,
          2029,
          2030,
          2031,
          2032,
          2033,
          2034,
          2035,
          2036,
          2037,
          2038,
          2039,
          2040,
          2041,
          2042,
          2043,
          2044,
          2045,
          2046,
          2047,
          2048,
          2049,
          2050
         ],
         "xaxis": "x",
         "y": [
          801430976,
          822534450,
          843285424,
          862840403,
          881652080,
          899367640,
          915124661,
          929375924,
          942581333,
          955138943,
          968298969,
          982372466,
          997259502,
          1013483166,
          1029226907,
          1044172197,
          1060239979,
          1077770523,
          1096851843,
          1115889802,
          1134414723,
          1153704252,
          1170626171,
          1183813389,
          1195855558,
          1207286675,
          1218144426,
          1228298836,
          1237801448,
          1246836105,
          1255433236,
          1264099069,
          1272739582,
          1280926120,
          1288873367,
          1296816711,
          1304887562,
          1313086567,
          1321513224,
          1330167148,
          1339125595,
          1348191368,
          1357095481,
          1366560818,
          1376100308,
          1385189668,
          1393715448,
          1401889681,
          1410275957,
          1417069468,
          1421864031,
          1424929781,
          1425893465,
          1425887337,
          1425671352,
          1425178782,
          1424381924,
          1423255202,
          1421809059,
          1420045580,
          1417974640,
          1415605906,
          1412946005,
          1410012866,
          1406810379,
          1403314815,
          1399547500,
          1395546723,
          1391338420,
          1386952006,
          1382367124,
          1377556938,
          1372522398,
          1367267104,
          1361737252,
          1355912820,
          1349756901,
          1343210240,
          1336262908,
          1328873607,
          1321004205,
          1312636325
         ],
         "yaxis": "y"
        },
        {
         "line": {
          "color": "red",
          "width": 2
         },
         "mode": "lines",
         "name": "Population ages 65 and above",
         "type": "scatter",
         "x": [
          1969,
          1970,
          1971,
          1972,
          1973,
          1974,
          1975,
          1976,
          1977,
          1978,
          1979,
          1980,
          1981,
          1982,
          1983,
          1984,
          1985,
          1986,
          1987,
          1988,
          1989,
          1990,
          1991,
          1992,
          1993,
          1994,
          1995,
          1996,
          1997,
          1998,
          1999,
          2000,
          2001,
          2002,
          2003,
          2004,
          2005,
          2006,
          2007,
          2008,
          2009,
          2010,
          2011,
          2012,
          2013,
          2014,
          2015,
          2016,
          2017,
          2018,
          2019,
          2020,
          2021,
          2022,
          2023,
          2024,
          2025,
          2026,
          2027,
          2028,
          2029,
          2030,
          2031,
          2032,
          2033,
          2034,
          2035,
          2036,
          2037,
          2038,
          2039,
          2040,
          2041,
          2042,
          2043,
          2044,
          2045,
          2046,
          2047,
          2048,
          2049,
          2050
         ],
         "y": [
          3.68748973605464,
          3.71252134181128,
          3.74341594438813,
          3.77779805937066,
          3.8219436855409,
          3.8846675670278,
          3.95420515282125,
          4.018994580722,
          4.08829139420709,
          4.17919841018313,
          4.28698117306371,
          4.38954159368713,
          4.48055790999121,
          4.56259995963396,
          4.64037271066038,
          4.72333377020572,
          4.81592531043389,
          4.90817797913175,
          4.9904582259021,
          5.07802489980995,
          5.18555210077259,
          5.29592201533469,
          5.39704737448461,
          5.51404922486478,
          5.66122075324302,
          5.8167887921069,
          5.98053227064555,
          6.14678605221229,
          6.31515927908334,
          6.51267036416146,
          6.72078988993725,
          6.92062921691781,
          7.1210751843817,
          7.31742537683695,
          7.50238774524324,
          7.66634719129556,
          7.82541745455974,
          7.99680158939711,
          8.15896421485941,
          8.30353186248458,
          8.45028202899818,
          8.6165491604008,
          8.81614803226073,
          9.04930343173355,
          9.32037728652277,
          9.63318544271975,
          10.0200536738185,
          10.456798743801,
          10.9463556609958,
          11.4800533153961,
          12.0221158122819,
          12.5982619560395,
          13.149753271767,
          13.7223354484422,
          14.2666115310985,
          14.6298265565149,
          14.8828618225581,
          15.1006524478524,
          15.5488803171464,
          16.4160942636785,
          17.3634281226061,
          18.2286705288119,
          19.0726514351127,
          19.8460115752752,
          20.6793658865519,
          21.6011731123925,
          22.5215223849137,
          23.4110940619507,
          24.2178010508759,
          24.9629602089624,
          25.624745868884,
          26.1518933215406,
          26.5677993329184,
          26.8999464910333,
          27.1778119525138,
          27.4828613243733,
          27.8392373161724,
          28.2446941068585,
          28.7348238926292,
          29.1940695345626,
          29.6028711999434,
          30.0902912427364
         ],
         "yaxis": "y2"
        }
       ],
       "layout": {
        "annotations": [
         {
          "showarrow": false,
          "text": "2023",
          "x": 2023,
          "xanchor": "left",
          "xref": "x",
          "y": 1,
          "yanchor": "top",
          "yref": "y domain"
         },
         {
          "showarrow": false,
          "text": "1950",
          "x": 1969,
          "xanchor": "left",
          "xref": "x",
          "y": 1,
          "yanchor": "top",
          "yref": "y domain"
         },
         {
          "font": {
           "size": 12
          },
          "showarrow": false,
          "text": "",
          "x": 1969,
          "xanchor": "left",
          "xref": "x",
          "y": 1,
          "yanchor": "top",
          "yref": "y domain"
         },
         {
          "showarrow": false,
          "text": "2023",
          "x": 2023,
          "xanchor": "left",
          "xref": "x",
          "y": 1,
          "yanchor": "top",
          "yref": "y domain"
         },
         {
          "font": {
           "size": 12
          },
          "showarrow": false,
          "text": "",
          "x": 2023,
          "xanchor": "left",
          "xref": "x",
          "y": 1,
          "yanchor": "top",
          "yref": "y domain"
         }
        ],
        "height": 500,
        "legend": {
         "orientation": "h",
         "tracegroupgap": 0,
         "x": 1,
         "xanchor": "right",
         "y": 1.02,
         "yanchor": "bottom"
        },
        "shapes": [
         {
          "line": {
           "color": "red",
           "dash": "dash",
           "width": 3
          },
          "type": "line",
          "x0": 2023,
          "x1": 2023,
          "xref": "x",
          "y0": 0,
          "y1": 1,
          "yref": "y domain"
         },
         {
          "line": {
           "color": "red",
           "dash": "dash",
           "width": 3
          },
          "type": "line",
          "x0": 1969,
          "x1": 1969,
          "xref": "x",
          "y0": 0,
          "y1": 1,
          "yref": "y domain"
         },
         {
          "fillcolor": "red",
          "opacity": 0.05,
          "type": "rect",
          "x0": 1969,
          "x1": 2023,
          "xref": "x",
          "y0": 0,
          "y1": 1,
          "yref": "y domain"
         },
         {
          "line": {
           "color": "green",
           "dash": "dash",
           "width": 3
          },
          "type": "line",
          "x0": 2023,
          "x1": 2023,
          "xref": "x",
          "y0": 0,
          "y1": 1,
          "yref": "y domain"
         },
         {
          "fillcolor": "green",
          "opacity": 0.05,
          "type": "rect",
          "x0": 2023,
          "x1": 2050,
          "xref": "x",
          "y0": 0,
          "y1": 1,
          "yref": "y domain"
         }
        ],
        "template": {
         "data": {
          "bar": [
           {
            "error_x": {
             "color": "#f2f5fa"
            },
            "error_y": {
             "color": "#f2f5fa"
            },
            "marker": {
             "line": {
              "color": "rgb(17,17,17)",
              "width": 0.5
             },
             "pattern": {
              "fillmode": "overlay",
              "size": 10,
              "solidity": 0.2
             }
            },
            "type": "bar"
           }
          ],
          "barpolar": [
           {
            "marker": {
             "line": {
              "color": "rgb(17,17,17)",
              "width": 0.5
             },
             "pattern": {
              "fillmode": "overlay",
              "size": 10,
              "solidity": 0.2
             }
            },
            "type": "barpolar"
           }
          ],
          "carpet": [
           {
            "aaxis": {
             "endlinecolor": "#A2B1C6",
             "gridcolor": "#506784",
             "linecolor": "#506784",
             "minorgridcolor": "#506784",
             "startlinecolor": "#A2B1C6"
            },
            "baxis": {
             "endlinecolor": "#A2B1C6",
             "gridcolor": "#506784",
             "linecolor": "#506784",
             "minorgridcolor": "#506784",
             "startlinecolor": "#A2B1C6"
            },
            "type": "carpet"
           }
          ],
          "choropleth": [
           {
            "colorbar": {
             "outlinewidth": 0,
             "ticks": ""
            },
            "type": "choropleth"
           }
          ],
          "contour": [
           {
            "colorbar": {
             "outlinewidth": 0,
             "ticks": ""
            },
            "colorscale": [
             [
              0,
              "#0d0887"
             ],
             [
              0.1111111111111111,
              "#46039f"
             ],
             [
              0.2222222222222222,
              "#7201a8"
             ],
             [
              0.3333333333333333,
              "#9c179e"
             ],
             [
              0.4444444444444444,
              "#bd3786"
             ],
             [
              0.5555555555555556,
              "#d8576b"
             ],
             [
              0.6666666666666666,
              "#ed7953"
             ],
             [
              0.7777777777777778,
              "#fb9f3a"
             ],
             [
              0.8888888888888888,
              "#fdca26"
             ],
             [
              1,
              "#f0f921"
             ]
            ],
            "type": "contour"
           }
          ],
          "contourcarpet": [
           {
            "colorbar": {
             "outlinewidth": 0,
             "ticks": ""
            },
            "type": "contourcarpet"
           }
          ],
          "heatmap": [
           {
            "colorbar": {
             "outlinewidth": 0,
             "ticks": ""
            },
            "colorscale": [
             [
              0,
              "#0d0887"
             ],
             [
              0.1111111111111111,
              "#46039f"
             ],
             [
              0.2222222222222222,
              "#7201a8"
             ],
             [
              0.3333333333333333,
              "#9c179e"
             ],
             [
              0.4444444444444444,
              "#bd3786"
             ],
             [
              0.5555555555555556,
              "#d8576b"
             ],
             [
              0.6666666666666666,
              "#ed7953"
             ],
             [
              0.7777777777777778,
              "#fb9f3a"
             ],
             [
              0.8888888888888888,
              "#fdca26"
             ],
             [
              1,
              "#f0f921"
             ]
            ],
            "type": "heatmap"
           }
          ],
          "heatmapgl": [
           {
            "colorbar": {
             "outlinewidth": 0,
             "ticks": ""
            },
            "colorscale": [
             [
              0,
              "#0d0887"
             ],
             [
              0.1111111111111111,
              "#46039f"
             ],
             [
              0.2222222222222222,
              "#7201a8"
             ],
             [
              0.3333333333333333,
              "#9c179e"
             ],
             [
              0.4444444444444444,
              "#bd3786"
             ],
             [
              0.5555555555555556,
              "#d8576b"
             ],
             [
              0.6666666666666666,
              "#ed7953"
             ],
             [
              0.7777777777777778,
              "#fb9f3a"
             ],
             [
              0.8888888888888888,
              "#fdca26"
             ],
             [
              1,
              "#f0f921"
             ]
            ],
            "type": "heatmapgl"
           }
          ],
          "histogram": [
           {
            "marker": {
             "pattern": {
              "fillmode": "overlay",
              "size": 10,
              "solidity": 0.2
             }
            },
            "type": "histogram"
           }
          ],
          "histogram2d": [
           {
            "colorbar": {
             "outlinewidth": 0,
             "ticks": ""
            },
            "colorscale": [
             [
              0,
              "#0d0887"
             ],
             [
              0.1111111111111111,
              "#46039f"
             ],
             [
              0.2222222222222222,
              "#7201a8"
             ],
             [
              0.3333333333333333,
              "#9c179e"
             ],
             [
              0.4444444444444444,
              "#bd3786"
             ],
             [
              0.5555555555555556,
              "#d8576b"
             ],
             [
              0.6666666666666666,
              "#ed7953"
             ],
             [
              0.7777777777777778,
              "#fb9f3a"
             ],
             [
              0.8888888888888888,
              "#fdca26"
             ],
             [
              1,
              "#f0f921"
             ]
            ],
            "type": "histogram2d"
           }
          ],
          "histogram2dcontour": [
           {
            "colorbar": {
             "outlinewidth": 0,
             "ticks": ""
            },
            "colorscale": [
             [
              0,
              "#0d0887"
             ],
             [
              0.1111111111111111,
              "#46039f"
             ],
             [
              0.2222222222222222,
              "#7201a8"
             ],
             [
              0.3333333333333333,
              "#9c179e"
             ],
             [
              0.4444444444444444,
              "#bd3786"
             ],
             [
              0.5555555555555556,
              "#d8576b"
             ],
             [
              0.6666666666666666,
              "#ed7953"
             ],
             [
              0.7777777777777778,
              "#fb9f3a"
             ],
             [
              0.8888888888888888,
              "#fdca26"
             ],
             [
              1,
              "#f0f921"
             ]
            ],
            "type": "histogram2dcontour"
           }
          ],
          "mesh3d": [
           {
            "colorbar": {
             "outlinewidth": 0,
             "ticks": ""
            },
            "type": "mesh3d"
           }
          ],
          "parcoords": [
           {
            "line": {
             "colorbar": {
              "outlinewidth": 0,
              "ticks": ""
             }
            },
            "type": "parcoords"
           }
          ],
          "pie": [
           {
            "automargin": true,
            "type": "pie"
           }
          ],
          "scatter": [
           {
            "marker": {
             "line": {
              "color": "#283442"
             }
            },
            "type": "scatter"
           }
          ],
          "scatter3d": [
           {
            "line": {
             "colorbar": {
              "outlinewidth": 0,
              "ticks": ""
             }
            },
            "marker": {
             "colorbar": {
              "outlinewidth": 0,
              "ticks": ""
             }
            },
            "type": "scatter3d"
           }
          ],
          "scattercarpet": [
           {
            "marker": {
             "colorbar": {
              "outlinewidth": 0,
              "ticks": ""
             }
            },
            "type": "scattercarpet"
           }
          ],
          "scattergeo": [
           {
            "marker": {
             "colorbar": {
              "outlinewidth": 0,
              "ticks": ""
             }
            },
            "type": "scattergeo"
           }
          ],
          "scattergl": [
           {
            "marker": {
             "line": {
              "color": "#283442"
             }
            },
            "type": "scattergl"
           }
          ],
          "scattermapbox": [
           {
            "marker": {
             "colorbar": {
              "outlinewidth": 0,
              "ticks": ""
             }
            },
            "type": "scattermapbox"
           }
          ],
          "scatterpolar": [
           {
            "marker": {
             "colorbar": {
              "outlinewidth": 0,
              "ticks": ""
             }
            },
            "type": "scatterpolar"
           }
          ],
          "scatterpolargl": [
           {
            "marker": {
             "colorbar": {
              "outlinewidth": 0,
              "ticks": ""
             }
            },
            "type": "scatterpolargl"
           }
          ],
          "scatterternary": [
           {
            "marker": {
             "colorbar": {
              "outlinewidth": 0,
              "ticks": ""
             }
            },
            "type": "scatterternary"
           }
          ],
          "surface": [
           {
            "colorbar": {
             "outlinewidth": 0,
             "ticks": ""
            },
            "colorscale": [
             [
              0,
              "#0d0887"
             ],
             [
              0.1111111111111111,
              "#46039f"
             ],
             [
              0.2222222222222222,
              "#7201a8"
             ],
             [
              0.3333333333333333,
              "#9c179e"
             ],
             [
              0.4444444444444444,
              "#bd3786"
             ],
             [
              0.5555555555555556,
              "#d8576b"
             ],
             [
              0.6666666666666666,
              "#ed7953"
             ],
             [
              0.7777777777777778,
              "#fb9f3a"
             ],
             [
              0.8888888888888888,
              "#fdca26"
             ],
             [
              1,
              "#f0f921"
             ]
            ],
            "type": "surface"
           }
          ],
          "table": [
           {
            "cells": {
             "fill": {
              "color": "#506784"
             },
             "line": {
              "color": "rgb(17,17,17)"
             }
            },
            "header": {
             "fill": {
              "color": "#2a3f5f"
             },
             "line": {
              "color": "rgb(17,17,17)"
             }
            },
            "type": "table"
           }
          ]
         },
         "layout": {
          "annotationdefaults": {
           "arrowcolor": "#f2f5fa",
           "arrowhead": 0,
           "arrowwidth": 1
          },
          "autotypenumbers": "strict",
          "coloraxis": {
           "colorbar": {
            "outlinewidth": 0,
            "ticks": ""
           }
          },
          "colorscale": {
           "diverging": [
            [
             0,
             "#8e0152"
            ],
            [
             0.1,
             "#c51b7d"
            ],
            [
             0.2,
             "#de77ae"
            ],
            [
             0.3,
             "#f1b6da"
            ],
            [
             0.4,
             "#fde0ef"
            ],
            [
             0.5,
             "#f7f7f7"
            ],
            [
             0.6,
             "#e6f5d0"
            ],
            [
             0.7,
             "#b8e186"
            ],
            [
             0.8,
             "#7fbc41"
            ],
            [
             0.9,
             "#4d9221"
            ],
            [
             1,
             "#276419"
            ]
           ],
           "sequential": [
            [
             0,
             "#0d0887"
            ],
            [
             0.1111111111111111,
             "#46039f"
            ],
            [
             0.2222222222222222,
             "#7201a8"
            ],
            [
             0.3333333333333333,
             "#9c179e"
            ],
            [
             0.4444444444444444,
             "#bd3786"
            ],
            [
             0.5555555555555556,
             "#d8576b"
            ],
            [
             0.6666666666666666,
             "#ed7953"
            ],
            [
             0.7777777777777778,
             "#fb9f3a"
            ],
            [
             0.8888888888888888,
             "#fdca26"
            ],
            [
             1,
             "#f0f921"
            ]
           ],
           "sequentialminus": [
            [
             0,
             "#0d0887"
            ],
            [
             0.1111111111111111,
             "#46039f"
            ],
            [
             0.2222222222222222,
             "#7201a8"
            ],
            [
             0.3333333333333333,
             "#9c179e"
            ],
            [
             0.4444444444444444,
             "#bd3786"
            ],
            [
             0.5555555555555556,
             "#d8576b"
            ],
            [
             0.6666666666666666,
             "#ed7953"
            ],
            [
             0.7777777777777778,
             "#fb9f3a"
            ],
            [
             0.8888888888888888,
             "#fdca26"
            ],
            [
             1,
             "#f0f921"
            ]
           ]
          },
          "colorway": [
           "#636efa",
           "#EF553B",
           "#00cc96",
           "#ab63fa",
           "#FFA15A",
           "#19d3f3",
           "#FF6692",
           "#B6E880",
           "#FF97FF",
           "#FECB52"
          ],
          "font": {
           "color": "#f2f5fa"
          },
          "geo": {
           "bgcolor": "rgb(17,17,17)",
           "lakecolor": "rgb(17,17,17)",
           "landcolor": "rgb(17,17,17)",
           "showlakes": true,
           "showland": true,
           "subunitcolor": "#506784"
          },
          "hoverlabel": {
           "align": "left"
          },
          "hovermode": "closest",
          "mapbox": {
           "style": "dark"
          },
          "paper_bgcolor": "rgb(17,17,17)",
          "plot_bgcolor": "rgb(17,17,17)",
          "polar": {
           "angularaxis": {
            "gridcolor": "#506784",
            "linecolor": "#506784",
            "ticks": ""
           },
           "bgcolor": "rgb(17,17,17)",
           "radialaxis": {
            "gridcolor": "#506784",
            "linecolor": "#506784",
            "ticks": ""
           }
          },
          "scene": {
           "xaxis": {
            "backgroundcolor": "rgb(17,17,17)",
            "gridcolor": "#506784",
            "gridwidth": 2,
            "linecolor": "#506784",
            "showbackground": true,
            "ticks": "",
            "zerolinecolor": "#C8D4E3"
           },
           "yaxis": {
            "backgroundcolor": "rgb(17,17,17)",
            "gridcolor": "#506784",
            "gridwidth": 2,
            "linecolor": "#506784",
            "showbackground": true,
            "ticks": "",
            "zerolinecolor": "#C8D4E3"
           },
           "zaxis": {
            "backgroundcolor": "rgb(17,17,17)",
            "gridcolor": "#506784",
            "gridwidth": 2,
            "linecolor": "#506784",
            "showbackground": true,
            "ticks": "",
            "zerolinecolor": "#C8D4E3"
           }
          },
          "shapedefaults": {
           "line": {
            "color": "#f2f5fa"
           }
          },
          "sliderdefaults": {
           "bgcolor": "#C8D4E3",
           "bordercolor": "rgb(17,17,17)",
           "borderwidth": 1,
           "tickwidth": 0
          },
          "ternary": {
           "aaxis": {
            "gridcolor": "#506784",
            "linecolor": "#506784",
            "ticks": ""
           },
           "baxis": {
            "gridcolor": "#506784",
            "linecolor": "#506784",
            "ticks": ""
           },
           "bgcolor": "rgb(17,17,17)",
           "caxis": {
            "gridcolor": "#506784",
            "linecolor": "#506784",
            "ticks": ""
           }
          },
          "title": {
           "x": 0.05
          },
          "updatemenudefaults": {
           "bgcolor": "#506784",
           "borderwidth": 0
          },
          "xaxis": {
           "automargin": true,
           "gridcolor": "#283442",
           "linecolor": "#506784",
           "ticks": "",
           "title": {
            "standoff": 15
           },
           "zerolinecolor": "#283442",
           "zerolinewidth": 2
          },
          "yaxis": {
           "automargin": true,
           "gridcolor": "#283442",
           "linecolor": "#506784",
           "ticks": "",
           "title": {
            "standoff": 15
           },
           "zerolinecolor": "#283442",
           "zerolinewidth": 2
          }
         }
        },
        "title": {
         "text": "Total Population of China"
        },
        "width": 800,
        "xaxis": {
         "anchor": "y",
         "domain": [
          0,
          1
         ],
         "title": {
          "text": "Year"
         }
        },
        "yaxis": {
         "anchor": "x",
         "domain": [
          0,
          1
         ],
         "title": {
          "text": "Population"
         },
         "type": "log"
        },
        "yaxis2": {
         "overlaying": "y",
         "range": [
          0,
          50
         ],
         "side": "right",
         "title": {
          "text": "above 65"
         }
        }
       }
      }
     },
     "metadata": {},
     "output_type": "display_data"
    }
   ],
   "source": [
    "fig = px.line(merged, x=\"date\", y=\" Population\", title=\"Total Population of China\",\n",
    "        labels={\"date\": \"Year\", \" Population\": \"Population\"}, width=800, height=500, template=\"plotly_dark\"\n",
    "            ,#add annual change to hover data\n",
    "            hover_data={\" Annual Growth Rate\": True}, )\n",
    "\n",
    "#add 'Population ages 65 and above (% of total population) [SP.POP.65UP.TO.ZS]' as line to the plot from df2\n",
    "# chaange the scale of y axis to log to see the change in the population and make scale of y2 to 0-50\n",
    "fig.add_scatter(x=df2['Year'], y=df2['Population ages 65 and above (% of total population) [SP.POP.65UP.TO.ZS]'], yaxis=\"y2\"\n",
    "                , name=\"Population ages 65 and above\", mode='lines', line=dict(color='red', width=2))\n",
    "\n",
    "\n",
    "fig.update_layout(yaxis_type=\"log\", yaxis2=dict(overlaying='y', side='right', range=[0, 50], title='above 65')\n",
    "                  ,legend=dict(orientation=\"h\", yanchor=\"bottom\", y=1.02, xanchor=\"right\", x=1))\n",
    "\n",
    "\n",
    "\n",
    "\n",
    "\n",
    "fig.add_vline(x=2023, line_width=3, line_dash=\"dash\", line_color=\"red\",  annotation_text=\"2023\", annotation_position=\"top right\") \n",
    "#add historical data before 2023\n",
    "\n",
    "\n",
    "fig.add_vline(x=1969, line_width=3, line_dash=\"dash\", line_color=\"red\",  annotation_text=\"1950\", annotation_position=\"top right\")\n",
    "# the area between 1950 and 2023 is the historical data\n",
    "fig.add_vrect(x0=1969, x1=2023, fillcolor=\"red\", opacity=0.05, annotation_text=\"\", annotation_position=\"top left\", annotation_font_size=12)\n",
    "#add projection data after 2023\n",
    "fig.add_vline(x=2023, line_width=3, line_dash=\"dash\", line_color=\"green\",  annotation_text=\"2023\", annotation_position=\"top right\")\n",
    "# the area between 2023 and 2100 is the projection data\n",
    "fig.add_vrect(x0=2023, x1=2050, fillcolor=\"green\", opacity=0.05, annotation_text=\"\", annotation_position=\"top left\", annotation_font_size=12)\n",
    "\n",
    "\n",
    "\n",
    "\n",
    "\n",
    "\n",
    "\n",
    "            \n",
    "            "
   ]
  },
  {
   "cell_type": "markdown",
   "metadata": {},
   "source": [
    "`Birth Rate, Death Rate and Life Expectancy of China` "
   ]
  },
  {
   "cell_type": "code",
   "execution_count": 35,
   "metadata": {},
   "outputs": [
    {
     "data": {
      "application/vnd.plotly.v1+json": {
       "config": {
        "plotlyServerURL": "https://plot.ly"
       },
       "data": [
        {
         "hovertemplate": "date=%{x}<br> Births per 1000 People=%{y}<extra></extra>",
         "legendgroup": "",
         "line": {
          "color": "#636efa",
          "dash": "solid"
         },
         "marker": {
          "symbol": "circle"
         },
         "mode": "lines",
         "name": "",
         "orientation": "v",
         "showlegend": false,
         "type": "scatter",
         "x": [
          1969,
          1970,
          1971,
          1972,
          1973,
          1974,
          1975,
          1976,
          1977,
          1978,
          1979,
          1980,
          1981,
          1982,
          1983,
          1984,
          1985,
          1986,
          1987,
          1988,
          1989,
          1990,
          1991,
          1992,
          1993,
          1994,
          1995,
          1996,
          1997,
          1998,
          1999,
          2000,
          2001,
          2002,
          2003,
          2004,
          2005,
          2006,
          2007,
          2008,
          2009,
          2010,
          2011,
          2012,
          2013,
          2014,
          2015,
          2016,
          2017,
          2018,
          2019,
          2020,
          2021,
          2022,
          2023,
          2024,
          2025,
          2026,
          2027,
          2028,
          2029,
          2030,
          2031,
          2032,
          2033,
          2034,
          2035,
          2036,
          2037,
          2038,
          2039,
          2040,
          2041,
          2042,
          2043,
          2044,
          2045,
          2046,
          2047,
          2048,
          2049,
          2050
         ],
         "xaxis": "x",
         "y": [
          37.976,
          36.463,
          34.951,
          33.438,
          31.926,
          30.039,
          28.152,
          26.265,
          24.378,
          22.491,
          22.231,
          21.972,
          21.712,
          21.453,
          21.193,
          21.908,
          22.623,
          23.339,
          24.054,
          24.769,
          23.299,
          21.829,
          20.359,
          18.889,
          17.419,
          16.85,
          16.28,
          15.711,
          15.141,
          14.572,
          14.274,
          13.976,
          13.679,
          13.381,
          13.083,
          13.028,
          12.973,
          12.917,
          12.862,
          12.807,
          12.787,
          12.767,
          12.748,
          12.728,
          12.708,
          12.552,
          12.397,
          12.241,
          12.086,
          11.93,
          11.673,
          11.416,
          11.159,
          10.902,
          10.645,
          10.478,
          10.31,
          10.143,
          9.975,
          9.808,
          9.738,
          9.669,
          9.599,
          9.53,
          9.46,
          9.436,
          9.411,
          9.387,
          9.362,
          9.338,
          9.332,
          9.327,
          9.321,
          9.316,
          9.31,
          9.284,
          9.258,
          9.231,
          9.205,
          9.179,
          9.15,
          9.12
         ],
         "yaxis": "y"
        },
        {
         "name": "Death Rate",
         "type": "scatter",
         "x": [
          1969,
          1970,
          1971,
          1972,
          1973,
          1974,
          1975,
          1976,
          1977,
          1978,
          1979,
          1980,
          1981,
          1982,
          1983,
          1984,
          1985,
          1986,
          1987,
          1988,
          1989,
          1990,
          1991,
          1992,
          1993,
          1994,
          1995,
          1996,
          1997,
          1998,
          1999,
          2000,
          2001,
          2002,
          2003,
          2004,
          2005,
          2006,
          2007,
          2008,
          2009,
          2010,
          2011,
          2012,
          2013,
          2014,
          2015,
          2016,
          2017,
          2018,
          2019,
          2020,
          2021,
          2022,
          2023,
          2024,
          2025,
          2026,
          2027,
          2028,
          2029,
          2030,
          2031,
          2032,
          2033,
          2034,
          2035,
          2036,
          2037,
          2038,
          2039,
          2040,
          2041,
          2042,
          2043,
          2044,
          2045,
          2046,
          2047,
          2048,
          2049,
          2050
         ],
         "y": [
          12.075,
          11.351,
          10.626,
          9.902,
          9.178,
          8.772,
          8.366,
          7.959,
          7.553,
          7.147,
          7.039,
          6.93,
          6.822,
          6.713,
          6.605,
          6.625,
          6.645,
          6.664,
          6.684,
          6.704,
          6.702,
          6.7,
          6.699,
          6.697,
          6.695,
          6.69,
          6.685,
          6.68,
          6.675,
          6.67,
          6.665,
          6.66,
          6.655,
          6.65,
          6.645,
          6.686,
          6.727,
          6.767,
          6.808,
          6.849,
          6.88,
          6.911,
          6.941,
          6.972,
          7.003,
          7.027,
          7.05,
          7.074,
          7.097,
          7.121,
          7.261,
          7.402,
          7.542,
          7.683,
          7.823,
          7.996,
          8.168,
          8.341,
          8.513,
          8.686,
          8.887,
          9.088,
          9.29,
          9.491,
          9.692,
          9.91,
          10.127,
          10.345,
          10.562,
          10.78,
          10.991,
          11.202,
          11.412,
          11.623,
          11.834,
          12.019,
          12.205,
          12.39,
          12.576,
          12.761,
          12.917,
          13.074
         ]
        },
        {
         "name": "Life Expectancy",
         "type": "scatter",
         "x": [
          1969,
          1970,
          1971,
          1972,
          1973,
          1974,
          1975,
          1976,
          1977,
          1978,
          1979,
          1980,
          1981,
          1982,
          1983,
          1984,
          1985,
          1986,
          1987,
          1988,
          1989,
          1990,
          1991,
          1992,
          1993,
          1994,
          1995,
          1996,
          1997,
          1998,
          1999,
          2000,
          2001,
          2002,
          2003,
          2004,
          2005,
          2006,
          2007,
          2008,
          2009,
          2010,
          2011,
          2012,
          2013,
          2014,
          2015,
          2016,
          2017,
          2018,
          2019,
          2020,
          2021,
          2022,
          2023,
          2024,
          2025,
          2026,
          2027,
          2028,
          2029,
          2030,
          2031,
          2032,
          2033,
          2034,
          2035,
          2036,
          2037,
          2038,
          2039,
          2040,
          2041,
          2042,
          2043,
          2044,
          2045,
          2046,
          2047,
          2048,
          2049,
          2050
         ],
         "y": [
          56.71,
          57.95,
          59.19,
          60.43,
          61.67,
          62.438,
          63.206,
          63.974,
          64.742,
          65.51,
          65.958,
          66.406,
          66.854,
          67.302,
          67.75,
          67.984,
          68.218,
          68.452,
          68.686,
          68.92,
          69.01,
          69.1,
          69.19,
          69.28,
          69.37,
          69.612,
          69.854,
          70.096,
          70.338,
          70.58,
          70.916,
          71.252,
          71.588,
          71.924,
          72.26,
          72.544,
          72.828,
          73.112,
          73.396,
          73.68,
          73.972,
          74.264,
          74.556,
          74.848,
          75.14,
          75.436,
          75.732,
          76.028,
          76.324,
          76.62,
          76.79,
          76.96,
          77.13,
          77.3,
          77.47,
          77.638,
          77.806,
          77.974,
          78.142,
          78.31,
          78.474,
          78.638,
          78.802,
          78.966,
          79.13,
          79.292,
          79.454,
          79.616,
          79.778,
          79.94,
          80.098,
          80.256,
          80.414,
          80.572,
          80.73,
          80.888,
          81.046,
          81.204,
          81.362,
          81.52,
          81.672,
          81.824
         ]
        },
        {
         "name": "Birth Rate",
         "type": "scatter",
         "x": [
          1969,
          1970,
          1971,
          1972,
          1973,
          1974,
          1975,
          1976,
          1977,
          1978,
          1979,
          1980,
          1981,
          1982,
          1983,
          1984,
          1985,
          1986,
          1987,
          1988,
          1989,
          1990,
          1991,
          1992,
          1993,
          1994,
          1995,
          1996,
          1997,
          1998,
          1999,
          2000,
          2001,
          2002,
          2003,
          2004,
          2005,
          2006,
          2007,
          2008,
          2009,
          2010,
          2011,
          2012,
          2013,
          2014,
          2015,
          2016,
          2017,
          2018,
          2019,
          2020,
          2021,
          2022,
          2023,
          2024,
          2025,
          2026,
          2027,
          2028,
          2029,
          2030,
          2031,
          2032,
          2033,
          2034,
          2035,
          2036,
          2037,
          2038,
          2039,
          2040,
          2041,
          2042,
          2043,
          2044,
          2045,
          2046,
          2047,
          2048,
          2049,
          2050
         ],
         "y": [
          37.976,
          36.463,
          34.951,
          33.438,
          31.926,
          30.039,
          28.152,
          26.265,
          24.378,
          22.491,
          22.231,
          21.972,
          21.712,
          21.453,
          21.193,
          21.908,
          22.623,
          23.339,
          24.054,
          24.769,
          23.299,
          21.829,
          20.359,
          18.889,
          17.419,
          16.85,
          16.28,
          15.711,
          15.141,
          14.572,
          14.274,
          13.976,
          13.679,
          13.381,
          13.083,
          13.028,
          12.973,
          12.917,
          12.862,
          12.807,
          12.787,
          12.767,
          12.748,
          12.728,
          12.708,
          12.552,
          12.397,
          12.241,
          12.086,
          11.93,
          11.673,
          11.416,
          11.159,
          10.902,
          10.645,
          10.478,
          10.31,
          10.143,
          9.975,
          9.808,
          9.738,
          9.669,
          9.599,
          9.53,
          9.46,
          9.436,
          9.411,
          9.387,
          9.362,
          9.338,
          9.332,
          9.327,
          9.321,
          9.316,
          9.31,
          9.284,
          9.258,
          9.231,
          9.205,
          9.179,
          9.15,
          9.12
         ]
        }
       ],
       "layout": {
        "legend": {
         "tracegroupgap": 0
        },
        "margin": {
         "t": 60
        },
        "template": {
         "data": {
          "bar": [
           {
            "error_x": {
             "color": "#f2f5fa"
            },
            "error_y": {
             "color": "#f2f5fa"
            },
            "marker": {
             "line": {
              "color": "rgb(17,17,17)",
              "width": 0.5
             },
             "pattern": {
              "fillmode": "overlay",
              "size": 10,
              "solidity": 0.2
             }
            },
            "type": "bar"
           }
          ],
          "barpolar": [
           {
            "marker": {
             "line": {
              "color": "rgb(17,17,17)",
              "width": 0.5
             },
             "pattern": {
              "fillmode": "overlay",
              "size": 10,
              "solidity": 0.2
             }
            },
            "type": "barpolar"
           }
          ],
          "carpet": [
           {
            "aaxis": {
             "endlinecolor": "#A2B1C6",
             "gridcolor": "#506784",
             "linecolor": "#506784",
             "minorgridcolor": "#506784",
             "startlinecolor": "#A2B1C6"
            },
            "baxis": {
             "endlinecolor": "#A2B1C6",
             "gridcolor": "#506784",
             "linecolor": "#506784",
             "minorgridcolor": "#506784",
             "startlinecolor": "#A2B1C6"
            },
            "type": "carpet"
           }
          ],
          "choropleth": [
           {
            "colorbar": {
             "outlinewidth": 0,
             "ticks": ""
            },
            "type": "choropleth"
           }
          ],
          "contour": [
           {
            "colorbar": {
             "outlinewidth": 0,
             "ticks": ""
            },
            "colorscale": [
             [
              0,
              "#0d0887"
             ],
             [
              0.1111111111111111,
              "#46039f"
             ],
             [
              0.2222222222222222,
              "#7201a8"
             ],
             [
              0.3333333333333333,
              "#9c179e"
             ],
             [
              0.4444444444444444,
              "#bd3786"
             ],
             [
              0.5555555555555556,
              "#d8576b"
             ],
             [
              0.6666666666666666,
              "#ed7953"
             ],
             [
              0.7777777777777778,
              "#fb9f3a"
             ],
             [
              0.8888888888888888,
              "#fdca26"
             ],
             [
              1,
              "#f0f921"
             ]
            ],
            "type": "contour"
           }
          ],
          "contourcarpet": [
           {
            "colorbar": {
             "outlinewidth": 0,
             "ticks": ""
            },
            "type": "contourcarpet"
           }
          ],
          "heatmap": [
           {
            "colorbar": {
             "outlinewidth": 0,
             "ticks": ""
            },
            "colorscale": [
             [
              0,
              "#0d0887"
             ],
             [
              0.1111111111111111,
              "#46039f"
             ],
             [
              0.2222222222222222,
              "#7201a8"
             ],
             [
              0.3333333333333333,
              "#9c179e"
             ],
             [
              0.4444444444444444,
              "#bd3786"
             ],
             [
              0.5555555555555556,
              "#d8576b"
             ],
             [
              0.6666666666666666,
              "#ed7953"
             ],
             [
              0.7777777777777778,
              "#fb9f3a"
             ],
             [
              0.8888888888888888,
              "#fdca26"
             ],
             [
              1,
              "#f0f921"
             ]
            ],
            "type": "heatmap"
           }
          ],
          "heatmapgl": [
           {
            "colorbar": {
             "outlinewidth": 0,
             "ticks": ""
            },
            "colorscale": [
             [
              0,
              "#0d0887"
             ],
             [
              0.1111111111111111,
              "#46039f"
             ],
             [
              0.2222222222222222,
              "#7201a8"
             ],
             [
              0.3333333333333333,
              "#9c179e"
             ],
             [
              0.4444444444444444,
              "#bd3786"
             ],
             [
              0.5555555555555556,
              "#d8576b"
             ],
             [
              0.6666666666666666,
              "#ed7953"
             ],
             [
              0.7777777777777778,
              "#fb9f3a"
             ],
             [
              0.8888888888888888,
              "#fdca26"
             ],
             [
              1,
              "#f0f921"
             ]
            ],
            "type": "heatmapgl"
           }
          ],
          "histogram": [
           {
            "marker": {
             "pattern": {
              "fillmode": "overlay",
              "size": 10,
              "solidity": 0.2
             }
            },
            "type": "histogram"
           }
          ],
          "histogram2d": [
           {
            "colorbar": {
             "outlinewidth": 0,
             "ticks": ""
            },
            "colorscale": [
             [
              0,
              "#0d0887"
             ],
             [
              0.1111111111111111,
              "#46039f"
             ],
             [
              0.2222222222222222,
              "#7201a8"
             ],
             [
              0.3333333333333333,
              "#9c179e"
             ],
             [
              0.4444444444444444,
              "#bd3786"
             ],
             [
              0.5555555555555556,
              "#d8576b"
             ],
             [
              0.6666666666666666,
              "#ed7953"
             ],
             [
              0.7777777777777778,
              "#fb9f3a"
             ],
             [
              0.8888888888888888,
              "#fdca26"
             ],
             [
              1,
              "#f0f921"
             ]
            ],
            "type": "histogram2d"
           }
          ],
          "histogram2dcontour": [
           {
            "colorbar": {
             "outlinewidth": 0,
             "ticks": ""
            },
            "colorscale": [
             [
              0,
              "#0d0887"
             ],
             [
              0.1111111111111111,
              "#46039f"
             ],
             [
              0.2222222222222222,
              "#7201a8"
             ],
             [
              0.3333333333333333,
              "#9c179e"
             ],
             [
              0.4444444444444444,
              "#bd3786"
             ],
             [
              0.5555555555555556,
              "#d8576b"
             ],
             [
              0.6666666666666666,
              "#ed7953"
             ],
             [
              0.7777777777777778,
              "#fb9f3a"
             ],
             [
              0.8888888888888888,
              "#fdca26"
             ],
             [
              1,
              "#f0f921"
             ]
            ],
            "type": "histogram2dcontour"
           }
          ],
          "mesh3d": [
           {
            "colorbar": {
             "outlinewidth": 0,
             "ticks": ""
            },
            "type": "mesh3d"
           }
          ],
          "parcoords": [
           {
            "line": {
             "colorbar": {
              "outlinewidth": 0,
              "ticks": ""
             }
            },
            "type": "parcoords"
           }
          ],
          "pie": [
           {
            "automargin": true,
            "type": "pie"
           }
          ],
          "scatter": [
           {
            "marker": {
             "line": {
              "color": "#283442"
             }
            },
            "type": "scatter"
           }
          ],
          "scatter3d": [
           {
            "line": {
             "colorbar": {
              "outlinewidth": 0,
              "ticks": ""
             }
            },
            "marker": {
             "colorbar": {
              "outlinewidth": 0,
              "ticks": ""
             }
            },
            "type": "scatter3d"
           }
          ],
          "scattercarpet": [
           {
            "marker": {
             "colorbar": {
              "outlinewidth": 0,
              "ticks": ""
             }
            },
            "type": "scattercarpet"
           }
          ],
          "scattergeo": [
           {
            "marker": {
             "colorbar": {
              "outlinewidth": 0,
              "ticks": ""
             }
            },
            "type": "scattergeo"
           }
          ],
          "scattergl": [
           {
            "marker": {
             "line": {
              "color": "#283442"
             }
            },
            "type": "scattergl"
           }
          ],
          "scattermapbox": [
           {
            "marker": {
             "colorbar": {
              "outlinewidth": 0,
              "ticks": ""
             }
            },
            "type": "scattermapbox"
           }
          ],
          "scatterpolar": [
           {
            "marker": {
             "colorbar": {
              "outlinewidth": 0,
              "ticks": ""
             }
            },
            "type": "scatterpolar"
           }
          ],
          "scatterpolargl": [
           {
            "marker": {
             "colorbar": {
              "outlinewidth": 0,
              "ticks": ""
             }
            },
            "type": "scatterpolargl"
           }
          ],
          "scatterternary": [
           {
            "marker": {
             "colorbar": {
              "outlinewidth": 0,
              "ticks": ""
             }
            },
            "type": "scatterternary"
           }
          ],
          "surface": [
           {
            "colorbar": {
             "outlinewidth": 0,
             "ticks": ""
            },
            "colorscale": [
             [
              0,
              "#0d0887"
             ],
             [
              0.1111111111111111,
              "#46039f"
             ],
             [
              0.2222222222222222,
              "#7201a8"
             ],
             [
              0.3333333333333333,
              "#9c179e"
             ],
             [
              0.4444444444444444,
              "#bd3786"
             ],
             [
              0.5555555555555556,
              "#d8576b"
             ],
             [
              0.6666666666666666,
              "#ed7953"
             ],
             [
              0.7777777777777778,
              "#fb9f3a"
             ],
             [
              0.8888888888888888,
              "#fdca26"
             ],
             [
              1,
              "#f0f921"
             ]
            ],
            "type": "surface"
           }
          ],
          "table": [
           {
            "cells": {
             "fill": {
              "color": "#506784"
             },
             "line": {
              "color": "rgb(17,17,17)"
             }
            },
            "header": {
             "fill": {
              "color": "#2a3f5f"
             },
             "line": {
              "color": "rgb(17,17,17)"
             }
            },
            "type": "table"
           }
          ]
         },
         "layout": {
          "annotationdefaults": {
           "arrowcolor": "#f2f5fa",
           "arrowhead": 0,
           "arrowwidth": 1
          },
          "autotypenumbers": "strict",
          "coloraxis": {
           "colorbar": {
            "outlinewidth": 0,
            "ticks": ""
           }
          },
          "colorscale": {
           "diverging": [
            [
             0,
             "#8e0152"
            ],
            [
             0.1,
             "#c51b7d"
            ],
            [
             0.2,
             "#de77ae"
            ],
            [
             0.3,
             "#f1b6da"
            ],
            [
             0.4,
             "#fde0ef"
            ],
            [
             0.5,
             "#f7f7f7"
            ],
            [
             0.6,
             "#e6f5d0"
            ],
            [
             0.7,
             "#b8e186"
            ],
            [
             0.8,
             "#7fbc41"
            ],
            [
             0.9,
             "#4d9221"
            ],
            [
             1,
             "#276419"
            ]
           ],
           "sequential": [
            [
             0,
             "#0d0887"
            ],
            [
             0.1111111111111111,
             "#46039f"
            ],
            [
             0.2222222222222222,
             "#7201a8"
            ],
            [
             0.3333333333333333,
             "#9c179e"
            ],
            [
             0.4444444444444444,
             "#bd3786"
            ],
            [
             0.5555555555555556,
             "#d8576b"
            ],
            [
             0.6666666666666666,
             "#ed7953"
            ],
            [
             0.7777777777777778,
             "#fb9f3a"
            ],
            [
             0.8888888888888888,
             "#fdca26"
            ],
            [
             1,
             "#f0f921"
            ]
           ],
           "sequentialminus": [
            [
             0,
             "#0d0887"
            ],
            [
             0.1111111111111111,
             "#46039f"
            ],
            [
             0.2222222222222222,
             "#7201a8"
            ],
            [
             0.3333333333333333,
             "#9c179e"
            ],
            [
             0.4444444444444444,
             "#bd3786"
            ],
            [
             0.5555555555555556,
             "#d8576b"
            ],
            [
             0.6666666666666666,
             "#ed7953"
            ],
            [
             0.7777777777777778,
             "#fb9f3a"
            ],
            [
             0.8888888888888888,
             "#fdca26"
            ],
            [
             1,
             "#f0f921"
            ]
           ]
          },
          "colorway": [
           "#636efa",
           "#EF553B",
           "#00cc96",
           "#ab63fa",
           "#FFA15A",
           "#19d3f3",
           "#FF6692",
           "#B6E880",
           "#FF97FF",
           "#FECB52"
          ],
          "font": {
           "color": "#f2f5fa"
          },
          "geo": {
           "bgcolor": "rgb(17,17,17)",
           "lakecolor": "rgb(17,17,17)",
           "landcolor": "rgb(17,17,17)",
           "showlakes": true,
           "showland": true,
           "subunitcolor": "#506784"
          },
          "hoverlabel": {
           "align": "left"
          },
          "hovermode": "closest",
          "mapbox": {
           "style": "dark"
          },
          "paper_bgcolor": "rgb(17,17,17)",
          "plot_bgcolor": "rgb(17,17,17)",
          "polar": {
           "angularaxis": {
            "gridcolor": "#506784",
            "linecolor": "#506784",
            "ticks": ""
           },
           "bgcolor": "rgb(17,17,17)",
           "radialaxis": {
            "gridcolor": "#506784",
            "linecolor": "#506784",
            "ticks": ""
           }
          },
          "scene": {
           "xaxis": {
            "backgroundcolor": "rgb(17,17,17)",
            "gridcolor": "#506784",
            "gridwidth": 2,
            "linecolor": "#506784",
            "showbackground": true,
            "ticks": "",
            "zerolinecolor": "#C8D4E3"
           },
           "yaxis": {
            "backgroundcolor": "rgb(17,17,17)",
            "gridcolor": "#506784",
            "gridwidth": 2,
            "linecolor": "#506784",
            "showbackground": true,
            "ticks": "",
            "zerolinecolor": "#C8D4E3"
           },
           "zaxis": {
            "backgroundcolor": "rgb(17,17,17)",
            "gridcolor": "#506784",
            "gridwidth": 2,
            "linecolor": "#506784",
            "showbackground": true,
            "ticks": "",
            "zerolinecolor": "#C8D4E3"
           }
          },
          "shapedefaults": {
           "line": {
            "color": "#f2f5fa"
           }
          },
          "sliderdefaults": {
           "bgcolor": "#C8D4E3",
           "bordercolor": "rgb(17,17,17)",
           "borderwidth": 1,
           "tickwidth": 0
          },
          "ternary": {
           "aaxis": {
            "gridcolor": "#506784",
            "linecolor": "#506784",
            "ticks": ""
           },
           "baxis": {
            "gridcolor": "#506784",
            "linecolor": "#506784",
            "ticks": ""
           },
           "bgcolor": "rgb(17,17,17)",
           "caxis": {
            "gridcolor": "#506784",
            "linecolor": "#506784",
            "ticks": ""
           }
          },
          "title": {
           "x": 0.05
          },
          "updatemenudefaults": {
           "bgcolor": "#506784",
           "borderwidth": 0
          },
          "xaxis": {
           "automargin": true,
           "gridcolor": "#283442",
           "linecolor": "#506784",
           "ticks": "",
           "title": {
            "standoff": 15
           },
           "zerolinecolor": "#283442",
           "zerolinewidth": 2
          },
          "yaxis": {
           "automargin": true,
           "gridcolor": "#283442",
           "linecolor": "#506784",
           "ticks": "",
           "title": {
            "standoff": 15
           },
           "zerolinecolor": "#283442",
           "zerolinewidth": 2
          }
         }
        },
        "title": {
         "text": "Birth Rate, Death Rate and Life Expectancy of China"
        },
        "xaxis": {
         "anchor": "y",
         "domain": [
          0,
          1
         ],
         "title": {
          "text": "date"
         }
        },
        "yaxis": {
         "anchor": "x",
         "domain": [
          0,
          1
         ],
         "title": {
          "text": " Births per 1000 People"
         }
        }
       }
      }
     },
     "metadata": {},
     "output_type": "display_data"
    }
   ],
   "source": [
    "# birth  rate \n",
    "fig2 = px.line(merged, x=\"date\", y=\" Births per 1000 People\", title=\"\", template=\"plotly_dark\",)\n",
    "\n",
    "# add death rate to fig2\n",
    "fig2.add_scatter(x=merged['date'], y=merged[' Deaths per 1000 People'], name=\"Death Rate\")\n",
    "# add life expectancy to fig2\n",
    "fig2.add_scatter(x=merged['date'], y=merged[' Life Expectancy from Birth (Years)'], name=\"Life Expectancy\")\n",
    "\n",
    "#add title to fig2\n",
    "fig2.update_layout(  title=\"Birth Rate, Death Rate and Life Expectancy of China\"),\n",
    "# add  scatter to birth rate again to make it display on legend area with color blue\n",
    "fig2.add_scatter(x=merged['date'], y=merged[' Births per 1000 People'], name=\"Birth Rate\", )\n",
    "                   \n",
    "                  \n",
    "\n",
    "\n"
   ]
  },
  {
   "attachments": {},
   "cell_type": "markdown",
   "metadata": {},
   "source": [
    "`Figure of Dependancy Ratio` "
   ]
  },
  {
   "cell_type": "code",
   "execution_count": 36,
   "metadata": {},
   "outputs": [
    {
     "data": {
      "application/vnd.plotly.v1+json": {
       "config": {
        "plotlyServerURL": "https://plot.ly"
       },
       "data": [
        {
         "name": "Age dependency ratio (% of working-age population)",
         "opacity": 0.8,
         "type": "bar",
         "x": [
          1969,
          1970,
          1971,
          1972,
          1973,
          1974,
          1975,
          1976,
          1977,
          1978,
          1979,
          1980,
          1981,
          1982,
          1983,
          1984,
          1985,
          1986,
          1987,
          1988,
          1989,
          1990,
          1991,
          1992,
          1993,
          1994,
          1995,
          1996,
          1997,
          1998,
          1999,
          2000,
          2001,
          2002,
          2003,
          2004,
          2005,
          2006,
          2007,
          2008,
          2009,
          2010,
          2011,
          2012,
          2013,
          2014,
          2015,
          2016,
          2017,
          2018,
          2019,
          2020,
          2021,
          2022,
          2023,
          2024,
          2025,
          2026,
          2027,
          2028,
          2029,
          2030,
          2031,
          2032,
          2033,
          2034,
          2035,
          2036,
          2037,
          2038,
          2039,
          2040,
          2041,
          2042,
          2043,
          2044,
          2045,
          2046,
          2047,
          2048,
          2049,
          2050
         ],
         "y": [
          80.9619791271914,
          80.5240271796299,
          80.1882081317262,
          79.4811770762984,
          78.8312385191076,
          79.0641232036745,
          79.506480828519,
          79.7628158394681,
          78.4350114640648,
          74.7692925707561,
          71.0570895995254,
          68.1096356173386,
          65.5256072187202,
          63.5803391914063,
          61.3764071651005,
          58.8079459649387,
          56.5788832992884,
          54.793170472908,
          53.5856684511626,
          52.6423356421437,
          52.0063538968405,
          51.9303547350579,
          51.8628983790976,
          51.6033297841624,
          51.39483877595,
          51.009961977054,
          50.420393761166,
          49.6393573501919,
          48.5804023875333,
          47.6339316326495,
          46.8316074842524,
          45.8885561082242,
          44.7273941272428,
          43.2813845882223,
          41.8422264034976,
          40.4639037516393,
          39.0319887862999,
          38.0077592231463,
          37.513489367054,
          37.2240232164871,
          37.1039604967079,
          37.1198906844997,
          37.2742674248777,
          37.6567322848111,
          38.2125459020843,
          38.8773959996461,
          39.6192177194909,
          40.4578974621014,
          41.5448916778932,
          42.5935563885368,
          43.4383277533443,
          44.1407832417306,
          44.545904633681,
          44.8623992375397,
          45.0422201131202,
          44.7734089365568,
          44.2517656485834,
          43.6646754759866,
          43.4512128939936,
          44.0612197546375,
          44.8728569948637,
          45.5706604752385,
          46.2543039540862,
          46.7145374249764,
          47.5180247686605,
          48.8178165654191,
          50.3999011625207,
          52.2623654697623,
          54.116156474751,
          55.9067802660216,
          57.5667452669097,
          58.9551827933106,
          60.1186724743113,
          61.1136610822919,
          61.9995976572493,
          62.9819184689296,
          64.1192026627137,
          65.3963389556596,
          66.9103888721409,
          68.3338748880979,
          69.5969512730147,
          71.055869117001
         ]
        }
       ],
       "layout": {
        "template": {
         "data": {
          "bar": [
           {
            "error_x": {
             "color": "#f2f5fa"
            },
            "error_y": {
             "color": "#f2f5fa"
            },
            "marker": {
             "line": {
              "color": "rgb(17,17,17)",
              "width": 0.5
             },
             "pattern": {
              "fillmode": "overlay",
              "size": 10,
              "solidity": 0.2
             }
            },
            "type": "bar"
           }
          ],
          "barpolar": [
           {
            "marker": {
             "line": {
              "color": "rgb(17,17,17)",
              "width": 0.5
             },
             "pattern": {
              "fillmode": "overlay",
              "size": 10,
              "solidity": 0.2
             }
            },
            "type": "barpolar"
           }
          ],
          "carpet": [
           {
            "aaxis": {
             "endlinecolor": "#A2B1C6",
             "gridcolor": "#506784",
             "linecolor": "#506784",
             "minorgridcolor": "#506784",
             "startlinecolor": "#A2B1C6"
            },
            "baxis": {
             "endlinecolor": "#A2B1C6",
             "gridcolor": "#506784",
             "linecolor": "#506784",
             "minorgridcolor": "#506784",
             "startlinecolor": "#A2B1C6"
            },
            "type": "carpet"
           }
          ],
          "choropleth": [
           {
            "colorbar": {
             "outlinewidth": 0,
             "ticks": ""
            },
            "type": "choropleth"
           }
          ],
          "contour": [
           {
            "colorbar": {
             "outlinewidth": 0,
             "ticks": ""
            },
            "colorscale": [
             [
              0,
              "#0d0887"
             ],
             [
              0.1111111111111111,
              "#46039f"
             ],
             [
              0.2222222222222222,
              "#7201a8"
             ],
             [
              0.3333333333333333,
              "#9c179e"
             ],
             [
              0.4444444444444444,
              "#bd3786"
             ],
             [
              0.5555555555555556,
              "#d8576b"
             ],
             [
              0.6666666666666666,
              "#ed7953"
             ],
             [
              0.7777777777777778,
              "#fb9f3a"
             ],
             [
              0.8888888888888888,
              "#fdca26"
             ],
             [
              1,
              "#f0f921"
             ]
            ],
            "type": "contour"
           }
          ],
          "contourcarpet": [
           {
            "colorbar": {
             "outlinewidth": 0,
             "ticks": ""
            },
            "type": "contourcarpet"
           }
          ],
          "heatmap": [
           {
            "colorbar": {
             "outlinewidth": 0,
             "ticks": ""
            },
            "colorscale": [
             [
              0,
              "#0d0887"
             ],
             [
              0.1111111111111111,
              "#46039f"
             ],
             [
              0.2222222222222222,
              "#7201a8"
             ],
             [
              0.3333333333333333,
              "#9c179e"
             ],
             [
              0.4444444444444444,
              "#bd3786"
             ],
             [
              0.5555555555555556,
              "#d8576b"
             ],
             [
              0.6666666666666666,
              "#ed7953"
             ],
             [
              0.7777777777777778,
              "#fb9f3a"
             ],
             [
              0.8888888888888888,
              "#fdca26"
             ],
             [
              1,
              "#f0f921"
             ]
            ],
            "type": "heatmap"
           }
          ],
          "heatmapgl": [
           {
            "colorbar": {
             "outlinewidth": 0,
             "ticks": ""
            },
            "colorscale": [
             [
              0,
              "#0d0887"
             ],
             [
              0.1111111111111111,
              "#46039f"
             ],
             [
              0.2222222222222222,
              "#7201a8"
             ],
             [
              0.3333333333333333,
              "#9c179e"
             ],
             [
              0.4444444444444444,
              "#bd3786"
             ],
             [
              0.5555555555555556,
              "#d8576b"
             ],
             [
              0.6666666666666666,
              "#ed7953"
             ],
             [
              0.7777777777777778,
              "#fb9f3a"
             ],
             [
              0.8888888888888888,
              "#fdca26"
             ],
             [
              1,
              "#f0f921"
             ]
            ],
            "type": "heatmapgl"
           }
          ],
          "histogram": [
           {
            "marker": {
             "pattern": {
              "fillmode": "overlay",
              "size": 10,
              "solidity": 0.2
             }
            },
            "type": "histogram"
           }
          ],
          "histogram2d": [
           {
            "colorbar": {
             "outlinewidth": 0,
             "ticks": ""
            },
            "colorscale": [
             [
              0,
              "#0d0887"
             ],
             [
              0.1111111111111111,
              "#46039f"
             ],
             [
              0.2222222222222222,
              "#7201a8"
             ],
             [
              0.3333333333333333,
              "#9c179e"
             ],
             [
              0.4444444444444444,
              "#bd3786"
             ],
             [
              0.5555555555555556,
              "#d8576b"
             ],
             [
              0.6666666666666666,
              "#ed7953"
             ],
             [
              0.7777777777777778,
              "#fb9f3a"
             ],
             [
              0.8888888888888888,
              "#fdca26"
             ],
             [
              1,
              "#f0f921"
             ]
            ],
            "type": "histogram2d"
           }
          ],
          "histogram2dcontour": [
           {
            "colorbar": {
             "outlinewidth": 0,
             "ticks": ""
            },
            "colorscale": [
             [
              0,
              "#0d0887"
             ],
             [
              0.1111111111111111,
              "#46039f"
             ],
             [
              0.2222222222222222,
              "#7201a8"
             ],
             [
              0.3333333333333333,
              "#9c179e"
             ],
             [
              0.4444444444444444,
              "#bd3786"
             ],
             [
              0.5555555555555556,
              "#d8576b"
             ],
             [
              0.6666666666666666,
              "#ed7953"
             ],
             [
              0.7777777777777778,
              "#fb9f3a"
             ],
             [
              0.8888888888888888,
              "#fdca26"
             ],
             [
              1,
              "#f0f921"
             ]
            ],
            "type": "histogram2dcontour"
           }
          ],
          "mesh3d": [
           {
            "colorbar": {
             "outlinewidth": 0,
             "ticks": ""
            },
            "type": "mesh3d"
           }
          ],
          "parcoords": [
           {
            "line": {
             "colorbar": {
              "outlinewidth": 0,
              "ticks": ""
             }
            },
            "type": "parcoords"
           }
          ],
          "pie": [
           {
            "automargin": true,
            "type": "pie"
           }
          ],
          "scatter": [
           {
            "marker": {
             "line": {
              "color": "#283442"
             }
            },
            "type": "scatter"
           }
          ],
          "scatter3d": [
           {
            "line": {
             "colorbar": {
              "outlinewidth": 0,
              "ticks": ""
             }
            },
            "marker": {
             "colorbar": {
              "outlinewidth": 0,
              "ticks": ""
             }
            },
            "type": "scatter3d"
           }
          ],
          "scattercarpet": [
           {
            "marker": {
             "colorbar": {
              "outlinewidth": 0,
              "ticks": ""
             }
            },
            "type": "scattercarpet"
           }
          ],
          "scattergeo": [
           {
            "marker": {
             "colorbar": {
              "outlinewidth": 0,
              "ticks": ""
             }
            },
            "type": "scattergeo"
           }
          ],
          "scattergl": [
           {
            "marker": {
             "line": {
              "color": "#283442"
             }
            },
            "type": "scattergl"
           }
          ],
          "scattermapbox": [
           {
            "marker": {
             "colorbar": {
              "outlinewidth": 0,
              "ticks": ""
             }
            },
            "type": "scattermapbox"
           }
          ],
          "scatterpolar": [
           {
            "marker": {
             "colorbar": {
              "outlinewidth": 0,
              "ticks": ""
             }
            },
            "type": "scatterpolar"
           }
          ],
          "scatterpolargl": [
           {
            "marker": {
             "colorbar": {
              "outlinewidth": 0,
              "ticks": ""
             }
            },
            "type": "scatterpolargl"
           }
          ],
          "scatterternary": [
           {
            "marker": {
             "colorbar": {
              "outlinewidth": 0,
              "ticks": ""
             }
            },
            "type": "scatterternary"
           }
          ],
          "surface": [
           {
            "colorbar": {
             "outlinewidth": 0,
             "ticks": ""
            },
            "colorscale": [
             [
              0,
              "#0d0887"
             ],
             [
              0.1111111111111111,
              "#46039f"
             ],
             [
              0.2222222222222222,
              "#7201a8"
             ],
             [
              0.3333333333333333,
              "#9c179e"
             ],
             [
              0.4444444444444444,
              "#bd3786"
             ],
             [
              0.5555555555555556,
              "#d8576b"
             ],
             [
              0.6666666666666666,
              "#ed7953"
             ],
             [
              0.7777777777777778,
              "#fb9f3a"
             ],
             [
              0.8888888888888888,
              "#fdca26"
             ],
             [
              1,
              "#f0f921"
             ]
            ],
            "type": "surface"
           }
          ],
          "table": [
           {
            "cells": {
             "fill": {
              "color": "#506784"
             },
             "line": {
              "color": "rgb(17,17,17)"
             }
            },
            "header": {
             "fill": {
              "color": "#2a3f5f"
             },
             "line": {
              "color": "rgb(17,17,17)"
             }
            },
            "type": "table"
           }
          ]
         },
         "layout": {
          "annotationdefaults": {
           "arrowcolor": "#f2f5fa",
           "arrowhead": 0,
           "arrowwidth": 1
          },
          "autotypenumbers": "strict",
          "coloraxis": {
           "colorbar": {
            "outlinewidth": 0,
            "ticks": ""
           }
          },
          "colorscale": {
           "diverging": [
            [
             0,
             "#8e0152"
            ],
            [
             0.1,
             "#c51b7d"
            ],
            [
             0.2,
             "#de77ae"
            ],
            [
             0.3,
             "#f1b6da"
            ],
            [
             0.4,
             "#fde0ef"
            ],
            [
             0.5,
             "#f7f7f7"
            ],
            [
             0.6,
             "#e6f5d0"
            ],
            [
             0.7,
             "#b8e186"
            ],
            [
             0.8,
             "#7fbc41"
            ],
            [
             0.9,
             "#4d9221"
            ],
            [
             1,
             "#276419"
            ]
           ],
           "sequential": [
            [
             0,
             "#0d0887"
            ],
            [
             0.1111111111111111,
             "#46039f"
            ],
            [
             0.2222222222222222,
             "#7201a8"
            ],
            [
             0.3333333333333333,
             "#9c179e"
            ],
            [
             0.4444444444444444,
             "#bd3786"
            ],
            [
             0.5555555555555556,
             "#d8576b"
            ],
            [
             0.6666666666666666,
             "#ed7953"
            ],
            [
             0.7777777777777778,
             "#fb9f3a"
            ],
            [
             0.8888888888888888,
             "#fdca26"
            ],
            [
             1,
             "#f0f921"
            ]
           ],
           "sequentialminus": [
            [
             0,
             "#0d0887"
            ],
            [
             0.1111111111111111,
             "#46039f"
            ],
            [
             0.2222222222222222,
             "#7201a8"
            ],
            [
             0.3333333333333333,
             "#9c179e"
            ],
            [
             0.4444444444444444,
             "#bd3786"
            ],
            [
             0.5555555555555556,
             "#d8576b"
            ],
            [
             0.6666666666666666,
             "#ed7953"
            ],
            [
             0.7777777777777778,
             "#fb9f3a"
            ],
            [
             0.8888888888888888,
             "#fdca26"
            ],
            [
             1,
             "#f0f921"
            ]
           ]
          },
          "colorway": [
           "#636efa",
           "#EF553B",
           "#00cc96",
           "#ab63fa",
           "#FFA15A",
           "#19d3f3",
           "#FF6692",
           "#B6E880",
           "#FF97FF",
           "#FECB52"
          ],
          "font": {
           "color": "#f2f5fa"
          },
          "geo": {
           "bgcolor": "rgb(17,17,17)",
           "lakecolor": "rgb(17,17,17)",
           "landcolor": "rgb(17,17,17)",
           "showlakes": true,
           "showland": true,
           "subunitcolor": "#506784"
          },
          "hoverlabel": {
           "align": "left"
          },
          "hovermode": "closest",
          "mapbox": {
           "style": "dark"
          },
          "paper_bgcolor": "rgb(17,17,17)",
          "plot_bgcolor": "rgb(17,17,17)",
          "polar": {
           "angularaxis": {
            "gridcolor": "#506784",
            "linecolor": "#506784",
            "ticks": ""
           },
           "bgcolor": "rgb(17,17,17)",
           "radialaxis": {
            "gridcolor": "#506784",
            "linecolor": "#506784",
            "ticks": ""
           }
          },
          "scene": {
           "xaxis": {
            "backgroundcolor": "rgb(17,17,17)",
            "gridcolor": "#506784",
            "gridwidth": 2,
            "linecolor": "#506784",
            "showbackground": true,
            "ticks": "",
            "zerolinecolor": "#C8D4E3"
           },
           "yaxis": {
            "backgroundcolor": "rgb(17,17,17)",
            "gridcolor": "#506784",
            "gridwidth": 2,
            "linecolor": "#506784",
            "showbackground": true,
            "ticks": "",
            "zerolinecolor": "#C8D4E3"
           },
           "zaxis": {
            "backgroundcolor": "rgb(17,17,17)",
            "gridcolor": "#506784",
            "gridwidth": 2,
            "linecolor": "#506784",
            "showbackground": true,
            "ticks": "",
            "zerolinecolor": "#C8D4E3"
           }
          },
          "shapedefaults": {
           "line": {
            "color": "#f2f5fa"
           }
          },
          "sliderdefaults": {
           "bgcolor": "#C8D4E3",
           "bordercolor": "rgb(17,17,17)",
           "borderwidth": 1,
           "tickwidth": 0
          },
          "ternary": {
           "aaxis": {
            "gridcolor": "#506784",
            "linecolor": "#506784",
            "ticks": ""
           },
           "baxis": {
            "gridcolor": "#506784",
            "linecolor": "#506784",
            "ticks": ""
           },
           "bgcolor": "rgb(17,17,17)",
           "caxis": {
            "gridcolor": "#506784",
            "linecolor": "#506784",
            "ticks": ""
           }
          },
          "title": {
           "x": 0.05
          },
          "updatemenudefaults": {
           "bgcolor": "#506784",
           "borderwidth": 0
          },
          "xaxis": {
           "automargin": true,
           "gridcolor": "#283442",
           "linecolor": "#506784",
           "ticks": "",
           "title": {
            "standoff": 15
           },
           "zerolinecolor": "#283442",
           "zerolinewidth": 2
          },
          "yaxis": {
           "automargin": true,
           "gridcolor": "#283442",
           "linecolor": "#506784",
           "ticks": "",
           "title": {
            "standoff": 15
           },
           "zerolinecolor": "#283442",
           "zerolinewidth": 2
          }
         }
        },
        "title": {
         "text": "Working-Age Dependency Ratio"
        },
        "xaxis": {
         "title": {
          "text": "Year"
         }
        }
       }
      }
     },
     "metadata": {},
     "output_type": "display_data"
    }
   ],
   "source": [
    "# from amgad data\n",
    "fig3 = go.Figure( )\n",
    "fig3.add_trace(go.Bar(x=df2[\"Year\"], y=df2[\"Age dependency ratio (% of working-age population) [SP.POP.DPND]\"], name=\"Age dependency ratio (% of working-age population)\",\n",
    "                       opacity=0.8)  )\n",
    "fig3.update_layout(template='plotly_dark', title=\"Working-Age Dependency Ratio\", xaxis_title=\"Year\",\n",
    "                   )\n",
    "fig3.show()\n",
    "\n"
   ]
  },
  {
   "attachments": {},
   "cell_type": "markdown",
   "metadata": {},
   "source": [
    "`Figure of Density` "
   ]
  },
  {
   "cell_type": "code",
   "execution_count": 37,
   "metadata": {},
   "outputs": [
    {
     "data": {
      "application/vnd.plotly.v1+json": {
       "config": {
        "plotlyServerURL": "https://plot.ly"
       },
       "data": [
        {
         "hovertemplate": "date=%{x}<br> Population per Square KM=%{y}<extra></extra>",
         "legendgroup": "",
         "marker": {
          "color": "#636efa",
          "symbol": "circle"
         },
         "mode": "markers",
         "name": "",
         "orientation": "v",
         "showlegend": false,
         "type": "scatter",
         "x": [
          1969,
          1970,
          1971,
          1972,
          1973,
          1974,
          1975,
          1976,
          1977,
          1978,
          1979,
          1980,
          1981,
          1982,
          1983,
          1984,
          1985,
          1986,
          1987,
          1988,
          1989,
          1990,
          1991,
          1992,
          1993,
          1994,
          1995,
          1996,
          1997,
          1998,
          1999,
          2000,
          2001,
          2002,
          2003,
          2004,
          2005,
          2006,
          2007,
          2008,
          2009,
          2010,
          2011,
          2012,
          2013,
          2014,
          2015,
          2016,
          2017,
          2018,
          2019,
          2020,
          2021,
          2022,
          2023,
          2024,
          2025,
          2026,
          2027,
          2028,
          2029,
          2030,
          2031,
          2032,
          2033,
          2034,
          2035,
          2036,
          2037,
          2038,
          2039,
          2040,
          2041,
          2042,
          2043,
          2044,
          2045,
          2046,
          2047,
          2048,
          2049,
          2050
         ],
         "xaxis": "x",
         "y": [
          83.4822994,
          85.6805755,
          87.8421328,
          89.8791075,
          91.838655,
          93.6840238,
          95.3253783,
          96.8098832,
          98.1854451,
          99.493528,
          100.8643625,
          102.3303501,
          103.8810813,
          105.5710444,
          107.2110155,
          108.7678148,
          110.4415402,
          112.2676365,
          114.2552718,
          116.2383903,
          118.1680674,
          120.1773911,
          121.940089,
          123.313756,
          124.5681472,
          125.7588872,
          126.8899016,
          127.9476515,
          128.9375058,
          129.8786148,
          130.7741483,
          131.6768382,
          132.5768906,
          133.4296541,
          134.2574914,
          135.0849221,
          135.9256348,
          136.7796969,
          137.6574726,
          138.558922,
          139.4920926,
          140.4364428,
          141.3639536,
          142.3499251,
          143.3436208,
          144.2904281,
          145.1785292,
          146.0300108,
          146.9035803,
          147.6112369,
          148.1106699,
          148.4300185,
          148.5304022,
          148.5297638,
          148.5072654,
          148.4559561,
          148.3729502,
          148.2555834,
          148.1049437,
          147.9212482,
          147.7055255,
          147.4587827,
          147.1817099,
          146.876175,
          146.542583,
          146.1784621,
          145.7860339,
          145.3692868,
          144.9309224,
          144.4740048,
          143.9964134,
          143.4953529,
          142.9709223,
          142.4234964,
          141.8474708,
          141.2407599,
          140.599519,
          139.9175759,
          139.1938963,
          138.4241783,
          137.6044499,
          136.7327967
         ],
         "yaxis": "y"
        }
       ],
       "layout": {
        "legend": {
         "tracegroupgap": 0
        },
        "template": {
         "data": {
          "bar": [
           {
            "error_x": {
             "color": "#f2f5fa"
            },
            "error_y": {
             "color": "#f2f5fa"
            },
            "marker": {
             "line": {
              "color": "rgb(17,17,17)",
              "width": 0.5
             },
             "pattern": {
              "fillmode": "overlay",
              "size": 10,
              "solidity": 0.2
             }
            },
            "type": "bar"
           }
          ],
          "barpolar": [
           {
            "marker": {
             "line": {
              "color": "rgb(17,17,17)",
              "width": 0.5
             },
             "pattern": {
              "fillmode": "overlay",
              "size": 10,
              "solidity": 0.2
             }
            },
            "type": "barpolar"
           }
          ],
          "carpet": [
           {
            "aaxis": {
             "endlinecolor": "#A2B1C6",
             "gridcolor": "#506784",
             "linecolor": "#506784",
             "minorgridcolor": "#506784",
             "startlinecolor": "#A2B1C6"
            },
            "baxis": {
             "endlinecolor": "#A2B1C6",
             "gridcolor": "#506784",
             "linecolor": "#506784",
             "minorgridcolor": "#506784",
             "startlinecolor": "#A2B1C6"
            },
            "type": "carpet"
           }
          ],
          "choropleth": [
           {
            "colorbar": {
             "outlinewidth": 0,
             "ticks": ""
            },
            "type": "choropleth"
           }
          ],
          "contour": [
           {
            "colorbar": {
             "outlinewidth": 0,
             "ticks": ""
            },
            "colorscale": [
             [
              0,
              "#0d0887"
             ],
             [
              0.1111111111111111,
              "#46039f"
             ],
             [
              0.2222222222222222,
              "#7201a8"
             ],
             [
              0.3333333333333333,
              "#9c179e"
             ],
             [
              0.4444444444444444,
              "#bd3786"
             ],
             [
              0.5555555555555556,
              "#d8576b"
             ],
             [
              0.6666666666666666,
              "#ed7953"
             ],
             [
              0.7777777777777778,
              "#fb9f3a"
             ],
             [
              0.8888888888888888,
              "#fdca26"
             ],
             [
              1,
              "#f0f921"
             ]
            ],
            "type": "contour"
           }
          ],
          "contourcarpet": [
           {
            "colorbar": {
             "outlinewidth": 0,
             "ticks": ""
            },
            "type": "contourcarpet"
           }
          ],
          "heatmap": [
           {
            "colorbar": {
             "outlinewidth": 0,
             "ticks": ""
            },
            "colorscale": [
             [
              0,
              "#0d0887"
             ],
             [
              0.1111111111111111,
              "#46039f"
             ],
             [
              0.2222222222222222,
              "#7201a8"
             ],
             [
              0.3333333333333333,
              "#9c179e"
             ],
             [
              0.4444444444444444,
              "#bd3786"
             ],
             [
              0.5555555555555556,
              "#d8576b"
             ],
             [
              0.6666666666666666,
              "#ed7953"
             ],
             [
              0.7777777777777778,
              "#fb9f3a"
             ],
             [
              0.8888888888888888,
              "#fdca26"
             ],
             [
              1,
              "#f0f921"
             ]
            ],
            "type": "heatmap"
           }
          ],
          "heatmapgl": [
           {
            "colorbar": {
             "outlinewidth": 0,
             "ticks": ""
            },
            "colorscale": [
             [
              0,
              "#0d0887"
             ],
             [
              0.1111111111111111,
              "#46039f"
             ],
             [
              0.2222222222222222,
              "#7201a8"
             ],
             [
              0.3333333333333333,
              "#9c179e"
             ],
             [
              0.4444444444444444,
              "#bd3786"
             ],
             [
              0.5555555555555556,
              "#d8576b"
             ],
             [
              0.6666666666666666,
              "#ed7953"
             ],
             [
              0.7777777777777778,
              "#fb9f3a"
             ],
             [
              0.8888888888888888,
              "#fdca26"
             ],
             [
              1,
              "#f0f921"
             ]
            ],
            "type": "heatmapgl"
           }
          ],
          "histogram": [
           {
            "marker": {
             "pattern": {
              "fillmode": "overlay",
              "size": 10,
              "solidity": 0.2
             }
            },
            "type": "histogram"
           }
          ],
          "histogram2d": [
           {
            "colorbar": {
             "outlinewidth": 0,
             "ticks": ""
            },
            "colorscale": [
             [
              0,
              "#0d0887"
             ],
             [
              0.1111111111111111,
              "#46039f"
             ],
             [
              0.2222222222222222,
              "#7201a8"
             ],
             [
              0.3333333333333333,
              "#9c179e"
             ],
             [
              0.4444444444444444,
              "#bd3786"
             ],
             [
              0.5555555555555556,
              "#d8576b"
             ],
             [
              0.6666666666666666,
              "#ed7953"
             ],
             [
              0.7777777777777778,
              "#fb9f3a"
             ],
             [
              0.8888888888888888,
              "#fdca26"
             ],
             [
              1,
              "#f0f921"
             ]
            ],
            "type": "histogram2d"
           }
          ],
          "histogram2dcontour": [
           {
            "colorbar": {
             "outlinewidth": 0,
             "ticks": ""
            },
            "colorscale": [
             [
              0,
              "#0d0887"
             ],
             [
              0.1111111111111111,
              "#46039f"
             ],
             [
              0.2222222222222222,
              "#7201a8"
             ],
             [
              0.3333333333333333,
              "#9c179e"
             ],
             [
              0.4444444444444444,
              "#bd3786"
             ],
             [
              0.5555555555555556,
              "#d8576b"
             ],
             [
              0.6666666666666666,
              "#ed7953"
             ],
             [
              0.7777777777777778,
              "#fb9f3a"
             ],
             [
              0.8888888888888888,
              "#fdca26"
             ],
             [
              1,
              "#f0f921"
             ]
            ],
            "type": "histogram2dcontour"
           }
          ],
          "mesh3d": [
           {
            "colorbar": {
             "outlinewidth": 0,
             "ticks": ""
            },
            "type": "mesh3d"
           }
          ],
          "parcoords": [
           {
            "line": {
             "colorbar": {
              "outlinewidth": 0,
              "ticks": ""
             }
            },
            "type": "parcoords"
           }
          ],
          "pie": [
           {
            "automargin": true,
            "type": "pie"
           }
          ],
          "scatter": [
           {
            "marker": {
             "line": {
              "color": "#283442"
             }
            },
            "type": "scatter"
           }
          ],
          "scatter3d": [
           {
            "line": {
             "colorbar": {
              "outlinewidth": 0,
              "ticks": ""
             }
            },
            "marker": {
             "colorbar": {
              "outlinewidth": 0,
              "ticks": ""
             }
            },
            "type": "scatter3d"
           }
          ],
          "scattercarpet": [
           {
            "marker": {
             "colorbar": {
              "outlinewidth": 0,
              "ticks": ""
             }
            },
            "type": "scattercarpet"
           }
          ],
          "scattergeo": [
           {
            "marker": {
             "colorbar": {
              "outlinewidth": 0,
              "ticks": ""
             }
            },
            "type": "scattergeo"
           }
          ],
          "scattergl": [
           {
            "marker": {
             "line": {
              "color": "#283442"
             }
            },
            "type": "scattergl"
           }
          ],
          "scattermapbox": [
           {
            "marker": {
             "colorbar": {
              "outlinewidth": 0,
              "ticks": ""
             }
            },
            "type": "scattermapbox"
           }
          ],
          "scatterpolar": [
           {
            "marker": {
             "colorbar": {
              "outlinewidth": 0,
              "ticks": ""
             }
            },
            "type": "scatterpolar"
           }
          ],
          "scatterpolargl": [
           {
            "marker": {
             "colorbar": {
              "outlinewidth": 0,
              "ticks": ""
             }
            },
            "type": "scatterpolargl"
           }
          ],
          "scatterternary": [
           {
            "marker": {
             "colorbar": {
              "outlinewidth": 0,
              "ticks": ""
             }
            },
            "type": "scatterternary"
           }
          ],
          "surface": [
           {
            "colorbar": {
             "outlinewidth": 0,
             "ticks": ""
            },
            "colorscale": [
             [
              0,
              "#0d0887"
             ],
             [
              0.1111111111111111,
              "#46039f"
             ],
             [
              0.2222222222222222,
              "#7201a8"
             ],
             [
              0.3333333333333333,
              "#9c179e"
             ],
             [
              0.4444444444444444,
              "#bd3786"
             ],
             [
              0.5555555555555556,
              "#d8576b"
             ],
             [
              0.6666666666666666,
              "#ed7953"
             ],
             [
              0.7777777777777778,
              "#fb9f3a"
             ],
             [
              0.8888888888888888,
              "#fdca26"
             ],
             [
              1,
              "#f0f921"
             ]
            ],
            "type": "surface"
           }
          ],
          "table": [
           {
            "cells": {
             "fill": {
              "color": "#506784"
             },
             "line": {
              "color": "rgb(17,17,17)"
             }
            },
            "header": {
             "fill": {
              "color": "#2a3f5f"
             },
             "line": {
              "color": "rgb(17,17,17)"
             }
            },
            "type": "table"
           }
          ]
         },
         "layout": {
          "annotationdefaults": {
           "arrowcolor": "#f2f5fa",
           "arrowhead": 0,
           "arrowwidth": 1
          },
          "autotypenumbers": "strict",
          "coloraxis": {
           "colorbar": {
            "outlinewidth": 0,
            "ticks": ""
           }
          },
          "colorscale": {
           "diverging": [
            [
             0,
             "#8e0152"
            ],
            [
             0.1,
             "#c51b7d"
            ],
            [
             0.2,
             "#de77ae"
            ],
            [
             0.3,
             "#f1b6da"
            ],
            [
             0.4,
             "#fde0ef"
            ],
            [
             0.5,
             "#f7f7f7"
            ],
            [
             0.6,
             "#e6f5d0"
            ],
            [
             0.7,
             "#b8e186"
            ],
            [
             0.8,
             "#7fbc41"
            ],
            [
             0.9,
             "#4d9221"
            ],
            [
             1,
             "#276419"
            ]
           ],
           "sequential": [
            [
             0,
             "#0d0887"
            ],
            [
             0.1111111111111111,
             "#46039f"
            ],
            [
             0.2222222222222222,
             "#7201a8"
            ],
            [
             0.3333333333333333,
             "#9c179e"
            ],
            [
             0.4444444444444444,
             "#bd3786"
            ],
            [
             0.5555555555555556,
             "#d8576b"
            ],
            [
             0.6666666666666666,
             "#ed7953"
            ],
            [
             0.7777777777777778,
             "#fb9f3a"
            ],
            [
             0.8888888888888888,
             "#fdca26"
            ],
            [
             1,
             "#f0f921"
            ]
           ],
           "sequentialminus": [
            [
             0,
             "#0d0887"
            ],
            [
             0.1111111111111111,
             "#46039f"
            ],
            [
             0.2222222222222222,
             "#7201a8"
            ],
            [
             0.3333333333333333,
             "#9c179e"
            ],
            [
             0.4444444444444444,
             "#bd3786"
            ],
            [
             0.5555555555555556,
             "#d8576b"
            ],
            [
             0.6666666666666666,
             "#ed7953"
            ],
            [
             0.7777777777777778,
             "#fb9f3a"
            ],
            [
             0.8888888888888888,
             "#fdca26"
            ],
            [
             1,
             "#f0f921"
            ]
           ]
          },
          "colorway": [
           "#636efa",
           "#EF553B",
           "#00cc96",
           "#ab63fa",
           "#FFA15A",
           "#19d3f3",
           "#FF6692",
           "#B6E880",
           "#FF97FF",
           "#FECB52"
          ],
          "font": {
           "color": "#f2f5fa"
          },
          "geo": {
           "bgcolor": "rgb(17,17,17)",
           "lakecolor": "rgb(17,17,17)",
           "landcolor": "rgb(17,17,17)",
           "showlakes": true,
           "showland": true,
           "subunitcolor": "#506784"
          },
          "hoverlabel": {
           "align": "left"
          },
          "hovermode": "closest",
          "mapbox": {
           "style": "dark"
          },
          "paper_bgcolor": "rgb(17,17,17)",
          "plot_bgcolor": "rgb(17,17,17)",
          "polar": {
           "angularaxis": {
            "gridcolor": "#506784",
            "linecolor": "#506784",
            "ticks": ""
           },
           "bgcolor": "rgb(17,17,17)",
           "radialaxis": {
            "gridcolor": "#506784",
            "linecolor": "#506784",
            "ticks": ""
           }
          },
          "scene": {
           "xaxis": {
            "backgroundcolor": "rgb(17,17,17)",
            "gridcolor": "#506784",
            "gridwidth": 2,
            "linecolor": "#506784",
            "showbackground": true,
            "ticks": "",
            "zerolinecolor": "#C8D4E3"
           },
           "yaxis": {
            "backgroundcolor": "rgb(17,17,17)",
            "gridcolor": "#506784",
            "gridwidth": 2,
            "linecolor": "#506784",
            "showbackground": true,
            "ticks": "",
            "zerolinecolor": "#C8D4E3"
           },
           "zaxis": {
            "backgroundcolor": "rgb(17,17,17)",
            "gridcolor": "#506784",
            "gridwidth": 2,
            "linecolor": "#506784",
            "showbackground": true,
            "ticks": "",
            "zerolinecolor": "#C8D4E3"
           }
          },
          "shapedefaults": {
           "line": {
            "color": "#f2f5fa"
           }
          },
          "sliderdefaults": {
           "bgcolor": "#C8D4E3",
           "bordercolor": "rgb(17,17,17)",
           "borderwidth": 1,
           "tickwidth": 0
          },
          "ternary": {
           "aaxis": {
            "gridcolor": "#506784",
            "linecolor": "#506784",
            "ticks": ""
           },
           "baxis": {
            "gridcolor": "#506784",
            "linecolor": "#506784",
            "ticks": ""
           },
           "bgcolor": "rgb(17,17,17)",
           "caxis": {
            "gridcolor": "#506784",
            "linecolor": "#506784",
            "ticks": ""
           }
          },
          "title": {
           "x": 0.05
          },
          "updatemenudefaults": {
           "bgcolor": "#506784",
           "borderwidth": 0
          },
          "xaxis": {
           "automargin": true,
           "gridcolor": "#283442",
           "linecolor": "#506784",
           "ticks": "",
           "title": {
            "standoff": 15
           },
           "zerolinecolor": "#283442",
           "zerolinewidth": 2
          },
          "yaxis": {
           "automargin": true,
           "gridcolor": "#283442",
           "linecolor": "#506784",
           "ticks": "",
           "title": {
            "standoff": 15
           },
           "zerolinecolor": "#283442",
           "zerolinewidth": 2
          }
         }
        },
        "title": {
         "text": "Density Per KM of China"
        },
        "xaxis": {
         "anchor": "y",
         "domain": [
          0,
          1
         ],
         "title": {
          "text": "date"
         }
        },
        "yaxis": {
         "anchor": "x",
         "domain": [
          0,
          1
         ],
         "title": {
          "text": " Population per Square KM"
         }
        }
       }
      }
     },
     "metadata": {},
     "output_type": "display_data"
    }
   ],
   "source": [
    "# density\n",
    "fig4 = px.scatter(merged, x=\"date\", y=\" Population per Square KM\", title=\"Density Per KM of China\", template=\"plotly_dark\",)\n",
    "fig4.show()"
   ]
  },
  {
   "attachments": {},
   "cell_type": "markdown",
   "metadata": {},
   "source": [
    "`Figure of Urban vs Rural` "
   ]
  },
  {
   "cell_type": "code",
   "execution_count": 38,
   "metadata": {},
   "outputs": [
    {
     "data": {
      "application/vnd.plotly.v1+json": {
       "config": {
        "plotlyServerURL": "https://plot.ly"
       },
       "data": [
        {
         "alignmentgroup": "True",
         "hovertemplate": "Population Type=Urban population (% of total population) [SP.URB.TOTL.IN.ZS]<br>Year=%{x}<br>Population=%{y}<extra></extra>",
         "legendgroup": "Urban population (% of total population) [SP.URB.TOTL.IN.ZS]",
         "marker": {
          "color": "#636efa",
          "pattern": {
           "shape": ""
          }
         },
         "name": "Urban population (% of total population) [SP.URB.TOTL.IN.ZS]",
         "offsetgroup": "Urban population (% of total population) [SP.URB.TOTL.IN.ZS]",
         "orientation": "v",
         "showlegend": true,
         "textposition": "auto",
         "type": "bar",
         "x": [
          1969,
          1970,
          1971,
          1972,
          1973,
          1974,
          1975,
          1976,
          1977,
          1978,
          1979,
          1980,
          1981,
          1982,
          1983,
          1984,
          1985,
          1986,
          1987,
          1988,
          1989,
          1990,
          1991,
          1992,
          1993,
          1994,
          1995,
          1996,
          1997,
          1998,
          1999,
          2000,
          2001,
          2002,
          2003,
          2004,
          2005,
          2006,
          2007,
          2008,
          2009,
          2010,
          2011,
          2012,
          2013,
          2014,
          2015,
          2016,
          2017,
          2018,
          2019,
          2020,
          2021,
          2022,
          2023,
          2024,
          2025,
          2026,
          2027,
          2028,
          2029,
          2030,
          2031,
          2032,
          2033,
          2034,
          2035,
          2036,
          2037,
          2038,
          2039,
          2040,
          2041,
          2042,
          2043,
          2044,
          2045,
          2046,
          2047,
          2048,
          2049,
          2050
         ],
         "xaxis": "x",
         "y": [
          17.528,
          17.4,
          17.292,
          17.184,
          17.184,
          17.292,
          17.4,
          17.46,
          17.52,
          17.9,
          18.617,
          19.358,
          20.118,
          20.902,
          21.545,
          22.203,
          22.874,
          23.559,
          24.259,
          24.974,
          25.701,
          26.442,
          27.312,
          28.2,
          29.103,
          30.024,
          30.961,
          31.916,
          32.883,
          33.867,
          34.865,
          35.877,
          37.093,
          38.425,
          39.776,
          41.144,
          42.522,
          43.868,
          45.199,
          46.539,
          47.88,
          49.226,
          50.511,
          51.765,
          53.013,
          54.259,
          55.5,
          56.736,
          57.96,
          59.152,
          60.308,
          61.428,
          62.512,
          63.56,
          64.57,
          65.544,
          66.481,
          67.382,
          68.246,
          69.074,
          69.867,
          70.626,
          71.35,
          72.041,
          72.698,
          73.324,
          73.918,
          74.481,
          75.014,
          75.517,
          75.991,
          76.436,
          76.854,
          77.243,
          77.605,
          77.964,
          78.318,
          78.668,
          79.015,
          79.356,
          79.694,
          80.028
         ],
         "yaxis": "y"
        },
        {
         "alignmentgroup": "True",
         "hovertemplate": "Population Type=Rural population (% of total population) [SP.RUR.TOTL.ZS]<br>Year=%{x}<br>Population=%{y}<extra></extra>",
         "legendgroup": "Rural population (% of total population) [SP.RUR.TOTL.ZS]",
         "marker": {
          "color": "#EF553B",
          "pattern": {
           "shape": ""
          }
         },
         "name": "Rural population (% of total population) [SP.RUR.TOTL.ZS]",
         "offsetgroup": "Rural population (% of total population) [SP.RUR.TOTL.ZS]",
         "orientation": "v",
         "showlegend": true,
         "textposition": "auto",
         "type": "bar",
         "x": [
          1969,
          1970,
          1971,
          1972,
          1973,
          1974,
          1975,
          1976,
          1977,
          1978,
          1979,
          1980,
          1981,
          1982,
          1983,
          1984,
          1985,
          1986,
          1987,
          1988,
          1989,
          1990,
          1991,
          1992,
          1993,
          1994,
          1995,
          1996,
          1997,
          1998,
          1999,
          2000,
          2001,
          2002,
          2003,
          2004,
          2005,
          2006,
          2007,
          2008,
          2009,
          2010,
          2011,
          2012,
          2013,
          2014,
          2015,
          2016,
          2017,
          2018,
          2019,
          2020,
          2021,
          2022,
          2023,
          2024,
          2025,
          2026,
          2027,
          2028,
          2029,
          2030,
          2031,
          2032,
          2033,
          2034,
          2035,
          2036,
          2037,
          2038,
          2039,
          2040,
          2041,
          2042,
          2043,
          2044,
          2045,
          2046,
          2047,
          2048,
          2049,
          2050
         ],
         "xaxis": "x",
         "y": [
          82.472,
          82.6,
          82.708,
          82.816,
          82.816,
          82.708,
          82.6,
          82.54,
          82.48,
          82.1,
          81.383,
          80.642,
          79.882,
          79.098,
          78.455,
          77.797,
          77.126,
          76.441,
          75.741,
          75.026,
          74.299,
          73.558,
          72.688,
          71.8,
          70.897,
          69.976,
          69.039,
          68.084,
          67.117,
          66.133,
          65.135,
          64.123,
          62.907,
          61.575,
          60.224,
          58.856,
          57.478,
          56.132,
          54.801,
          53.461,
          52.12,
          50.774,
          49.489,
          48.235,
          46.987,
          45.741,
          44.5,
          43.264,
          42.04,
          40.848,
          39.692,
          38.572,
          37.488,
          36.44,
          35.43,
          34.456,
          33.519,
          32.618,
          31.754,
          30.926,
          30.133,
          29.374,
          28.65,
          27.959,
          27.302,
          26.676,
          26.082,
          25.519,
          24.986,
          24.483,
          24.009,
          23.564,
          23.146,
          22.757,
          22.395,
          22.036,
          21.682,
          21.332,
          20.985,
          20.644,
          20.306,
          19.972
         ],
         "yaxis": "y"
        }
       ],
       "layout": {
        "barmode": "stack",
        "legend": {
         "title": {
          "text": "Population Type"
         },
         "tracegroupgap": 0
        },
        "template": {
         "data": {
          "bar": [
           {
            "error_x": {
             "color": "#f2f5fa"
            },
            "error_y": {
             "color": "#f2f5fa"
            },
            "marker": {
             "line": {
              "color": "rgb(17,17,17)",
              "width": 0.5
             },
             "pattern": {
              "fillmode": "overlay",
              "size": 10,
              "solidity": 0.2
             }
            },
            "type": "bar"
           }
          ],
          "barpolar": [
           {
            "marker": {
             "line": {
              "color": "rgb(17,17,17)",
              "width": 0.5
             },
             "pattern": {
              "fillmode": "overlay",
              "size": 10,
              "solidity": 0.2
             }
            },
            "type": "barpolar"
           }
          ],
          "carpet": [
           {
            "aaxis": {
             "endlinecolor": "#A2B1C6",
             "gridcolor": "#506784",
             "linecolor": "#506784",
             "minorgridcolor": "#506784",
             "startlinecolor": "#A2B1C6"
            },
            "baxis": {
             "endlinecolor": "#A2B1C6",
             "gridcolor": "#506784",
             "linecolor": "#506784",
             "minorgridcolor": "#506784",
             "startlinecolor": "#A2B1C6"
            },
            "type": "carpet"
           }
          ],
          "choropleth": [
           {
            "colorbar": {
             "outlinewidth": 0,
             "ticks": ""
            },
            "type": "choropleth"
           }
          ],
          "contour": [
           {
            "colorbar": {
             "outlinewidth": 0,
             "ticks": ""
            },
            "colorscale": [
             [
              0,
              "#0d0887"
             ],
             [
              0.1111111111111111,
              "#46039f"
             ],
             [
              0.2222222222222222,
              "#7201a8"
             ],
             [
              0.3333333333333333,
              "#9c179e"
             ],
             [
              0.4444444444444444,
              "#bd3786"
             ],
             [
              0.5555555555555556,
              "#d8576b"
             ],
             [
              0.6666666666666666,
              "#ed7953"
             ],
             [
              0.7777777777777778,
              "#fb9f3a"
             ],
             [
              0.8888888888888888,
              "#fdca26"
             ],
             [
              1,
              "#f0f921"
             ]
            ],
            "type": "contour"
           }
          ],
          "contourcarpet": [
           {
            "colorbar": {
             "outlinewidth": 0,
             "ticks": ""
            },
            "type": "contourcarpet"
           }
          ],
          "heatmap": [
           {
            "colorbar": {
             "outlinewidth": 0,
             "ticks": ""
            },
            "colorscale": [
             [
              0,
              "#0d0887"
             ],
             [
              0.1111111111111111,
              "#46039f"
             ],
             [
              0.2222222222222222,
              "#7201a8"
             ],
             [
              0.3333333333333333,
              "#9c179e"
             ],
             [
              0.4444444444444444,
              "#bd3786"
             ],
             [
              0.5555555555555556,
              "#d8576b"
             ],
             [
              0.6666666666666666,
              "#ed7953"
             ],
             [
              0.7777777777777778,
              "#fb9f3a"
             ],
             [
              0.8888888888888888,
              "#fdca26"
             ],
             [
              1,
              "#f0f921"
             ]
            ],
            "type": "heatmap"
           }
          ],
          "heatmapgl": [
           {
            "colorbar": {
             "outlinewidth": 0,
             "ticks": ""
            },
            "colorscale": [
             [
              0,
              "#0d0887"
             ],
             [
              0.1111111111111111,
              "#46039f"
             ],
             [
              0.2222222222222222,
              "#7201a8"
             ],
             [
              0.3333333333333333,
              "#9c179e"
             ],
             [
              0.4444444444444444,
              "#bd3786"
             ],
             [
              0.5555555555555556,
              "#d8576b"
             ],
             [
              0.6666666666666666,
              "#ed7953"
             ],
             [
              0.7777777777777778,
              "#fb9f3a"
             ],
             [
              0.8888888888888888,
              "#fdca26"
             ],
             [
              1,
              "#f0f921"
             ]
            ],
            "type": "heatmapgl"
           }
          ],
          "histogram": [
           {
            "marker": {
             "pattern": {
              "fillmode": "overlay",
              "size": 10,
              "solidity": 0.2
             }
            },
            "type": "histogram"
           }
          ],
          "histogram2d": [
           {
            "colorbar": {
             "outlinewidth": 0,
             "ticks": ""
            },
            "colorscale": [
             [
              0,
              "#0d0887"
             ],
             [
              0.1111111111111111,
              "#46039f"
             ],
             [
              0.2222222222222222,
              "#7201a8"
             ],
             [
              0.3333333333333333,
              "#9c179e"
             ],
             [
              0.4444444444444444,
              "#bd3786"
             ],
             [
              0.5555555555555556,
              "#d8576b"
             ],
             [
              0.6666666666666666,
              "#ed7953"
             ],
             [
              0.7777777777777778,
              "#fb9f3a"
             ],
             [
              0.8888888888888888,
              "#fdca26"
             ],
             [
              1,
              "#f0f921"
             ]
            ],
            "type": "histogram2d"
           }
          ],
          "histogram2dcontour": [
           {
            "colorbar": {
             "outlinewidth": 0,
             "ticks": ""
            },
            "colorscale": [
             [
              0,
              "#0d0887"
             ],
             [
              0.1111111111111111,
              "#46039f"
             ],
             [
              0.2222222222222222,
              "#7201a8"
             ],
             [
              0.3333333333333333,
              "#9c179e"
             ],
             [
              0.4444444444444444,
              "#bd3786"
             ],
             [
              0.5555555555555556,
              "#d8576b"
             ],
             [
              0.6666666666666666,
              "#ed7953"
             ],
             [
              0.7777777777777778,
              "#fb9f3a"
             ],
             [
              0.8888888888888888,
              "#fdca26"
             ],
             [
              1,
              "#f0f921"
             ]
            ],
            "type": "histogram2dcontour"
           }
          ],
          "mesh3d": [
           {
            "colorbar": {
             "outlinewidth": 0,
             "ticks": ""
            },
            "type": "mesh3d"
           }
          ],
          "parcoords": [
           {
            "line": {
             "colorbar": {
              "outlinewidth": 0,
              "ticks": ""
             }
            },
            "type": "parcoords"
           }
          ],
          "pie": [
           {
            "automargin": true,
            "type": "pie"
           }
          ],
          "scatter": [
           {
            "marker": {
             "line": {
              "color": "#283442"
             }
            },
            "type": "scatter"
           }
          ],
          "scatter3d": [
           {
            "line": {
             "colorbar": {
              "outlinewidth": 0,
              "ticks": ""
             }
            },
            "marker": {
             "colorbar": {
              "outlinewidth": 0,
              "ticks": ""
             }
            },
            "type": "scatter3d"
           }
          ],
          "scattercarpet": [
           {
            "marker": {
             "colorbar": {
              "outlinewidth": 0,
              "ticks": ""
             }
            },
            "type": "scattercarpet"
           }
          ],
          "scattergeo": [
           {
            "marker": {
             "colorbar": {
              "outlinewidth": 0,
              "ticks": ""
             }
            },
            "type": "scattergeo"
           }
          ],
          "scattergl": [
           {
            "marker": {
             "line": {
              "color": "#283442"
             }
            },
            "type": "scattergl"
           }
          ],
          "scattermapbox": [
           {
            "marker": {
             "colorbar": {
              "outlinewidth": 0,
              "ticks": ""
             }
            },
            "type": "scattermapbox"
           }
          ],
          "scatterpolar": [
           {
            "marker": {
             "colorbar": {
              "outlinewidth": 0,
              "ticks": ""
             }
            },
            "type": "scatterpolar"
           }
          ],
          "scatterpolargl": [
           {
            "marker": {
             "colorbar": {
              "outlinewidth": 0,
              "ticks": ""
             }
            },
            "type": "scatterpolargl"
           }
          ],
          "scatterternary": [
           {
            "marker": {
             "colorbar": {
              "outlinewidth": 0,
              "ticks": ""
             }
            },
            "type": "scatterternary"
           }
          ],
          "surface": [
           {
            "colorbar": {
             "outlinewidth": 0,
             "ticks": ""
            },
            "colorscale": [
             [
              0,
              "#0d0887"
             ],
             [
              0.1111111111111111,
              "#46039f"
             ],
             [
              0.2222222222222222,
              "#7201a8"
             ],
             [
              0.3333333333333333,
              "#9c179e"
             ],
             [
              0.4444444444444444,
              "#bd3786"
             ],
             [
              0.5555555555555556,
              "#d8576b"
             ],
             [
              0.6666666666666666,
              "#ed7953"
             ],
             [
              0.7777777777777778,
              "#fb9f3a"
             ],
             [
              0.8888888888888888,
              "#fdca26"
             ],
             [
              1,
              "#f0f921"
             ]
            ],
            "type": "surface"
           }
          ],
          "table": [
           {
            "cells": {
             "fill": {
              "color": "#506784"
             },
             "line": {
              "color": "rgb(17,17,17)"
             }
            },
            "header": {
             "fill": {
              "color": "#2a3f5f"
             },
             "line": {
              "color": "rgb(17,17,17)"
             }
            },
            "type": "table"
           }
          ]
         },
         "layout": {
          "annotationdefaults": {
           "arrowcolor": "#f2f5fa",
           "arrowhead": 0,
           "arrowwidth": 1
          },
          "autotypenumbers": "strict",
          "coloraxis": {
           "colorbar": {
            "outlinewidth": 0,
            "ticks": ""
           }
          },
          "colorscale": {
           "diverging": [
            [
             0,
             "#8e0152"
            ],
            [
             0.1,
             "#c51b7d"
            ],
            [
             0.2,
             "#de77ae"
            ],
            [
             0.3,
             "#f1b6da"
            ],
            [
             0.4,
             "#fde0ef"
            ],
            [
             0.5,
             "#f7f7f7"
            ],
            [
             0.6,
             "#e6f5d0"
            ],
            [
             0.7,
             "#b8e186"
            ],
            [
             0.8,
             "#7fbc41"
            ],
            [
             0.9,
             "#4d9221"
            ],
            [
             1,
             "#276419"
            ]
           ],
           "sequential": [
            [
             0,
             "#0d0887"
            ],
            [
             0.1111111111111111,
             "#46039f"
            ],
            [
             0.2222222222222222,
             "#7201a8"
            ],
            [
             0.3333333333333333,
             "#9c179e"
            ],
            [
             0.4444444444444444,
             "#bd3786"
            ],
            [
             0.5555555555555556,
             "#d8576b"
            ],
            [
             0.6666666666666666,
             "#ed7953"
            ],
            [
             0.7777777777777778,
             "#fb9f3a"
            ],
            [
             0.8888888888888888,
             "#fdca26"
            ],
            [
             1,
             "#f0f921"
            ]
           ],
           "sequentialminus": [
            [
             0,
             "#0d0887"
            ],
            [
             0.1111111111111111,
             "#46039f"
            ],
            [
             0.2222222222222222,
             "#7201a8"
            ],
            [
             0.3333333333333333,
             "#9c179e"
            ],
            [
             0.4444444444444444,
             "#bd3786"
            ],
            [
             0.5555555555555556,
             "#d8576b"
            ],
            [
             0.6666666666666666,
             "#ed7953"
            ],
            [
             0.7777777777777778,
             "#fb9f3a"
            ],
            [
             0.8888888888888888,
             "#fdca26"
            ],
            [
             1,
             "#f0f921"
            ]
           ]
          },
          "colorway": [
           "#636efa",
           "#EF553B",
           "#00cc96",
           "#ab63fa",
           "#FFA15A",
           "#19d3f3",
           "#FF6692",
           "#B6E880",
           "#FF97FF",
           "#FECB52"
          ],
          "font": {
           "color": "#f2f5fa"
          },
          "geo": {
           "bgcolor": "rgb(17,17,17)",
           "lakecolor": "rgb(17,17,17)",
           "landcolor": "rgb(17,17,17)",
           "showlakes": true,
           "showland": true,
           "subunitcolor": "#506784"
          },
          "hoverlabel": {
           "align": "left"
          },
          "hovermode": "closest",
          "mapbox": {
           "style": "dark"
          },
          "paper_bgcolor": "rgb(17,17,17)",
          "plot_bgcolor": "rgb(17,17,17)",
          "polar": {
           "angularaxis": {
            "gridcolor": "#506784",
            "linecolor": "#506784",
            "ticks": ""
           },
           "bgcolor": "rgb(17,17,17)",
           "radialaxis": {
            "gridcolor": "#506784",
            "linecolor": "#506784",
            "ticks": ""
           }
          },
          "scene": {
           "xaxis": {
            "backgroundcolor": "rgb(17,17,17)",
            "gridcolor": "#506784",
            "gridwidth": 2,
            "linecolor": "#506784",
            "showbackground": true,
            "ticks": "",
            "zerolinecolor": "#C8D4E3"
           },
           "yaxis": {
            "backgroundcolor": "rgb(17,17,17)",
            "gridcolor": "#506784",
            "gridwidth": 2,
            "linecolor": "#506784",
            "showbackground": true,
            "ticks": "",
            "zerolinecolor": "#C8D4E3"
           },
           "zaxis": {
            "backgroundcolor": "rgb(17,17,17)",
            "gridcolor": "#506784",
            "gridwidth": 2,
            "linecolor": "#506784",
            "showbackground": true,
            "ticks": "",
            "zerolinecolor": "#C8D4E3"
           }
          },
          "shapedefaults": {
           "line": {
            "color": "#f2f5fa"
           }
          },
          "sliderdefaults": {
           "bgcolor": "#C8D4E3",
           "bordercolor": "rgb(17,17,17)",
           "borderwidth": 1,
           "tickwidth": 0
          },
          "ternary": {
           "aaxis": {
            "gridcolor": "#506784",
            "linecolor": "#506784",
            "ticks": ""
           },
           "baxis": {
            "gridcolor": "#506784",
            "linecolor": "#506784",
            "ticks": ""
           },
           "bgcolor": "rgb(17,17,17)",
           "caxis": {
            "gridcolor": "#506784",
            "linecolor": "#506784",
            "ticks": ""
           }
          },
          "title": {
           "x": 0.05
          },
          "updatemenudefaults": {
           "bgcolor": "#506784",
           "borderwidth": 0
          },
          "xaxis": {
           "automargin": true,
           "gridcolor": "#283442",
           "linecolor": "#506784",
           "ticks": "",
           "title": {
            "standoff": 15
           },
           "zerolinecolor": "#283442",
           "zerolinewidth": 2
          },
          "yaxis": {
           "automargin": true,
           "gridcolor": "#283442",
           "linecolor": "#506784",
           "ticks": "",
           "title": {
            "standoff": 15
           },
           "zerolinecolor": "#283442",
           "zerolinewidth": 2
          }
         }
        },
        "title": {
         "text": "Urban vs Rural Population of China"
        },
        "xaxis": {
         "anchor": "y",
         "domain": [
          0,
          1
         ],
         "title": {
          "text": "Year"
         }
        },
        "yaxis": {
         "anchor": "x",
         "domain": [
          0,
          1
         ],
         "title": {
          "text": "Population"
         }
        }
       }
      }
     },
     "metadata": {},
     "output_type": "display_data"
    }
   ],
   "source": [
    "#Urban vs Rural\n",
    "# h stack bar chart\n",
    "# Urabn vs Rural using df2 \n",
    "fig10 = px.bar(df2, x=\"Year\", y=['Urban population (% of total population) [SP.URB.TOTL.IN.ZS]',\n",
    "                                 'Rural population (% of total population) [SP.RUR.TOTL.ZS]'],\n",
    "               title=\"Urban vs Rural Population of China\", template=\"plotly_dark\",\n",
    "               labels={\"value\": \"Population\", \"variable\": \"Population Type\", \"Year\": \"Year\", \n",
    "                       \"Urban population (% of total population) [SP.URB.TOTL.IN.ZS]\": \"Urban Population\",\n",
    "                       \"Rural population (% of total population) [SP.RUR.TOTL.ZS]\": \"Rural Population\"})\n",
    "fig10.update_layout(barmode='stack' , xaxis_title=\"Year\", yaxis_title=\"Population\",\n",
    "                    #add legend title \n",
    "                    legend_title=\"Population Type\",)\n",
    "                  \n",
    "fig10.show()"
   ]
  },
  {
   "attachments": {},
   "cell_type": "markdown",
   "metadata": {},
   "source": [
    "`Pyramid Figure`"
   ]
  },
  {
   "cell_type": "code",
   "execution_count": 39,
   "metadata": {},
   "outputs": [
    {
     "data": {
      "text/html": [
       "<div>\n",
       "<style scoped>\n",
       "    .dataframe tbody tr th:only-of-type {\n",
       "        vertical-align: middle;\n",
       "    }\n",
       "\n",
       "    .dataframe tbody tr th {\n",
       "        vertical-align: top;\n",
       "    }\n",
       "\n",
       "    .dataframe thead th {\n",
       "        text-align: right;\n",
       "    }\n",
       "</style>\n",
       "<table border=\"1\" class=\"dataframe\">\n",
       "  <thead>\n",
       "    <tr style=\"text-align: right;\">\n",
       "      <th></th>\n",
       "      <th>0-4Male</th>\n",
       "      <th>5-9Male</th>\n",
       "      <th>10-14Male</th>\n",
       "      <th>15-19Male</th>\n",
       "      <th>20-24Male</th>\n",
       "      <th>25-29Male</th>\n",
       "      <th>30-34Male</th>\n",
       "      <th>35-39Male</th>\n",
       "      <th>40-44Male</th>\n",
       "      <th>45-49Male</th>\n",
       "      <th>...</th>\n",
       "      <th>55-59Male</th>\n",
       "      <th>60-64Male</th>\n",
       "      <th>65-69Male</th>\n",
       "      <th>70-74Male</th>\n",
       "      <th>75-79Male</th>\n",
       "      <th>80-84Male</th>\n",
       "      <th>85-89Male</th>\n",
       "      <th>90-94Male</th>\n",
       "      <th>95-99Male</th>\n",
       "      <th>100+Male</th>\n",
       "    </tr>\n",
       "  </thead>\n",
       "  <tbody>\n",
       "    <tr>\n",
       "      <th>55</th>\n",
       "      <td>29918891.0</td>\n",
       "      <td>45517498.5</td>\n",
       "      <td>48463752.0</td>\n",
       "      <td>45115818.0</td>\n",
       "      <td>42666238.5</td>\n",
       "      <td>44740790.5</td>\n",
       "      <td>55973054.5</td>\n",
       "      <td>61256089.5</td>\n",
       "      <td>52154649.0</td>\n",
       "      <td>47859658.0</td>\n",
       "      <td>...</td>\n",
       "      <td>57122468.0</td>\n",
       "      <td>41312244.5</td>\n",
       "      <td>35334064.5</td>\n",
       "      <td>28454002.5</td>\n",
       "      <td>16153373.0</td>\n",
       "      <td>8703738.5</td>\n",
       "      <td>4101749.5</td>\n",
       "      <td>1188671.0</td>\n",
       "      <td>145131.0</td>\n",
       "      <td>5073.0</td>\n",
       "    </tr>\n",
       "  </tbody>\n",
       "</table>\n",
       "<p>1 rows × 21 columns</p>\n",
       "</div>"
      ],
      "text/plain": [
       "       0-4Male     5-9Male   10-14Male   15-19Male   20-24Male   25-29Male  \\\n",
       "55  29918891.0  45517498.5  48463752.0  45115818.0  42666238.5  44740790.5   \n",
       "\n",
       "     30-34Male   35-39Male   40-44Male   45-49Male  ...   55-59Male  \\\n",
       "55  55973054.5  61256089.5  52154649.0  47859658.0  ...  57122468.0   \n",
       "\n",
       "     60-64Male   65-69Male   70-74Male   75-79Male  80-84Male  85-89Male  \\\n",
       "55  41312244.5  35334064.5  28454002.5  16153373.0  8703738.5  4101749.5   \n",
       "\n",
       "    90-94Male  95-99Male  100+Male  \n",
       "55  1188671.0   145131.0    5073.0  \n",
       "\n",
       "[1 rows x 21 columns]"
      ]
     },
     "execution_count": 39,
     "metadata": {},
     "output_type": "execute_result"
    }
   ],
   "source": [
    "# when year = 2023\n",
    "pyramid_data.iloc[:,22:][pyramid_data['Year'] == 2024]"
   ]
  },
  {
   "cell_type": "code",
   "execution_count": 40,
   "metadata": {},
   "outputs": [
    {
     "data": {
      "text/plain": [
       "Index(['0-4', '5-9', '10-14', '15-19', '20-24', '25-29', '30-34', '35-39',\n",
       "       '40-44', '45-49', '50-54', '55-59', '60-64', '65-69', '70-74', '75-79',\n",
       "       '80-84', '85-89', '90-94', '95-99', '100+'],\n",
       "      dtype='object')"
      ]
     },
     "execution_count": 40,
     "metadata": {},
     "output_type": "execute_result"
    }
   ],
   "source": [
    "pyramid_data.columns[1:22].str.replace('Female','')\n"
   ]
  },
  {
   "cell_type": "code",
   "execution_count": 41,
   "metadata": {},
   "outputs": [
    {
     "data": {
      "application/vnd.plotly.v1+json": {
       "config": {
        "plotlyServerURL": "https://plot.ly"
       },
       "data": [
        {
         "hovertemplate": "%{y} %{x} <extra></extra>",
         "name": "Male",
         "orientation": "h",
         "type": "bar",
         "x": [
          -39949145,
          -41727362.5,
          -38572311.5,
          -36699336.5,
          -39150420.5,
          -50463693.5,
          -56916707,
          -49656073.5,
          -46383293,
          -59827839.5,
          -58371771,
          -43794531,
          -40379243.5,
          -36206523,
          -22678080.5,
          -15248528,
          -10706469,
          -5836400.5,
          -2092884.5,
          -391844.5,
          -29658.5
         ],
         "y": [
          "0-4",
          "5-9",
          "10-14",
          "15-19",
          "20-24",
          "25-29",
          "30-34",
          "35-39",
          "40-44",
          "45-49",
          "50-54",
          "55-59",
          "60-64",
          "65-69",
          "70-74",
          "75-79",
          "80-84",
          "85-89",
          "90-94",
          "95-99",
          "100+"
         ]
        },
        {
         "hovertemplate": "%{y} %{x} <extra></extra>",
         "name": "Female",
         "orientation": "h",
         "type": "bar",
         "x": [
          39949145,
          41727362.5,
          38572311.5,
          36699336.5,
          39150420.5,
          50463693.5,
          56916707,
          49656073.5,
          46383293,
          59827839.5,
          58371771,
          43794531,
          40379243.5,
          36206523,
          22678080.5,
          15248528,
          10706469,
          5836400.5,
          2092884.5,
          391844.5,
          29658.5
         ],
         "y": [
          "0-4",
          "5-9",
          "10-14",
          "15-19",
          "20-24",
          "25-29",
          "30-34",
          "35-39",
          "40-44",
          "45-49",
          "50-54",
          "55-59",
          "60-64",
          "65-69",
          "70-74",
          "75-79",
          "80-84",
          "85-89",
          "90-94",
          "95-99",
          "100+"
         ]
        }
       ],
       "layout": {
        "bargap": 0.1,
        "barmode": "relative",
        "height": 500,
        "margin": {
         "b": 50,
         "l": 100,
         "r": 100,
         "t": 50
        },
        "template": {
         "data": {
          "bar": [
           {
            "error_x": {
             "color": "#f2f5fa"
            },
            "error_y": {
             "color": "#f2f5fa"
            },
            "marker": {
             "line": {
              "color": "rgb(17,17,17)",
              "width": 0.5
             },
             "pattern": {
              "fillmode": "overlay",
              "size": 10,
              "solidity": 0.2
             }
            },
            "type": "bar"
           }
          ],
          "barpolar": [
           {
            "marker": {
             "line": {
              "color": "rgb(17,17,17)",
              "width": 0.5
             },
             "pattern": {
              "fillmode": "overlay",
              "size": 10,
              "solidity": 0.2
             }
            },
            "type": "barpolar"
           }
          ],
          "carpet": [
           {
            "aaxis": {
             "endlinecolor": "#A2B1C6",
             "gridcolor": "#506784",
             "linecolor": "#506784",
             "minorgridcolor": "#506784",
             "startlinecolor": "#A2B1C6"
            },
            "baxis": {
             "endlinecolor": "#A2B1C6",
             "gridcolor": "#506784",
             "linecolor": "#506784",
             "minorgridcolor": "#506784",
             "startlinecolor": "#A2B1C6"
            },
            "type": "carpet"
           }
          ],
          "choropleth": [
           {
            "colorbar": {
             "outlinewidth": 0,
             "ticks": ""
            },
            "type": "choropleth"
           }
          ],
          "contour": [
           {
            "colorbar": {
             "outlinewidth": 0,
             "ticks": ""
            },
            "colorscale": [
             [
              0,
              "#0d0887"
             ],
             [
              0.1111111111111111,
              "#46039f"
             ],
             [
              0.2222222222222222,
              "#7201a8"
             ],
             [
              0.3333333333333333,
              "#9c179e"
             ],
             [
              0.4444444444444444,
              "#bd3786"
             ],
             [
              0.5555555555555556,
              "#d8576b"
             ],
             [
              0.6666666666666666,
              "#ed7953"
             ],
             [
              0.7777777777777778,
              "#fb9f3a"
             ],
             [
              0.8888888888888888,
              "#fdca26"
             ],
             [
              1,
              "#f0f921"
             ]
            ],
            "type": "contour"
           }
          ],
          "contourcarpet": [
           {
            "colorbar": {
             "outlinewidth": 0,
             "ticks": ""
            },
            "type": "contourcarpet"
           }
          ],
          "heatmap": [
           {
            "colorbar": {
             "outlinewidth": 0,
             "ticks": ""
            },
            "colorscale": [
             [
              0,
              "#0d0887"
             ],
             [
              0.1111111111111111,
              "#46039f"
             ],
             [
              0.2222222222222222,
              "#7201a8"
             ],
             [
              0.3333333333333333,
              "#9c179e"
             ],
             [
              0.4444444444444444,
              "#bd3786"
             ],
             [
              0.5555555555555556,
              "#d8576b"
             ],
             [
              0.6666666666666666,
              "#ed7953"
             ],
             [
              0.7777777777777778,
              "#fb9f3a"
             ],
             [
              0.8888888888888888,
              "#fdca26"
             ],
             [
              1,
              "#f0f921"
             ]
            ],
            "type": "heatmap"
           }
          ],
          "heatmapgl": [
           {
            "colorbar": {
             "outlinewidth": 0,
             "ticks": ""
            },
            "colorscale": [
             [
              0,
              "#0d0887"
             ],
             [
              0.1111111111111111,
              "#46039f"
             ],
             [
              0.2222222222222222,
              "#7201a8"
             ],
             [
              0.3333333333333333,
              "#9c179e"
             ],
             [
              0.4444444444444444,
              "#bd3786"
             ],
             [
              0.5555555555555556,
              "#d8576b"
             ],
             [
              0.6666666666666666,
              "#ed7953"
             ],
             [
              0.7777777777777778,
              "#fb9f3a"
             ],
             [
              0.8888888888888888,
              "#fdca26"
             ],
             [
              1,
              "#f0f921"
             ]
            ],
            "type": "heatmapgl"
           }
          ],
          "histogram": [
           {
            "marker": {
             "pattern": {
              "fillmode": "overlay",
              "size": 10,
              "solidity": 0.2
             }
            },
            "type": "histogram"
           }
          ],
          "histogram2d": [
           {
            "colorbar": {
             "outlinewidth": 0,
             "ticks": ""
            },
            "colorscale": [
             [
              0,
              "#0d0887"
             ],
             [
              0.1111111111111111,
              "#46039f"
             ],
             [
              0.2222222222222222,
              "#7201a8"
             ],
             [
              0.3333333333333333,
              "#9c179e"
             ],
             [
              0.4444444444444444,
              "#bd3786"
             ],
             [
              0.5555555555555556,
              "#d8576b"
             ],
             [
              0.6666666666666666,
              "#ed7953"
             ],
             [
              0.7777777777777778,
              "#fb9f3a"
             ],
             [
              0.8888888888888888,
              "#fdca26"
             ],
             [
              1,
              "#f0f921"
             ]
            ],
            "type": "histogram2d"
           }
          ],
          "histogram2dcontour": [
           {
            "colorbar": {
             "outlinewidth": 0,
             "ticks": ""
            },
            "colorscale": [
             [
              0,
              "#0d0887"
             ],
             [
              0.1111111111111111,
              "#46039f"
             ],
             [
              0.2222222222222222,
              "#7201a8"
             ],
             [
              0.3333333333333333,
              "#9c179e"
             ],
             [
              0.4444444444444444,
              "#bd3786"
             ],
             [
              0.5555555555555556,
              "#d8576b"
             ],
             [
              0.6666666666666666,
              "#ed7953"
             ],
             [
              0.7777777777777778,
              "#fb9f3a"
             ],
             [
              0.8888888888888888,
              "#fdca26"
             ],
             [
              1,
              "#f0f921"
             ]
            ],
            "type": "histogram2dcontour"
           }
          ],
          "mesh3d": [
           {
            "colorbar": {
             "outlinewidth": 0,
             "ticks": ""
            },
            "type": "mesh3d"
           }
          ],
          "parcoords": [
           {
            "line": {
             "colorbar": {
              "outlinewidth": 0,
              "ticks": ""
             }
            },
            "type": "parcoords"
           }
          ],
          "pie": [
           {
            "automargin": true,
            "type": "pie"
           }
          ],
          "scatter": [
           {
            "marker": {
             "line": {
              "color": "#283442"
             }
            },
            "type": "scatter"
           }
          ],
          "scatter3d": [
           {
            "line": {
             "colorbar": {
              "outlinewidth": 0,
              "ticks": ""
             }
            },
            "marker": {
             "colorbar": {
              "outlinewidth": 0,
              "ticks": ""
             }
            },
            "type": "scatter3d"
           }
          ],
          "scattercarpet": [
           {
            "marker": {
             "colorbar": {
              "outlinewidth": 0,
              "ticks": ""
             }
            },
            "type": "scattercarpet"
           }
          ],
          "scattergeo": [
           {
            "marker": {
             "colorbar": {
              "outlinewidth": 0,
              "ticks": ""
             }
            },
            "type": "scattergeo"
           }
          ],
          "scattergl": [
           {
            "marker": {
             "line": {
              "color": "#283442"
             }
            },
            "type": "scattergl"
           }
          ],
          "scattermapbox": [
           {
            "marker": {
             "colorbar": {
              "outlinewidth": 0,
              "ticks": ""
             }
            },
            "type": "scattermapbox"
           }
          ],
          "scatterpolar": [
           {
            "marker": {
             "colorbar": {
              "outlinewidth": 0,
              "ticks": ""
             }
            },
            "type": "scatterpolar"
           }
          ],
          "scatterpolargl": [
           {
            "marker": {
             "colorbar": {
              "outlinewidth": 0,
              "ticks": ""
             }
            },
            "type": "scatterpolargl"
           }
          ],
          "scatterternary": [
           {
            "marker": {
             "colorbar": {
              "outlinewidth": 0,
              "ticks": ""
             }
            },
            "type": "scatterternary"
           }
          ],
          "surface": [
           {
            "colorbar": {
             "outlinewidth": 0,
             "ticks": ""
            },
            "colorscale": [
             [
              0,
              "#0d0887"
             ],
             [
              0.1111111111111111,
              "#46039f"
             ],
             [
              0.2222222222222222,
              "#7201a8"
             ],
             [
              0.3333333333333333,
              "#9c179e"
             ],
             [
              0.4444444444444444,
              "#bd3786"
             ],
             [
              0.5555555555555556,
              "#d8576b"
             ],
             [
              0.6666666666666666,
              "#ed7953"
             ],
             [
              0.7777777777777778,
              "#fb9f3a"
             ],
             [
              0.8888888888888888,
              "#fdca26"
             ],
             [
              1,
              "#f0f921"
             ]
            ],
            "type": "surface"
           }
          ],
          "table": [
           {
            "cells": {
             "fill": {
              "color": "#506784"
             },
             "line": {
              "color": "rgb(17,17,17)"
             }
            },
            "header": {
             "fill": {
              "color": "#2a3f5f"
             },
             "line": {
              "color": "rgb(17,17,17)"
             }
            },
            "type": "table"
           }
          ]
         },
         "layout": {
          "annotationdefaults": {
           "arrowcolor": "#f2f5fa",
           "arrowhead": 0,
           "arrowwidth": 1
          },
          "autotypenumbers": "strict",
          "coloraxis": {
           "colorbar": {
            "outlinewidth": 0,
            "ticks": ""
           }
          },
          "colorscale": {
           "diverging": [
            [
             0,
             "#8e0152"
            ],
            [
             0.1,
             "#c51b7d"
            ],
            [
             0.2,
             "#de77ae"
            ],
            [
             0.3,
             "#f1b6da"
            ],
            [
             0.4,
             "#fde0ef"
            ],
            [
             0.5,
             "#f7f7f7"
            ],
            [
             0.6,
             "#e6f5d0"
            ],
            [
             0.7,
             "#b8e186"
            ],
            [
             0.8,
             "#7fbc41"
            ],
            [
             0.9,
             "#4d9221"
            ],
            [
             1,
             "#276419"
            ]
           ],
           "sequential": [
            [
             0,
             "#0d0887"
            ],
            [
             0.1111111111111111,
             "#46039f"
            ],
            [
             0.2222222222222222,
             "#7201a8"
            ],
            [
             0.3333333333333333,
             "#9c179e"
            ],
            [
             0.4444444444444444,
             "#bd3786"
            ],
            [
             0.5555555555555556,
             "#d8576b"
            ],
            [
             0.6666666666666666,
             "#ed7953"
            ],
            [
             0.7777777777777778,
             "#fb9f3a"
            ],
            [
             0.8888888888888888,
             "#fdca26"
            ],
            [
             1,
             "#f0f921"
            ]
           ],
           "sequentialminus": [
            [
             0,
             "#0d0887"
            ],
            [
             0.1111111111111111,
             "#46039f"
            ],
            [
             0.2222222222222222,
             "#7201a8"
            ],
            [
             0.3333333333333333,
             "#9c179e"
            ],
            [
             0.4444444444444444,
             "#bd3786"
            ],
            [
             0.5555555555555556,
             "#d8576b"
            ],
            [
             0.6666666666666666,
             "#ed7953"
            ],
            [
             0.7777777777777778,
             "#fb9f3a"
            ],
            [
             0.8888888888888888,
             "#fdca26"
            ],
            [
             1,
             "#f0f921"
            ]
           ]
          },
          "colorway": [
           "#636efa",
           "#EF553B",
           "#00cc96",
           "#ab63fa",
           "#FFA15A",
           "#19d3f3",
           "#FF6692",
           "#B6E880",
           "#FF97FF",
           "#FECB52"
          ],
          "font": {
           "color": "#f2f5fa"
          },
          "geo": {
           "bgcolor": "rgb(17,17,17)",
           "lakecolor": "rgb(17,17,17)",
           "landcolor": "rgb(17,17,17)",
           "showlakes": true,
           "showland": true,
           "subunitcolor": "#506784"
          },
          "hoverlabel": {
           "align": "left"
          },
          "hovermode": "closest",
          "mapbox": {
           "style": "dark"
          },
          "paper_bgcolor": "rgb(17,17,17)",
          "plot_bgcolor": "rgb(17,17,17)",
          "polar": {
           "angularaxis": {
            "gridcolor": "#506784",
            "linecolor": "#506784",
            "ticks": ""
           },
           "bgcolor": "rgb(17,17,17)",
           "radialaxis": {
            "gridcolor": "#506784",
            "linecolor": "#506784",
            "ticks": ""
           }
          },
          "scene": {
           "xaxis": {
            "backgroundcolor": "rgb(17,17,17)",
            "gridcolor": "#506784",
            "gridwidth": 2,
            "linecolor": "#506784",
            "showbackground": true,
            "ticks": "",
            "zerolinecolor": "#C8D4E3"
           },
           "yaxis": {
            "backgroundcolor": "rgb(17,17,17)",
            "gridcolor": "#506784",
            "gridwidth": 2,
            "linecolor": "#506784",
            "showbackground": true,
            "ticks": "",
            "zerolinecolor": "#C8D4E3"
           },
           "zaxis": {
            "backgroundcolor": "rgb(17,17,17)",
            "gridcolor": "#506784",
            "gridwidth": 2,
            "linecolor": "#506784",
            "showbackground": true,
            "ticks": "",
            "zerolinecolor": "#C8D4E3"
           }
          },
          "shapedefaults": {
           "line": {
            "color": "#f2f5fa"
           }
          },
          "sliderdefaults": {
           "bgcolor": "#C8D4E3",
           "bordercolor": "rgb(17,17,17)",
           "borderwidth": 1,
           "tickwidth": 0
          },
          "ternary": {
           "aaxis": {
            "gridcolor": "#506784",
            "linecolor": "#506784",
            "ticks": ""
           },
           "baxis": {
            "gridcolor": "#506784",
            "linecolor": "#506784",
            "ticks": ""
           },
           "bgcolor": "rgb(17,17,17)",
           "caxis": {
            "gridcolor": "#506784",
            "linecolor": "#506784",
            "ticks": ""
           }
          },
          "title": {
           "x": 0.05
          },
          "updatemenudefaults": {
           "bgcolor": "#506784",
           "borderwidth": 0
          },
          "xaxis": {
           "automargin": true,
           "gridcolor": "#283442",
           "linecolor": "#506784",
           "ticks": "",
           "title": {
            "standoff": 15
           },
           "zerolinecolor": "#283442",
           "zerolinewidth": 2
          },
          "yaxis": {
           "automargin": true,
           "gridcolor": "#283442",
           "linecolor": "#506784",
           "ticks": "",
           "title": {
            "standoff": 15
           },
           "zerolinecolor": "#283442",
           "zerolinewidth": 2
          }
         }
        },
        "title": {
         "text": "Age Distribution in China in 2019 "
        },
        "width": 800,
        "xaxis": {
         "ticktext": [
          "60M",
          "40M",
          "20M",
          "0",
          "20M",
          "40M",
          "60M"
         ],
         "tickvals": [
          -60000000,
          -40000000,
          -20000000,
          0,
          20000000,
          40000000,
          60000000
         ]
        },
        "yaxis": {
         "title": {
          "text": "Age Group"
         }
        }
       }
      }
     },
     "metadata": {},
     "output_type": "display_data"
    }
   ],
   "source": [
    "trace_male = go.Bar(\n",
    "    x=-pyramid_data.iloc[:,1:22].iloc[50],\n",
    "    y=pyramid_data.columns[1:22].str.replace('Female',''), # to make data in the same order and same name\n",
    "    orientation='h',\n",
    "    name='Male',\n",
    "    marker=dict(),\n",
    "    #hover data\n",
    "    #make hover with positive value by adding - to x\n",
    "    hovertemplate='%{y} %{x} <extra></extra>',\n",
    "\n",
    "\n",
    "    \n",
    ")\n",
    "\n",
    "# Create the trace for the female data\n",
    "trace_female = go.Bar(\n",
    "    x=pyramid_data.iloc[:,1:22].iloc[50],\n",
    "    y=pyramid_data.columns[1:22].str.replace('Female',''), # to make data in the same order and same name\n",
    "    orientation='h',\n",
    "    name='Female',\n",
    "    marker=dict(),\n",
    "    hovertemplate='%{y} %{x} <extra></extra>',\n",
    "   \n",
    "     \n",
    ")\n",
    "\n",
    "# Combine the traces into a single figure\n",
    "fig_py = go.Figure(data=[trace_male, trace_female])\n",
    "\n",
    "# Update the layout with chart titles and axis labels\n",
    "fig_py.update_layout(\n",
    "    title=f'Age Distribution in China in {pyramid_data[\"Year\"].iloc[50].astype(int)} ',\n",
    "    xaxis_title='Population',\n",
    "    yaxis_title='Age Group',\n",
    "    barmode='relative',\n",
    "    bargap=.1,\n",
    "    width=800,\n",
    "    height=500,\n",
    "    margin=dict(l=100, r=100, t=50, b=50),\n",
    "    template=\"plotly_dark\", \n",
    "    xaxis=go.layout.XAxis( \n",
    "    tickvals=[-60000000, -40000000, -20000000, 0, 20000000, 40000000, 60000000],                      \n",
    "     ticktext=[\"60M\", \"40M\", \"20M\", \"0\", \"20M\",\n",
    "                                 \"40M\", '60M'],)\n",
    "        \n",
    ")\n",
    "\n",
    "\n",
    "\n",
    "fig_py.show()\n"
   ]
  },
  {
   "attachments": {},
   "cell_type": "markdown",
   "metadata": {},
   "source": [
    "`Gender Pie Figure`"
   ]
  },
  {
   "cell_type": "code",
   "execution_count": 42,
   "metadata": {},
   "outputs": [
    {
     "data": {
      "text/plain": [
       "Index(['Year', 'Urban population (% of total population) [SP.URB.TOTL.IN.ZS]',\n",
       "       'Sex ratio at birth (male births per female births) [SP.POP.BRTH.MF]',\n",
       "       'Rural population (% of total population) [SP.RUR.TOTL.ZS]',\n",
       "       'Population, total [SP.POP.TOTL]',\n",
       "       'Population, male (% of total population) [SP.POP.TOTL.MA.ZS]',\n",
       "       'Population, female (% of total population) [SP.POP.TOTL.FE.ZS]',\n",
       "       'Population growth (annual %) [SP.POP.GROW]',\n",
       "       'Population ages 65 and above (% of total population) [SP.POP.65UP.TO.ZS]',\n",
       "       'Net migration [SM.POP.NETM]',\n",
       "       'Mortality rate, infant (per 1,000 live births) [SP.DYN.IMRT.IN]',\n",
       "       'Fertility rate, total (births per woman) [SP.DYN.TFRT.IN]',\n",
       "       'Death rate, crude (per 1,000 people) [SP.DYN.CDRT.IN]',\n",
       "       'Birth rate, crude (per 1,000 people) [SP.DYN.CBRT.IN]',\n",
       "       'Age dependency ratio (% of working-age population) [SP.POP.DPND]'],\n",
       "      dtype='object')"
      ]
     },
     "execution_count": 42,
     "metadata": {},
     "output_type": "execute_result"
    }
   ],
   "source": [
    "df2.columns"
   ]
  },
  {
   "cell_type": "code",
   "execution_count": 43,
   "metadata": {},
   "outputs": [],
   "source": [
    "#rename column name of 'Population, male (% of total population) [SP.POP.TOTL.MA.ZS]' to Male Percentage\n",
    "df2=df2.rename(columns={'Population, male (% of total population) [SP.POP.TOTL.MA.ZS]':'Male Percentage'})\n",
    "#rename column name of 'Population, female (% of total population) [SP.POP.TOTL.MA.ZS]' to Male Percentage\n",
    "df2=df2.rename(columns={'Population, female (% of total population) [SP.POP.TOTL.FE.ZS]': 'Female Percentage'})\n"
   ]
  },
  {
   "cell_type": "code",
   "execution_count": 44,
   "metadata": {},
   "outputs": [
    {
     "data": {
      "application/vnd.plotly.v1+json": {
       "config": {
        "plotlyServerURL": "https://plot.ly"
       },
       "data": [
        {
         "hoverinfo": "label+value",
         "labels": [
          "Male Percentage",
          "Female Percentage"
         ],
         "marker": {
          "line": {
           "color": "#000000",
           "width": 1
          }
         },
         "textfont": {
          "size": 10
         },
         "type": "pie",
         "values": [
          50.9515713996995,
          49.0484286003005
         ]
        }
       ],
       "layout": {
        "height": 500,
        "legend": {
         "title": {
          "text": "Gender"
         },
         "x": 0.8,
         "y": 0.9
        },
        "template": {
         "data": {
          "bar": [
           {
            "error_x": {
             "color": "#f2f5fa"
            },
            "error_y": {
             "color": "#f2f5fa"
            },
            "marker": {
             "line": {
              "color": "rgb(17,17,17)",
              "width": 0.5
             },
             "pattern": {
              "fillmode": "overlay",
              "size": 10,
              "solidity": 0.2
             }
            },
            "type": "bar"
           }
          ],
          "barpolar": [
           {
            "marker": {
             "line": {
              "color": "rgb(17,17,17)",
              "width": 0.5
             },
             "pattern": {
              "fillmode": "overlay",
              "size": 10,
              "solidity": 0.2
             }
            },
            "type": "barpolar"
           }
          ],
          "carpet": [
           {
            "aaxis": {
             "endlinecolor": "#A2B1C6",
             "gridcolor": "#506784",
             "linecolor": "#506784",
             "minorgridcolor": "#506784",
             "startlinecolor": "#A2B1C6"
            },
            "baxis": {
             "endlinecolor": "#A2B1C6",
             "gridcolor": "#506784",
             "linecolor": "#506784",
             "minorgridcolor": "#506784",
             "startlinecolor": "#A2B1C6"
            },
            "type": "carpet"
           }
          ],
          "choropleth": [
           {
            "colorbar": {
             "outlinewidth": 0,
             "ticks": ""
            },
            "type": "choropleth"
           }
          ],
          "contour": [
           {
            "colorbar": {
             "outlinewidth": 0,
             "ticks": ""
            },
            "colorscale": [
             [
              0,
              "#0d0887"
             ],
             [
              0.1111111111111111,
              "#46039f"
             ],
             [
              0.2222222222222222,
              "#7201a8"
             ],
             [
              0.3333333333333333,
              "#9c179e"
             ],
             [
              0.4444444444444444,
              "#bd3786"
             ],
             [
              0.5555555555555556,
              "#d8576b"
             ],
             [
              0.6666666666666666,
              "#ed7953"
             ],
             [
              0.7777777777777778,
              "#fb9f3a"
             ],
             [
              0.8888888888888888,
              "#fdca26"
             ],
             [
              1,
              "#f0f921"
             ]
            ],
            "type": "contour"
           }
          ],
          "contourcarpet": [
           {
            "colorbar": {
             "outlinewidth": 0,
             "ticks": ""
            },
            "type": "contourcarpet"
           }
          ],
          "heatmap": [
           {
            "colorbar": {
             "outlinewidth": 0,
             "ticks": ""
            },
            "colorscale": [
             [
              0,
              "#0d0887"
             ],
             [
              0.1111111111111111,
              "#46039f"
             ],
             [
              0.2222222222222222,
              "#7201a8"
             ],
             [
              0.3333333333333333,
              "#9c179e"
             ],
             [
              0.4444444444444444,
              "#bd3786"
             ],
             [
              0.5555555555555556,
              "#d8576b"
             ],
             [
              0.6666666666666666,
              "#ed7953"
             ],
             [
              0.7777777777777778,
              "#fb9f3a"
             ],
             [
              0.8888888888888888,
              "#fdca26"
             ],
             [
              1,
              "#f0f921"
             ]
            ],
            "type": "heatmap"
           }
          ],
          "heatmapgl": [
           {
            "colorbar": {
             "outlinewidth": 0,
             "ticks": ""
            },
            "colorscale": [
             [
              0,
              "#0d0887"
             ],
             [
              0.1111111111111111,
              "#46039f"
             ],
             [
              0.2222222222222222,
              "#7201a8"
             ],
             [
              0.3333333333333333,
              "#9c179e"
             ],
             [
              0.4444444444444444,
              "#bd3786"
             ],
             [
              0.5555555555555556,
              "#d8576b"
             ],
             [
              0.6666666666666666,
              "#ed7953"
             ],
             [
              0.7777777777777778,
              "#fb9f3a"
             ],
             [
              0.8888888888888888,
              "#fdca26"
             ],
             [
              1,
              "#f0f921"
             ]
            ],
            "type": "heatmapgl"
           }
          ],
          "histogram": [
           {
            "marker": {
             "pattern": {
              "fillmode": "overlay",
              "size": 10,
              "solidity": 0.2
             }
            },
            "type": "histogram"
           }
          ],
          "histogram2d": [
           {
            "colorbar": {
             "outlinewidth": 0,
             "ticks": ""
            },
            "colorscale": [
             [
              0,
              "#0d0887"
             ],
             [
              0.1111111111111111,
              "#46039f"
             ],
             [
              0.2222222222222222,
              "#7201a8"
             ],
             [
              0.3333333333333333,
              "#9c179e"
             ],
             [
              0.4444444444444444,
              "#bd3786"
             ],
             [
              0.5555555555555556,
              "#d8576b"
             ],
             [
              0.6666666666666666,
              "#ed7953"
             ],
             [
              0.7777777777777778,
              "#fb9f3a"
             ],
             [
              0.8888888888888888,
              "#fdca26"
             ],
             [
              1,
              "#f0f921"
             ]
            ],
            "type": "histogram2d"
           }
          ],
          "histogram2dcontour": [
           {
            "colorbar": {
             "outlinewidth": 0,
             "ticks": ""
            },
            "colorscale": [
             [
              0,
              "#0d0887"
             ],
             [
              0.1111111111111111,
              "#46039f"
             ],
             [
              0.2222222222222222,
              "#7201a8"
             ],
             [
              0.3333333333333333,
              "#9c179e"
             ],
             [
              0.4444444444444444,
              "#bd3786"
             ],
             [
              0.5555555555555556,
              "#d8576b"
             ],
             [
              0.6666666666666666,
              "#ed7953"
             ],
             [
              0.7777777777777778,
              "#fb9f3a"
             ],
             [
              0.8888888888888888,
              "#fdca26"
             ],
             [
              1,
              "#f0f921"
             ]
            ],
            "type": "histogram2dcontour"
           }
          ],
          "mesh3d": [
           {
            "colorbar": {
             "outlinewidth": 0,
             "ticks": ""
            },
            "type": "mesh3d"
           }
          ],
          "parcoords": [
           {
            "line": {
             "colorbar": {
              "outlinewidth": 0,
              "ticks": ""
             }
            },
            "type": "parcoords"
           }
          ],
          "pie": [
           {
            "automargin": true,
            "type": "pie"
           }
          ],
          "scatter": [
           {
            "marker": {
             "line": {
              "color": "#283442"
             }
            },
            "type": "scatter"
           }
          ],
          "scatter3d": [
           {
            "line": {
             "colorbar": {
              "outlinewidth": 0,
              "ticks": ""
             }
            },
            "marker": {
             "colorbar": {
              "outlinewidth": 0,
              "ticks": ""
             }
            },
            "type": "scatter3d"
           }
          ],
          "scattercarpet": [
           {
            "marker": {
             "colorbar": {
              "outlinewidth": 0,
              "ticks": ""
             }
            },
            "type": "scattercarpet"
           }
          ],
          "scattergeo": [
           {
            "marker": {
             "colorbar": {
              "outlinewidth": 0,
              "ticks": ""
             }
            },
            "type": "scattergeo"
           }
          ],
          "scattergl": [
           {
            "marker": {
             "line": {
              "color": "#283442"
             }
            },
            "type": "scattergl"
           }
          ],
          "scattermapbox": [
           {
            "marker": {
             "colorbar": {
              "outlinewidth": 0,
              "ticks": ""
             }
            },
            "type": "scattermapbox"
           }
          ],
          "scatterpolar": [
           {
            "marker": {
             "colorbar": {
              "outlinewidth": 0,
              "ticks": ""
             }
            },
            "type": "scatterpolar"
           }
          ],
          "scatterpolargl": [
           {
            "marker": {
             "colorbar": {
              "outlinewidth": 0,
              "ticks": ""
             }
            },
            "type": "scatterpolargl"
           }
          ],
          "scatterternary": [
           {
            "marker": {
             "colorbar": {
              "outlinewidth": 0,
              "ticks": ""
             }
            },
            "type": "scatterternary"
           }
          ],
          "surface": [
           {
            "colorbar": {
             "outlinewidth": 0,
             "ticks": ""
            },
            "colorscale": [
             [
              0,
              "#0d0887"
             ],
             [
              0.1111111111111111,
              "#46039f"
             ],
             [
              0.2222222222222222,
              "#7201a8"
             ],
             [
              0.3333333333333333,
              "#9c179e"
             ],
             [
              0.4444444444444444,
              "#bd3786"
             ],
             [
              0.5555555555555556,
              "#d8576b"
             ],
             [
              0.6666666666666666,
              "#ed7953"
             ],
             [
              0.7777777777777778,
              "#fb9f3a"
             ],
             [
              0.8888888888888888,
              "#fdca26"
             ],
             [
              1,
              "#f0f921"
             ]
            ],
            "type": "surface"
           }
          ],
          "table": [
           {
            "cells": {
             "fill": {
              "color": "#506784"
             },
             "line": {
              "color": "rgb(17,17,17)"
             }
            },
            "header": {
             "fill": {
              "color": "#2a3f5f"
             },
             "line": {
              "color": "rgb(17,17,17)"
             }
            },
            "type": "table"
           }
          ]
         },
         "layout": {
          "annotationdefaults": {
           "arrowcolor": "#f2f5fa",
           "arrowhead": 0,
           "arrowwidth": 1
          },
          "autotypenumbers": "strict",
          "coloraxis": {
           "colorbar": {
            "outlinewidth": 0,
            "ticks": ""
           }
          },
          "colorscale": {
           "diverging": [
            [
             0,
             "#8e0152"
            ],
            [
             0.1,
             "#c51b7d"
            ],
            [
             0.2,
             "#de77ae"
            ],
            [
             0.3,
             "#f1b6da"
            ],
            [
             0.4,
             "#fde0ef"
            ],
            [
             0.5,
             "#f7f7f7"
            ],
            [
             0.6,
             "#e6f5d0"
            ],
            [
             0.7,
             "#b8e186"
            ],
            [
             0.8,
             "#7fbc41"
            ],
            [
             0.9,
             "#4d9221"
            ],
            [
             1,
             "#276419"
            ]
           ],
           "sequential": [
            [
             0,
             "#0d0887"
            ],
            [
             0.1111111111111111,
             "#46039f"
            ],
            [
             0.2222222222222222,
             "#7201a8"
            ],
            [
             0.3333333333333333,
             "#9c179e"
            ],
            [
             0.4444444444444444,
             "#bd3786"
            ],
            [
             0.5555555555555556,
             "#d8576b"
            ],
            [
             0.6666666666666666,
             "#ed7953"
            ],
            [
             0.7777777777777778,
             "#fb9f3a"
            ],
            [
             0.8888888888888888,
             "#fdca26"
            ],
            [
             1,
             "#f0f921"
            ]
           ],
           "sequentialminus": [
            [
             0,
             "#0d0887"
            ],
            [
             0.1111111111111111,
             "#46039f"
            ],
            [
             0.2222222222222222,
             "#7201a8"
            ],
            [
             0.3333333333333333,
             "#9c179e"
            ],
            [
             0.4444444444444444,
             "#bd3786"
            ],
            [
             0.5555555555555556,
             "#d8576b"
            ],
            [
             0.6666666666666666,
             "#ed7953"
            ],
            [
             0.7777777777777778,
             "#fb9f3a"
            ],
            [
             0.8888888888888888,
             "#fdca26"
            ],
            [
             1,
             "#f0f921"
            ]
           ]
          },
          "colorway": [
           "#636efa",
           "#EF553B",
           "#00cc96",
           "#ab63fa",
           "#FFA15A",
           "#19d3f3",
           "#FF6692",
           "#B6E880",
           "#FF97FF",
           "#FECB52"
          ],
          "font": {
           "color": "#f2f5fa"
          },
          "geo": {
           "bgcolor": "rgb(17,17,17)",
           "lakecolor": "rgb(17,17,17)",
           "landcolor": "rgb(17,17,17)",
           "showlakes": true,
           "showland": true,
           "subunitcolor": "#506784"
          },
          "hoverlabel": {
           "align": "left"
          },
          "hovermode": "closest",
          "mapbox": {
           "style": "dark"
          },
          "paper_bgcolor": "rgb(17,17,17)",
          "plot_bgcolor": "rgb(17,17,17)",
          "polar": {
           "angularaxis": {
            "gridcolor": "#506784",
            "linecolor": "#506784",
            "ticks": ""
           },
           "bgcolor": "rgb(17,17,17)",
           "radialaxis": {
            "gridcolor": "#506784",
            "linecolor": "#506784",
            "ticks": ""
           }
          },
          "scene": {
           "xaxis": {
            "backgroundcolor": "rgb(17,17,17)",
            "gridcolor": "#506784",
            "gridwidth": 2,
            "linecolor": "#506784",
            "showbackground": true,
            "ticks": "",
            "zerolinecolor": "#C8D4E3"
           },
           "yaxis": {
            "backgroundcolor": "rgb(17,17,17)",
            "gridcolor": "#506784",
            "gridwidth": 2,
            "linecolor": "#506784",
            "showbackground": true,
            "ticks": "",
            "zerolinecolor": "#C8D4E3"
           },
           "zaxis": {
            "backgroundcolor": "rgb(17,17,17)",
            "gridcolor": "#506784",
            "gridwidth": 2,
            "linecolor": "#506784",
            "showbackground": true,
            "ticks": "",
            "zerolinecolor": "#C8D4E3"
           }
          },
          "shapedefaults": {
           "line": {
            "color": "#f2f5fa"
           }
          },
          "sliderdefaults": {
           "bgcolor": "#C8D4E3",
           "bordercolor": "rgb(17,17,17)",
           "borderwidth": 1,
           "tickwidth": 0
          },
          "ternary": {
           "aaxis": {
            "gridcolor": "#506784",
            "linecolor": "#506784",
            "ticks": ""
           },
           "baxis": {
            "gridcolor": "#506784",
            "linecolor": "#506784",
            "ticks": ""
           },
           "bgcolor": "rgb(17,17,17)",
           "caxis": {
            "gridcolor": "#506784",
            "linecolor": "#506784",
            "ticks": ""
           }
          },
          "title": {
           "x": 0.05
          },
          "updatemenudefaults": {
           "bgcolor": "#506784",
           "borderwidth": 0
          },
          "xaxis": {
           "automargin": true,
           "gridcolor": "#283442",
           "linecolor": "#506784",
           "ticks": "",
           "title": {
            "standoff": 15
           },
           "zerolinecolor": "#283442",
           "zerolinewidth": 2
          },
          "yaxis": {
           "automargin": true,
           "gridcolor": "#283442",
           "linecolor": "#506784",
           "ticks": "",
           "title": {
            "standoff": 15
           },
           "zerolinecolor": "#283442",
           "zerolinewidth": 2
          }
         }
        },
        "title": {
         "text": "Gender Distribution in China in 1972"
        },
        "width": 800
       }
      }
     },
     "metadata": {},
     "output_type": "display_data"
    }
   ],
   "source": [
    "# we need to make a pie chart for each year to specify the percentage of gender \n",
    "\n",
    "fig_pie = go.Figure()\n",
    "fig_pie.add_trace(go.Pie(labels=df2.columns[5:7], values=df2.iloc[3,5:7]\n",
    "                         ),)\n",
    "fig_pie.update_traces(hoverinfo='label+value', textfont_size=10,\n",
    "                      marker=dict(line=dict(color='#000000', width=1 ), ))\n",
    "\n",
    "fig_pie.update_layout(title=f'Gender Distribution in China in {df2[\"Year\"].iloc[3]}',\n",
    "    template=\"plotly_dark\", legend_title=\"Gender\", legend=dict(x=0.80, y=0.90,),height=500, width=800)\n",
    "\n",
    "\n",
    "    \n"
   ]
  },
  {
   "cell_type": "code",
   "execution_count": 45,
   "metadata": {},
   "outputs": [
    {
     "data": {
      "text/plain": [
       "2050.0"
      ]
     },
     "execution_count": 45,
     "metadata": {},
     "output_type": "execute_result"
    }
   ],
   "source": [
    "# index of pyramids data\n",
    "pyramid_data[\"Year\"].max()"
   ]
  },
  {
   "cell_type": "code",
   "execution_count": 46,
   "metadata": {},
   "outputs": [
    {
     "data": {
      "text/plain": [
       "RangeIndex(start=0, stop=82, step=1)"
      ]
     },
     "execution_count": 46,
     "metadata": {},
     "output_type": "execute_result"
    }
   ],
   "source": [
    "#index of df2\n",
    "df2.index"
   ]
  },
  {
   "cell_type": "code",
   "execution_count": 47,
   "metadata": {},
   "outputs": [
    {
     "name": "stdout",
     "output_type": "stream",
     "text": [
      "Dash app running on http://127.0.0.1:8050/\n"
     ]
    }
   ],
   "source": [
    "from dash.dependencies import Input, Output\n",
    "from dash.exceptions import PreventUpdate\n",
    "# dcc\n",
    "from dash import dcc\n",
    "# jupyter dash\n",
    "from jupyter_dash import JupyterDash\n",
    "\n",
    "\n",
    "app = JupyterDash(__name__)\n",
    " # call back to update fig_py when year is changed\n",
    "app.layout = html.Div([\n",
    "    html.H1(\"China Population Pyramid\", style={'text-align': 'center'}),\n",
    "    html.Div([\n",
    "        html.Div([\n",
    "            dcc.Graph(id='fig1', figure=fig_py),\n",
    "            dcc.Graph(id='fig2', figure=fig_pie),\n",
    "            \n",
    "            \n",
    "            \n",
    "            # menu to select year\n",
    "\n",
    "\n",
    "            dcc.Dropdown(\n",
    "                id='year',\n",
    "                options=[{'label':pyramid_data[\"Year\"].iloc[i]    , 'value':i }\n",
    "                         for i in  pyramid_data.index],\n",
    "                style={'width': '100%'},\n",
    "            )\n",
    "\n",
    "\n",
    "        ])])]) \n",
    "\n",
    "@app.callback(\n",
    "    Output(component_id='fig1', component_property='figure'),\n",
    "    Output(component_id='fig2', component_property='figure'),\n",
    "    Input(component_id='year', component_property='value')\n",
    ")\n",
    "\n",
    "def update_figure(year):\n",
    "    if year == None:\n",
    "        raise PreventUpdate\n",
    "    else:\n",
    "        data = [\n",
    "            go.Bar(\n",
    "                x=-pyramid_data.iloc[:,22:].iloc[year],\n",
    "                y=pyramid_data.columns[1:22].str.replace('Female',''),\n",
    "                orientation='h',\n",
    "                name='Male',\n",
    "                marker=dict()\n",
    "\n",
    "            ),\n",
    "            # Create the trace for the female data\n",
    "            go.Bar(\n",
    "                x=pyramid_data.iloc[:,1:22].iloc[year],\n",
    "                 y=pyramid_data.columns[1:22].str.replace('Female',''),\n",
    "                orientation='h',\n",
    "                name='Female',\n",
    "                marker=dict(),\n",
    "                hovertemplate='%{y} %{x} <extra></extra>',\n",
    "                hoverinfo='text'\n",
    "            )]\n",
    "        \n",
    "      \n",
    "        fig_py = go.Figure(data=data, layout=go.Layout(\n",
    "            title='Age Distribution in China  ',\n",
    "            xaxis_title='Population',\n",
    "            yaxis_title='Age Group',\n",
    "            barmode='relative',\n",
    "            bargap=.1,\n",
    "            width=800,\n",
    "            height=500,\n",
    "            margin=dict(l=100, r=100, t=50, b=50),\n",
    "            template=\"plotly_dark\",\n",
    "        ))\n",
    "        fig_py.update_layout(\n",
    "        title=f'Age Distribution in China in {pyramid_data[\"Year\"].iloc[year].astype(int)} ',\n",
    "        xaxis_title='Population',\n",
    "        yaxis_title='Age Group',\n",
    "        barmode='relative',\n",
    "        bargap=.1,\n",
    "        width=800,\n",
    "        height=500,\n",
    "        margin=dict(l=100, r=100, t=50, b=50),\n",
    "        template=\"plotly_dark\", \n",
    "        xaxis=go.layout.XAxis( \n",
    "        tickvals=[-60000000, -40000000, -20000000, 0, 20000000, 40000000, 60000000],                      \n",
    "        ticktext=[\"60M\", \"40M\", \"20M\", \"0\", \"20M\",\n",
    "                                    \"40M\", '60M'],) \n",
    ")\n",
    "        \n",
    "        \n",
    "        \n",
    "        fig_pie = go.Figure()\n",
    "        fig_pie.add_trace(go.Pie(labels=df2.columns[5:7],\n",
    "                                 values=df2.iloc[year,5:7]  ),)\n",
    "        \n",
    "        \n",
    "        fig_pie.update_traces(hoverinfo='label+value', textfont_size=10,\n",
    "                      marker=dict(line=dict(color='#000000', width=1 ),  ))\n",
    "        \n",
    "\n",
    "        fig_pie.update_layout(title=f'Gender Distribution in China in {pyramid_data[\"Year\"].iloc[year].astype(int)}',\n",
    "            template=\"plotly_dark\", legend_title=\"Gender\",\n",
    "            legend=dict(x=0.80, y=0.90,),height=500, width=800)\n",
    "    return fig_py , fig_pie\n",
    "\n",
    "\n",
    "\n",
    "\n",
    "\n",
    "\n",
    "    \n",
    "\n",
    "app.run_server()\n",
    "\n",
    "\n",
    "\n"
   ]
  },
  {
   "attachments": {},
   "cell_type": "markdown",
   "metadata": {},
   "source": [
    "`Banes`"
   ]
  },
  {
   "cell_type": "code",
   "execution_count": 48,
   "metadata": {},
   "outputs": [],
   "source": [
    "#BAN 1 : Total pop\n",
    "#Ratio from world pop\n",
    "\n",
    "#*********************\n",
    "\n",
    "#BAN 2 : GDP\n",
    "\n",
    "\n",
    "#*********************\n",
    "\n"
   ]
  },
  {
   "attachments": {},
   "cell_type": "markdown",
   "metadata": {},
   "source": [
    "# `Implemnent Dash`"
   ]
  },
  {
   "cell_type": "code",
   "execution_count": null,
   "metadata": {},
   "outputs": [],
   "source": [
    "\n"
   ]
  }
 ],
 "metadata": {
  "kernelspec": {
   "display_name": "base",
   "language": "python",
   "name": "python3"
  },
  "language_info": {
   "codemirror_mode": {
    "name": "ipython",
    "version": 3
   },
   "file_extension": ".py",
   "mimetype": "text/x-python",
   "name": "python",
   "nbconvert_exporter": "python",
   "pygments_lexer": "ipython3",
   "version": "3.8.8"
  },
  "orig_nbformat": 4
 },
 "nbformat": 4,
 "nbformat_minor": 2
}
