{
 "cells": [
  {
   "cell_type": "markdown",
   "metadata": {
    "tags": []
   },
   "source": [
    "# **China Plotly Dash**\n",
    "\n",
    "---"
   ]
  },
  {
   "cell_type": "markdown",
   "metadata": {},
   "source": [
    "# `01` Fetch Data"
   ]
  },
  {
   "cell_type": "code",
   "execution_count": 1,
   "metadata": {},
   "outputs": [],
   "source": [
    "THEME = 'plotly_white'"
   ]
  },
  {
   "cell_type": "markdown",
   "metadata": {},
   "source": [
    "### `i` Import Necessary Libraries"
   ]
  },
  {
   "cell_type": "code",
   "execution_count": 2,
   "metadata": {},
   "outputs": [],
   "source": [
    "import pandas as pd # to handle dataframes\n",
    "import matplotlib.pyplot as plt # to make plots\n",
    "\n",
    "# plotly\n",
    "import plotly.graph_objects as go\n",
    "import plotly.express as px\n",
    "import plotly.io as pio\n",
    "# jupyter-dash\n",
    "from jupyter_dash import JupyterDash\n",
    "# html\n",
    "from dash import html\n",
    "import dash_bootstrap_components as dbc"
   ]
  },
  {
   "cell_type": "markdown",
   "metadata": {},
   "source": [
    "### `ii` Read & Pre process the Data"
   ]
  },
  {
   "cell_type": "markdown",
   "metadata": {},
   "source": [
    "### `Population Data`"
   ]
  },
  {
   "cell_type": "code",
   "execution_count": 3,
   "metadata": {},
   "outputs": [
    {
     "data": {
      "text/html": [
       "<div>\n",
       "<style scoped>\n",
       "    .dataframe tbody tr th:only-of-type {\n",
       "        vertical-align: middle;\n",
       "    }\n",
       "\n",
       "    .dataframe tbody tr th {\n",
       "        vertical-align: top;\n",
       "    }\n",
       "\n",
       "    .dataframe thead th {\n",
       "        text-align: right;\n",
       "    }\n",
       "</style>\n",
       "<table border=\"1\" class=\"dataframe\">\n",
       "  <thead>\n",
       "    <tr style=\"text-align: right;\">\n",
       "      <th></th>\n",
       "      <th>Year</th>\n",
       "      <th>Urban population (% of total population)</th>\n",
       "      <th>Sex ratio at birth (male births per female births)</th>\n",
       "      <th>Rural population (% of total population)</th>\n",
       "      <th>Population, total</th>\n",
       "      <th>Population, male (% of total population)</th>\n",
       "      <th>Population, female (% of total population)</th>\n",
       "      <th>Population growth (annual %)</th>\n",
       "      <th>Population ages 65 and above (% of total population)</th>\n",
       "      <th>Net migration</th>\n",
       "      <th>Mortality rate, infant (per 1,000 live births)</th>\n",
       "      <th>Fertility rate, total (births per woman)</th>\n",
       "      <th>Death rate, crude (per 1,000 people)</th>\n",
       "      <th>Birth rate, crude (per 1,000 people)</th>\n",
       "      <th>Age dependency ratio (% of working-age population)</th>\n",
       "    </tr>\n",
       "  </thead>\n",
       "  <tbody>\n",
       "    <tr>\n",
       "      <th>0</th>\n",
       "      <td>1969</td>\n",
       "      <td>17.528</td>\n",
       "      <td>1.063</td>\n",
       "      <td>82.472</td>\n",
       "      <td>796025000</td>\n",
       "      <td>50.959032</td>\n",
       "      <td>49.040968</td>\n",
       "      <td>2.74000210569558</td>\n",
       "      <td>3.687490</td>\n",
       "      <td>-72835</td>\n",
       "      <td>83.4</td>\n",
       "      <td>6.175</td>\n",
       "      <td>8.030</td>\n",
       "      <td>34.110</td>\n",
       "      <td>80.961979</td>\n",
       "    </tr>\n",
       "    <tr>\n",
       "      <th>1</th>\n",
       "      <td>1970</td>\n",
       "      <td>17.400</td>\n",
       "      <td>1.064</td>\n",
       "      <td>82.600</td>\n",
       "      <td>818315000</td>\n",
       "      <td>50.954552</td>\n",
       "      <td>49.045448</td>\n",
       "      <td>2.76167556645304</td>\n",
       "      <td>3.712521</td>\n",
       "      <td>-126514</td>\n",
       "      <td>79.7</td>\n",
       "      <td>6.085</td>\n",
       "      <td>7.600</td>\n",
       "      <td>33.430</td>\n",
       "      <td>80.524027</td>\n",
       "    </tr>\n",
       "    <tr>\n",
       "      <th>2</th>\n",
       "      <td>1971</td>\n",
       "      <td>17.292</td>\n",
       "      <td>1.064</td>\n",
       "      <td>82.708</td>\n",
       "      <td>841105000</td>\n",
       "      <td>50.952559</td>\n",
       "      <td>49.047441</td>\n",
       "      <td>2.74691554961857</td>\n",
       "      <td>3.743416</td>\n",
       "      <td>-180202</td>\n",
       "      <td>76.0</td>\n",
       "      <td>5.523</td>\n",
       "      <td>7.320</td>\n",
       "      <td>30.650</td>\n",
       "      <td>80.188208</td>\n",
       "    </tr>\n",
       "    <tr>\n",
       "      <th>3</th>\n",
       "      <td>1972</td>\n",
       "      <td>17.184</td>\n",
       "      <td>1.064</td>\n",
       "      <td>82.816</td>\n",
       "      <td>862030000</td>\n",
       "      <td>50.951571</td>\n",
       "      <td>49.048429</td>\n",
       "      <td>2.45735692952286</td>\n",
       "      <td>3.777798</td>\n",
       "      <td>-215730</td>\n",
       "      <td>72.5</td>\n",
       "      <td>5.112</td>\n",
       "      <td>7.610</td>\n",
       "      <td>29.770</td>\n",
       "      <td>79.481177</td>\n",
       "    </tr>\n",
       "    <tr>\n",
       "      <th>4</th>\n",
       "      <td>1973</td>\n",
       "      <td>17.184</td>\n",
       "      <td>1.064</td>\n",
       "      <td>82.816</td>\n",
       "      <td>881940000</td>\n",
       "      <td>50.950011</td>\n",
       "      <td>49.049989</td>\n",
       "      <td>2.28339536396383</td>\n",
       "      <td>3.821944</td>\n",
       "      <td>-215090</td>\n",
       "      <td>68.9</td>\n",
       "      <td>4.726</td>\n",
       "      <td>7.040</td>\n",
       "      <td>27.930</td>\n",
       "      <td>78.831239</td>\n",
       "    </tr>\n",
       "    <tr>\n",
       "      <th>...</th>\n",
       "      <td>...</td>\n",
       "      <td>...</td>\n",
       "      <td>...</td>\n",
       "      <td>...</td>\n",
       "      <td>...</td>\n",
       "      <td>...</td>\n",
       "      <td>...</td>\n",
       "      <td>...</td>\n",
       "      <td>...</td>\n",
       "      <td>...</td>\n",
       "      <td>...</td>\n",
       "      <td>...</td>\n",
       "      <td>...</td>\n",
       "      <td>...</td>\n",
       "      <td>...</td>\n",
       "    </tr>\n",
       "    <tr>\n",
       "      <th>77</th>\n",
       "      <td>2046</td>\n",
       "      <td>78.668</td>\n",
       "      <td>NaN</td>\n",
       "      <td>21.332</td>\n",
       "      <td>1324005376</td>\n",
       "      <td>50.596529</td>\n",
       "      <td>49.403471</td>\n",
       "      <td>NaN</td>\n",
       "      <td>28.244694</td>\n",
       "      <td>-309858</td>\n",
       "      <td>NaN</td>\n",
       "      <td>NaN</td>\n",
       "      <td>NaN</td>\n",
       "      <td>NaN</td>\n",
       "      <td>65.396339</td>\n",
       "    </tr>\n",
       "    <tr>\n",
       "      <th>78</th>\n",
       "      <td>2047</td>\n",
       "      <td>79.015</td>\n",
       "      <td>NaN</td>\n",
       "      <td>20.985</td>\n",
       "      <td>1316440704</td>\n",
       "      <td>50.600078</td>\n",
       "      <td>49.399922</td>\n",
       "      <td>NaN</td>\n",
       "      <td>28.734824</td>\n",
       "      <td>-309950</td>\n",
       "      <td>NaN</td>\n",
       "      <td>NaN</td>\n",
       "      <td>NaN</td>\n",
       "      <td>NaN</td>\n",
       "      <td>66.910389</td>\n",
       "    </tr>\n",
       "    <tr>\n",
       "      <th>79</th>\n",
       "      <td>2048</td>\n",
       "      <td>79.356</td>\n",
       "      <td>NaN</td>\n",
       "      <td>20.644</td>\n",
       "      <td>1308359168</td>\n",
       "      <td>50.605175</td>\n",
       "      <td>49.394825</td>\n",
       "      <td>NaN</td>\n",
       "      <td>29.194070</td>\n",
       "      <td>-309963</td>\n",
       "      <td>NaN</td>\n",
       "      <td>NaN</td>\n",
       "      <td>NaN</td>\n",
       "      <td>NaN</td>\n",
       "      <td>68.333875</td>\n",
       "    </tr>\n",
       "    <tr>\n",
       "      <th>80</th>\n",
       "      <td>2049</td>\n",
       "      <td>79.694</td>\n",
       "      <td>NaN</td>\n",
       "      <td>20.306</td>\n",
       "      <td>1299769472</td>\n",
       "      <td>50.611380</td>\n",
       "      <td>49.388620</td>\n",
       "      <td>NaN</td>\n",
       "      <td>29.602871</td>\n",
       "      <td>-309963</td>\n",
       "      <td>NaN</td>\n",
       "      <td>NaN</td>\n",
       "      <td>NaN</td>\n",
       "      <td>NaN</td>\n",
       "      <td>69.596951</td>\n",
       "    </tr>\n",
       "    <tr>\n",
       "      <th>81</th>\n",
       "      <td>2050</td>\n",
       "      <td>80.028</td>\n",
       "      <td>1.061</td>\n",
       "      <td>19.972</td>\n",
       "      <td>1290472576</td>\n",
       "      <td>50.618315</td>\n",
       "      <td>49.381685</td>\n",
       "      <td>NaN</td>\n",
       "      <td>30.090291</td>\n",
       "      <td>-309963</td>\n",
       "      <td>NaN</td>\n",
       "      <td>1.391</td>\n",
       "      <td>13.225</td>\n",
       "      <td>6.896</td>\n",
       "      <td>71.055869</td>\n",
       "    </tr>\n",
       "  </tbody>\n",
       "</table>\n",
       "<p>82 rows × 15 columns</p>\n",
       "</div>"
      ],
      "text/plain": [
       "    Year  Urban population (% of total population)  \\\n",
       "0   1969                                    17.528   \n",
       "1   1970                                    17.400   \n",
       "2   1971                                    17.292   \n",
       "3   1972                                    17.184   \n",
       "4   1973                                    17.184   \n",
       "..   ...                                       ...   \n",
       "77  2046                                    78.668   \n",
       "78  2047                                    79.015   \n",
       "79  2048                                    79.356   \n",
       "80  2049                                    79.694   \n",
       "81  2050                                    80.028   \n",
       "\n",
       "    Sex ratio at birth (male births per female births)   \\\n",
       "0                                               1.063     \n",
       "1                                               1.064     \n",
       "2                                               1.064     \n",
       "3                                               1.064     \n",
       "4                                               1.064     \n",
       "..                                                ...     \n",
       "77                                                NaN     \n",
       "78                                                NaN     \n",
       "79                                                NaN     \n",
       "80                                                NaN     \n",
       "81                                              1.061     \n",
       "\n",
       "    Rural population (% of total population)  Population, total  \\\n",
       "0                                     82.472          796025000   \n",
       "1                                     82.600          818315000   \n",
       "2                                     82.708          841105000   \n",
       "3                                     82.816          862030000   \n",
       "4                                     82.816          881940000   \n",
       "..                                       ...                ...   \n",
       "77                                    21.332         1324005376   \n",
       "78                                    20.985         1316440704   \n",
       "79                                    20.644         1308359168   \n",
       "80                                    20.306         1299769472   \n",
       "81                                    19.972         1290472576   \n",
       "\n",
       "    Population, male (% of total population)   \\\n",
       "0                                   50.959032   \n",
       "1                                   50.954552   \n",
       "2                                   50.952559   \n",
       "3                                   50.951571   \n",
       "4                                   50.950011   \n",
       "..                                        ...   \n",
       "77                                  50.596529   \n",
       "78                                  50.600078   \n",
       "79                                  50.605175   \n",
       "80                                  50.611380   \n",
       "81                                  50.618315   \n",
       "\n",
       "    Population, female (% of total population) Population growth (annual %)  \\\n",
       "0                                    49.040968             2.74000210569558   \n",
       "1                                    49.045448             2.76167556645304   \n",
       "2                                    49.047441             2.74691554961857   \n",
       "3                                    49.048429             2.45735692952286   \n",
       "4                                    49.049989             2.28339536396383   \n",
       "..                                         ...                          ...   \n",
       "77                                   49.403471                          NaN   \n",
       "78                                   49.399922                          NaN   \n",
       "79                                   49.394825                          NaN   \n",
       "80                                   49.388620                          NaN   \n",
       "81                                   49.381685                          NaN   \n",
       "\n",
       "    Population ages 65 and above (% of total population)  Net migration  \\\n",
       "0                                            3.687490            -72835   \n",
       "1                                            3.712521           -126514   \n",
       "2                                            3.743416           -180202   \n",
       "3                                            3.777798           -215730   \n",
       "4                                            3.821944           -215090   \n",
       "..                                                ...               ...   \n",
       "77                                          28.244694           -309858   \n",
       "78                                          28.734824           -309950   \n",
       "79                                          29.194070           -309963   \n",
       "80                                          29.602871           -309963   \n",
       "81                                          30.090291           -309963   \n",
       "\n",
       "    Mortality rate, infant (per 1,000 live births)  \\\n",
       "0                                             83.4   \n",
       "1                                             79.7   \n",
       "2                                             76.0   \n",
       "3                                             72.5   \n",
       "4                                             68.9   \n",
       "..                                             ...   \n",
       "77                                             NaN   \n",
       "78                                             NaN   \n",
       "79                                             NaN   \n",
       "80                                             NaN   \n",
       "81                                             NaN   \n",
       "\n",
       "    Fertility rate, total (births per woman)  \\\n",
       "0                                      6.175   \n",
       "1                                      6.085   \n",
       "2                                      5.523   \n",
       "3                                      5.112   \n",
       "4                                      4.726   \n",
       "..                                       ...   \n",
       "77                                       NaN   \n",
       "78                                       NaN   \n",
       "79                                       NaN   \n",
       "80                                       NaN   \n",
       "81                                     1.391   \n",
       "\n",
       "    Death rate, crude (per 1,000 people)  \\\n",
       "0                                  8.030   \n",
       "1                                  7.600   \n",
       "2                                  7.320   \n",
       "3                                  7.610   \n",
       "4                                  7.040   \n",
       "..                                   ...   \n",
       "77                                   NaN   \n",
       "78                                   NaN   \n",
       "79                                   NaN   \n",
       "80                                   NaN   \n",
       "81                                13.225   \n",
       "\n",
       "    Birth rate, crude (per 1,000 people)  \\\n",
       "0                                 34.110   \n",
       "1                                 33.430   \n",
       "2                                 30.650   \n",
       "3                                 29.770   \n",
       "4                                 27.930   \n",
       "..                                   ...   \n",
       "77                                   NaN   \n",
       "78                                   NaN   \n",
       "79                                   NaN   \n",
       "80                                   NaN   \n",
       "81                                 6.896   \n",
       "\n",
       "    Age dependency ratio (% of working-age population)  \n",
       "0                                           80.961979   \n",
       "1                                           80.524027   \n",
       "2                                           80.188208   \n",
       "3                                           79.481177   \n",
       "4                                           78.831239   \n",
       "..                                                ...   \n",
       "77                                          65.396339   \n",
       "78                                          66.910389   \n",
       "79                                          68.333875   \n",
       "80                                          69.596951   \n",
       "81                                          71.055869   \n",
       "\n",
       "[82 rows x 15 columns]"
      ]
     },
     "execution_count": 3,
     "metadata": {},
     "output_type": "execute_result"
    }
   ],
   "source": [
    "df = pd.read_csv('Data/China demographics 1965-2050.csv', na_values='..')\n",
    "df"
   ]
  },
  {
   "cell_type": "code",
   "execution_count": 4,
   "metadata": {},
   "outputs": [
    {
     "data": {
      "text/plain": [
       "Year                                                     0\n",
       "Urban population (% of total population)                 0\n",
       "Sex ratio at birth (male births per female births)      24\n",
       "Rural population (% of total population)                 0\n",
       "Population, total                                        0\n",
       "Population, male (% of total population)                 0\n",
       "Population, female (% of total population)               0\n",
       "Population growth (annual %)                            28\n",
       "Population ages 65 and above (% of total population)     0\n",
       "Net migration                                            0\n",
       "Mortality rate, infant (per 1,000 live births)          29\n",
       "Fertility rate, total (births per woman)                23\n",
       "Death rate, crude (per 1,000 people)                    22\n",
       "Birth rate, crude (per 1,000 people)                    22\n",
       "Age dependency ratio (% of working-age population)       0\n",
       "dtype: int64"
      ]
     },
     "execution_count": 4,
     "metadata": {},
     "output_type": "execute_result"
    }
   ],
   "source": [
    "df.isna().sum()"
   ]
  },
  {
   "cell_type": "code",
   "execution_count": 5,
   "metadata": {},
   "outputs": [
    {
     "data": {
      "text/plain": [
       "Year                                                     0\n",
       "Urban population (% of total population)                 0\n",
       "Sex ratio at birth (male births per female births)       0\n",
       "Rural population (% of total population)                 0\n",
       "Population, total                                        0\n",
       "Population, male (% of total population)                 0\n",
       "Population, female (% of total population)               0\n",
       "Population growth (annual %)                            28\n",
       "Population ages 65 and above (% of total population)     0\n",
       "Net migration                                            0\n",
       "Mortality rate, infant (per 1,000 live births)           0\n",
       "Fertility rate, total (births per woman)                 0\n",
       "Death rate, crude (per 1,000 people)                     0\n",
       "Birth rate, crude (per 1,000 people)                     0\n",
       "Age dependency ratio (% of working-age population)       0\n",
       "dtype: int64"
      ]
     },
     "execution_count": 5,
     "metadata": {},
     "output_type": "execute_result"
    }
   ],
   "source": [
    "# Interpolating to fill missing values \n",
    "df = df.interpolate('linear')\n",
    "df.isna().sum()"
   ]
  },
  {
   "cell_type": "code",
   "execution_count": 6,
   "metadata": {},
   "outputs": [],
   "source": [
    "# Renaming columns and re-arranging them\n",
    "columns_names = {\n",
    "    'Urban population (% of total population)': 'Urban Population Percentage',\n",
    "    'Sex ratio at birth (male births per female births) ': 'Gender ratio at birth M/F',\n",
    "    'Rural population (% of total population)': 'Rural Population Percentage',\n",
    "    'Population, total': 'Population',\n",
    "    'Population, male (% of total population) ': 'Male Percentage',\n",
    "    'Population, female (% of total population)': 'Female Percentage',\n",
    "    'Population growth (annual %)': 'Annual Growth Rate',\n",
    "    'Population ages 65 and above (% of total population)': 'Population Above 65 Percentage',\n",
    "    'Net migration': 'Net Migration',\n",
    "    'Mortality rate, infant (per 1,000 live births)': 'Infant Mortality Rate',\n",
    "    'Fertility rate, total (births per woman)': 'Fertility Rate',\n",
    "    'Death rate, crude (per 1,000 people)': 'Deaths per 1000 People',\n",
    "    'Birth rate, crude (per 1,000 people)': 'Births per 1000 People',\n",
    "    'Age dependency ratio (% of working-age population)':'Age Dependency Ratio',\n",
    "    \n",
    "#     'Year': 'date',\n",
    "#     'Population, total [SP.POP.TOTL]': 'Population',\n",
    "#     'Population growth (annual %) [SP.POP.GROW]': 'Annual Growth Rate',\n",
    "#     'Birth rate, crude (per 1,000 people) [SP.DYN.CBRT.IN]': 'Births per 1000 People',\n",
    "#     'Death rate, crude (per 1,000 people) [SP.DYN.CDRT.IN]' : 'Deaths per 1000 People',\n",
    "#     'Net migration [SM.POP.NETM]': 'Net Migration',\n",
    "#     'Urban population (% of total population) [SP.URB.TOTL.IN.ZS]': 'Urban Population Percentage',\n",
    "#     'Rural population (% of total population) [SP.RUR.TOTL.ZS]': 'Rural Population Percentage',\n",
    "#     'Sex ratio at birth (male births per female births) [SP.POP.BRTH.MF]': 'Sex ratio at birth M/F',\n",
    "#     'Population ages 65 and above (% of total population) [SP.POP.65UP.TO.ZS]': 'Population Above 65 Percentage',\n",
    "#     'Fertility rate, total (births per woman) [SP.DYN.TFRT.IN]': 'Fertility Rate',\n",
    "#     'Age dependency ratio (% of working-age population) [SP.POP.DPND]': 'Age Dependency Ratio',\n",
    "#     'Mortality rate, infant (per 1,000 live births) [SP.DYN.IMRT.IN]': 'Infant Mortality Rate'\n",
    "}\n",
    "columns_reordered = ['Year',\n",
    "                     'Population',\n",
    "                     'Annual Growth Rate',\n",
    "                     'Births per 1000 People',\t\n",
    "                     'Deaths per 1000 People',\n",
    "                     'Male Percentage',\n",
    "                     'Female Percentage',\n",
    "                     'Gender ratio at birth M/F',\n",
    "                     'Population Above 65 Percentage',\n",
    "                     'Net Migration',\n",
    "                     'Infant Mortality Rate',\n",
    "                     'Fertility Rate',\n",
    "                     'Age Dependency Ratio',\n",
    "                     'Urban Population Percentage',\n",
    "                     'Rural Population Percentage'\n",
    "                    ]"
   ]
  },
  {
   "cell_type": "code",
   "execution_count": 7,
   "metadata": {},
   "outputs": [
    {
     "data": {
      "text/html": [
       "<div>\n",
       "<style scoped>\n",
       "    .dataframe tbody tr th:only-of-type {\n",
       "        vertical-align: middle;\n",
       "    }\n",
       "\n",
       "    .dataframe tbody tr th {\n",
       "        vertical-align: top;\n",
       "    }\n",
       "\n",
       "    .dataframe thead th {\n",
       "        text-align: right;\n",
       "    }\n",
       "</style>\n",
       "<table border=\"1\" class=\"dataframe\">\n",
       "  <thead>\n",
       "    <tr style=\"text-align: right;\">\n",
       "      <th></th>\n",
       "      <th>Year</th>\n",
       "      <th>Population</th>\n",
       "      <th>Annual Growth Rate</th>\n",
       "      <th>Births per 1000 People</th>\n",
       "      <th>Deaths per 1000 People</th>\n",
       "      <th>Male Percentage</th>\n",
       "      <th>Female Percentage</th>\n",
       "      <th>Gender ratio at birth M/F</th>\n",
       "      <th>Population Above 65 Percentage</th>\n",
       "      <th>Net Migration</th>\n",
       "      <th>Infant Mortality Rate</th>\n",
       "      <th>Fertility Rate</th>\n",
       "      <th>Age Dependency Ratio</th>\n",
       "      <th>Urban Population Percentage</th>\n",
       "      <th>Rural Population Percentage</th>\n",
       "    </tr>\n",
       "  </thead>\n",
       "  <tbody>\n",
       "    <tr>\n",
       "      <th>0</th>\n",
       "      <td>1969</td>\n",
       "      <td>796025000</td>\n",
       "      <td>2.74000210569558</td>\n",
       "      <td>34.1100</td>\n",
       "      <td>8.0300</td>\n",
       "      <td>50.959032</td>\n",
       "      <td>49.040968</td>\n",
       "      <td>1.0630</td>\n",
       "      <td>3.687490</td>\n",
       "      <td>-72835</td>\n",
       "      <td>83.4</td>\n",
       "      <td>6.1750</td>\n",
       "      <td>80.961979</td>\n",
       "      <td>17.528</td>\n",
       "      <td>82.472</td>\n",
       "    </tr>\n",
       "    <tr>\n",
       "      <th>1</th>\n",
       "      <td>1970</td>\n",
       "      <td>818315000</td>\n",
       "      <td>2.76167556645304</td>\n",
       "      <td>33.4300</td>\n",
       "      <td>7.6000</td>\n",
       "      <td>50.954552</td>\n",
       "      <td>49.045448</td>\n",
       "      <td>1.0640</td>\n",
       "      <td>3.712521</td>\n",
       "      <td>-126514</td>\n",
       "      <td>79.7</td>\n",
       "      <td>6.0850</td>\n",
       "      <td>80.524027</td>\n",
       "      <td>17.400</td>\n",
       "      <td>82.600</td>\n",
       "    </tr>\n",
       "    <tr>\n",
       "      <th>2</th>\n",
       "      <td>1971</td>\n",
       "      <td>841105000</td>\n",
       "      <td>2.74691554961857</td>\n",
       "      <td>30.6500</td>\n",
       "      <td>7.3200</td>\n",
       "      <td>50.952559</td>\n",
       "      <td>49.047441</td>\n",
       "      <td>1.0640</td>\n",
       "      <td>3.743416</td>\n",
       "      <td>-180202</td>\n",
       "      <td>76.0</td>\n",
       "      <td>5.5230</td>\n",
       "      <td>80.188208</td>\n",
       "      <td>17.292</td>\n",
       "      <td>82.708</td>\n",
       "    </tr>\n",
       "    <tr>\n",
       "      <th>3</th>\n",
       "      <td>1972</td>\n",
       "      <td>862030000</td>\n",
       "      <td>2.45735692952286</td>\n",
       "      <td>29.7700</td>\n",
       "      <td>7.6100</td>\n",
       "      <td>50.951571</td>\n",
       "      <td>49.048429</td>\n",
       "      <td>1.0640</td>\n",
       "      <td>3.777798</td>\n",
       "      <td>-215730</td>\n",
       "      <td>72.5</td>\n",
       "      <td>5.1120</td>\n",
       "      <td>79.481177</td>\n",
       "      <td>17.184</td>\n",
       "      <td>82.816</td>\n",
       "    </tr>\n",
       "    <tr>\n",
       "      <th>4</th>\n",
       "      <td>1973</td>\n",
       "      <td>881940000</td>\n",
       "      <td>2.28339536396383</td>\n",
       "      <td>27.9300</td>\n",
       "      <td>7.0400</td>\n",
       "      <td>50.950011</td>\n",
       "      <td>49.049989</td>\n",
       "      <td>1.0640</td>\n",
       "      <td>3.821944</td>\n",
       "      <td>-215090</td>\n",
       "      <td>68.9</td>\n",
       "      <td>4.7260</td>\n",
       "      <td>78.831239</td>\n",
       "      <td>17.184</td>\n",
       "      <td>82.816</td>\n",
       "    </tr>\n",
       "    <tr>\n",
       "      <th>...</th>\n",
       "      <td>...</td>\n",
       "      <td>...</td>\n",
       "      <td>...</td>\n",
       "      <td>...</td>\n",
       "      <td>...</td>\n",
       "      <td>...</td>\n",
       "      <td>...</td>\n",
       "      <td>...</td>\n",
       "      <td>...</td>\n",
       "      <td>...</td>\n",
       "      <td>...</td>\n",
       "      <td>...</td>\n",
       "      <td>...</td>\n",
       "      <td>...</td>\n",
       "      <td>...</td>\n",
       "    </tr>\n",
       "    <tr>\n",
       "      <th>77</th>\n",
       "      <td>2046</td>\n",
       "      <td>1324005376</td>\n",
       "      <td>NaN</td>\n",
       "      <td>7.4216</td>\n",
       "      <td>12.2698</td>\n",
       "      <td>50.596529</td>\n",
       "      <td>49.403471</td>\n",
       "      <td>1.0618</td>\n",
       "      <td>28.244694</td>\n",
       "      <td>-309858</td>\n",
       "      <td>5.1</td>\n",
       "      <td>1.3694</td>\n",
       "      <td>65.396339</td>\n",
       "      <td>78.668</td>\n",
       "      <td>21.332</td>\n",
       "    </tr>\n",
       "    <tr>\n",
       "      <th>78</th>\n",
       "      <td>2047</td>\n",
       "      <td>1316440704</td>\n",
       "      <td>NaN</td>\n",
       "      <td>7.2902</td>\n",
       "      <td>12.5086</td>\n",
       "      <td>50.600078</td>\n",
       "      <td>49.399922</td>\n",
       "      <td>1.0616</td>\n",
       "      <td>28.734824</td>\n",
       "      <td>-309950</td>\n",
       "      <td>5.1</td>\n",
       "      <td>1.3748</td>\n",
       "      <td>66.910389</td>\n",
       "      <td>79.015</td>\n",
       "      <td>20.985</td>\n",
       "    </tr>\n",
       "    <tr>\n",
       "      <th>79</th>\n",
       "      <td>2048</td>\n",
       "      <td>1308359168</td>\n",
       "      <td>NaN</td>\n",
       "      <td>7.1588</td>\n",
       "      <td>12.7474</td>\n",
       "      <td>50.605175</td>\n",
       "      <td>49.394825</td>\n",
       "      <td>1.0614</td>\n",
       "      <td>29.194070</td>\n",
       "      <td>-309963</td>\n",
       "      <td>5.1</td>\n",
       "      <td>1.3802</td>\n",
       "      <td>68.333875</td>\n",
       "      <td>79.356</td>\n",
       "      <td>20.644</td>\n",
       "    </tr>\n",
       "    <tr>\n",
       "      <th>80</th>\n",
       "      <td>2049</td>\n",
       "      <td>1299769472</td>\n",
       "      <td>NaN</td>\n",
       "      <td>7.0274</td>\n",
       "      <td>12.9862</td>\n",
       "      <td>50.611380</td>\n",
       "      <td>49.388620</td>\n",
       "      <td>1.0612</td>\n",
       "      <td>29.602871</td>\n",
       "      <td>-309963</td>\n",
       "      <td>5.1</td>\n",
       "      <td>1.3856</td>\n",
       "      <td>69.596951</td>\n",
       "      <td>79.694</td>\n",
       "      <td>20.306</td>\n",
       "    </tr>\n",
       "    <tr>\n",
       "      <th>81</th>\n",
       "      <td>2050</td>\n",
       "      <td>1290472576</td>\n",
       "      <td>NaN</td>\n",
       "      <td>6.8960</td>\n",
       "      <td>13.2250</td>\n",
       "      <td>50.618315</td>\n",
       "      <td>49.381685</td>\n",
       "      <td>1.0610</td>\n",
       "      <td>30.090291</td>\n",
       "      <td>-309963</td>\n",
       "      <td>5.1</td>\n",
       "      <td>1.3910</td>\n",
       "      <td>71.055869</td>\n",
       "      <td>80.028</td>\n",
       "      <td>19.972</td>\n",
       "    </tr>\n",
       "  </tbody>\n",
       "</table>\n",
       "<p>82 rows × 15 columns</p>\n",
       "</div>"
      ],
      "text/plain": [
       "    Year  Population Annual Growth Rate  Births per 1000 People  \\\n",
       "0   1969   796025000   2.74000210569558                 34.1100   \n",
       "1   1970   818315000   2.76167556645304                 33.4300   \n",
       "2   1971   841105000   2.74691554961857                 30.6500   \n",
       "3   1972   862030000   2.45735692952286                 29.7700   \n",
       "4   1973   881940000   2.28339536396383                 27.9300   \n",
       "..   ...         ...                ...                     ...   \n",
       "77  2046  1324005376                NaN                  7.4216   \n",
       "78  2047  1316440704                NaN                  7.2902   \n",
       "79  2048  1308359168                NaN                  7.1588   \n",
       "80  2049  1299769472                NaN                  7.0274   \n",
       "81  2050  1290472576                NaN                  6.8960   \n",
       "\n",
       "    Deaths per 1000 People  Male Percentage  Female Percentage  \\\n",
       "0                   8.0300        50.959032          49.040968   \n",
       "1                   7.6000        50.954552          49.045448   \n",
       "2                   7.3200        50.952559          49.047441   \n",
       "3                   7.6100        50.951571          49.048429   \n",
       "4                   7.0400        50.950011          49.049989   \n",
       "..                     ...              ...                ...   \n",
       "77                 12.2698        50.596529          49.403471   \n",
       "78                 12.5086        50.600078          49.399922   \n",
       "79                 12.7474        50.605175          49.394825   \n",
       "80                 12.9862        50.611380          49.388620   \n",
       "81                 13.2250        50.618315          49.381685   \n",
       "\n",
       "    Gender ratio at birth M/F  Population Above 65 Percentage  Net Migration  \\\n",
       "0                      1.0630                        3.687490         -72835   \n",
       "1                      1.0640                        3.712521        -126514   \n",
       "2                      1.0640                        3.743416        -180202   \n",
       "3                      1.0640                        3.777798        -215730   \n",
       "4                      1.0640                        3.821944        -215090   \n",
       "..                        ...                             ...            ...   \n",
       "77                     1.0618                       28.244694        -309858   \n",
       "78                     1.0616                       28.734824        -309950   \n",
       "79                     1.0614                       29.194070        -309963   \n",
       "80                     1.0612                       29.602871        -309963   \n",
       "81                     1.0610                       30.090291        -309963   \n",
       "\n",
       "    Infant Mortality Rate  Fertility Rate  Age Dependency Ratio  \\\n",
       "0                    83.4          6.1750             80.961979   \n",
       "1                    79.7          6.0850             80.524027   \n",
       "2                    76.0          5.5230             80.188208   \n",
       "3                    72.5          5.1120             79.481177   \n",
       "4                    68.9          4.7260             78.831239   \n",
       "..                    ...             ...                   ...   \n",
       "77                    5.1          1.3694             65.396339   \n",
       "78                    5.1          1.3748             66.910389   \n",
       "79                    5.1          1.3802             68.333875   \n",
       "80                    5.1          1.3856             69.596951   \n",
       "81                    5.1          1.3910             71.055869   \n",
       "\n",
       "    Urban Population Percentage  Rural Population Percentage  \n",
       "0                        17.528                       82.472  \n",
       "1                        17.400                       82.600  \n",
       "2                        17.292                       82.708  \n",
       "3                        17.184                       82.816  \n",
       "4                        17.184                       82.816  \n",
       "..                          ...                          ...  \n",
       "77                       78.668                       21.332  \n",
       "78                       79.015                       20.985  \n",
       "79                       79.356                       20.644  \n",
       "80                       79.694                       20.306  \n",
       "81                       80.028                       19.972  \n",
       "\n",
       "[82 rows x 15 columns]"
      ]
     },
     "execution_count": 7,
     "metadata": {},
     "output_type": "execute_result"
    }
   ],
   "source": [
    "df = df.rename(columns=columns_names)[columns_reordered]\n",
    "df"
   ]
  },
  {
   "cell_type": "markdown",
   "metadata": {},
   "source": [
    "### `Pyramid Data`"
   ]
  },
  {
   "cell_type": "code",
   "execution_count": 8,
   "metadata": {},
   "outputs": [],
   "source": [
    "#pyramid_data =pd.read_excel(\"Data/china-population-pyramid-1960-2050.xls \", sheet_name=\"Data\") # sheet_name=\"Data\" to read only data\n",
    "pyramid_data = pd.read_csv(\"Data/china-population-pyramid-1960-2050.csv\",)"
   ]
  },
  {
   "cell_type": "code",
   "execution_count": 9,
   "metadata": {},
   "outputs": [
    {
     "data": {
      "text/html": [
       "<div>\n",
       "<style scoped>\n",
       "    .dataframe tbody tr th:only-of-type {\n",
       "        vertical-align: middle;\n",
       "    }\n",
       "\n",
       "    .dataframe tbody tr th {\n",
       "        vertical-align: top;\n",
       "    }\n",
       "\n",
       "    .dataframe thead th {\n",
       "        text-align: right;\n",
       "    }\n",
       "</style>\n",
       "<table border=\"1\" class=\"dataframe\">\n",
       "  <thead>\n",
       "    <tr style=\"text-align: right;\">\n",
       "      <th></th>\n",
       "      <th>Year</th>\n",
       "      <th>0-4Female</th>\n",
       "      <th>5-9Female</th>\n",
       "      <th>10-14Female</th>\n",
       "      <th>15-19Female</th>\n",
       "      <th>20-24Female</th>\n",
       "      <th>25-29Female</th>\n",
       "      <th>30-34Female</th>\n",
       "      <th>35-39Female</th>\n",
       "      <th>40-44Female</th>\n",
       "      <th>...</th>\n",
       "      <th>55-59Male</th>\n",
       "      <th>60-64Male</th>\n",
       "      <th>65-69Male</th>\n",
       "      <th>70-74Male</th>\n",
       "      <th>75-79Male</th>\n",
       "      <th>80-84Male</th>\n",
       "      <th>85-89Male</th>\n",
       "      <th>90-94Male</th>\n",
       "      <th>95-99Male</th>\n",
       "      <th>100+Male</th>\n",
       "    </tr>\n",
       "  </thead>\n",
       "  <tbody>\n",
       "    <tr>\n",
       "      <th>0</th>\n",
       "      <td>1960</td>\n",
       "      <td>47,920,315.00</td>\n",
       "      <td>46,829,753.00</td>\n",
       "      <td>33,432,080.00</td>\n",
       "      <td>25,471,658.00</td>\n",
       "      <td>24,122,343.00</td>\n",
       "      <td>23,327,941.00</td>\n",
       "      <td>20,533,620.00</td>\n",
       "      <td>18,630,935.50</td>\n",
       "      <td>16,497,774.00</td>\n",
       "      <td>...</td>\n",
       "      <td>10,724,846.00</td>\n",
       "      <td>7,732,748.50</td>\n",
       "      <td>5,380,578.00</td>\n",
       "      <td>3,229,643.00</td>\n",
       "      <td>1,571,773.00</td>\n",
       "      <td>557,486.00</td>\n",
       "      <td>166,261.50</td>\n",
       "      <td>30,039.00</td>\n",
       "      <td>2,309.00</td>\n",
       "      <td>29.50</td>\n",
       "    </tr>\n",
       "    <tr>\n",
       "      <th>1</th>\n",
       "      <td>1961</td>\n",
       "      <td>43,854,185.00</td>\n",
       "      <td>47,677,726.00</td>\n",
       "      <td>35,825,728.00</td>\n",
       "      <td>26,076,781.50</td>\n",
       "      <td>24,016,057.50</td>\n",
       "      <td>23,698,797.50</td>\n",
       "      <td>20,836,776.50</td>\n",
       "      <td>18,794,400.00</td>\n",
       "      <td>16,628,372.00</td>\n",
       "      <td>...</td>\n",
       "      <td>10,761,714.00</td>\n",
       "      <td>7,718,281.50</td>\n",
       "      <td>5,340,784.00</td>\n",
       "      <td>3,111,826.50</td>\n",
       "      <td>1,493,829.50</td>\n",
       "      <td>539,886.00</td>\n",
       "      <td>150,155.00</td>\n",
       "      <td>26,290.50</td>\n",
       "      <td>1,912.50</td>\n",
       "      <td>16.50</td>\n",
       "    </tr>\n",
       "    <tr>\n",
       "      <th>2</th>\n",
       "      <td>1962</td>\n",
       "      <td>42,618,084.00</td>\n",
       "      <td>48,227,487.00</td>\n",
       "      <td>38,568,543.00</td>\n",
       "      <td>27,060,995.50</td>\n",
       "      <td>24,056,249.00</td>\n",
       "      <td>23,960,210.50</td>\n",
       "      <td>21,219,384.00</td>\n",
       "      <td>19,007,207.50</td>\n",
       "      <td>16,794,522.00</td>\n",
       "      <td>...</td>\n",
       "      <td>10,812,142.00</td>\n",
       "      <td>7,851,263.00</td>\n",
       "      <td>5,353,814.00</td>\n",
       "      <td>3,084,425.00</td>\n",
       "      <td>1,474,477.00</td>\n",
       "      <td>540,474.00</td>\n",
       "      <td>138,849.50</td>\n",
       "      <td>23,929.50</td>\n",
       "      <td>1,612.00</td>\n",
       "      <td>10.00</td>\n",
       "    </tr>\n",
       "    <tr>\n",
       "      <th>3</th>\n",
       "      <td>1963</td>\n",
       "      <td>45,892,983.50</td>\n",
       "      <td>48,233,568.00</td>\n",
       "      <td>41,316,192.00</td>\n",
       "      <td>28,554,232.50</td>\n",
       "      <td>24,141,310.00</td>\n",
       "      <td>23,937,322.50</td>\n",
       "      <td>21,672,178.00</td>\n",
       "      <td>19,363,372.00</td>\n",
       "      <td>17,074,803.50</td>\n",
       "      <td>...</td>\n",
       "      <td>10,874,094.50</td>\n",
       "      <td>8,075,194.00</td>\n",
       "      <td>5,383,838.50</td>\n",
       "      <td>3,117,905.00</td>\n",
       "      <td>1,491,396.50</td>\n",
       "      <td>547,760.00</td>\n",
       "      <td>130,685.50</td>\n",
       "      <td>22,378.00</td>\n",
       "      <td>1,406.00</td>\n",
       "      <td>5.00</td>\n",
       "    </tr>\n",
       "    <tr>\n",
       "      <th>4</th>\n",
       "      <td>1964</td>\n",
       "      <td>51,299,213.50</td>\n",
       "      <td>46,735,446.00</td>\n",
       "      <td>43,595,994.00</td>\n",
       "      <td>30,430,756.00</td>\n",
       "      <td>24,424,064.00</td>\n",
       "      <td>23,695,036.50</td>\n",
       "      <td>22,181,661.50</td>\n",
       "      <td>19,632,192.50</td>\n",
       "      <td>17,492,035.50</td>\n",
       "      <td>...</td>\n",
       "      <td>10,986,288.50</td>\n",
       "      <td>8,343,232.00</td>\n",
       "      <td>5,396,712.50</td>\n",
       "      <td>3,160,661.50</td>\n",
       "      <td>1,518,130.00</td>\n",
       "      <td>548,604.00</td>\n",
       "      <td>125,479.50</td>\n",
       "      <td>20,836.50</td>\n",
       "      <td>1,243.00</td>\n",
       "      <td>3.50</td>\n",
       "    </tr>\n",
       "  </tbody>\n",
       "</table>\n",
       "<p>5 rows × 43 columns</p>\n",
       "</div>"
      ],
      "text/plain": [
       "   Year      0-4Female      5-9Female    10-14Female    15-19Female  \\\n",
       "0  1960  47,920,315.00  46,829,753.00  33,432,080.00  25,471,658.00   \n",
       "1  1961  43,854,185.00  47,677,726.00  35,825,728.00  26,076,781.50   \n",
       "2  1962  42,618,084.00  48,227,487.00  38,568,543.00  27,060,995.50   \n",
       "3  1963  45,892,983.50  48,233,568.00  41,316,192.00  28,554,232.50   \n",
       "4  1964  51,299,213.50  46,735,446.00  43,595,994.00  30,430,756.00   \n",
       "\n",
       "     20-24Female    25-29Female    30-34Female    35-39Female    40-44Female  \\\n",
       "0  24,122,343.00  23,327,941.00  20,533,620.00  18,630,935.50  16,497,774.00   \n",
       "1  24,016,057.50  23,698,797.50  20,836,776.50  18,794,400.00  16,628,372.00   \n",
       "2  24,056,249.00  23,960,210.50  21,219,384.00  19,007,207.50  16,794,522.00   \n",
       "3  24,141,310.00  23,937,322.50  21,672,178.00  19,363,372.00  17,074,803.50   \n",
       "4  24,424,064.00  23,695,036.50  22,181,661.50  19,632,192.50  17,492,035.50   \n",
       "\n",
       "   ...      55-59Male     60-64Male     65-69Male     70-74Male     75-79Male  \\\n",
       "0  ...  10,724,846.00  7,732,748.50  5,380,578.00  3,229,643.00  1,571,773.00   \n",
       "1  ...  10,761,714.00  7,718,281.50  5,340,784.00  3,111,826.50  1,493,829.50   \n",
       "2  ...  10,812,142.00  7,851,263.00  5,353,814.00  3,084,425.00  1,474,477.00   \n",
       "3  ...  10,874,094.50  8,075,194.00  5,383,838.50  3,117,905.00  1,491,396.50   \n",
       "4  ...  10,986,288.50  8,343,232.00  5,396,712.50  3,160,661.50  1,518,130.00   \n",
       "\n",
       "    80-84Male   85-89Male  90-94Male 95-99Male 100+Male  \n",
       "0  557,486.00  166,261.50  30,039.00  2,309.00    29.50  \n",
       "1  539,886.00  150,155.00  26,290.50  1,912.50    16.50  \n",
       "2  540,474.00  138,849.50  23,929.50  1,612.00    10.00  \n",
       "3  547,760.00  130,685.50  22,378.00  1,406.00     5.00  \n",
       "4  548,604.00  125,479.50  20,836.50  1,243.00     3.50  \n",
       "\n",
       "[5 rows x 43 columns]"
      ]
     },
     "execution_count": 9,
     "metadata": {},
     "output_type": "execute_result"
    }
   ],
   "source": [
    "# Explore Pyramid data\n",
    "pyramid_data.head()"
   ]
  },
  {
   "cell_type": "code",
   "execution_count": 10,
   "metadata": {},
   "outputs": [],
   "source": [
    "pyramid_data = pyramid_data[pyramid_data['Year']>=1969].reset_index(drop=True)"
   ]
  },
  {
   "cell_type": "code",
   "execution_count": 11,
   "metadata": {},
   "outputs": [
    {
     "data": {
      "text/html": [
       "<div>\n",
       "<style scoped>\n",
       "    .dataframe tbody tr th:only-of-type {\n",
       "        vertical-align: middle;\n",
       "    }\n",
       "\n",
       "    .dataframe tbody tr th {\n",
       "        vertical-align: top;\n",
       "    }\n",
       "\n",
       "    .dataframe thead th {\n",
       "        text-align: right;\n",
       "    }\n",
       "</style>\n",
       "<table border=\"1\" class=\"dataframe\">\n",
       "  <thead>\n",
       "    <tr style=\"text-align: right;\">\n",
       "      <th></th>\n",
       "      <th>Year</th>\n",
       "    </tr>\n",
       "  </thead>\n",
       "  <tbody>\n",
       "    <tr>\n",
       "      <th>count</th>\n",
       "      <td>82.000000</td>\n",
       "    </tr>\n",
       "    <tr>\n",
       "      <th>mean</th>\n",
       "      <td>2009.500000</td>\n",
       "    </tr>\n",
       "    <tr>\n",
       "      <th>std</th>\n",
       "      <td>23.815261</td>\n",
       "    </tr>\n",
       "    <tr>\n",
       "      <th>min</th>\n",
       "      <td>1969.000000</td>\n",
       "    </tr>\n",
       "    <tr>\n",
       "      <th>25%</th>\n",
       "      <td>1989.250000</td>\n",
       "    </tr>\n",
       "    <tr>\n",
       "      <th>50%</th>\n",
       "      <td>2009.500000</td>\n",
       "    </tr>\n",
       "    <tr>\n",
       "      <th>75%</th>\n",
       "      <td>2029.750000</td>\n",
       "    </tr>\n",
       "    <tr>\n",
       "      <th>max</th>\n",
       "      <td>2050.000000</td>\n",
       "    </tr>\n",
       "  </tbody>\n",
       "</table>\n",
       "</div>"
      ],
      "text/plain": [
       "              Year\n",
       "count    82.000000\n",
       "mean   2009.500000\n",
       "std      23.815261\n",
       "min    1969.000000\n",
       "25%    1989.250000\n",
       "50%    2009.500000\n",
       "75%    2029.750000\n",
       "max    2050.000000"
      ]
     },
     "execution_count": 11,
     "metadata": {},
     "output_type": "execute_result"
    }
   ],
   "source": [
    "pyramid_data.describe()"
   ]
  },
  {
   "cell_type": "code",
   "execution_count": 12,
   "metadata": {},
   "outputs": [
    {
     "data": {
      "text/plain": [
       "Index(['Year', '0-4Female', '5-9Female', '10-14Female', '15-19Female',\n",
       "       '20-24Female', '25-29Female', '30-34Female', '35-39Female',\n",
       "       '40-44Female', '45-49Female', '50-54Female', '55-59Female',\n",
       "       '60-64Female', '65-69Female', '70-74Female', '75-79Female',\n",
       "       '80-84Female', '85-89Female', '90-94Female', '95-99Female',\n",
       "       '100+Female', '0-4Male', '5-9Male', '10-14Male', '15-19Male',\n",
       "       '20-24Male', '25-29Male', '30-34Male', '35-39Male', '40-44Male',\n",
       "       '45-49Male', '50-54Male', '55-59Male', '60-64Male', '65-69Male',\n",
       "       '70-74Male', '75-79Male', '80-84Male', '85-89Male', '90-94Male',\n",
       "       '95-99Male', '100+Male'],\n",
       "      dtype='object')"
      ]
     },
     "execution_count": 12,
     "metadata": {},
     "output_type": "execute_result"
    }
   ],
   "source": [
    "pyramid_data.columns # print columns"
   ]
  },
  {
   "cell_type": "code",
   "execution_count": 13,
   "metadata": {},
   "outputs": [
    {
     "data": {
      "text/plain": [
       "Index(['0-4Female', '5-9Female', '10-14Female', '15-19Female', '20-24Female',\n",
       "       '25-29Female', '30-34Female', '35-39Female', '40-44Female',\n",
       "       '45-49Female', '50-54Female', '55-59Female', '60-64Female',\n",
       "       '65-69Female', '70-74Female', '75-79Female', '80-84Female',\n",
       "       '85-89Female', '90-94Female', '95-99Female', '100+Female'],\n",
       "      dtype='object')"
      ]
     },
     "execution_count": 13,
     "metadata": {},
     "output_type": "execute_result"
    }
   ],
   "source": [
    "pyramid_data.columns[1:22] #first group for females "
   ]
  },
  {
   "cell_type": "code",
   "execution_count": 14,
   "metadata": {},
   "outputs": [
    {
     "data": {
      "text/plain": [
       "Index(['0-4Male', '5-9Male', '10-14Male', '15-19Male', '20-24Male',\n",
       "       '25-29Male', '30-34Male', '35-39Male', '40-44Male', '45-49Male',\n",
       "       '50-54Male', '55-59Male', '60-64Male', '65-69Male', '70-74Male',\n",
       "       '75-79Male', '80-84Male', '85-89Male', '90-94Male', '95-99Male',\n",
       "       '100+Male'],\n",
       "      dtype='object')"
      ]
     },
     "execution_count": 14,
     "metadata": {},
     "output_type": "execute_result"
    }
   ],
   "source": [
    "pyramid_data.columns[22:44] #first group for males "
   ]
  },
  {
   "cell_type": "code",
   "execution_count": 15,
   "metadata": {},
   "outputs": [],
   "source": [
    "# as values is 47,920,315.00 we need to remove the comma and the dot\n",
    "pyramid_data = pyramid_data.replace(',','', regex=True) #regex=True to replace all commas"
   ]
  },
  {
   "cell_type": "code",
   "execution_count": 16,
   "metadata": {},
   "outputs": [],
   "source": [
    "#convert all values to float\n",
    "pyramid_data = pyramid_data.astype(float)"
   ]
  },
  {
   "cell_type": "code",
   "execution_count": 17,
   "metadata": {},
   "outputs": [
    {
     "name": "stdout",
     "output_type": "stream",
     "text": [
      "<class 'pandas.core.frame.DataFrame'>\n",
      "RangeIndex: 82 entries, 0 to 81\n",
      "Data columns (total 43 columns):\n",
      " #   Column       Non-Null Count  Dtype  \n",
      "---  ------       --------------  -----  \n",
      " 0   Year         82 non-null     float64\n",
      " 1   0-4Female    82 non-null     float64\n",
      " 2   5-9Female    82 non-null     float64\n",
      " 3   10-14Female  82 non-null     float64\n",
      " 4   15-19Female  82 non-null     float64\n",
      " 5   20-24Female  82 non-null     float64\n",
      " 6   25-29Female  82 non-null     float64\n",
      " 7   30-34Female  82 non-null     float64\n",
      " 8   35-39Female  82 non-null     float64\n",
      " 9   40-44Female  82 non-null     float64\n",
      " 10  45-49Female  82 non-null     float64\n",
      " 11  50-54Female  82 non-null     float64\n",
      " 12  55-59Female  82 non-null     float64\n",
      " 13  60-64Female  82 non-null     float64\n",
      " 14  65-69Female  82 non-null     float64\n",
      " 15  70-74Female  82 non-null     float64\n",
      " 16  75-79Female  82 non-null     float64\n",
      " 17  80-84Female  82 non-null     float64\n",
      " 18  85-89Female  82 non-null     float64\n",
      " 19  90-94Female  82 non-null     float64\n",
      " 20  95-99Female  82 non-null     float64\n",
      " 21  100+Female   82 non-null     float64\n",
      " 22  0-4Male      82 non-null     float64\n",
      " 23  5-9Male      82 non-null     float64\n",
      " 24  10-14Male    82 non-null     float64\n",
      " 25  15-19Male    82 non-null     float64\n",
      " 26  20-24Male    82 non-null     float64\n",
      " 27  25-29Male    82 non-null     float64\n",
      " 28  30-34Male    82 non-null     float64\n",
      " 29  35-39Male    82 non-null     float64\n",
      " 30  40-44Male    82 non-null     float64\n",
      " 31  45-49Male    82 non-null     float64\n",
      " 32  50-54Male    82 non-null     float64\n",
      " 33  55-59Male    82 non-null     float64\n",
      " 34  60-64Male    82 non-null     float64\n",
      " 35  65-69Male    82 non-null     float64\n",
      " 36  70-74Male    82 non-null     float64\n",
      " 37  75-79Male    82 non-null     float64\n",
      " 38  80-84Male    82 non-null     float64\n",
      " 39  85-89Male    82 non-null     float64\n",
      " 40  90-94Male    82 non-null     float64\n",
      " 41  95-99Male    82 non-null     float64\n",
      " 42  100+Male     82 non-null     float64\n",
      "dtypes: float64(43)\n",
      "memory usage: 27.7 KB\n"
     ]
    }
   ],
   "source": [
    "# final we want to check that no data is missing and distribution of data\n",
    "pyramid_data.info()"
   ]
  },
  {
   "cell_type": "markdown",
   "metadata": {},
   "source": [
    "### `GDP Data`"
   ]
  },
  {
   "cell_type": "code",
   "execution_count": 18,
   "metadata": {},
   "outputs": [
    {
     "data": {
      "text/html": [
       "<div>\n",
       "<style scoped>\n",
       "    .dataframe tbody tr th:only-of-type {\n",
       "        vertical-align: middle;\n",
       "    }\n",
       "\n",
       "    .dataframe tbody tr th {\n",
       "        vertical-align: top;\n",
       "    }\n",
       "\n",
       "    .dataframe thead th {\n",
       "        text-align: right;\n",
       "    }\n",
       "</style>\n",
       "<table border=\"1\" class=\"dataframe\">\n",
       "  <thead>\n",
       "    <tr style=\"text-align: right;\">\n",
       "      <th></th>\n",
       "      <th>Time</th>\n",
       "      <th>GDP per capita (constant 2015 US$)</th>\n",
       "    </tr>\n",
       "  </thead>\n",
       "  <tbody>\n",
       "    <tr>\n",
       "      <th>0</th>\n",
       "      <td>1960</td>\n",
       "      <td>238.2</td>\n",
       "    </tr>\n",
       "    <tr>\n",
       "      <th>1</th>\n",
       "      <td>1961</td>\n",
       "      <td>175.0</td>\n",
       "    </tr>\n",
       "    <tr>\n",
       "      <th>2</th>\n",
       "      <td>1962</td>\n",
       "      <td>163.9</td>\n",
       "    </tr>\n",
       "    <tr>\n",
       "      <th>3</th>\n",
       "      <td>1963</td>\n",
       "      <td>176.4</td>\n",
       "    </tr>\n",
       "    <tr>\n",
       "      <th>4</th>\n",
       "      <td>1964</td>\n",
       "      <td>203.7</td>\n",
       "    </tr>\n",
       "    <tr>\n",
       "      <th>...</th>\n",
       "      <td>...</td>\n",
       "      <td>...</td>\n",
       "    </tr>\n",
       "    <tr>\n",
       "      <th>58</th>\n",
       "      <td>2018</td>\n",
       "      <td>9619.2</td>\n",
       "    </tr>\n",
       "    <tr>\n",
       "      <th>59</th>\n",
       "      <td>2019</td>\n",
       "      <td>10155.5</td>\n",
       "    </tr>\n",
       "    <tr>\n",
       "      <th>60</th>\n",
       "      <td>2020</td>\n",
       "      <td>10358.3</td>\n",
       "    </tr>\n",
       "    <tr>\n",
       "      <th>61</th>\n",
       "      <td>2021</td>\n",
       "      <td>11008.2</td>\n",
       "    </tr>\n",
       "    <tr>\n",
       "      <th>62</th>\n",
       "      <td>2022</td>\n",
       "      <td>10358.6</td>\n",
       "    </tr>\n",
       "  </tbody>\n",
       "</table>\n",
       "<p>63 rows × 2 columns</p>\n",
       "</div>"
      ],
      "text/plain": [
       "    Time  GDP per capita (constant 2015 US$)\n",
       "0   1960                               238.2\n",
       "1   1961                               175.0\n",
       "2   1962                               163.9\n",
       "3   1963                               176.4\n",
       "4   1964                               203.7\n",
       "..   ...                                 ...\n",
       "58  2018                              9619.2\n",
       "59  2019                             10155.5\n",
       "60  2020                             10358.3\n",
       "61  2021                             11008.2\n",
       "62  2022                             10358.6\n",
       "\n",
       "[63 rows x 2 columns]"
      ]
     },
     "execution_count": 18,
     "metadata": {},
     "output_type": "execute_result"
    }
   ],
   "source": [
    "gdp = pd.read_csv('Data/China-gdpPerCapita-1960-2022.csv')\n",
    "gdp"
   ]
  },
  {
   "cell_type": "code",
   "execution_count": 19,
   "metadata": {},
   "outputs": [
    {
     "name": "stdout",
     "output_type": "stream",
     "text": [
      "<class 'pandas.core.frame.DataFrame'>\n",
      "RangeIndex: 63 entries, 0 to 62\n",
      "Data columns (total 2 columns):\n",
      " #   Column                              Non-Null Count  Dtype  \n",
      "---  ------                              --------------  -----  \n",
      " 0   Time                                63 non-null     int64  \n",
      " 1   GDP per capita (constant 2015 US$)  63 non-null     float64\n",
      "dtypes: float64(1), int64(1)\n",
      "memory usage: 1.1 KB\n"
     ]
    }
   ],
   "source": [
    "gdp.info()"
   ]
  },
  {
   "cell_type": "code",
   "execution_count": 20,
   "metadata": {},
   "outputs": [],
   "source": [
    "gdp = gdp.rename(columns= {'Time' : \"Year\", 'GDP per capita (constant 2015 US$)':'GDP Per Capita'})"
   ]
  },
  {
   "cell_type": "markdown",
   "metadata": {
    "tags": []
   },
   "source": [
    "### `iv` Implement Plotly  "
   ]
  },
  {
   "cell_type": "code",
   "execution_count": 21,
   "metadata": {},
   "outputs": [
    {
     "data": {
      "text/plain": [
       "Index(['Year', 'Population', 'Annual Growth Rate', 'Births per 1000 People',\n",
       "       'Deaths per 1000 People', 'Male Percentage', 'Female Percentage',\n",
       "       'Gender ratio at birth M/F', 'Population Above 65 Percentage',\n",
       "       'Net Migration', 'Infant Mortality Rate', 'Fertility Rate',\n",
       "       'Age Dependency Ratio', 'Urban Population Percentage',\n",
       "       'Rural Population Percentage'],\n",
       "      dtype='object')"
      ]
     },
     "execution_count": 21,
     "metadata": {},
     "output_type": "execute_result"
    }
   ],
   "source": [
    "df.columns"
   ]
  },
  {
   "cell_type": "code",
   "execution_count": 22,
   "metadata": {},
   "outputs": [],
   "source": [
    "fig_style = ['ggplot2', 'seaborn', 'simple_white', 'plotly',\n",
    "         'plotly_white', 'plotly_dark', 'presentation', 'xgridoff',\n",
    "         'ygridoff', 'gridon', 'none']"
   ]
  },
  {
   "cell_type": "markdown",
   "metadata": {},
   "source": [
    "`Figure of Popualtion` "
   ]
  },
  {
   "cell_type": "code",
   "execution_count": 23,
   "metadata": {},
   "outputs": [
    {
     "data": {
      "application/vnd.jupyter.widget-view+json": {
       "model_id": "360022f7a0ba40c7b9237cd188a39ffb",
       "version_major": 2,
       "version_minor": 0
      },
      "text/plain": [
       "FigureWidget({\n",
       "    'data': [{'line': {'color': '#5500ff', 'dash': 'solid'},\n",
       "              'mode': 'lines',\n",
       "   …"
      ]
     },
     "metadata": {},
     "output_type": "display_data"
    }
   ],
   "source": [
    "#year > 2023 is the projection data\n",
    "#year < 2023 is the historical data\n",
    "merge_df = df.loc[df.Year <= 2023]\n",
    "merge_df2 = df.loc[df.Year >= 2023]\n",
    "\n",
    "merge_df_65 = df.loc[df.Year <= 2023]\n",
    "merge_df2_65 = df.loc[df.Year >= 2023]\n",
    "\n",
    "fig = go.FigureWidget(data=[\n",
    "    #add historical data before 2023\n",
    "    go.Scatter(x=merge_df.Year, y=merge_df['Population'], mode='lines', line={'dash': 'solid', 'color': '#5500ff'} , name=\"Historical Total Population\",),#add annual change to hover data\n",
    "    #add projection data after 2023\n",
    "    go.Scatter(x=merge_df2.Year, y=merge_df2['Population'], mode='lines', line={'dash': 'dot', 'color': '#5500ff'}, name=\"Projection Total Population\"), #add annual change to hover data\n",
    "])\n",
    "#add 'Population ages 65 and above (% of total population) [SP.POP.65UP.TO.ZS]' as line to the plot from df2\n",
    "fig.add_scatter(x=merge_df_65.Year, y=merge_df_65['Population Above 65 Percentage'], yaxis=\"y2\"\n",
    "                , name=\"Historical Population ages 65 and above\", mode='lines', line=dict(color='red', width=2,  ),  )\n",
    "\n",
    "#add 'Population ages 65 and above (% of total population) [SP.POP.65UP.TO.ZS]' as line to the plot from df2\n",
    "fig.add_scatter(x=merge_df2_65.Year, y=merge_df2_65['Population Above 65 Percentage'], yaxis=\"y2\"\n",
    "                , name=\"Projection  Population ages 65 and above\", mode='lines', line=dict(color='red', width=2,dash='dot'  ))\n",
    "#change the scale of y axis to log to see the change in the population and make scale of y2 to 0-50\n",
    "fig.update_layout(yaxis_type=\"log\", yaxis2=dict(overlaying='y', side='right', range=[0, 50], title='above 65'))\n",
    "\n",
    "\n",
    "#add historical data before 2023\n",
    "#fig.add_vline(x=2023, line_width=3, line_dash=\"dash\", line_color=\"green\",  annotation_text=\"2023\", annotation_position=\"top right\")\n",
    "\n",
    "#add projection data after 2023\n",
    "fig.add_vrect(x0=1969, x1=2023, fillcolor=\"red\", opacity=0.05, annotation_text=\"\", annotation_position=\"top left\", annotation_font_size=12)\n",
    "\n",
    "#add projection data after 2023\n",
    "fig.add_vrect(x0=2023, x1=2050, fillcolor=\"green\", opacity=0.05, annotation_text=\"\", annotation_position=\"top left\", annotation_font_size=12)\n",
    "\n",
    "#make the plot interactive\n",
    "fig.update_layout(hovermode=\"x unified\", title=\"China's population is getting Smaller and older\", xaxis_title=\"Year\", yaxis=dict(title=\"Total Population\", titlefont=dict(size=20,)), template=THEME\n",
    "                  ,yaxis2=dict(overlaying='y', side='right', range=[0, 50], title='Population Above 65 (%)',  titlefont=dict(size=15,))\n",
    "                  )\n",
    "fig.update_layout(width=950,    height=300,    margin=dict(l=80, r=50, t=50, b=50),)\n",
    "#  add the legend to the plot\n",
    "fig.update_layout(legend=dict(orientation=\"h\", yanchor=\"top\", y=1.1, xanchor=\"right\", x=1,  traceorder=\"normal\", font=dict(family=\"sans-serif\", size=10, color=\"black\"), bordercolor=\"Black\", borderwidth=0))\n",
    "\n",
    " "
   ]
  },
  {
   "cell_type": "code",
   "execution_count": 24,
   "metadata": {},
   "outputs": [
    {
     "data": {
      "text/html": [
       "<div>\n",
       "<style scoped>\n",
       "    .dataframe tbody tr th:only-of-type {\n",
       "        vertical-align: middle;\n",
       "    }\n",
       "\n",
       "    .dataframe tbody tr th {\n",
       "        vertical-align: top;\n",
       "    }\n",
       "\n",
       "    .dataframe thead th {\n",
       "        text-align: right;\n",
       "    }\n",
       "</style>\n",
       "<table border=\"1\" class=\"dataframe\">\n",
       "  <thead>\n",
       "    <tr style=\"text-align: right;\">\n",
       "      <th></th>\n",
       "      <th>Year</th>\n",
       "      <th>GDP Per Capita</th>\n",
       "    </tr>\n",
       "  </thead>\n",
       "  <tbody>\n",
       "    <tr>\n",
       "      <th>0</th>\n",
       "      <td>1960</td>\n",
       "      <td>238.2</td>\n",
       "    </tr>\n",
       "    <tr>\n",
       "      <th>1</th>\n",
       "      <td>1961</td>\n",
       "      <td>175.0</td>\n",
       "    </tr>\n",
       "    <tr>\n",
       "      <th>2</th>\n",
       "      <td>1962</td>\n",
       "      <td>163.9</td>\n",
       "    </tr>\n",
       "    <tr>\n",
       "      <th>3</th>\n",
       "      <td>1963</td>\n",
       "      <td>176.4</td>\n",
       "    </tr>\n",
       "    <tr>\n",
       "      <th>4</th>\n",
       "      <td>1964</td>\n",
       "      <td>203.7</td>\n",
       "    </tr>\n",
       "    <tr>\n",
       "      <th>...</th>\n",
       "      <td>...</td>\n",
       "      <td>...</td>\n",
       "    </tr>\n",
       "    <tr>\n",
       "      <th>58</th>\n",
       "      <td>2018</td>\n",
       "      <td>9619.2</td>\n",
       "    </tr>\n",
       "    <tr>\n",
       "      <th>59</th>\n",
       "      <td>2019</td>\n",
       "      <td>10155.5</td>\n",
       "    </tr>\n",
       "    <tr>\n",
       "      <th>60</th>\n",
       "      <td>2020</td>\n",
       "      <td>10358.3</td>\n",
       "    </tr>\n",
       "    <tr>\n",
       "      <th>61</th>\n",
       "      <td>2021</td>\n",
       "      <td>11008.2</td>\n",
       "    </tr>\n",
       "    <tr>\n",
       "      <th>62</th>\n",
       "      <td>2022</td>\n",
       "      <td>10358.6</td>\n",
       "    </tr>\n",
       "  </tbody>\n",
       "</table>\n",
       "<p>63 rows × 2 columns</p>\n",
       "</div>"
      ],
      "text/plain": [
       "    Year  GDP Per Capita\n",
       "0   1960           238.2\n",
       "1   1961           175.0\n",
       "2   1962           163.9\n",
       "3   1963           176.4\n",
       "4   1964           203.7\n",
       "..   ...             ...\n",
       "58  2018          9619.2\n",
       "59  2019         10155.5\n",
       "60  2020         10358.3\n",
       "61  2021         11008.2\n",
       "62  2022         10358.6\n",
       "\n",
       "[63 rows x 2 columns]"
      ]
     },
     "execution_count": 24,
     "metadata": {},
     "output_type": "execute_result"
    }
   ],
   "source": [
    "gdp"
   ]
  },
  {
   "cell_type": "markdown",
   "metadata": {},
   "source": [
    "`Birth Rate, Death Rate and Life Expectancy of China` "
   ]
  },
  {
   "cell_type": "code",
   "execution_count": 25,
   "metadata": {},
   "outputs": [
    {
     "data": {
      "application/vnd.jupyter.widget-view+json": {
       "model_id": "7a51baac97ac447aa4c06c697dbe0e1a",
       "version_major": 2,
       "version_minor": 0
      },
      "text/plain": [
       "FigureWidget({\n",
       "    'data': [{'mode': 'lines',\n",
       "              'name': 'Birth Rate',\n",
       "              'type': 'scatt…"
      ]
     },
     "metadata": {},
     "output_type": "display_data"
    }
   ],
   "source": [
    "\n",
    "fig2 = go.FigureWidget(data=[\n",
    "    #add historical data before 2023\n",
    "    go.Scatter(x=df['Year'], y=df['Births per 1000 People'], name=\"Birth Rate\", mode='lines',),#add annual change to hover data\n",
    "    #add projection data after 2023\n",
    "    go.Scatter(x=gdp['Year'], y=gdp['GDP Per Capita'], name=\"GDP Per Capita\", yaxis='y2', mode='lines',), #add annual change to hover data\n",
    "\n",
    "                                                                                                                                                    \n",
    "\n",
    "])\n",
    "# birth  rate \n",
    "#fig2 = px.line(df, x=\"Year\", y=\"Births per 1000 People\", title=\"\", template=\"plotly_dark\",)\n",
    "fig2.update_layout(hovermode=\"x unified\", title=\"Birth rates plummet as China gets wealthier\", xaxis_title=\"Year\", yaxis_title=\"Birth (Death) rate per 1000 person\", template=\"plotly_dark\"\n",
    "                  ,yaxis2=dict(overlaying='y', side='right', title='GDP Per Capita US$')\n",
    "                  )\n",
    "# add death rate to fig2\n",
    "#fig2.add_scatter(x=df['Year'], y=df['Deaths per 1000 People'], name=\"Death Rate\")\n",
    "#fig2.add_scatter(x=gdp['Year'], y=gdp['GDP Per Capita'], name=\"GDP Per Capita\", yaxis='y2')\n",
    "fig2.add_vrect(x0=1980, x1=1992, fillcolor=\"green\", opacity=0.05, annotation=dict(\n",
    "            x=0.1,\n",
    "            y=0.9,\n",
    "            xref='paper',\n",
    "            yref='paper',\n",
    "            text='Year: 2022',\n",
    "            showarrow=False)\n",
    "    )\n",
    "\n",
    "#fig2.add_vline(x=1980, line_width=3, line_dash=\"dash\", line_color=\"green\",  annotation_text=\"Birth Control Campaign\", annotation_position=\"top left\")\n",
    "fig2.add_vline(x=1985, line_width=3, line_dash=\"dash\", line_color=\"green\",  annotation_text=\"One Child Policy\", annotation_position=\"right top\")\n",
    "fig2.add_vline(x=1992, line_width=3, line_dash=\"dash\", line_color=\"green\",  annotation_text=\"Start of Economic Reform\", annotation_position=\"right top\")\n",
    "\n",
    "# add life expectancy to fig2\n",
    "#fig2.add_scatter(x=df3['date'], y=df3['Life Expectancy from Birth (Years)'], name=\"Life Expectancy\")\n",
    "\n",
    "#add title to fig2\n",
    "# add  scatter to birth rate again to make it display on legend area with color blue\n",
    "#fig2.add_scatter(x=df['Year'], y=df['Births per 1000 People'], name=\"Birth Rate\", )\n",
    "                   \n",
    "            #make the plot interactive\n",
    "fig2.update_layout(hovermode=\"x unified\", title=\"Birth rates plummet as China gets wealthier\", xaxis_title=\"Year\", yaxis_title=\"Birth (Death) rate per 1000 person\", template=\"plotly_white\"\n",
    "                  ,yaxis2=dict(overlaying='y', side='right', title='GDP Per Capita US$'), xaxis_range = [1969,2023],\n",
    "                  )\n",
    "\n",
    "\n",
    "\n"
   ]
  },
  {
   "cell_type": "code",
   "execution_count": 26,
   "metadata": {},
   "outputs": [
    {
     "data": {
      "application/vnd.jupyter.widget-view+json": {
       "model_id": "cd024f21a8054d77acae1b5e0c93faf7",
       "version_major": 2,
       "version_minor": 0
      },
      "text/plain": [
       "FigureWidget({\n",
       "    'data': [{'mode': 'lines',\n",
       "              'name': 'Birth Rate',\n",
       "              'type': 'scatt…"
      ]
     },
     "metadata": {},
     "output_type": "display_data"
    }
   ],
   "source": [
    "fig2 = go.FigureWidget(data=[\n",
    "    #add historical data before 2023\n",
    "    go.Scatter(x=df['Year'], y=df['Births per 1000 People'], name=\"Birth Rate\", mode='lines',),#add annual change to hover data\n",
    "    #add projection data after 2023\n",
    "    go.Scatter(x=gdp['Year'], y=gdp['GDP Per Capita'], name=\"GDP Per Capita\", yaxis='y2', mode='lines',), #add annual change to hover data\n",
    "\n",
    "                                                                                                                                                    \n",
    "\n",
    "])\n",
    "fig2.update_layout(hovermode=\"x unified\", title=\"Birth rates plummet as China gets wealthier\", xaxis_title=\"Year\", yaxis_title=\"Birth rate per 1000 person\", template=THEME\n",
    "                  ,yaxis2=dict(overlaying='y', side='right', title='GDP Per Capita US$')\n",
    "                  )\n",
    "fig2.add_vrect(x0=1980, x1=1992, fillcolor=\"green\", opacity=0.05, annotation_text=\"Birth Control Campaign\", annotation_position=\"top left\", annotation_font_size=12)\n",
    "# fig2.add_vline(x=1980, line_width=3, line_dash=\"dash\", line_color=\"green\",  annotation_text=\"Birth Control Campaign\", annotation_position=\"top left\")\n",
    "# fig2.add_vline(x=1985, line_width=3, line_dash=\"dash\", line_color=\"green\",  annotation_text=f\"One\", annotation_position=\"top left\")\n",
    "# fig2.add_vline(x=1985, line_width=3, line_dash=\"dash\", line_color=\"green\",  annotation_text=f\"Child Policy\", annotation_position=\"top right\")\n",
    "# fig2.add_vline(x=1992, line_width=3, line_dash=\"dash\", line_color=\"green\",  annotation_text=\"Start of Economic Reform\", annotation_position=\"right top\")\n",
    "\n",
    "#make the plot interactiv\n",
    "fig2.update_layout(width=600,    height=300,    margin=dict(l=80, r=50, t=50, b=50), xaxis_range = [1969,2023],)\n",
    "\n",
    "#  add the legend to the plot\n",
    "fig2.update_layout(legend=dict(orientation=\"h\", yanchor=\"top\", y=1.2, xanchor=\"right\", x=1.1,  traceorder=\"normal\", font=dict(family=\"sans-serif\", size=10, color=\"black\"), bordercolor=\"Black\", borderwidth=0))"
   ]
  },
  {
   "cell_type": "markdown",
   "metadata": {},
   "source": [
    "`Figure of Dependancy Ratio` "
   ]
  },
  {
   "cell_type": "code",
   "execution_count": 27,
   "metadata": {},
   "outputs": [
    {
     "data": {
      "application/vnd.plotly.v1+json": {
       "config": {
        "plotlyServerURL": "https://plot.ly"
       },
       "data": [
        {
         "name": "Age dependency ratio (% of working-age population)",
         "opacity": 0.8,
         "type": "bar",
         "x": [
          1969,
          1970,
          1971,
          1972,
          1973,
          1974,
          1975,
          1976,
          1977,
          1978,
          1979,
          1980,
          1981,
          1982,
          1983,
          1984,
          1985,
          1986,
          1987,
          1988,
          1989,
          1990,
          1991,
          1992,
          1993,
          1994,
          1995,
          1996,
          1997,
          1998,
          1999,
          2000,
          2001,
          2002,
          2003,
          2004,
          2005,
          2006,
          2007,
          2008,
          2009,
          2010,
          2011,
          2012,
          2013,
          2014,
          2015,
          2016,
          2017,
          2018,
          2019,
          2020,
          2021,
          2022,
          2023,
          2024,
          2025,
          2026,
          2027,
          2028,
          2029,
          2030,
          2031,
          2032,
          2033,
          2034,
          2035,
          2036,
          2037,
          2038,
          2039,
          2040,
          2041,
          2042,
          2043,
          2044,
          2045,
          2046,
          2047,
          2048,
          2049,
          2050
         ],
         "y": [
          80.9619791271914,
          80.5240271796299,
          80.1882081317262,
          79.4811770762984,
          78.8312385191076,
          79.0641232036745,
          79.506480828519,
          79.7628158394681,
          78.4350114640648,
          74.7692925707561,
          71.0570895995254,
          68.1096356173386,
          65.5256072187202,
          63.5803391914063,
          61.3764071651005,
          58.8079459649387,
          56.5788832992884,
          54.793170472908,
          53.5856684511626,
          52.6423356421437,
          52.0063538968405,
          51.9303547350579,
          51.8628983790976,
          51.6033297841624,
          51.39483877595,
          51.009961977054,
          50.420393761166,
          49.6393573501919,
          48.5804023875333,
          47.6339316326495,
          46.8316074842524,
          45.8885561082242,
          44.7273941272428,
          43.2813845882223,
          41.8422264034976,
          40.4639037516393,
          39.0319887862999,
          38.0077592231463,
          37.513489367054,
          37.2240232164871,
          37.1039604967079,
          37.1198906844997,
          37.2742674248777,
          37.6567322848111,
          38.2125459020843,
          38.8773959996461,
          39.6192177194909,
          40.4578974621014,
          41.5448916778932,
          42.5935563885368,
          43.4383277533443,
          44.1407832417306,
          44.545904633681,
          44.8623992375397,
          45.0422201131202,
          44.7734089365568,
          44.2517656485834,
          43.6646754759866,
          43.4512128939936,
          44.0612197546375,
          44.8728569948637,
          45.5706604752385,
          46.2543039540862,
          46.7145374249764,
          47.5180247686605,
          48.8178165654191,
          50.3999011625207,
          52.2623654697623,
          54.116156474751,
          55.9067802660216,
          57.5667452669097,
          58.9551827933106,
          60.1186724743113,
          61.1136610822919,
          61.9995976572493,
          62.9819184689296,
          64.1192026627137,
          65.3963389556596,
          66.9103888721409,
          68.3338748880979,
          69.5969512730147,
          71.055869117001
         ]
        }
       ],
       "layout": {
        "template": {
         "data": {
          "bar": [
           {
            "error_x": {
             "color": "#f2f5fa"
            },
            "error_y": {
             "color": "#f2f5fa"
            },
            "marker": {
             "line": {
              "color": "rgb(17,17,17)",
              "width": 0.5
             },
             "pattern": {
              "fillmode": "overlay",
              "size": 10,
              "solidity": 0.2
             }
            },
            "type": "bar"
           }
          ],
          "barpolar": [
           {
            "marker": {
             "line": {
              "color": "rgb(17,17,17)",
              "width": 0.5
             },
             "pattern": {
              "fillmode": "overlay",
              "size": 10,
              "solidity": 0.2
             }
            },
            "type": "barpolar"
           }
          ],
          "carpet": [
           {
            "aaxis": {
             "endlinecolor": "#A2B1C6",
             "gridcolor": "#506784",
             "linecolor": "#506784",
             "minorgridcolor": "#506784",
             "startlinecolor": "#A2B1C6"
            },
            "baxis": {
             "endlinecolor": "#A2B1C6",
             "gridcolor": "#506784",
             "linecolor": "#506784",
             "minorgridcolor": "#506784",
             "startlinecolor": "#A2B1C6"
            },
            "type": "carpet"
           }
          ],
          "choropleth": [
           {
            "colorbar": {
             "outlinewidth": 0,
             "ticks": ""
            },
            "type": "choropleth"
           }
          ],
          "contour": [
           {
            "colorbar": {
             "outlinewidth": 0,
             "ticks": ""
            },
            "colorscale": [
             [
              0,
              "#0d0887"
             ],
             [
              0.1111111111111111,
              "#46039f"
             ],
             [
              0.2222222222222222,
              "#7201a8"
             ],
             [
              0.3333333333333333,
              "#9c179e"
             ],
             [
              0.4444444444444444,
              "#bd3786"
             ],
             [
              0.5555555555555556,
              "#d8576b"
             ],
             [
              0.6666666666666666,
              "#ed7953"
             ],
             [
              0.7777777777777778,
              "#fb9f3a"
             ],
             [
              0.8888888888888888,
              "#fdca26"
             ],
             [
              1,
              "#f0f921"
             ]
            ],
            "type": "contour"
           }
          ],
          "contourcarpet": [
           {
            "colorbar": {
             "outlinewidth": 0,
             "ticks": ""
            },
            "type": "contourcarpet"
           }
          ],
          "heatmap": [
           {
            "colorbar": {
             "outlinewidth": 0,
             "ticks": ""
            },
            "colorscale": [
             [
              0,
              "#0d0887"
             ],
             [
              0.1111111111111111,
              "#46039f"
             ],
             [
              0.2222222222222222,
              "#7201a8"
             ],
             [
              0.3333333333333333,
              "#9c179e"
             ],
             [
              0.4444444444444444,
              "#bd3786"
             ],
             [
              0.5555555555555556,
              "#d8576b"
             ],
             [
              0.6666666666666666,
              "#ed7953"
             ],
             [
              0.7777777777777778,
              "#fb9f3a"
             ],
             [
              0.8888888888888888,
              "#fdca26"
             ],
             [
              1,
              "#f0f921"
             ]
            ],
            "type": "heatmap"
           }
          ],
          "heatmapgl": [
           {
            "colorbar": {
             "outlinewidth": 0,
             "ticks": ""
            },
            "colorscale": [
             [
              0,
              "#0d0887"
             ],
             [
              0.1111111111111111,
              "#46039f"
             ],
             [
              0.2222222222222222,
              "#7201a8"
             ],
             [
              0.3333333333333333,
              "#9c179e"
             ],
             [
              0.4444444444444444,
              "#bd3786"
             ],
             [
              0.5555555555555556,
              "#d8576b"
             ],
             [
              0.6666666666666666,
              "#ed7953"
             ],
             [
              0.7777777777777778,
              "#fb9f3a"
             ],
             [
              0.8888888888888888,
              "#fdca26"
             ],
             [
              1,
              "#f0f921"
             ]
            ],
            "type": "heatmapgl"
           }
          ],
          "histogram": [
           {
            "marker": {
             "pattern": {
              "fillmode": "overlay",
              "size": 10,
              "solidity": 0.2
             }
            },
            "type": "histogram"
           }
          ],
          "histogram2d": [
           {
            "colorbar": {
             "outlinewidth": 0,
             "ticks": ""
            },
            "colorscale": [
             [
              0,
              "#0d0887"
             ],
             [
              0.1111111111111111,
              "#46039f"
             ],
             [
              0.2222222222222222,
              "#7201a8"
             ],
             [
              0.3333333333333333,
              "#9c179e"
             ],
             [
              0.4444444444444444,
              "#bd3786"
             ],
             [
              0.5555555555555556,
              "#d8576b"
             ],
             [
              0.6666666666666666,
              "#ed7953"
             ],
             [
              0.7777777777777778,
              "#fb9f3a"
             ],
             [
              0.8888888888888888,
              "#fdca26"
             ],
             [
              1,
              "#f0f921"
             ]
            ],
            "type": "histogram2d"
           }
          ],
          "histogram2dcontour": [
           {
            "colorbar": {
             "outlinewidth": 0,
             "ticks": ""
            },
            "colorscale": [
             [
              0,
              "#0d0887"
             ],
             [
              0.1111111111111111,
              "#46039f"
             ],
             [
              0.2222222222222222,
              "#7201a8"
             ],
             [
              0.3333333333333333,
              "#9c179e"
             ],
             [
              0.4444444444444444,
              "#bd3786"
             ],
             [
              0.5555555555555556,
              "#d8576b"
             ],
             [
              0.6666666666666666,
              "#ed7953"
             ],
             [
              0.7777777777777778,
              "#fb9f3a"
             ],
             [
              0.8888888888888888,
              "#fdca26"
             ],
             [
              1,
              "#f0f921"
             ]
            ],
            "type": "histogram2dcontour"
           }
          ],
          "mesh3d": [
           {
            "colorbar": {
             "outlinewidth": 0,
             "ticks": ""
            },
            "type": "mesh3d"
           }
          ],
          "parcoords": [
           {
            "line": {
             "colorbar": {
              "outlinewidth": 0,
              "ticks": ""
             }
            },
            "type": "parcoords"
           }
          ],
          "pie": [
           {
            "automargin": true,
            "type": "pie"
           }
          ],
          "scatter": [
           {
            "marker": {
             "line": {
              "color": "#283442"
             }
            },
            "type": "scatter"
           }
          ],
          "scatter3d": [
           {
            "line": {
             "colorbar": {
              "outlinewidth": 0,
              "ticks": ""
             }
            },
            "marker": {
             "colorbar": {
              "outlinewidth": 0,
              "ticks": ""
             }
            },
            "type": "scatter3d"
           }
          ],
          "scattercarpet": [
           {
            "marker": {
             "colorbar": {
              "outlinewidth": 0,
              "ticks": ""
             }
            },
            "type": "scattercarpet"
           }
          ],
          "scattergeo": [
           {
            "marker": {
             "colorbar": {
              "outlinewidth": 0,
              "ticks": ""
             }
            },
            "type": "scattergeo"
           }
          ],
          "scattergl": [
           {
            "marker": {
             "line": {
              "color": "#283442"
             }
            },
            "type": "scattergl"
           }
          ],
          "scattermapbox": [
           {
            "marker": {
             "colorbar": {
              "outlinewidth": 0,
              "ticks": ""
             }
            },
            "type": "scattermapbox"
           }
          ],
          "scatterpolar": [
           {
            "marker": {
             "colorbar": {
              "outlinewidth": 0,
              "ticks": ""
             }
            },
            "type": "scatterpolar"
           }
          ],
          "scatterpolargl": [
           {
            "marker": {
             "colorbar": {
              "outlinewidth": 0,
              "ticks": ""
             }
            },
            "type": "scatterpolargl"
           }
          ],
          "scatterternary": [
           {
            "marker": {
             "colorbar": {
              "outlinewidth": 0,
              "ticks": ""
             }
            },
            "type": "scatterternary"
           }
          ],
          "surface": [
           {
            "colorbar": {
             "outlinewidth": 0,
             "ticks": ""
            },
            "colorscale": [
             [
              0,
              "#0d0887"
             ],
             [
              0.1111111111111111,
              "#46039f"
             ],
             [
              0.2222222222222222,
              "#7201a8"
             ],
             [
              0.3333333333333333,
              "#9c179e"
             ],
             [
              0.4444444444444444,
              "#bd3786"
             ],
             [
              0.5555555555555556,
              "#d8576b"
             ],
             [
              0.6666666666666666,
              "#ed7953"
             ],
             [
              0.7777777777777778,
              "#fb9f3a"
             ],
             [
              0.8888888888888888,
              "#fdca26"
             ],
             [
              1,
              "#f0f921"
             ]
            ],
            "type": "surface"
           }
          ],
          "table": [
           {
            "cells": {
             "fill": {
              "color": "#506784"
             },
             "line": {
              "color": "rgb(17,17,17)"
             }
            },
            "header": {
             "fill": {
              "color": "#2a3f5f"
             },
             "line": {
              "color": "rgb(17,17,17)"
             }
            },
            "type": "table"
           }
          ]
         },
         "layout": {
          "annotationdefaults": {
           "arrowcolor": "#f2f5fa",
           "arrowhead": 0,
           "arrowwidth": 1
          },
          "autotypenumbers": "strict",
          "coloraxis": {
           "colorbar": {
            "outlinewidth": 0,
            "ticks": ""
           }
          },
          "colorscale": {
           "diverging": [
            [
             0,
             "#8e0152"
            ],
            [
             0.1,
             "#c51b7d"
            ],
            [
             0.2,
             "#de77ae"
            ],
            [
             0.3,
             "#f1b6da"
            ],
            [
             0.4,
             "#fde0ef"
            ],
            [
             0.5,
             "#f7f7f7"
            ],
            [
             0.6,
             "#e6f5d0"
            ],
            [
             0.7,
             "#b8e186"
            ],
            [
             0.8,
             "#7fbc41"
            ],
            [
             0.9,
             "#4d9221"
            ],
            [
             1,
             "#276419"
            ]
           ],
           "sequential": [
            [
             0,
             "#0d0887"
            ],
            [
             0.1111111111111111,
             "#46039f"
            ],
            [
             0.2222222222222222,
             "#7201a8"
            ],
            [
             0.3333333333333333,
             "#9c179e"
            ],
            [
             0.4444444444444444,
             "#bd3786"
            ],
            [
             0.5555555555555556,
             "#d8576b"
            ],
            [
             0.6666666666666666,
             "#ed7953"
            ],
            [
             0.7777777777777778,
             "#fb9f3a"
            ],
            [
             0.8888888888888888,
             "#fdca26"
            ],
            [
             1,
             "#f0f921"
            ]
           ],
           "sequentialminus": [
            [
             0,
             "#0d0887"
            ],
            [
             0.1111111111111111,
             "#46039f"
            ],
            [
             0.2222222222222222,
             "#7201a8"
            ],
            [
             0.3333333333333333,
             "#9c179e"
            ],
            [
             0.4444444444444444,
             "#bd3786"
            ],
            [
             0.5555555555555556,
             "#d8576b"
            ],
            [
             0.6666666666666666,
             "#ed7953"
            ],
            [
             0.7777777777777778,
             "#fb9f3a"
            ],
            [
             0.8888888888888888,
             "#fdca26"
            ],
            [
             1,
             "#f0f921"
            ]
           ]
          },
          "colorway": [
           "#636efa",
           "#EF553B",
           "#00cc96",
           "#ab63fa",
           "#FFA15A",
           "#19d3f3",
           "#FF6692",
           "#B6E880",
           "#FF97FF",
           "#FECB52"
          ],
          "font": {
           "color": "#f2f5fa"
          },
          "geo": {
           "bgcolor": "rgb(17,17,17)",
           "lakecolor": "rgb(17,17,17)",
           "landcolor": "rgb(17,17,17)",
           "showlakes": true,
           "showland": true,
           "subunitcolor": "#506784"
          },
          "hoverlabel": {
           "align": "left"
          },
          "hovermode": "closest",
          "mapbox": {
           "style": "dark"
          },
          "paper_bgcolor": "rgb(17,17,17)",
          "plot_bgcolor": "rgb(17,17,17)",
          "polar": {
           "angularaxis": {
            "gridcolor": "#506784",
            "linecolor": "#506784",
            "ticks": ""
           },
           "bgcolor": "rgb(17,17,17)",
           "radialaxis": {
            "gridcolor": "#506784",
            "linecolor": "#506784",
            "ticks": ""
           }
          },
          "scene": {
           "xaxis": {
            "backgroundcolor": "rgb(17,17,17)",
            "gridcolor": "#506784",
            "gridwidth": 2,
            "linecolor": "#506784",
            "showbackground": true,
            "ticks": "",
            "zerolinecolor": "#C8D4E3"
           },
           "yaxis": {
            "backgroundcolor": "rgb(17,17,17)",
            "gridcolor": "#506784",
            "gridwidth": 2,
            "linecolor": "#506784",
            "showbackground": true,
            "ticks": "",
            "zerolinecolor": "#C8D4E3"
           },
           "zaxis": {
            "backgroundcolor": "rgb(17,17,17)",
            "gridcolor": "#506784",
            "gridwidth": 2,
            "linecolor": "#506784",
            "showbackground": true,
            "ticks": "",
            "zerolinecolor": "#C8D4E3"
           }
          },
          "shapedefaults": {
           "line": {
            "color": "#f2f5fa"
           }
          },
          "sliderdefaults": {
           "bgcolor": "#C8D4E3",
           "bordercolor": "rgb(17,17,17)",
           "borderwidth": 1,
           "tickwidth": 0
          },
          "ternary": {
           "aaxis": {
            "gridcolor": "#506784",
            "linecolor": "#506784",
            "ticks": ""
           },
           "baxis": {
            "gridcolor": "#506784",
            "linecolor": "#506784",
            "ticks": ""
           },
           "bgcolor": "rgb(17,17,17)",
           "caxis": {
            "gridcolor": "#506784",
            "linecolor": "#506784",
            "ticks": ""
           }
          },
          "title": {
           "x": 0.05
          },
          "updatemenudefaults": {
           "bgcolor": "#506784",
           "borderwidth": 0
          },
          "xaxis": {
           "automargin": true,
           "gridcolor": "#283442",
           "linecolor": "#506784",
           "ticks": "",
           "title": {
            "standoff": 15
           },
           "zerolinecolor": "#283442",
           "zerolinewidth": 2
          },
          "yaxis": {
           "automargin": true,
           "gridcolor": "#283442",
           "linecolor": "#506784",
           "ticks": "",
           "title": {
            "standoff": 15
           },
           "zerolinecolor": "#283442",
           "zerolinewidth": 2
          }
         }
        },
        "title": {
         "text": "Working-Age Dependency Ratio"
        },
        "xaxis": {
         "title": {
          "text": "Year"
         }
        }
       }
      }
     },
     "metadata": {},
     "output_type": "display_data"
    }
   ],
   "source": [
    "# from amgad data\n",
    "fig3 = go.Figure( )\n",
    "fig3.add_trace(go.Bar(x=df[\"Year\"], y=df[\"Age Dependency Ratio\"], name=\"Age dependency ratio (% of working-age population)\",\n",
    "                       opacity=0.8)  )\n",
    "fig3.update_layout(template='plotly_dark', title=\"Working-Age Dependency Ratio\", xaxis_title=\"Year\",\n",
    "                   )\n",
    "fig3.show()\n",
    "\n"
   ]
  },
  {
   "cell_type": "markdown",
   "metadata": {},
   "source": [
    "`Figure of Density` "
   ]
  },
  {
   "cell_type": "code",
   "execution_count": 28,
   "metadata": {},
   "outputs": [],
   "source": [
    "# # density\n",
    "# fig4 = px.scatter(merged, x=\"date\", y=\" Population per Square KM\", title=\"Density Per KM of China\", template=\"plotly_dark\",)\n",
    "# fig4.show()"
   ]
  },
  {
   "cell_type": "markdown",
   "metadata": {},
   "source": [
    "`Figure of Urban vs Rural` "
   ]
  },
  {
   "cell_type": "code",
   "execution_count": 29,
   "metadata": {},
   "outputs": [
    {
     "data": {
      "application/vnd.plotly.v1+json": {
       "config": {
        "plotlyServerURL": "https://plot.ly"
       },
       "data": [
        {
         "alignmentgroup": "True",
         "hovertemplate": "Population Type=Urban Population Percentage<br>Year=%{x}<br>Percentage=%{y}<extra></extra>",
         "legendgroup": "Urban Population Percentage",
         "marker": {
          "color": "#636efa",
          "pattern": {
           "shape": ""
          }
         },
         "name": "Urban Population Percentage",
         "offsetgroup": "Urban Population Percentage",
         "orientation": "v",
         "showlegend": true,
         "textposition": "auto",
         "type": "bar",
         "x": [
          1969,
          1970,
          1971,
          1972,
          1973,
          1974,
          1975,
          1976,
          1977,
          1978,
          1979,
          1980,
          1981,
          1982,
          1983,
          1984,
          1985,
          1986,
          1987,
          1988,
          1989,
          1990,
          1991,
          1992,
          1993,
          1994,
          1995,
          1996,
          1997,
          1998,
          1999,
          2000,
          2001,
          2002,
          2003,
          2004,
          2005,
          2006,
          2007,
          2008,
          2009,
          2010,
          2011,
          2012,
          2013,
          2014,
          2015,
          2016,
          2017,
          2018,
          2019,
          2020,
          2021,
          2022,
          2023,
          2024,
          2025,
          2026,
          2027,
          2028,
          2029,
          2030,
          2031,
          2032,
          2033,
          2034,
          2035,
          2036,
          2037,
          2038,
          2039,
          2040,
          2041,
          2042,
          2043,
          2044,
          2045,
          2046,
          2047,
          2048,
          2049,
          2050
         ],
         "xaxis": "x",
         "y": [
          17.528,
          17.4,
          17.292,
          17.184,
          17.184,
          17.292,
          17.4,
          17.46,
          17.52,
          17.9,
          18.617,
          19.358,
          20.118,
          20.902,
          21.545,
          22.203,
          22.874,
          23.559,
          24.259,
          24.974,
          25.701,
          26.442,
          27.312,
          28.2,
          29.103,
          30.024,
          30.961,
          31.916,
          32.883,
          33.867,
          34.865,
          35.877,
          37.093,
          38.425,
          39.776,
          41.144,
          42.522,
          43.868,
          45.199,
          46.539,
          47.88,
          49.226,
          50.511,
          51.765,
          53.013,
          54.259,
          55.5,
          56.736,
          57.96,
          59.152,
          60.308,
          61.428,
          62.512,
          63.56,
          64.57,
          65.544,
          66.481,
          67.382,
          68.246,
          69.074,
          69.867,
          70.626,
          71.35,
          72.041,
          72.698,
          73.324,
          73.918,
          74.481,
          75.014,
          75.517,
          75.991,
          76.436,
          76.854,
          77.243,
          77.605,
          77.964,
          78.318,
          78.668,
          79.015,
          79.356,
          79.694,
          80.028
         ],
         "yaxis": "y"
        },
        {
         "alignmentgroup": "True",
         "hovertemplate": "Population Type=Rural Population Percentage<br>Year=%{x}<br>Percentage=%{y}<extra></extra>",
         "legendgroup": "Rural Population Percentage",
         "marker": {
          "color": "#EF553B",
          "pattern": {
           "shape": ""
          }
         },
         "name": "Rural Population Percentage",
         "offsetgroup": "Rural Population Percentage",
         "orientation": "v",
         "showlegend": true,
         "textposition": "auto",
         "type": "bar",
         "x": [
          1969,
          1970,
          1971,
          1972,
          1973,
          1974,
          1975,
          1976,
          1977,
          1978,
          1979,
          1980,
          1981,
          1982,
          1983,
          1984,
          1985,
          1986,
          1987,
          1988,
          1989,
          1990,
          1991,
          1992,
          1993,
          1994,
          1995,
          1996,
          1997,
          1998,
          1999,
          2000,
          2001,
          2002,
          2003,
          2004,
          2005,
          2006,
          2007,
          2008,
          2009,
          2010,
          2011,
          2012,
          2013,
          2014,
          2015,
          2016,
          2017,
          2018,
          2019,
          2020,
          2021,
          2022,
          2023,
          2024,
          2025,
          2026,
          2027,
          2028,
          2029,
          2030,
          2031,
          2032,
          2033,
          2034,
          2035,
          2036,
          2037,
          2038,
          2039,
          2040,
          2041,
          2042,
          2043,
          2044,
          2045,
          2046,
          2047,
          2048,
          2049,
          2050
         ],
         "xaxis": "x",
         "y": [
          82.472,
          82.6,
          82.708,
          82.816,
          82.816,
          82.708,
          82.6,
          82.54,
          82.48,
          82.1,
          81.383,
          80.642,
          79.882,
          79.098,
          78.455,
          77.797,
          77.126,
          76.441,
          75.741,
          75.026,
          74.299,
          73.558,
          72.688,
          71.8,
          70.897,
          69.976,
          69.039,
          68.084,
          67.117,
          66.133,
          65.135,
          64.123,
          62.907,
          61.575,
          60.224,
          58.856,
          57.478,
          56.132,
          54.801,
          53.461,
          52.12,
          50.774,
          49.489,
          48.235,
          46.987,
          45.741,
          44.5,
          43.264,
          42.04,
          40.848,
          39.692,
          38.572,
          37.488,
          36.44,
          35.43,
          34.456,
          33.519,
          32.618,
          31.754,
          30.926,
          30.133,
          29.374,
          28.65,
          27.959,
          27.302,
          26.676,
          26.082,
          25.519,
          24.986,
          24.483,
          24.009,
          23.564,
          23.146,
          22.757,
          22.395,
          22.036,
          21.682,
          21.332,
          20.985,
          20.644,
          20.306,
          19.972
         ],
         "yaxis": "y"
        }
       ],
       "layout": {
        "barmode": "stack",
        "height": 300,
        "legend": {
         "font": {
          "size": 12
         },
         "orientation": "h",
         "title": {
          "text": ""
         },
         "tracegroupgap": 0,
         "traceorder": "reversed",
         "x": 1,
         "xanchor": "right",
         "y": 0.9,
         "yanchor": "bottom"
        },
        "margin": {
         "b": 50,
         "l": 10,
         "r": 10,
         "t": 50
        },
        "template": {
         "data": {
          "bar": [
           {
            "error_x": {
             "color": "#2a3f5f"
            },
            "error_y": {
             "color": "#2a3f5f"
            },
            "marker": {
             "line": {
              "color": "white",
              "width": 0.5
             },
             "pattern": {
              "fillmode": "overlay",
              "size": 10,
              "solidity": 0.2
             }
            },
            "type": "bar"
           }
          ],
          "barpolar": [
           {
            "marker": {
             "line": {
              "color": "white",
              "width": 0.5
             },
             "pattern": {
              "fillmode": "overlay",
              "size": 10,
              "solidity": 0.2
             }
            },
            "type": "barpolar"
           }
          ],
          "carpet": [
           {
            "aaxis": {
             "endlinecolor": "#2a3f5f",
             "gridcolor": "#C8D4E3",
             "linecolor": "#C8D4E3",
             "minorgridcolor": "#C8D4E3",
             "startlinecolor": "#2a3f5f"
            },
            "baxis": {
             "endlinecolor": "#2a3f5f",
             "gridcolor": "#C8D4E3",
             "linecolor": "#C8D4E3",
             "minorgridcolor": "#C8D4E3",
             "startlinecolor": "#2a3f5f"
            },
            "type": "carpet"
           }
          ],
          "choropleth": [
           {
            "colorbar": {
             "outlinewidth": 0,
             "ticks": ""
            },
            "type": "choropleth"
           }
          ],
          "contour": [
           {
            "colorbar": {
             "outlinewidth": 0,
             "ticks": ""
            },
            "colorscale": [
             [
              0,
              "#0d0887"
             ],
             [
              0.1111111111111111,
              "#46039f"
             ],
             [
              0.2222222222222222,
              "#7201a8"
             ],
             [
              0.3333333333333333,
              "#9c179e"
             ],
             [
              0.4444444444444444,
              "#bd3786"
             ],
             [
              0.5555555555555556,
              "#d8576b"
             ],
             [
              0.6666666666666666,
              "#ed7953"
             ],
             [
              0.7777777777777778,
              "#fb9f3a"
             ],
             [
              0.8888888888888888,
              "#fdca26"
             ],
             [
              1,
              "#f0f921"
             ]
            ],
            "type": "contour"
           }
          ],
          "contourcarpet": [
           {
            "colorbar": {
             "outlinewidth": 0,
             "ticks": ""
            },
            "type": "contourcarpet"
           }
          ],
          "heatmap": [
           {
            "colorbar": {
             "outlinewidth": 0,
             "ticks": ""
            },
            "colorscale": [
             [
              0,
              "#0d0887"
             ],
             [
              0.1111111111111111,
              "#46039f"
             ],
             [
              0.2222222222222222,
              "#7201a8"
             ],
             [
              0.3333333333333333,
              "#9c179e"
             ],
             [
              0.4444444444444444,
              "#bd3786"
             ],
             [
              0.5555555555555556,
              "#d8576b"
             ],
             [
              0.6666666666666666,
              "#ed7953"
             ],
             [
              0.7777777777777778,
              "#fb9f3a"
             ],
             [
              0.8888888888888888,
              "#fdca26"
             ],
             [
              1,
              "#f0f921"
             ]
            ],
            "type": "heatmap"
           }
          ],
          "heatmapgl": [
           {
            "colorbar": {
             "outlinewidth": 0,
             "ticks": ""
            },
            "colorscale": [
             [
              0,
              "#0d0887"
             ],
             [
              0.1111111111111111,
              "#46039f"
             ],
             [
              0.2222222222222222,
              "#7201a8"
             ],
             [
              0.3333333333333333,
              "#9c179e"
             ],
             [
              0.4444444444444444,
              "#bd3786"
             ],
             [
              0.5555555555555556,
              "#d8576b"
             ],
             [
              0.6666666666666666,
              "#ed7953"
             ],
             [
              0.7777777777777778,
              "#fb9f3a"
             ],
             [
              0.8888888888888888,
              "#fdca26"
             ],
             [
              1,
              "#f0f921"
             ]
            ],
            "type": "heatmapgl"
           }
          ],
          "histogram": [
           {
            "marker": {
             "pattern": {
              "fillmode": "overlay",
              "size": 10,
              "solidity": 0.2
             }
            },
            "type": "histogram"
           }
          ],
          "histogram2d": [
           {
            "colorbar": {
             "outlinewidth": 0,
             "ticks": ""
            },
            "colorscale": [
             [
              0,
              "#0d0887"
             ],
             [
              0.1111111111111111,
              "#46039f"
             ],
             [
              0.2222222222222222,
              "#7201a8"
             ],
             [
              0.3333333333333333,
              "#9c179e"
             ],
             [
              0.4444444444444444,
              "#bd3786"
             ],
             [
              0.5555555555555556,
              "#d8576b"
             ],
             [
              0.6666666666666666,
              "#ed7953"
             ],
             [
              0.7777777777777778,
              "#fb9f3a"
             ],
             [
              0.8888888888888888,
              "#fdca26"
             ],
             [
              1,
              "#f0f921"
             ]
            ],
            "type": "histogram2d"
           }
          ],
          "histogram2dcontour": [
           {
            "colorbar": {
             "outlinewidth": 0,
             "ticks": ""
            },
            "colorscale": [
             [
              0,
              "#0d0887"
             ],
             [
              0.1111111111111111,
              "#46039f"
             ],
             [
              0.2222222222222222,
              "#7201a8"
             ],
             [
              0.3333333333333333,
              "#9c179e"
             ],
             [
              0.4444444444444444,
              "#bd3786"
             ],
             [
              0.5555555555555556,
              "#d8576b"
             ],
             [
              0.6666666666666666,
              "#ed7953"
             ],
             [
              0.7777777777777778,
              "#fb9f3a"
             ],
             [
              0.8888888888888888,
              "#fdca26"
             ],
             [
              1,
              "#f0f921"
             ]
            ],
            "type": "histogram2dcontour"
           }
          ],
          "mesh3d": [
           {
            "colorbar": {
             "outlinewidth": 0,
             "ticks": ""
            },
            "type": "mesh3d"
           }
          ],
          "parcoords": [
           {
            "line": {
             "colorbar": {
              "outlinewidth": 0,
              "ticks": ""
             }
            },
            "type": "parcoords"
           }
          ],
          "pie": [
           {
            "automargin": true,
            "type": "pie"
           }
          ],
          "scatter": [
           {
            "marker": {
             "colorbar": {
              "outlinewidth": 0,
              "ticks": ""
             }
            },
            "type": "scatter"
           }
          ],
          "scatter3d": [
           {
            "line": {
             "colorbar": {
              "outlinewidth": 0,
              "ticks": ""
             }
            },
            "marker": {
             "colorbar": {
              "outlinewidth": 0,
              "ticks": ""
             }
            },
            "type": "scatter3d"
           }
          ],
          "scattercarpet": [
           {
            "marker": {
             "colorbar": {
              "outlinewidth": 0,
              "ticks": ""
             }
            },
            "type": "scattercarpet"
           }
          ],
          "scattergeo": [
           {
            "marker": {
             "colorbar": {
              "outlinewidth": 0,
              "ticks": ""
             }
            },
            "type": "scattergeo"
           }
          ],
          "scattergl": [
           {
            "marker": {
             "colorbar": {
              "outlinewidth": 0,
              "ticks": ""
             }
            },
            "type": "scattergl"
           }
          ],
          "scattermapbox": [
           {
            "marker": {
             "colorbar": {
              "outlinewidth": 0,
              "ticks": ""
             }
            },
            "type": "scattermapbox"
           }
          ],
          "scatterpolar": [
           {
            "marker": {
             "colorbar": {
              "outlinewidth": 0,
              "ticks": ""
             }
            },
            "type": "scatterpolar"
           }
          ],
          "scatterpolargl": [
           {
            "marker": {
             "colorbar": {
              "outlinewidth": 0,
              "ticks": ""
             }
            },
            "type": "scatterpolargl"
           }
          ],
          "scatterternary": [
           {
            "marker": {
             "colorbar": {
              "outlinewidth": 0,
              "ticks": ""
             }
            },
            "type": "scatterternary"
           }
          ],
          "surface": [
           {
            "colorbar": {
             "outlinewidth": 0,
             "ticks": ""
            },
            "colorscale": [
             [
              0,
              "#0d0887"
             ],
             [
              0.1111111111111111,
              "#46039f"
             ],
             [
              0.2222222222222222,
              "#7201a8"
             ],
             [
              0.3333333333333333,
              "#9c179e"
             ],
             [
              0.4444444444444444,
              "#bd3786"
             ],
             [
              0.5555555555555556,
              "#d8576b"
             ],
             [
              0.6666666666666666,
              "#ed7953"
             ],
             [
              0.7777777777777778,
              "#fb9f3a"
             ],
             [
              0.8888888888888888,
              "#fdca26"
             ],
             [
              1,
              "#f0f921"
             ]
            ],
            "type": "surface"
           }
          ],
          "table": [
           {
            "cells": {
             "fill": {
              "color": "#EBF0F8"
             },
             "line": {
              "color": "white"
             }
            },
            "header": {
             "fill": {
              "color": "#C8D4E3"
             },
             "line": {
              "color": "white"
             }
            },
            "type": "table"
           }
          ]
         },
         "layout": {
          "annotationdefaults": {
           "arrowcolor": "#2a3f5f",
           "arrowhead": 0,
           "arrowwidth": 1
          },
          "autotypenumbers": "strict",
          "coloraxis": {
           "colorbar": {
            "outlinewidth": 0,
            "ticks": ""
           }
          },
          "colorscale": {
           "diverging": [
            [
             0,
             "#8e0152"
            ],
            [
             0.1,
             "#c51b7d"
            ],
            [
             0.2,
             "#de77ae"
            ],
            [
             0.3,
             "#f1b6da"
            ],
            [
             0.4,
             "#fde0ef"
            ],
            [
             0.5,
             "#f7f7f7"
            ],
            [
             0.6,
             "#e6f5d0"
            ],
            [
             0.7,
             "#b8e186"
            ],
            [
             0.8,
             "#7fbc41"
            ],
            [
             0.9,
             "#4d9221"
            ],
            [
             1,
             "#276419"
            ]
           ],
           "sequential": [
            [
             0,
             "#0d0887"
            ],
            [
             0.1111111111111111,
             "#46039f"
            ],
            [
             0.2222222222222222,
             "#7201a8"
            ],
            [
             0.3333333333333333,
             "#9c179e"
            ],
            [
             0.4444444444444444,
             "#bd3786"
            ],
            [
             0.5555555555555556,
             "#d8576b"
            ],
            [
             0.6666666666666666,
             "#ed7953"
            ],
            [
             0.7777777777777778,
             "#fb9f3a"
            ],
            [
             0.8888888888888888,
             "#fdca26"
            ],
            [
             1,
             "#f0f921"
            ]
           ],
           "sequentialminus": [
            [
             0,
             "#0d0887"
            ],
            [
             0.1111111111111111,
             "#46039f"
            ],
            [
             0.2222222222222222,
             "#7201a8"
            ],
            [
             0.3333333333333333,
             "#9c179e"
            ],
            [
             0.4444444444444444,
             "#bd3786"
            ],
            [
             0.5555555555555556,
             "#d8576b"
            ],
            [
             0.6666666666666666,
             "#ed7953"
            ],
            [
             0.7777777777777778,
             "#fb9f3a"
            ],
            [
             0.8888888888888888,
             "#fdca26"
            ],
            [
             1,
             "#f0f921"
            ]
           ]
          },
          "colorway": [
           "#636efa",
           "#EF553B",
           "#00cc96",
           "#ab63fa",
           "#FFA15A",
           "#19d3f3",
           "#FF6692",
           "#B6E880",
           "#FF97FF",
           "#FECB52"
          ],
          "font": {
           "color": "#2a3f5f"
          },
          "geo": {
           "bgcolor": "white",
           "lakecolor": "white",
           "landcolor": "white",
           "showlakes": true,
           "showland": true,
           "subunitcolor": "#C8D4E3"
          },
          "hoverlabel": {
           "align": "left"
          },
          "hovermode": "closest",
          "mapbox": {
           "style": "light"
          },
          "paper_bgcolor": "white",
          "plot_bgcolor": "white",
          "polar": {
           "angularaxis": {
            "gridcolor": "#EBF0F8",
            "linecolor": "#EBF0F8",
            "ticks": ""
           },
           "bgcolor": "white",
           "radialaxis": {
            "gridcolor": "#EBF0F8",
            "linecolor": "#EBF0F8",
            "ticks": ""
           }
          },
          "scene": {
           "xaxis": {
            "backgroundcolor": "white",
            "gridcolor": "#DFE8F3",
            "gridwidth": 2,
            "linecolor": "#EBF0F8",
            "showbackground": true,
            "ticks": "",
            "zerolinecolor": "#EBF0F8"
           },
           "yaxis": {
            "backgroundcolor": "white",
            "gridcolor": "#DFE8F3",
            "gridwidth": 2,
            "linecolor": "#EBF0F8",
            "showbackground": true,
            "ticks": "",
            "zerolinecolor": "#EBF0F8"
           },
           "zaxis": {
            "backgroundcolor": "white",
            "gridcolor": "#DFE8F3",
            "gridwidth": 2,
            "linecolor": "#EBF0F8",
            "showbackground": true,
            "ticks": "",
            "zerolinecolor": "#EBF0F8"
           }
          },
          "shapedefaults": {
           "line": {
            "color": "#2a3f5f"
           }
          },
          "ternary": {
           "aaxis": {
            "gridcolor": "#DFE8F3",
            "linecolor": "#A2B1C6",
            "ticks": ""
           },
           "baxis": {
            "gridcolor": "#DFE8F3",
            "linecolor": "#A2B1C6",
            "ticks": ""
           },
           "bgcolor": "white",
           "caxis": {
            "gridcolor": "#DFE8F3",
            "linecolor": "#A2B1C6",
            "ticks": ""
           }
          },
          "title": {
           "x": 0.05
          },
          "xaxis": {
           "automargin": true,
           "gridcolor": "#EBF0F8",
           "linecolor": "#EBF0F8",
           "ticks": "",
           "title": {
            "standoff": 15
           },
           "zerolinecolor": "#EBF0F8",
           "zerolinewidth": 2
          },
          "yaxis": {
           "automargin": true,
           "gridcolor": "#EBF0F8",
           "linecolor": "#EBF0F8",
           "ticks": "",
           "title": {
            "standoff": 15
           },
           "zerolinecolor": "#EBF0F8",
           "zerolinewidth": 2
          }
         }
        },
        "title": {
         "text": "Urbanization goes up as workers seek better opportunities"
        },
        "width": 480,
        "xaxis": {
         "anchor": "y",
         "domain": [
          0,
          1
         ],
         "title": {
          "text": "Year"
         }
        },
        "yaxis": {
         "anchor": "x",
         "domain": [
          0,
          1
         ],
         "title": {
          "text": "Population"
         }
        }
       }
      }
     },
     "metadata": {},
     "output_type": "display_data"
    }
   ],
   "source": [
    "#Urban vs Rural\n",
    "# h stack bar chart\n",
    "# Urabn vs Rural using df2 \n",
    "fig10 = px.bar(df, x=\"Year\", y=['Urban Population Percentage',\n",
    "                                 'Rural Population Percentage'],\n",
    "               title=\"Urbanization goes up as workers seek better opportunities\", template=\"plotly_white\",\n",
    "               labels={\"value\": \"Percentage\", \"variable\": \"Population Type\", \"Year\": \"Year\", \n",
    "                       \"Urban population (% of total population) [SP.URB.TOTL.IN.ZS]\": \"Urban Population\",\n",
    "                       \"Rural population (% of total population) [SP.RUR.TOTL.ZS]\": \"Rural Population\"})\n",
    "fig10.update_layout(barmode='stack' , xaxis_title=\"Year\", yaxis_title=\"Population\",\n",
    "                    #add legend title \n",
    "                    legend_title=\"\",)\n",
    "fig10.update_layout(width=480,    height=300)\n",
    "fig10.update_layout(legend=dict(orientation=\"h\", yanchor=\"bottom\", y=0.9, xanchor=\"right\", x=1,\n",
    "                                    traceorder=\"reversed\", font=dict(size=12,), ),) \n",
    "\n",
    "fig10.update_layout(margin=dict(l=10, r=10, t=50, b=50))\n",
    "\n",
    "#fig10.update_layout(legend=dict(orientation=\"h\", yanchor=\"top\", y=1.4, xanchor=\"right\", x=0.5,  traceorder=\"normal\", font=dict(family=\"sans-serif\", size=10, color=\"black\"), bordercolor=\"Black\", borderwidth=0))\n",
    "                  \n",
    "fig10.show()"
   ]
  },
  {
   "cell_type": "markdown",
   "metadata": {},
   "source": [
    "`Pyramid Figure`"
   ]
  },
  {
   "cell_type": "code",
   "execution_count": 30,
   "metadata": {},
   "outputs": [
    {
     "data": {
      "application/vnd.plotly.v1+json": {
       "config": {
        "plotlyServerURL": "https://plot.ly"
       },
       "data": [
        {
         "hovertemplate": "%{y} %{x} <extra></extra>",
         "name": "Male",
         "orientation": "h",
         "type": "bar",
         "x": [
          -25808583,
          -26921766.5,
          -32191598.5,
          -47175731,
          -47806424,
          -43667878.5,
          -42177422,
          -45410829,
          -58345404.5,
          -57907816.5,
          -49668679,
          -47804473,
          -57389510,
          -50359969.5,
          -30341395,
          -26527166.5,
          -16035890,
          -6215301,
          -1808892.5,
          -276768.5,
          -13175
         ],
         "y": [
          "0-4",
          "5-9",
          "10-14",
          "15-19",
          "20-24",
          "25-29",
          "30-34",
          "35-39",
          "40-44",
          "45-49",
          "50-54",
          "55-59",
          "60-64",
          "65-69",
          "70-74",
          "75-79",
          "80-84",
          "85-89",
          "90-94",
          "95-99",
          "100+"
         ]
        },
        {
         "hovertemplate": "%{y} %{x} <extra></extra>",
         "name": "Female",
         "orientation": "h",
         "type": "bar",
         "x": [
          24008586,
          24589000.5,
          28718169,
          41175040,
          41009431.5,
          37256283.5,
          36247275,
          39822524,
          52917035.5,
          54263557,
          47817232,
          47205245.5,
          58585418,
          53954205.5,
          34442244.5,
          33218569,
          22824053,
          9990451.5,
          3833244.5,
          964876.5,
          113263
         ],
         "y": [
          "0-4",
          "5-9",
          "10-14",
          "15-19",
          "20-24",
          "25-29",
          "30-34",
          "35-39",
          "40-44",
          "45-49",
          "50-54",
          "55-59",
          "60-64",
          "65-69",
          "70-74",
          "75-79",
          "80-84",
          "85-89",
          "90-94",
          "95-99",
          "100+"
         ]
        }
       ],
       "frames": [
        {
         "data": [
          {
           "hovertemplate": "%{y} %{x} <extra></extra>",
           "name": "Male",
           "orientation": "h",
           "type": "bar",
           "x": [
            -69077008,
            -51420627,
            -48299804.5,
            -44829741,
            -32500817,
            -26809877,
            -26102317,
            -23822147.5,
            -20399126.5,
            -17337358,
            -14542920,
            -11974703,
            -9150074.5,
            -6229932,
            -3498457,
            -1653687.5,
            -597642,
            -137244.5,
            -17021,
            -958.5,
            -2.5
           ],
           "y": [
            "0-4",
            "5-9",
            "10-14",
            "15-19",
            "20-24",
            "25-29",
            "30-34",
            "35-39",
            "40-44",
            "45-49",
            "50-54",
            "55-59",
            "60-64",
            "65-69",
            "70-74",
            "75-79",
            "80-84",
            "85-89",
            "90-94",
            "95-99",
            "100+"
           ]
          },
          {
           "hovertemplate": "%{y} %{x} <extra></extra>",
           "name": "Female",
           "orientation": "h",
           "type": "bar",
           "x": [
            65456628,
            48816463,
            45935186,
            43094076.5,
            30000016,
            23983508.5,
            23211746.5,
            21659955,
            19042036,
            16795772,
            14629506.5,
            12421824.5,
            10565052,
            7925987,
            5014117,
            2855777.5,
            1216785.5,
            348282.5,
            52573,
            4065,
            152.5
           ],
           "y": [
            "0-4",
            "5-9",
            "10-14",
            "15-19",
            "20-24",
            "25-29",
            "30-34",
            "35-39",
            "40-44",
            "45-49",
            "50-54",
            "55-59",
            "60-64",
            "65-69",
            "70-74",
            "75-79",
            "80-84",
            "85-89",
            "90-94",
            "95-99",
            "100+"
           ]
          }
         ],
         "layout": {
          "annotations": [
           {
            "showarrow": false,
            "text": "Year: 1969",
            "x": 0.9,
            "xref": "paper",
            "y": 1,
            "yref": "paper"
           },
           {
            "showarrow": false,
            "text": "age",
            "x": -0.1,
            "xref": "paper",
            "y": 1.1,
            "yref": "paper"
           }
          ]
         },
         "name": "1969"
        },
        {
         "data": [
          {
           "hovertemplate": "%{y} %{x} <extra></extra>",
           "name": "Male",
           "orientation": "h",
           "type": "bar",
           "x": [
            -69832681.5,
            -57159751.5,
            -45620831.5,
            -46770006,
            -34649578.5,
            -27170672.5,
            -26037763.5,
            -24362896.5,
            -20793360.5,
            -17838583,
            -14717518.5,
            -12306513,
            -9329570.5,
            -6461993.5,
            -3579791,
            -1715540.5,
            -614431.5,
            -138875.5,
            -17490,
            -893,
            -1.5
           ],
           "y": [
            "0-4",
            "5-9",
            "10-14",
            "15-19",
            "20-24",
            "25-29",
            "30-34",
            "35-39",
            "40-44",
            "45-49",
            "50-54",
            "55-59",
            "60-64",
            "65-69",
            "70-74",
            "75-79",
            "80-84",
            "85-89",
            "90-94",
            "95-99",
            "100+"
           ]
          },
          {
           "hovertemplate": "%{y} %{x} <extra></extra>",
           "name": "Female",
           "orientation": "h",
           "type": "bar",
           "x": [
            66138852.5,
            54268497,
            43339964.5,
            44978887.5,
            32330350.5,
            24491808.5,
            23025220,
            22150735,
            19304588.5,
            17203047,
            14798717.5,
            12690133,
            10687154.5,
            8236445.5,
            5128628,
            2973112,
            1256158,
            353750,
            55506,
            4016.5,
            134.5
           ],
           "y": [
            "0-4",
            "5-9",
            "10-14",
            "15-19",
            "20-24",
            "25-29",
            "30-34",
            "35-39",
            "40-44",
            "45-49",
            "50-54",
            "55-59",
            "60-64",
            "65-69",
            "70-74",
            "75-79",
            "80-84",
            "85-89",
            "90-94",
            "95-99",
            "100+"
           ]
          }
         ],
         "layout": {
          "annotations": [
           {
            "showarrow": false,
            "text": "Year: 1970",
            "x": 0.9,
            "xref": "paper",
            "y": 1,
            "yref": "paper"
           },
           {
            "showarrow": false,
            "text": "age",
            "x": -0.1,
            "xref": "paper",
            "y": 1.1,
            "yref": "paper"
           }
          ]
         },
         "name": "1970"
        },
        {
         "data": [
          {
           "hovertemplate": "%{y} %{x} <extra></extra>",
           "name": "Male",
           "orientation": "h",
           "type": "bar",
           "x": [
            -70497476.5,
            -63043886.5,
            -42880446.5,
            -48046200.5,
            -36935257.5,
            -27709628,
            -26097223,
            -24869121,
            -21308191.5,
            -18199602.5,
            -15021897.5,
            -12629110,
            -9483507,
            -6655004.5,
            -3720164.5,
            -1788463.5,
            -628082.5,
            -142968.5,
            -18439,
            -833.5,
            -1.5
           ],
           "y": [
            "0-4",
            "5-9",
            "10-14",
            "15-19",
            "20-24",
            "25-29",
            "30-34",
            "35-39",
            "40-44",
            "45-49",
            "50-54",
            "55-59",
            "60-64",
            "65-69",
            "70-74",
            "75-79",
            "80-84",
            "85-89",
            "90-94",
            "95-99",
            "100+"
           ]
          },
          {
           "hovertemplate": "%{y} %{x} <extra></extra>",
           "name": "Female",
           "orientation": "h",
           "type": "bar",
           "x": [
            66734335.5,
            59839052,
            40719987.5,
            46140751.5,
            34830708.5,
            25173405,
            23020619.5,
            22599347.5,
            19684171.5,
            17461987.5,
            15038143.5,
            13020763,
            10732922,
            8475052.5,
            5327849.5,
            3091957,
            1292091,
            362717.5,
            59910.5,
            4032.5,
            113
           ],
           "y": [
            "0-4",
            "5-9",
            "10-14",
            "15-19",
            "20-24",
            "25-29",
            "30-34",
            "35-39",
            "40-44",
            "45-49",
            "50-54",
            "55-59",
            "60-64",
            "65-69",
            "70-74",
            "75-79",
            "80-84",
            "85-89",
            "90-94",
            "95-99",
            "100+"
           ]
          }
         ],
         "layout": {
          "annotations": [
           {
            "showarrow": false,
            "text": "Year: 1971",
            "x": 0.9,
            "xref": "paper",
            "y": 1,
            "yref": "paper"
           },
           {
            "showarrow": false,
            "text": "age",
            "x": -0.1,
            "xref": "paper",
            "y": 1.1,
            "yref": "paper"
           }
          ]
         },
         "name": "1971"
        },
        {
         "data": [
          {
           "hovertemplate": "%{y} %{x} <extra></extra>",
           "name": "Male",
           "orientation": "h",
           "type": "bar",
           "x": [
            -71059671,
            -66316230.5,
            -42040206,
            -48855267.5,
            -39440708,
            -28696022.5,
            -26116798,
            -25335327,
            -21840669.5,
            -18587617.5,
            -15342274.5,
            -12934333.5,
            -9670413.5,
            -6813633.5,
            -3896723.5,
            -1862645.5,
            -651486,
            -150509,
            -19420,
            -786.5,
            -1.5
           ],
           "y": [
            "0-4",
            "5-9",
            "10-14",
            "15-19",
            "20-24",
            "25-29",
            "30-34",
            "35-39",
            "40-44",
            "45-49",
            "50-54",
            "55-59",
            "60-64",
            "65-69",
            "70-74",
            "75-79",
            "80-84",
            "85-89",
            "90-94",
            "95-99",
            "100+"
           ]
          },
          {
           "hovertemplate": "%{y} %{x} <extra></extra>",
           "name": "Female",
           "orientation": "h",
           "type": "bar",
           "x": [
            67232402.5,
            62925242,
            39928838.5,
            46827031,
            37597991.5,
            26184798,
            23122550.5,
            22911569.5,
            20106713.5,
            17730043.5,
            15271262,
            13365957.5,
            10804096,
            8639051.5,
            5576000.5,
            3193631,
            1345591,
            378416.5,
            64285.5,
            4091.5,
            95
           ],
           "y": [
            "0-4",
            "5-9",
            "10-14",
            "15-19",
            "20-24",
            "25-29",
            "30-34",
            "35-39",
            "40-44",
            "45-49",
            "50-54",
            "55-59",
            "60-64",
            "65-69",
            "70-74",
            "75-79",
            "80-84",
            "85-89",
            "90-94",
            "95-99",
            "100+"
           ]
          }
         ],
         "layout": {
          "annotations": [
           {
            "showarrow": false,
            "text": "Year: 1972",
            "x": 0.9,
            "xref": "paper",
            "y": 1,
            "yref": "paper"
           },
           {
            "showarrow": false,
            "text": "age",
            "x": -0.1,
            "xref": "paper",
            "y": 1.1,
            "yref": "paper"
           }
          ]
         },
         "name": "1972"
        },
        {
         "data": [
          {
           "hovertemplate": "%{y} %{x} <extra></extra>",
           "name": "Male",
           "orientation": "h",
           "type": "bar",
           "x": [
            -70615446,
            -66448101.5,
            -45164336.5,
            -49018548.5,
            -41957125.5,
            -30158040.5,
            -26071315.5,
            -25540147,
            -22440301,
            -19106058,
            -15739782.5,
            -13115416.5,
            -9956421,
            -6963044.5,
            -4101755.5,
            -1938031,
            -685886.5,
            -160900,
            -20404,
            -771,
            -1.5
           ],
           "y": [
            "0-4",
            "5-9",
            "10-14",
            "15-19",
            "20-24",
            "25-29",
            "30-34",
            "35-39",
            "40-44",
            "45-49",
            "50-54",
            "55-59",
            "60-64",
            "65-69",
            "70-74",
            "75-79",
            "80-84",
            "85-89",
            "90-94",
            "95-99",
            "100+"
           ]
          },
          {
           "hovertemplate": "%{y} %{x} <extra></extra>",
           "name": "Female",
           "orientation": "h",
           "type": "bar",
           "x": [
            66770039.5,
            63031332,
            42918708.5,
            46880590.5,
            40325089.5,
            27669758,
            23249130,
            22935503,
            20582488,
            18115285,
            15589974,
            13578335.5,
            10978560.5,
            8775489,
            5863702.5,
            3288059,
            1422638.5,
            402699.5,
            68518,
            4261.5,
            84
           ],
           "y": [
            "0-4",
            "5-9",
            "10-14",
            "15-19",
            "20-24",
            "25-29",
            "30-34",
            "35-39",
            "40-44",
            "45-49",
            "50-54",
            "55-59",
            "60-64",
            "65-69",
            "70-74",
            "75-79",
            "80-84",
            "85-89",
            "90-94",
            "95-99",
            "100+"
           ]
          }
         ],
         "layout": {
          "annotations": [
           {
            "showarrow": false,
            "text": "Year: 1973",
            "x": 0.9,
            "xref": "paper",
            "y": 1,
            "yref": "paper"
           },
           {
            "showarrow": false,
            "text": "age",
            "x": -0.1,
            "xref": "paper",
            "y": 1.1,
            "yref": "paper"
           }
          ]
         },
         "name": "1973"
        },
        {
         "data": [
          {
           "hovertemplate": "%{y} %{x} <extra></extra>",
           "name": "Male",
           "orientation": "h",
           "type": "bar",
           "x": [
            -68734947,
            -66632654.5,
            -50581244,
            -47642101.5,
            -44154288.5,
            -31885910,
            -26242843.5,
            -25488610,
            -23096383,
            -19536562.5,
            -16270495,
            -13210928.5,
            -10312435,
            -7153247.5,
            -4326263.5,
            -2008412,
            -724237,
            -172263.5,
            -21209,
            -797.5,
            -1.5
           ],
           "y": [
            "0-4",
            "5-9",
            "10-14",
            "15-19",
            "20-24",
            "25-29",
            "30-34",
            "35-39",
            "40-44",
            "45-49",
            "50-54",
            "55-59",
            "60-64",
            "65-69",
            "70-74",
            "75-79",
            "80-84",
            "85-89",
            "90-94",
            "95-99",
            "100+"
           ]
          },
          {
           "hovertemplate": "%{y} %{x} <extra></extra>",
           "name": "Female",
           "orientation": "h",
           "type": "bar",
           "x": [
            64945075,
            63184565.5,
            48091613.5,
            45479776,
            42596202,
            29532085.5,
            23565681.5,
            22748826,
            21114696.5,
            18420282.5,
            16037769,
            13693318,
            11230902.5,
            8946626,
            6179834,
            3384063.5,
            1511670.5,
            432061.5,
            72075,
            4601,
            80
           ],
           "y": [
            "0-4",
            "5-9",
            "10-14",
            "15-19",
            "20-24",
            "25-29",
            "30-34",
            "35-39",
            "40-44",
            "45-49",
            "50-54",
            "55-59",
            "60-64",
            "65-69",
            "70-74",
            "75-79",
            "80-84",
            "85-89",
            "90-94",
            "95-99",
            "100+"
           ]
          }
         ],
         "layout": {
          "annotations": [
           {
            "showarrow": false,
            "text": "Year: 1974",
            "x": 0.9,
            "xref": "paper",
            "y": 1,
            "yref": "paper"
           },
           {
            "showarrow": false,
            "text": "age",
            "x": -0.1,
            "xref": "paper",
            "y": 1.1,
            "yref": "paper"
           }
          ]
         },
         "name": "1974"
        },
        {
         "data": [
          {
           "hovertemplate": "%{y} %{x} <extra></extra>",
           "name": "Male",
           "orientation": "h",
           "type": "bar",
           "x": [
            -65755600.5,
            -67514810.5,
            -56272992.5,
            -45025462.5,
            -46091698.5,
            -34018905.5,
            -26617399,
            -25447232,
            -23647047.5,
            -19947884.5,
            -16788948.5,
            -13425041.5,
            -10659837,
            -7359341,
            -4532895.5,
            -2091999,
            -767252.5,
            -181151,
            -22067.5,
            -891.5,
            -1
           ],
           "y": [
            "0-4",
            "5-9",
            "10-14",
            "15-19",
            "20-24",
            "25-29",
            "30-34",
            "35-39",
            "40-44",
            "45-49",
            "50-54",
            "55-59",
            "60-64",
            "65-69",
            "70-74",
            "75-79",
            "80-84",
            "85-89",
            "90-94",
            "95-99",
            "100+"
           ]
          },
          {
           "hovertemplate": "%{y} %{x} <extra></extra>",
           "name": "Female",
           "orientation": "h",
           "type": "bar",
           "x": [
            62090199,
            63990802.5,
            53514003.5,
            42928119,
            44481502.5,
            31853729.5,
            24081921.5,
            22584861,
            21616641.5,
            18701926.5,
            16464123,
            13895470,
            11522595,
            9097995.5,
            6468063.5,
            3514844,
            1608986,
            459415,
            75709.5,
            5207,
            87
           ],
           "y": [
            "0-4",
            "5-9",
            "10-14",
            "15-19",
            "20-24",
            "25-29",
            "30-34",
            "35-39",
            "40-44",
            "45-49",
            "50-54",
            "55-59",
            "60-64",
            "65-69",
            "70-74",
            "75-79",
            "80-84",
            "85-89",
            "90-94",
            "95-99",
            "100+"
           ]
          }
         ],
         "layout": {
          "annotations": [
           {
            "showarrow": false,
            "text": "Year: 1975",
            "x": 0.9,
            "xref": "paper",
            "y": 1,
            "yref": "paper"
           },
           {
            "showarrow": false,
            "text": "age",
            "x": -0.1,
            "xref": "paper",
            "y": 1.1,
            "yref": "paper"
           }
          ]
         },
         "name": "1975"
        },
        {
         "data": [
          {
           "hovertemplate": "%{y} %{x} <extra></extra>",
           "name": "Male",
           "orientation": "h",
           "type": "bar",
           "x": [
            -62137691.5,
            -68333620.5,
            -62117170,
            -42345778.5,
            -47381442,
            -36298284.5,
            -27174255,
            -25532038.5,
            -24166551.5,
            -20473840,
            -17172090.5,
            -13755420,
            -10990654.5,
            -7539725.5,
            -4711304.5,
            -2209069,
            -814364,
            -188625,
            -23492,
            -1031.5,
            -1.5
           ],
           "y": [
            "0-4",
            "5-9",
            "10-14",
            "15-19",
            "20-24",
            "25-29",
            "30-34",
            "35-39",
            "40-44",
            "45-49",
            "50-54",
            "55-59",
            "60-64",
            "65-69",
            "70-74",
            "75-79",
            "80-84",
            "85-89",
            "90-94",
            "95-99",
            "100+"
           ]
          },
          {
           "hovertemplate": "%{y} %{x} <extra></extra>",
           "name": "Female",
           "orientation": "h",
           "type": "bar",
           "x": [
            58638730,
            64726698.5,
            59069240.5,
            40352511.5,
            45658928.5,
            34358267.5,
            24777869,
            22605275.5,
            22081050.5,
            19097902.5,
            16747570.5,
            14163569.5,
            11867904.5,
            9182131.5,
            6699453,
            3703565.5,
            1705962,
            485995,
            80748,
            5993,
            107
           ],
           "y": [
            "0-4",
            "5-9",
            "10-14",
            "15-19",
            "20-24",
            "25-29",
            "30-34",
            "35-39",
            "40-44",
            "45-49",
            "50-54",
            "55-59",
            "60-64",
            "65-69",
            "70-74",
            "75-79",
            "80-84",
            "85-89",
            "90-94",
            "95-99",
            "100+"
           ]
          }
         ],
         "layout": {
          "annotations": [
           {
            "showarrow": false,
            "text": "Year: 1976",
            "x": 0.9,
            "xref": "paper",
            "y": 1,
            "yref": "paper"
           },
           {
            "showarrow": false,
            "text": "age",
            "x": -0.1,
            "xref": "paper",
            "y": 1.1,
            "yref": "paper"
           }
          ]
         },
         "name": "1976"
        },
        {
         "data": [
          {
           "hovertemplate": "%{y} %{x} <extra></extra>",
           "name": "Male",
           "orientation": "h",
           "type": "bar",
           "x": [
            -58549822,
            -69076055.5,
            -65391256.5,
            -41540086.5,
            -48217497.5,
            -38804168,
            -28177206,
            -25582242,
            -24649579,
            -21017000.5,
            -17578060.5,
            -14098833.5,
            -11302335,
            -7742957,
            -4865111.5,
            -2345930.5,
            -863276,
            -199559,
            -25598.5,
            -1178,
            -1.5
           ],
           "y": [
            "0-4",
            "5-9",
            "10-14",
            "15-19",
            "20-24",
            "25-29",
            "30-34",
            "35-39",
            "40-44",
            "45-49",
            "50-54",
            "55-59",
            "60-64",
            "65-69",
            "70-74",
            "75-79",
            "80-84",
            "85-89",
            "90-94",
            "95-99",
            "100+"
           ]
          },
          {
           "hovertemplate": "%{y} %{x} <extra></extra>",
           "name": "Female",
           "orientation": "h",
           "type": "bar",
           "x": [
            55219262.5,
            65384306,
            62176063.5,
            39588993.5,
            46372677,
            37137952.5,
            25806748.5,
            22734892.5,
            22414901,
            19536922,
            17038818,
            14425187,
            12224994.5,
            9287108.5,
            6869795.5,
            3923660,
            1795161,
            521365,
            87868,
            6765.5,
            136
           ],
           "y": [
            "0-4",
            "5-9",
            "10-14",
            "15-19",
            "20-24",
            "25-29",
            "30-34",
            "35-39",
            "40-44",
            "45-49",
            "50-54",
            "55-59",
            "60-64",
            "65-69",
            "70-74",
            "75-79",
            "80-84",
            "85-89",
            "90-94",
            "95-99",
            "100+"
           ]
          }
         ],
         "layout": {
          "annotations": [
           {
            "showarrow": false,
            "text": "Year: 1977",
            "x": 0.9,
            "xref": "paper",
            "y": 1,
            "yref": "paper"
           },
           {
            "showarrow": false,
            "text": "age",
            "x": -0.1,
            "xref": "paper",
            "y": 1.1,
            "yref": "paper"
           }
          ]
         },
         "name": "1977"
        },
        {
         "data": [
          {
           "hovertemplate": "%{y} %{x} <extra></extra>",
           "name": "Male",
           "orientation": "h",
           "type": "bar",
           "x": [
            -55036933,
            -68816552.5,
            -65565269,
            -44649869,
            -48416434,
            -41325382,
            -29649107,
            -25569756,
            -24879590.5,
            -21626052,
            -18106042,
            -14511283.5,
            -11505362,
            -8025838.5,
            -5013900,
            -2498161.5,
            -914049,
            -214383,
            -28178.5,
            -1308.5,
            -3
           ],
           "y": [
            "0-4",
            "5-9",
            "10-14",
            "15-19",
            "20-24",
            "25-29",
            "30-34",
            "35-39",
            "40-44",
            "45-49",
            "50-54",
            "55-59",
            "60-64",
            "65-69",
            "70-74",
            "75-79",
            "80-84",
            "85-89",
            "90-94",
            "95-99",
            "100+"
           ]
          },
          {
           "hovertemplate": "%{y} %{x} <extra></extra>",
           "name": "Female",
           "orientation": "h",
           "type": "bar",
           "x": [
            51867327,
            65092538,
            62329005.5,
            42574310.5,
            46459954.5,
            39881975,
            27306203.5,
            22889634,
            22467404,
            20028360,
            17441742.5,
            14765513.5,
            12460190.5,
            9482529,
            7016682.5,
            4167573,
            1882064.5,
            567557.5,
            97265,
            7488.5,
            169.5
           ],
           "y": [
            "0-4",
            "5-9",
            "10-14",
            "15-19",
            "20-24",
            "25-29",
            "30-34",
            "35-39",
            "40-44",
            "45-49",
            "50-54",
            "55-59",
            "60-64",
            "65-69",
            "70-74",
            "75-79",
            "80-84",
            "85-89",
            "90-94",
            "95-99",
            "100+"
           ]
          }
         ],
         "layout": {
          "annotations": [
           {
            "showarrow": false,
            "text": "Year: 1978",
            "x": 0.9,
            "xref": "paper",
            "y": 1,
            "yref": "paper"
           },
           {
            "showarrow": false,
            "text": "age",
            "x": -0.1,
            "xref": "paper",
            "y": 1.1,
            "yref": "paper"
           }
          ]
         },
         "name": "1978"
        },
        {
         "data": [
          {
           "hovertemplate": "%{y} %{x} <extra></extra>",
           "name": "Male",
           "orientation": "h",
           "type": "bar",
           "x": [
            -52442824,
            -67133940.5,
            -65789263.5,
            -50029834,
            -47087633,
            -43530776.5,
            -31380912,
            -25768650,
            -24858544,
            -22288905.5,
            -18549257,
            -15046362.5,
            -11637018.5,
            -8367179.5,
            -5195067.5,
            -2659447.5,
            -962099.5,
            -230521.5,
            -30781,
            -1402,
            -6
           ],
           "y": [
            "0-4",
            "5-9",
            "10-14",
            "15-19",
            "20-24",
            "25-29",
            "30-34",
            "35-39",
            "40-44",
            "45-49",
            "50-54",
            "55-59",
            "60-64",
            "65-69",
            "70-74",
            "75-79",
            "80-84",
            "85-89",
            "90-94",
            "95-99",
            "100+"
           ]
          },
          {
           "hovertemplate": "%{y} %{x} <extra></extra>",
           "name": "Female",
           "orientation": "h",
           "type": "bar",
           "x": [
            49374160.5,
            63456960,
            62523305,
            47728498.5,
            45099042,
            42170842,
            29178702.5,
            23229411,
            22311671,
            20573308,
            17765321,
            15226098,
            12606934,
            9747318.5,
            7189951,
            4424848,
            1968162.5,
            618126,
            107591,
            8087.5,
            205.5
           ],
           "y": [
            "0-4",
            "5-9",
            "10-14",
            "15-19",
            "20-24",
            "25-29",
            "30-34",
            "35-39",
            "40-44",
            "45-49",
            "50-54",
            "55-59",
            "60-64",
            "65-69",
            "70-74",
            "75-79",
            "80-84",
            "85-89",
            "90-94",
            "95-99",
            "100+"
           ]
          }
         ],
         "layout": {
          "annotations": [
           {
            "showarrow": false,
            "text": "Year: 1979",
            "x": 0.9,
            "xref": "paper",
            "y": 1,
            "yref": "paper"
           },
           {
            "showarrow": false,
            "text": "age",
            "x": -0.1,
            "xref": "paper",
            "y": 1.1,
            "yref": "paper"
           }
          ]
         },
         "name": "1979"
        },
        {
         "data": [
          {
           "hovertemplate": "%{y} %{x} <extra></extra>",
           "name": "Male",
           "orientation": "h",
           "type": "bar",
           "x": [
            -51356961.5,
            -64362471.5,
            -66704499.5,
            -55686836.5,
            -44525482.5,
            -45474627.5,
            -33510311.5,
            -26163813.5,
            -24845409.5,
            -22848856,
            -18973452,
            -15570965.5,
            -11877478.5,
            -8700177.5,
            -5389204,
            -2809785.5,
            -1017649.5,
            -248385.5,
            -32759.5,
            -1497.5,
            -8
           ],
           "y": [
            "0-4",
            "5-9",
            "10-14",
            "15-19",
            "20-24",
            "25-29",
            "30-34",
            "35-39",
            "40-44",
            "45-49",
            "50-54",
            "55-59",
            "60-64",
            "65-69",
            "70-74",
            "75-79",
            "80-84",
            "85-89",
            "90-94",
            "95-99",
            "100+"
           ]
          },
          {
           "hovertemplate": "%{y} %{x} <extra></extra>",
           "name": "Female",
           "orientation": "h",
           "type": "bar",
           "x": [
            48298217.5,
            60800973,
            63363531.5,
            53133796,
            42589143.5,
            44068652,
            31505571.5,
            23762491,
            22175687,
            21087017.5,
            18064368.5,
            15665207.5,
            12834996,
            10045223,
            7345388.5,
            4658592,
            2075112.5,
            671736.5,
            117142,
            8736,
            250.5
           ],
           "y": [
            "0-4",
            "5-9",
            "10-14",
            "15-19",
            "20-24",
            "25-29",
            "30-34",
            "35-39",
            "40-44",
            "45-49",
            "50-54",
            "55-59",
            "60-64",
            "65-69",
            "70-74",
            "75-79",
            "80-84",
            "85-89",
            "90-94",
            "95-99",
            "100+"
           ]
          }
         ],
         "layout": {
          "annotations": [
           {
            "showarrow": false,
            "text": "Year: 1980",
            "x": 0.9,
            "xref": "paper",
            "y": 1,
            "yref": "paper"
           },
           {
            "showarrow": false,
            "text": "age",
            "x": -0.1,
            "xref": "paper",
            "y": 1.1,
            "yref": "paper"
           }
          ]
         },
         "name": "1980"
        },
        {
         "data": [
          {
           "hovertemplate": "%{y} %{x} <extra></extra>",
           "name": "Male",
           "orientation": "h",
           "type": "bar",
           "x": [
            -51536673,
            -60934613.5,
            -67555135,
            -61496064.5,
            -41892160.5,
            -46771108,
            -35778904,
            -26733284,
            -24952318,
            -23376017.5,
            -19502013.5,
            -15966410,
            -12220140,
            -9014873.5,
            -5563215.5,
            -2944861,
            -1090836,
            -267915.5,
            -34450.5,
            -1637,
            -9
           ],
           "y": [
            "0-4",
            "5-9",
            "10-14",
            "15-19",
            "20-24",
            "25-29",
            "30-34",
            "35-39",
            "40-44",
            "45-49",
            "50-54",
            "55-59",
            "60-64",
            "65-69",
            "70-74",
            "75-79",
            "80-84",
            "85-89",
            "90-94",
            "95-99",
            "100+"
           ]
          },
          {
           "hovertemplate": "%{y} %{x} <extra></extra>",
           "name": "Female",
           "orientation": "h",
           "type": "bar",
           "x": [
            48408664,
            57530616,
            64130513.5,
            58671684.5,
            40047355.5,
            45255615,
            34009969,
            24468543.5,
            22217627.5,
            21562005.5,
            18470414,
            15965705.5,
            13123157.5,
            10387607.5,
            7445385.5,
            4851648.5,
            2217784.5,
            725732,
            126872,
            9658.5,
            303
           ],
           "y": [
            "0-4",
            "5-9",
            "10-14",
            "15-19",
            "20-24",
            "25-29",
            "30-34",
            "35-39",
            "40-44",
            "45-49",
            "50-54",
            "55-59",
            "60-64",
            "65-69",
            "70-74",
            "75-79",
            "80-84",
            "85-89",
            "90-94",
            "95-99",
            "100+"
           ]
          }
         ],
         "layout": {
          "annotations": [
           {
            "showarrow": false,
            "text": "Year: 1981",
            "x": 0.9,
            "xref": "paper",
            "y": 1,
            "yref": "paper"
           },
           {
            "showarrow": false,
            "text": "age",
            "x": -0.1,
            "xref": "paper",
            "y": 1.1,
            "yref": "paper"
           }
          ]
         },
         "name": "1981"
        },
        {
         "data": [
          {
           "hovertemplate": "%{y} %{x} <extra></extra>",
           "name": "Male",
           "orientation": "h",
           "type": "bar",
           "x": [
            -53028389.5,
            -57502756,
            -68328954,
            -64759610,
            -41109626,
            -47613755.5,
            -38265673,
            -27736338.5,
            -25021675.5,
            -23865057.5,
            -20043618,
            -16379166,
            -12572499,
            -9312175.5,
            -5753308.5,
            -3066355.5,
            -1173824.5,
            -289009,
            -36997.5,
            -1827,
            -8.5
           ],
           "y": [
            "0-4",
            "5-9",
            "10-14",
            "15-19",
            "20-24",
            "25-29",
            "30-34",
            "35-39",
            "40-44",
            "45-49",
            "50-54",
            "55-59",
            "60-64",
            "65-69",
            "70-74",
            "75-79",
            "80-84",
            "85-89",
            "90-94",
            "95-99",
            "100+"
           ]
          },
          {
           "hovertemplate": "%{y} %{x} <extra></extra>",
           "name": "Female",
           "orientation": "h",
           "type": "bar",
           "x": [
            49740636.5,
            54259368,
            64818935,
            61776673.5,
            39300605,
            45976317,
            36782421,
            25499094.5,
            22363260,
            21907288,
            18915831,
            16271003,
            13403432,
            10739549.5,
            7562167.5,
            4999077,
            2377564.5,
            778145,
            139894.5,
            10926,
            352.5
           ],
           "y": [
            "0-4",
            "5-9",
            "10-14",
            "15-19",
            "20-24",
            "25-29",
            "30-34",
            "35-39",
            "40-44",
            "45-49",
            "50-54",
            "55-59",
            "60-64",
            "65-69",
            "70-74",
            "75-79",
            "80-84",
            "85-89",
            "90-94",
            "95-99",
            "100+"
           ]
          }
         ],
         "layout": {
          "annotations": [
           {
            "showarrow": false,
            "text": "Year: 1982",
            "x": 0.9,
            "xref": "paper",
            "y": 1,
            "yref": "paper"
           },
           {
            "showarrow": false,
            "text": "age",
            "x": -0.1,
            "xref": "paper",
            "y": 1.1,
            "yref": "paper"
           }
          ]
         },
         "name": "1982"
        },
        {
         "data": [
          {
           "hovertemplate": "%{y} %{x} <extra></extra>",
           "name": "Male",
           "orientation": "h",
           "type": "bar",
           "x": [
            -54668819,
            -54117013.5,
            -68110829,
            -64951528.5,
            -44204053.5,
            -47824175.5,
            -40766105.5,
            -29197078,
            -25027482,
            -24108753.5,
            -20649470.5,
            -16903988.5,
            -12984807.5,
            -9521497.5,
            -6005503,
            -3187853.5,
            -1264172,
            -311627,
            -40469.5,
            -2045,
            -8.5
           ],
           "y": [
            "0-4",
            "5-9",
            "10-14",
            "15-19",
            "20-24",
            "25-29",
            "30-34",
            "35-39",
            "40-44",
            "45-49",
            "50-54",
            "55-59",
            "60-64",
            "65-69",
            "70-74",
            "75-79",
            "80-84",
            "85-89",
            "90-94",
            "95-99",
            "100+"
           ]
          },
          {
           "hovertemplate": "%{y} %{x} <extra></extra>",
           "name": "Female",
           "orientation": "h",
           "type": "bar",
           "x": [
            51198236.5,
            51028485.5,
            64563275,
            61945697,
            42276841,
            46072259,
            39517388,
            26992268.5,
            22531161,
            21977018.5,
            19412783,
            16682119.5,
            13755305,
            10986354,
            7757673,
            5130911.5,
            2550175.5,
            831869,
            156857.5,
            12549.5,
            398.5
           ],
           "y": [
            "0-4",
            "5-9",
            "10-14",
            "15-19",
            "20-24",
            "25-29",
            "30-34",
            "35-39",
            "40-44",
            "45-49",
            "50-54",
            "55-59",
            "60-64",
            "65-69",
            "70-74",
            "75-79",
            "80-84",
            "85-89",
            "90-94",
            "95-99",
            "100+"
           ]
          }
         ],
         "layout": {
          "annotations": [
           {
            "showarrow": false,
            "text": "Year: 1983",
            "x": 0.9,
            "xref": "paper",
            "y": 1,
            "yref": "paper"
           },
           {
            "showarrow": false,
            "text": "age",
            "x": -0.1,
            "xref": "paper",
            "y": 1.1,
            "yref": "paper"
           }
          ]
         },
         "name": "1983"
        },
        {
         "data": [
          {
           "hovertemplate": "%{y} %{x} <extra></extra>",
           "name": "Male",
           "orientation": "h",
           "type": "bar",
           "x": [
            -55651975.5,
            -51608820,
            -66479716.5,
            -65193193,
            -49544887.5,
            -46522211.5,
            -42954901,
            -30912386.5,
            -25239042.5,
            -24108588.5,
            -21306715,
            -17348633,
            -13508421.5,
            -9676742,
            -6305822.5,
            -3333939,
            -1357557,
            -333357,
            -44253.5,
            -2246.5,
            -8.5
           ],
           "y": [
            "0-4",
            "5-9",
            "10-14",
            "15-19",
            "20-24",
            "25-29",
            "30-34",
            "35-39",
            "40-44",
            "45-49",
            "50-54",
            "55-59",
            "60-64",
            "65-69",
            "70-74",
            "75-79",
            "80-84",
            "85-89",
            "90-94",
            "95-99",
            "100+"
           ]
          },
          {
           "hovertemplate": "%{y} %{x} <extra></extra>",
           "name": "Female",
           "orientation": "h",
           "type": "bar",
           "x": [
            52018895,
            48617276.5,
            62969509,
            62155491.5,
            47406457,
            44729539.5,
            41799334.5,
            28855116.5,
            22879987.5,
            21842614,
            19961759,
            17016872,
            14220115,
            11159656.5,
            8017127,
            5285100,
            2727690,
            886023.5,
            175462.5,
            14312.5,
            440
           ],
           "y": [
            "0-4",
            "5-9",
            "10-14",
            "15-19",
            "20-24",
            "25-29",
            "30-34",
            "35-39",
            "40-44",
            "45-49",
            "50-54",
            "55-59",
            "60-64",
            "65-69",
            "70-74",
            "75-79",
            "80-84",
            "85-89",
            "90-94",
            "95-99",
            "100+"
           ]
          }
         ],
         "layout": {
          "annotations": [
           {
            "showarrow": false,
            "text": "Year: 1984",
            "x": 0.9,
            "xref": "paper",
            "y": 1,
            "yref": "paper"
           },
           {
            "showarrow": false,
            "text": "age",
            "x": -0.1,
            "xref": "paper",
            "y": 1.1,
            "yref": "paper"
           }
          ]
         },
         "name": "1984"
        },
        {
         "data": [
          {
           "hovertemplate": "%{y} %{x} <extra></extra>",
           "name": "Male",
           "orientation": "h",
           "type": "bar",
           "x": [
            -56802739,
            -50573244.5,
            -63765190,
            -66121867.5,
            -55158461.5,
            -43999031.5,
            -44884618,
            -33021162.5,
            -25642571,
            -24115871,
            -21864962.5,
            -17775037.5,
            -14025001,
            -9927387,
            -6598448.5,
            -3489623,
            -1444988,
            -358227,
            -48438.5,
            -2378,
            -9
           ],
           "y": [
            "0-4",
            "5-9",
            "10-14",
            "15-19",
            "20-24",
            "25-29",
            "30-34",
            "35-39",
            "40-44",
            "45-49",
            "50-54",
            "55-59",
            "60-64",
            "65-69",
            "70-74",
            "75-79",
            "80-84",
            "85-89",
            "90-94",
            "95-99",
            "100+"
           ]
          },
          {
           "hovertemplate": "%{y} %{x} <extra></extra>",
           "name": "Female",
           "orientation": "h",
           "type": "bar",
           "x": [
            52961626,
            47590271,
            60358212.5,
            63007932.5,
            52784920,
            42245132,
            43690399,
            31171440,
            23418793,
            21727330.5,
            20480213.5,
            17327590,
            14665996,
            11408282,
            8305073,
            5426246.5,
            2888678.5,
            950948,
            195170,
            15978.5,
            490
           ],
           "y": [
            "0-4",
            "5-9",
            "10-14",
            "15-19",
            "20-24",
            "25-29",
            "30-34",
            "35-39",
            "40-44",
            "45-49",
            "50-54",
            "55-59",
            "60-64",
            "65-69",
            "70-74",
            "75-79",
            "80-84",
            "85-89",
            "90-94",
            "95-99",
            "100+"
           ]
          }
         ],
         "layout": {
          "annotations": [
           {
            "showarrow": false,
            "text": "Year: 1985",
            "x": 0.9,
            "xref": "paper",
            "y": 1,
            "yref": "paper"
           },
           {
            "showarrow": false,
            "text": "age",
            "x": -0.1,
            "xref": "paper",
            "y": 1.1,
            "yref": "paper"
           }
          ]
         },
         "name": "1985"
        },
        {
         "data": [
          {
           "hovertemplate": "%{y} %{x} <extra></extra>",
           "name": "Male",
           "orientation": "h",
           "type": "bar",
           "x": [
            -58347622,
            -50779280.5,
            -60395305,
            -66987926,
            -60921579.5,
            -41402961,
            -46174284,
            -35267903.5,
            -26217398,
            -24240122,
            -22391293.5,
            -18296477.5,
            -14421823.5,
            -10264746,
            -6872823,
            -3632090,
            -1526586,
            -390125.5,
            -53092.5,
            -2485.5,
            -9.5
           ],
           "y": [
            "0-4",
            "5-9",
            "10-14",
            "15-19",
            "20-24",
            "25-29",
            "30-34",
            "35-39",
            "40-44",
            "45-49",
            "50-54",
            "55-59",
            "60-64",
            "65-69",
            "70-74",
            "75-79",
            "80-84",
            "85-89",
            "90-94",
            "95-99",
            "100+"
           ]
          },
          {
           "hovertemplate": "%{y} %{x} <extra></extra>",
           "name": "Female",
           "orientation": "h",
           "type": "bar",
           "x": [
            54224567.5,
            47727127,
            57132819.5,
            63787179.5,
            58295116,
            39726941.5,
            44874413.5,
            33665679.5,
            24128142.5,
            21786282,
            20960726,
            17739179,
            14979478.5,
            11710734,
            8628006.5,
            5525995.5,
            3024971.5,
            1033512.5,
            215374.5,
            17782,
            561
           ],
           "y": [
            "0-4",
            "5-9",
            "10-14",
            "15-19",
            "20-24",
            "25-29",
            "30-34",
            "35-39",
            "40-44",
            "45-49",
            "50-54",
            "55-59",
            "60-64",
            "65-69",
            "70-74",
            "75-79",
            "80-84",
            "85-89",
            "90-94",
            "95-99",
            "100+"
           ]
          }
         ],
         "layout": {
          "annotations": [
           {
            "showarrow": false,
            "text": "Year: 1986",
            "x": 0.9,
            "xref": "paper",
            "y": 1,
            "yref": "paper"
           },
           {
            "showarrow": false,
            "text": "age",
            "x": -0.1,
            "xref": "paper",
            "y": 1.1,
            "yref": "paper"
           }
          ]
         },
         "name": "1986"
        },
        {
         "data": [
          {
           "hovertemplate": "%{y} %{x} <extra></extra>",
           "name": "Male",
           "orientation": "h",
           "type": "bar",
           "x": [
            -60086406,
            -52271362.5,
            -57016961,
            -67776097,
            -64159008.5,
            -40633645,
            -47013338,
            -37728115,
            -27215243.5,
            -24326554,
            -22879754.5,
            -18828163,
            -14830216.5,
            -10609972.5,
            -7132843,
            -3785493.5,
            -1602921.5,
            -425552,
            -58324.5,
            -2652.5,
            -10
           ],
           "y": [
            "0-4",
            "5-9",
            "10-14",
            "15-19",
            "20-24",
            "25-29",
            "30-34",
            "35-39",
            "40-44",
            "45-49",
            "50-54",
            "55-59",
            "60-64",
            "65-69",
            "70-74",
            "75-79",
            "80-84",
            "85-89",
            "90-94",
            "95-99",
            "100+"
           ]
          },
          {
           "hovertemplate": "%{y} %{x} <extra></extra>",
           "name": "Female",
           "orientation": "h",
           "type": "bar",
           "x": [
            55611617.5,
            49061438,
            53903238.5,
            64484973.5,
            61384629,
            38986394.5,
            45592957.5,
            36424519.5,
            25156007.5,
            21945536,
            21314466,
            18187916.5,
            15295351,
            12006003,
            8959871,
            5640365,
            3132958.5,
            1123822.5,
            236192,
            20296,
            655.5
           ],
           "y": [
            "0-4",
            "5-9",
            "10-14",
            "15-19",
            "20-24",
            "25-29",
            "30-34",
            "35-39",
            "40-44",
            "45-49",
            "50-54",
            "55-59",
            "60-64",
            "65-69",
            "70-74",
            "75-79",
            "80-84",
            "85-89",
            "90-94",
            "95-99",
            "100+"
           ]
          }
         ],
         "layout": {
          "annotations": [
           {
            "showarrow": false,
            "text": "Year: 1987",
            "x": 0.9,
            "xref": "paper",
            "y": 1,
            "yref": "paper"
           },
           {
            "showarrow": false,
            "text": "age",
            "x": -0.1,
            "xref": "paper",
            "y": 1.1,
            "yref": "paper"
           }
          ]
         },
         "name": "1987"
        },
        {
         "data": [
          {
           "hovertemplate": "%{y} %{x} <extra></extra>",
           "name": "Male",
           "orientation": "h",
           "type": "bar",
           "x": [
            -62120996.5,
            -53913331.5,
            -53680072,
            -67574962.5,
            -64348923,
            -43692864.5,
            -47221571.5,
            -40198523,
            -28656893.5,
            -24348796.5,
            -23133562.5,
            -19422154.5,
            -15340061.5,
            -11006447.5,
            -7329182,
            -3984025.5,
            -1682722.5,
            -463691.5,
            -64106,
            -2872,
            -8.5
           ],
           "y": [
            "0-4",
            "5-9",
            "10-14",
            "15-19",
            "20-24",
            "25-29",
            "30-34",
            "35-39",
            "40-44",
            "45-49",
            "50-54",
            "55-59",
            "60-64",
            "65-69",
            "70-74",
            "75-79",
            "80-84",
            "85-89",
            "90-94",
            "95-99",
            "100+"
           ]
          },
          {
           "hovertemplate": "%{y} %{x} <extra></extra>",
           "name": "Female",
           "orientation": "h",
           "type": "bar",
           "x": [
            57229002,
            50523009,
            50709534,
            64237094,
            61550618,
            41934842.5,
            45684973.5,
            39142571,
            26637211,
            22124077.5,
            21400121,
            18687357.5,
            15711516,
            12365454,
            9208153.5,
            5820958.5,
            3234436,
            1220002.5,
            258715,
            23613.5,
            773.5
           ],
           "y": [
            "0-4",
            "5-9",
            "10-14",
            "15-19",
            "20-24",
            "25-29",
            "30-34",
            "35-39",
            "40-44",
            "45-49",
            "50-54",
            "55-59",
            "60-64",
            "65-69",
            "70-74",
            "75-79",
            "80-84",
            "85-89",
            "90-94",
            "95-99",
            "100+"
           ]
          }
         ],
         "layout": {
          "annotations": [
           {
            "showarrow": false,
            "text": "Year: 1988",
            "x": 0.9,
            "xref": "paper",
            "y": 1,
            "yref": "paper"
           },
           {
            "showarrow": false,
            "text": "age",
            "x": -0.1,
            "xref": "paper",
            "y": 1.1,
            "yref": "paper"
           }
          ]
         },
         "name": "1988"
        },
        {
         "data": [
          {
           "hovertemplate": "%{y} %{x} <extra></extra>",
           "name": "Male",
           "orientation": "h",
           "type": "bar",
           "x": [
            -64441416,
            -54901062,
            -51207420.5,
            -65960248.5,
            -64571454,
            -48953935,
            -45917996,
            -42351137,
            -30339825.5,
            -24566127.5,
            -23150552,
            -20063346,
            -15776687,
            -11499998.5,
            -7490975.5,
            -4219079,
            -1779238,
            -502270.5,
            -69553,
            -3027,
            -7.5
           ],
           "y": [
            "0-4",
            "5-9",
            "10-14",
            "15-19",
            "20-24",
            "25-29",
            "30-34",
            "35-39",
            "40-44",
            "45-49",
            "50-54",
            "55-59",
            "60-64",
            "65-69",
            "70-74",
            "75-79",
            "80-84",
            "85-89",
            "90-94",
            "95-99",
            "100+"
           ]
          },
          {
           "hovertemplate": "%{y} %{x} <extra></extra>",
           "name": "Female",
           "orientation": "h",
           "type": "bar",
           "x": [
            59071868.5,
            51349481,
            48323529,
            62644896,
            61737427.5,
            47001372.5,
            44332187.5,
            41399700.5,
            28477838,
            22475079,
            21284151.5,
            19235319.5,
            16054999,
            12826959,
            9399661,
            6056526,
            3352681,
            1316094.5,
            281533.5,
            27180.5,
            882
           ],
           "y": [
            "0-4",
            "5-9",
            "10-14",
            "15-19",
            "20-24",
            "25-29",
            "30-34",
            "35-39",
            "40-44",
            "45-49",
            "50-54",
            "55-59",
            "60-64",
            "65-69",
            "70-74",
            "75-79",
            "80-84",
            "85-89",
            "90-94",
            "95-99",
            "100+"
           ]
          }
         ],
         "layout": {
          "annotations": [
           {
            "showarrow": false,
            "text": "Year: 1989",
            "x": 0.9,
            "xref": "paper",
            "y": 1,
            "yref": "paper"
           },
           {
            "showarrow": false,
            "text": "age",
            "x": -0.1,
            "xref": "paper",
            "y": 1.1,
            "yref": "paper"
           }
          ]
         },
         "name": "1989"
        },
        {
         "data": [
          {
           "hovertemplate": "%{y} %{x} <extra></extra>",
           "name": "Male",
           "orientation": "h",
           "type": "bar",
           "x": [
            -66652455.5,
            -56038307.5,
            -50193516,
            -63271573.5,
            -65478511.5,
            -54484328.5,
            -43404111,
            -44246031.5,
            -32410142,
            -24969570.5,
            -23174179.5,
            -20610467,
            -16196385,
            -11989376,
            -7732388,
            -4447408.5,
            -1881591.5,
            -538485.5,
            -75878,
            -3302,
            -5.5
           ],
           "y": [
            "0-4",
            "5-9",
            "10-14",
            "15-19",
            "20-24",
            "25-29",
            "30-34",
            "35-39",
            "40-44",
            "45-49",
            "50-54",
            "55-59",
            "60-64",
            "65-69",
            "70-74",
            "75-79",
            "80-84",
            "85-89",
            "90-94",
            "95-99",
            "100+"
           ]
          },
          {
           "hovertemplate": "%{y} %{x} <extra></extra>",
           "name": "Female",
           "orientation": "h",
           "type": "bar",
           "x": [
            60764871,
            52281159,
            47310776,
            60041948.5,
            62564699,
            52314908,
            41842677,
            43264211.5,
            30769104.5,
            23010950,
            21185357.5,
            19751891.5,
            16372842.5,
            13268860,
            9654503.5,
            6310064.5,
            3458016.5,
            1399947,
            307505,
            30957.5,
            988.5
           ],
           "y": [
            "0-4",
            "5-9",
            "10-14",
            "15-19",
            "20-24",
            "25-29",
            "30-34",
            "35-39",
            "40-44",
            "45-49",
            "50-54",
            "55-59",
            "60-64",
            "65-69",
            "70-74",
            "75-79",
            "80-84",
            "85-89",
            "90-94",
            "95-99",
            "100+"
           ]
          }
         ],
         "layout": {
          "annotations": [
           {
            "showarrow": false,
            "text": "Year: 1990",
            "x": 0.9,
            "xref": "paper",
            "y": 1,
            "yref": "paper"
           },
           {
            "showarrow": false,
            "text": "age",
            "x": -0.1,
            "xref": "paper",
            "y": 1.1,
            "yref": "paper"
           }
          ]
         },
         "name": "1990"
        },
        {
         "data": [
          {
           "hovertemplate": "%{y} %{x} <extra></extra>",
           "name": "Male",
           "orientation": "h",
           "type": "bar",
           "x": [
            -66960374,
            -57554151,
            -50409467,
            -59930150,
            -66322637.5,
            -60159284.5,
            -40811783.5,
            -45505094.5,
            -34614941.5,
            -25539426.5,
            -23311446,
            -21127819,
            -16698993,
            -12374140,
            -8045183,
            -4661795,
            -1977731.5,
            -574262.5,
            -84108,
            -3680,
            -2.5
           ],
           "y": [
            "0-4",
            "5-9",
            "10-14",
            "15-19",
            "20-24",
            "25-29",
            "30-34",
            "35-39",
            "40-44",
            "45-49",
            "50-54",
            "55-59",
            "60-64",
            "65-69",
            "70-74",
            "75-79",
            "80-84",
            "85-89",
            "90-94",
            "95-99",
            "100+"
           ]
          },
          {
           "hovertemplate": "%{y} %{x} <extra></extra>",
           "name": "Female",
           "orientation": "h",
           "type": "bar",
           "x": [
            60707720.5,
            53519450,
            47451673,
            56825088.5,
            63314058.5,
            57753372.5,
            39311441,
            44419552,
            33233869.5,
            23710654.5,
            21252662,
            20226472,
            16775339.5,
            13577921,
            9944125.5,
            6575358.5,
            3524385.5,
            1464057.5,
            336888.5,
            34505.5,
            1104.5
           ],
           "y": [
            "0-4",
            "5-9",
            "10-14",
            "15-19",
            "20-24",
            "25-29",
            "30-34",
            "35-39",
            "40-44",
            "45-49",
            "50-54",
            "55-59",
            "60-64",
            "65-69",
            "70-74",
            "75-79",
            "80-84",
            "85-89",
            "90-94",
            "95-99",
            "100+"
           ]
          }
         ],
         "layout": {
          "annotations": [
           {
            "showarrow": false,
            "text": "Year: 1991",
            "x": 0.9,
            "xref": "paper",
            "y": 1,
            "yref": "paper"
           },
           {
            "showarrow": false,
            "text": "age",
            "x": -0.1,
            "xref": "paper",
            "y": 1.1,
            "yref": "paper"
           }
          ]
         },
         "name": "1991"
        },
        {
         "data": [
          {
           "hovertemplate": "%{y} %{x} <extra></extra>",
           "name": "Male",
           "orientation": "h",
           "type": "bar",
           "x": [
            -64619231.5,
            -59252514,
            -51898767.5,
            -56567598.5,
            -67069787,
            -63315196.5,
            -40010813.5,
            -46309897.5,
            -37024538.5,
            -26517638.5,
            -23411518.5,
            -21610526.5,
            -17212008.5,
            -12770596.5,
            -8370427,
            -4872102,
            -2084359,
            -610938,
            -93389,
            -4036,
            -7.5
           ],
           "y": [
            "0-4",
            "5-9",
            "10-14",
            "15-19",
            "20-24",
            "25-29",
            "30-34",
            "35-39",
            "40-44",
            "45-49",
            "50-54",
            "55-59",
            "60-64",
            "65-69",
            "70-74",
            "75-79",
            "80-84",
            "85-89",
            "90-94",
            "95-99",
            "100+"
           ]
          },
          {
           "hovertemplate": "%{y} %{x} <extra></extra>",
           "name": "Female",
           "orientation": "h",
           "type": "bar",
           "x": [
            58254667,
            54870958,
            48778805,
            53590323,
            63958492.5,
            60765162,
            38528273.5,
            45101179.5,
            35953288.5,
            24718012.5,
            21413580.5,
            20575439.5,
            17209118,
            13883936,
            10224432.5,
            6844613.5,
            3598909,
            1511729,
            367288,
            38031,
            1259
           ],
           "y": [
            "0-4",
            "5-9",
            "10-14",
            "15-19",
            "20-24",
            "25-29",
            "30-34",
            "35-39",
            "40-44",
            "45-49",
            "50-54",
            "55-59",
            "60-64",
            "65-69",
            "70-74",
            "75-79",
            "80-84",
            "85-89",
            "90-94",
            "95-99",
            "100+"
           ]
          }
         ],
         "layout": {
          "annotations": [
           {
            "showarrow": false,
            "text": "Year: 1992",
            "x": 0.9,
            "xref": "paper",
            "y": 1,
            "yref": "paper"
           },
           {
            "showarrow": false,
            "text": "age",
            "x": -0.1,
            "xref": "paper",
            "y": 1.1,
            "yref": "paper"
           }
          ]
         },
         "name": "1992"
        },
        {
         "data": [
          {
           "hovertemplate": "%{y} %{x} <extra></extra>",
           "name": "Male",
           "orientation": "h",
           "type": "bar",
           "x": [
            -61580166,
            -61256843,
            -53538488,
            -53251697.5,
            -66846493,
            -63467285,
            -43006637.5,
            -46497598,
            -39449972.5,
            -27929627.5,
            -23452216,
            -21876769.5,
            -17791456,
            -13259782,
            -8741895.5,
            -5047183.5,
            -2223086,
            -652596,
            -103833.5,
            -4614,
            -8
           ],
           "y": [
            "0-4",
            "5-9",
            "10-14",
            "15-19",
            "20-24",
            "25-29",
            "30-34",
            "35-39",
            "40-44",
            "45-49",
            "50-54",
            "55-59",
            "60-64",
            "65-69",
            "70-74",
            "75-79",
            "80-84",
            "85-89",
            "90-94",
            "95-99",
            "100+"
           ]
          },
          {
           "hovertemplate": "%{y} %{x} <extra></extra>",
           "name": "Female",
           "orientation": "h",
           "type": "bar",
           "x": [
            55190535.5,
            56462278.5,
            50235330.5,
            50398899,
            63673885,
            60884939.5,
            41417788.5,
            45166965.5,
            38637403,
            26174483.5,
            21596095,
            20670827.5,
            17700854,
            14290573.5,
            10569150,
            7064651.5,
            3733213.5,
            1564220.5,
            401272.5,
            42435,
            1508
           ],
           "y": [
            "0-4",
            "5-9",
            "10-14",
            "15-19",
            "20-24",
            "25-29",
            "30-34",
            "35-39",
            "40-44",
            "45-49",
            "50-54",
            "55-59",
            "60-64",
            "65-69",
            "70-74",
            "75-79",
            "80-84",
            "85-89",
            "90-94",
            "95-99",
            "100+"
           ]
          }
         ],
         "layout": {
          "annotations": [
           {
            "showarrow": false,
            "text": "Year: 1993",
            "x": 0.9,
            "xref": "paper",
            "y": 1,
            "yref": "paper"
           },
           {
            "showarrow": false,
            "text": "age",
            "x": -0.1,
            "xref": "paper",
            "y": 1.1,
            "yref": "paper"
           }
          ]
         },
         "name": "1993"
        },
        {
         "data": [
          {
           "hovertemplate": "%{y} %{x} <extra></extra>",
           "name": "Male",
           "orientation": "h",
           "type": "bar",
           "x": [
            -58244222,
            -63562979,
            -54532663,
            -50809956.5,
            -65254713.5,
            -63693603,
            -48213742.5,
            -45212421,
            -41578342.5,
            -29586345,
            -23687417,
            -21924047.5,
            -18418979,
            -13688770.5,
            -9197227,
            -5207760.5,
            -2388407,
            -704101,
            -114758,
            -5364.5,
            -9.5
           ],
           "y": [
            "0-4",
            "5-9",
            "10-14",
            "15-19",
            "20-24",
            "25-29",
            "30-34",
            "35-39",
            "40-44",
            "45-49",
            "50-54",
            "55-59",
            "60-64",
            "65-69",
            "70-74",
            "75-79",
            "80-84",
            "85-89",
            "90-94",
            "95-99",
            "100+"
           ]
          },
          {
           "hovertemplate": "%{y} %{x} <extra></extra>",
           "name": "Female",
           "orientation": "h",
           "type": "bar",
           "x": [
            51887391.5,
            58294148,
            51065100,
            48030139,
            62088679.5,
            61067547.5,
            46443646.5,
            43820155,
            40877946,
            27995744.5,
            21952574.5,
            20576007.5,
            18242848,
            14634971.5,
            11006612,
            7251149.5,
            3913795.5,
            1628801,
            434615,
            47146,
            1827.5
           ],
           "y": [
            "0-4",
            "5-9",
            "10-14",
            "15-19",
            "20-24",
            "25-29",
            "30-34",
            "35-39",
            "40-44",
            "45-49",
            "50-54",
            "55-59",
            "60-64",
            "65-69",
            "70-74",
            "75-79",
            "80-84",
            "85-89",
            "90-94",
            "95-99",
            "100+"
           ]
          }
         ],
         "layout": {
          "annotations": [
           {
            "showarrow": false,
            "text": "Year: 1994",
            "x": 0.9,
            "xref": "paper",
            "y": 1,
            "yref": "paper"
           },
           {
            "showarrow": false,
            "text": "age",
            "x": -0.1,
            "xref": "paper",
            "y": 1.1,
            "yref": "paper"
           }
          ]
         },
         "name": "1994"
        },
        {
         "data": [
          {
           "hovertemplate": "%{y} %{x} <extra></extra>",
           "name": "Male",
           "orientation": "h",
           "type": "bar",
           "x": [
            -54136007.5,
            -65759341.5,
            -55673806.5,
            -49820625.5,
            -62602199.5,
            -64606177,
            -53692675,
            -42732048,
            -43454633.5,
            -31626507,
            -24104188,
            -21979872,
            -18961605,
            -14106374,
            -9656545,
            -5433908,
            -2551978.5,
            -760121,
            -125659,
            -6267,
            -10
           ],
           "y": [
            "0-4",
            "5-9",
            "10-14",
            "15-19",
            "20-24",
            "25-29",
            "30-34",
            "35-39",
            "40-44",
            "45-49",
            "50-54",
            "55-59",
            "60-64",
            "65-69",
            "70-74",
            "75-79",
            "80-84",
            "85-89",
            "90-94",
            "95-99",
            "100+"
           ]
          },
          {
           "hovertemplate": "%{y} %{x} <extra></extra>",
           "name": "Female",
           "orientation": "h",
           "type": "bar",
           "x": [
            47921069,
            59978290.5,
            51997747,
            47033143.5,
            59505031.5,
            61894340,
            51720162,
            41347513.5,
            42728704,
            30268224.5,
            22491560,
            20500362,
            18757072,
            14959185.5,
            11433666.5,
            7497240.5,
            4111258.5,
            1690034.5,
            464334.5,
            52739,
            2199
           ],
           "y": [
            "0-4",
            "5-9",
            "10-14",
            "15-19",
            "20-24",
            "25-29",
            "30-34",
            "35-39",
            "40-44",
            "45-49",
            "50-54",
            "55-59",
            "60-64",
            "65-69",
            "70-74",
            "75-79",
            "80-84",
            "85-89",
            "90-94",
            "95-99",
            "100+"
           ]
          }
         ],
         "layout": {
          "annotations": [
           {
            "showarrow": false,
            "text": "Year: 1995",
            "x": 0.9,
            "xref": "paper",
            "y": 1,
            "yref": "paper"
           },
           {
            "showarrow": false,
            "text": "age",
            "x": -0.1,
            "xref": "paper",
            "y": 1.1,
            "yref": "paper"
           }
          ]
         },
         "name": "1995"
        },
        {
         "data": [
          {
           "hovertemplate": "%{y} %{x} <extra></extra>",
           "name": "Male",
           "orientation": "h",
           "type": "bar",
           "x": [
            -50805350,
            -66090704,
            -57188924,
            -50051132.5,
            -59300313.5,
            -65460695,
            -59318902,
            -40174004.5,
            -44704546.5,
            -33800521,
            -24683618.5,
            -22144981,
            -19475577.5,
            -14591406,
            -10027506.5,
            -5712791,
            -2704830.5,
            -813722.5,
            -136987,
            -7377.5,
            -16
           ],
           "y": [
            "0-4",
            "5-9",
            "10-14",
            "15-19",
            "20-24",
            "25-29",
            "30-34",
            "35-39",
            "40-44",
            "45-49",
            "50-54",
            "55-59",
            "60-64",
            "65-69",
            "70-74",
            "75-79",
            "80-84",
            "85-89",
            "90-94",
            "95-99",
            "100+"
           ]
          },
          {
           "hovertemplate": "%{y} %{x} <extra></extra>",
           "name": "Female",
           "orientation": "h",
           "type": "bar",
           "x": [
            44691437.5,
            59948229,
            53233867.5,
            47183955,
            56312321,
            62649245,
            57127138.5,
            38836297,
            43878383,
            32718163.5,
            23194579.5,
            20590094.5,
            19234953,
            15363309,
            11750427,
            7781184.5,
            4322049,
            1737380.5,
            489914.5,
            59414.5,
            2585.5
           ],
           "y": [
            "0-4",
            "5-9",
            "10-14",
            "15-19",
            "20-24",
            "25-29",
            "30-34",
            "35-39",
            "40-44",
            "45-49",
            "50-54",
            "55-59",
            "60-64",
            "65-69",
            "70-74",
            "75-79",
            "80-84",
            "85-89",
            "90-94",
            "95-99",
            "100+"
           ]
          }
         ],
         "layout": {
          "annotations": [
           {
            "showarrow": false,
            "text": "Year: 1996",
            "x": 0.9,
            "xref": "paper",
            "y": 1,
            "yref": "paper"
           },
           {
            "showarrow": false,
            "text": "age",
            "x": -0.1,
            "xref": "paper",
            "y": 1.1,
            "yref": "paper"
           }
          ]
         },
         "name": "1996"
        },
        {
         "data": [
          {
           "hovertemplate": "%{y} %{x} <extra></extra>",
           "name": "Male",
           "orientation": "h",
           "type": "bar",
           "x": [
            -48906921.5,
            -63820988.5,
            -58887146,
            -51552934,
            -55996425,
            -66251108,
            -62481133.5,
            -39410312.5,
            -45522713,
            -36184658.5,
            -25662162,
            -22276021,
            -19955218.5,
            -15080297,
            -10400142,
            -5997649.5,
            -2852712,
            -871081,
            -148749,
            -8606,
            -18.5
           ],
           "y": [
            "0-4",
            "5-9",
            "10-14",
            "15-19",
            "20-24",
            "25-29",
            "30-34",
            "35-39",
            "40-44",
            "45-49",
            "50-54",
            "55-59",
            "60-64",
            "65-69",
            "70-74",
            "75-79",
            "80-84",
            "85-89",
            "90-94",
            "95-99",
            "100+"
           ]
          },
          {
           "hovertemplate": "%{y} %{x} <extra></extra>",
           "name": "Female",
           "orientation": "h",
           "type": "bar",
           "x": [
            42784107.5,
            57563030,
            54584850,
            48522975.5,
            53124628,
            63333888,
            60155144.5,
            38083291.5,
            44573393.5,
            35429625,
            24203954,
            20772853,
            19592832.5,
            15794109.5,
            12059874.5,
            8055564,
            4533439,
            1788780,
            509102.5,
            66019.5,
            2989
           ],
           "y": [
            "0-4",
            "5-9",
            "10-14",
            "15-19",
            "20-24",
            "25-29",
            "30-34",
            "35-39",
            "40-44",
            "45-49",
            "50-54",
            "55-59",
            "60-64",
            "65-69",
            "70-74",
            "75-79",
            "80-84",
            "85-89",
            "90-94",
            "95-99",
            "100+"
           ]
          }
         ],
         "layout": {
          "annotations": [
           {
            "showarrow": false,
            "text": "Year: 1997",
            "x": 0.9,
            "xref": "paper",
            "y": 1,
            "yref": "paper"
           },
           {
            "showarrow": false,
            "text": "age",
            "x": -0.1,
            "xref": "paper",
            "y": 1.1,
            "yref": "paper"
           }
          ]
         },
         "name": "1997"
        },
        {
         "data": [
          {
           "hovertemplate": "%{y} %{x} <extra></extra>",
           "name": "Male",
           "orientation": "h",
           "type": "bar",
           "x": [
            -47369088,
            -60854499,
            -60889295.5,
            -53203624,
            -52739366,
            -66082016,
            -62674789,
            -42408544,
            -45734714,
            -38586190.5,
            -27056886.5,
            -22348620,
            -20236062.5,
            -15629604,
            -10845476.5,
            -6313817,
            -2981037,
            -943354.5,
            -162185.5,
            -9904,
            -25
           ],
           "y": [
            "0-4",
            "5-9",
            "10-14",
            "15-19",
            "20-24",
            "25-29",
            "30-34",
            "35-39",
            "40-44",
            "45-49",
            "50-54",
            "55-59",
            "60-64",
            "65-69",
            "70-74",
            "75-79",
            "80-84",
            "85-89",
            "90-94",
            "95-99",
            "100+"
           ]
          },
          {
           "hovertemplate": "%{y} %{x} <extra></extra>",
           "name": "Female",
           "orientation": "h",
           "type": "bar",
           "x": [
            41232722,
            54566818,
            56175600,
            49990646.5,
            49981751,
            63097367,
            60315597,
            40982230.5,
            44660060,
            38107767,
            25653326,
            20975060.5,
            19711139,
            16281837,
            12457449.5,
            8379594,
            4715908.5,
            1875097,
            530547.5,
            73031,
            3457.5
           ],
           "y": [
            "0-4",
            "5-9",
            "10-14",
            "15-19",
            "20-24",
            "25-29",
            "30-34",
            "35-39",
            "40-44",
            "45-49",
            "50-54",
            "55-59",
            "60-64",
            "65-69",
            "70-74",
            "75-79",
            "80-84",
            "85-89",
            "90-94",
            "95-99",
            "100+"
           ]
          }
         ],
         "layout": {
          "annotations": [
           {
            "showarrow": false,
            "text": "Year: 1998",
            "x": 0.9,
            "xref": "paper",
            "y": 1,
            "yref": "paper"
           },
           {
            "showarrow": false,
            "text": "age",
            "x": -0.1,
            "xref": "paper",
            "y": 1.1,
            "yref": "paper"
           }
          ]
         },
         "name": "1998"
        },
        {
         "data": [
          {
           "hovertemplate": "%{y} %{x} <extra></extra>",
           "name": "Male",
           "orientation": "h",
           "type": "bar",
           "x": [
            -46038644.5,
            -57586482,
            -63188433,
            -54206234,
            -50337297,
            -64535748.5,
            -62927823,
            -47582625,
            -44482664,
            -40691099,
            -28682678.5,
            -22603476,
            -20312849,
            -16220470,
            -11240675,
            -6693924.5,
            -3106817,
            -1029191.5,
            -178801,
            -11180.5,
            -28.5
           ],
           "y": [
            "0-4",
            "5-9",
            "10-14",
            "15-19",
            "20-24",
            "25-29",
            "30-34",
            "35-39",
            "40-44",
            "45-49",
            "50-54",
            "55-59",
            "60-64",
            "65-69",
            "70-74",
            "75-79",
            "80-84",
            "85-89",
            "90-94",
            "95-99",
            "100+"
           ]
          },
          {
           "hovertemplate": "%{y} %{x} <extra></extra>",
           "name": "Female",
           "orientation": "h",
           "type": "bar",
           "x": [
            39897409.5,
            51326936.5,
            58004641.5,
            50827631.5,
            47643371,
            61545806,
            60522652.5,
            45990551,
            43336642.5,
            40340023,
            27458238.5,
            21342298.5,
            19645950.5,
            16813187.5,
            12797984,
            8776088,
            4879792,
            1987742,
            555951,
            79296.5,
            3901
           ],
           "y": [
            "0-4",
            "5-9",
            "10-14",
            "15-19",
            "20-24",
            "25-29",
            "30-34",
            "35-39",
            "40-44",
            "45-49",
            "50-54",
            "55-59",
            "60-64",
            "65-69",
            "70-74",
            "75-79",
            "80-84",
            "85-89",
            "90-94",
            "95-99",
            "100+"
           ]
          }
         ],
         "layout": {
          "annotations": [
           {
            "showarrow": false,
            "text": "Year: 1999",
            "x": 0.9,
            "xref": "paper",
            "y": 1,
            "yref": "paper"
           },
           {
            "showarrow": false,
            "text": "age",
            "x": -0.1,
            "xref": "paper",
            "y": 1.1,
            "yref": "paper"
           }
          ]
         },
         "name": "1999"
        },
        {
         "data": [
          {
           "hovertemplate": "%{y} %{x} <extra></extra>",
           "name": "Male",
           "orientation": "h",
           "type": "bar",
           "x": [
            -45137636,
            -53547706,
            -65376146,
            -55348657.5,
            -49368530.5,
            -61923650,
            -63853420,
            -53018469,
            -42046222.5,
            -42544542,
            -30680854,
            -23029772,
            -20396216,
            -16733238,
            -11624575.5,
            -7078285,
            -3276818,
            -1112689,
            -196479.5,
            -12425.5,
            -39
           ],
           "y": [
            "0-4",
            "5-9",
            "10-14",
            "15-19",
            "20-24",
            "25-29",
            "30-34",
            "35-39",
            "40-44",
            "45-49",
            "50-54",
            "55-59",
            "60-64",
            "65-69",
            "70-74",
            "75-79",
            "80-84",
            "85-89",
            "90-94",
            "95-99",
            "100+"
           ]
          },
          {
           "hovertemplate": "%{y} %{x} <extra></extra>",
           "name": "Female",
           "orientation": "h",
           "type": "bar",
           "x": [
            38963374.5,
            47423980.5,
            59683937.5,
            51760484.5,
            46660157.5,
            58987231.5,
            61360747.5,
            51240856.5,
            40891825,
            42179481,
            29709504.5,
            21884424,
            19597633.5,
            17314412.5,
            13115807,
            9161323.5,
            5085140,
            2105525,
            578262.5,
            84217,
            4372.5
           ],
           "y": [
            "0-4",
            "5-9",
            "10-14",
            "15-19",
            "20-24",
            "25-29",
            "30-34",
            "35-39",
            "40-44",
            "45-49",
            "50-54",
            "55-59",
            "60-64",
            "65-69",
            "70-74",
            "75-79",
            "80-84",
            "85-89",
            "90-94",
            "95-99",
            "100+"
           ]
          }
         ],
         "layout": {
          "annotations": [
           {
            "showarrow": false,
            "text": "Year: 2000",
            "x": 0.9,
            "xref": "paper",
            "y": 1,
            "yref": "paper"
           },
           {
            "showarrow": false,
            "text": "age",
            "x": -0.1,
            "xref": "paper",
            "y": 1.1,
            "yref": "paper"
           }
          ]
         },
         "name": "2000"
        },
        {
         "data": [
          {
           "hovertemplate": "%{y} %{x} <extra></extra>",
           "name": "Male",
           "orientation": "h",
           "type": "bar",
           "x": [
            -44506302.5,
            -50280896,
            -65711578.5,
            -56862339,
            -49613544,
            -58668311.5,
            -64726421,
            -58602295.5,
            -39534354.5,
            -43783408.5,
            -32810902.5,
            -23613298,
            -20584541,
            -17220165.5,
            -12058026.5,
            -7393727.5,
            -3481144,
            -1189793.5,
            -213447,
            -13822,
            -49
           ],
           "y": [
            "0-4",
            "5-9",
            "10-14",
            "15-19",
            "20-24",
            "25-29",
            "30-34",
            "35-39",
            "40-44",
            "45-49",
            "50-54",
            "55-59",
            "60-64",
            "65-69",
            "70-74",
            "75-79",
            "80-84",
            "85-89",
            "90-94",
            "95-99",
            "100+"
           ]
          },
          {
           "hovertemplate": "%{y} %{x} <extra></extra>",
           "name": "Female",
           "orientation": "h",
           "type": "bar",
           "x": [
            38289455.5,
            44253441.5,
            59660412.5,
            52996472,
            46823057,
            55827225,
            62133716,
            56627101.5,
            38413170.5,
            43328801,
            32144565.5,
            22592585.5,
            19718643,
            17794837,
            13515653,
            9473596,
            5338603.5,
            2243261.5,
            601816,
            89784,
            5016.5
           ],
           "y": [
            "0-4",
            "5-9",
            "10-14",
            "15-19",
            "20-24",
            "25-29",
            "30-34",
            "35-39",
            "40-44",
            "45-49",
            "50-54",
            "55-59",
            "60-64",
            "65-69",
            "70-74",
            "75-79",
            "80-84",
            "85-89",
            "90-94",
            "95-99",
            "100+"
           ]
          }
         ],
         "layout": {
          "annotations": [
           {
            "showarrow": false,
            "text": "Year: 2001",
            "x": 0.9,
            "xref": "paper",
            "y": 1,
            "yref": "paper"
           },
           {
            "showarrow": false,
            "text": "age",
            "x": -0.1,
            "xref": "paper",
            "y": 1.1,
            "yref": "paper"
           }
          ]
         },
         "name": "2001"
        },
        {
         "data": [
          {
           "hovertemplate": "%{y} %{x} <extra></extra>",
           "name": "Male",
           "orientation": "h",
           "type": "bar",
           "x": [
            -43930234,
            -48433335,
            -63461824.5,
            -58557968,
            -51121600,
            -55405978.5,
            -65532742.5,
            -61744823.5,
            -38797637.5,
            -44600300.5,
            -35146071.5,
            -24577532.5,
            -20742044.5,
            -17677047,
            -12492715.5,
            -7708142,
            -3690861,
            -1265844,
            -231918,
            -15409.5,
            -64
           ],
           "y": [
            "0-4",
            "5-9",
            "10-14",
            "15-19",
            "20-24",
            "25-29",
            "30-34",
            "35-39",
            "40-44",
            "45-49",
            "50-54",
            "55-59",
            "60-64",
            "65-69",
            "70-74",
            "75-79",
            "80-84",
            "85-89",
            "90-94",
            "95-99",
            "100+"
           ]
          },
          {
           "hovertemplate": "%{y} %{x} <extra></extra>",
           "name": "Female",
           "orientation": "h",
           "type": "bar",
           "x": [
            37687614.5,
            42392178,
            57296722,
            54348224,
            48169534,
            52669669.5,
            62834842.5,
            59651738,
            37681576.5,
            44031807,
            34842453,
            23602989,
            19933867,
            18173772,
            13950715.5,
            9792942.5,
            5601897.5,
            2395111,
            633181,
            95461.5,
            5731
           ],
           "y": [
            "0-4",
            "5-9",
            "10-14",
            "15-19",
            "20-24",
            "25-29",
            "30-34",
            "35-39",
            "40-44",
            "45-49",
            "50-54",
            "55-59",
            "60-64",
            "65-69",
            "70-74",
            "75-79",
            "80-84",
            "85-89",
            "90-94",
            "95-99",
            "100+"
           ]
          }
         ],
         "layout": {
          "annotations": [
           {
            "showarrow": false,
            "text": "Year: 2002",
            "x": 0.9,
            "xref": "paper",
            "y": 1,
            "yref": "paper"
           },
           {
            "showarrow": false,
            "text": "age",
            "x": -0.1,
            "xref": "paper",
            "y": 1.1,
            "yref": "paper"
           }
          ]
         },
         "name": "2002"
        },
        {
         "data": [
          {
           "hovertemplate": "%{y} %{x} <extra></extra>",
           "name": "Male",
           "orientation": "h",
           "type": "bar",
           "x": [
            -43564082,
            -46938823,
            -60518746.5,
            -60553525,
            -52770490.5,
            -52181395,
            -65380259.5,
            -61947030.5,
            -41777496,
            -44820717.5,
            -37497822,
            -25933899.5,
            -20842850,
            -17959917.5,
            -12982437,
            -8075680,
            -3919742,
            -1334942.5,
            -255268,
            -17273,
            -83.5
           ],
           "y": [
            "0-4",
            "5-9",
            "10-14",
            "15-19",
            "20-24",
            "25-29",
            "30-34",
            "35-39",
            "40-44",
            "45-49",
            "50-54",
            "55-59",
            "60-64",
            "65-69",
            "70-74",
            "75-79",
            "80-84",
            "85-89",
            "90-94",
            "95-99",
            "100+"
           ]
          },
          {
           "hovertemplate": "%{y} %{x} <extra></extra>",
           "name": "Female",
           "orientation": "h",
           "type": "bar",
           "x": [
            37286194.5,
            40878523,
            54323816.5,
            55936140.5,
            49636565.5,
            49547192,
            62610441.5,
            59824479.5,
            40571541,
            44129340,
            37505404.5,
            25038974.5,
            20161339,
            18327728.5,
            14435295.5,
            10178608,
            5892731,
            2530674.5,
            678038,
            101413,
            6445.5
           ],
           "y": [
            "0-4",
            "5-9",
            "10-14",
            "15-19",
            "20-24",
            "25-29",
            "30-34",
            "35-39",
            "40-44",
            "45-49",
            "50-54",
            "55-59",
            "60-64",
            "65-69",
            "70-74",
            "75-79",
            "80-84",
            "85-89",
            "90-94",
            "95-99",
            "100+"
           ]
          }
         ],
         "layout": {
          "annotations": [
           {
            "showarrow": false,
            "text": "Year: 2003",
            "x": 0.9,
            "xref": "paper",
            "y": 1,
            "yref": "paper"
           },
           {
            "showarrow": false,
            "text": "age",
            "x": -0.1,
            "xref": "paper",
            "y": 1.1,
            "yref": "paper"
           }
          ]
         },
         "name": "2003"
        },
        {
         "data": [
          {
           "hovertemplate": "%{y} %{x} <extra></extra>",
           "name": "Male",
           "orientation": "h",
           "type": "bar",
           "x": [
            -43441601,
            -45646955.5,
            -57276171.5,
            -62844986,
            -53773521.5,
            -49805529.5,
            -63860586,
            -62210576.5,
            -46899960,
            -43599781.5,
            -39558900.5,
            -27507571.5,
            -21111491.5,
            -18060643,
            -13505616.5,
            -8403676,
            -4190853.5,
            -1406503.5,
            -282956,
            -19451,
            -90.5
           ],
           "y": [
            "0-4",
            "5-9",
            "10-14",
            "15-19",
            "20-24",
            "25-29",
            "30-34",
            "35-39",
            "40-44",
            "45-49",
            "50-54",
            "55-59",
            "60-64",
            "65-69",
            "70-74",
            "75-79",
            "80-84",
            "85-89",
            "90-94",
            "95-99",
            "100+"
           ]
          },
          {
           "hovertemplate": "%{y} %{x} <extra></extra>",
           "name": "Female",
           "orientation": "h",
           "type": "bar",
           "x": [
            37110521.5,
            39577331.5,
            51107249.5,
            57762837,
            50474775.5,
            47225593,
            61076517.5,
            60045328.5,
            45553202.5,
            42829892,
            39726898,
            26825132,
            20545328.5,
            18312170.5,
            14960546,
            10519979.5,
            6239956,
            2663804,
            736415.5,
            108695.5,
            7114.5
           ],
           "y": [
            "0-4",
            "5-9",
            "10-14",
            "15-19",
            "20-24",
            "25-29",
            "30-34",
            "35-39",
            "40-44",
            "45-49",
            "50-54",
            "55-59",
            "60-64",
            "65-69",
            "70-74",
            "75-79",
            "80-84",
            "85-89",
            "90-94",
            "95-99",
            "100+"
           ]
          }
         ],
         "layout": {
          "annotations": [
           {
            "showarrow": false,
            "text": "Year: 2004",
            "x": 0.9,
            "xref": "paper",
            "y": 1,
            "yref": "paper"
           },
           {
            "showarrow": false,
            "text": "age",
            "x": -0.1,
            "xref": "paper",
            "y": 1.1,
            "yref": "paper"
           }
          ]
         },
         "name": "2004"
        },
        {
         "data": [
          {
           "hovertemplate": "%{y} %{x} <extra></extra>",
           "name": "Male",
           "orientation": "h",
           "type": "bar",
           "x": [
            -43322497,
            -44779029.5,
            -53267290,
            -65025688.5,
            -54918276,
            -48858150.5,
            -61286144,
            -63145243.5,
            -52275843,
            -41216254.5,
            -41374116.5,
            -29442289.5,
            -21541308,
            -18168284,
            -13961554.5,
            -8722381,
            -4467302.5,
            -1502562,
            -309357,
            -21804.5,
            -109
           ],
           "y": [
            "0-4",
            "5-9",
            "10-14",
            "15-19",
            "20-24",
            "25-29",
            "30-34",
            "35-39",
            "40-44",
            "45-49",
            "50-54",
            "55-59",
            "60-64",
            "65-69",
            "70-74",
            "75-79",
            "80-84",
            "85-89",
            "90-94",
            "95-99",
            "100+"
           ]
          },
          {
           "hovertemplate": "%{y} %{x} <extra></extra>",
           "name": "Female",
           "orientation": "h",
           "type": "bar",
           "x": [
            36953301.5,
            38671997.5,
            47228511,
            59441890,
            51412080,
            46259142,
            58544309,
            60897883.5,
            50776426,
            40421871,
            41558449.5,
            29057512.5,
            21099158.5,
            18315853.5,
            15461353,
            10845943.5,
            6585996.5,
            2828389,
            798592.5,
            115698,
            7718.5
           ],
           "y": [
            "0-4",
            "5-9",
            "10-14",
            "15-19",
            "20-24",
            "25-29",
            "30-34",
            "35-39",
            "40-44",
            "45-49",
            "50-54",
            "55-59",
            "60-64",
            "65-69",
            "70-74",
            "75-79",
            "80-84",
            "85-89",
            "90-94",
            "95-99",
            "100+"
           ]
          }
         ],
         "layout": {
          "annotations": [
           {
            "showarrow": false,
            "text": "Year: 2005",
            "x": 0.9,
            "xref": "paper",
            "y": 1,
            "yref": "paper"
           },
           {
            "showarrow": false,
            "text": "age",
            "x": -0.1,
            "xref": "paper",
            "y": 1.1,
            "yref": "paper"
           }
          ]
         },
         "name": "2005"
        },
        {
         "data": [
          {
           "hovertemplate": "%{y} %{x} <extra></extra>",
           "name": "Male",
           "orientation": "h",
           "type": "bar",
           "x": [
            -43367805.5,
            -44177024,
            -50026796,
            -65361620,
            -56430851.5,
            -49115289.5,
            -58071000,
            -64029217.5,
            -57793190.5,
            -38758497.5,
            -42589204.5,
            -31506209.5,
            -22123881,
            -18376234.5,
            -14397746,
            -9075278.5,
            -4698320.5,
            -1617725,
            -333675,
            -24266,
            -135
           ],
           "y": [
            "0-4",
            "5-9",
            "10-14",
            "15-19",
            "20-24",
            "25-29",
            "30-34",
            "35-39",
            "40-44",
            "45-49",
            "50-54",
            "55-59",
            "60-64",
            "65-69",
            "70-74",
            "75-79",
            "80-84",
            "85-89",
            "90-94",
            "95-99",
            "100+"
           ]
          },
          {
           "hovertemplate": "%{y} %{x} <extra></extra>",
           "name": "Female",
           "orientation": "h",
           "type": "bar",
           "x": [
            36952753,
            38022175.5,
            44076577.5,
            59421104,
            52648718,
            46431169.5,
            55409193,
            61682138,
            56130902,
            37975695.5,
            42701420,
            31469495,
            21809712,
            18470977.5,
            15929819.5,
            11218703.5,
            6859187.5,
            3010295.5,
            862627.5,
            121647.5,
            8288.5
           ],
           "y": [
            "0-4",
            "5-9",
            "10-14",
            "15-19",
            "20-24",
            "25-29",
            "30-34",
            "35-39",
            "40-44",
            "45-49",
            "50-54",
            "55-59",
            "60-64",
            "65-69",
            "70-74",
            "75-79",
            "80-84",
            "85-89",
            "90-94",
            "95-99",
            "100+"
           ]
          }
         ],
         "layout": {
          "annotations": [
           {
            "showarrow": false,
            "text": "Year: 2006",
            "x": 0.9,
            "xref": "paper",
            "y": 1,
            "yref": "paper"
           },
           {
            "showarrow": false,
            "text": "age",
            "x": -0.1,
            "xref": "paper",
            "y": 1.1,
            "yref": "paper"
           }
          ]
         },
         "name": "2006"
        },
        {
         "data": [
          {
           "hovertemplate": "%{y} %{x} <extra></extra>",
           "name": "Male",
           "orientation": "h",
           "type": "bar",
           "x": [
            -43846419,
            -43629154.5,
            -48198124,
            -63125463.5,
            -58125451,
            -50627560,
            -54846689.5,
            -64846048,
            -60899595.5,
            -38050260,
            -43396704,
            -33767634.5,
            -23061601,
            -18556868.5,
            -14807040.5,
            -9425438.5,
            -4924625,
            -1735577.5,
            -357984.5,
            -26921.5,
            -186.5
           ],
           "y": [
            "0-4",
            "5-9",
            "10-14",
            "15-19",
            "20-24",
            "25-29",
            "30-34",
            "35-39",
            "40-44",
            "45-49",
            "50-54",
            "55-59",
            "60-64",
            "65-69",
            "70-74",
            "75-79",
            "80-84",
            "85-89",
            "90-94",
            "95-99",
            "100+"
           ]
          },
          {
           "hovertemplate": "%{y} %{x} <extra></extra>",
           "name": "Female",
           "orientation": "h",
           "type": "bar",
           "x": [
            37339851.5,
            37442728,
            42228908,
            57067334,
            54001134,
            47781135.5,
            52273656,
            62390921.5,
            59140019.5,
            37259243.5,
            43401529.5,
            34136752.5,
            22807514.5,
            18706348.5,
            16296422.5,
            11607087,
            7122155.5,
            3188986,
            928669.5,
            128689.5,
            8790
           ],
           "y": [
            "0-4",
            "5-9",
            "10-14",
            "15-19",
            "20-24",
            "25-29",
            "30-34",
            "35-39",
            "40-44",
            "45-49",
            "50-54",
            "55-59",
            "60-64",
            "65-69",
            "70-74",
            "75-79",
            "80-84",
            "85-89",
            "90-94",
            "95-99",
            "100+"
           ]
          }
         ],
         "layout": {
          "annotations": [
           {
            "showarrow": false,
            "text": "Year: 2007",
            "x": 0.9,
            "xref": "paper",
            "y": 1,
            "yref": "paper"
           },
           {
            "showarrow": false,
            "text": "age",
            "x": -0.1,
            "xref": "paper",
            "y": 1.1,
            "yref": "paper"
           }
          ]
         },
         "name": "2007"
        },
        {
         "data": [
          {
           "hovertemplate": "%{y} %{x} <extra></extra>",
           "name": "Male",
           "orientation": "h",
           "type": "bar",
           "x": [
            -44603241.5,
            -43287379.5,
            -46718068,
            -60198771,
            -60117473,
            -52279242.5,
            -51659819,
            -64711981,
            -61111359,
            -40999974,
            -43622799.5,
            -36044546,
            -24356884,
            -18683831,
            -15072840,
            -9821096.5,
            -5183805,
            -1862190.5,
            -381024.5,
            -30191,
            -247.5
           ],
           "y": [
            "0-4",
            "5-9",
            "10-14",
            "15-19",
            "20-24",
            "25-29",
            "30-34",
            "35-39",
            "40-44",
            "45-49",
            "50-54",
            "55-59",
            "60-64",
            "65-69",
            "70-74",
            "75-79",
            "80-84",
            "85-89",
            "90-94",
            "95-99",
            "100+"
           ]
          },
          {
           "hovertemplate": "%{y} %{x} <extra></extra>",
           "name": "Female",
           "orientation": "h",
           "type": "bar",
           "x": [
            37981412,
            37060809,
            40725529.5,
            54104997,
            55588291.5,
            49251338.5,
            49173642,
            62177897.5,
            59322755.5,
            40132528.5,
            43503267.5,
            36769018,
            24213271,
            18949610.5,
            16463967,
            12042664,
            7436202,
            3384008,
            990264,
            139536,
            9375.5
           ],
           "y": [
            "0-4",
            "5-9",
            "10-14",
            "15-19",
            "20-24",
            "25-29",
            "30-34",
            "35-39",
            "40-44",
            "45-49",
            "50-54",
            "55-59",
            "60-64",
            "65-69",
            "70-74",
            "75-79",
            "80-84",
            "85-89",
            "90-94",
            "95-99",
            "100+"
           ]
          }
         ],
         "layout": {
          "annotations": [
           {
            "showarrow": false,
            "text": "Year: 2008",
            "x": 0.9,
            "xref": "paper",
            "y": 1,
            "yref": "paper"
           },
           {
            "showarrow": false,
            "text": "age",
            "x": -0.1,
            "xref": "paper",
            "y": 1.1,
            "yref": "paper"
           }
          ]
         },
         "name": "2008"
        },
        {
         "data": [
          {
           "hovertemplate": "%{y} %{x} <extra></extra>",
           "name": "Male",
           "orientation": "h",
           "type": "bar",
           "x": [
            -45514369,
            -43185802.5,
            -45437752.5,
            -56976932.5,
            -62406226.5,
            -53290092,
            -49317697,
            -63223919.5,
            -61391000.5,
            -46050892.5,
            -42439139,
            -38041469,
            -25850925,
            -18962151.5,
            -15188681,
            -10244278,
            -5418892.5,
            -2012809.5,
            -407101,
            -34142,
            -324.5
           ],
           "y": [
            "0-4",
            "5-9",
            "10-14",
            "15-19",
            "20-24",
            "25-29",
            "30-34",
            "35-39",
            "40-44",
            "45-49",
            "50-54",
            "55-59",
            "60-64",
            "65-69",
            "70-74",
            "75-79",
            "80-84",
            "85-89",
            "90-94",
            "95-99",
            "100+"
           ]
          },
          {
           "hovertemplate": "%{y} %{x} <extra></extra>",
           "name": "Female",
           "orientation": "h",
           "type": "bar",
           "x": [
            38770800.5,
            36902730.5,
            39431484.5,
            50902205.5,
            57416369,
            50096879,
            46873353,
            60662871.5,
            59556974.5,
            45076881.5,
            42224211,
            38965047.5,
            25959680,
            19338577,
            16482449,
            12514270,
            7720935,
            3616213,
            1054842,
            154068,
            10155.5
           ],
           "y": [
            "0-4",
            "5-9",
            "10-14",
            "15-19",
            "20-24",
            "25-29",
            "30-34",
            "35-39",
            "40-44",
            "45-49",
            "50-54",
            "55-59",
            "60-64",
            "65-69",
            "70-74",
            "75-79",
            "80-84",
            "85-89",
            "90-94",
            "95-99",
            "100+"
           ]
          }
         ],
         "layout": {
          "annotations": [
           {
            "showarrow": false,
            "text": "Year: 2009",
            "x": 0.9,
            "xref": "paper",
            "y": 1,
            "yref": "paper"
           },
           {
            "showarrow": false,
            "text": "age",
            "x": -0.1,
            "xref": "paper",
            "y": 1.1,
            "yref": "paper"
           }
          ]
         },
         "name": "2009"
        },
        {
         "data": [
          {
           "hovertemplate": "%{y} %{x} <extra></extra>",
           "name": "Male",
           "orientation": "h",
           "type": "bar",
           "x": [
            -46336067,
            -43087675,
            -44580259.5,
            -52999479,
            -64596255.5,
            -54453099.5,
            -48403310,
            -60695479.5,
            -62340167.5,
            -51347612,
            -40125041.5,
            -39802600.5,
            -27690676,
            -19389214.5,
            -15315243.5,
            -10617256.5,
            -5649947,
            -2169015,
            -443038,
            -37981,
            -421.5
           ],
           "y": [
            "0-4",
            "5-9",
            "10-14",
            "15-19",
            "20-24",
            "25-29",
            "30-34",
            "35-39",
            "40-44",
            "45-49",
            "50-54",
            "55-59",
            "60-64",
            "65-69",
            "70-74",
            "75-79",
            "80-84",
            "85-89",
            "90-94",
            "95-99",
            "100+"
           ]
          },
          {
           "hovertemplate": "%{y} %{x} <extra></extra>",
           "name": "Female",
           "orientation": "h",
           "type": "bar",
           "x": [
            39501792.5,
            36763700,
            38533442.5,
            47046669.5,
            59110306,
            51053167.5,
            45932195.5,
            58160605,
            60423724.5,
            50262088.5,
            39853954.5,
            40774747,
            28149680.5,
            19889969.5,
            16524584.5,
            12966865.5,
            7996237,
            3851278,
            1136101,
            169475.5,
            10944
           ],
           "y": [
            "0-4",
            "5-9",
            "10-14",
            "15-19",
            "20-24",
            "25-29",
            "30-34",
            "35-39",
            "40-44",
            "45-49",
            "50-54",
            "55-59",
            "60-64",
            "65-69",
            "70-74",
            "75-79",
            "80-84",
            "85-89",
            "90-94",
            "95-99",
            "100+"
           ]
          }
         ],
         "layout": {
          "annotations": [
           {
            "showarrow": false,
            "text": "Year: 2010",
            "x": 0.9,
            "xref": "paper",
            "y": 1,
            "yref": "paper"
           },
           {
            "showarrow": false,
            "text": "age",
            "x": -0.1,
            "xref": "paper",
            "y": 1.1,
            "yref": "paper"
           }
          ]
         },
         "name": "2010"
        },
        {
         "data": [
          {
           "hovertemplate": "%{y} %{x} <extra></extra>",
           "name": "Male",
           "orientation": "h",
           "type": "bar",
           "x": [
            -46955372.5,
            -43154085.5,
            -43988791,
            -49790865.5,
            -64957215,
            -55991145.5,
            -48693122,
            -57535649,
            -63244195.5,
            -56781037.5,
            -37740605,
            -40983372,
            -29653489.5,
            -19957843.5,
            -15532883,
            -10974294.5,
            -5896826,
            -2299331.5,
            -485548.5,
            -41431.5,
            -517.5
           ],
           "y": [
            "0-4",
            "5-9",
            "10-14",
            "15-19",
            "20-24",
            "25-29",
            "30-34",
            "35-39",
            "40-44",
            "45-49",
            "50-54",
            "55-59",
            "60-64",
            "65-69",
            "70-74",
            "75-79",
            "80-84",
            "85-89",
            "90-94",
            "95-99",
            "100+"
           ]
          },
          {
           "hovertemplate": "%{y} %{x} <extra></extra>",
           "name": "Female",
           "orientation": "h",
           "type": "bar",
           "x": [
            40079393.5,
            36781042,
            37891739.5,
            43919625,
            59118339.5,
            52317844,
            46133112,
            55063433,
            61226146,
            55579148.5,
            37447743.5,
            41905157.5,
            30520264.5,
            20592379.5,
            16708910,
            13391869.5,
            8299306,
            4039252,
            1226103.5,
            185373,
            11677
           ],
           "y": [
            "0-4",
            "5-9",
            "10-14",
            "15-19",
            "20-24",
            "25-29",
            "30-34",
            "35-39",
            "40-44",
            "45-49",
            "50-54",
            "55-59",
            "60-64",
            "65-69",
            "70-74",
            "75-79",
            "80-84",
            "85-89",
            "90-94",
            "95-99",
            "100+"
           ]
          }
         ],
         "layout": {
          "annotations": [
           {
            "showarrow": false,
            "text": "Year: 2011",
            "x": 0.9,
            "xref": "paper",
            "y": 1,
            "yref": "paper"
           },
           {
            "showarrow": false,
            "text": "age",
            "x": -0.1,
            "xref": "paper",
            "y": 1.1,
            "yref": "paper"
           }
          ]
         },
         "name": "2011"
        },
        {
         "data": [
          {
           "hovertemplate": "%{y} %{x} <extra></extra>",
           "name": "Male",
           "orientation": "h",
           "type": "bar",
           "x": [
            -47737866,
            -43651568.5,
            -43452405.5,
            -47986934,
            -62757297.5,
            -57710289,
            -50230719,
            -54366064.5,
            -64080798.5,
            -59845893,
            -37076605.5,
            -41777158,
            -31805107.5,
            -20845544.5,
            -15730694.5,
            -11312085,
            -6140320,
            -2426013.5,
            -529313,
            -45046.5,
            -615.5
           ],
           "y": [
            "0-4",
            "5-9",
            "10-14",
            "15-19",
            "20-24",
            "25-29",
            "30-34",
            "35-39",
            "40-44",
            "45-49",
            "50-54",
            "55-59",
            "60-64",
            "65-69",
            "70-74",
            "75-79",
            "80-84",
            "85-89",
            "90-94",
            "95-99",
            "100+"
           ]
          },
          {
           "hovertemplate": "%{y} %{x} <extra></extra>",
           "name": "Female",
           "orientation": "h",
           "type": "bar",
           "x": [
            40818682.5,
            37183974,
            37321258.5,
            42092200.5,
            56800189,
            53698375.5,
            47508299,
            51966316,
            61952562,
            58574966,
            36755841,
            42602758.5,
            33142454,
            21566683,
            16967133,
            13732992,
            8614612,
            4221458,
            1316460.5,
            202628,
            12636
           ],
           "y": [
            "0-4",
            "5-9",
            "10-14",
            "15-19",
            "20-24",
            "25-29",
            "30-34",
            "35-39",
            "40-44",
            "45-49",
            "50-54",
            "55-59",
            "60-64",
            "65-69",
            "70-74",
            "75-79",
            "80-84",
            "85-89",
            "90-94",
            "95-99",
            "100+"
           ]
          }
         ],
         "layout": {
          "annotations": [
           {
            "showarrow": false,
            "text": "Year: 2012",
            "x": 0.9,
            "xref": "paper",
            "y": 1,
            "yref": "paper"
           },
           {
            "showarrow": false,
            "text": "age",
            "x": -0.1,
            "xref": "paper",
            "y": 1.1,
            "yref": "paper"
           }
          ]
         },
         "name": "2012"
        },
        {
         "data": [
          {
           "hovertemplate": "%{y} %{x} <extra></extra>",
           "name": "Male",
           "orientation": "h",
           "type": "bar",
           "x": [
            -48390471,
            -44427522.5,
            -43124114.5,
            -46527358.5,
            -59870379,
            -59726173.5,
            -51908023,
            -51235822,
            -63980566,
            -60079544,
            -39998732.5,
            -42016617,
            -33977392.5,
            -22048933,
            -15887348,
            -11551106,
            -6425545,
            -2572886.5,
            -577178.5,
            -48881,
            -735.5
           ],
           "y": [
            "0-4",
            "5-9",
            "10-14",
            "15-19",
            "20-24",
            "25-29",
            "30-34",
            "35-39",
            "40-44",
            "45-49",
            "50-54",
            "55-59",
            "60-64",
            "65-69",
            "70-74",
            "75-79",
            "80-84",
            "85-89",
            "90-94",
            "95-99",
            "100+"
           ]
          },
          {
           "hovertemplate": "%{y} %{x} <extra></extra>",
           "name": "Female",
           "orientation": "h",
           "type": "bar",
           "x": [
            41468259.5,
            37841831,
            36949706.5,
            40605725.5,
            53875303.5,
            55314684,
            49005305,
            48907298.5,
            61765097,
            58778929.5,
            39617601,
            42715565.5,
            35734544.5,
            22926224.5,
            17232407.5,
            13916332,
            8978862,
            4441052,
            1416019,
            220068,
            14162
           ],
           "y": [
            "0-4",
            "5-9",
            "10-14",
            "15-19",
            "20-24",
            "25-29",
            "30-34",
            "35-39",
            "40-44",
            "45-49",
            "50-54",
            "55-59",
            "60-64",
            "65-69",
            "70-74",
            "75-79",
            "80-84",
            "85-89",
            "90-94",
            "95-99",
            "100+"
           ]
          }
         ],
         "layout": {
          "annotations": [
           {
            "showarrow": false,
            "text": "Year: 2013",
            "x": 0.9,
            "xref": "paper",
            "y": 1,
            "yref": "paper"
           },
           {
            "showarrow": false,
            "text": "age",
            "x": -0.1,
            "xref": "paper",
            "y": 1.1,
            "yref": "paper"
           }
          ]
         },
         "name": "2013"
        },
        {
         "data": [
          {
           "hovertemplate": "%{y} %{x} <extra></extra>",
           "name": "Male",
           "orientation": "h",
           "type": "bar",
           "x": [
            -48671553,
            -45355634,
            -43035801.5,
            -45260691.5,
            -56682786,
            -62028997.5,
            -52941427,
            -48940356,
            -62539816.5,
            -60385849,
            -44960233.5,
            -40890537.5,
            -35882169,
            -23425115.5,
            -16173438.5,
            -11678641,
            -6731266.5,
            -2708689,
            -634701,
            -53607,
            -868.5
           ],
           "y": [
            "0-4",
            "5-9",
            "10-14",
            "15-19",
            "20-24",
            "25-29",
            "30-34",
            "35-39",
            "40-44",
            "45-49",
            "50-54",
            "55-59",
            "60-64",
            "65-69",
            "70-74",
            "75-79",
            "80-84",
            "85-89",
            "90-94",
            "95-99",
            "100+"
           ]
          },
          {
           "hovertemplate": "%{y} %{x} <extra></extra>",
           "name": "Female",
           "orientation": "h",
           "type": "bar",
           "x": [
            41822929.5,
            38645534.5,
            36801229.5,
            39322096.5,
            50702407,
            57163294,
            49873674,
            46641154,
            60281295.5,
            59036000.5,
            44520515,
            41468871,
            37896926,
            24612005.5,
            17628437.5,
            13979040.5,
            9374084,
            4646697.5,
            1535409.5,
            239674,
            16214
           ],
           "y": [
            "0-4",
            "5-9",
            "10-14",
            "15-19",
            "20-24",
            "25-29",
            "30-34",
            "35-39",
            "40-44",
            "45-49",
            "50-54",
            "55-59",
            "60-64",
            "65-69",
            "70-74",
            "75-79",
            "80-84",
            "85-89",
            "90-94",
            "95-99",
            "100+"
           ]
          }
         ],
         "layout": {
          "annotations": [
           {
            "showarrow": false,
            "text": "Year: 2014",
            "x": 0.9,
            "xref": "paper",
            "y": 1,
            "yref": "paper"
           },
           {
            "showarrow": false,
            "text": "age",
            "x": -0.1,
            "xref": "paper",
            "y": 1.1,
            "yref": "paper"
           }
          ]
         },
         "name": "2014"
        },
        {
         "data": [
          {
           "hovertemplate": "%{y} %{x} <extra></extra>",
           "name": "Male",
           "orientation": "h",
           "type": "bar",
           "x": [
            -48679579.5,
            -46189861,
            -42949696,
            -44410685,
            -52733786.5,
            -64219357,
            -54113268,
            -48052656,
            -60060891.5,
            -61347764,
            -50142706,
            -38670859.5,
            -37559659,
            -25120739,
            -16588465.5,
            -11817989.5,
            -7002575,
            -2843126,
            -695150.5,
            -60276,
            -992.5
           ],
           "y": [
            "0-4",
            "5-9",
            "10-14",
            "15-19",
            "20-24",
            "25-29",
            "30-34",
            "35-39",
            "40-44",
            "45-49",
            "50-54",
            "55-59",
            "60-64",
            "65-69",
            "70-74",
            "75-79",
            "80-84",
            "85-89",
            "90-94",
            "95-99",
            "100+"
           ]
          },
          {
           "hovertemplate": "%{y} %{x} <extra></extra>",
           "name": "Female",
           "orientation": "h",
           "type": "bar",
           "x": [
            41961966,
            39386654,
            36670572.5,
            38428515,
            46867114,
            58863503.5,
            50839385,
            45718829.5,
            57808092,
            59915712,
            49652930.5,
            39147243,
            39673126.5,
            26733645.5,
            18173489.5,
            14067994,
            9755876,
            4848500,
            1659029,
            264770,
            18418
           ],
           "y": [
            "0-4",
            "5-9",
            "10-14",
            "15-19",
            "20-24",
            "25-29",
            "30-34",
            "35-39",
            "40-44",
            "45-49",
            "50-54",
            "55-59",
            "60-64",
            "65-69",
            "70-74",
            "75-79",
            "80-84",
            "85-89",
            "90-94",
            "95-99",
            "100+"
           ]
          }
         ],
         "layout": {
          "annotations": [
           {
            "showarrow": false,
            "text": "Year: 2015",
            "x": 0.9,
            "xref": "paper",
            "y": 1,
            "yref": "paper"
           },
           {
            "showarrow": false,
            "text": "age",
            "x": -0.1,
            "xref": "paper",
            "y": 1.1,
            "yref": "paper"
           }
          ]
         },
         "name": "2015"
        },
        {
         "data": [
          {
           "hovertemplate": "%{y} %{x} <extra></extra>",
           "name": "Male",
           "orientation": "h",
           "type": "bar",
           "x": [
            -48628875,
            -46819317,
            -43027177,
            -43825708,
            -49546811,
            -64581265,
            -55649819.5,
            -48354520,
            -56951499,
            -62264799.5,
            -55445792.5,
            -36381995.5,
            -38681966,
            -26930308.5,
            -17130651.5,
            -12035545.5,
            -7262636,
            -2981456,
            -745217,
            -68089.5,
            -1119
           ],
           "y": [
            "0-4",
            "5-9",
            "10-14",
            "15-19",
            "20-24",
            "25-29",
            "30-34",
            "35-39",
            "40-44",
            "45-49",
            "50-54",
            "55-59",
            "60-64",
            "65-69",
            "70-74",
            "75-79",
            "80-84",
            "85-89",
            "90-94",
            "95-99",
            "100+"
           ]
          },
          {
           "hovertemplate": "%{y} %{x} <extra></extra>",
           "name": "Female",
           "orientation": "h",
           "type": "bar",
           "x": [
            42068442,
            39971978,
            36695771,
            37790346.5,
            43753567,
            58874875.5,
            52104431,
            45927920,
            54739160,
            60729424.5,
            54911515,
            36789319.5,
            40780603,
            29036817,
            18861540,
            14286081.5,
            10116961,
            5062827.5,
            1759949,
            292811,
            20772.5
           ],
           "y": [
            "0-4",
            "5-9",
            "10-14",
            "15-19",
            "20-24",
            "25-29",
            "30-34",
            "35-39",
            "40-44",
            "45-49",
            "50-54",
            "55-59",
            "60-64",
            "65-69",
            "70-74",
            "75-79",
            "80-84",
            "85-89",
            "90-94",
            "95-99",
            "100+"
           ]
          }
         ],
         "layout": {
          "annotations": [
           {
            "showarrow": false,
            "text": "Year: 2016",
            "x": 0.9,
            "xref": "paper",
            "y": 1,
            "yref": "paper"
           },
           {
            "showarrow": false,
            "text": "age",
            "x": -0.1,
            "xref": "paper",
            "y": 1.1,
            "yref": "paper"
           }
          ]
         },
         "name": "2016"
        },
        {
         "data": [
          {
           "hovertemplate": "%{y} %{x} <extra></extra>",
           "name": "Male",
           "orientation": "h",
           "type": "bar",
           "x": [
            -48482937,
            -47608468.5,
            -43532719.5,
            -43294972.5,
            -47753441.5,
            -62388320,
            -57359341.5,
            -49890379,
            -53826119,
            -63108219,
            -58429950.5,
            -35761167,
            -39436819.5,
            -28900745,
            -17931726.5,
            -12226759,
            -7495884.5,
            -3106997.5,
            -789200,
            -75411,
            -1244.5
           ],
           "y": [
            "0-4",
            "5-9",
            "10-14",
            "15-19",
            "20-24",
            "25-29",
            "30-34",
            "35-39",
            "40-44",
            "45-49",
            "50-54",
            "55-59",
            "60-64",
            "65-69",
            "70-74",
            "75-79",
            "80-84",
            "85-89",
            "90-94",
            "95-99",
            "100+"
           ]
          },
          {
           "hovertemplate": "%{y} %{x} <extra></extra>",
           "name": "Female",
           "orientation": "h",
           "type": "bar",
           "x": [
            42112161.5,
            40716007.5,
            37104483.5,
            37222518.5,
            41931511.5,
            56561334,
            53479162,
            47302436.5,
            51667269.5,
            61463941.5,
            57877840.5,
            36121608.5,
            41469005,
            31583230.5,
            19797517.5,
            14566393.5,
            10413188,
            5283662.5,
            1857238,
            321197.5,
            23426.5
           ],
           "y": [
            "0-4",
            "5-9",
            "10-14",
            "15-19",
            "20-24",
            "25-29",
            "30-34",
            "35-39",
            "40-44",
            "45-49",
            "50-54",
            "55-59",
            "60-64",
            "65-69",
            "70-74",
            "75-79",
            "80-84",
            "85-89",
            "90-94",
            "95-99",
            "100+"
           ]
          }
         ],
         "layout": {
          "annotations": [
           {
            "showarrow": false,
            "text": "Year: 2017",
            "x": 0.9,
            "xref": "paper",
            "y": 1,
            "yref": "paper"
           },
           {
            "showarrow": false,
            "text": "age",
            "x": -0.1,
            "xref": "paper",
            "y": 1.1,
            "yref": "paper"
           }
          ]
         },
         "name": "2017"
        },
        {
         "data": [
          {
           "hovertemplate": "%{y} %{x} <extra></extra>",
           "name": "Male",
           "orientation": "h",
           "type": "bar",
           "x": [
            -47477802,
            -48266344,
            -44314365.5,
            -42969542,
            -46295166.5,
            -59506629,
            -59357380.5,
            -51559273,
            -50737492.5,
            -63028259,
            -58670715,
            -38617924,
            -39673083,
            -30893519.5,
            -18990704.5,
            -12388554.5,
            -7672950,
            -3261715.5,
            -841522.5,
            -83713.5,
            -1407.5
           ],
           "y": [
            "0-4",
            "5-9",
            "10-14",
            "15-19",
            "20-24",
            "25-29",
            "30-34",
            "35-39",
            "40-44",
            "45-49",
            "50-54",
            "55-59",
            "60-64",
            "65-69",
            "70-74",
            "75-79",
            "80-84",
            "85-89",
            "90-94",
            "95-99",
            "100+"
           ]
          },
          {
           "hovertemplate": "%{y} %{x} <extra></extra>",
           "name": "Female",
           "orientation": "h",
           "type": "bar",
           "x": [
            41413406.5,
            41368965,
            37765994.5,
            36850268.5,
            40441777.5,
            53636694,
            55082928,
            48793386.5,
            48631088.5,
            61289462,
            58095827,
            38955677.5,
            41589686.5,
            34103983.5,
            21084738,
            14851703.5,
            10601802.5,
            5548026,
            1976608,
            353081,
            26300.5
           ],
           "y": [
            "0-4",
            "5-9",
            "10-14",
            "15-19",
            "20-24",
            "25-29",
            "30-34",
            "35-39",
            "40-44",
            "45-49",
            "50-54",
            "55-59",
            "60-64",
            "65-69",
            "70-74",
            "75-79",
            "80-84",
            "85-89",
            "90-94",
            "95-99",
            "100+"
           ]
          }
         ],
         "layout": {
          "annotations": [
           {
            "showarrow": false,
            "text": "Year: 2018",
            "x": 0.9,
            "xref": "paper",
            "y": 1,
            "yref": "paper"
           },
           {
            "showarrow": false,
            "text": "age",
            "x": -0.1,
            "xref": "paper",
            "y": 1.1,
            "yref": "paper"
           }
          ]
         },
         "name": "2018"
        },
        {
         "data": [
          {
           "hovertemplate": "%{y} %{x} <extra></extra>",
           "name": "Male",
           "orientation": "h",
           "type": "bar",
           "x": [
            -45604246,
            -48553508.5,
            -45247282,
            -42883181,
            -45025413.5,
            -56326866,
            -61639749.5,
            -52586820,
            -48478142,
            -61632537.5,
            -59001429,
            -43438849,
            -38616138.5,
            -32652325,
            -20202365.5,
            -12667729,
            -7794768,
            -3439009.5,
            -894973,
            -94904,
            -1678
           ],
           "y": [
            "0-4",
            "5-9",
            "10-14",
            "15-19",
            "20-24",
            "25-29",
            "30-34",
            "35-39",
            "40-44",
            "45-49",
            "50-54",
            "55-59",
            "60-64",
            "65-69",
            "70-74",
            "75-79",
            "80-84",
            "85-89",
            "90-94",
            "95-99",
            "100+"
           ]
          },
          {
           "hovertemplate": "%{y} %{x} <extra></extra>",
           "name": "Female",
           "orientation": "h",
           "type": "bar",
           "x": [
            39949145,
            41727362.5,
            38572311.5,
            36699336.5,
            39150420.5,
            50463693.5,
            56916707,
            49656073.5,
            46383293,
            59827839.5,
            58371771,
            43794531,
            40379243.5,
            36206523,
            22678080.5,
            15248528,
            10706469,
            5836400.5,
            2092884.5,
            391844.5,
            29658.5
           ],
           "y": [
            "0-4",
            "5-9",
            "10-14",
            "15-19",
            "20-24",
            "25-29",
            "30-34",
            "35-39",
            "40-44",
            "45-49",
            "50-54",
            "55-59",
            "60-64",
            "65-69",
            "70-74",
            "75-79",
            "80-84",
            "85-89",
            "90-94",
            "95-99",
            "100+"
           ]
          }
         ],
         "layout": {
          "annotations": [
           {
            "showarrow": false,
            "text": "Year: 2019",
            "x": 0.9,
            "xref": "paper",
            "y": 1,
            "yref": "paper"
           },
           {
            "showarrow": false,
            "text": "age",
            "x": -0.1,
            "xref": "paper",
            "y": 1.1,
            "yref": "paper"
           }
          ]
         },
         "name": "2019"
        },
        {
         "data": [
          {
           "hovertemplate": "%{y} %{x} <extra></extra>",
           "name": "Male",
           "orientation": "h",
           "type": "bar",
           "x": [
            -43090361,
            -48569018,
            -46087634,
            -42807806,
            -44183423.5,
            -52403444.5,
            -63818670.5,
            -53756875,
            -47616175,
            -59212719.5,
            -59974350.5,
            -48456961.5,
            -36522815,
            -34197753,
            -21693623,
            -13042710,
            -7916700,
            -3588891.5,
            -945495.5,
            -106267,
            -2065.5
           ],
           "y": [
            "0-4",
            "5-9",
            "10-14",
            "15-19",
            "20-24",
            "25-29",
            "30-34",
            "35-39",
            "40-44",
            "45-49",
            "50-54",
            "55-59",
            "60-64",
            "65-69",
            "70-74",
            "75-79",
            "80-84",
            "85-89",
            "90-94",
            "95-99",
            "100+"
           ]
          },
          {
           "hovertemplate": "%{y} %{x} <extra></extra>",
           "name": "Female",
           "orientation": "h",
           "type": "bar",
           "x": [
            37908986.5,
            41871696.5,
            39317613.5,
            36575749,
            38261917.5,
            46643392,
            58611716.5,
            50620897,
            45475334.5,
            57384496.5,
            59264199,
            48855587.5,
            38121554.5,
            37926701.5,
            24695148,
            15773823,
            10837024.5,
            6116037.5,
            2208020.5,
            432247.5,
            33878.5
           ],
           "y": [
            "0-4",
            "5-9",
            "10-14",
            "15-19",
            "20-24",
            "25-29",
            "30-34",
            "35-39",
            "40-44",
            "45-49",
            "50-54",
            "55-59",
            "60-64",
            "65-69",
            "70-74",
            "75-79",
            "80-84",
            "85-89",
            "90-94",
            "95-99",
            "100+"
           ]
          }
         ],
         "layout": {
          "annotations": [
           {
            "showarrow": false,
            "text": "Year: 2020",
            "x": 0.9,
            "xref": "paper",
            "y": 1,
            "yref": "paper"
           },
           {
            "showarrow": false,
            "text": "age",
            "x": -0.1,
            "xref": "paper",
            "y": 1.1,
            "yref": "paper"
           }
          ]
         },
         "name": "2020"
        },
        {
         "data": [
          {
           "hovertemplate": "%{y} %{x} <extra></extra>",
           "name": "Male",
           "orientation": "h",
           "type": "bar",
           "x": [
            -39707251,
            -48525230.5,
            -46722986,
            -42897821,
            -43609395,
            -49241818.5,
            -64179474.5,
            -55289049,
            -47931809,
            -56168768,
            -60904575,
            -53579503,
            -34365150.5,
            -35226964.5,
            -23275718,
            -13509535,
            -8085536,
            -3720930.5,
            -991605.5,
            -114829,
            -2508
           ],
           "y": [
            "0-4",
            "5-9",
            "10-14",
            "15-19",
            "20-24",
            "25-29",
            "30-34",
            "35-39",
            "40-44",
            "45-49",
            "50-54",
            "55-59",
            "60-64",
            "65-69",
            "70-74",
            "75-79",
            "80-84",
            "85-89",
            "90-94",
            "95-99",
            "100+"
           ]
          },
          {
           "hovertemplate": "%{y} %{x} <extra></extra>",
           "name": "Female",
           "orientation": "h",
           "type": "bar",
           "x": [
            35082449.5,
            41983007,
            39906963,
            36610454,
            37632232,
            43545421.5,
            58624639,
            51884004.5,
            45692514.5,
            54348801,
            60090730,
            54038601,
            35829344,
            38993276.5,
            26887271,
            16420713.5,
            11067766,
            6377875.5,
            2323762.5,
            464716.5,
            38464.5
           ],
           "y": [
            "0-4",
            "5-9",
            "10-14",
            "15-19",
            "20-24",
            "25-29",
            "30-34",
            "35-39",
            "40-44",
            "45-49",
            "50-54",
            "55-59",
            "60-64",
            "65-69",
            "70-74",
            "75-79",
            "80-84",
            "85-89",
            "90-94",
            "95-99",
            "100+"
           ]
          }
         ],
         "layout": {
          "annotations": [
           {
            "showarrow": false,
            "text": "Year: 2021",
            "x": 0.9,
            "xref": "paper",
            "y": 1,
            "yref": "paper"
           },
           {
            "showarrow": false,
            "text": "age",
            "x": -0.1,
            "xref": "paper",
            "y": 1.1,
            "yref": "paper"
           }
          ]
         },
         "name": "2021"
        },
        {
         "data": [
          {
           "hovertemplate": "%{y} %{x} <extra></extra>",
           "name": "Male",
           "orientation": "h",
           "type": "bar",
           "x": [
            -35674473.5,
            -48383152.5,
            -47514706,
            -43405636,
            -43078688.5,
            -47455717,
            -61994246,
            -56989291.5,
            -49465926,
            -53104756.5,
            -61760313,
            -56476152.5,
            -33837527,
            -35964014.5,
            -25035411,
            -14205325.5,
            -8268212.5,
            -3862420.5,
            -1041454,
            -123388.5,
            -3224.5
           ],
           "y": [
            "0-4",
            "5-9",
            "10-14",
            "15-19",
            "20-24",
            "25-29",
            "30-34",
            "35-39",
            "40-44",
            "45-49",
            "50-54",
            "55-59",
            "60-64",
            "65-69",
            "70-74",
            "75-79",
            "80-84",
            "85-89",
            "90-94",
            "95-99",
            "100+"
           ]
          },
          {
           "hovertemplate": "%{y} %{x} <extra></extra>",
           "name": "Female",
           "orientation": "h",
           "type": "bar",
           "x": [
            31664783,
            42028711.5,
            40651813.5,
            37018326.5,
            37060465.5,
            41723047,
            56312633,
            53251080,
            47064142.5,
            51305455.5,
            60830570,
            56966636,
            35204043.5,
            39668891.5,
            29299775,
            17281721,
            11339456,
            6593628,
            2440107,
            494883,
            43131
           ],
           "y": [
            "0-4",
            "5-9",
            "10-14",
            "15-19",
            "20-24",
            "25-29",
            "30-34",
            "35-39",
            "40-44",
            "45-49",
            "50-54",
            "55-59",
            "60-64",
            "65-69",
            "70-74",
            "75-79",
            "80-84",
            "85-89",
            "90-94",
            "95-99",
            "100+"
           ]
          }
         ],
         "layout": {
          "annotations": [
           {
            "showarrow": false,
            "text": "Year: 2022",
            "x": 0.9,
            "xref": "paper",
            "y": 1,
            "yref": "paper"
           },
           {
            "showarrow": false,
            "text": "age",
            "x": -0.1,
            "xref": "paper",
            "y": 1.1,
            "yref": "paper"
           }
          ]
         },
         "name": "2022"
        },
        {
         "data": [
          {
           "hovertemplate": "%{y} %{x} <extra></extra>",
           "name": "Male",
           "orientation": "h",
           "type": "bar",
           "x": [
            -32318569,
            -47383460.5,
            -48174207,
            -44185169,
            -42752184.5,
            -46002635.5,
            -59129589.5,
            -58979445.5,
            -51128552,
            -50073949,
            -61710010,
            -56752851.5,
            -36656033,
            -36253701,
            -26850709.5,
            -15120451.5,
            -8451478,
            -3999237,
            -1112028.5,
            -134381,
            -4165
           ],
           "y": [
            "0-4",
            "5-9",
            "10-14",
            "15-19",
            "20-24",
            "25-29",
            "30-34",
            "35-39",
            "40-44",
            "45-49",
            "50-54",
            "55-59",
            "60-64",
            "65-69",
            "70-74",
            "75-79",
            "80-84",
            "85-89",
            "90-94",
            "95-99",
            "100+"
           ]
          },
          {
           "hovertemplate": "%{y} %{x} <extra></extra>",
           "name": "Female",
           "orientation": "h",
           "type": "bar",
           "x": [
            28826052.5,
            41333615,
            41305036.5,
            37675535,
            36683449,
            40232687,
            53395144,
            54848838.5,
            48550099,
            48295878.5,
            60666383,
            57199238,
            38017746.5,
            39813049,
            31682096,
            18452294,
            11610011.5,
            6746941,
            2584086,
            532052.5,
            48312
           ],
           "y": [
            "0-4",
            "5-9",
            "10-14",
            "15-19",
            "20-24",
            "25-29",
            "30-34",
            "35-39",
            "40-44",
            "45-49",
            "50-54",
            "55-59",
            "60-64",
            "65-69",
            "70-74",
            "75-79",
            "80-84",
            "85-89",
            "90-94",
            "95-99",
            "100+"
           ]
          }
         ],
         "layout": {
          "annotations": [
           {
            "showarrow": false,
            "text": "Year: 2023",
            "x": 0.9,
            "xref": "paper",
            "y": 1,
            "yref": "paper"
           },
           {
            "showarrow": false,
            "text": "age",
            "x": -0.1,
            "xref": "paper",
            "y": 1.1,
            "yref": "paper"
           }
          ]
         },
         "name": "2023"
        },
        {
         "data": [
          {
           "hovertemplate": "%{y} %{x} <extra></extra>",
           "name": "Male",
           "orientation": "h",
           "type": "bar",
           "x": [
            -29918891,
            -45517498.5,
            -48463752,
            -45115818,
            -42666238.5,
            -44740790.5,
            -55973054.5,
            -61256089.5,
            -52154649,
            -47859658,
            -60367284,
            -57122468,
            -41312244.5,
            -35334064.5,
            -28454002.5,
            -16153373,
            -8703738.5,
            -4101749.5,
            -1188671,
            -145131,
            -5073
           ],
           "y": [
            "0-4",
            "5-9",
            "10-14",
            "15-19",
            "20-24",
            "25-29",
            "30-34",
            "35-39",
            "40-44",
            "45-49",
            "50-54",
            "55-59",
            "60-64",
            "65-69",
            "70-74",
            "75-79",
            "80-84",
            "85-89",
            "90-94",
            "95-99",
            "100+"
           ]
          },
          {
           "hovertemplate": "%{y} %{x} <extra></extra>",
           "name": "Female",
           "orientation": "h",
           "type": "bar",
           "x": [
            26817193,
            39875243.5,
            41664751,
            38478552,
            36530585,
            38945325.5,
            50235518.5,
            56680398.5,
            49412255,
            46070020.5,
            59228497,
            57492557,
            42778266,
            38674186,
            33664659.5,
            19898308.5,
            11963461.5,
            6849029,
            2742192.5,
            569094.5,
            54449.5
           ],
           "y": [
            "0-4",
            "5-9",
            "10-14",
            "15-19",
            "20-24",
            "25-29",
            "30-34",
            "35-39",
            "40-44",
            "45-49",
            "50-54",
            "55-59",
            "60-64",
            "65-69",
            "70-74",
            "75-79",
            "80-84",
            "85-89",
            "90-94",
            "95-99",
            "100+"
           ]
          }
         ],
         "layout": {
          "annotations": [
           {
            "showarrow": false,
            "text": "Year: 2024",
            "x": 0.9,
            "xref": "paper",
            "y": 1,
            "yref": "paper"
           },
           {
            "showarrow": false,
            "text": "age",
            "x": -0.1,
            "xref": "paper",
            "y": 1.1,
            "yref": "paper"
           }
          ]
         },
         "name": "2024"
        },
        {
         "data": [
          {
           "hovertemplate": "%{y} %{x} <extra></extra>",
           "name": "Male",
           "orientation": "h",
           "type": "bar",
           "x": [
            -28321178.5,
            -43007137,
            -48480087,
            -45952552,
            -42583151,
            -43892496.5,
            -52064082,
            -63423183,
            -53317789.5,
            -47019298.5,
            -58014604,
            -58110476,
            -46123116.5,
            -33468613,
            -29886248,
            -17440662.5,
            -9032966,
            -4215061.5,
            -1259253,
            -156442.5,
            -5934
           ],
           "y": [
            "0-4",
            "5-9",
            "10-14",
            "15-19",
            "20-24",
            "25-29",
            "30-34",
            "35-39",
            "40-44",
            "45-49",
            "50-54",
            "55-59",
            "60-64",
            "65-69",
            "70-74",
            "75-79",
            "80-84",
            "85-89",
            "90-94",
            "95-99",
            "100+"
           ]
          },
          {
           "hovertemplate": "%{y} %{x} <extra></extra>",
           "name": "Female",
           "orientation": "h",
           "type": "bar",
           "x": [
            25511103.5,
            37837106,
            41808796,
            39219369.5,
            36396545.5,
            38046247.5,
            46417563,
            58365968.5,
            50370962.5,
            45170279.5,
            56814446,
            58388313,
            47737278,
            36533214.5,
            35293609,
            21733466,
            12424855,
            6974851,
            2896356.5,
            606468,
            60793
           ],
           "y": [
            "0-4",
            "5-9",
            "10-14",
            "15-19",
            "20-24",
            "25-29",
            "30-34",
            "35-39",
            "40-44",
            "45-49",
            "50-54",
            "55-59",
            "60-64",
            "65-69",
            "70-74",
            "75-79",
            "80-84",
            "85-89",
            "90-94",
            "95-99",
            "100+"
           ]
          }
         ],
         "layout": {
          "annotations": [
           {
            "showarrow": false,
            "text": "Year: 2025",
            "x": 0.9,
            "xref": "paper",
            "y": 1,
            "yref": "paper"
           },
           {
            "showarrow": false,
            "text": "age",
            "x": -0.1,
            "xref": "paper",
            "y": 1.1,
            "yref": "paper"
           }
          ]
         },
         "name": "2025"
        },
        {
         "data": [
          {
           "hovertemplate": "%{y} %{x} <extra></extra>",
           "name": "Male",
           "orientation": "h",
           "type": "bar",
           "x": [
            -27645097,
            -39625645.5,
            -48435846,
            -46584611.5,
            -42662502,
            -43306707.5,
            -48906626.5,
            -63779237.5,
            -54840271.5,
            -47338837.5,
            -55046743,
            -59053372,
            -51013439.5,
            -31551339.5,
            -30878433,
            -18827807.5,
            -9451077,
            -4369746,
            -1329611,
            -167941.5,
            -6628.5
           ],
           "y": [
            "0-4",
            "5-9",
            "10-14",
            "15-19",
            "20-24",
            "25-29",
            "30-34",
            "35-39",
            "40-44",
            "45-49",
            "50-54",
            "55-59",
            "60-64",
            "65-69",
            "70-74",
            "75-79",
            "80-84",
            "85-89",
            "90-94",
            "95-99",
            "100+"
           ]
          },
          {
           "hovertemplate": "%{y} %{x} <extra></extra>",
           "name": "Female",
           "orientation": "h",
           "type": "bar",
           "x": [
            25019765.5,
            35010743.5,
            41918678.5,
            39804656,
            36418286,
            37400324.5,
            43313456.5,
            58371111,
            51625129,
            45385672.5,
            53811380.5,
            59214814.5,
            52801425.5,
            34361601.5,
            36322625.5,
            23725430.5,
            13001051,
            7176866.5,
            3041067,
            643747.5,
            65848
           ],
           "y": [
            "0-4",
            "5-9",
            "10-14",
            "15-19",
            "20-24",
            "25-29",
            "30-34",
            "35-39",
            "40-44",
            "45-49",
            "50-54",
            "55-59",
            "60-64",
            "65-69",
            "70-74",
            "75-79",
            "80-84",
            "85-89",
            "90-94",
            "95-99",
            "100+"
           ]
          }
         ],
         "layout": {
          "annotations": [
           {
            "showarrow": false,
            "text": "Year: 2026",
            "x": 0.9,
            "xref": "paper",
            "y": 1,
            "yref": "paper"
           },
           {
            "showarrow": false,
            "text": "age",
            "x": -0.1,
            "xref": "paper",
            "y": 1.1,
            "yref": "paper"
           }
          ]
         },
         "name": "2026"
        },
        {
         "data": [
          {
           "hovertemplate": "%{y} %{x} <extra></extra>",
           "name": "Male",
           "orientation": "h",
           "type": "bar",
           "x": [
            -27306713.5,
            -35597802.5,
            -48295200,
            -47375826,
            -43167760,
            -42776918.5,
            -47128790.5,
            -61609286,
            -56537772.5,
            -48866943.5,
            -52060245,
            -59916013.5,
            -53785184.5,
            -31163638.5,
            -31619014.5,
            -20359204.5,
            -10027472.5,
            -4522464.5,
            -1399767.5,
            -179819,
            -7319
           ],
           "y": [
            "0-4",
            "5-9",
            "10-14",
            "15-19",
            "20-24",
            "25-29",
            "30-34",
            "35-39",
            "40-44",
            "45-49",
            "50-54",
            "55-59",
            "60-64",
            "65-69",
            "70-74",
            "75-79",
            "80-84",
            "85-89",
            "90-94",
            "95-99",
            "100+"
           ]
          },
          {
           "hovertemplate": "%{y} %{x} <extra></extra>",
           "name": "Female",
           "orientation": "h",
           "type": "bar",
           "x": [
            24827981,
            31596571.5,
            41964725.5,
            40548419.5,
            36822668.5,
            36826142,
            41493064.5,
            56066038.5,
            52989515,
            46752675.5,
            50803020.5,
            59954837,
            55663555.5,
            33810591,
            37001445,
            25913101,
            13752198.5,
            7404321,
            3161885,
            682348.5,
            70799
           ],
           "y": [
            "0-4",
            "5-9",
            "10-14",
            "15-19",
            "20-24",
            "25-29",
            "30-34",
            "35-39",
            "40-44",
            "45-49",
            "50-54",
            "55-59",
            "60-64",
            "65-69",
            "70-74",
            "75-79",
            "80-84",
            "85-89",
            "90-94",
            "95-99",
            "100+"
           ]
          }
         ],
         "layout": {
          "annotations": [
           {
            "showarrow": false,
            "text": "Year: 2027",
            "x": 0.9,
            "xref": "paper",
            "y": 1,
            "yref": "paper"
           },
           {
            "showarrow": false,
            "text": "age",
            "x": -0.1,
            "xref": "paper",
            "y": 1.1,
            "yref": "paper"
           }
          ]
         },
         "name": "2027"
        },
        {
         "data": [
          {
           "hovertemplate": "%{y} %{x} <extra></extra>",
           "name": "Male",
           "orientation": "h",
           "type": "bar",
           "x": [
            -26981124.5,
            -32247295.5,
            -47299210,
            -48036768,
            -43948377.5,
            -42455531.5,
            -45687019,
            -58764524,
            -58524318,
            -50522516,
            -49109038,
            -59899305,
            -54102922,
            -33894641,
            -31953313.5,
            -21919588.5,
            -10744223.5,
            -4662770,
            -1465112,
            -195786,
            -8161
           ],
           "y": [
            "0-4",
            "5-9",
            "10-14",
            "15-19",
            "20-24",
            "25-29",
            "30-34",
            "35-39",
            "40-44",
            "45-49",
            "50-54",
            "55-59",
            "60-64",
            "65-69",
            "70-74",
            "75-79",
            "80-84",
            "85-89",
            "90-94",
            "95-99",
            "100+"
           ]
          },
          {
           "hovertemplate": "%{y} %{x} <extra></extra>",
           "name": "Female",
           "orientation": "h",
           "type": "bar",
           "x": [
            24644474,
            28761997,
            41271761.5,
            41202143,
            37480303,
            36451729,
            40008762.5,
            53159686,
            54585389.5,
            48234695.5,
            47830228,
            59806030,
            55914411,
            36586181,
            37180201.5,
            28072030.5,
            14745130.5,
            7623774.5,
            3255724.5,
            732176.5,
            77206.5
           ],
           "y": [
            "0-4",
            "5-9",
            "10-14",
            "15-19",
            "20-24",
            "25-29",
            "30-34",
            "35-39",
            "40-44",
            "45-49",
            "50-54",
            "55-59",
            "60-64",
            "65-69",
            "70-74",
            "75-79",
            "80-84",
            "85-89",
            "90-94",
            "95-99",
            "100+"
           ]
          }
         ],
         "layout": {
          "annotations": [
           {
            "showarrow": false,
            "text": "Year: 2028",
            "x": 0.9,
            "xref": "paper",
            "y": 1,
            "yref": "paper"
           },
           {
            "showarrow": false,
            "text": "age",
            "x": -0.1,
            "xref": "paper",
            "y": 1.1,
            "yref": "paper"
           }
          ]
         },
         "name": "2028"
        },
        {
         "data": [
          {
           "hovertemplate": "%{y} %{x} <extra></extra>",
           "name": "Male",
           "orientation": "h",
           "type": "bar",
           "x": [
            -26667045,
            -29851622.5,
            -45437861.5,
            -48328452,
            -44879800,
            -42373774.5,
            -44435314.5,
            -55628642.5,
            -60793511,
            -51547770,
            -46960863,
            -58629721.5,
            -54528142,
            -38297535.5,
            -31193583,
            -23303042.5,
            -11545770.5,
            -4842149.5,
            -1517856,
            -212876.5,
            -8999.5
           ],
           "y": [
            "0-4",
            "5-9",
            "10-14",
            "15-19",
            "20-24",
            "25-29",
            "30-34",
            "35-39",
            "40-44",
            "45-49",
            "50-54",
            "55-59",
            "60-64",
            "65-69",
            "70-74",
            "75-79",
            "80-84",
            "85-89",
            "90-94",
            "95-99",
            "100+"
           ]
          },
          {
           "hovertemplate": "%{y} %{x} <extra></extra>",
           "name": "Female",
           "orientation": "h",
           "type": "bar",
           "x": [
            24464927.5,
            26756163.5,
            39816233,
            41562731.5,
            38283556.5,
            36300943,
            38726757,
            50011583,
            56413313.5,
            49096105,
            45634784.5,
            58402168,
            56233847,
            41218316.5,
            36139334,
            29872495,
            15961437,
            7897555.5,
            3327651,
            786619,
            83786.5
           ],
           "y": [
            "0-4",
            "5-9",
            "10-14",
            "15-19",
            "20-24",
            "25-29",
            "30-34",
            "35-39",
            "40-44",
            "45-49",
            "50-54",
            "55-59",
            "60-64",
            "65-69",
            "70-74",
            "75-79",
            "80-84",
            "85-89",
            "90-94",
            "95-99",
            "100+"
           ]
          }
         ],
         "layout": {
          "annotations": [
           {
            "showarrow": false,
            "text": "Year: 2029",
            "x": 0.9,
            "xref": "paper",
            "y": 1,
            "yref": "paper"
           },
           {
            "showarrow": false,
            "text": "age",
            "x": -0.1,
            "xref": "paper",
            "y": 1.1,
            "yref": "paper"
           }
          ]
         },
         "name": "2029"
        },
        {
         "data": [
          {
           "hovertemplate": "%{y} %{x} <extra></extra>",
           "name": "Male",
           "orientation": "h",
           "type": "bar",
           "x": [
            -26381432.5,
            -28256895.5,
            -42932721,
            -48347277,
            -45717490,
            -42294871,
            -43595196,
            -51743687.5,
            -62954664,
            -52710425.5,
            -46160893,
            -56375921.5,
            -55535968,
            -42808430,
            -29596633,
            -24559946.5,
            -12542547.5,
            -5070328,
            -1576732.5,
            -228533,
            -9902
           ],
           "y": [
            "0-4",
            "5-9",
            "10-14",
            "15-19",
            "20-24",
            "25-29",
            "30-34",
            "35-39",
            "40-44",
            "45-49",
            "50-54",
            "55-59",
            "60-64",
            "65-69",
            "70-74",
            "75-79",
            "80-84",
            "85-89",
            "90-94",
            "95-99",
            "100+"
           ]
          },
          {
           "hovertemplate": "%{y} %{x} <extra></extra>",
           "name": "Female",
           "orientation": "h",
           "type": "bar",
           "x": [
            24302298.5,
            25452258,
            37781404,
            41707812,
            39024650.5,
            36168900.5,
            37831920.5,
            46206923,
            58096072,
            50054234,
            44753261.5,
            56034107.5,
            57138484.5,
            46018730,
            34161353,
            31370797.5,
            17504241,
            8251021.5,
            3417120,
            839295,
            90526
           ],
           "y": [
            "0-4",
            "5-9",
            "10-14",
            "15-19",
            "20-24",
            "25-29",
            "30-34",
            "35-39",
            "40-44",
            "45-49",
            "50-54",
            "55-59",
            "60-64",
            "65-69",
            "70-74",
            "75-79",
            "80-84",
            "85-89",
            "90-94",
            "95-99",
            "100+"
           ]
          }
         ],
         "layout": {
          "annotations": [
           {
            "showarrow": false,
            "text": "Year: 2030",
            "x": 0.9,
            "xref": "paper",
            "y": 1,
            "yref": "paper"
           },
           {
            "showarrow": false,
            "text": "age",
            "x": -0.1,
            "xref": "paper",
            "y": 1.1,
            "yref": "paper"
           }
          ]
         },
         "name": "2030"
        },
        {
         "data": [
          {
           "hovertemplate": "%{y} %{x} <extra></extra>",
           "name": "Male",
           "orientation": "h",
           "type": "bar",
           "x": [
            -26139878,
            -27582730,
            -39557318.5,
            -48305571,
            -46351032.5,
            -42377931.5,
            -43016307,
            -48606278.5,
            -63315644,
            -54230588,
            -46498584.5,
            -53521960,
            -56495332.5,
            -47374839.5,
            -27956584,
            -25454966.5,
            -13619387.5,
            -5360537,
            -1656011.5,
            -244409.5,
            -10835
           ],
           "y": [
            "0-4",
            "5-9",
            "10-14",
            "15-19",
            "20-24",
            "25-29",
            "30-34",
            "35-39",
            "40-44",
            "45-49",
            "50-54",
            "55-59",
            "60-64",
            "65-69",
            "70-74",
            "75-79",
            "80-84",
            "85-89",
            "90-94",
            "95-99",
            "100+"
           ]
          },
          {
           "hovertemplate": "%{y} %{x} <extra></extra>",
           "name": "Female",
           "orientation": "h",
           "type": "bar",
           "x": [
            24170081,
            24962248.5,
            34958986.5,
            41818774.5,
            39610526.5,
            36192389,
            37189542,
            43113884,
            58104217.5,
            51306962,
            44976362,
            53084032.5,
            57972576.5,
            50906794.5,
            32158194,
            32334969.5,
            19177756,
            8694696.5,
            3550917.5,
            888282.5,
            97085.5
           ],
           "y": [
            "0-4",
            "5-9",
            "10-14",
            "15-19",
            "20-24",
            "25-29",
            "30-34",
            "35-39",
            "40-44",
            "45-49",
            "50-54",
            "55-59",
            "60-64",
            "65-69",
            "70-74",
            "75-79",
            "80-84",
            "85-89",
            "90-94",
            "95-99",
            "100+"
           ]
          }
         ],
         "layout": {
          "annotations": [
           {
            "showarrow": false,
            "text": "Year: 2031",
            "x": 0.9,
            "xref": "paper",
            "y": 1,
            "yref": "paper"
           },
           {
            "showarrow": false,
            "text": "age",
            "x": -0.1,
            "xref": "paper",
            "y": 1.1,
            "yref": "paper"
           }
          ]
         },
         "name": "2031"
        },
        {
         "data": [
          {
           "hovertemplate": "%{y} %{x} <extra></extra>",
           "name": "Male",
           "orientation": "h",
           "type": "bar",
           "x": [
            -25948039,
            -27245882,
            -35536318.5,
            -48167736.5,
            -47143690.5,
            -42885635.5,
            -42493128.5,
            -46841475.5,
            -61165853.5,
            -55926663,
            -48023178,
            -50646557.5,
            -57363203.5,
            -49982368.5,
            -27728231.5,
            -26157719,
            -14815466,
            -5747291.5,
            -1734962.5,
            -260603,
            -11831.5
           ],
           "y": [
            "0-4",
            "5-9",
            "10-14",
            "15-19",
            "20-24",
            "25-29",
            "30-34",
            "35-39",
            "40-44",
            "45-49",
            "50-54",
            "55-59",
            "60-64",
            "65-69",
            "70-74",
            "75-79",
            "80-84",
            "85-89",
            "90-94",
            "95-99",
            "100+"
           ]
          },
          {
           "hovertemplate": "%{y} %{x} <extra></extra>",
           "name": "Female",
           "orientation": "h",
           "type": "bar",
           "x": [
            24071915,
            24771509,
            31549158.5,
            41866082.5,
            40354927,
            36597949.5,
            36618794.5,
            41300720,
            55810226.5,
            52670414,
            46340801.5,
            50127314.5,
            58714375,
            53674983.5,
            31715259,
            32999112,
            21014140.5,
            9260327.5,
            3695590,
            929452,
            103978.5
           ],
           "y": [
            "0-4",
            "5-9",
            "10-14",
            "15-19",
            "20-24",
            "25-29",
            "30-34",
            "35-39",
            "40-44",
            "45-49",
            "50-54",
            "55-59",
            "60-64",
            "65-69",
            "70-74",
            "75-79",
            "80-84",
            "85-89",
            "90-94",
            "95-99",
            "100+"
           ]
          }
         ],
         "layout": {
          "annotations": [
           {
            "showarrow": false,
            "text": "Year: 2032",
            "x": 0.9,
            "xref": "paper",
            "y": 1,
            "yref": "paper"
           },
           {
            "showarrow": false,
            "text": "age",
            "x": -0.1,
            "xref": "paper",
            "y": 1.1,
            "yref": "paper"
           }
          ]
         },
         "name": "2032"
        },
        {
         "data": [
          {
           "hovertemplate": "%{y} %{x} <extra></extra>",
           "name": "Male",
           "orientation": "h",
           "type": "bar",
           "x": [
            -25808583,
            -26921766.5,
            -32191598.5,
            -47175731,
            -47806424,
            -43667878.5,
            -42177422,
            -45410829,
            -58345404.5,
            -57907816.5,
            -49668679,
            -47804473,
            -57389510,
            -50359969.5,
            -30341395,
            -26527166.5,
            -16035890,
            -6215301,
            -1808892.5,
            -276768.5,
            -13175
           ],
           "y": [
            "0-4",
            "5-9",
            "10-14",
            "15-19",
            "20-24",
            "25-29",
            "30-34",
            "35-39",
            "40-44",
            "45-49",
            "50-54",
            "55-59",
            "60-64",
            "65-69",
            "70-74",
            "75-79",
            "80-84",
            "85-89",
            "90-94",
            "95-99",
            "100+"
           ]
          },
          {
           "hovertemplate": "%{y} %{x} <extra></extra>",
           "name": "Female",
           "orientation": "h",
           "type": "bar",
           "x": [
            24008586,
            24589000.5,
            28718169,
            41175040,
            41009431.5,
            37256283.5,
            36247275,
            39822524,
            52917035.5,
            54263557,
            47817232,
            47205245.5,
            58585418,
            53954205.5,
            34442244.5,
            33218569,
            22824053,
            9990451.5,
            3833244.5,
            964876.5,
            113263
           ],
           "y": [
            "0-4",
            "5-9",
            "10-14",
            "15-19",
            "20-24",
            "25-29",
            "30-34",
            "35-39",
            "40-44",
            "45-49",
            "50-54",
            "55-59",
            "60-64",
            "65-69",
            "70-74",
            "75-79",
            "80-84",
            "85-89",
            "90-94",
            "95-99",
            "100+"
           ]
          }
         ],
         "layout": {
          "annotations": [
           {
            "showarrow": false,
            "text": "Year: 2033",
            "x": 0.9,
            "xref": "paper",
            "y": 1,
            "yref": "paper"
           },
           {
            "showarrow": false,
            "text": "age",
            "x": -0.1,
            "xref": "paper",
            "y": 1.1,
            "yref": "paper"
           }
          ]
         },
         "name": "2033"
        },
        {
         "data": [
          {
           "hovertemplate": "%{y} %{x} <extra></extra>",
           "name": "Male",
           "orientation": "h",
           "type": "bar",
           "x": [
            -25705581.5,
            -26609061.5,
            -29800250,
            -45319310,
            -48100554.5,
            -44600383.5,
            -42100258,
            -44169042.5,
            -55235728.5,
            -60166656,
            -50692569,
            -45745251,
            -56220749.5,
            -50857665,
            -34414974,
            -25955652.5,
            -17120698,
            -6734895.5,
            -1899928.5,
            -290626.5,
            -14629
           ],
           "y": [
            "0-4",
            "5-9",
            "10-14",
            "15-19",
            "20-24",
            "25-29",
            "30-34",
            "35-39",
            "40-44",
            "45-49",
            "50-54",
            "55-59",
            "60-64",
            "65-69",
            "70-74",
            "75-79",
            "80-84",
            "85-89",
            "90-94",
            "95-99",
            "100+"
           ]
          },
          {
           "hovertemplate": "%{y} %{x} <extra></extra>",
           "name": "Female",
           "orientation": "h",
           "type": "bar",
           "x": [
            23967116,
            24410384,
            26714953.5,
            39721952.5,
            41371051.5,
            38059835,
            36098712.5,
            38545856.5,
            49782916,
            56086480.5,
            48677265,
            45051024.5,
            57229409.5,
            54311026,
            38885633.5,
            32319310.5,
            24333179.5,
            10876659.5,
            3998927,
            995283,
            123374.5
           ],
           "y": [
            "0-4",
            "5-9",
            "10-14",
            "15-19",
            "20-24",
            "25-29",
            "30-34",
            "35-39",
            "40-44",
            "45-49",
            "50-54",
            "55-59",
            "60-64",
            "65-69",
            "70-74",
            "75-79",
            "80-84",
            "85-89",
            "90-94",
            "95-99",
            "100+"
           ]
          }
         ],
         "layout": {
          "annotations": [
           {
            "showarrow": false,
            "text": "Year: 2034",
            "x": 0.9,
            "xref": "paper",
            "y": 1,
            "yref": "paper"
           },
           {
            "showarrow": false,
            "text": "age",
            "x": -0.1,
            "xref": "paper",
            "y": 1.1,
            "yref": "paper"
           }
          ]
         },
         "name": "2034"
        },
        {
         "data": [
          {
           "hovertemplate": "%{y} %{x} <extra></extra>",
           "name": "Male",
           "orientation": "h",
           "type": "bar",
           "x": [
            -25645925,
            -26324732,
            -28208673,
            -42819660.5,
            -48122158,
            -45439361.5,
            -42025842.5,
            -43336960.5,
            -51382966.5,
            -62319708,
            -51854700,
            -44998441.5,
            -54103597.5,
            -51889721.5,
            -38532487,
            -24685419.5,
            -18129348.5,
            -7381782.5,
            -2014741.5,
            -306667.5,
            -16016.5
           ],
           "y": [
            "0-4",
            "5-9",
            "10-14",
            "15-19",
            "20-24",
            "25-29",
            "30-34",
            "35-39",
            "40-44",
            "45-49",
            "50-54",
            "55-59",
            "60-64",
            "65-69",
            "70-74",
            "75-79",
            "80-84",
            "85-89",
            "90-94",
            "95-99",
            "100+"
           ]
          },
          {
           "hovertemplate": "%{y} %{x} <extra></extra>",
           "name": "Female",
           "orientation": "h",
           "type": "bar",
           "x": [
            23956417,
            24248631.5,
            25412906.5,
            37689878.5,
            41517279.5,
            38801269.5,
            35968793,
            37655269.5,
            45995121.5,
            57765399.5,
            49634412.5,
            44193693,
            54926298.5,
            55227122,
            43441746.5,
            30580953,
            25613047,
            12001074,
            4212179,
            1033952,
            133145.5
           ],
           "y": [
            "0-4",
            "5-9",
            "10-14",
            "15-19",
            "20-24",
            "25-29",
            "30-34",
            "35-39",
            "40-44",
            "45-49",
            "50-54",
            "55-59",
            "60-64",
            "65-69",
            "70-74",
            "75-79",
            "80-84",
            "85-89",
            "90-94",
            "95-99",
            "100+"
           ]
          }
         ],
         "layout": {
          "annotations": [
           {
            "showarrow": false,
            "text": "Year: 2035",
            "x": 0.9,
            "xref": "paper",
            "y": 1,
            "yref": "paper"
           },
           {
            "showarrow": false,
            "text": "age",
            "x": -0.1,
            "xref": "paper",
            "y": 1.1,
            "yref": "paper"
           }
          ]
         },
         "name": "2035"
        },
        {
         "data": [
          {
           "hovertemplate": "%{y} %{x} <extra></extra>",
           "name": "Male",
           "orientation": "h",
           "type": "bar",
           "x": [
            -25642114.5,
            -26084336,
            -27536376,
            -39450634.5,
            -48083109.5,
            -46074574,
            -42112635,
            -42764747.5,
            -48272585,
            -62688402.5,
            -53372244.5,
            -45359256.5,
            -51407958,
            -52871084.5,
            -42666503.5,
            -23383740.5,
            -18869228.5,
            -8083132,
            -2162055.5,
            -328389.5,
            -17472
           ],
           "y": [
            "0-4",
            "5-9",
            "10-14",
            "15-19",
            "20-24",
            "25-29",
            "30-34",
            "35-39",
            "40-44",
            "45-49",
            "50-54",
            "55-59",
            "60-64",
            "65-69",
            "70-74",
            "75-79",
            "80-84",
            "85-89",
            "90-94",
            "95-99",
            "100+"
           ]
          },
          {
           "hovertemplate": "%{y} %{x} <extra></extra>",
           "name": "Female",
           "orientation": "h",
           "type": "bar",
           "x": [
            23989184.5,
            24117188.5,
            24923954.5,
            34870741,
            41629231.5,
            39387556,
            35993886.5,
            37016292.5,
            42916119,
            57777608,
            50885177.5,
            44426584.5,
            52051469.5,
            56071064.5,
            48048355.5,
            28824622,
            26453510.5,
            13218850.5,
            4483106.5,
            1089374.5,
            142266
           ],
           "y": [
            "0-4",
            "5-9",
            "10-14",
            "15-19",
            "20-24",
            "25-29",
            "30-34",
            "35-39",
            "40-44",
            "45-49",
            "50-54",
            "55-59",
            "60-64",
            "65-69",
            "70-74",
            "75-79",
            "80-84",
            "85-89",
            "90-94",
            "95-99",
            "100+"
           ]
          }
         ],
         "layout": {
          "annotations": [
           {
            "showarrow": false,
            "text": "Year: 2036",
            "x": 0.9,
            "xref": "paper",
            "y": 1,
            "yref": "paper"
           },
           {
            "showarrow": false,
            "text": "age",
            "x": -0.1,
            "xref": "paper",
            "y": 1.1,
            "yref": "paper"
           }
          ]
         },
         "name": "2036"
        },
        {
         "data": [
          {
           "hovertemplate": "%{y} %{x} <extra></extra>",
           "name": "Male",
           "orientation": "h",
           "type": "bar",
           "x": [
            -25689659.5,
            -25893524,
            -27200904,
            -35436853.5,
            -47948263.5,
            -46868502.5,
            -42622457,
            -42247692.5,
            -46524579,
            -60568423,
            -55067621.5,
            -46877885.5,
            -48687427.5,
            -53752418,
            -45045490.5,
            -23334567.5,
            -19487400.5,
            -8869455.5,
            -2352989,
            -350018.5,
            -19014.5
           ],
           "y": [
            "0-4",
            "5-9",
            "10-14",
            "15-19",
            "20-24",
            "25-29",
            "30-34",
            "35-39",
            "40-44",
            "45-49",
            "50-54",
            "55-59",
            "60-64",
            "65-69",
            "70-74",
            "75-79",
            "80-84",
            "85-89",
            "90-94",
            "95-99",
            "100+"
           ]
          },
          {
           "hovertemplate": "%{y} %{x} <extra></extra>",
           "name": "Female",
           "orientation": "h",
           "type": "bar",
           "x": [
            24063535,
            24019689.5,
            24733969,
            31464732,
            41677665.5,
            40132031.5,
            36400082.5,
            36448549,
            41111631.5,
            55498634,
            52247650,
            45786782.5,
            49168104.5,
            56816029.5,
            50656566,
            28527673.5,
            27067390,
            14554203.5,
            4821087,
            1147053.5,
            150213.5
           ],
           "y": [
            "0-4",
            "5-9",
            "10-14",
            "15-19",
            "20-24",
            "25-29",
            "30-34",
            "35-39",
            "40-44",
            "45-49",
            "50-54",
            "55-59",
            "60-64",
            "65-69",
            "70-74",
            "75-79",
            "80-84",
            "85-89",
            "90-94",
            "95-99",
            "100+"
           ]
          }
         ],
         "layout": {
          "annotations": [
           {
            "showarrow": false,
            "text": "Year: 2037",
            "x": 0.9,
            "xref": "paper",
            "y": 1,
            "yref": "paper"
           },
           {
            "showarrow": false,
            "text": "age",
            "x": -0.1,
            "xref": "paper",
            "y": 1.1,
            "yref": "paper"
           }
          ]
         },
         "name": "2037"
        },
        {
         "data": [
          {
           "hovertemplate": "%{y} %{x} <extra></extra>",
           "name": "Male",
           "orientation": "h",
           "type": "bar",
           "x": [
            -25794733,
            -25754989.5,
            -26878093.5,
            -32098258.5,
            -46960710.5,
            -47532917,
            -43405935,
            -41937111,
            -45108032,
            -57783750,
            -57041594.5,
            -48510443,
            -45998742.5,
            -53845394,
            -45488866,
            -25759629,
            -19859543,
            -9672495,
            -2577487.5,
            -370434.5,
            -20635.5
           ],
           "y": [
            "0-4",
            "5-9",
            "10-14",
            "15-19",
            "20-24",
            "25-29",
            "30-34",
            "35-39",
            "40-44",
            "45-49",
            "50-54",
            "55-59",
            "60-64",
            "65-69",
            "70-74",
            "75-79",
            "80-84",
            "85-89",
            "90-94",
            "95-99",
            "100+"
           ]
          },
          {
           "hovertemplate": "%{y} %{x} <extra></extra>",
           "name": "Female",
           "orientation": "h",
           "type": "bar",
           "x": [
            24187378,
            23956962,
            24552180.5,
            28637005.5,
            40988620,
            40786809,
            37058536.5,
            36079454,
            39640640,
            52623348,
            53836939,
            47255574,
            46318972.5,
            56718157.5,
            50970921.5,
            31151488.5,
            27317876,
            15867267.5,
            5245501.5,
            1200763,
            157817.5
           ],
           "y": [
            "0-4",
            "5-9",
            "10-14",
            "15-19",
            "20-24",
            "25-29",
            "30-34",
            "35-39",
            "40-44",
            "45-49",
            "50-54",
            "55-59",
            "60-64",
            "65-69",
            "70-74",
            "75-79",
            "80-84",
            "85-89",
            "90-94",
            "95-99",
            "100+"
           ]
          }
         ],
         "layout": {
          "annotations": [
           {
            "showarrow": false,
            "text": "Year: 2038",
            "x": 0.9,
            "xref": "paper",
            "y": 1,
            "yref": "paper"
           },
           {
            "showarrow": false,
            "text": "age",
            "x": -0.1,
            "xref": "paper",
            "y": 1.1,
            "yref": "paper"
           }
          ]
         },
         "name": "2038"
        },
        {
         "data": [
          {
           "hovertemplate": "%{y} %{x} <extra></extra>",
           "name": "Male",
           "orientation": "h",
           "type": "bar",
           "x": [
            -25951759.5,
            -25652862,
            -26566635.5,
            -29711512,
            -45110020.5,
            -47829738,
            -44339294,
            -41864081.5,
            -43878890,
            -54712374,
            -59285100.5,
            -49534498.5,
            -44066949.5,
            -52821628,
            -46070876,
            -29378952,
            -19481921.5,
            -10387232.5,
            -2824425,
            -395302.5,
            -22113.5
           ],
           "y": [
            "0-4",
            "5-9",
            "10-14",
            "15-19",
            "20-24",
            "25-29",
            "30-34",
            "35-39",
            "40-44",
            "45-49",
            "50-54",
            "55-59",
            "60-64",
            "65-69",
            "70-74",
            "75-79",
            "80-84",
            "85-89",
            "90-94",
            "95-99",
            "100+"
           ]
          },
          {
           "hovertemplate": "%{y} %{x} <extra></extra>",
           "name": "Female",
           "orientation": "h",
           "type": "bar",
           "x": [
            24355858,
            23916071,
            24374254.5,
            26636225.5,
            39538327.5,
            41149251,
            37861980,
            35932755.5,
            38370340,
            49508296.5,
            55652294,
            48114252,
            44225440.5,
            55435119.5,
            51380972,
            35284063.5,
            26600446,
            16960728,
            5755080,
            1264303,
            164899.5
           ],
           "y": [
            "0-4",
            "5-9",
            "10-14",
            "15-19",
            "20-24",
            "25-29",
            "30-34",
            "35-39",
            "40-44",
            "45-49",
            "50-54",
            "55-59",
            "60-64",
            "65-69",
            "70-74",
            "75-79",
            "80-84",
            "85-89",
            "90-94",
            "95-99",
            "100+"
           ]
          }
         ],
         "layout": {
          "annotations": [
           {
            "showarrow": false,
            "text": "Year: 2039",
            "x": 0.9,
            "xref": "paper",
            "y": 1,
            "yref": "paper"
           },
           {
            "showarrow": false,
            "text": "age",
            "x": -0.1,
            "xref": "paper",
            "y": 1.1,
            "yref": "paper"
           }
          ]
         },
         "name": "2039"
        },
        {
         "data": [
          {
           "hovertemplate": "%{y} %{x} <extra></extra>",
           "name": "Male",
           "orientation": "h",
           "type": "bar",
           "x": [
            -26129850.5,
            -25594036.5,
            -26283488,
            -28123316,
            -42617006.5,
            -47854682.5,
            -45179540,
            -41793867,
            -43057351.5,
            -50905971.5,
            -61426213,
            -50696971.5,
            -43398281.5,
            -50899904,
            -47124752,
            -32969003,
            -18579651,
            -11072248.5,
            -3134098,
            -426944,
            -23843
           ],
           "y": [
            "0-4",
            "5-9",
            "10-14",
            "15-19",
            "20-24",
            "25-29",
            "30-34",
            "35-39",
            "40-44",
            "45-49",
            "50-54",
            "55-59",
            "60-64",
            "65-69",
            "70-74",
            "75-79",
            "80-84",
            "85-89",
            "90-94",
            "95-99",
            "100+"
           ]
          },
          {
           "hovertemplate": "%{y} %{x} <extra></extra>",
           "name": "Female",
           "orientation": "h",
           "type": "bar",
           "x": [
            24540972.5,
            23905921.5,
            24213160,
            25335936.5,
            37509658,
            41296684.5,
            38603516.5,
            35804722,
            37484929,
            45743407,
            57325310,
            49070232,
            43404692,
            53231104.5,
            52309458.5,
            39454384,
            25193331,
            17913534.5,
            6403979,
            1347148,
            173838
           ],
           "y": [
            "0-4",
            "5-9",
            "10-14",
            "15-19",
            "20-24",
            "25-29",
            "30-34",
            "35-39",
            "40-44",
            "45-49",
            "50-54",
            "55-59",
            "60-64",
            "65-69",
            "70-74",
            "75-79",
            "80-84",
            "85-89",
            "90-94",
            "95-99",
            "100+"
           ]
          }
         ],
         "layout": {
          "annotations": [
           {
            "showarrow": false,
            "text": "Year: 2040",
            "x": 0.9,
            "xref": "paper",
            "y": 1,
            "yref": "paper"
           },
           {
            "showarrow": false,
            "text": "age",
            "x": -0.1,
            "xref": "paper",
            "y": 1.1,
            "yref": "paper"
           }
          ]
         },
         "name": "2040"
        },
        {
         "data": [
          {
           "hovertemplate": "%{y} %{x} <extra></extra>",
           "name": "Male",
           "orientation": "h",
           "type": "bar",
           "x": [
            -26305019,
            -25590996,
            -26044194,
            -27453034,
            -39255929,
            -47819093.5,
            -45816718,
            -41884355.5,
            -42494061.5,
            -47834415,
            -61805730.5,
            -52210470,
            -43794732,
            -48429159,
            -48124469.5,
            -36530094,
            -17665260,
            -11591256.5,
            -3471534,
            -468253,
            -26131.5
           ],
           "y": [
            "0-4",
            "5-9",
            "10-14",
            "15-19",
            "20-24",
            "25-29",
            "30-34",
            "35-39",
            "40-44",
            "45-49",
            "50-54",
            "55-59",
            "60-64",
            "65-69",
            "70-74",
            "75-79",
            "80-84",
            "85-89",
            "90-94",
            "95-99",
            "100+"
           ]
          },
          {
           "hovertemplate": "%{y} %{x} <extra></extra>",
           "name": "Female",
           "orientation": "h",
           "type": "bar",
           "x": [
            24720941,
            23939194,
            24082339.5,
            24847975,
            34694817,
            41409951,
            39190287,
            35831414.5,
            36850246.5,
            42683517.5,
            57342713,
            50317963,
            43653294.5,
            50471117,
            53162370.5,
            43624283,
            23784746.5,
            18555352,
            7105010.5,
            1453942,
            186017.5
           ],
           "y": [
            "0-4",
            "5-9",
            "10-14",
            "15-19",
            "20-24",
            "25-29",
            "30-34",
            "35-39",
            "40-44",
            "45-49",
            "50-54",
            "55-59",
            "60-64",
            "65-69",
            "70-74",
            "75-79",
            "80-84",
            "85-89",
            "90-94",
            "95-99",
            "100+"
           ]
          }
         ],
         "layout": {
          "annotations": [
           {
            "showarrow": false,
            "text": "Year: 2041",
            "x": 0.9,
            "xref": "paper",
            "y": 1,
            "yref": "paper"
           },
           {
            "showarrow": false,
            "text": "age",
            "x": -0.1,
            "xref": "paper",
            "y": 1.1,
            "yref": "paper"
           }
          ]
         },
         "name": "2041"
        },
        {
         "data": [
          {
           "hovertemplate": "%{y} %{x} <extra></extra>",
           "name": "Male",
           "orientation": "h",
           "type": "bar",
           "x": [
            -26462782,
            -25639231,
            -25854391.5,
            -27119046.5,
            -35251290,
            -47688018.5,
            -46612214.5,
            -42396317,
            -41984987.5,
            -46110716.5,
            -59728368,
            -53902596,
            -45307581.5,
            -45928254,
            -49010304.5,
            -38599665.5,
            -17803945,
            -12057307.5,
            -3855428,
            -520778.5,
            -28461.5
           ],
           "y": [
            "0-4",
            "5-9",
            "10-14",
            "15-19",
            "20-24",
            "25-29",
            "30-34",
            "35-39",
            "40-44",
            "45-49",
            "50-54",
            "55-59",
            "60-64",
            "65-69",
            "70-74",
            "75-79",
            "80-84",
            "85-89",
            "90-94",
            "95-99",
            "100+"
           ]
          },
          {
           "hovertemplate": "%{y} %{x} <extra></extra>",
           "name": "Female",
           "orientation": "h",
           "type": "bar",
           "x": [
            24882066,
            24013986.5,
            23985412,
            24658684,
            31293884.5,
            41459856.5,
            39934986,
            36238306,
            36286288,
            40890919,
            55084323,
            51678083,
            45008650,
            47699926.5,
            53902234.5,
            45982567.5,
            23688857,
            19060620,
            7873200,
            1584285,
            198284.5
           ],
           "y": [
            "0-4",
            "5-9",
            "10-14",
            "15-19",
            "20-24",
            "25-29",
            "30-34",
            "35-39",
            "40-44",
            "45-49",
            "50-54",
            "55-59",
            "60-64",
            "65-69",
            "70-74",
            "75-79",
            "80-84",
            "85-89",
            "90-94",
            "95-99",
            "100+"
           ]
          }
         ],
         "layout": {
          "annotations": [
           {
            "showarrow": false,
            "text": "Year: 2042",
            "x": 0.9,
            "xref": "paper",
            "y": 1,
            "yref": "paper"
           },
           {
            "showarrow": false,
            "text": "age",
            "x": -0.1,
            "xref": "paper",
            "y": 1.1,
            "yref": "paper"
           }
          ]
         },
         "name": "2042"
        },
        {
         "data": [
          {
           "hovertemplate": "%{y} %{x} <extra></extra>",
           "name": "Male",
           "orientation": "h",
           "type": "bar",
           "x": [
            -26559341,
            -25744892,
            -25716763,
            -26797611.5,
            -31920427.5,
            -46705882.5,
            -47278489,
            -43180967,
            -41680930.5,
            -44714546.5,
            -56994989.5,
            -55865649.5,
            -46921568,
            -43454962.5,
            -49177374,
            -39105264.5,
            -19949127.5,
            -12373634,
            -4247835.5,
            -581075,
            -30769
           ],
           "y": [
            "0-4",
            "5-9",
            "10-14",
            "15-19",
            "20-24",
            "25-29",
            "30-34",
            "35-39",
            "40-44",
            "45-49",
            "50-54",
            "55-59",
            "60-64",
            "65-69",
            "70-74",
            "75-79",
            "80-84",
            "85-89",
            "90-94",
            "95-99",
            "100+"
           ]
          },
          {
           "hovertemplate": "%{y} %{x} <extra></extra>",
           "name": "Female",
           "orientation": "h",
           "type": "bar",
           "x": [
            24983836.5,
            24138193.5,
            23923198,
            24477530.5,
            28470449.5,
            40773228.5,
            40590099.5,
            36896862.5,
            35920186.5,
            39429794.5,
            52233784,
            53261563.5,
            46466077.5,
            44961973,
            53842456.5,
            46338031,
            26137092.5,
            19311577,
            8625305.5,
            1744194.5,
            209717.5
           ],
           "y": [
            "0-4",
            "5-9",
            "10-14",
            "15-19",
            "20-24",
            "25-29",
            "30-34",
            "35-39",
            "40-44",
            "45-49",
            "50-54",
            "55-59",
            "60-64",
            "65-69",
            "70-74",
            "75-79",
            "80-84",
            "85-89",
            "90-94",
            "95-99",
            "100+"
           ]
          }
         ],
         "layout": {
          "annotations": [
           {
            "showarrow": false,
            "text": "Year: 2043",
            "x": 0.9,
            "xref": "paper",
            "y": 1,
            "yref": "paper"
           },
           {
            "showarrow": false,
            "text": "age",
            "x": -0.1,
            "xref": "paper",
            "y": 1.1,
            "yref": "paper"
           }
          ]
         },
         "name": "2043"
        },
        {
         "data": [
          {
           "hovertemplate": "%{y} %{x} <extra></extra>",
           "name": "Male",
           "orientation": "h",
           "type": "bar",
           "x": [
            -26594352,
            -25902454,
            -25615463,
            -26487443,
            -29539468,
            -44862130.5,
            -47578142.5,
            -44115019.5,
            -41613044.5,
            -43503547.5,
            -53978909.5,
            -58088943,
            -47943168,
            -41698587.5,
            -48331754,
            -39768651,
            -22947919.5,
            -12177470.5,
            -4596365.5,
            -647015,
            -33584
           ],
           "y": [
            "0-4",
            "5-9",
            "10-14",
            "15-19",
            "20-24",
            "25-29",
            "30-34",
            "35-39",
            "40-44",
            "45-49",
            "50-54",
            "55-59",
            "60-64",
            "65-69",
            "70-74",
            "75-79",
            "80-84",
            "85-89",
            "90-94",
            "95-99",
            "100+"
           ]
          },
          {
           "hovertemplate": "%{y} %{x} <extra></extra>",
           "name": "Female",
           "orientation": "h",
           "type": "bar",
           "x": [
            25026476.5,
            24307004.5,
            23882787,
            24300207,
            26472868,
            39326324,
            40953416.5,
            37700125,
            35775753,
            38168208.5,
            49145442.5,
            55066921.5,
            47321561,
            42960289.5,
            52664757,
            46814009.5,
            29772132,
            18824862.5,
            9248255,
            1934786,
            223201.5
           ],
           "y": [
            "0-4",
            "5-9",
            "10-14",
            "15-19",
            "20-24",
            "25-29",
            "30-34",
            "35-39",
            "40-44",
            "45-49",
            "50-54",
            "55-59",
            "60-64",
            "65-69",
            "70-74",
            "75-79",
            "80-84",
            "85-89",
            "90-94",
            "95-99",
            "100+"
           ]
          }
         ],
         "layout": {
          "annotations": [
           {
            "showarrow": false,
            "text": "Year: 2044",
            "x": 0.9,
            "xref": "paper",
            "y": 1,
            "yref": "paper"
           },
           {
            "showarrow": false,
            "text": "age",
            "x": -0.1,
            "xref": "paper",
            "y": 1.1,
            "yref": "paper"
           }
          ]
         },
         "name": "2044"
        },
        {
         "data": [
          {
           "hovertemplate": "%{y} %{x} <extra></extra>",
           "name": "Male",
           "orientation": "h",
           "type": "bar",
           "x": [
            -26562144.5,
            -26081050.5,
            -25557390,
            -26205488.5,
            -27955458.5,
            -42377073,
            -47606520.5,
            -44956238,
            -41548176,
            -42696901.5,
            -50240259,
            -60213866,
            -49104068,
            -41134508.5,
            -46655507.5,
            -40823641,
            -25819406.5,
            -11655457,
            -4944317.5,
            -731626.5,
            -37160
           ],
           "y": [
            "0-4",
            "5-9",
            "10-14",
            "15-19",
            "20-24",
            "25-29",
            "30-34",
            "35-39",
            "40-44",
            "45-49",
            "50-54",
            "55-59",
            "60-64",
            "65-69",
            "70-74",
            "75-79",
            "80-84",
            "85-89",
            "90-94",
            "95-99",
            "100+"
           ]
          },
          {
           "hovertemplate": "%{y} %{x} <extra></extra>",
           "name": "Female",
           "orientation": "h",
           "type": "bar",
           "x": [
            25004042.5,
            24492441.5,
            23873080,
            24139673.5,
            25174855,
            37301738,
            41102077.5,
            38441623.5,
            35650053,
            37289829.5,
            45413276.5,
            56732222.5,
            48275327.5,
            42194335,
            50607739.5,
            47748355.5,
            33322336.5,
            17854216,
            9812315.5,
            2180073.5,
            241031
           ],
           "y": [
            "0-4",
            "5-9",
            "10-14",
            "15-19",
            "20-24",
            "25-29",
            "30-34",
            "35-39",
            "40-44",
            "45-49",
            "50-54",
            "55-59",
            "60-64",
            "65-69",
            "70-74",
            "75-79",
            "80-84",
            "85-89",
            "90-94",
            "95-99",
            "100+"
           ]
          }
         ],
         "layout": {
          "annotations": [
           {
            "showarrow": false,
            "text": "Year: 2045",
            "x": 0.9,
            "xref": "paper",
            "y": 1,
            "yref": "paper"
           },
           {
            "showarrow": false,
            "text": "age",
            "x": -0.1,
            "xref": "paper",
            "y": 1.1,
            "yref": "paper"
           }
          ]
         },
         "name": "2045"
        },
        {
         "data": [
          {
           "hovertemplate": "%{y} %{x} <extra></extra>",
           "name": "Male",
           "orientation": "h",
           "type": "bar",
           "x": [
            -26431095.5,
            -26256694.5,
            -25555016,
            -25967276.5,
            -27287510.5,
            -39025367,
            -47574352,
            -45594902,
            -41643297.5,
            -42146000,
            -47225365,
            -60609076,
            -50611300.5,
            -41575488.5,
            -44470440,
            -41820927.5,
            -28599909,
            -11141836.5,
            -5215883.5,
            -824204.5,
            -41810
           ],
           "y": [
            "0-4",
            "5-9",
            "10-14",
            "15-19",
            "20-24",
            "25-29",
            "30-34",
            "35-39",
            "40-44",
            "45-49",
            "50-54",
            "55-59",
            "60-64",
            "65-69",
            "70-74",
            "75-79",
            "80-84",
            "85-89",
            "90-94",
            "95-99",
            "100+"
           ]
          },
          {
           "hovertemplate": "%{y} %{x} <extra></extra>",
           "name": "Female",
           "orientation": "h",
           "type": "bar",
           "x": [
            24886285.5,
            24672713,
            23906747,
            24009361.5,
            24688067.5,
            34491899.5,
            41216552,
            39028621.5,
            35678662,
            36660900,
            42380765.5,
            56757580,
            49519208.5,
            42465794.5,
            48020655.5,
            48604373.5,
            36790771.5,
            16902931.5,
            10202737,
            2443597,
            264263.5
           ],
           "y": [
            "0-4",
            "5-9",
            "10-14",
            "15-19",
            "20-24",
            "25-29",
            "30-34",
            "35-39",
            "40-44",
            "45-49",
            "50-54",
            "55-59",
            "60-64",
            "65-69",
            "70-74",
            "75-79",
            "80-84",
            "85-89",
            "90-94",
            "95-99",
            "100+"
           ]
          }
         ],
         "layout": {
          "annotations": [
           {
            "showarrow": false,
            "text": "Year: 2046",
            "x": 0.9,
            "xref": "paper",
            "y": 1,
            "yref": "paper"
           },
           {
            "showarrow": false,
            "text": "age",
            "x": -0.1,
            "xref": "paper",
            "y": 1.1,
            "yref": "paper"
           }
          ]
         },
         "name": "2046"
        },
        {
         "data": [
          {
           "hovertemplate": "%{y} %{x} <extra></extra>",
           "name": "Male",
           "orientation": "h",
           "type": "bar",
           "x": [
            -26197520.5,
            -26414914.5,
            -25603843,
            -25778448,
            -26955122,
            -35031284,
            -47446821.5,
            -46391394.5,
            -42157650,
            -41647903,
            -45536519.5,
            -58591508.5,
            -52300110,
            -43074212,
            -42248528.5,
            -42687484,
            -30223013.5,
            -11405663.5,
            -5479257,
            -931267.5,
            -47610.5
           ],
           "y": [
            "0-4",
            "5-9",
            "10-14",
            "15-19",
            "20-24",
            "25-29",
            "30-34",
            "35-39",
            "40-44",
            "45-49",
            "50-54",
            "55-59",
            "60-64",
            "65-69",
            "70-74",
            "75-79",
            "80-84",
            "85-89",
            "90-94",
            "95-99",
            "100+"
           ]
          },
          {
           "hovertemplate": "%{y} %{x} <extra></extra>",
           "name": "Female",
           "orientation": "h",
           "type": "bar",
           "x": [
            24670788.5,
            24834136,
            23981892,
            23912899.5,
            24499517.5,
            31096746,
            41267756,
            39773244,
            36086272.5,
            36102010.5,
            40605036.5,
            54528735,
            50878042,
            43812755,
            45419300.5,
            49329676,
            38736519,
            17013430,
            10539684,
            2732511.5,
            291881
           ],
           "y": [
            "0-4",
            "5-9",
            "10-14",
            "15-19",
            "20-24",
            "25-29",
            "30-34",
            "35-39",
            "40-44",
            "45-49",
            "50-54",
            "55-59",
            "60-64",
            "65-69",
            "70-74",
            "75-79",
            "80-84",
            "85-89",
            "90-94",
            "95-99",
            "100+"
           ]
          }
         ],
         "layout": {
          "annotations": [
           {
            "showarrow": false,
            "text": "Year: 2047",
            "x": 0.9,
            "xref": "paper",
            "y": 1,
            "yref": "paper"
           },
           {
            "showarrow": false,
            "text": "age",
            "x": -0.1,
            "xref": "paper",
            "y": 1.1,
            "yref": "paper"
           }
          ]
         },
         "name": "2047"
        },
        {
         "data": [
          {
           "hovertemplate": "%{y} %{x} <extra></extra>",
           "name": "Male",
           "orientation": "h",
           "type": "bar",
           "x": [
            -25866582.5,
            -26511953,
            -25710027.5,
            -25641693.5,
            -26635194,
            -31709289.5,
            -46470081,
            -47058997.5,
            -42943388,
            -41352731.5,
            -44169272,
            -55929049,
            -54246881,
            -44658169,
            -40049971.5,
            -42926577.5,
            -30754932,
            -13075476.5,
            -5674290.5,
            -1039990,
            -54261.5
           ],
           "y": [
            "0-4",
            "5-9",
            "10-14",
            "15-19",
            "20-24",
            "25-29",
            "30-34",
            "35-39",
            "40-44",
            "45-49",
            "50-54",
            "55-59",
            "60-64",
            "65-69",
            "70-74",
            "75-79",
            "80-84",
            "85-89",
            "90-94",
            "95-99",
            "100+"
           ]
          },
          {
           "hovertemplate": "%{y} %{x} <extra></extra>",
           "name": "Female",
           "orientation": "h",
           "type": "bar",
           "x": [
            24362773.5,
            24936250,
            24106410,
            23851113,
            24319076.5,
            28278187,
            40583569.5,
            40428475.5,
            36744836.5,
            35739940.5,
            39157876.5,
            51713291,
            52454383,
            45252528,
            42851382.5,
            49323122.5,
            39130879,
            19085587.5,
            10736733,
            3013359.5,
            325024.5
           ],
           "y": [
            "0-4",
            "5-9",
            "10-14",
            "15-19",
            "20-24",
            "25-29",
            "30-34",
            "35-39",
            "40-44",
            "45-49",
            "50-54",
            "55-59",
            "60-64",
            "65-69",
            "70-74",
            "75-79",
            "80-84",
            "85-89",
            "90-94",
            "95-99",
            "100+"
           ]
          }
         ],
         "layout": {
          "annotations": [
           {
            "showarrow": false,
            "text": "Year: 2048",
            "x": 0.9,
            "xref": "paper",
            "y": 1,
            "yref": "paper"
           },
           {
            "showarrow": false,
            "text": "age",
            "x": -0.1,
            "xref": "paper",
            "y": 1.1,
            "yref": "paper"
           }
          ]
         },
         "name": "2048"
        },
        {
         "data": [
          {
           "hovertemplate": "%{y} %{x} <extra></extra>",
           "name": "Male",
           "orientation": "h",
           "type": "bar",
           "x": [
            -25423240.5,
            -26547460,
            -25868048,
            -25541188,
            -26326455.5,
            -29334903.5,
            -44633456.5,
            -47360952,
            -43877826,
            -41291693.5,
            -42983889,
            -52988064.5,
            -56437396,
            -45673892,
            -38517002,
            -42290607,
            -31466294.5,
            -15222165.5,
            -5596963.5,
            -1135300,
            -61656.5
           ],
           "y": [
            "0-4",
            "5-9",
            "10-14",
            "15-19",
            "20-24",
            "25-29",
            "30-34",
            "35-39",
            "40-44",
            "45-49",
            "50-54",
            "55-59",
            "60-64",
            "65-69",
            "70-74",
            "75-79",
            "80-84",
            "85-89",
            "90-94",
            "95-99",
            "100+"
           ]
          },
          {
           "hovertemplate": "%{y} %{x} <extra></extra>",
           "name": "Female",
           "orientation": "h",
           "type": "bar",
           "x": [
            23947531.5,
            24979265,
            24275496,
            23811101.5,
            24142448.5,
            26284203.5,
            39140215,
            40792478,
            37547722.5,
            35598524,
            37908601,
            48662176.5,
            54244696,
            46103347.5,
            40991786.5,
            48302798.5,
            39684945.5,
            21925889.5,
            10473357.5,
            3244473.5,
            364694
           ],
           "y": [
            "0-4",
            "5-9",
            "10-14",
            "15-19",
            "20-24",
            "25-29",
            "30-34",
            "35-39",
            "40-44",
            "45-49",
            "50-54",
            "55-59",
            "60-64",
            "65-69",
            "70-74",
            "75-79",
            "80-84",
            "85-89",
            "90-94",
            "95-99",
            "100+"
           ]
          }
         ],
         "layout": {
          "annotations": [
           {
            "showarrow": false,
            "text": "Year: 2049",
            "x": 0.9,
            "xref": "paper",
            "y": 1,
            "yref": "paper"
           },
           {
            "showarrow": false,
            "text": "age",
            "x": -0.1,
            "xref": "paper",
            "y": 1.1,
            "yref": "paper"
           }
          ]
         },
         "name": "2049"
        },
        {
         "data": [
          {
           "hovertemplate": "%{y} %{x} <extra></extra>",
           "name": "Male",
           "orientation": "h",
           "type": "bar",
           "x": [
            -24874124.5,
            -26515770,
            -26047059.5,
            -25483829,
            -26045831.5,
            -27755602,
            -42156672.5,
            -47392190.5,
            -44719629,
            -41233818.5,
            -42198127.5,
            -49339359,
            -58534644,
            -46828628.5,
            -38081883.5,
            -40915834,
            -32462344.5,
            -17169724.5,
            -5372408,
            -1235621.5,
            -71292.5
           ],
           "y": [
            "0-4",
            "5-9",
            "10-14",
            "15-19",
            "20-24",
            "25-29",
            "30-34",
            "35-39",
            "40-44",
            "45-49",
            "50-54",
            "55-59",
            "60-64",
            "65-69",
            "70-74",
            "75-79",
            "80-84",
            "85-89",
            "90-94",
            "95-99",
            "100+"
           ]
          },
          {
           "hovertemplate": "%{y} %{x} <extra></extra>",
           "name": "Female",
           "orientation": "h",
           "type": "bar",
           "x": [
            23431978,
            24957242,
            24461191.5,
            23801765,
            23982584,
            24988740.5,
            37119979.5,
            40942185.5,
            38288978,
            35475910,
            37040208,
            44974571,
            55898241,
            47053926,
            40310877.5,
            46469843.5,
            40603612,
            24569597.5,
            9946960,
            3466802,
            416737.5
           ],
           "y": [
            "0-4",
            "5-9",
            "10-14",
            "15-19",
            "20-24",
            "25-29",
            "30-34",
            "35-39",
            "40-44",
            "45-49",
            "50-54",
            "55-59",
            "60-64",
            "65-69",
            "70-74",
            "75-79",
            "80-84",
            "85-89",
            "90-94",
            "95-99",
            "100+"
           ]
          }
         ],
         "layout": {
          "annotations": [
           {
            "showarrow": false,
            "text": "Year: 2050",
            "x": 0.9,
            "xref": "paper",
            "y": 1,
            "yref": "paper"
           },
           {
            "showarrow": false,
            "text": "age",
            "x": -0.1,
            "xref": "paper",
            "y": 1.1,
            "yref": "paper"
           }
          ]
         },
         "name": "2050"
        }
       ],
       "layout": {
        "annotations": [
         {
          "showarrow": false,
          "text": "Year: 2022",
          "x": 0.9,
          "xref": "paper",
          "y": 1,
          "yref": "paper"
         },
         {
          "showarrow": false,
          "text": "age",
          "x": -0.1,
          "xref": "paper",
          "y": 1.1,
          "yref": "paper"
         }
        ],
        "bargap": 0.1,
        "barmode": "relative",
        "height": 300,
        "legend": {
         "font": {
          "size": 12
         },
         "orientation": "h",
         "traceorder": "normal",
         "x": 0.9,
         "xanchor": "right",
         "y": 1,
         "yanchor": "bottom"
        },
        "margin": {
         "b": 50,
         "l": 20,
         "r": 1,
         "t": 50
        },
        "template": {
         "data": {
          "bar": [
           {
            "error_x": {
             "color": "#2a3f5f"
            },
            "error_y": {
             "color": "#2a3f5f"
            },
            "marker": {
             "line": {
              "color": "white",
              "width": 0.5
             },
             "pattern": {
              "fillmode": "overlay",
              "size": 10,
              "solidity": 0.2
             }
            },
            "type": "bar"
           }
          ],
          "barpolar": [
           {
            "marker": {
             "line": {
              "color": "white",
              "width": 0.5
             },
             "pattern": {
              "fillmode": "overlay",
              "size": 10,
              "solidity": 0.2
             }
            },
            "type": "barpolar"
           }
          ],
          "carpet": [
           {
            "aaxis": {
             "endlinecolor": "#2a3f5f",
             "gridcolor": "#C8D4E3",
             "linecolor": "#C8D4E3",
             "minorgridcolor": "#C8D4E3",
             "startlinecolor": "#2a3f5f"
            },
            "baxis": {
             "endlinecolor": "#2a3f5f",
             "gridcolor": "#C8D4E3",
             "linecolor": "#C8D4E3",
             "minorgridcolor": "#C8D4E3",
             "startlinecolor": "#2a3f5f"
            },
            "type": "carpet"
           }
          ],
          "choropleth": [
           {
            "colorbar": {
             "outlinewidth": 0,
             "ticks": ""
            },
            "type": "choropleth"
           }
          ],
          "contour": [
           {
            "colorbar": {
             "outlinewidth": 0,
             "ticks": ""
            },
            "colorscale": [
             [
              0,
              "#0d0887"
             ],
             [
              0.1111111111111111,
              "#46039f"
             ],
             [
              0.2222222222222222,
              "#7201a8"
             ],
             [
              0.3333333333333333,
              "#9c179e"
             ],
             [
              0.4444444444444444,
              "#bd3786"
             ],
             [
              0.5555555555555556,
              "#d8576b"
             ],
             [
              0.6666666666666666,
              "#ed7953"
             ],
             [
              0.7777777777777778,
              "#fb9f3a"
             ],
             [
              0.8888888888888888,
              "#fdca26"
             ],
             [
              1,
              "#f0f921"
             ]
            ],
            "type": "contour"
           }
          ],
          "contourcarpet": [
           {
            "colorbar": {
             "outlinewidth": 0,
             "ticks": ""
            },
            "type": "contourcarpet"
           }
          ],
          "heatmap": [
           {
            "colorbar": {
             "outlinewidth": 0,
             "ticks": ""
            },
            "colorscale": [
             [
              0,
              "#0d0887"
             ],
             [
              0.1111111111111111,
              "#46039f"
             ],
             [
              0.2222222222222222,
              "#7201a8"
             ],
             [
              0.3333333333333333,
              "#9c179e"
             ],
             [
              0.4444444444444444,
              "#bd3786"
             ],
             [
              0.5555555555555556,
              "#d8576b"
             ],
             [
              0.6666666666666666,
              "#ed7953"
             ],
             [
              0.7777777777777778,
              "#fb9f3a"
             ],
             [
              0.8888888888888888,
              "#fdca26"
             ],
             [
              1,
              "#f0f921"
             ]
            ],
            "type": "heatmap"
           }
          ],
          "heatmapgl": [
           {
            "colorbar": {
             "outlinewidth": 0,
             "ticks": ""
            },
            "colorscale": [
             [
              0,
              "#0d0887"
             ],
             [
              0.1111111111111111,
              "#46039f"
             ],
             [
              0.2222222222222222,
              "#7201a8"
             ],
             [
              0.3333333333333333,
              "#9c179e"
             ],
             [
              0.4444444444444444,
              "#bd3786"
             ],
             [
              0.5555555555555556,
              "#d8576b"
             ],
             [
              0.6666666666666666,
              "#ed7953"
             ],
             [
              0.7777777777777778,
              "#fb9f3a"
             ],
             [
              0.8888888888888888,
              "#fdca26"
             ],
             [
              1,
              "#f0f921"
             ]
            ],
            "type": "heatmapgl"
           }
          ],
          "histogram": [
           {
            "marker": {
             "pattern": {
              "fillmode": "overlay",
              "size": 10,
              "solidity": 0.2
             }
            },
            "type": "histogram"
           }
          ],
          "histogram2d": [
           {
            "colorbar": {
             "outlinewidth": 0,
             "ticks": ""
            },
            "colorscale": [
             [
              0,
              "#0d0887"
             ],
             [
              0.1111111111111111,
              "#46039f"
             ],
             [
              0.2222222222222222,
              "#7201a8"
             ],
             [
              0.3333333333333333,
              "#9c179e"
             ],
             [
              0.4444444444444444,
              "#bd3786"
             ],
             [
              0.5555555555555556,
              "#d8576b"
             ],
             [
              0.6666666666666666,
              "#ed7953"
             ],
             [
              0.7777777777777778,
              "#fb9f3a"
             ],
             [
              0.8888888888888888,
              "#fdca26"
             ],
             [
              1,
              "#f0f921"
             ]
            ],
            "type": "histogram2d"
           }
          ],
          "histogram2dcontour": [
           {
            "colorbar": {
             "outlinewidth": 0,
             "ticks": ""
            },
            "colorscale": [
             [
              0,
              "#0d0887"
             ],
             [
              0.1111111111111111,
              "#46039f"
             ],
             [
              0.2222222222222222,
              "#7201a8"
             ],
             [
              0.3333333333333333,
              "#9c179e"
             ],
             [
              0.4444444444444444,
              "#bd3786"
             ],
             [
              0.5555555555555556,
              "#d8576b"
             ],
             [
              0.6666666666666666,
              "#ed7953"
             ],
             [
              0.7777777777777778,
              "#fb9f3a"
             ],
             [
              0.8888888888888888,
              "#fdca26"
             ],
             [
              1,
              "#f0f921"
             ]
            ],
            "type": "histogram2dcontour"
           }
          ],
          "mesh3d": [
           {
            "colorbar": {
             "outlinewidth": 0,
             "ticks": ""
            },
            "type": "mesh3d"
           }
          ],
          "parcoords": [
           {
            "line": {
             "colorbar": {
              "outlinewidth": 0,
              "ticks": ""
             }
            },
            "type": "parcoords"
           }
          ],
          "pie": [
           {
            "automargin": true,
            "type": "pie"
           }
          ],
          "scatter": [
           {
            "marker": {
             "colorbar": {
              "outlinewidth": 0,
              "ticks": ""
             }
            },
            "type": "scatter"
           }
          ],
          "scatter3d": [
           {
            "line": {
             "colorbar": {
              "outlinewidth": 0,
              "ticks": ""
             }
            },
            "marker": {
             "colorbar": {
              "outlinewidth": 0,
              "ticks": ""
             }
            },
            "type": "scatter3d"
           }
          ],
          "scattercarpet": [
           {
            "marker": {
             "colorbar": {
              "outlinewidth": 0,
              "ticks": ""
             }
            },
            "type": "scattercarpet"
           }
          ],
          "scattergeo": [
           {
            "marker": {
             "colorbar": {
              "outlinewidth": 0,
              "ticks": ""
             }
            },
            "type": "scattergeo"
           }
          ],
          "scattergl": [
           {
            "marker": {
             "colorbar": {
              "outlinewidth": 0,
              "ticks": ""
             }
            },
            "type": "scattergl"
           }
          ],
          "scattermapbox": [
           {
            "marker": {
             "colorbar": {
              "outlinewidth": 0,
              "ticks": ""
             }
            },
            "type": "scattermapbox"
           }
          ],
          "scatterpolar": [
           {
            "marker": {
             "colorbar": {
              "outlinewidth": 0,
              "ticks": ""
             }
            },
            "type": "scatterpolar"
           }
          ],
          "scatterpolargl": [
           {
            "marker": {
             "colorbar": {
              "outlinewidth": 0,
              "ticks": ""
             }
            },
            "type": "scatterpolargl"
           }
          ],
          "scatterternary": [
           {
            "marker": {
             "colorbar": {
              "outlinewidth": 0,
              "ticks": ""
             }
            },
            "type": "scatterternary"
           }
          ],
          "surface": [
           {
            "colorbar": {
             "outlinewidth": 0,
             "ticks": ""
            },
            "colorscale": [
             [
              0,
              "#0d0887"
             ],
             [
              0.1111111111111111,
              "#46039f"
             ],
             [
              0.2222222222222222,
              "#7201a8"
             ],
             [
              0.3333333333333333,
              "#9c179e"
             ],
             [
              0.4444444444444444,
              "#bd3786"
             ],
             [
              0.5555555555555556,
              "#d8576b"
             ],
             [
              0.6666666666666666,
              "#ed7953"
             ],
             [
              0.7777777777777778,
              "#fb9f3a"
             ],
             [
              0.8888888888888888,
              "#fdca26"
             ],
             [
              1,
              "#f0f921"
             ]
            ],
            "type": "surface"
           }
          ],
          "table": [
           {
            "cells": {
             "fill": {
              "color": "#EBF0F8"
             },
             "line": {
              "color": "white"
             }
            },
            "header": {
             "fill": {
              "color": "#C8D4E3"
             },
             "line": {
              "color": "white"
             }
            },
            "type": "table"
           }
          ]
         },
         "layout": {
          "annotationdefaults": {
           "arrowcolor": "#2a3f5f",
           "arrowhead": 0,
           "arrowwidth": 1
          },
          "autotypenumbers": "strict",
          "coloraxis": {
           "colorbar": {
            "outlinewidth": 0,
            "ticks": ""
           }
          },
          "colorscale": {
           "diverging": [
            [
             0,
             "#8e0152"
            ],
            [
             0.1,
             "#c51b7d"
            ],
            [
             0.2,
             "#de77ae"
            ],
            [
             0.3,
             "#f1b6da"
            ],
            [
             0.4,
             "#fde0ef"
            ],
            [
             0.5,
             "#f7f7f7"
            ],
            [
             0.6,
             "#e6f5d0"
            ],
            [
             0.7,
             "#b8e186"
            ],
            [
             0.8,
             "#7fbc41"
            ],
            [
             0.9,
             "#4d9221"
            ],
            [
             1,
             "#276419"
            ]
           ],
           "sequential": [
            [
             0,
             "#0d0887"
            ],
            [
             0.1111111111111111,
             "#46039f"
            ],
            [
             0.2222222222222222,
             "#7201a8"
            ],
            [
             0.3333333333333333,
             "#9c179e"
            ],
            [
             0.4444444444444444,
             "#bd3786"
            ],
            [
             0.5555555555555556,
             "#d8576b"
            ],
            [
             0.6666666666666666,
             "#ed7953"
            ],
            [
             0.7777777777777778,
             "#fb9f3a"
            ],
            [
             0.8888888888888888,
             "#fdca26"
            ],
            [
             1,
             "#f0f921"
            ]
           ],
           "sequentialminus": [
            [
             0,
             "#0d0887"
            ],
            [
             0.1111111111111111,
             "#46039f"
            ],
            [
             0.2222222222222222,
             "#7201a8"
            ],
            [
             0.3333333333333333,
             "#9c179e"
            ],
            [
             0.4444444444444444,
             "#bd3786"
            ],
            [
             0.5555555555555556,
             "#d8576b"
            ],
            [
             0.6666666666666666,
             "#ed7953"
            ],
            [
             0.7777777777777778,
             "#fb9f3a"
            ],
            [
             0.8888888888888888,
             "#fdca26"
            ],
            [
             1,
             "#f0f921"
            ]
           ]
          },
          "colorway": [
           "#636efa",
           "#EF553B",
           "#00cc96",
           "#ab63fa",
           "#FFA15A",
           "#19d3f3",
           "#FF6692",
           "#B6E880",
           "#FF97FF",
           "#FECB52"
          ],
          "font": {
           "color": "#2a3f5f"
          },
          "geo": {
           "bgcolor": "white",
           "lakecolor": "white",
           "landcolor": "white",
           "showlakes": true,
           "showland": true,
           "subunitcolor": "#C8D4E3"
          },
          "hoverlabel": {
           "align": "left"
          },
          "hovermode": "closest",
          "mapbox": {
           "style": "light"
          },
          "paper_bgcolor": "white",
          "plot_bgcolor": "white",
          "polar": {
           "angularaxis": {
            "gridcolor": "#EBF0F8",
            "linecolor": "#EBF0F8",
            "ticks": ""
           },
           "bgcolor": "white",
           "radialaxis": {
            "gridcolor": "#EBF0F8",
            "linecolor": "#EBF0F8",
            "ticks": ""
           }
          },
          "scene": {
           "xaxis": {
            "backgroundcolor": "white",
            "gridcolor": "#DFE8F3",
            "gridwidth": 2,
            "linecolor": "#EBF0F8",
            "showbackground": true,
            "ticks": "",
            "zerolinecolor": "#EBF0F8"
           },
           "yaxis": {
            "backgroundcolor": "white",
            "gridcolor": "#DFE8F3",
            "gridwidth": 2,
            "linecolor": "#EBF0F8",
            "showbackground": true,
            "ticks": "",
            "zerolinecolor": "#EBF0F8"
           },
           "zaxis": {
            "backgroundcolor": "white",
            "gridcolor": "#DFE8F3",
            "gridwidth": 2,
            "linecolor": "#EBF0F8",
            "showbackground": true,
            "ticks": "",
            "zerolinecolor": "#EBF0F8"
           }
          },
          "shapedefaults": {
           "line": {
            "color": "#2a3f5f"
           }
          },
          "ternary": {
           "aaxis": {
            "gridcolor": "#DFE8F3",
            "linecolor": "#A2B1C6",
            "ticks": ""
           },
           "baxis": {
            "gridcolor": "#DFE8F3",
            "linecolor": "#A2B1C6",
            "ticks": ""
           },
           "bgcolor": "white",
           "caxis": {
            "gridcolor": "#DFE8F3",
            "linecolor": "#A2B1C6",
            "ticks": ""
           }
          },
          "title": {
           "x": 0.05
          },
          "xaxis": {
           "automargin": true,
           "gridcolor": "#EBF0F8",
           "linecolor": "#EBF0F8",
           "ticks": "",
           "title": {
            "standoff": 15
           },
           "zerolinecolor": "#EBF0F8",
           "zerolinewidth": 2
          },
          "yaxis": {
           "automargin": true,
           "gridcolor": "#EBF0F8",
           "linecolor": "#EBF0F8",
           "ticks": "",
           "title": {
            "standoff": 15
           },
           "zerolinecolor": "#EBF0F8",
           "zerolinewidth": 2
          }
         }
        },
        "title": {
         "text": "China's Population is Rapidly Aging"
        },
        "updatemenus": [
         {
          "buttons": [
           {
            "args": [
             null,
             {
              "frame": {
               "duration": 300,
               "redraw": true
              },
              "fromcurrent": true,
              "mode": "immediate"
             }
            ],
            "label": "Play",
            "method": "animate"
           },
           {
            "args": [
             [
              null
             ],
             {
              "frame": {
               "duration": 0,
               "redraw": true
              },
              "mode": "immediate"
             }
            ],
            "label": "Pause",
            "method": "animate"
           }
          ],
          "showactive": false,
          "type": "buttons",
          "x": 0.25,
          "y": 1.1
         }
        ],
        "width": 280,
        "xaxis": {
         "range": [
          -70000000,
          70000000
         ],
         "ticktext": [
          "60M",
          "40M",
          "20M",
          "0",
          "20M",
          "40M",
          "60M"
         ],
         "tickvals": [
          -60000000,
          -40000000,
          -20000000,
          0,
          20000000,
          40000000,
          60000000
         ]
        }
       }
      }
     },
     "metadata": {},
     "output_type": "display_data"
    }
   ],
   "source": [
    "# Create the trace for the male data\n",
    "trace_male = go.Bar(\n",
    "    x=-pyramid_data.iloc[:,22:].iloc[64],\n",
    "    y=pyramid_data.columns[22:].str.replace('Male',''), # to make data in the same order and same name\n",
    "    orientation='h',\n",
    "    name='Male',\n",
    "    marker=dict(),\n",
    "    #hover data\n",
    "    #make hover with positive value by adding - to x\n",
    "    hovertemplate='%{y} %{x} <extra></extra>',\n",
    ")\n",
    "\n",
    "# Create the trace for the female data\n",
    "trace_female = go.Bar(\n",
    "    x=pyramid_data.iloc[:,1:22].iloc[64],\n",
    "    y=pyramid_data.columns[1:22].str.replace('Female',''), # to make data in the same order and same name\n",
    "    orientation='h',\n",
    "    name='Female',\n",
    "    marker=dict(),\n",
    "    hovertemplate='%{y} %{x} <extra></extra>',\n",
    "\n",
    "\n",
    ")\n",
    "\n",
    "# Combine the traces into a single figure\n",
    "fig_py = go.Figure(data=[trace_male, trace_female])\n",
    "\n",
    "\n",
    "fig_py.update_layout(\n",
    "    title=f'China\\'s Population is Rapidly Aging',\n",
    "    xaxis_title='Population',\n",
    "    #yaxis_title='Age Group',\n",
    "    barmode='relative',\n",
    "    bargap=.1,\n",
    "    width=280,\n",
    "    height=300,\n",
    "    margin=dict(l=20, r=1, t=50, b=50),\n",
    "    template=THEME,\n",
    "    xaxis_range=[-70000000,70000000],\n",
    "    xaxis=go.layout.XAxis(\n",
    "        tickvals=[-60000000, -40000000, -20000000, 0, 20000000, 40000000, 60000000],                      \n",
    "        ticktext=[\"60M\", \"40M\", \"20M\", \"0\", \"20M\", \"40M\", '60M']\n",
    "    ),\n",
    "    \n",
    "    \n",
    "    updatemenus=[dict(\n",
    "        type='buttons',\n",
    "        showactive=False,\n",
    "        buttons=[\n",
    "            dict(\n",
    "                label='Play',\n",
    "                method='animate',\n",
    "                args=[None, dict(\n",
    "                    frame=dict(duration=300, redraw=True),\n",
    "                    fromcurrent=True,\n",
    "                    mode='immediate'\n",
    "                )]\n",
    "            ),\n",
    "             dict(\n",
    "                label='Pause',\n",
    "                method='animate',\n",
    "                args=[[None], dict(\n",
    "                    frame=dict(duration=0, redraw=True),\n",
    "                    mode='immediate'\n",
    "                )]\n",
    "            ),\n",
    "            \n",
    "        ], x=0.25, y=1.1,\n",
    "        \n",
    "#         buttons=[dict(\n",
    "#             label='Play',\n",
    "#             method='animate',\n",
    "#             args=[None, dict(\n",
    "#                 frame=dict(duration=500, redraw=True),\n",
    "#                 fromcurrent=True,\n",
    "#                 mode='immediate'\n",
    "#             )]\n",
    "        \n",
    "#         )]\n",
    "    )],\n",
    "    annotations=[\n",
    "        dict(\n",
    "            x=0.9,\n",
    "            y=1,\n",
    "            xref='paper',\n",
    "            yref='paper',\n",
    "            text='Year: 2022',\n",
    "            showarrow=False\n",
    "        ),\n",
    "         dict(\n",
    "            x=-0.1,\n",
    "            y=1.1,\n",
    "            xref='paper',\n",
    "            yref='paper',\n",
    "            text='age',\n",
    "            showarrow=False\n",
    "        )\n",
    "        \n",
    "    ]\n",
    ")\n",
    "# Set x axis range and keep it constant\n",
    "fig_py.update_xaxes(range=[-70_000_000, 70_000_000])\n",
    "fig_py.update_layout(legend=dict(orientation=\"h\", yanchor=\"bottom\", y=1, xanchor=\"right\", x=0.9,\n",
    "                                    traceorder=\"normal\", font=dict(size=12,), ),) \n",
    "\n",
    "# Add frames\n",
    "frames = []\n",
    "for i, year in enumerate(pyramid_data.Year):\n",
    "    frame = go.Frame(\n",
    "        data=[\n",
    "          \n",
    "            go.Bar(\n",
    "                x=-pyramid_data.iloc[i,22:],\n",
    "                y=pyramid_data.columns[22:].str.replace('Male',''), # to make data in the same order and same name\n",
    "                orientation='h',\n",
    "                name='Male',\n",
    "                marker=dict(),\n",
    "                #hover data\n",
    "                #make hover with positive value by adding - to x\n",
    "                hovertemplate='%{y} %{x} <extra></extra>',\n",
    "            ),\n",
    "            go.Bar(\n",
    "                    x=pyramid_data.iloc[i,1:22],\n",
    "                    y=pyramid_data.columns[1:22].str.replace('Female',''), # to make data in the same order and same name\n",
    "                    orientation='h',\n",
    "                    name='Female',\n",
    "                    marker=dict(),\n",
    "                    hovertemplate='%{y} %{x} <extra></extra>',\n",
    "            )\n",
    "        ],\n",
    "        name=str(year)[:4],\n",
    "        layout = go.Layout(annotations = [dict(\n",
    "                                            x=0.9,\n",
    "                                            y=1,\n",
    "                                            xref='paper',\n",
    "                                            yref='paper',\n",
    "                                            text=f'Year: {str(year)[:4]}',\n",
    "                                            showarrow=False\n",
    "                                            ),\n",
    "                                             dict(\n",
    "                                                x=-0.1,\n",
    "                                                y=1.1,\n",
    "                                                xref='paper',\n",
    "                                                yref='paper',\n",
    "                                                text='age',\n",
    "                                                showarrow=False\n",
    "                                            )]\n",
    "                          )\n",
    "\n",
    "        \n",
    "    )\n",
    "    frames.append(frame)\n",
    "\n",
    "# Add frames to figure\n",
    "fig_py.frames = frames\n",
    "\n",
    "fig_py.show()\n"
   ]
  },
  {
   "cell_type": "markdown",
   "metadata": {},
   "source": [
    "`Gender Pie Figure`"
   ]
  },
  {
   "cell_type": "code",
   "execution_count": 31,
   "metadata": {},
   "outputs": [
    {
     "data": {
      "application/vnd.plotly.v1+json": {
       "config": {
        "plotlyServerURL": "https://plot.ly"
       },
       "data": [
        {
         "hoverinfo": "label+value",
         "labels": [
          "Female",
          "Male"
         ],
         "marker": {
          "line": {
           "color": "#000000",
           "width": 1
          }
         },
         "textfont": {
          "size": 10
         },
         "type": "pie",
         "values": [
          49.0484286003005,
          50.9515713996995
         ]
        }
       ],
       "layout": {
        "height": 500,
        "legend": {
         "title": {
          "text": "Gender"
         },
         "x": 0.8,
         "y": 0.9
        },
        "template": {
         "data": {
          "bar": [
           {
            "error_x": {
             "color": "#f2f5fa"
            },
            "error_y": {
             "color": "#f2f5fa"
            },
            "marker": {
             "line": {
              "color": "rgb(17,17,17)",
              "width": 0.5
             },
             "pattern": {
              "fillmode": "overlay",
              "size": 10,
              "solidity": 0.2
             }
            },
            "type": "bar"
           }
          ],
          "barpolar": [
           {
            "marker": {
             "line": {
              "color": "rgb(17,17,17)",
              "width": 0.5
             },
             "pattern": {
              "fillmode": "overlay",
              "size": 10,
              "solidity": 0.2
             }
            },
            "type": "barpolar"
           }
          ],
          "carpet": [
           {
            "aaxis": {
             "endlinecolor": "#A2B1C6",
             "gridcolor": "#506784",
             "linecolor": "#506784",
             "minorgridcolor": "#506784",
             "startlinecolor": "#A2B1C6"
            },
            "baxis": {
             "endlinecolor": "#A2B1C6",
             "gridcolor": "#506784",
             "linecolor": "#506784",
             "minorgridcolor": "#506784",
             "startlinecolor": "#A2B1C6"
            },
            "type": "carpet"
           }
          ],
          "choropleth": [
           {
            "colorbar": {
             "outlinewidth": 0,
             "ticks": ""
            },
            "type": "choropleth"
           }
          ],
          "contour": [
           {
            "colorbar": {
             "outlinewidth": 0,
             "ticks": ""
            },
            "colorscale": [
             [
              0,
              "#0d0887"
             ],
             [
              0.1111111111111111,
              "#46039f"
             ],
             [
              0.2222222222222222,
              "#7201a8"
             ],
             [
              0.3333333333333333,
              "#9c179e"
             ],
             [
              0.4444444444444444,
              "#bd3786"
             ],
             [
              0.5555555555555556,
              "#d8576b"
             ],
             [
              0.6666666666666666,
              "#ed7953"
             ],
             [
              0.7777777777777778,
              "#fb9f3a"
             ],
             [
              0.8888888888888888,
              "#fdca26"
             ],
             [
              1,
              "#f0f921"
             ]
            ],
            "type": "contour"
           }
          ],
          "contourcarpet": [
           {
            "colorbar": {
             "outlinewidth": 0,
             "ticks": ""
            },
            "type": "contourcarpet"
           }
          ],
          "heatmap": [
           {
            "colorbar": {
             "outlinewidth": 0,
             "ticks": ""
            },
            "colorscale": [
             [
              0,
              "#0d0887"
             ],
             [
              0.1111111111111111,
              "#46039f"
             ],
             [
              0.2222222222222222,
              "#7201a8"
             ],
             [
              0.3333333333333333,
              "#9c179e"
             ],
             [
              0.4444444444444444,
              "#bd3786"
             ],
             [
              0.5555555555555556,
              "#d8576b"
             ],
             [
              0.6666666666666666,
              "#ed7953"
             ],
             [
              0.7777777777777778,
              "#fb9f3a"
             ],
             [
              0.8888888888888888,
              "#fdca26"
             ],
             [
              1,
              "#f0f921"
             ]
            ],
            "type": "heatmap"
           }
          ],
          "heatmapgl": [
           {
            "colorbar": {
             "outlinewidth": 0,
             "ticks": ""
            },
            "colorscale": [
             [
              0,
              "#0d0887"
             ],
             [
              0.1111111111111111,
              "#46039f"
             ],
             [
              0.2222222222222222,
              "#7201a8"
             ],
             [
              0.3333333333333333,
              "#9c179e"
             ],
             [
              0.4444444444444444,
              "#bd3786"
             ],
             [
              0.5555555555555556,
              "#d8576b"
             ],
             [
              0.6666666666666666,
              "#ed7953"
             ],
             [
              0.7777777777777778,
              "#fb9f3a"
             ],
             [
              0.8888888888888888,
              "#fdca26"
             ],
             [
              1,
              "#f0f921"
             ]
            ],
            "type": "heatmapgl"
           }
          ],
          "histogram": [
           {
            "marker": {
             "pattern": {
              "fillmode": "overlay",
              "size": 10,
              "solidity": 0.2
             }
            },
            "type": "histogram"
           }
          ],
          "histogram2d": [
           {
            "colorbar": {
             "outlinewidth": 0,
             "ticks": ""
            },
            "colorscale": [
             [
              0,
              "#0d0887"
             ],
             [
              0.1111111111111111,
              "#46039f"
             ],
             [
              0.2222222222222222,
              "#7201a8"
             ],
             [
              0.3333333333333333,
              "#9c179e"
             ],
             [
              0.4444444444444444,
              "#bd3786"
             ],
             [
              0.5555555555555556,
              "#d8576b"
             ],
             [
              0.6666666666666666,
              "#ed7953"
             ],
             [
              0.7777777777777778,
              "#fb9f3a"
             ],
             [
              0.8888888888888888,
              "#fdca26"
             ],
             [
              1,
              "#f0f921"
             ]
            ],
            "type": "histogram2d"
           }
          ],
          "histogram2dcontour": [
           {
            "colorbar": {
             "outlinewidth": 0,
             "ticks": ""
            },
            "colorscale": [
             [
              0,
              "#0d0887"
             ],
             [
              0.1111111111111111,
              "#46039f"
             ],
             [
              0.2222222222222222,
              "#7201a8"
             ],
             [
              0.3333333333333333,
              "#9c179e"
             ],
             [
              0.4444444444444444,
              "#bd3786"
             ],
             [
              0.5555555555555556,
              "#d8576b"
             ],
             [
              0.6666666666666666,
              "#ed7953"
             ],
             [
              0.7777777777777778,
              "#fb9f3a"
             ],
             [
              0.8888888888888888,
              "#fdca26"
             ],
             [
              1,
              "#f0f921"
             ]
            ],
            "type": "histogram2dcontour"
           }
          ],
          "mesh3d": [
           {
            "colorbar": {
             "outlinewidth": 0,
             "ticks": ""
            },
            "type": "mesh3d"
           }
          ],
          "parcoords": [
           {
            "line": {
             "colorbar": {
              "outlinewidth": 0,
              "ticks": ""
             }
            },
            "type": "parcoords"
           }
          ],
          "pie": [
           {
            "automargin": true,
            "type": "pie"
           }
          ],
          "scatter": [
           {
            "marker": {
             "line": {
              "color": "#283442"
             }
            },
            "type": "scatter"
           }
          ],
          "scatter3d": [
           {
            "line": {
             "colorbar": {
              "outlinewidth": 0,
              "ticks": ""
             }
            },
            "marker": {
             "colorbar": {
              "outlinewidth": 0,
              "ticks": ""
             }
            },
            "type": "scatter3d"
           }
          ],
          "scattercarpet": [
           {
            "marker": {
             "colorbar": {
              "outlinewidth": 0,
              "ticks": ""
             }
            },
            "type": "scattercarpet"
           }
          ],
          "scattergeo": [
           {
            "marker": {
             "colorbar": {
              "outlinewidth": 0,
              "ticks": ""
             }
            },
            "type": "scattergeo"
           }
          ],
          "scattergl": [
           {
            "marker": {
             "line": {
              "color": "#283442"
             }
            },
            "type": "scattergl"
           }
          ],
          "scattermapbox": [
           {
            "marker": {
             "colorbar": {
              "outlinewidth": 0,
              "ticks": ""
             }
            },
            "type": "scattermapbox"
           }
          ],
          "scatterpolar": [
           {
            "marker": {
             "colorbar": {
              "outlinewidth": 0,
              "ticks": ""
             }
            },
            "type": "scatterpolar"
           }
          ],
          "scatterpolargl": [
           {
            "marker": {
             "colorbar": {
              "outlinewidth": 0,
              "ticks": ""
             }
            },
            "type": "scatterpolargl"
           }
          ],
          "scatterternary": [
           {
            "marker": {
             "colorbar": {
              "outlinewidth": 0,
              "ticks": ""
             }
            },
            "type": "scatterternary"
           }
          ],
          "surface": [
           {
            "colorbar": {
             "outlinewidth": 0,
             "ticks": ""
            },
            "colorscale": [
             [
              0,
              "#0d0887"
             ],
             [
              0.1111111111111111,
              "#46039f"
             ],
             [
              0.2222222222222222,
              "#7201a8"
             ],
             [
              0.3333333333333333,
              "#9c179e"
             ],
             [
              0.4444444444444444,
              "#bd3786"
             ],
             [
              0.5555555555555556,
              "#d8576b"
             ],
             [
              0.6666666666666666,
              "#ed7953"
             ],
             [
              0.7777777777777778,
              "#fb9f3a"
             ],
             [
              0.8888888888888888,
              "#fdca26"
             ],
             [
              1,
              "#f0f921"
             ]
            ],
            "type": "surface"
           }
          ],
          "table": [
           {
            "cells": {
             "fill": {
              "color": "#506784"
             },
             "line": {
              "color": "rgb(17,17,17)"
             }
            },
            "header": {
             "fill": {
              "color": "#2a3f5f"
             },
             "line": {
              "color": "rgb(17,17,17)"
             }
            },
            "type": "table"
           }
          ]
         },
         "layout": {
          "annotationdefaults": {
           "arrowcolor": "#f2f5fa",
           "arrowhead": 0,
           "arrowwidth": 1
          },
          "autotypenumbers": "strict",
          "coloraxis": {
           "colorbar": {
            "outlinewidth": 0,
            "ticks": ""
           }
          },
          "colorscale": {
           "diverging": [
            [
             0,
             "#8e0152"
            ],
            [
             0.1,
             "#c51b7d"
            ],
            [
             0.2,
             "#de77ae"
            ],
            [
             0.3,
             "#f1b6da"
            ],
            [
             0.4,
             "#fde0ef"
            ],
            [
             0.5,
             "#f7f7f7"
            ],
            [
             0.6,
             "#e6f5d0"
            ],
            [
             0.7,
             "#b8e186"
            ],
            [
             0.8,
             "#7fbc41"
            ],
            [
             0.9,
             "#4d9221"
            ],
            [
             1,
             "#276419"
            ]
           ],
           "sequential": [
            [
             0,
             "#0d0887"
            ],
            [
             0.1111111111111111,
             "#46039f"
            ],
            [
             0.2222222222222222,
             "#7201a8"
            ],
            [
             0.3333333333333333,
             "#9c179e"
            ],
            [
             0.4444444444444444,
             "#bd3786"
            ],
            [
             0.5555555555555556,
             "#d8576b"
            ],
            [
             0.6666666666666666,
             "#ed7953"
            ],
            [
             0.7777777777777778,
             "#fb9f3a"
            ],
            [
             0.8888888888888888,
             "#fdca26"
            ],
            [
             1,
             "#f0f921"
            ]
           ],
           "sequentialminus": [
            [
             0,
             "#0d0887"
            ],
            [
             0.1111111111111111,
             "#46039f"
            ],
            [
             0.2222222222222222,
             "#7201a8"
            ],
            [
             0.3333333333333333,
             "#9c179e"
            ],
            [
             0.4444444444444444,
             "#bd3786"
            ],
            [
             0.5555555555555556,
             "#d8576b"
            ],
            [
             0.6666666666666666,
             "#ed7953"
            ],
            [
             0.7777777777777778,
             "#fb9f3a"
            ],
            [
             0.8888888888888888,
             "#fdca26"
            ],
            [
             1,
             "#f0f921"
            ]
           ]
          },
          "colorway": [
           "#636efa",
           "#EF553B",
           "#00cc96",
           "#ab63fa",
           "#FFA15A",
           "#19d3f3",
           "#FF6692",
           "#B6E880",
           "#FF97FF",
           "#FECB52"
          ],
          "font": {
           "color": "#f2f5fa"
          },
          "geo": {
           "bgcolor": "rgb(17,17,17)",
           "lakecolor": "rgb(17,17,17)",
           "landcolor": "rgb(17,17,17)",
           "showlakes": true,
           "showland": true,
           "subunitcolor": "#506784"
          },
          "hoverlabel": {
           "align": "left"
          },
          "hovermode": "closest",
          "mapbox": {
           "style": "dark"
          },
          "paper_bgcolor": "rgb(17,17,17)",
          "plot_bgcolor": "rgb(17,17,17)",
          "polar": {
           "angularaxis": {
            "gridcolor": "#506784",
            "linecolor": "#506784",
            "ticks": ""
           },
           "bgcolor": "rgb(17,17,17)",
           "radialaxis": {
            "gridcolor": "#506784",
            "linecolor": "#506784",
            "ticks": ""
           }
          },
          "scene": {
           "xaxis": {
            "backgroundcolor": "rgb(17,17,17)",
            "gridcolor": "#506784",
            "gridwidth": 2,
            "linecolor": "#506784",
            "showbackground": true,
            "ticks": "",
            "zerolinecolor": "#C8D4E3"
           },
           "yaxis": {
            "backgroundcolor": "rgb(17,17,17)",
            "gridcolor": "#506784",
            "gridwidth": 2,
            "linecolor": "#506784",
            "showbackground": true,
            "ticks": "",
            "zerolinecolor": "#C8D4E3"
           },
           "zaxis": {
            "backgroundcolor": "rgb(17,17,17)",
            "gridcolor": "#506784",
            "gridwidth": 2,
            "linecolor": "#506784",
            "showbackground": true,
            "ticks": "",
            "zerolinecolor": "#C8D4E3"
           }
          },
          "shapedefaults": {
           "line": {
            "color": "#f2f5fa"
           }
          },
          "sliderdefaults": {
           "bgcolor": "#C8D4E3",
           "bordercolor": "rgb(17,17,17)",
           "borderwidth": 1,
           "tickwidth": 0
          },
          "ternary": {
           "aaxis": {
            "gridcolor": "#506784",
            "linecolor": "#506784",
            "ticks": ""
           },
           "baxis": {
            "gridcolor": "#506784",
            "linecolor": "#506784",
            "ticks": ""
           },
           "bgcolor": "rgb(17,17,17)",
           "caxis": {
            "gridcolor": "#506784",
            "linecolor": "#506784",
            "ticks": ""
           }
          },
          "title": {
           "x": 0.05
          },
          "updatemenudefaults": {
           "bgcolor": "#506784",
           "borderwidth": 0
          },
          "xaxis": {
           "automargin": true,
           "gridcolor": "#283442",
           "linecolor": "#506784",
           "ticks": "",
           "title": {
            "standoff": 15
           },
           "zerolinecolor": "#283442",
           "zerolinewidth": 2
          },
          "yaxis": {
           "automargin": true,
           "gridcolor": "#283442",
           "linecolor": "#506784",
           "ticks": "",
           "title": {
            "standoff": 15
           },
           "zerolinecolor": "#283442",
           "zerolinewidth": 2
          }
         }
        },
        "title": {
         "text": "Gender Distribution in China in 1972"
        },
        "width": 800
       }
      }
     },
     "metadata": {},
     "output_type": "display_data"
    }
   ],
   "source": [
    "# we need to make a pie chart for each year to specify the percentage of gender \n",
    "\n",
    "fig_pie = go.Figure()\n",
    "fig_pie.add_trace(go.Pie(labels=['Female', 'Male'], values=df[['Female Percentage', 'Male Percentage']].iloc[3]\n",
    "                         ),)\n",
    "fig_pie.update_traces(hoverinfo='label+value', textfont_size=10,\n",
    "                      marker=dict(line=dict(color='#000000', width=1 ), ))\n",
    "\n",
    "fig_pie.update_layout(title=f'Gender Distribution in China in {df[\"Year\"].iloc[3]}',\n",
    "    template=\"plotly_dark\", legend_title=\"Gender\", legend=dict(x=0.80, y=0.90,),height=500, width=800)\n",
    "\n",
    "\n",
    "    \n"
   ]
  },
  {
   "cell_type": "markdown",
   "metadata": {},
   "source": [
    "`BANS`"
   ]
  },
  {
   "cell_type": "code",
   "execution_count": 32,
   "metadata": {},
   "outputs": [],
   "source": [
    "#BAN 1 : Total pop\n",
    "#Ratio from world pop\n",
    "\n",
    "#*********************\n",
    "\n",
    "#BAN 2 : GDP\n",
    "\n",
    "\n",
    "#*********************\n",
    "\n"
   ]
  },
  {
   "cell_type": "markdown",
   "metadata": {},
   "source": [
    "# `Implemnent Dash`"
   ]
  },
  {
   "cell_type": "code",
   "execution_count": 33,
   "metadata": {},
   "outputs": [],
   "source": [
    "from dash.dependencies import Input, Output\n",
    "from dash.exceptions import PreventUpdate\n",
    "# dcc\n",
    "from dash import dcc\n",
    "# jupyter dash\n",
    "from jupyter_dash import JupyterDash"
   ]
  },
  {
   "cell_type": "code",
   "execution_count": 34,
   "metadata": {
    "tags": []
   },
   "outputs": [],
   "source": [
    "ban_style ={\"font-family\": \"Helvetica\",\"text-align\":\"center\",\"color\":\"#1C4E80\",\"font-size\":\"60px\"}\n",
    "\n",
    "ban_1 = \\\n",
    "dbc.Col([\n",
    "    dbc.Row([\n",
    "        html.H6(f\"Total Population\", style={\"font-family\": \"Helvetica\",\"text-align\":\"center\",\"font-size\":\"40px\"})\n",
    "    ]),\n",
    "    \n",
    "    dbc.Row([\n",
    "        html.H6(\"1.410'B'\", style=ban_style)\n",
    "    ]),\n",
    "    \n",
    "    dbc.Row([\n",
    "        dbc.Col([\n",
    "            dbc.Row([\n",
    "                html.H6(f\"850k\",\n",
    "                    style={\"font-family\": \"Helvetica\",\"text-align\":\"right\",\"font-size\":\"15px\",\"padding-top\":'5px'}\n",
    "                )\n",
    "            ]),\n",
    "            dbc.Row([\n",
    "                html.H6(f\"Annual  Change\",\n",
    "                    style={\"font-family\": \"Helvetica\",\"text-align\":\"right\",\"font-size\":\"15px\",\"padding-top\":'5px'}\n",
    "                ), \n",
    "            ])\n",
    "        ]),\n",
    "        dbc.Col([\n",
    "                html.Div([\n",
    "                    html.H1(\"|\", style = {\"text-align\":\"center\",\"padding-bottom\":'15px',\"font-size\":\"50px\"} ) \n",
    "                    ],\n",
    "                         \n",
    "                         ),\n",
    "                \n",
    "              ] , width={\"size\":1},  ),\n",
    "                 \n",
    "                dbc.Col([\n",
    "                  \n",
    "                  dbc.Row([\n",
    "                        html.H6(f\"80%\", style={\"font-family\": \"Helvetica\",\"text-align\":\"center\",\"font-size\":\"15px\"\n",
    "                                         ,\"padding-top\":'5px'       \n",
    "                                   \n",
    "                                      }),\n",
    "                         ]),\n",
    "                  dbc.Row([\n",
    "                      \n",
    "                        html.H6(f\"Percentage\", style={\"font-family\": \"Helvetica\",\"text-align\":\"center\",\"font-size\":\"15px\"\n",
    "                                              ,\"padding-top\":'5px'\n",
    "                                      \n",
    "                                      }),\n",
    "                  ])\n",
    "             \n",
    "              ] ),\n",
    "                \n",
    "        ]) ,\n",
    "      \n",
    "        \n",
    "            \n",
    "        ])#,width ={ \"size\": 4,},)"
   ]
  },
  {
   "cell_type": "code",
   "execution_count": 35,
   "metadata": {
    "tags": []
   },
   "outputs": [],
   "source": [
    "ban_11 = html.Div([dbc.Col([\n",
    "            dbc.Row([    \n",
    "                html.H6(f\"Total Population\", style={\"font-family\": \"Helvetica\",\"text-align\":\"center\",\"font-size\":\"25px\"})\n",
    "            ]),\n",
    "            dbc.Row([\n",
    "                html.H6(f\"{round(df['Population'].iloc[53]/1000000)}\", style=ban_style)\n",
    "            ]),\n",
    "            dbc.Row([\n",
    "                html.H6(f\"Annual Change\", style={\"font-family\": \"Helvetica\",\"text-align\":\"center\",\"font-size\":\"15px\",\"padding-top\":'5px', 'margin=bottom':\n",
    "                                                '1px'}),\n",
    "            ]),\n",
    "            dbc.Row([\n",
    "                html.H6(f\"-850000\", style={\"font-family\": \"Helvetica\",\"text-align\":\"center\",\"font-size\":\"35px\", \"padding-top\":'0px', \"color\":\"#1C4E80\"}),\n",
    "            ])\n",
    "        ])\n",
    "    ], id='ban11')\n"
   ]
  },
  {
   "cell_type": "code",
   "execution_count": 36,
   "metadata": {
    "tags": []
   },
   "outputs": [],
   "source": [
    "# ban_2 =dbc.Col([\n",
    "#             dbc.Row([    \n",
    "#                 html.H6(f\"Excess Males\", style={\"font-family\": \"Helvetica\",\"text-align\":\"center\",\"font-size\":\"25px\"})\n",
    "#             ]),\n",
    "#             dbc.Row([\n",
    "#                 html.H6(\"32M\", style=ban_style)\n",
    "#             ]),\n",
    "#             dbc.Row([\n",
    "#                 html.H6(f\"1.2 Male per Female\", style={\"font-family\": \"Helvetica\",\"text-align\":\"center\",\"font-size\":\"15px\",\"padding-top\":'5px'}),\n",
    "#             ]),\n",
    "#             dbc.Row([\n",
    "#                 html.H6(f\"Gender Ratio at Birth\", style={\"font-family\": \"Helvetica\",\"text-align\":\"center\",\"font-size\":\"15px\", \"padding-top\":'5px'}),\n",
    "#             ])\n",
    "#         ])\n",
    "\n",
    "\n",
    "ban_2 = html.Div([dbc.Col([\n",
    "            dbc.Row([    \n",
    "                html.H6(f\"Excess Males\", style={\"font-family\": \"Helvetica\",\"text-align\":\"center\",\"font-size\":\"25px\"})\n",
    "            ]),\n",
    "            dbc.Row([\n",
    "                html.H6(f\"{round((df['Male Percentage'].iloc[53] - 50) *0.01*df['Population'].iloc[53] / 1000000)}M\", style=ban_style)\n",
    "            ]),\n",
    "            dbc.Row([\n",
    "                html.H6(f\"Gender Ratio at Birth\", style={\"font-family\": \"Helvetica\",\"text-align\":\"center\",\"font-size\":\"15px\",\"padding-top\":'5px', 'margin=bottom':\n",
    "                                                '1px'}),\n",
    "            ]),\n",
    "            dbc.Row([\n",
    "                html.H6(f\"{df['Gender ratio at birth M/F'].iloc[53]} M/F\", style={\"font-family\": \"Helvetica\",\"text-align\":\"center\",\"font-size\":\"35px\", \"padding-top\":'0px', \"color\":\"#1C4E80\"}),\n",
    "            ])\n",
    "        ])\n",
    "    ], id='ban_2')\n"
   ]
  },
  {
   "cell_type": "code",
   "execution_count": 37,
   "metadata": {
    "tags": []
   },
   "outputs": [],
   "source": [
    "title_style ={\"font-family\": \"Helvetica\",\"text-align\":\"left\",\"color\":\"black\",\"font-size\":\"30px\", 'padding-left':'10px'}\n",
    "title = \\\n",
    "dbc.CardGroup(\n",
    "        [\n",
    "            dbc.Card(\n",
    "                dbc.CardBody([dbc.Row([\n",
    "                    html.H1(\"China's Demographics is a Ticking Time Bomb\", style=title_style),\n",
    "                    html.A(html.I(className=\"fab fa-github\", style={\"color\": \"black\", \"font-size\": \"30px\"}),\n",
    "                           href=\"http\",\n",
    "                           style={\"color\": \"white\", \"font-size\": \"30px\"},\n",
    "                          ),\n",
    "                ])]\n",
    "            )\n",
    "            )],\n",
    "\n",
    "            style = {'margin-left':'0px','margin-right':'0px','margin-bottom':'5px', 'margin-top':'0px'},\n",
    "    \n",
    "        #className=\"mt-4 shadow\",\n",
    "    \n",
    ")\n",
    "#html.H1(\"China's Demographics is a Ticking Time Bomb\", style=title_style)"
   ]
  },
  {
   "cell_type": "code",
   "execution_count": 38,
   "metadata": {},
   "outputs": [],
   "source": [
    "# dropdown = dcc.Dropdown(\n",
    "#                 id='dropdown',\n",
    "#                 options=[{'label': i, 'value': i} for i in df['Year'].unique()],\n",
    "#                 value='2020', \n",
    "#                 style={'width': \"40%\",\"font-family\": \"Halvetica\",} \n",
    "#             )"
   ]
  },
  {
   "cell_type": "code",
   "execution_count": 39,
   "metadata": {},
   "outputs": [],
   "source": [
    "graph1 = \\\n",
    "dbc.Col([\n",
    "    dbc.CardGroup(\n",
    "        [\n",
    "            dbc.Card(\n",
    "                dbc.CardBody([dcc.Graph(id='fig0', figure=fig)], style = {'padding':'0px'}),\n",
    "                \n",
    "            ),\n",
    "\n",
    "        ],\n",
    "        className=\"mt-2 shadow\",\n",
    "    )\n",
    "], width=8)\n"
   ]
  },
  {
   "cell_type": "code",
   "execution_count": 40,
   "metadata": {},
   "outputs": [],
   "source": [
    "graph2 = \\\n",
    "dbc.Col([\n",
    "    dbc.CardGroup(\n",
    "        [\n",
    "            dbc.Card(\n",
    "                dbc.CardBody([dcc.Graph(id='figure1', figure=fig_py)],style= {'padding-right':'0px', 'padding-top':'0px', 'padding-bottom':'0px'}),\n",
    "                \n",
    "            )\n",
    "        ],style= {'margin-left':'0px', 'padding-right':'0px', 'padding-top':'0px', 'padding-bottom':'0px'},\n",
    "        className=\"mt-2 shadow\",\n",
    "    )\n",
    "], width=3)\n"
   ]
  },
  {
   "cell_type": "code",
   "execution_count": 41,
   "metadata": {},
   "outputs": [],
   "source": [
    "graph3 = \\\n",
    "dbc.Col([\n",
    "    dbc.CardGroup(\n",
    "        [\n",
    "            dbc.Card(\n",
    "                dbc.CardBody([dcc.Graph(id='figure2', figure=fig2)], style = {'padding':'0px', 'margin-left':'0px'}),\n",
    "                \n",
    "            ),\n",
    "\n",
    "        ],style= {'margin-left':'0px', 'padding-right':'0px', 'padding-top':'0px', 'padding-bottom':'0px'},\n",
    "        className=\"mt-2 shadow\",\n",
    "    )\n",
    "], width=5)\n"
   ]
  },
  {
   "cell_type": "code",
   "execution_count": 42,
   "metadata": {},
   "outputs": [],
   "source": [
    "graph4 = \\\n",
    "dbc.Col([\n",
    "    dbc.CardGroup(\n",
    "        [\n",
    "            dbc.Card(\n",
    "                dbc.CardBody([dcc.Graph(id='figure3', figure=fig10)], style = {'padding':'0px'}),\n",
    "                \n",
    "            ),\n",
    "\n",
    "        ],\n",
    "        className=\"mt-2 shadow\",\n",
    "    )\n",
    "], width=3)\n"
   ]
  },
  {
   "cell_type": "code",
   "execution_count": 43,
   "metadata": {},
   "outputs": [],
   "source": [
    "cards_2nd = dbc.Row([graph2, graph3, graph4], style={ 'width':'100%', 'margin-left':'0px'})"
   ]
  },
  {
   "cell_type": "code",
   "execution_count": 44,
   "metadata": {},
   "outputs": [],
   "source": [
    "dropdown = \\\n",
    "dbc.Col([\n",
    "    dbc.CardGroup(\n",
    "        [\n",
    "            dbc.Card(\n",
    "                dbc.CardBody(\n",
    "                    [\n",
    "                        #html.H6(\"Year\", className=\"card-title\"),\n",
    "                        dbc.Row([\n",
    "                            dbc.Col([\n",
    "                        html.H6(\"Year\" ,style={\"font-family\":\"Helvetica\",\"padding-top\":\"5px\",\n",
    "                                                                       \"font-size\":\"20px\", \"margin-top\":'1px', \"color\":\"#1C4E80\"\n",
    "                                                                       ,\"text-align\":\"center\"\n",
    "                                                                       } ), ],  width =3),\n",
    "                            dbc.Col([   \n",
    "                        dcc.Dropdown(\n",
    "                            id=\"year\",\n",
    "                            options=[{'label':pyramid_data[\"Year\"].iloc[i] , 'value':i ,}\n",
    "                          for i in  pyramid_data.index],\n",
    "                        ) ], ),]),\n",
    "                    ],className=\"mt-0 shadow\",) ,className=\"mt-2 shadow\",\n",
    "                style={ }\n",
    "                \n",
    "                ) ],className=\"mt-0 shadow\",style={\"height\":\"100%\", 'padding-right':'0px'} )  ], style = {\"margin\":\"0px\", 'padding-right':'0px'} ,width= 4, )"
   ]
  },
  {
   "cell_type": "code",
   "execution_count": 45,
   "metadata": {},
   "outputs": [],
   "source": [
    "dropdown = \\\n",
    "dbc.Col([\n",
    "    dbc.CardGroup(\n",
    "        [\n",
    "        dbc.Card(\n",
    "            dbc.CardBody(\n",
    "                [\n",
    "                dbc.Row([\n",
    "                    # First column\n",
    "                    dbc.Col([\n",
    "                    html.H6(\"Year\",\n",
    "                            style={\"font-family\":\"Helvetica\",\n",
    "                                   \"padding-top\":\"5px\",\"font-size\":\"20px\",\n",
    "                                   \"margin-top\":'1px', \"color\":\"#1C4E80\",\n",
    "                                    \"width\":\"100%\",\"text-align\":\"left\" } # style \n",
    "                            ), # html.H6\n",
    "                    ],), # dbc.Col\n",
    "        # Second column            \n",
    "        dbc.Col([\n",
    "                    dcc.Dropdown(\n",
    "                    id=\"year\",\n",
    "                    options=[{'label':pyramid_data[\"Year\"].iloc[i] ,\n",
    "                                         'value':i ,}\n",
    "                    for i in  pyramid_data.index],)   ],width=10), # dcc.Dropdown\n",
    "        ]) # dbc.Row\n",
    "\n",
    "            ],className=\"mt-0 shadow\",) ,className=\"mt-2 shadow\",\n",
    "               ) ], # dbc.CardBody\n",
    "        className=\"mt-0 shadow\",style={\"width\":\"100%\",\"height\":\"90%\", 'padding-right':'0px'} )# dbc.Card\n",
    "    ], style = {\"margin-right\":\"10px\", 'padding-right':'0px'} , ) # dbc.CardGroup"
   ]
  },
  {
   "cell_type": "code",
   "execution_count": 46,
   "metadata": {},
   "outputs": [],
   "source": [
    "card1 = \\\n",
    "dbc.Col([\n",
    "    dbc.CardGroup(\n",
    "        [\n",
    "            dbc.Card(\n",
    "                dbc.CardBody([ban_11]),\n",
    "                style= {'height':'222px',\"width\":\"100%\"},\n",
    "            ),\n",
    "\n",
    "        ],\n",
    "        className=\"mt-2 shadow\", id='ban_1'\n",
    "    )\n",
    "],)\n",
    "\n",
    "card2 = \\\n",
    "dbc.Col([\n",
    "    dbc.CardGroup(\n",
    "        [\n",
    "            dbc.Card(\n",
    "                dbc.CardBody([ban_2]),\n",
    "                style= {'height':'222px'},\n",
    "            ),\n",
    "\n",
    "        ],\n",
    "        className=\"mt-2 shadow\", id='ban2card'\n",
    "    )\n",
    "], )\n",
    "\n",
    "slider_ban =  dbc.Row([ dbc.Col([dbc.Row([dropdown]) ,dbc.Row([card1, card2],\n",
    "                                                              \n",
    "                                                              ), ],  ) ], style={  'margin-left':'4px'})\n",
    "cards = dbc.Row([ dbc.Col([ slider_ban ] ) ,\n",
    "                 \n",
    "                dbc.Col([graph1 ],style={ \"margin-bottom\":\"10px\" }) ], )"
   ]
  },
  {
   "cell_type": "code",
   "execution_count": 47,
   "metadata": {},
   "outputs": [],
   "source": [
    "title_style ={\"font-family\": \"Helvetica\",\"text-align\":\"left\",\"color\":\"black\",\"font-size\":\"30px\", 'padding-left':'10px'}\n",
    "china_flag = \"https://upload.wikimedia.org/wikipedia/commons/f/fa/Flag_of_the_People%27s_Republic_of_China.svg\"\n",
    "title = \\\n",
    "dbc.Row([    \n",
    "    dbc.Col([        \n",
    "    dbc.CardGroup([\n",
    "                dbc.Card(\n",
    "                    dbc.CardBody([dbc.Row([\n",
    "                        dbc.Col([\n",
    "                        html.Img(src=china_flag, style={'height':'40px', 'width':'60px'}), ], width=1),\n",
    "                        dbc.Col([\n",
    "                        html.H1(\" China's Demographics is a Ticking Time Bomb\", style=title_style), ]),\n",
    "                        #add china flag\n",
    "                        \n",
    "                        ])\n",
    "                                ]))  ],\n",
    "                style = {'margin-left':'0px','margin-right':'0px','margin-up':'0px', 'margin-top':'0px',\"text-align\":\"center\", 'padding-right':'0px'},\n",
    "                className=\"mt-0 shadow\") ], width=11, style={'padding-right':'0px'}) ,\n",
    "\n",
    "    dbc.Col([        \n",
    "    dbc.CardGroup([\n",
    "                dbc.Card(\n",
    "                    dbc.CardBody([dbc.Row([\n",
    "                        html.A(html.I(className=\"fab fa-github\", style={\"color\":\n",
    "                            \"black\", \"font-size\": \"30px\"}),\n",
    "                            href=\"https://github.com/Elghandour-eng/Plotly-Dash\",\n",
    "                            style={\"color\": \"white\", \"font-size\": \"30px\"}, ),])\n",
    "                                ] )  )],\n",
    "                style = {'margin-left':'0px',\n",
    "                        'margin-right':'0px','margin-up':'0px', \n",
    "                        'margin-top':'0px',\n",
    "                        \"text-align\":\"center\", 'padding-right':'0px', 'padding-left':'0px'},\n",
    "                        className=\"mt-0 shadow\") \n",
    "                                                    ], style={'padding-left':'0px', 'width':'5%'}) ,\n",
    "                                                        ])"
   ]
  },
  {
   "cell_type": "code",
   "execution_count": 48,
   "metadata": {},
   "outputs": [],
   "source": [
    "header = dbc.Row([dbc.Col([html.H1(\"China's Demographics is a Ticking Time Bomb\", style=title_style)], width=11, ),\n",
    "             dbc.Col([html.A(html.I(className=\"fab fa-github\", style={\"color\":\n",
    "                            \"black\", \"font-size\": \"30px\"}),\n",
    "                            href=\"https://github.com/Elghandour-eng/Plotly-Dash\",\n",
    "                            style={\"color\": \"white\", \"font-size\": \"30px\", 'text-align':'right'}, )], width=1)\n",
    "], style={'margin-top':'20px', 'margin-right':'1px','margin-left':'10px'})"
   ]
  },
  {
   "cell_type": "code",
   "execution_count": 49,
   "metadata": {},
   "outputs": [
    {
     "data": {
      "text/html": [
       "<div>\n",
       "<style scoped>\n",
       "    .dataframe tbody tr th:only-of-type {\n",
       "        vertical-align: middle;\n",
       "    }\n",
       "\n",
       "    .dataframe tbody tr th {\n",
       "        vertical-align: top;\n",
       "    }\n",
       "\n",
       "    .dataframe thead th {\n",
       "        text-align: right;\n",
       "    }\n",
       "</style>\n",
       "<table border=\"1\" class=\"dataframe\">\n",
       "  <thead>\n",
       "    <tr style=\"text-align: right;\">\n",
       "      <th></th>\n",
       "      <th>Year</th>\n",
       "      <th>Population</th>\n",
       "      <th>Annual Growth Rate</th>\n",
       "      <th>Births per 1000 People</th>\n",
       "      <th>Deaths per 1000 People</th>\n",
       "      <th>Male Percentage</th>\n",
       "      <th>Female Percentage</th>\n",
       "      <th>Gender ratio at birth M/F</th>\n",
       "      <th>Population Above 65 Percentage</th>\n",
       "      <th>Net Migration</th>\n",
       "      <th>Infant Mortality Rate</th>\n",
       "      <th>Fertility Rate</th>\n",
       "      <th>Age Dependency Ratio</th>\n",
       "      <th>Urban Population Percentage</th>\n",
       "      <th>Rural Population Percentage</th>\n",
       "    </tr>\n",
       "  </thead>\n",
       "  <tbody>\n",
       "    <tr>\n",
       "      <th>0</th>\n",
       "      <td>1969</td>\n",
       "      <td>796025000</td>\n",
       "      <td>2.74000210569558</td>\n",
       "      <td>34.1100</td>\n",
       "      <td>8.0300</td>\n",
       "      <td>50.959032</td>\n",
       "      <td>49.040968</td>\n",
       "      <td>1.0630</td>\n",
       "      <td>3.687490</td>\n",
       "      <td>-72835</td>\n",
       "      <td>83.4</td>\n",
       "      <td>6.1750</td>\n",
       "      <td>80.961979</td>\n",
       "      <td>17.528</td>\n",
       "      <td>82.472</td>\n",
       "    </tr>\n",
       "    <tr>\n",
       "      <th>1</th>\n",
       "      <td>1970</td>\n",
       "      <td>818315000</td>\n",
       "      <td>2.76167556645304</td>\n",
       "      <td>33.4300</td>\n",
       "      <td>7.6000</td>\n",
       "      <td>50.954552</td>\n",
       "      <td>49.045448</td>\n",
       "      <td>1.0640</td>\n",
       "      <td>3.712521</td>\n",
       "      <td>-126514</td>\n",
       "      <td>79.7</td>\n",
       "      <td>6.0850</td>\n",
       "      <td>80.524027</td>\n",
       "      <td>17.400</td>\n",
       "      <td>82.600</td>\n",
       "    </tr>\n",
       "    <tr>\n",
       "      <th>2</th>\n",
       "      <td>1971</td>\n",
       "      <td>841105000</td>\n",
       "      <td>2.74691554961857</td>\n",
       "      <td>30.6500</td>\n",
       "      <td>7.3200</td>\n",
       "      <td>50.952559</td>\n",
       "      <td>49.047441</td>\n",
       "      <td>1.0640</td>\n",
       "      <td>3.743416</td>\n",
       "      <td>-180202</td>\n",
       "      <td>76.0</td>\n",
       "      <td>5.5230</td>\n",
       "      <td>80.188208</td>\n",
       "      <td>17.292</td>\n",
       "      <td>82.708</td>\n",
       "    </tr>\n",
       "    <tr>\n",
       "      <th>3</th>\n",
       "      <td>1972</td>\n",
       "      <td>862030000</td>\n",
       "      <td>2.45735692952286</td>\n",
       "      <td>29.7700</td>\n",
       "      <td>7.6100</td>\n",
       "      <td>50.951571</td>\n",
       "      <td>49.048429</td>\n",
       "      <td>1.0640</td>\n",
       "      <td>3.777798</td>\n",
       "      <td>-215730</td>\n",
       "      <td>72.5</td>\n",
       "      <td>5.1120</td>\n",
       "      <td>79.481177</td>\n",
       "      <td>17.184</td>\n",
       "      <td>82.816</td>\n",
       "    </tr>\n",
       "    <tr>\n",
       "      <th>4</th>\n",
       "      <td>1973</td>\n",
       "      <td>881940000</td>\n",
       "      <td>2.28339536396383</td>\n",
       "      <td>27.9300</td>\n",
       "      <td>7.0400</td>\n",
       "      <td>50.950011</td>\n",
       "      <td>49.049989</td>\n",
       "      <td>1.0640</td>\n",
       "      <td>3.821944</td>\n",
       "      <td>-215090</td>\n",
       "      <td>68.9</td>\n",
       "      <td>4.7260</td>\n",
       "      <td>78.831239</td>\n",
       "      <td>17.184</td>\n",
       "      <td>82.816</td>\n",
       "    </tr>\n",
       "    <tr>\n",
       "      <th>...</th>\n",
       "      <td>...</td>\n",
       "      <td>...</td>\n",
       "      <td>...</td>\n",
       "      <td>...</td>\n",
       "      <td>...</td>\n",
       "      <td>...</td>\n",
       "      <td>...</td>\n",
       "      <td>...</td>\n",
       "      <td>...</td>\n",
       "      <td>...</td>\n",
       "      <td>...</td>\n",
       "      <td>...</td>\n",
       "      <td>...</td>\n",
       "      <td>...</td>\n",
       "      <td>...</td>\n",
       "    </tr>\n",
       "    <tr>\n",
       "      <th>77</th>\n",
       "      <td>2046</td>\n",
       "      <td>1324005376</td>\n",
       "      <td>NaN</td>\n",
       "      <td>7.4216</td>\n",
       "      <td>12.2698</td>\n",
       "      <td>50.596529</td>\n",
       "      <td>49.403471</td>\n",
       "      <td>1.0618</td>\n",
       "      <td>28.244694</td>\n",
       "      <td>-309858</td>\n",
       "      <td>5.1</td>\n",
       "      <td>1.3694</td>\n",
       "      <td>65.396339</td>\n",
       "      <td>78.668</td>\n",
       "      <td>21.332</td>\n",
       "    </tr>\n",
       "    <tr>\n",
       "      <th>78</th>\n",
       "      <td>2047</td>\n",
       "      <td>1316440704</td>\n",
       "      <td>NaN</td>\n",
       "      <td>7.2902</td>\n",
       "      <td>12.5086</td>\n",
       "      <td>50.600078</td>\n",
       "      <td>49.399922</td>\n",
       "      <td>1.0616</td>\n",
       "      <td>28.734824</td>\n",
       "      <td>-309950</td>\n",
       "      <td>5.1</td>\n",
       "      <td>1.3748</td>\n",
       "      <td>66.910389</td>\n",
       "      <td>79.015</td>\n",
       "      <td>20.985</td>\n",
       "    </tr>\n",
       "    <tr>\n",
       "      <th>79</th>\n",
       "      <td>2048</td>\n",
       "      <td>1308359168</td>\n",
       "      <td>NaN</td>\n",
       "      <td>7.1588</td>\n",
       "      <td>12.7474</td>\n",
       "      <td>50.605175</td>\n",
       "      <td>49.394825</td>\n",
       "      <td>1.0614</td>\n",
       "      <td>29.194070</td>\n",
       "      <td>-309963</td>\n",
       "      <td>5.1</td>\n",
       "      <td>1.3802</td>\n",
       "      <td>68.333875</td>\n",
       "      <td>79.356</td>\n",
       "      <td>20.644</td>\n",
       "    </tr>\n",
       "    <tr>\n",
       "      <th>80</th>\n",
       "      <td>2049</td>\n",
       "      <td>1299769472</td>\n",
       "      <td>NaN</td>\n",
       "      <td>7.0274</td>\n",
       "      <td>12.9862</td>\n",
       "      <td>50.611380</td>\n",
       "      <td>49.388620</td>\n",
       "      <td>1.0612</td>\n",
       "      <td>29.602871</td>\n",
       "      <td>-309963</td>\n",
       "      <td>5.1</td>\n",
       "      <td>1.3856</td>\n",
       "      <td>69.596951</td>\n",
       "      <td>79.694</td>\n",
       "      <td>20.306</td>\n",
       "    </tr>\n",
       "    <tr>\n",
       "      <th>81</th>\n",
       "      <td>2050</td>\n",
       "      <td>1290472576</td>\n",
       "      <td>NaN</td>\n",
       "      <td>6.8960</td>\n",
       "      <td>13.2250</td>\n",
       "      <td>50.618315</td>\n",
       "      <td>49.381685</td>\n",
       "      <td>1.0610</td>\n",
       "      <td>30.090291</td>\n",
       "      <td>-309963</td>\n",
       "      <td>5.1</td>\n",
       "      <td>1.3910</td>\n",
       "      <td>71.055869</td>\n",
       "      <td>80.028</td>\n",
       "      <td>19.972</td>\n",
       "    </tr>\n",
       "  </tbody>\n",
       "</table>\n",
       "<p>82 rows × 15 columns</p>\n",
       "</div>"
      ],
      "text/plain": [
       "    Year  Population Annual Growth Rate  Births per 1000 People  \\\n",
       "0   1969   796025000   2.74000210569558                 34.1100   \n",
       "1   1970   818315000   2.76167556645304                 33.4300   \n",
       "2   1971   841105000   2.74691554961857                 30.6500   \n",
       "3   1972   862030000   2.45735692952286                 29.7700   \n",
       "4   1973   881940000   2.28339536396383                 27.9300   \n",
       "..   ...         ...                ...                     ...   \n",
       "77  2046  1324005376                NaN                  7.4216   \n",
       "78  2047  1316440704                NaN                  7.2902   \n",
       "79  2048  1308359168                NaN                  7.1588   \n",
       "80  2049  1299769472                NaN                  7.0274   \n",
       "81  2050  1290472576                NaN                  6.8960   \n",
       "\n",
       "    Deaths per 1000 People  Male Percentage  Female Percentage  \\\n",
       "0                   8.0300        50.959032          49.040968   \n",
       "1                   7.6000        50.954552          49.045448   \n",
       "2                   7.3200        50.952559          49.047441   \n",
       "3                   7.6100        50.951571          49.048429   \n",
       "4                   7.0400        50.950011          49.049989   \n",
       "..                     ...              ...                ...   \n",
       "77                 12.2698        50.596529          49.403471   \n",
       "78                 12.5086        50.600078          49.399922   \n",
       "79                 12.7474        50.605175          49.394825   \n",
       "80                 12.9862        50.611380          49.388620   \n",
       "81                 13.2250        50.618315          49.381685   \n",
       "\n",
       "    Gender ratio at birth M/F  Population Above 65 Percentage  Net Migration  \\\n",
       "0                      1.0630                        3.687490         -72835   \n",
       "1                      1.0640                        3.712521        -126514   \n",
       "2                      1.0640                        3.743416        -180202   \n",
       "3                      1.0640                        3.777798        -215730   \n",
       "4                      1.0640                        3.821944        -215090   \n",
       "..                        ...                             ...            ...   \n",
       "77                     1.0618                       28.244694        -309858   \n",
       "78                     1.0616                       28.734824        -309950   \n",
       "79                     1.0614                       29.194070        -309963   \n",
       "80                     1.0612                       29.602871        -309963   \n",
       "81                     1.0610                       30.090291        -309963   \n",
       "\n",
       "    Infant Mortality Rate  Fertility Rate  Age Dependency Ratio  \\\n",
       "0                    83.4          6.1750             80.961979   \n",
       "1                    79.7          6.0850             80.524027   \n",
       "2                    76.0          5.5230             80.188208   \n",
       "3                    72.5          5.1120             79.481177   \n",
       "4                    68.9          4.7260             78.831239   \n",
       "..                    ...             ...                   ...   \n",
       "77                    5.1          1.3694             65.396339   \n",
       "78                    5.1          1.3748             66.910389   \n",
       "79                    5.1          1.3802             68.333875   \n",
       "80                    5.1          1.3856             69.596951   \n",
       "81                    5.1          1.3910             71.055869   \n",
       "\n",
       "    Urban Population Percentage  Rural Population Percentage  \n",
       "0                        17.528                       82.472  \n",
       "1                        17.400                       82.600  \n",
       "2                        17.292                       82.708  \n",
       "3                        17.184                       82.816  \n",
       "4                        17.184                       82.816  \n",
       "..                          ...                          ...  \n",
       "77                       78.668                       21.332  \n",
       "78                       79.015                       20.985  \n",
       "79                       79.356                       20.644  \n",
       "80                       79.694                       20.306  \n",
       "81                       80.028                       19.972  \n",
       "\n",
       "[82 rows x 15 columns]"
      ]
     },
     "execution_count": 49,
     "metadata": {},
     "output_type": "execute_result"
    }
   ],
   "source": [
    "df"
   ]
  },
  {
   "cell_type": "code",
   "execution_count": 50,
   "metadata": {
    "tags": []
   },
   "outputs": [
    {
     "name": "stdout",
     "output_type": "stream",
     "text": [
      "Dash app running on http://127.0.0.1:8050/\n"
     ]
    }
   ],
   "source": [
    "app = JupyterDash('asffa',external_stylesheets=[dbc.themes.BOOTSTRAP, 'https://use.fontawesome.com/releases/v5.8.1/css/all.css'] )\n",
    "\n",
    "server = app.server\n",
    " # call back to update fig_py when year is changed\n",
    "app.layout = \\\n",
    "html.Div([\n",
    "    title,\n",
    "    #header,\n",
    "    cards,\n",
    "    cards_2nd,\n",
    "    html.Audio(src='https://cdn.pixabay.com/download/audio/2023/03/23/audio_42813beda9.mp3?filename=mystical-guzheng-journey-143598.mp3', autoPlay=False, controls=True, loop=False),\n",
    "\n",
    "   # bans,\n",
    "    #dropdown,    \n",
    "], id='main div')\n",
    "\n",
    "@app.callback(\n",
    "    [Output(component_id='figure1', component_property='figure'), \n",
    "     Output(component_id='ban11', component_property='children'),\n",
    "     Output(component_id='ban_2', component_property='children'),],\n",
    "    Input(component_id='year', component_property='value')\n",
    ")\n",
    "\n",
    "def update_figure(year):\n",
    "    if year == None:\n",
    "        raise PreventUpdate\n",
    "    else:\n",
    "        ban_11 = html.Div([dbc.Col([\n",
    "            dbc.Row([    \n",
    "                html.H6(f\"Total Population\", style={\"font-family\": \"Helvetica\",\"text-align\":\"center\",\"font-size\":\"25px\"})\n",
    "            ]),\n",
    "            dbc.Row([\n",
    "                html.H6(f\"{round(df['Population'].iloc[year]/1000000)}M\", style=ban_style)\n",
    "            ]),\n",
    "            dbc.Row([\n",
    "                html.H6(f\"Annual Change\", style={\"font-family\": \"Helvetica\",\"text-align\":\"center\",\"font-size\":\"15px\",\"padding-top\":'5px', 'margin=bottom':\n",
    "                                                '1px'}),\n",
    "            ]),\n",
    "            dbc.Row([\n",
    "                html.H6(f\"{round((df['Population'].iloc[year] - df['Population'].iloc[year-1])/1000 )}k\", style={\"font-family\": \"Helvetica\",\"text-align\":\"center\",\"font-size\":\"35px\", \"padding-top\":'0px', \"color\":\"#1C4E80\"}),\n",
    "            ])\n",
    "        ])\n",
    "    ], id='ban_1')\n",
    "        ban_2 = html.Div([dbc.Col([\n",
    "            dbc.Row([    \n",
    "                html.H6(f\"Excess Males\", style={\"font-family\": \"Helvetica\",\"text-align\":\"center\",\"font-size\":\"25px\"})\n",
    "            ]),\n",
    "            dbc.Row([\n",
    "                html.H6(f\"{round((df['Male Percentage'].iloc[year] - 50) *0.01*df['Population'].iloc[year] / 1000000)}M\", style=ban_style)\n",
    "            ]),\n",
    "            dbc.Row([\n",
    "                html.H6(f\"Gender Ratio at Birth\", style={\"font-family\": \"Helvetica\",\"text-align\":\"center\",\"font-size\":\"15px\",\"padding-top\":'5px', 'margin=bottom':\n",
    "                                                '1px'}),\n",
    "            ]),\n",
    "            dbc.Row([\n",
    "                html.H6(f\"{df['Gender ratio at birth M/F'].iloc[year]} M/F\", style={\"font-family\": \"Helvetica\",\"text-align\":\"center\",\"font-size\":\"35px\", \"padding-top\":'0px', \"color\":\"#1C4E80\"}),\n",
    "            ])\n",
    "        ])\n",
    "    ], id='ban22')\n",
    "\n",
    "        # Create the trace for the male data\n",
    "        trace_male = go.Bar(\n",
    "            x=-pyramid_data.iloc[:,22:].iloc[year],\n",
    "            y=pyramid_data.columns[22:].str.replace('Male',''), # to make data in the same order and same name\n",
    "            orientation='h',\n",
    "            name='Male',\n",
    "            marker=dict(),\n",
    "            #hover data\n",
    "            #make hover with positive value by adding - to x\n",
    "            hovertemplate='%{y} %{x} <extra></extra>',\n",
    "        )\n",
    "\n",
    "        # Create the trace for the female data\n",
    "        trace_female = go.Bar(\n",
    "            x=pyramid_data.iloc[:,1:22].iloc[year],\n",
    "            y=pyramid_data.columns[1:22].str.replace('Female',''), # to make data in the same order and same name\n",
    "            orientation='h',\n",
    "            name='Female',\n",
    "            marker=dict(),\n",
    "            hovertemplate='%{y} %{x} <extra></extra>',\n",
    "\n",
    "\n",
    "        )\n",
    "\n",
    "        # Combine the traces into a single figure\n",
    "        fig_py = go.Figure(data=[trace_male, trace_female])\n",
    "\n",
    "\n",
    "        fig_py.update_layout(\n",
    "            title=f'China\\'s Population is Rapidly Aging',\n",
    "            xaxis_title='Population',\n",
    "            #yaxis_title='Age Group',\n",
    "            barmode='relative',\n",
    "            bargap=.1,\n",
    "            width=280,\n",
    "            height=300,\n",
    "            margin=dict(l=20, r=1, t=50, b=50),\n",
    "            template=THEME,\n",
    "            xaxis_range=[-70000000,70000000],\n",
    "            xaxis=go.layout.XAxis(\n",
    "                tickvals=[-60000000, -40000000, -20000000, 0, 20000000, 40000000, 60000000],                      \n",
    "                ticktext=[\"60M\", \"40M\", \"20M\", \"0\", \"20M\", \"40M\", '60M']\n",
    "            ),\n",
    "\n",
    "\n",
    "            updatemenus=[dict(\n",
    "                type='buttons',\n",
    "                showactive=False,\n",
    "                buttons=[\n",
    "                    dict(\n",
    "                        label='Play',\n",
    "                        method='animate',\n",
    "                        args=[None, dict(\n",
    "                            frame=dict(duration=300, redraw=True),\n",
    "                            fromcurrent=True,\n",
    "                            mode='immediate'\n",
    "                        )]\n",
    "                    ),\n",
    "                     dict(\n",
    "                        label='Pause',\n",
    "                        method='animate',\n",
    "                        args=[[None], dict(\n",
    "                            frame=dict(duration=0, redraw=True),\n",
    "                            mode='immediate'\n",
    "                        )]\n",
    "                    ),\n",
    "\n",
    "                ], x=0.25, y=1.1,\n",
    "\n",
    "        #         buttons=[dict(\n",
    "        #             label='Play',\n",
    "        #             method='animate',\n",
    "        #             args=[None, dict(\n",
    "        #                 frame=dict(duration=500, redraw=True),\n",
    "        #                 fromcurrent=True,\n",
    "        #                 mode='immediate'\n",
    "        #             )]\n",
    "\n",
    "        #         )]\n",
    "            )],\n",
    "            annotations=[\n",
    "                dict(\n",
    "                    x=0.9,\n",
    "                    y=1,\n",
    "                    xref='paper',\n",
    "                    yref='paper',\n",
    "                    text=f'Year: {pyramid_data.iloc[:,0].iloc[year]}',\n",
    "                    showarrow=False\n",
    "                ),\n",
    "                 dict(\n",
    "                    x=-0.1,\n",
    "                    y=1.1,\n",
    "                    xref='paper',\n",
    "                    yref='paper',\n",
    "                    text='age',\n",
    "                    showarrow=False\n",
    "                )\n",
    "\n",
    "            ]\n",
    "        )\n",
    "        # Set x axis range and keep it constant\n",
    "        fig_py.update_xaxes(range=[-70_000_000, 70_000_000])\n",
    "        fig_py.update_layout(legend=dict(orientation=\"h\", yanchor=\"bottom\", y=1, xanchor=\"right\", x=0.9,\n",
    "                                            traceorder=\"normal\", font=dict(size=12,), ),) \n",
    "\n",
    "        # Add frames\n",
    "        frames = []\n",
    "        for i, year in enumerate(pyramid_data.Year):\n",
    "            frame = go.Frame(\n",
    "                data=[\n",
    "\n",
    "                    go.Bar(\n",
    "                        x=-pyramid_data.iloc[i,22:],\n",
    "                        y=pyramid_data.columns[22:].str.replace('Male',''), # to make data in the same order and same name\n",
    "                        orientation='h',\n",
    "                        name='Male',\n",
    "                        marker=dict(),\n",
    "                        #hover data\n",
    "                        #make hover with positive value by adding - to x\n",
    "                        hovertemplate='%{y} %{x} <extra></extra>',\n",
    "                    ),\n",
    "                    go.Bar(\n",
    "                            x=pyramid_data.iloc[i,1:22],\n",
    "                            y=pyramid_data.columns[1:22].str.replace('Female',''), # to make data in the same order and same name\n",
    "                            orientation='h',\n",
    "                            name='Female',\n",
    "                            marker=dict(),\n",
    "                            hovertemplate='%{y} %{x} <extra></extra>',\n",
    "                    )\n",
    "                ],\n",
    "                name=str(year)[:4],\n",
    "                layout = go.Layout(annotations = [dict(\n",
    "                                                    x=0.9,\n",
    "                                                    y=1,\n",
    "                                                    xref='paper',\n",
    "                                                    yref='paper',\n",
    "                                                    text=f'Year: {str(year)[:4]}',\n",
    "                                                    showarrow=False\n",
    "                                                    ),\n",
    "                                                     dict(\n",
    "                                                        x=-0.1,\n",
    "                                                        y=1.1,\n",
    "                                                        xref='paper',\n",
    "                                                        yref='paper',\n",
    "                                                        text='age',\n",
    "                                                        showarrow=False\n",
    "                                                    )]\n",
    "                                  )\n",
    "\n",
    "\n",
    "            )\n",
    "            frames.append(frame)\n",
    "\n",
    "        # Add frames to figure\n",
    "        fig_py.frames = frames\n",
    "    \n",
    "    return fig_py, ban_11, ban_2\n",
    "\n",
    "app.run_server()"
   ]
  }
 ],
 "metadata": {
  "kernelspec": {
   "display_name": "Python 3 (ipykernel)",
   "language": "python",
   "name": "python3"
  },
  "language_info": {
   "codemirror_mode": {
    "name": "ipython",
    "version": 3
   },
   "file_extension": ".py",
   "mimetype": "text/x-python",
   "name": "python",
   "nbconvert_exporter": "python",
   "pygments_lexer": "ipython3",
   "version": "3.8.8"
  }
 },
 "nbformat": 4,
 "nbformat_minor": 4
}
